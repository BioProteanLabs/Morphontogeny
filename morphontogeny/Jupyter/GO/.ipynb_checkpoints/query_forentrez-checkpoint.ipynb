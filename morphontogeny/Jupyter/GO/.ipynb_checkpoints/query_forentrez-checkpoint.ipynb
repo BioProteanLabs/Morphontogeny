{
 "cells": [
  {
   "cell_type": "markdown",
   "metadata": {},
   "source": [
    "# Query gene entrez by symbol\n",
    "This function takes a list of gene symbols and returns a list of entrez ids."
   ]
  },
  {
   "cell_type": "code",
   "execution_count": 50,
   "metadata": {},
   "outputs": [],
   "source": [
    "def query_entrez_func(symbol_list):\n",
    "    import mygene\n",
    "    mg = mygene.MyGeneInfo()\n",
    "    out = mg.querymany(symbol_list, scopes='symbol', fields='entrezgene', species='human')\n",
    "    entrez_list = [int(out[i]['entrezgene']) for i in range(len(symbol_list))]\n",
    "    return entrez_list"
   ]
  }
 ],
 "metadata": {
  "kernelspec": {
   "display_name": "Py3-basic",
   "language": "python",
   "name": "python3"
  },
  "language_info": {
   "codemirror_mode": {
    "name": "ipython",
    "version": 3
   },
   "file_extension": ".py",
   "mimetype": "text/x-python",
   "name": "python",
   "nbconvert_exporter": "python",
   "pygments_lexer": "ipython3",
   "version": "3.7.2"
  }
 },
 "nbformat": 4,
 "nbformat_minor": 2
}
