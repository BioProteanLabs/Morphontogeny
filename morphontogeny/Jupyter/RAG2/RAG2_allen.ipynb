{
 "cells": [
  {
   "cell_type": "markdown",
   "metadata": {},
   "source": [
    "# Warping RAG2 average brain to Allen Brain template"
   ]
  },
  {
   "cell_type": "markdown",
   "metadata": {},
   "source": [
    "**Checking the space and views of allen template and annotation**"
   ]
  },
  {
   "cell_type": "code",
   "execution_count": 3,
   "metadata": {},
   "outputs": [
    {
     "name": "stdout",
     "output_type": "stream",
     "text": [
      "ASL\t0.050000\t0.050000\t0.050000\t-0.000000\t0.000000\t0.000000\tORIG\n",
      "RAI\t0.050000\t0.050000\t0.050000\t6568.425293\t3971.025146\t5669.325195\tORIG\n"
     ]
    },
    {
     "name": "stderr",
     "output_type": "stream",
     "text": [
      "3dinfo: /packages/7x/anaconda3/5.3.0/lib/libuuid.so.1: no version information available (required by /lib64/libSM.so.6)\n",
      "3dinfo: /packages/7x/anaconda3/5.3.0/lib/libuuid.so.1: no version information available (required by /lib64/libSM.so.6)\n"
     ]
    }
   ],
   "source": [
    "%%bash\n",
    "module load afni/20.1.11\n",
    "cd /data/bioprotean/RAG2/AVG/CCF/\n",
    "3dinfo -orient -ad3 -o3 -space allen_brain50.nii\n",
    "3dinfo -orient -ad3 -o3 -space allen_annot50.nii"
   ]
  },
  {
   "cell_type": "markdown",
   "metadata": {},
   "source": [
    "**Allen brain template header file is correct, applying same changes to annotation**"
   ]
  },
  {
   "cell_type": "code",
   "execution_count": 4,
   "metadata": {},
   "outputs": [
    {
     "name": "stderr",
     "output_type": "stream",
     "text": [
      "3drefit: /packages/7x/anaconda3/5.3.0/lib/libuuid.so.1: no version information available (required by /lib64/libSM.so.6)\n",
      "++ 3drefit: AFNI version=AFNI_20.1.11 (May 28 2020) [64-bit]\n",
      "++ Authored by: RW Cox\n",
      "++ Processing AFNI dataset /data/bioprotean/RAG2/AVG/CCF/allen_annot50.nii\n",
      " + deoblique\n",
      " + loading and re-writing dataset /data/bioprotean/RAG2/AVG/CCF/allen_annot50.nii (/data/bioprotean/RAG2/AVG/CCF/allen_annot50.nii in NIFTI storage)\n",
      "++ 3drefit processed 1 datasets\n",
      "3drefit: /packages/7x/anaconda3/5.3.0/lib/libuuid.so.1: no version information available (required by /lib64/libSM.so.6)\n",
      "++ 3drefit: AFNI version=AFNI_20.1.11 (May 28 2020) [64-bit]\n",
      "++ Authored by: RW Cox\n",
      "++ Processing AFNI dataset /data/bioprotean/RAG2/AVG/CCF/allen_annot50.nii\n",
      " + changing orientation codes\n",
      " + loading and re-writing dataset /data/bioprotean/RAG2/AVG/CCF/allen_annot50.nii (/data/bioprotean/RAG2/AVG/CCF/allen_annot50.nii in NIFTI storage)\n",
      "++ 3drefit processed 1 datasets\n"
     ]
    }
   ],
   "source": [
    "%%bash\n",
    "module load afni/20.1.11\n",
    "input=/data/bioprotean/RAG2/AVG/CCF/allen_annot50.nii\n",
    "3drefit -xorigin 0 -yorigin 0 -zorigin 0 $input\n",
    "3drefit -orient ASL $input"
   ]
  },
  {
   "cell_type": "markdown",
   "metadata": {},
   "source": [
    "**Origin and orient of annotation file have been corrected.\n",
    "<br>Warping the RAG2 average brain to Allen Brain template.**"
   ]
  },
  {
   "cell_type": "code",
   "execution_count": null,
   "metadata": {},
   "outputs": [],
   "source": [
    "%%bash\n",
    "module load afni/20.1.11\n",
    "cd /data/bioprotean/RAG2/AVG/CCF/\n",
    "@animal_warper -base allen_brain50.nii -input RAG2_avg75.nii -ok_to_exist -outdir warp"
   ]
  },
  {
   "cell_type": "markdown",
   "metadata": {},
   "source": [
    "**Results of @animal_warper function was not good!\n",
    "<br>Trying the auto_warp function.**"
   ]
  },
  {
   "cell_type": "code",
   "execution_count": null,
   "metadata": {},
   "outputs": [],
   "source": [
    "%%bash\n",
    "module load afni/20.1.11\n",
    "cd /data/bioprotean/RAG2/AVG/CCF/\n",
    "base=allen_brain50.nii\n",
    "input=RAG2_avg75.nii\n",
    "auto_warp.py \\\n",
    "    -base $base \\\n",
    "    -input $input \\\n",
    "    -qworkhard 0 2 \\\n",
    "    -qw_opts -maxlev 09 -iwarp \\\n",
    "    -output_dir awp"
   ]
  },
  {
   "cell_type": "markdown",
   "metadata": {},
   "source": [
    "**auto_warp.py did not work, trying with the 75 um brain atlas\n",
    "<br>Checking and correcting the 75 um atlas info**"
   ]
  },
  {
   "cell_type": "code",
   "execution_count": 11,
   "metadata": {},
   "outputs": [
    {
     "name": "stdout",
     "output_type": "stream",
     "text": [
      "ASL\t0.075000\t0.075000\t0.075000\t0.012500\t0.000000\t-0.012500\tORIG\n",
      "ASL\t0.075000\t0.075000\t0.075000\t-0.000000\t0.000000\t0.000000\tORIG\n"
     ]
    },
    {
     "name": "stderr",
     "output_type": "stream",
     "text": [
      "3dinfo: /packages/7x/anaconda3/5.3.0/lib/libuuid.so.1: no version information available (required by /lib64/libSM.so.6)\n",
      "3dinfo: /packages/7x/anaconda3/5.3.0/lib/libuuid.so.1: no version information available (required by /lib64/libSM.so.6)\n"
     ]
    }
   ],
   "source": [
    "%%bash\n",
    "module load afni/20.1.11\n",
    "cd /data/bioprotean/RAG2/AVG/CCF/\n",
    "3dinfo -orient -ad3 -o3 -space allen_brain75.nii\n",
    "3dinfo -orient -ad3 -o3 -space allen_annot75.nii"
   ]
  },
  {
   "cell_type": "code",
   "execution_count": 12,
   "metadata": {},
   "outputs": [
    {
     "name": "stderr",
     "output_type": "stream",
     "text": [
      "3drefit: /packages/7x/anaconda3/5.3.0/lib/libuuid.so.1: no version information available (required by /lib64/libSM.so.6)\n",
      "++ 3drefit: AFNI version=AFNI_20.1.11 (May 28 2020) [64-bit]\n",
      "++ Authored by: RW Cox\n",
      "++ Processing AFNI dataset allen_annot75.nii\n",
      " + deoblique\n",
      " + loading and re-writing dataset allen_annot75.nii (/data/bioprotean/RAG2/AVG/CCF/allen_annot75.nii in NIFTI storage)\n",
      "++ 3drefit processed 1 datasets\n",
      "3drefit: /packages/7x/anaconda3/5.3.0/lib/libuuid.so.1: no version information available (required by /lib64/libSM.so.6)\n",
      "++ 3drefit: AFNI version=AFNI_20.1.11 (May 28 2020) [64-bit]\n",
      "++ Authored by: RW Cox\n",
      "++ Processing AFNI dataset allen_brain75.nii\n",
      " + deoblique\n",
      " + loading and re-writing dataset allen_brain75.nii (/data/bioprotean/RAG2/AVG/CCF/allen_brain75.nii in NIFTI storage)\n",
      "++ 3drefit processed 1 datasets\n"
     ]
    }
   ],
   "source": [
    "%%bash\n",
    "module load afni/20.1.11\n",
    "cd /data/bioprotean/RAG2/AVG/CCF/\n",
    "3drefit -xorigin 0 -yorigin 0 -zorigin 0 allen_annot75.nii\n",
    "3drefit -xorigin 0 -yorigin 0 -zorigin 0 allen_brain75.nii"
   ]
  },
  {
   "cell_type": "code",
   "execution_count": null,
   "metadata": {},
   "outputs": [],
   "source": [
    "%%bash\n",
    "module load afni/20.1.11\n",
    "cd /data/bioprotean/RAG2/AVG/CCF/\n",
    "base=allen_brain75.nii\n",
    "input=RAG2_avg75.nii\n",
    "auto_warp.py \\\n",
    "    -base $base \\\n",
    "    -input $input \\\n",
    "    -qworkhard 0 2 \\\n",
    "    -qw_opts -maxlev 09 -iwarp \\\n",
    "    -output_dir awp"
   ]
  },
  {
   "cell_type": "markdown",
   "metadata": {},
   "source": [
    "**Results not satisfying, trying 3dAllineate and then auto_warp.py**"
   ]
  },
  {
   "cell_type": "code",
   "execution_count": 14,
   "metadata": {},
   "outputs": [
    {
     "name": "stderr",
     "output_type": "stream",
     "text": [
      "3dAllineate: /packages/7x/anaconda3/5.3.0/lib/libuuid.so.1: no version information available (required by /lib64/libSM.so.6)\n",
      "++ 3dAllineate: AFNI version=AFNI_20.1.11 (May 28 2020) [64-bit]\n",
      "++ Authored by: Zhark the Registrator\n",
      "++ Source dataset: /data/bioprotean/RAG2/AVG/CCF/RAG2_avg75.nii\n",
      "++ Base dataset:   /data/bioprotean/RAG2/AVG/CCF/allen_brain75.nii\n",
      "++ Loading datasets into memory\n",
      "++ master dataset for output = base\n",
      "++ OpenMP thread count = 1\n",
      "++ ======= Allineation of 1 sub-bricks using Mutual Information [H(b)+H(s)-H(b,s)] =======\n",
      "++ *** Coarse pass begins ***\n",
      "++ *** Fine pass begins ***\n",
      " + Final fine fit Parameters:\n",
      "       x-shift= -1.4833   y-shift=-16.4596   z-shift=  8.3964  ...  enorm= 18.5369 mm\n",
      "       z-angle=  0.9604   x-angle=  2.2920   y-angle=  3.4090  ...  total=  4.2339 deg\n",
      "       x-scale=  0.9250   y-scale=  1.0335   z-scale=  0.8906  ...  vol3D=  0.8514 = base bigger than source\n",
      "     y/x-shear= -0.0708 z/x-shear= -0.0313 z/y-shear= -0.0426\n",
      "++ Output dataset ./RAG2_avg75_aff.nii\n",
      "++ Wrote -1Dmatrix_save 1DM.aff12.1D\n",
      "++ 3dAllineate: total CPU time = 0.0 sec  Elapsed = 339.0\n",
      "++ ###########################################################\n",
      "++ #   Please check results visually for alignment quality   #\n",
      "++ ###########################################################\n"
     ]
    }
   ],
   "source": [
    "%%bash\n",
    "module load afni/20.1.11\n",
    "cd /data/bioprotean/RAG2/AVG/CCF/\n",
    "3dAllineate \\\n",
    "    -base allen_brain75.nii \\\n",
    "    -source RAG2_avg75.nii \\\n",
    "    -1Dmatrix_save 1DM \\\n",
    "    -cmass -cost lpa -mi -twopass \\\n",
    "    -automask -num_rtb 2000 -warp affine_general \\\n",
    "    -prefix RAG2_avg75_aff.nii"
   ]
  },
  {
   "cell_type": "code",
   "execution_count": null,
   "metadata": {},
   "outputs": [],
   "source": [
    "%%bash\n",
    "module load afni/20.1.11\n",
    "cd /data/bioprotean/RAG2/AVG/CCF/\n",
    "base=allen_brain75.nii\n",
    "input=RAG2_avg75_aff.nii\n",
    "auto_warp.py \\\n",
    "    -base $base \\\n",
    "    -input $input \\\n",
    "    -skip_affine yes \\\n",
    "    -qworkhard 0 2 \\\n",
    "    -qw_opts -maxlev 09 -iwarp \\\n",
    "    -output_dir awp"
   ]
  },
  {
   "cell_type": "code",
   "execution_count": null,
   "metadata": {},
   "outputs": [],
   "source": []
  }
 ],
 "metadata": {
  "kernelspec": {
   "display_name": "Py3-basic",
   "language": "python",
   "name": "python3"
  },
  "language_info": {
   "codemirror_mode": {
    "name": "ipython",
    "version": 3
   },
   "file_extension": ".py",
   "mimetype": "text/x-python",
   "name": "python",
   "nbconvert_exporter": "python",
   "pygments_lexer": "ipython3",
   "version": "3.7.2"
  }
 },
 "nbformat": 4,
 "nbformat_minor": 2
}
