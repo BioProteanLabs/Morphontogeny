{
 "cells": [
  {
   "cell_type": "markdown",
   "metadata": {},
   "source": [
    "Testing the @animal_warper function for aligning the MKO template and Henkelman to Allen mouse brain template.\n",
    "Well, it works great!"
   ]
  },
  {
   "cell_type": "code",
   "execution_count": null,
   "metadata": {},
   "outputs": [],
   "source": [
    "%%bash\n",
    "module load afni/20.1.11\n",
    "cd /home/mabbasi6/morphometry/MKO_Morphometry/Allen/approach/tlrc/\n",
    "@animal_warper -base average_template_50+tlrc -input MWT_template_res.nii -ok_to_exist -outdir warp"
   ]
  },
  {
   "cell_type": "markdown",
   "metadata": {},
   "source": [
    "Next step is to apply the warps derived by the @animal_warper to the ttest results.\n",
    "Multiple warps can be catenated after the -nwarp."
   ]
  },
  {
   "cell_type": "code",
   "execution_count": 4,
   "metadata": {},
   "outputs": [
    {
     "name": "stderr",
     "output_type": "stream",
     "text": [
      "3dAllineate: /packages/7x/anaconda3/5.3.0/lib/libuuid.so.1: no version information available (required by /lib64/libSM.so.6)\n",
      "++ 3dAllineate: AFNI version=AFNI_20.1.11 (May 28 2020) [64-bit]\n",
      "++ Authored by: Zhark the Registrator\n",
      "++ Source dataset: /home/mabbasi6/morphometry/MWT_Morphometry/1_anmwp/1.nii.gz\n",
      "++ Base dataset:   (not given)\n",
      "++ Loading datasets into memory\n",
      " +        -cmass x y z shifts =    0.000    0.000    0.000\n",
      " +  shift search range is +/- =    3.611    5.609    2.745\n",
      "++ OpenMP thread count = 1\n",
      "++ ========== Applying transformation to 1 sub-bricks ==========\n",
      "++ Output dataset ./1_test_composite+orig.BRIK\n",
      "++ 3dAllineate: total CPU time = 0.0 sec  Elapsed = 2.2\n",
      "++ ###########################################################\n"
     ]
    }
   ],
   "source": [
    "%%bash\n",
    "module load afni/20.1.11\n",
    "cd /home/mabbasi6/morphometry/MWT_Morphometry/1_anmwp/\n",
    "3dAllineate \\\n",
    "    -master MWT_template.nii.gz \\\n",
    "    -source 1.nii.gz \\\n",
    "    -1Dmatrix_apply 1_composite_linear_to_template.1D \\\n",
    "    -prefix 1_test_composite"
   ]
  },
  {
   "cell_type": "code",
   "execution_count": 11,
   "metadata": {},
   "outputs": [
    {
     "name": "stderr",
     "output_type": "stream",
     "text": [
      "3dNwarpApply: /packages/7x/anaconda3/5.3.0/lib/libuuid.so.1: no version information available (required by /lib64/libSM.so.6)\n",
      "++ 3dNwarpApply: AFNI version=AFNI_20.1.11 (May 28 2020) [64-bit]\n",
      "++ Authored by: Zhark the Warped\n",
      "++ -master dataset is 'MWT_template_res.nii'\n",
      "++ opened source dataset 'allen_lwp2+orig'\n",
      "++ Processing -nwarp \n",
      "++ Warping:.Z\n",
      "++ Output dataset ./allen_fwp2+orig.BRIK\n",
      "++ total Elapsed time = 25.2 sec\n"
     ]
    }
   ],
   "source": [
    "%%bash\n",
    "module load afni/20.1.11\n",
    "cd /home/mabbasi6/morphometry/MKO_Morphometry/Allen/\n",
    "ref='MWT_template_res.nii'\n",
    "src='average_template_50+tlrc'\n",
    "nwp='average_template_50_shft_WARP.nii.gz'\n",
    "lwp='average_template_50_composite_linear_to_template.1D'\n",
    "#3dNwarpApply -master $ref -source $src -nwarp \"$nwp $lwp\" -prefix allen_wptest.nii\n",
    "3dNwarpApply \\\n",
    "    -master MWT_template_res.nii \\\n",
    "    -source allen_lwp2+orig \\\n",
    "    -nwarp average_template_50_shft_WARP.nii.gz \\\n",
    "    -prefix allen_fwp2 \\"
   ]
  },
  {
   "cell_type": "code",
   "execution_count": 10,
   "metadata": {},
   "outputs": [
    {
     "name": "stderr",
     "output_type": "stream",
     "text": [
      "3dAllineate: /packages/7x/anaconda3/5.3.0/lib/libuuid.so.1: no version information available (required by /lib64/libSM.so.6)\n",
      "++ 3dAllineate: AFNI version=AFNI_20.1.11 (May 28 2020) [64-bit]\n",
      "++ Authored by: Zhark the Registrator\n",
      "++ Source dataset: ./allen_aff+tlrc.HEAD\n",
      "++ Base dataset:   (not given)\n",
      "++ You might want to use '-master' when using '-1D*_apply'\n",
      "++ Loading datasets into memory\n",
      " +        -cmass x y z shifts =    0.000    0.000    0.000\n",
      " +  shift search range is +/- =    3.643    4.221    2.552\n",
      "++ master dataset for output = source\n",
      "++ OpenMP thread count = 1\n",
      "++ ========== Applying transformation to 1 sub-bricks ==========\n",
      "++ Output dataset ./allen_aff2+tlrc.BRIK\n",
      "++ 3dAllineate: total CPU time = 0.0 sec  Elapsed = 2.6\n",
      "++ ###########################################################\n"
     ]
    }
   ],
   "source": [
    "%%bash\n",
    "module load afni/20.1.11\n",
    "cd /home/mabbasi6/morphometry/MKO_Morphometry/Allen/\n",
    "3dcopy MWT_template_res.nii MWT_tmpres"
   ]
  },
  {
   "cell_type": "code",
   "execution_count": 5,
   "metadata": {},
   "outputs": [
    {
     "name": "stderr",
     "output_type": "stream",
     "text": [
      "3dcopy: /packages/7x/anaconda3/5.3.0/lib/libuuid.so.1: no version information available (required by /lib64/libSM.so.6)\n",
      "++ 3dcopy: AFNI version=AFNI_20.1.11 (May 28 2020) [64-bit]\n"
     ]
    }
   ],
   "source": [
    "%%bash\n",
    "module load afni/20.1.11\n",
    "cd /home/mabbasi6/morphometry/MWT_Morphometry/12345/\n",
    "3dcopy avgAB_qwpm+orig MWT_template.nii"
   ]
  },
  {
   "cell_type": "code",
   "execution_count": 16,
   "metadata": {},
   "outputs": [
    {
     "name": "stderr",
     "output_type": "stream",
     "text": [
      "3dNwarpApply: /packages/7x/anaconda3/5.3.0/lib/libuuid.so.1: no version information available (required by /lib64/libSM.so.6)\n",
      "++ 3dNwarpApply: AFNI version=AFNI_20.1.11 (May 28 2020) [64-bit]\n",
      "++ Authored by: Zhark the Warped\n",
      "++ opened source dataset 'allen_comp_inv+tlrc'\n",
      "++ Processing -nwarp \n",
      "++ Warping:.Z\n",
      "++ Output dataset ./allen_test+tlrc.BRIK\n",
      "++ total Elapsed time = 11.8 sec\n"
     ]
    }
   ],
   "source": [
    "%%bash\n",
    "module load afni/20.1.11\n",
    "cd /home/mabbasi6/morphometry/MKO_Morphometry/Allen/\n",
    "3dNwarpApply -source allen_comp_inv+tlrc -nwarp average_template_50_shft_base2osh_WARP.nii.gz -prefix allen_test"
   ]
  },
  {
   "cell_type": "code",
   "execution_count": null,
   "metadata": {},
   "outputs": [],
   "source": []
  }
 ],
 "metadata": {
  "kernelspec": {
   "display_name": "Py3-basic",
   "language": "python",
   "name": "python3"
  },
  "language_info": {
   "codemirror_mode": {
    "name": "ipython",
    "version": 3
   },
   "file_extension": ".py",
   "mimetype": "text/x-python",
   "name": "python",
   "nbconvert_exporter": "python",
   "pygments_lexer": "ipython3",
   "version": "3.7.2"
  }
 },
 "nbformat": 4,
 "nbformat_minor": 2
}
