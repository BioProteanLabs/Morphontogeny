{
 "cells": [
  {
   "cell_type": "markdown",
   "metadata": {},
   "source": [
    "# Average MKO brain document"
   ]
  },
  {
   "cell_type": "markdown",
   "metadata": {},
   "source": [
    "**Copying the average of 1234 to NII format and removing the BRIK file.**"
   ]
  },
  {
   "cell_type": "code",
   "execution_count": null,
   "metadata": {},
   "outputs": [],
   "source": [
    "%%bash\n",
    "module load afni/20.1.11\n",
    "cd /data/bioprotean/RAG2/MKO/template/12345/\n",
    "3dcopy avgAB_qwpm+orig 1234.nii"
   ]
  },
  {
   "cell_type": "markdown",
   "metadata": {},
   "source": [
    "**Copying the template_pipe.ipynb here and defining inputs**"
   ]
  },
  {
   "cell_type": "code",
   "execution_count": null,
   "metadata": {},
   "outputs": [],
   "source": [
    "%%bash\n",
    "module load afni/20.1.11\n",
    "cd /data/bioprotean/RAG2/MKO/template/12345/\n",
    "input1='/data/bioprotean/RAG2/MKO/template/12345/1234.nii'\n",
    "input2='/data/bioprotean/RAG2/MKO/template/12345/5.nii'\n",
    "3dcopy $input1 A\n",
    "3dcopy $input2 B\n",
    "@Align_Centers -base A+orig -dset B+orig -prefix B_ac\n",
    "3dresample -master A+orig -input B_ac+orig -prefix B_acres\n",
    "3dAllineate -base A+orig -source B_acres+orig -cmass -prefix B_aff\n",
    "3dQwarp -base A+orig -source B_aff+orig -plusminus -pmNAMES Top Bottom -prefix avgAB\n",
    "3dcalc -a avgAB_Top+orig -b avgAB_Bottom+orig -expr '(a+b)/2' -prefix avgAB_qwpm"
   ]
  },
  {
   "cell_type": "markdown",
   "metadata": {},
   "source": [
    "**Copying the MKO average to NII format and removing the BRIK file**"
   ]
  },
  {
   "cell_type": "code",
   "execution_count": null,
   "metadata": {},
   "outputs": [],
   "source": [
    "%%bash\n",
    "module load afni/20.1.11\n",
    "cd /data/bioprotean/RAG2/AVG/template/\n",
    "3dcopy avgAB_qwpm+orig MKO_template.nii"
   ]
  },
  {
   "cell_type": "markdown",
   "metadata": {},
   "source": [
    "**Averaging MWT template and MWT template to make the comprehensive average**"
   ]
  },
  {
   "cell_type": "code",
   "execution_count": null,
   "metadata": {},
   "outputs": [],
   "source": [
    "%%bash\n",
    "module load afni/20.1.11\n",
    "cd /data/bioprotean/RAG2/AVG/template/\n",
    "input1='/data/bioprotean/RAG2/AVG/template/MWT_template.nii'\n",
    "input2='/data/bioprotean/RAG2/AVG/template/MKO_template.nii'\n",
    "3dcopy $input1 A\n",
    "3dcopy $input2 B\n",
    "@Align_Centers -base A+orig -dset B+orig -prefix B_ac\n",
    "3dresample -master A+orig -input B_ac+orig -prefix B_acres\n",
    "3dAllineate -base A+orig -source B_acres+orig -cmass -prefix B_aff\n",
    "3dQwarp -base A+orig -source B_aff+orig -plusminus -pmNAMES Top Bottom -prefix avgAB\n",
    "3dcalc -a avgAB_Top+orig -b avgAB_Bottom+orig -expr '(a+b)/2' -prefix avgAB_qwpm"
   ]
  },
  {
   "cell_type": "markdown",
   "metadata": {},
   "source": [
    "**Copying average brain to NII format**"
   ]
  },
  {
   "cell_type": "code",
   "execution_count": null,
   "metadata": {},
   "outputs": [],
   "source": [
    "%%bash\n",
    "module load afni/20.1.11\n",
    "cd /data/bioprotean/RAG2/AVG/template/\n",
    "3dcopy avgAB_qwpm+orig RAG2_avg75.nii"
   ]
  },
  {
   "cell_type": "markdown",
   "metadata": {},
   "source": [
    "**RAG2_avg75.nii is the average MKO and MWT RAG2 brain**"
   ]
  },
  {
   "cell_type": "code",
   "execution_count": null,
   "metadata": {},
   "outputs": [],
   "source": []
  }
 ],
 "metadata": {
  "kernelspec": {
   "display_name": "Py3-basic",
   "language": "python",
   "name": "python3"
  },
  "language_info": {
   "codemirror_mode": {
    "name": "ipython",
    "version": 3
   },
   "file_extension": ".py",
   "mimetype": "text/x-python",
   "name": "python",
   "nbconvert_exporter": "python",
   "pygments_lexer": "ipython3",
   "version": "3.7.2"
  }
 },
 "nbformat": 4,
 "nbformat_minor": 2
}
