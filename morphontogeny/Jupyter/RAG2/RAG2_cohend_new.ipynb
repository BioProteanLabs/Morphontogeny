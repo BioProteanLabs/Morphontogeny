{
 "cells": [
  {
   "cell_type": "markdown",
   "metadata": {},
   "source": [
    "# Computing the Cohen's d measure for Jacobians"
   ]
  },
  {
   "cell_type": "code",
   "execution_count": null,
   "metadata": {},
   "outputs": [],
   "source": [
    "#!pip install pingouin==0.3.10 --user\n",
    "import numpy as np\n",
    "from numpy import std, mean, sqrt\n",
    "import pingouin as pg\n",
    "import pandas as pd\n",
    "import nibabel as nib\n",
    "import os"
   ]
  },
  {
   "cell_type": "markdown",
   "metadata": {},
   "source": [
    "Computing the Cohen's d manually and testing the function"
   ]
  },
  {
   "cell_type": "code",
   "execution_count": null,
   "metadata": {},
   "outputs": [],
   "source": [
    "def cohend_func(x,y):\n",
    "    nx = len(x)\n",
    "    ny = len(y)\n",
    "    dof = nx + ny - 2\n",
    "    return (mean(x) - mean(y)) / sqrt(((nx-1)*std(x, ddof=1) ** 2 + (ny-1)*std(y, ddof=1) ** 2) / dof)"
   ]
  },
  {
   "cell_type": "code",
   "execution_count": null,
   "metadata": {},
   "outputs": [],
   "source": [
    "x = [1, 2, 3, 4, 5]\n",
    "y = [3, 4, 5, 6, 7, 8]\n",
    "print(pg.compute_effsize(y, x, eftype='cohen'))\n",
    "print(cohend_func(y,x))"
   ]
  },
  {
   "cell_type": "markdown",
   "metadata": {},
   "source": [
    "Worked!\n",
    "<br>Copying functions from RAG2_cohend.ipynb"
   ]
  },
  {
   "cell_type": "code",
   "execution_count": 12,
   "metadata": {},
   "outputs": [],
   "source": [
    "def nifti_to_vector(nii_file):\n",
    "    '''\n",
    "    Takes an input file address (str) to the NIFTI file and returns\n",
    "    the flattened 1D array and the shape of the input matrix.\n",
    "    \n",
    "    Parameters:\n",
    "    nii_file (str): The address to nii file\n",
    "    \n",
    "    Returns:\n",
    "    vector (np.array): The flattened 1D array\n",
    "    shape (list): Shape of the original matrix\n",
    "    '''\n",
    "    img = nib.load(nii_file)\n",
    "    array = np.array(img.dataobj)\n",
    "    shape = array.shape\n",
    "    vector = array.flatten()\n",
    "    return vector, shape"
   ]
  },
  {
   "cell_type": "code",
   "execution_count": 21,
   "metadata": {},
   "outputs": [],
   "source": [
    "vector = nifti_to_vector('/data/bioprotean/RAG2/AVG/C57B/Jacobian/JCB/MKO_invjcb1.nii')"
   ]
  },
  {
   "cell_type": "code",
   "execution_count": 25,
   "metadata": {},
   "outputs": [
    {
     "data": {
      "text/plain": [
       "array([0.0000000e+00, 2.3841858e-07, 2.3841858e-07, ..., 0.0000000e+00,\n",
       "       0.0000000e+00, 0.0000000e+00], dtype=float32)"
      ]
     },
     "execution_count": 25,
     "metadata": {},
     "output_type": "execute_result"
    }
   ],
   "source": [
    "vector[0]"
   ]
  },
  {
   "cell_type": "code",
   "execution_count": 26,
   "metadata": {},
   "outputs": [],
   "source": [
    "def stack_nii(path_prefix, n):\n",
    "    '''\n",
    "    Takes the path to NIFTI files and stacks them in rows.\n",
    "    \n",
    "    Parameters:\n",
    "    path_prefix (str): Prefix of the path to the NIFTI file until the number,\n",
    "        example: '/data/img' if the complete location is: '/data/img1.nii'\n",
    "    \n",
    "    n (int): Number of NIFTI files to input\n",
    "    \n",
    "    Returns:\n",
    "    stack (array): Numpy array with n rows\n",
    "    '''\n",
    "    input_list = [path_prefix+str(i)+'.nii' for i in range(1,n+1)]\n",
    "    stack = np.vstack([nifti_to_vector(input)[0]] for input in input_list)\n",
    "    return stack"
   ]
  },
  {
   "cell_type": "code",
   "execution_count": 27,
   "metadata": {},
   "outputs": [
    {
     "name": "stderr",
     "output_type": "stream",
     "text": [
      "/packages/7x/anaconda3/5.3.0/lib/python3.7/site-packages/ipykernel_launcher.py:15: FutureWarning: arrays to stack must be passed as a \"sequence\" type such as list or tuple. Support for non-sequence iterables such as generators is deprecated as of NumPy 1.16 and will raise an error in the future.\n",
      "  from ipykernel import kernelapp as app\n"
     ]
    }
   ],
   "source": [
    "MKO_stack = stack_nii('/data/bioprotean/RAG2/AVG/C57B/Jacobian/JCB/MKO_invjcb',5)"
   ]
  },
  {
   "cell_type": "code",
   "execution_count": 28,
   "metadata": {},
   "outputs": [
    {
     "name": "stderr",
     "output_type": "stream",
     "text": [
      "/packages/7x/anaconda3/5.3.0/lib/python3.7/site-packages/ipykernel_launcher.py:15: FutureWarning: arrays to stack must be passed as a \"sequence\" type such as list or tuple. Support for non-sequence iterables such as generators is deprecated as of NumPy 1.16 and will raise an error in the future.\n",
      "  from ipykernel import kernelapp as app\n"
     ]
    }
   ],
   "source": [
    "MWT_stack = stack_nii('/data/bioprotean/RAG2/AVG/C57B/Jacobian/JCB/MWT_invjcb',5)"
   ]
  },
  {
   "cell_type": "code",
   "execution_count": 30,
   "metadata": {},
   "outputs": [],
   "source": [
    "def cohen_d(stack1, stack2):\n",
    "    '''\n",
    "    Takes 2 arrays and computes then Cohen's d using the cohend_func function\n",
    "    \n",
    "    Parameters:\n",
    "    stack1, stack2 (array): Arrays with subjects as rows and voxels as columns\n",
    "    \n",
    "    Returns:\n",
    "    d (vector): Vector with size of stack1/stack2 columns\n",
    "    '''\n",
    "    d = np.zeros(stack1.shape[1])\n",
    "    for i in range (stack1.shape[1]):\n",
    "        d[i] = cohend_func(stack1[:,i], stack2[:,i])\n",
    "    return d"
   ]
  },
  {
   "cell_type": "code",
   "execution_count": 31,
   "metadata": {},
   "outputs": [
    {
     "name": "stderr",
     "output_type": "stream",
     "text": [
      "/packages/7x/anaconda3/5.3.0/lib/python3.7/site-packages/ipykernel_launcher.py:5: RuntimeWarning: invalid value encountered in true_divide\n",
      "  \"\"\"\n"
     ]
    }
   ],
   "source": [
    "d = cohen_d(MKO_stack, MWT_stack)"
   ]
  },
  {
   "cell_type": "code",
   "execution_count": 34,
   "metadata": {},
   "outputs": [
    {
     "data": {
      "text/plain": [
       "(168, 265, 155)"
      ]
     },
     "execution_count": 34,
     "metadata": {},
     "output_type": "execute_result"
    }
   ],
   "source": [
    "shape"
   ]
  },
  {
   "cell_type": "code",
   "execution_count": 35,
   "metadata": {},
   "outputs": [],
   "source": [
    "d_rs = d.reshape((168,265,155))"
   ]
  },
  {
   "cell_type": "code",
   "execution_count": 39,
   "metadata": {},
   "outputs": [],
   "source": [
    "def array_to_nifti(arr,output_file):\n",
    "    \"\"\"\n",
    "    Takes an array and saves it as NIFTI file in the given output address\n",
    "    \n",
    "    Parameters:\n",
    "    arr (array): matrix of image voxels\n",
    "    output_file (string): output file address\n",
    "    \n",
    "    Returns:\n",
    "    None\n",
    "    \"\"\"\n",
    "    \n",
    "    save = nib.Nifti1Image(arr, np.eye(4))\n",
    "    save.header.get_xyzt_units()\n",
    "    save.to_filename(os.path.join('build',output_file))"
   ]
  },
  {
   "cell_type": "code",
   "execution_count": 40,
   "metadata": {},
   "outputs": [],
   "source": [
    "array_to_nifti(d_rs, '/data/bioprotean/RAG2/AVG/C57B/Jacobian/JCB/RAG2_cohensd.nii')"
   ]
  },
  {
   "cell_type": "code",
   "execution_count": 41,
   "metadata": {},
   "outputs": [
    {
     "name": "stdout",
     "output_type": "stream",
     "text": [
      "LPI\t0.075000\t0.075000\t0.075000\tORIG\n",
      "LPI\t1.000000\t1.000000\t1.000000\tTLRC\n"
     ]
    },
    {
     "name": "stderr",
     "output_type": "stream",
     "text": [
      "3dinfo: /packages/7x/anaconda3/5.3.0/lib/libuuid.so.1: no version information available (required by /lib64/libSM.so.6)\n",
      "3dinfo: /packages/7x/anaconda3/5.3.0/lib/libuuid.so.1: no version information available (required by /lib64/libSM.so.6)\n",
      "** AFNI converts NIFTI_datatype=64 (FLOAT64) in file /data/bioprotean/RAG2/AVG/C57B/Jacobian/JCB/RAG2_cohensd.nii to FLOAT32\n",
      "     Warnings of this type will be muted for this session.\n",
      "     Set AFNI_NIFTI_TYPE_WARN to YES to see them all, NO to see none.\n"
     ]
    }
   ],
   "source": [
    "%%bash\n",
    "module load afni/20.1.11\n",
    "cd /data/bioprotean/RAG2/AVG/C57B/Jacobian/JCB/\n",
    "3dinfo -orient -ad3 -space MKO_invjcb1.nii\n",
    "3dinfo -orient -ad3 -space RAG2_cohensd.nii"
   ]
  },
  {
   "cell_type": "code",
   "execution_count": 42,
   "metadata": {},
   "outputs": [
    {
     "name": "stderr",
     "output_type": "stream",
     "text": [
      "3drefit: /packages/7x/anaconda3/5.3.0/lib/libuuid.so.1: no version information available (required by /lib64/libSM.so.6)\n",
      "++ 3drefit: AFNI version=AFNI_20.1.11 (May 28 2020) [64-bit]\n",
      "++ Authored by: RW Cox\n",
      "** AFNI converts NIFTI_datatype=64 (FLOAT64) in file /data/bioprotean/RAG2/AVG/C57B/Jacobian/JCB/RAG2_cohensd.nii to FLOAT32\n",
      "     Warnings of this type will be muted for this session.\n",
      "     Set AFNI_NIFTI_TYPE_WARN to YES to see them all, NO to see none.\n",
      "++ Processing AFNI dataset RAG2_cohensd.nii\n",
      " + applying -xyzscale\n",
      " + deoblique\n",
      " + loading and re-writing dataset RAG2_cohensd.nii (/data/bioprotean/RAG2/AVG/C57B/Jacobian/JCB/RAG2_cohensd.nii in NIFTI storage)\n",
      "++ 3drefit processed 1 datasets\n",
      "3drefit: /packages/7x/anaconda3/5.3.0/lib/libuuid.so.1: no version information available (required by /lib64/libSM.so.6)\n",
      "++ 3drefit: AFNI version=AFNI_20.1.11 (May 28 2020) [64-bit]\n",
      "++ Authored by: RW Cox\n",
      "++ Processing AFNI dataset RAG2_cohensd.nii\n",
      "\u001b[7m*+ WARNING:\u001b[0m Changing the space of a TLRC view dataset to an ORIG type may cause confusion!\n",
      "\u001b[7m*+ WARNING:\u001b[0m  NIFTI copies will be interpreted as ORIG view.\n",
      "\u001b[7m*+ WARNING:\u001b[0m  Consider changing the view of the dataset to ORIG view also\n",
      " + loading and re-writing dataset RAG2_cohensd.nii (/data/bioprotean/RAG2/AVG/C57B/Jacobian/JCB/RAG2_cohensd.nii in NIFTI storage)\n",
      "++ 3drefit processed 1 datasets\n",
      "3drefit: /packages/7x/anaconda3/5.3.0/lib/libuuid.so.1: no version information available (required by /lib64/libSM.so.6)\n",
      "++ 3drefit: AFNI version=AFNI_20.1.11 (May 28 2020) [64-bit]\n",
      "++ Authored by: RW Cox\n",
      "++ Processing AFNI dataset RAG2_cohensd.nii\n",
      " + Didn't make any changes for dataset RAG2_cohensd.nii !\n",
      "++ 3drefit processed 1 datasets\n"
     ]
    }
   ],
   "source": [
    "%%bash\n",
    "module load afni/20.1.11\n",
    "cd /data/bioprotean/RAG2/AVG/C57B/Jacobian/JCB/\n",
    "3drefit -xyzscale 0.075 RAG2_cohensd.nii\n",
    "3drefit -space ORIG RAG2_cohensd.nii\n",
    "3drefit -view orig RAG2_cohensd.nii"
   ]
  },
  {
   "cell_type": "code",
   "execution_count": 43,
   "metadata": {},
   "outputs": [
    {
     "name": "stdout",
     "output_type": "stream",
     "text": [
      "base: -6.38487 -8.60393 4.10522\n",
      "dset: -83.7791 -130.269 76.6169\n",
      "delta: 77.394230 121.665070 -72.511680\n"
     ]
    },
    {
     "name": "stderr",
     "output_type": "stream",
     "text": [
      "ParseName: /packages/7x/anaconda3/5.3.0/lib/libuuid.so.1: no version information available (required by /lib64/libSM.so.6)\n",
      "ParseName: /packages/7x/anaconda3/5.3.0/lib/libuuid.so.1: no version information available (required by /lib64/libSM.so.6)\n",
      "afni: /packages/7x/anaconda3/5.3.0/lib/libuuid.so.1: no version information available (required by /lib64/libSM.so.6)\n",
      "afni: /packages/7x/anaconda3/5.3.0/lib/libuuid.so.1: no version information available (required by /lib64/libSM.so.6)\n",
      "afni: /packages/7x/anaconda3/5.3.0/lib/libuuid.so.1: no version information available (required by /lib64/libSM.so.6)\n",
      "afni: /packages/7x/anaconda3/5.3.0/lib/libuuid.so.1: no version information available (required by /lib64/libSM.so.6)\n",
      "ParseName: /packages/7x/anaconda3/5.3.0/lib/libuuid.so.1: no version information available (required by /lib64/libSM.so.6)\n",
      "3dCM: /packages/7x/anaconda3/5.3.0/lib/libuuid.so.1: no version information available (required by /lib64/libSM.so.6)\n",
      "3dcopy: /packages/7x/anaconda3/5.3.0/lib/libuuid.so.1: no version information available (required by /lib64/libSM.so.6)\n",
      "++ 3dcopy: AFNI version=AFNI_20.1.11 (May 28 2020) [64-bit]\n",
      "3dCM: /packages/7x/anaconda3/5.3.0/lib/libuuid.so.1: no version information available (required by /lib64/libSM.so.6)\n",
      "\u001b[7m*+ WARNING:\u001b[0m Over-writing dataset /data/bioprotean/RAG2/AVG/C57B/Jacobian/JCB/RAG2_cohensd_shft.nii\n",
      "++ Wrote new dataset: /data/bioprotean/RAG2/AVG/C57B/Jacobian/JCB/RAG2_cohensd_shft.nii\n",
      "ccalc: /packages/7x/anaconda3/5.3.0/lib/libuuid.so.1: no version information available (required by /lib64/libSM.so.6)\n",
      "ccalc: /packages/7x/anaconda3/5.3.0/lib/libuuid.so.1: no version information available (required by /lib64/libSM.so.6)\n",
      "ccalc: /packages/7x/anaconda3/5.3.0/lib/libuuid.so.1: no version information available (required by /lib64/libSM.so.6)\n",
      "ccalc: /packages/7x/anaconda3/5.3.0/lib/libuuid.so.1: no version information available (required by /lib64/libSM.so.6)\n",
      "ccalc: /packages/7x/anaconda3/5.3.0/lib/libuuid.so.1: no version information available (required by /lib64/libSM.so.6)\n",
      "ccalc: /packages/7x/anaconda3/5.3.0/lib/libuuid.so.1: no version information available (required by /lib64/libSM.so.6)\n",
      "ParseName: /packages/7x/anaconda3/5.3.0/lib/libuuid.so.1: no version information available (required by /lib64/libSM.so.6)\n",
      "ParseName: /packages/7x/anaconda3/5.3.0/lib/libuuid.so.1: no version information available (required by /lib64/libSM.so.6)\n"
     ]
    }
   ],
   "source": [
    "%%bash\n",
    "module load afni/20.1.11\n",
    "cd /data/bioprotean/RAG2/AVG/C57B/Jacobian/JCB/\n",
    "@Align_Centers -cm -overwrite -base C57B_avg75.nii -dset RAG2_cohensd.nii"
   ]
  },
  {
   "cell_type": "code",
   "execution_count": 53,
   "metadata": {},
   "outputs": [],
   "source": [
    "def copy_nifti_header(base, input, outfile):\n",
    "    \"\"\"\n",
    "    Takes the NIFTI header from base file and overwrites it for the input\n",
    "    (Nibabel library needed)\n",
    "    \n",
    "    Parameters:\n",
    "    base (str): base file address, its header gets copied to input's\n",
    "    input (str): input file address, its header gets replaced with base's\n",
    "    outfile (str): output file address\n",
    "    \n",
    "    Returns:\n",
    "    None\n",
    "    \"\"\"\n",
    "    \n",
    "    base_img = nib.load(base)\n",
    "    \n",
    "    input_img = nib.load(input)\n",
    "    input_matrix = np.array(input_img.dataobj).astype('float32')\n",
    "    \n",
    "    copy_img = nib.Nifti1Image(input_matrix, header=base_img.header, affine=base_img.affine)\n",
    "    nib.save(copy_img, outfile)"
   ]
  },
  {
   "cell_type": "code",
   "execution_count": 46,
   "metadata": {},
   "outputs": [],
   "source": [
    "array_to_nifti(d_rs, '/data/bioprotean/RAG2/AVG/C57B/Jacobian/JCB/test_copy.nii')"
   ]
  },
  {
   "cell_type": "code",
   "execution_count": 52,
   "metadata": {},
   "outputs": [],
   "source": [
    "base = '/data/bioprotean/RAG2/AVG/C57B/Jacobian/JCB/RAG2_cohensd_shft.nii'\n",
    "input = '/data/bioprotean/RAG2/AVG/C57B/Jacobian/JCB/test_copy.nii'\n",
    "outfile = '/data/bioprotean/RAG2/AVG/C57B/Jacobian/JCB/copied.nii'\n",
    "copy_nifti_header(base, input, outfile)"
   ]
  },
  {
   "cell_type": "code",
   "execution_count": null,
   "metadata": {},
   "outputs": [],
   "source": []
  }
 ],
 "metadata": {
  "kernelspec": {
   "display_name": "Py3-basic",
   "language": "python",
   "name": "python3"
  },
  "language_info": {
   "codemirror_mode": {
    "name": "ipython",
    "version": 3
   },
   "file_extension": ".py",
   "mimetype": "text/x-python",
   "name": "python",
   "nbconvert_exporter": "python",
   "pygments_lexer": "ipython3",
   "version": "3.7.2"
  }
 },
 "nbformat": 4,
 "nbformat_minor": 2
}
