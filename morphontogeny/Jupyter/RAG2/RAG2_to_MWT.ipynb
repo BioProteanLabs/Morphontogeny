{
 "cells": [
  {
   "cell_type": "markdown",
   "metadata": {},
   "source": [
    "# Warping RAG2 mice to MWT brain template"
   ]
  },
  {
   "cell_type": "markdown",
   "metadata": {},
   "source": [
    "Using the inverse warps to compute Jacobians (manually for different folders)"
   ]
  },
  {
   "cell_type": "code",
   "execution_count": null,
   "metadata": {},
   "outputs": [],
   "source": [
    "%%bash\n",
    "module load afni/20.1.11\n",
    "\n",
    "input=/data/bioprotean/RAG2/AVG/MWT_avg/MKO/5_anmwp/5_shft_WARPINV.nii.gz\n",
    "output=/data/bioprotean/RAG2/AVG/MWT_avg/JCB/MKO_invjcb5.nii\n",
    "\n",
    "3dNwarpFuncs -nwarp $input -bulk -prefix $output"
   ]
  },
  {
   "cell_type": "code",
   "execution_count": null,
   "metadata": {},
   "outputs": [],
   "source": [
    "%%bash\n",
    "module load afni/20.1.11\n",
    "\n",
    "input=/data/bioprotean/RAG2/AVG/MWT_avg/MWT/5_anmwp/5_shft_WARPINV.nii.gz\n",
    "output=/data/bioprotean/RAG2/AVG/MWT_avg/JCB/MWT_invjcb5.nii\n",
    "\n",
    "3dNwarpFuncs -nwarp $input -bulk -prefix $output"
   ]
  },
  {
   "cell_type": "markdown",
   "metadata": {},
   "source": [
    "Computing the mean Jacobian for knockouts"
   ]
  },
  {
   "cell_type": "code",
   "execution_count": null,
   "metadata": {},
   "outputs": [],
   "source": [
    "%%bash\n",
    "module load afni/20.1.11\n",
    "input1=/data/bioprotean/RAG2/AVG/MWT_avg/JCB/MKO_invjcb1.nii\n",
    "input2=/data/bioprotean/RAG2/AVG/MWT_avg/JCB/MKO_invjcb2.nii\n",
    "input3=/data/bioprotean/RAG2/AVG/MWT_avg/JCB/MKO_invjcb3.nii\n",
    "input4=/data/bioprotean/RAG2/AVG/MWT_avg/JCB/MKO_invjcb4.nii\n",
    "input5=/data/bioprotean/RAG2/AVG/MWT_avg/JCB/MKO_invjcb5.nii\n",
    "output=/data/bioprotean/RAG2/AVG/MWT_avg/JCB/MKO_MWTavg_invjcb_avg.nii\n",
    "3dMean -prefix $output $input1 $input2 $input3 $input4 $input5"
   ]
  },
  {
   "cell_type": "markdown",
   "metadata": {},
   "source": [
    "Doing 1-set and 2-set t-tests"
   ]
  },
  {
   "cell_type": "code",
   "execution_count": null,
   "metadata": {},
   "outputs": [],
   "source": [
    "%%bash\n",
    "module load afni/20.1.11\n",
    "input1=/data/bioprotean/RAG2/AVG/MWT_avg/JCB/MKO_invjcb1.nii\n",
    "input2=/data/bioprotean/RAG2/AVG/MWT_avg/JCB/MKO_invjcb2.nii\n",
    "input3=/data/bioprotean/RAG2/AVG/MWT_avg/JCB/MKO_invjcb3.nii\n",
    "input4=/data/bioprotean/RAG2/AVG/MWT_avg/JCB/MKO_invjcb4.nii\n",
    "input5=/data/bioprotean/RAG2/AVG/MWT_avg/JCB/MKO_invjcb5.nii\n",
    "output=/data/bioprotean/RAG2/AVG/MWT_avg/JCB/MKO_MWTavg_1set_ttest.nii\n",
    "3dttest++ -prefix $output -setA $input1 $input2 $input3 $input4 $input5"
   ]
  },
  {
   "cell_type": "code",
   "execution_count": null,
   "metadata": {},
   "outputs": [],
   "source": [
    "%%bash\n",
    "module load afni/20.1.11\n",
    "cd /data/bioprotean/RAG2/AVG/MWT_avg/JCB/\n",
    "\n",
    "input1=MKO_invjcb1.nii\n",
    "input2=MKO_invjcb2.nii\n",
    "input3=MKO_invjcb3.nii\n",
    "input4=MKO_invjcb4.nii\n",
    "input5=MKO_invjcb5.nii\n",
    "\n",
    "input6=MWT_invjcb1.nii\n",
    "input7=MWT_invjcb2.nii\n",
    "input8=MWT_invjcb3.nii\n",
    "input9=MWT_invjcb4.nii\n",
    "input10=MWT_invjcb5.nii\n",
    "\n",
    "3dttest++ \\\n",
    "    -prefix MKO_MWTavg_2set_ttest.nii \\\n",
    "    -setA $input1 $input2 $input3 $input4 $input5 \\\n",
    "    -setB $input6 $input7 $input8 $input9 $input10"
   ]
  },
  {
   "cell_type": "markdown",
   "metadata": {},
   "source": [
    "**Thresholding the average Jacobian by t-test in the MWT average brain space**\n",
    "<br>To threshold the average Jacobian by the t-test giving p-value of 0.05:\n",
    "<br>Brick number 1 is setA-setB_Tstat (Bricks start from 0)\n",
    "<br>Seen in AFNI that a p-value of 0.05 corresponds to a t-stat (for 2set) of 2.3060\n",
    "<br>Seen in AFNI that a p-value of 0.05 corresponds to a t-stat (for 1set) of 2.7764"
   ]
  },
  {
   "cell_type": "code",
   "execution_count": null,
   "metadata": {},
   "outputs": [],
   "source": [
    "%%bash\n",
    "module load afni/20.1.11\n",
    "cd /data/bioprotean/RAG2/AVG/MWT_avg/Jacobian/threshold/\n",
    "3dcalc \\\n",
    "    -a MKO_MWTavg_invjcb_avg.nii \\\n",
    "    -b MKO_MWTavg_2set_ttest.nii[1] \\\n",
    "    -expr 'a*astep(b,2.3060)' \\\n",
    "    -datum float \\\n",
    "    -prefix MKO_MWTavg_invjcb_avg_thrsh_2set.nii"
   ]
  },
  {
   "cell_type": "code",
   "execution_count": null,
   "metadata": {},
   "outputs": [],
   "source": [
    "%%bash\n",
    "module load afni/20.1.11\n",
    "cd /data/bioprotean/RAG2/AVG/MWT_avg/Jacobian/threshold/\n",
    "3dcalc \\\n",
    "    -a MKO_MWTavg_invjcb_avg.nii \\\n",
    "    -b MKO_MWTavg_1set_ttest.nii[1] \\\n",
    "    -expr 'a*astep(b,2.7764)' \\\n",
    "    -datum float \\\n",
    "    -prefix MKO_MWTavg_invjcb_avg_thrsh_1set.nii"
   ]
  },
  {
   "cell_type": "markdown",
   "metadata": {},
   "source": [
    "Warping the MWT average brain to Allen brain template"
   ]
  },
  {
   "cell_type": "code",
   "execution_count": null,
   "metadata": {},
   "outputs": [],
   "source": [
    "%%bash\n",
    "module load afni/20.1.11\n",
    "cd /data/bioprotean/RAG2/AVG/MWT_avg/to_allen/\n",
    "3dAllineate \\\n",
    "    -base allen_brain75.nii \\\n",
    "    -source MWT_template_rs.nii \\\n",
    "    -1Dmatrix_save 1DM \\\n",
    "    -cmass -cost lpa -mi -twopass \\\n",
    "    -automask -num_rtb 2000 -warp affine_general \\\n",
    "    -prefix MWT_template_rs_aff.nii\n",
    "\n",
    "auto_warp.py \\\n",
    "    -base allen_brain75.nii \\\n",
    "    -input MWT_template_rs_aff.nii \\\n",
    "    -skip_affine yes \\\n",
    "    -qworkhard 0 2 \\\n",
    "    -qw_opts -maxlev 09 -iwarp \\\n",
    "    -output_dir awp"
   ]
  },
  {
   "cell_type": "markdown",
   "metadata": {},
   "source": [
    "Applying the warp to the windowed average Jacobian and average Jacobian"
   ]
  },
  {
   "cell_type": "code",
   "execution_count": null,
   "metadata": {},
   "outputs": [],
   "source": [
    "%%bash\n",
    "module load afni/20.1.11\n",
    "cd /data/bioprotean/RAG2/AVG/MWT_avg/to_allen/02_apply/\n",
    "3dAllineate \\\n",
    "    -master allen_brain75.nii \\\n",
    "    -source MKO_MWTavg_invjcb_avg.nii \\\n",
    "    -1Dmatrix_apply 1DM.aff12.1D \\\n",
    "    -cmass \\\n",
    "    -prefix MKO_MWTavg_invjcb_avg_aff.nii"
   ]
  },
  {
   "cell_type": "code",
   "execution_count": 2,
   "metadata": {},
   "outputs": [
    {
     "name": "stderr",
     "output_type": "stream",
     "text": [
      "3dNwarpApply: /packages/7x/anaconda3/5.3.0/lib/libuuid.so.1: no version information available (required by /lib64/libSM.so.6)\n",
      "++ 3dNwarpApply: AFNI version=AFNI_20.1.11 (May 28 2020) [64-bit]\n",
      "++ Authored by: Zhark the Warped\n",
      "++ opened source dataset 'MKO_MWTavg_invjcb_avg_aff.nii'\n",
      "++ -master dataset is 'allen_brain75.nii'\n",
      "++ Processing -nwarp \n",
      "++ Warping:.Z\n",
      "++ Output dataset ./MKO_MWTavg_invjcb_avg_qw.nii\n",
      "++ total Elapsed time = 5.4 sec\n"
     ]
    }
   ],
   "source": [
    "%%bash\n",
    "module load afni/20.1.11\n",
    "cd /data/bioprotean/RAG2/AVG/MWT_avg/to_allen/02_apply/\n",
    "3dNwarpApply \\\n",
    "    -source MKO_MWTavg_invjcb_avg_aff.nii \\\n",
    "    -nwarp anat.un.qw_WARP.nii \\\n",
    "    -master allen_brain75.nii \\\n",
    "    -prefix MKO_MWTavg_invjcb_avg_qw.nii"
   ]
  },
  {
   "cell_type": "code",
   "execution_count": null,
   "metadata": {},
   "outputs": [],
   "source": [
    "%%bash\n",
    "module load afni/20.1.11\n",
    "cd /data/bioprotean/RAG2/AVG/MWT_avg/to_allen/apply/\n",
    "3dAllineate \\\n",
    "    -master allen_brain75.nii \\\n",
    "    -source MKO_MWTavg_invjcb_avg_thrsh_1set.nii \\\n",
    "    -1Dmatrix_apply 1DM.aff12.1D \\\n",
    "    -cmass \\\n",
    "    -prefix MKO_MWTavg_invjcb_avg_thrsh_1set_aff.nii"
   ]
  },
  {
   "cell_type": "code",
   "execution_count": null,
   "metadata": {},
   "outputs": [],
   "source": [
    "%%bash\n",
    "module load afni/20.1.11\n",
    "cd /data/bioprotean/RAG2/AVG/MWT_avg/to_allen/apply/\n",
    "3dNwarpApply \\\n",
    "    -source MKO_MWTavg_invjcb_avg_thrsh_1set_aff.nii \\\n",
    "    -nwarp anat.un.qw_WARP.nii \\\n",
    "    -master allen_brain75.nii \\\n",
    "    -prefix MKO_MWTavg_invjcb_avg_thrsh_1set_qw.nii"
   ]
  },
  {
   "cell_type": "code",
   "execution_count": null,
   "metadata": {},
   "outputs": [],
   "source": [
    "%%bash\n",
    "module load afni/20.1.11\n",
    "cd /data/bioprotean/RAG2/AVG/MWT_avg/to_allen/apply/\n",
    "3dAllineate \\\n",
    "    -master allen_brain75.nii \\\n",
    "    -source MKO_MWTavg_invjcb_avg_thrsh_2set.nii \\\n",
    "    -1Dmatrix_apply 1DM.aff12.1D \\\n",
    "    -cmass \\\n",
    "    -prefix MKO_MWTavg_invjcb_avg_thrsh_2set_aff.nii"
   ]
  },
  {
   "cell_type": "code",
   "execution_count": null,
   "metadata": {},
   "outputs": [],
   "source": [
    "%%bash\n",
    "module load afni/20.1.11\n",
    "cd /data/bioprotean/RAG2/AVG/MWT_avg/to_allen/apply/\n",
    "3dNwarpApply \\\n",
    "    -source MKO_MWTavg_invjcb_avg_thrsh_2set_aff.nii \\\n",
    "    -nwarp anat.un.qw_WARP.nii \\\n",
    "    -master allen_brain75.nii \\\n",
    "    -prefix MKO_MWTavg_invjcb_avg_thrsh_2set_qw.nii"
   ]
  },
  {
   "cell_type": "markdown",
   "metadata": {},
   "source": [
    "Masking the Jacobians by Allen annotation atlas"
   ]
  },
  {
   "cell_type": "code",
   "execution_count": null,
   "metadata": {},
   "outputs": [],
   "source": [
    "%%bash\n",
    "module load afni/20.1.11\n",
    "cd /data/bioprotean/RAG2/AVG/MWT_avg/to_allen/03_mask/\n",
    "3dcalc \\\n",
    "    -a MKO_MWTavg_invjcb_avg_qw.nii \\\n",
    "    -b allen_annot75.nii \\\n",
    "    -expr 'a*bool(b)' \\\n",
    "    -datum float \\\n",
    "    -prefix MKO_MWTavg_invjcb_avg_qw_masked.nii"
   ]
  },
  {
   "cell_type": "code",
   "execution_count": null,
   "metadata": {},
   "outputs": [],
   "source": [
    "%%bash\n",
    "module load afni/20.1.11\n",
    "cd /data/bioprotean/RAG2/AVG/MWT_avg/to_allen/mask/\n",
    "3dcalc \\\n",
    "    -a MKO_MWTavg_invjcb_avg_thrsh_2set_qw.nii \\\n",
    "    -b allen_annot75.nii \\\n",
    "    -expr 'a*bool(b)' \\\n",
    "    -datum float \\\n",
    "    -prefix MKO_MWTavg_invjcb_avg_thrsh_2set_qw_masked.nii"
   ]
  },
  {
   "cell_type": "code",
   "execution_count": null,
   "metadata": {},
   "outputs": [],
   "source": [
    "%%bash\n",
    "module load afni/20.1.11\n",
    "cd /data/bioprotean/RAG2/AVG/MWT_avg/to_allen/mask/\n",
    "3dcalc \\\n",
    "    -a MKO_MWTavg_invjcb_avg_thrsh_1set_qw.nii \\\n",
    "    -b allen_annot75.nii \\\n",
    "    -expr 'a*bool(b)' \\\n",
    "    -datum float \\\n",
    "    -prefix MKO_MWTavg_invjcb_avg_thrsh_1set_qw_masked.nii"
   ]
  },
  {
   "cell_type": "markdown",
   "metadata": {},
   "source": [
    "Separating the Jacobians into positive and negative files"
   ]
  },
  {
   "cell_type": "code",
   "execution_count": null,
   "metadata": {},
   "outputs": [],
   "source": [
    "%%bash\n",
    "module load afni/20.1.11\n",
    "cd /data/bioprotean/RAG2/AVG/MWT_avg/to_allen/separate/\n",
    "3dcalc \\\n",
    "    -a MKO_MWTavg_invjcb_avg_thrsh_1set_qw_masked.nii \\\n",
    "    -expr 'posval(a)' \\\n",
    "    -datum float \\\n",
    "    -prefix MKO_MWTavg_invjcb_avg_thrsh_1set_qw_masked_pos.nii"
   ]
  },
  {
   "cell_type": "code",
   "execution_count": null,
   "metadata": {},
   "outputs": [],
   "source": [
    "%%bash\n",
    "module load afni/20.1.11\n",
    "cd /data/bioprotean/RAG2/AVG/MWT_avg/to_allen/separate/\n",
    "3dcalc \\\n",
    "    -a MKO_MWTavg_invjcb_avg_thrsh_2set_qw_masked.nii \\\n",
    "    -expr 'posval(a)' \\\n",
    "    -datum float \\\n",
    "    -prefix MKO_MWTavg_invjcb_avg_thrsh_2set_qw_masked_pos.nii"
   ]
  },
  {
   "cell_type": "code",
   "execution_count": null,
   "metadata": {},
   "outputs": [],
   "source": [
    "%%bash\n",
    "module load afni/20.1.11\n",
    "cd /data/bioprotean/RAG2/AVG/MWT_avg/to_allen/separate/\n",
    "3dcalc \\\n",
    "    -a MKO_MWTavg_invjcb_avg_thrsh_1set_qw_masked.nii \\\n",
    "    -expr '-posval(-a)' \\\n",
    "    -datum float \\\n",
    "    -prefix MKO_MWTavg_invjcb_avg_thrsh_1set_qw_masked_neg.nii"
   ]
  },
  {
   "cell_type": "code",
   "execution_count": null,
   "metadata": {},
   "outputs": [],
   "source": [
    "%%bash\n",
    "module load afni/20.1.11\n",
    "cd /data/bioprotean/RAG2/AVG/MWT_avg/to_allen/separate/\n",
    "3dcalc \\\n",
    "    -a MKO_MWTavg_invjcb_avg_thrsh_2set_qw_masked.nii \\\n",
    "    -expr '-posval(-a)' \\\n",
    "    -datum float \\\n",
    "    -prefix MKO_MWTavg_invjcb_avg_thrsh_2set_qw_masked_neg.nii"
   ]
  },
  {
   "cell_type": "markdown",
   "metadata": {},
   "source": [
    "Filtering the Jacobian by contrast to get rid of warp effects\n",
    "<br>As seen in AFNI, threshold of 0.25 for positive ones and 0.4 for negatives chosen"
   ]
  },
  {
   "cell_type": "code",
   "execution_count": null,
   "metadata": {},
   "outputs": [],
   "source": [
    "%%bash\n",
    "module load afni/20.1.11\n",
    "cd /data/bioprotean/RAG2/AVG/MWT_avg/to_allen/contrast/\n",
    "3dcalc \\\n",
    "    -a MKO_MWTavg_invjcb_avg_thrsh_1set_qw_masked_pos.nii \\\n",
    "    -expr 'posval(a-0.25)' \\\n",
    "    -datum float \\\n",
    "    -prefix MKO_MWTavg_invjcb_avg_thrsh_1set_qw_masked_pos_ctrst.nii"
   ]
  },
  {
   "cell_type": "code",
   "execution_count": null,
   "metadata": {},
   "outputs": [],
   "source": [
    "%%bash\n",
    "module load afni/20.1.11\n",
    "cd /data/bioprotean/RAG2/AVG/MWT_avg/to_allen/contrast/\n",
    "3dcalc \\\n",
    "    -a MKO_MWTavg_invjcb_avg_thrsh_2set_qw_masked_pos.nii \\\n",
    "    -expr 'posval(a-0.25)' \\\n",
    "    -datum float \\\n",
    "    -prefix MKO_MWTavg_invjcb_avg_thrsh_2set_qw_masked_pos_ctrst.nii"
   ]
  },
  {
   "cell_type": "code",
   "execution_count": null,
   "metadata": {},
   "outputs": [],
   "source": [
    "%%bash\n",
    "module load afni/20.1.11\n",
    "cd /data/bioprotean/RAG2/AVG/MWT_avg/to_allen/contrast/\n",
    "3dcalc \\\n",
    "    -a MKO_MWTavg_invjcb_avg_thrsh_1set_qw_masked_neg.nii \\\n",
    "    -expr '-posval(-a-0.4)' \\\n",
    "    -datum float \\\n",
    "    -prefix MKO_MWTavg_invjcb_avg_thrsh_1set_qw_masked_neg_ctrst.nii"
   ]
  },
  {
   "cell_type": "code",
   "execution_count": null,
   "metadata": {},
   "outputs": [],
   "source": [
    "%%bash\n",
    "module load afni/20.1.11\n",
    "cd /data/bioprotean/RAG2/AVG/MWT_avg/to_allen/contrast/\n",
    "3dcalc \\\n",
    "    -a MKO_MWTavg_invjcb_avg_thrsh_2set_qw_masked_neg.nii \\\n",
    "    -expr '-posval(-a-0.4)' \\\n",
    "    -datum float \\\n",
    "    -prefix MKO_MWTavg_invjcb_avg_thrsh_2set_qw_masked_neg_ctrst.nii"
   ]
  },
  {
   "cell_type": "markdown",
   "metadata": {},
   "source": [
    "Using AFNI clusterize function to reomve voxels of noise"
   ]
  },
  {
   "cell_type": "code",
   "execution_count": null,
   "metadata": {},
   "outputs": [],
   "source": [
    "%%bash\n",
    "module load afni/20.1.11\n",
    "cd /data/bioprotean/RAG2/AVG/MWT_avg/to_allen/clusterize/\n",
    "3dclust \\\n",
    "    -NN2 100 \\\n",
    "    -prefix MKO_MWTavg_invjcb_avg_thrsh_2set_qw_masked_neg_ctrst_clust.nii \\\n",
    "    MKO_MWTavg_invjcb_avg_thrsh_2set_qw_masked_neg_ctrst.nii \\"
   ]
  },
  {
   "cell_type": "code",
   "execution_count": null,
   "metadata": {},
   "outputs": [],
   "source": [
    "%%bash\n",
    "module load afni/20.1.11\n",
    "cd /data/bioprotean/RAG2/AVG/MWT_avg/to_allen/clusterize/\n",
    "3dclust \\\n",
    "    -NN2 100 \\\n",
    "    -prefix MKO_MWTavg_invjcb_avg_thrsh_2set_qw_masked_pos_ctrst_clust.nii \\\n",
    "    MKO_MWTavg_invjcb_avg_thrsh_2set_qw_masked_pos_ctrst.nii \\"
   ]
  },
  {
   "cell_type": "code",
   "execution_count": null,
   "metadata": {},
   "outputs": [],
   "source": [
    "%%bash\n",
    "module load afni/20.1.11\n",
    "cd /data/bioprotean/RAG2/AVG/MWT_avg/to_allen/clusterize/\n",
    "3dclust \\\n",
    "    -NN2 100 \\\n",
    "    -prefix MKO_MWTavg_invjcb_avg_thrsh_1set_qw_masked_neg_ctrst_clust.nii \\\n",
    "    MKO_MWTavg_invjcb_avg_thrsh_1set_qw_masked_neg_ctrst.nii \\"
   ]
  },
  {
   "cell_type": "code",
   "execution_count": null,
   "metadata": {},
   "outputs": [],
   "source": [
    "%%bash\n",
    "module load afni/20.1.11\n",
    "cd /data/bioprotean/RAG2/AVG/MWT_avg/to_allen/clusterize/\n",
    "3dclust \\\n",
    "    -NN2 100 \\\n",
    "    -prefix MKO_MWTavg_invjcb_avg_thrsh_1set_qw_masked_pos_ctrst_clust.nii \\\n",
    "    MKO_MWTavg_invjcb_avg_thrsh_1set_qw_masked_pos_ctrst.nii \\"
   ]
  },
  {
   "cell_type": "markdown",
   "metadata": {},
   "source": [
    "Making binary version of the clusterized Jacobians"
   ]
  },
  {
   "cell_type": "code",
   "execution_count": null,
   "metadata": {},
   "outputs": [],
   "source": [
    "%%bash\n",
    "module load afni/20.1.11\n",
    "cd /data/bioprotean/RAG2/AVG/MWT_avg/to_allen/binary/\n",
    "3dcalc \\\n",
    "    -a MKO_MWTavg_invjcb_avg_thrsh_1set_qw_masked_pos_ctrst_clust.nii \\\n",
    "    -expr 'step(a)' \\\n",
    "    -datum float \\\n",
    "    -prefix MKO_MWTavg_invjcb_avg_thrsh_1set_qw_masked_pos_ctrst_clust_binary.nii"
   ]
  },
  {
   "cell_type": "code",
   "execution_count": null,
   "metadata": {},
   "outputs": [],
   "source": [
    "%%bash\n",
    "module load afni/20.1.11\n",
    "cd /data/bioprotean/RAG2/AVG/MWT_avg/to_allen/binary/\n",
    "3dcalc \\\n",
    "    -a MKO_MWTavg_invjcb_avg_thrsh_2set_qw_masked_pos_ctrst_clust.nii \\\n",
    "    -expr 'step(a)' \\\n",
    "    -datum float \\\n",
    "    -prefix MKO_MWTavg_invjcb_avg_thrsh_2set_qw_masked_pos_ctrst_clust_binary.nii"
   ]
  },
  {
   "cell_type": "code",
   "execution_count": null,
   "metadata": {},
   "outputs": [],
   "source": [
    "%%bash\n",
    "module load afni/20.1.11\n",
    "cd /data/bioprotean/RAG2/AVG/MWT_avg/to_allen/binary/\n",
    "3dcalc \\\n",
    "    -a MKO_MWTavg_invjcb_avg_thrsh_1set_qw_masked_neg_ctrst_clust.nii \\\n",
    "    -expr 'step(-a)' \\\n",
    "    -datum float \\\n",
    "    -prefix MKO_MWTavg_invjcb_avg_thrsh_1set_qw_masked_neg_ctrst_clust_binary.nii"
   ]
  },
  {
   "cell_type": "code",
   "execution_count": null,
   "metadata": {},
   "outputs": [],
   "source": [
    "%%bash\n",
    "module load afni/20.1.11\n",
    "cd /data/bioprotean/RAG2/AVG/MWT_avg/to_allen/binary/\n",
    "3dcalc \\\n",
    "    -a MKO_MWTavg_invjcb_avg_thrsh_2set_qw_masked_neg_ctrst_clust.nii \\\n",
    "    -expr 'step(-a)' \\\n",
    "    -datum float \\\n",
    "    -prefix MKO_MWTavg_invjcb_avg_thrsh_2set_qw_masked_neg_ctrst_clust_binary.nii"
   ]
  },
  {
   "cell_type": "markdown",
   "metadata": {},
   "source": [
    "Resampling to 100 micrometer"
   ]
  },
  {
   "cell_type": "code",
   "execution_count": null,
   "metadata": {},
   "outputs": [],
   "source": [
    "%%bash\n",
    "module load afni/20.1.11\n",
    "cd /data/bioprotean/RAG2/AVG/MWT_avg/to_allen/overlap/resample_100/\n",
    "3dresample \\\n",
    "    -master allen_brain100.nii \\\n",
    "    -input MKO_MWTavg_invjcb_avg_thrsh_1set_qw_masked_neg_ctrst_clust.nii \\\n",
    "    -prefix MKO_MWTavg_invjcb_avg_thrsh_1set_qw_masked_neg_ctrst_clust_rs100.nii"
   ]
  },
  {
   "cell_type": "code",
   "execution_count": null,
   "metadata": {},
   "outputs": [],
   "source": [
    "%%bash\n",
    "module load afni/20.1.11\n",
    "cd /data/bioprotean/RAG2/AVG/MWT_avg/to_allen/overlap/resample_100/\n",
    "3dresample \\\n",
    "    -master allen_brain100.nii \\\n",
    "    -input MKO_MWTavg_invjcb_avg_thrsh_1set_qw_masked_neg_ctrst_clust_binary.nii \\\n",
    "    -prefix MKO_MWTavg_invjcb_avg_thrsh_1set_qw_masked_neg_ctrst_clust_binary_rs100.nii"
   ]
  },
  {
   "cell_type": "markdown",
   "metadata": {},
   "source": [
    "Resampling to higher resolutions to test visualizations"
   ]
  },
  {
   "cell_type": "code",
   "execution_count": 2,
   "metadata": {},
   "outputs": [
    {
     "name": "stderr",
     "output_type": "stream",
     "text": [
      "3dresample: /packages/7x/anaconda3/5.3.0/lib/libuuid.so.1: no version information available (required by /lib64/libSM.so.6)\n"
     ]
    }
   ],
   "source": [
    "%%bash\n",
    "module load afni/20.1.11\n",
    "cd /data/bioprotean/RAG2/AVG/MWT_avg/to_allen/overlap/high_res/\n",
    "3dresample \\\n",
    "    -dxyz 0.025 0.025 0.025 \\\n",
    "    -input MKO_MWTavg_invjcb_avg_thrsh_1set_qw_masked_neg_ctrst_clust_75um.nii \\\n",
    "    -prefix MKO_MWTavg_invjcb_avg_thrsh_1set_qw_masked_neg_ctrst_clust_25um.nii"
   ]
  },
  {
   "cell_type": "code",
   "execution_count": 3,
   "metadata": {},
   "outputs": [
    {
     "name": "stderr",
     "output_type": "stream",
     "text": [
      "3dresample: /packages/7x/anaconda3/5.3.0/lib/libuuid.so.1: no version information available (required by /lib64/libSM.so.6)\n"
     ]
    }
   ],
   "source": [
    "%%bash\n",
    "module load afni/20.1.11\n",
    "cd /data/bioprotean/RAG2/AVG/MWT_avg/to_allen/overlap/high_res/\n",
    "3dresample \\\n",
    "    -dxyz 0.025 0.025 0.025 \\\n",
    "    -input MKO_MWTavg_invjcb_avg_thrsh_1set_qw_masked_neg_ctrst_clust_binary_75um.nii \\\n",
    "    -prefix MKO_MWTavg_invjcb_avg_thrsh_1set_qw_masked_neg_ctrst_clust_binary_25um.nii"
   ]
  },
  {
   "cell_type": "code",
   "execution_count": 4,
   "metadata": {},
   "outputs": [
    {
     "name": "stderr",
     "output_type": "stream",
     "text": [
      "3dresample: /packages/7x/anaconda3/5.3.0/lib/libuuid.so.1: no version information available (required by /lib64/libSM.so.6)\n"
     ]
    }
   ],
   "source": [
    "%%bash\n",
    "module load afni/20.1.11\n",
    "cd /data/bioprotean/RAG2/AVG/MWT_avg/to_allen/overlap/high_res/\n",
    "3dresample \\\n",
    "    -dxyz 0.015 0.015 0.015 \\\n",
    "    -input MKO_MWTavg_invjcb_avg_thrsh_1set_qw_masked_neg_ctrst_clust_75um.nii \\\n",
    "    -prefix MKO_MWTavg_invjcb_avg_thrsh_1set_qw_masked_neg_ctrst_clust_15um.nii"
   ]
  },
  {
   "cell_type": "code",
   "execution_count": 5,
   "metadata": {},
   "outputs": [
    {
     "name": "stderr",
     "output_type": "stream",
     "text": [
      "3dresample: /packages/7x/anaconda3/5.3.0/lib/libuuid.so.1: no version information available (required by /lib64/libSM.so.6)\n"
     ]
    }
   ],
   "source": [
    "%%bash\n",
    "module load afni/20.1.11\n",
    "cd /data/bioprotean/RAG2/AVG/MWT_avg/to_allen/overlap/high_res/\n",
    "3dresample \\\n",
    "    -dxyz 0.015 0.015 0.015 \\\n",
    "    -input MKO_MWTavg_invjcb_avg_thrsh_1set_qw_masked_neg_ctrst_clust_binary_75um.nii \\\n",
    "    -prefix MKO_MWTavg_invjcb_avg_thrsh_1set_qw_masked_neg_ctrst_clust_binary_15um.nii"
   ]
  },
  {
   "cell_type": "code",
   "execution_count": null,
   "metadata": {},
   "outputs": [],
   "source": []
  }
 ],
 "metadata": {
  "kernelspec": {
   "display_name": "Py3-basic",
   "language": "python",
   "name": "python3"
  },
  "language_info": {
   "codemirror_mode": {
    "name": "ipython",
    "version": 3
   },
   "file_extension": ".py",
   "mimetype": "text/x-python",
   "name": "python",
   "nbconvert_exporter": "python",
   "pygments_lexer": "ipython3",
   "version": "3.7.2"
  }
 },
 "nbformat": 4,
 "nbformat_minor": 2
}
