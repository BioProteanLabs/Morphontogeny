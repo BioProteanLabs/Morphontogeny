{
 "cells": [
  {
   "cell_type": "raw",
   "metadata": {},
   "source": [
    "This is to mask the data with a label/other dataset.\n",
    "1. Datasets must resemble -> 3dresample.\n",
    "2. Boolean function applied.\n",
    "OR\n",
    "To make a mask from a dataset: Use 3dAutomask!"
   ]
  },
  {
   "cell_type": "code",
   "execution_count": 8,
   "metadata": {},
   "outputs": [
    {
     "name": "stderr",
     "output_type": "stream",
     "text": [
      "3dresample: /packages/7x/anaconda3/5.3.0/lib/libuuid.so.1: no version information available (required by /lib64/libSM.so.6)\n"
     ]
    }
   ],
   "source": [
    "%%bash\n",
    "module load afni/20.1.11\n",
    "cd /home/mabbasi6/morphometry/MKO_Morphometry/\n",
    "3dresample -master MWT_template.nii -input MKO_ttest_oneset+orig -prefix MKO_ttest_1set_mask.nii"
   ]
  },
  {
   "cell_type": "raw",
   "metadata": {},
   "source": [
    "The -datum command avoids conversion of negative values to 0."
   ]
  },
  {
   "cell_type": "code",
   "execution_count": 6,
   "metadata": {},
   "outputs": [
    {
     "name": "stderr",
     "output_type": "stream",
     "text": [
      "3dcalc: /packages/7x/anaconda3/5.3.0/lib/libuuid.so.1: no version information available (required by /lib64/libSM.so.6)\n",
      "++ 3dcalc: AFNI version=AFNI_20.1.11 (May 28 2020) [64-bit]\n",
      "++ Authored by: A cast of thousands\n",
      "++ Output dataset ./MKO_ttest_2set_mask.nii\n"
     ]
    }
   ],
   "source": [
    "%%bash\n",
    "module load afni/20.1.11\n",
    "cd /home/mabbasi6/morphometry/MKO_Morphometry/\n",
    "3dcalc -a MWT_template_mask.nii -b MKO_ttest_2set+orig -expr 'a*b' -prefix MKO_ttest_2set_mask.nii -datum float"
   ]
  },
  {
   "cell_type": "code",
   "execution_count": 1,
   "metadata": {},
   "outputs": [
    {
     "name": "stderr",
     "output_type": "stream",
     "text": [
      "3dcalc: /packages/7x/anaconda3/5.3.0/lib/libuuid.so.1: no version information available (required by /lib64/libSM.so.6)\n",
      "++ 3dcalc: AFNI version=AFNI_20.1.11 (May 28 2020) [64-bit]\n",
      "++ Authored by: A cast of thousands\n",
      "++ Output dataset ./1ttest_200.nii\n"
     ]
    }
   ],
   "source": [
    "%%bash\n",
    "module load afni/20.1.11\n",
    "cd /home/mabbasi6/morphometry/MWT_Morphometry/allen/rotate/\n",
    "3dcalc -a allen_200rs.nii -b 1ttest_200rstemp.nii -expr 'bool(a)*b' -prefix 1ttest_200.nii -datum float"
   ]
  },
  {
   "cell_type": "code",
   "execution_count": 5,
   "metadata": {},
   "outputs": [
    {
     "name": "stderr",
     "output_type": "stream",
     "text": [
      "3dAutomask: /packages/7x/anaconda3/5.3.0/lib/libuuid.so.1: no version information available (required by /lib64/libSM.so.6)\n",
      "++ 3dAutomask: AFNI version=AFNI_20.1.11 (May 28 2020) [64-bit]\n",
      "++ Authored by: Emperor Zhark\n",
      "++ Loading dataset MWT_template_res.nii\n",
      "++ Forming automask\n",
      " + Fixed clip level = 3992.843994\n",
      " + Used gradual clip level = 3877.373779 .. 4065.629883\n",
      " + Number voxels above clip level = 1037799\n",
      " + Clustering voxels ...\n",
      " + Largest cluster has 1037628 voxels\n",
      " + Clustering voxels ...\n",
      " + Largest cluster has 1034516 voxels\n",
      " + Filled  2367 voxels in small holes; now have 1036883 voxels\n",
      " + Filled 10434 voxels in large holes; now have 1047317 voxels\n",
      " + Clustering voxels ...\n",
      " + Largest cluster has 1047312 voxels\n",
      " + Clustering non-brain voxels ...\n",
      " + Clustering voxels ...\n",
      " + Largest cluster has 6172656 voxels\n",
      " + Mask now has 1047312 voxels\n",
      "++ 1047312 voxels in the mask [out of 7219968: 14.51%]\n",
      "++ first  19 x-planes are zero [from L]\n",
      "++ last   19 x-planes are zero [from R]\n",
      "++ first  29 y-planes are zero [from P]\n",
      "++ last   28 y-planes are zero [from A]\n",
      "++ first  19 z-planes are zero [from I]\n",
      "++ last   44 z-planes are zero [from S]\n",
      "++ Output dataset ./MWT_template_mask.nii\n",
      "++ CPU time = 0.000000 sec\n"
     ]
    }
   ],
   "source": [
    "%%bash\n",
    "module load afni/20.1.11\n",
    "cd /home/mabbasi6/morphometry/MKO_Morphometry/\n",
    "3dAutomask -prefix MWT_template_mask.nii MWT_template_res.nii"
   ]
  },
  {
   "cell_type": "code",
   "execution_count": 3,
   "metadata": {},
   "outputs": [
    {
     "name": "stderr",
     "output_type": "stream",
     "text": [
      "3dcopy: /packages/7x/anaconda3/5.3.0/lib/libuuid.so.1: no version information available (required by /lib64/libSM.so.6)\n",
      "++ 3dcopy: AFNI version=AFNI_20.1.11 (May 28 2020) [64-bit]\n"
     ]
    }
   ],
   "source": [
    "%%bash\n",
    "module load afni/20.1.11\n",
    "cd /home/mabbasi6/morphometry/MKO_Morphometry/\n",
    "3dcopy MKO_ttest_oneset+orig MKO_ttest_1set.nii"
   ]
  },
  {
   "cell_type": "code",
   "execution_count": null,
   "metadata": {},
   "outputs": [],
   "source": []
  }
 ],
 "metadata": {
  "kernelspec": {
   "display_name": "Py3-basic",
   "language": "python",
   "name": "python3"
  },
  "language_info": {
   "codemirror_mode": {
    "name": "ipython",
    "version": 3
   },
   "file_extension": ".py",
   "mimetype": "text/x-python",
   "name": "python",
   "nbconvert_exporter": "python",
   "pygments_lexer": "ipython3",
   "version": "3.7.2"
  }
 },
 "nbformat": 4,
 "nbformat_minor": 2
}
