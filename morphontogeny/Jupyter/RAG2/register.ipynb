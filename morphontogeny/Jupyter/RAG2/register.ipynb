{
 "cells": [
  {
   "cell_type": "markdown",
   "metadata": {},
   "source": [
    "This is to change our voxel data size from 1 mm to 0.075 by scaling all x,y,z dimensions"
   ]
  },
  {
   "cell_type": "code",
   "execution_count": null,
   "metadata": {},
   "outputs": [],
   "source": [
    "%%bash\n",
    "module load afni/20.1.11\n",
    "cd /home/mabbasi6/morphometry/Henkelman/FKO/1/\n",
    "input1='/home/mabbasi6/morphometry/Henkelman/FKO/1/1.nii'\n",
    "3drefit -xyzscale 0.075 $input1"
   ]
  },
  {
   "cell_type": "markdown",
   "metadata": {},
   "source": [
    "This is to mask the Henkelman atlas images (skull strip) using its labels images. If a point is inside labels -> keep it in image as well."
   ]
  },
  {
   "cell_type": "code",
   "execution_count": null,
   "metadata": {},
   "outputs": [],
   "source": [
    "%%bash\n",
    "module load afni/20.1.11\n",
    "cd /home/mabbasi6/morphometry/Henkelman/\n",
    "a = '/home/mabbasi6/morphometry/Henkelman/Dorr_2008_average.nii'\n",
    "b = '/home/mabbasi6/morphometry/Henkelman/Dorr_2008_labels.nii'\n",
    "3dcalc -a $a -b $b -expr 'bool(b)*a' -prefix masked"
   ]
  },
  {
   "cell_type": "markdown",
   "metadata": {},
   "source": [
    "This is to do Align_Centers to our data, but taking a masked but not resampled Henkelman atlas (masked+orig)."
   ]
  },
  {
   "cell_type": "code",
   "execution_count": null,
   "metadata": {},
   "outputs": [],
   "source": [
    "%%bash\n",
    "module load afni/20.1.11\n",
    "cd /home/mabbasi6/morphometry/Henkelman/FKO/1/\n",
    "temp = '/home/mabbasi6/morphometry/Henkelman/FKO/1/masked+orig'\n",
    "input1 = '/home/mabbasi6/morphometry/Henkelman/FKO/1/1.nii'\n",
    "@Align_Centers -base $temp -dset $input1"
   ]
  },
  {
   "cell_type": "markdown",
   "metadata": {},
   "source": [
    "This is to do 3dAllineate to our aligned data, but taking a masked but not resampled Henkelman atlas (masked+orig)."
   ]
  },
  {
   "cell_type": "code",
   "execution_count": null,
   "metadata": {},
   "outputs": [],
   "source": [
    "%%bash\n",
    "module load afni/20.1.11\n",
    "cd /home/mabbasi6/morphometry/Henkelman/FKO/1/\n",
    "temp = '/home/mabbasi6/morphometry/Henkelman/masked+orig'\n",
    "input1 = '/home/mabbasi6/morphometry/Henkelman/FKO/1/1_shft.nii'\n",
    "3dAllineate -base $temp -source $input1 -prefix Aff -1Dmatrix_save 1DM -cmass -cost lpa -mi -twopass -automask -num_rtb 2000 -warp affine_general -master $input1"
   ]
  },
  {
   "cell_type": "markdown",
   "metadata": {},
   "source": [
    "This is to resample Henkelman atlas to fit our data."
   ]
  },
  {
   "cell_type": "code",
   "execution_count": null,
   "metadata": {},
   "outputs": [],
   "source": [
    "%%bash\n",
    "module load afni/20.1.11\n",
    "cd /home/mabbasi6/morphometry/Henkelman/FKO/1/\n",
    "temp = '/home/mabbasi6/morphometry/Henkelman/FKO/1/masked+orig'\n",
    "input1 = '/home/mabbasi6/morphometry/Henkelman/FKO/1/1_shft.nii'\n",
    "3dresample -master $input1 -prefix res3 -input $temp"
   ]
  },
  {
   "cell_type": "markdown",
   "metadata": {},
   "source": [
    "This is to do align_epi_anat. The code is written to move anat towards api."
   ]
  },
  {
   "cell_type": "code",
   "execution_count": null,
   "metadata": {},
   "outputs": [],
   "source": [
    "%%bash\n",
    "module load afni/20.1.11\n",
    "cd /home/mabbasi6/morphometry/Henkelman/FKO/1/\n",
    "temp = '/home/mabbasi6/morphometry/Henkelman/masked+orig'\n",
    "input1 = '/home/mabbasi6/morphometry/Henkelman/FKO/1/1_shft.nii'\n",
    "align_epi_anat.py -anat $input1 -epi $temp -epi_base mean"
   ]
  },
  {
   "cell_type": "markdown",
   "metadata": {},
   "source": [
    "This is to autowarp our data to atlas (non-linear registration)"
   ]
  },
  {
   "cell_type": "code",
   "execution_count": null,
   "metadata": {},
   "outputs": [],
   "source": [
    "%%bash\n",
    "module load afni/20.1.11\n",
    "cd /home/mabbasi6/morphometry/Henkelman/FKO/1/\n",
    "temp = '/home/mabbasi6/morphometry/Henkelman/masked+orig'\n",
    "input1 = '/home/mabbasi6/morphometry/Henkelman/FKO/1/Aff+orig'\n",
    "auto_warp.py -base $temp -input $input1 -skip_affine yes -suffix aw"
   ]
  }
 ],
 "metadata": {
  "kernelspec": {
   "display_name": "Py3-basic",
   "language": "python",
   "name": "python3"
  },
  "language_info": {
   "codemirror_mode": {
    "name": "ipython",
    "version": 3
   },
   "file_extension": ".py",
   "mimetype": "text/x-python",
   "name": "python",
   "nbconvert_exporter": "python",
   "pygments_lexer": "ipython3",
   "version": "3.7.2"
  }
 },
 "nbformat": 4,
 "nbformat_minor": 2
}
