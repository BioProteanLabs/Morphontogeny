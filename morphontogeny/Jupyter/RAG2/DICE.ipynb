{
 "cells": [
  {
   "cell_type": "markdown",
   "metadata": {},
   "source": [
    "# DICE coefficient for measuring overlap\n",
    "Checking overlap of the Jacobian and the brain regions using DICE coefficient."
   ]
  },
  {
   "cell_type": "code",
   "execution_count": 5,
   "metadata": {},
   "outputs": [],
   "source": [
    "# Importing libraries\n",
    "import matplotlib.pyplot as plt\n",
    "%run nifti_tools.ipynb\n",
    "%run Overlap_functions.ipynb\n",
    "%matplotlib inline"
   ]
  },
  {
   "cell_type": "markdown",
   "metadata": {},
   "source": [
    "**Choosing top hits of DICE coefficient to see how much of Jacobian they cover,\n",
    "and selecting a threshold for it.**"
   ]
  },
  {
   "cell_type": "code",
   "execution_count": 2,
   "metadata": {},
   "outputs": [
    {
     "name": "stdout",
     "output_type": "stream",
     "text": [
      "Last index included to reach an overlap of 0.51 with Jacobian is 15.\n"
     ]
    }
   ],
   "source": [
    "# Loading the comprehensive overlap dataframe\n",
    "df_path = '/data/bioprotean/RAG2/AVG/MWT_avg/to_allen/overlap/200um/RAG2_neg_comp_overlap_anat.csv'\n",
    "overlap_df = pd.read_csv(df_path, index_col = 'Unnamed: 0')\n",
    "\n",
    "# Sorting the dataframe by DICE coeff and resetting the index\n",
    "sorted_df = overlap_df.sort_values(by=['DICE_neg_jcb_anat'], ascending=False, na_position='last')\n",
    "sorted_df.reset_index(drop=True, inplace=True)\n",
    "\n",
    "# Choosing top hits until the overlap with jacobian reaches a threshold\n",
    "threshold = 0.51\n",
    "thresh_df = sorted_df[sorted_df['jac_overlap_ratio'].cumsum() < threshold]\n",
    "\n",
    "print('Last index included to reach an overlap of {} with Jacobian is {}.'\\\n",
    ".format(threshold, thresh_df.shape[0]))"
   ]
  },
  {
   "cell_type": "markdown",
   "metadata": {},
   "source": [
    "**Checking overlap of this brain regions group with ISH clusters**"
   ]
  },
  {
   "cell_type": "code",
   "execution_count": 8,
   "metadata": {},
   "outputs": [],
   "source": [
    "'''\n",
    "Making a dataframe that has the overlap ratios of brain regions group and clusters,\n",
    "clusters ranging from 1 to 250.\n",
    "'''\n",
    "\n",
    "# Range of number of clusters\n",
    "n_max = 250\n",
    "number_range = range(1, n_max+1)\n",
    "\n",
    "# Creating an array to store overlap ratios\n",
    "score_arr = np.zeros((n_max, n_max))\n",
    "\n",
    "# Loading inputs to the function\n",
    "ant_file = '/data/bioprotean/RAG2/AVG/MWT_avg/to_allen/overlap/200um/allen_annot200.nii'\n",
    "ant_list = thresh_df['ant_id']\n",
    "\n",
    "# Looping over different clusters\n",
    "for n_clusters in number_range:\n",
    "    # Inputting path to the cluster file\n",
    "    cluster_file = '/data/bioprotean/ABA/PCA/clusters/nclusters_fixed'+str(n_clusters)+'.nii'\n",
    "    \n",
    "    # Computing the overlap for the cluster\n",
    "    overlap_list = Overlap_anat_clusters(ant_file, ant_list, cluster_file)\n",
    "    \n",
    "    # Adding the overlap list to the array\n",
    "    score_arr[:n_clusters, n_clusters-1] = np.array(overlap_list)\n",
    "\n",
    "# Converting the array to a dataframe\n",
    "output_df = pd.DataFrame(score_arr, columns = [str(i)+'_clusters' for i in number_range])\n",
    "output_df['cluster_ID'] = range(n_max)\n",
    "output_df.set_index('cluster_ID', inplace = True)"
   ]
  },
  {
   "cell_type": "code",
   "execution_count": 15,
   "metadata": {},
   "outputs": [
    {
     "data": {
      "text/plain": [
       "cluster_ID\n",
       "0     0.016899\n",
       "1     0.051953\n",
       "2     0.042204\n",
       "3     0.044316\n",
       "4     0.422746\n",
       "5     0.007385\n",
       "6     0.094539\n",
       "7     0.194289\n",
       "8     0.192026\n",
       "9     0.000000\n",
       "10    0.000000\n",
       "11    0.000000\n",
       "12    0.000000\n",
       "13    0.000000\n",
       "14    0.000000\n",
       "15    0.000000\n",
       "16    0.000000\n",
       "17    0.000000\n",
       "18    0.000000\n",
       "19    0.000000\n",
       "Name: 9_clusters, dtype: float64"
      ]
     },
     "execution_count": 15,
     "metadata": {},
     "output_type": "execute_result"
    }
   ],
   "source": [
    "output_df['9_clusters'].iloc[:20]"
   ]
  },
  {
   "cell_type": "code",
   "execution_count": 10,
   "metadata": {},
   "outputs": [
    {
     "name": "stdout",
     "output_type": "stream",
     "text": [
      "Maximum ratio is 0.428445049336509 for 9 clusters.\n",
      "\n"
     ]
    },
    {
     "data": {
      "image/png": "[encoded data removed]",
      "text/plain": [
       "<Figure size 432x288 with 1 Axes>"
      ]
     },
     "metadata": {
      "needs_background": "light"
     },
     "output_type": "display_data"
    }
   ],
   "source": [
    "'''\n",
    "Plotting the highest value in each experiment\n",
    "'''\n",
    "# List of max overlap from each column\n",
    "max_ratio_list = []\n",
    "\n",
    "# Getting the max value and adding to the list\n",
    "n_clusters = 250\n",
    "\n",
    "for i in range(n_clusters):\n",
    "    max_ratio = output_df.iloc[:,i].max()\n",
    "    \n",
    "    max_ratio_list.append(max_ratio)\n",
    "\n",
    "# Defining x and y\n",
    "x = range(1, n_clusters+1)\n",
    "y = max_ratio_list\n",
    "\n",
    "print('Maximum ratio is {} for {} clusters.\\n'.format(max(y), y.index(max(y))))\n",
    "\n",
    "# Plotting the ratios\n",
    "plt.plot(x, y)\n",
    "\n",
    "# Naming the x-axis, y-axis and the whole graph\n",
    "plt.xlabel(\"Number of clusters\")\n",
    "plt.ylabel(\"DICE\")\n",
    "plt.title(\"Maximum overlap of anatomy and clusters\")\n",
    "\n",
    "# Setting the figure size\n",
    "plt.rcParams[\"figure.figsize\"] = (10,10)\n",
    "\n",
    "# To load the display window\n",
    "plt.show()"
   ]
  },
  {
   "cell_type": "markdown",
   "metadata": {},
   "source": [
    "**We would like to see how many clusters define some good percentage of Jacobian.\n",
    "<br>We need to check the overlap with brain region for the clusters.**"
   ]
  },
  {
   "cell_type": "code",
   "execution_count": 21,
   "metadata": {},
   "outputs": [
    {
     "name": "stdout",
     "output_type": "stream",
     "text": [
      "0    0.422746\n",
      "1    0.194289\n",
      "2    0.192026\n",
      "Name: 9_clusters, dtype: float64\n",
      "\n",
      "Cluster IDs are: [4, 7, 8]\n",
      "\n",
      "Overlap of selected clusters with Jacobian on basis of DICE is [0.0631550025513208].\n"
     ]
    }
   ],
   "source": [
    "# Choosing the total number of clusters and clusters to pick\n",
    "n_clusters = 9\n",
    "select_n = 3\n",
    "\n",
    "# Sorting the dataframe to get top n hits of each column\n",
    "selected_df = output_df.sort_values(by=[str(n_clusters)+'_clusters'], ascending=False, na_position='last')\n",
    "selected_df.reset_index(inplace=True)\n",
    "\n",
    "print(selected_df[str(n_clusters)+'_clusters'].head(select_n))\n",
    "\n",
    "# Getting the cluster id for the top select_n regions\n",
    "cluster_ids_list = list(selected_df['cluster_ID'].iloc[:select_n])\n",
    "\n",
    "print('\\nCluster IDs are: {}\\n'.format(cluster_ids_list))\n",
    "\n",
    "# Calling the function\n",
    "jac_file = '/data/bioprotean/RAG2/AVG/MWT_avg/to_allen/overlap/200um/\\\n",
    "MKO_MWTavg_invjcb_avg_thrsh_1set_qw_masked_neg_ctrst_clust_binary_200.nii'\n",
    "cluster_file = '/data/bioprotean/ABA/PCA/clusters/nclusters_fixed'+str(n_clusters)+'.nii'\n",
    "\n",
    "# Selecting the overlap mode\n",
    "overlap_mode = 'DICE'\n",
    "\n",
    "overlap_list = Overlap_jac_clusters (jac_file, cluster_file, cluster_bundle = True,\\\n",
    "cluster_bundle_list = cluster_ids_list, mode = overlap_mode, plot = False)\n",
    "\n",
    "print('Overlap of selected clusters with Jacobian on basis \\\n",
    "of {} is {}.'.format(overlap_mode, overlap_list))"
   ]
  },
  {
   "cell_type": "markdown",
   "metadata": {},
   "source": [
    "# Show these clusters"
   ]
  },
  {
   "cell_type": "code",
   "execution_count": 13,
   "metadata": {},
   "outputs": [
    {
     "data": {
      "text/plain": [
       "0              \"int\"\n",
       "1               \"CP\"\n",
       "2              \"GPe\"\n",
       "3               \"RT\"\n",
       "4              \"arb\"\n",
       "5     \"fiber tracts\"\n",
       "6              \"stc\"\n",
       "7              \"VPL\"\n",
       "8               \"VL\"\n",
       "9               \"PB\"\n",
       "10             \"CA3\"\n",
       "11           \"CENT2\"\n",
       "12             \"GPi\"\n",
       "13         \"CUL4, 5\"\n",
       "14             \"MOB\"\n",
       "Name: acronym, dtype: object"
      ]
     },
     "execution_count": 13,
     "metadata": {},
     "output_type": "execute_result"
    }
   ],
   "source": [
    "thresh_df['acronym']"
   ]
  },
  {
   "cell_type": "code",
   "execution_count": null,
   "metadata": {},
   "outputs": [],
   "source": []
  }
 ],
 "metadata": {
  "kernelspec": {
   "display_name": "Py3-basic",
   "language": "python",
   "name": "python3"
  },
  "language_info": {
   "codemirror_mode": {
    "name": "ipython",
    "version": 3
   },
   "file_extension": ".py",
   "mimetype": "text/x-python",
   "name": "python",
   "nbconvert_exporter": "python",
   "pygments_lexer": "ipython3",
   "version": "3.7.2"
  }
 },
 "nbformat": 4,
 "nbformat_minor": 2
}
