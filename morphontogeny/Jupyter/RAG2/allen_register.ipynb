{
 "cells": [
  {
   "cell_type": "markdown",
   "metadata": {},
   "source": [
    "Using these functions, the MKO template has been registered to the Allen Mouse brain template."
   ]
  },
  {
   "cell_type": "markdown",
   "metadata": {},
   "source": [
    "The first step is to convert Allen NII file to BRIK format."
   ]
  },
  {
   "cell_type": "code",
   "execution_count": 21,
   "metadata": {},
   "outputs": [
    {
     "name": "stderr",
     "output_type": "stream",
     "text": [
      "3dcopy: /packages/7x/anaconda3/5.3.0/lib/libuuid.so.1: no version information available (required by /lib64/libSM.so.6)\n",
      "++ 3dcopy: AFNI version=AFNI_20.1.11 (May 28 2020) [64-bit]\n"
     ]
    }
   ],
   "source": [
    "%%bash\n",
    "module load afni/20.1.11\n",
    "cd /home/mabbasi6/morphometry/MWT_Morphometry/allen/rotate/awp_ac/\n",
    "3dcopy 1ttest_wp.nii allen_50"
   ]
  },
  {
   "cell_type": "markdown",
   "metadata": {},
   "source": [
    "This is to check the information of the Allen file."
   ]
  },
  {
   "cell_type": "code",
   "execution_count": 4,
   "metadata": {},
   "outputs": [
    {
     "name": "stdout",
     "output_type": "stream",
     "text": [
      "-0.050000\t-0.050000\t0.050000\n"
     ]
    },
    {
     "name": "stderr",
     "output_type": "stream",
     "text": [
      "3dinfo: /packages/7x/anaconda3/5.3.0/lib/libuuid.so.1: no version information available (required by /lib64/libSM.so.6)\n"
     ]
    }
   ],
   "source": [
    "%%bash\n",
    "module load afni/20.1.11\n",
    "cd /home/mabbasi6/morphometry/Allen/MKO_template/\n",
    "3dinfo -d3 allen_50.nii"
   ]
  },
  {
   "cell_type": "markdown",
   "metadata": {},
   "source": [
    "This is to scale the Allen voxel size by 0.001 to get into right dimensions for AFNI"
   ]
  },
  {
   "cell_type": "code",
   "execution_count": 3,
   "metadata": {},
   "outputs": [
    {
     "name": "stderr",
     "output_type": "stream",
     "text": [
      "3drefit: /packages/7x/anaconda3/5.3.0/lib/libuuid.so.1: no version information available (required by /lib64/libSM.so.6)\n",
      "++ 3drefit: AFNI version=AFNI_20.1.11 (May 28 2020) [64-bit]\n",
      "++ Authored by: RW Cox\n",
      "++ Processing AFNI dataset allen_50.nii\n",
      " + applying -xyzscale\n",
      " + deoblique\n",
      " + loading and re-writing dataset allen_50.nii (/home/mabbasi6/morphometry/Allen/MKO_template/allen_50.nii in NIFTI storage)\n",
      "++ 3drefit processed 1 datasets\n"
     ]
    }
   ],
   "source": [
    "%%bash\n",
    "module load afni/20.1.11\n",
    "cd /home/mabbasi6/morphometry/Allen/MKO_template/\n",
    "3drefit -xyzscale 0.001 allen_50.nii"
   ]
  },
  {
   "cell_type": "markdown",
   "metadata": {},
   "source": [
    "This is to deoblique the allen brain (did not work)"
   ]
  },
  {
   "cell_type": "code",
   "execution_count": 1,
   "metadata": {},
   "outputs": [
    {
     "name": "stderr",
     "output_type": "stream",
     "text": [
      "3drefit: /packages/7x/anaconda3/5.3.0/lib/libuuid.so.1: no version information available (required by /lib64/libSM.so.6)\n",
      "++ 3drefit: AFNI version=AFNI_20.1.11 (May 28 2020) [64-bit]\n",
      "++ Authored by: RW Cox\n",
      "++ Processing AFNI dataset average_template_50.nii\n",
      " + deoblique\n",
      " + loading and re-writing dataset average_template_50.nii (/home/mabbasi6/morphometry/Allen/MKO_template/average_template_50.nii in NIFTI storage)\n",
      "++ 3drefit processed 1 datasets\n"
     ]
    }
   ],
   "source": [
    "%%bash\n",
    "module load afni/20.1.11\n",
    "cd /home/mabbasi6/morphometry/Allen/MKO_template/\n",
    "3drefit -deoblique average_template_50.nii"
   ]
  },
  {
   "cell_type": "markdown",
   "metadata": {},
   "source": [
    "This is to rotate Allen brain using 3drotate (very complicated, use matlab file in allen_rotation folder instead)"
   ]
  },
  {
   "cell_type": "code",
   "execution_count": 9,
   "metadata": {},
   "outputs": [
    {
     "name": "stderr",
     "output_type": "stream",
     "text": [
      "3drotate: /packages/7x/anaconda3/5.3.0/lib/libuuid.so.1: no version information available (required by /lib64/libSM.so.6)\n",
      "++ 3drotate: AFNI version=AFNI_20.1.11 (May 28 2020) [64-bit]\n",
      "++ Authored by: RW Cox\n"
     ]
    }
   ],
   "source": [
    "%%bash\n",
    "module load afni/20.1.11\n",
    "cd /home/mabbasi6/morphometry/Allen/MKO_template/\n",
    "3drotate -rotate 0 90 0 -prefix 0_90_0 allen_75+orig"
   ]
  },
  {
   "cell_type": "markdown",
   "metadata": {},
   "source": [
    "This step is to downsample Allen file to 75 micrometers."
   ]
  },
  {
   "cell_type": "code",
   "execution_count": 5,
   "metadata": {},
   "outputs": [
    {
     "name": "stderr",
     "output_type": "stream",
     "text": [
      "3dresample: /packages/7x/anaconda3/5.3.0/lib/libuuid.so.1: no version information available (required by /lib64/libSM.so.6)\n"
     ]
    }
   ],
   "source": [
    "%%bash\n",
    "module load afni/20.1.11\n",
    "cd /home/mabbasi6/morphometry/Allen/MKO_template/\n",
    "3dresample -dxyz 0.075 0.075 0.075 -input allen_50.nii -prefix allen_75"
   ]
  },
  {
   "cell_type": "markdown",
   "metadata": {},
   "source": [
    "This is to align center of Allen to our template."
   ]
  },
  {
   "cell_type": "code",
   "execution_count": 6,
   "metadata": {},
   "outputs": [
    {
     "name": "stderr",
     "output_type": "stream",
     "text": [
      "ParseName: /packages/7x/anaconda3/5.3.0/lib/libuuid.so.1: no version information available (required by /lib64/libSM.so.6)\n",
      "ParseName: /packages/7x/anaconda3/5.3.0/lib/libuuid.so.1: no version information available (required by /lib64/libSM.so.6)\n",
      "afni: /packages/7x/anaconda3/5.3.0/lib/libuuid.so.1: no version information available (required by /lib64/libSM.so.6)\n",
      "afni: /packages/7x/anaconda3/5.3.0/lib/libuuid.so.1: no version information available (required by /lib64/libSM.so.6)\n",
      "afni: /packages/7x/anaconda3/5.3.0/lib/libuuid.so.1: no version information available (required by /lib64/libSM.so.6)\n",
      "afni: /packages/7x/anaconda3/5.3.0/lib/libuuid.so.1: no version information available (required by /lib64/libSM.so.6)\n",
      "ParseName: /packages/7x/anaconda3/5.3.0/lib/libuuid.so.1: no version information available (required by /lib64/libSM.so.6)\n",
      "3dAttribute: /packages/7x/anaconda3/5.3.0/lib/libuuid.so.1: no version information available (required by /lib64/libSM.so.6)\n",
      "ccalc: /packages/7x/anaconda3/5.3.0/lib/libuuid.so.1: no version information available (required by /lib64/libSM.so.6)\n",
      "ccalc: /packages/7x/anaconda3/5.3.0/lib/libuuid.so.1: no version information available (required by /lib64/libSM.so.6)\n",
      "ccalc: /packages/7x/anaconda3/5.3.0/lib/libuuid.so.1: no version information available (required by /lib64/libSM.so.6)\n",
      "ccalc: /packages/7x/anaconda3/5.3.0/lib/libuuid.so.1: no version information available (required by /lib64/libSM.so.6)\n",
      "ccalc: /packages/7x/anaconda3/5.3.0/lib/libuuid.so.1: no version information available (required by /lib64/libSM.so.6)\n",
      "3dAttribute: /packages/7x/anaconda3/5.3.0/lib/libuuid.so.1: no version information available (required by /lib64/libSM.so.6)\n",
      "ccalc: /packages/7x/anaconda3/5.3.0/lib/libuuid.so.1: no version information available (required by /lib64/libSM.so.6)\n",
      "ccalc: /packages/7x/anaconda3/5.3.0/lib/libuuid.so.1: no version information available (required by /lib64/libSM.so.6)\n",
      "ccalc: /packages/7x/anaconda3/5.3.0/lib/libuuid.so.1: no version information available (required by /lib64/libSM.so.6)\n",
      "ccalc: /packages/7x/anaconda3/5.3.0/lib/libuuid.so.1: no version information available (required by /lib64/libSM.so.6)\n",
      "ccalc: /packages/7x/anaconda3/5.3.0/lib/libuuid.so.1: no version information available (required by /lib64/libSM.so.6)\n",
      "ccalc: /packages/7x/anaconda3/5.3.0/lib/libuuid.so.1: no version information available (required by /lib64/libSM.so.6)\n",
      "ccalc: /packages/7x/anaconda3/5.3.0/lib/libuuid.so.1: no version information available (required by /lib64/libSM.so.6)\n",
      "ccalc: /packages/7x/anaconda3/5.3.0/lib/libuuid.so.1: no version information available (required by /lib64/libSM.so.6)\n",
      "ccalc: /packages/7x/anaconda3/5.3.0/lib/libuuid.so.1: no version information available (required by /lib64/libSM.so.6)\n",
      "ccalc: /packages/7x/anaconda3/5.3.0/lib/libuuid.so.1: no version information available (required by /lib64/libSM.so.6)\n",
      "ccalc: /packages/7x/anaconda3/5.3.0/lib/libuuid.so.1: no version information available (required by /lib64/libSM.so.6)\n",
      "ccalc: /packages/7x/anaconda3/5.3.0/lib/libuuid.so.1: no version information available (required by /lib64/libSM.so.6)\n",
      "ccalc: /packages/7x/anaconda3/5.3.0/lib/libuuid.so.1: no version information available (required by /lib64/libSM.so.6)\n",
      "ccalc: /packages/7x/anaconda3/5.3.0/lib/libuuid.so.1: no version information available (required by /lib64/libSM.so.6)\n",
      "ccalc: /packages/7x/anaconda3/5.3.0/lib/libuuid.so.1: no version information available (required by /lib64/libSM.so.6)\n",
      "ccalc: /packages/7x/anaconda3/5.3.0/lib/libuuid.so.1: no version information available (required by /lib64/libSM.so.6)\n",
      "3dcopy: /packages/7x/anaconda3/5.3.0/lib/libuuid.so.1: no version information available (required by /lib64/libSM.so.6)\n",
      "++ 3dcopy: AFNI version=AFNI_20.1.11 (May 28 2020) [64-bit]\n",
      "3drefit: /packages/7x/anaconda3/5.3.0/lib/libuuid.so.1: no version information available (required by /lib64/libSM.so.6)\n",
      "++ 3drefit: AFNI version=AFNI_20.1.11 (May 28 2020) [64-bit]\n",
      "++ Authored by: RW Cox\n",
      "++ Processing AFNI dataset ./MKO_shift+orig\n",
      " + deoblique\n",
      "++ 3drefit processed 1 datasets\n",
      "ccalc: /packages/7x/anaconda3/5.3.0/lib/libuuid.so.1: no version information available (required by /lib64/libSM.so.6)\n",
      "ccalc: /packages/7x/anaconda3/5.3.0/lib/libuuid.so.1: no version information available (required by /lib64/libSM.so.6)\n",
      "ccalc: /packages/7x/anaconda3/5.3.0/lib/libuuid.so.1: no version information available (required by /lib64/libSM.so.6)\n",
      "ParseName: /packages/7x/anaconda3/5.3.0/lib/libuuid.so.1: no version information available (required by /lib64/libSM.so.6)\n",
      "ParseName: /packages/7x/anaconda3/5.3.0/lib/libuuid.so.1: no version information available (required by /lib64/libSM.so.6)\n"
     ]
    }
   ],
   "source": [
    "%%bash\n",
    "module load afni/20.1.11\n",
    "cd /home/mabbasi6/morphometry/Allen/MKO_template/\n",
    "@Align_Centers -base allen_75+orig -dset MKO+orig -prefix MKO_shift"
   ]
  },
  {
   "cell_type": "markdown",
   "metadata": {},
   "source": [
    "This is to use align_epi_anat to warp our template to Allen atlas. dset1 and dset2 are used to show images are from similar modalities."
   ]
  },
  {
   "cell_type": "code",
   "execution_count": 14,
   "metadata": {},
   "outputs": [
    {
     "name": "stdout",
     "output_type": "stream",
     "text": [
      "#++ align_epi_anat version: 1.62\n",
      "#++ turning off tshift, volume registration, resampling\n",
      "#++ turning off tshift, volume registration, resampling\n",
      "#Script is running:\n",
      "  3dAttribute DELTA /home/mabbasi6/morphometry/Allen/MKO_template/MKO_shift+orig\n",
      "#Script is running:\n",
      "  3dAttribute DELTA /home/mabbasi6/morphometry/Allen/MKO_template/MKO_shift+orig\n",
      "#Script is running (command trimmed):\n",
      "  3dAttribute DELTA ./allen_75_tlrc+orig\n",
      "#++ Multi-cost is lpa\n",
      "#++ Removing all the temporary files\n",
      "#Script is running:\n",
      "  \\rm -f ./__tt_MKO_shift*\n",
      "#Script is running:\n",
      "  \\rm -f ./__tt_allen_75_tlrc*\n",
      "#Script is running (command trimmed):\n",
      "  3dcopy ./allen_75_tlrc+orig ./__tt_allen_75_tlrc+orig\n",
      "#++ Removing skull from dset1 data\n",
      "#Script is running (command trimmed):\n",
      "  3dSkullStrip -orig_vol -input ./__tt_allen_75_tlrc+orig -prefix ./__tt_allen_75_tlrc_ns\n",
      "** ERROR: Could not strip skull\n",
      "\n",
      "** ERROR - script failed\n"
     ]
    },
    {
     "name": "stderr",
     "output_type": "stream",
     "text": [
      "3dcopy: /packages/7x/anaconda3/5.3.0/lib/libuuid.so.1: no version information available (required by /lib64/libSM.so.6)\n",
      "++ 3dcopy: AFNI version=AFNI_20.1.11 (May 28 2020) [64-bit]\n",
      "3dSkullStrip: /packages/7x/anaconda3/5.3.0/lib/libuuid.so.1: no version information available (required by /lib64/libSM.so.6)\n",
      "oo     Warning 3dSkullStrip (SUMA_3dSkullStrip.c:1649):\n",
      "Input dataset has a very low value range.\n",
      "If stripping fails, repeat with option -fac 1000\n",
      "**ERROR: normalization fails!?\n"
     ]
    }
   ],
   "source": [
    "%%bash\n",
    "module load afni/20.1.11\n",
    "cd /home/mabbasi6/morphometry/Allen/MKO_template/\n",
    "align_epi_anat.py -dset1 allen_75_tlrc+orig -dset2 MKO_shift+orig -epi_base mean -suffix _al"
   ]
  },
  {
   "cell_type": "markdown",
   "metadata": {},
   "source": [
    "This is to align our template to Allen template using affine registration."
   ]
  },
  {
   "cell_type": "code",
   "execution_count": 7,
   "metadata": {},
   "outputs": [
    {
     "name": "stderr",
     "output_type": "stream",
     "text": [
      "3dAllineate: /packages/7x/anaconda3/5.3.0/lib/libuuid.so.1: no version information available (required by /lib64/libSM.so.6)\n",
      "++ 3dAllineate: AFNI version=AFNI_20.1.11 (May 28 2020) [64-bit]\n",
      "++ Authored by: Zhark the Registrator\n",
      "++ Source dataset: ./MKO_shift+orig.HEAD\n",
      "++ Base dataset:   ./allen_75+orig.HEAD\n",
      "++ Loading datasets into memory\n",
      "++ master dataset for output = base\n",
      "++ OpenMP thread count = 1\n",
      "++ ======= Allineation of 1 sub-bricks using Mutual Information [H(b)+H(s)-H(b,s)] =======\n",
      "++ *** Coarse pass begins ***\n",
      "++ *** Fine pass begins ***\n",
      " + Final fine fit Parameters:\n",
      "       x-shift= -0.0843   y-shift= -0.3782   z-shift=  0.1955  ...  enorm=  0.4340 mm\n",
      "       z-angle=  0.0000   x-angle=  0.0000   y-angle=  0.0000  ...  total=  0.0000 deg\n",
      "       x-scale=  1.0000   y-scale=  1.0000   z-scale=  1.0000  ...  vol3D=  1.0000 = base smaller than source\n",
      "     y/x-shear=  0.0000 z/x-shear=  0.0000 z/y-shear= -0.0000\n",
      "++ Output dataset ./MKO_aff+orig.BRIK\n",
      "++ Wrote -1Dmatrix_save affine.aff12.1D\n",
      "++ 3dAllineate: total CPU time = 0.0 sec  Elapsed = 34.0\n",
      "++ ###########################################################\n",
      "++ #   Please check results visually for alignment quality   #\n",
      "++ ###########################################################\n"
     ]
    }
   ],
   "source": [
    "%%bash\n",
    "module load afni/20.1.11\n",
    "cd /home/mabbasi6/morphometry/Allen/MKO_template/\n",
    "3dAllineate -base allen_75+orig -source MKO_shift+orig -prefix MKO_aff -1Dmatrix_save affine -cmass -mi -twopass -automask -num_rtb 2000 -warp affine_general"
   ]
  },
  {
   "cell_type": "markdown",
   "metadata": {},
   "source": [
    "This is to warp our template to allen template."
   ]
  },
  {
   "cell_type": "code",
   "execution_count": 8,
   "metadata": {},
   "outputs": [
    {
     "name": "stdout",
     "output_type": "stream",
     "text": [
      "#++ auto_warp.py version: 0.04\n",
      "# Output directory /home/mabbasi6/morphometry/Allen/MKO_template/awpy/\n",
      "#Script is running:\n",
      "  mkdir /home/mabbasi6/morphometry/Allen/MKO_template/awpy/\n",
      "cd /home/mabbasi6/morphometry/Allen/MKO_template/awpy/\n",
      "#Script is running (command trimmed):\n",
      "  3dcopy /home/mabbasi6/morphometry/Allen/MKO_template/MKO_aff+orig ./anat.nii\n",
      "#Script is running (command trimmed):\n",
      "  3dUnifize -GM -input ./anat.nii -prefix ./anat.un.nii\n",
      "#Script is running (command trimmed):\n",
      "  3dcopy /home/mabbasi6/morphometry/Allen/MKO_template/allen_75+orig ./base.nii\n",
      "#++ Aligning /home/mabbasi6/morphometry/Allen/MKO_template/awpy/base.nii data to /home/mabbasi6/morphometry/Allen/MKO_template/awpy/anat.un.nii data\n",
      "#Script is running (command trimmed):\n",
      "  @auto_tlrc -base ./base.nii -input ./anat.un.nii -suffix .aff -no_ss -no_pre -init_xform CENTER \n",
      "Copying NIFTI volume to ./anat.un_XYZ_OYmeqfZ3JqF7n9LNC7gDAA\n",
      "\n",
      "Performing center alignment with @Align_Centers\n",
      "\n",
      "++ anat already stripped, re-using\n",
      "Center distance of 0.000000 mm\n",
      "Padding ...\n",
      "Resampling ...\n",
      "Clipping -0.000100 3235.760100 ...\n",
      "Registration (cubic final interpolation) ...\n",
      "RMS[0] = 87.0559 84.5305   ITER = 32/50\n",
      "87.0559\n",
      "\n",
      "Warping has converged.\n",
      "\n",
      "Applying brain mask\n",
      "Unpadding ...\n",
      "Changing view of transformed anatomy\n",
      "Cleanup ...\n",
      "#Script is running (command trimmed):\n",
      "  3dAttribute DELTA ./anat.un.aff.nii\n",
      "#Script is running:\n",
      "  3dAttribute DELTA /home/mabbasi6/morphometry/Allen/MKO_template/awpy/base.nii\n",
      "0.075000 0.075000\n",
      "#Script is running (command trimmed):\n",
      "  3dinfo -same_grid ./anat.un.aff.nii ./base.nii\n",
      "#++ Aligning /home/mabbasi6/morphometry/Allen/MKO_template/awpy/base.nii data to /home/mabbasi6/morphometry/Allen/MKO_template/awpy/anat.un.aff.nii data\n",
      "#Script is running (command trimmed):\n",
      "  3dQwarp -prefix ./anat.un.aff.qw.nii -blur -3 -3 -workhard:0:1 -base ./base.nii -source ./anat.un.aff.nii \n",
      "#++ Applying warps to /home/mabbasi6/morphometry/Allen/MKO_template/MKO_aff+orig\n",
      "#Script is running (command trimmed):\n",
      "  3dNwarpApply -nwarp \"./anat.un.aff.qw_WARP.nii anat.un.aff.Xat.1D\" -master ./base.nii -source /home/mabbasi6/morphometry/Allen/MKO_template/MKO_aff+orig -prefix ./MKO_aff.aw.nii \n",
      "AFNI filename:\n",
      "   initial : ./MKO_aff.aw.nii\n",
      "   prefix  : MKO_aff.aw\n",
      "   view    : \n",
      "   exten.  : .nii\n",
      "   type    : NIFTI\n",
      "   On Disk : 0\n",
      "   Row Sel : \n",
      "   Col Sel : \n",
      "   Node Sel: \n",
      "   RangeSel: \n",
      "#**ERROR Failed in warping step\n",
      "** ERROR - script failed\n"
     ]
    },
    {
     "name": "stderr",
     "output_type": "stream",
     "text": [
      "3dcopy: /packages/7x/anaconda3/5.3.0/lib/libuuid.so.1: no version information available (required by /lib64/libSM.so.6)\n",
      "++ 3dcopy: AFNI version=AFNI_20.1.11 (May 28 2020) [64-bit]\n",
      "3dUnifize: /packages/7x/anaconda3/5.3.0/lib/libuuid.so.1: no version information available (required by /lib64/libSM.so.6)\n",
      "++ 3dUnifize: AFNI version=AFNI_20.1.11 (May 28 2020) [64-bit]\n",
      " + Pre-processing: ADV...UW[s233]Gm\n",
      "++ Output dataset ./anat.un.nii\n",
      "++ ===== Elapsed = 23.8 sec\n",
      "3dcopy: /packages/7x/anaconda3/5.3.0/lib/libuuid.so.1: no version information available (required by /lib64/libSM.so.6)\n",
      "++ 3dcopy: AFNI version=AFNI_20.1.11 (May 28 2020) [64-bit]\n",
      "3dinfo: /packages/7x/anaconda3/5.3.0/lib/libuuid.so.1: no version information available (required by /lib64/libSM.so.6)\n",
      "3dinfo: /packages/7x/anaconda3/5.3.0/lib/libuuid.so.1: no version information available (required by /lib64/libSM.so.6)\n",
      "3dnewid: /packages/7x/anaconda3/5.3.0/lib/libuuid.so.1: no version information available (required by /lib64/libSM.so.6)\n",
      "3dcopy: /packages/7x/anaconda3/5.3.0/lib/libuuid.so.1: no version information available (required by /lib64/libSM.so.6)\n",
      "++ 3dcopy: AFNI version=AFNI_20.1.11 (May 28 2020) [64-bit]\n",
      "3dAttribute: /packages/7x/anaconda3/5.3.0/lib/libuuid.so.1: no version information available (required by /lib64/libSM.so.6)\n",
      "ccalc: /packages/7x/anaconda3/5.3.0/lib/libuuid.so.1: no version information available (required by /lib64/libSM.so.6)\n",
      "ccalc: /packages/7x/anaconda3/5.3.0/lib/libuuid.so.1: no version information available (required by /lib64/libSM.so.6)\n",
      "ccalc: /packages/7x/anaconda3/5.3.0/lib/libuuid.so.1: no version information available (required by /lib64/libSM.so.6)\n",
      "3dAttribute: /packages/7x/anaconda3/5.3.0/lib/libuuid.so.1: no version information available (required by /lib64/libSM.so.6)\n",
      "ccalc: /packages/7x/anaconda3/5.3.0/lib/libuuid.so.1: no version information available (required by /lib64/libSM.so.6)\n",
      "ccalc: /packages/7x/anaconda3/5.3.0/lib/libuuid.so.1: no version information available (required by /lib64/libSM.so.6)\n",
      "ccalc: /packages/7x/anaconda3/5.3.0/lib/libuuid.so.1: no version information available (required by /lib64/libSM.so.6)\n",
      "ccalc: /packages/7x/anaconda3/5.3.0/lib/libuuid.so.1: no version information available (required by /lib64/libSM.so.6)\n",
      "ccalc: /packages/7x/anaconda3/5.3.0/lib/libuuid.so.1: no version information available (required by /lib64/libSM.so.6)\n",
      "ParseName: /packages/7x/anaconda3/5.3.0/lib/libuuid.so.1: no version information available (required by /lib64/libSM.so.6)\n",
      "3dAttribute: /packages/7x/anaconda3/5.3.0/lib/libuuid.so.1: no version information available (required by /lib64/libSM.so.6)\n",
      "ccalc: /packages/7x/anaconda3/5.3.0/lib/libuuid.so.1: no version information available (required by /lib64/libSM.so.6)\n",
      "ccalc: /packages/7x/anaconda3/5.3.0/lib/libuuid.so.1: no version information available (required by /lib64/libSM.so.6)\n",
      "ccalc: /packages/7x/anaconda3/5.3.0/lib/libuuid.so.1: no version information available (required by /lib64/libSM.so.6)\n",
      "ccalc: /packages/7x/anaconda3/5.3.0/lib/libuuid.so.1: no version information available (required by /lib64/libSM.so.6)\n",
      "ccalc: /packages/7x/anaconda3/5.3.0/lib/libuuid.so.1: no version information available (required by /lib64/libSM.so.6)\n",
      "3dAttribute: /packages/7x/anaconda3/5.3.0/lib/libuuid.so.1: no version information available (required by /lib64/libSM.so.6)\n",
      "ccalc: /packages/7x/anaconda3/5.3.0/lib/libuuid.so.1: no version information available (required by /lib64/libSM.so.6)\n",
      "ccalc: /packages/7x/anaconda3/5.3.0/lib/libuuid.so.1: no version information available (required by /lib64/libSM.so.6)\n",
      "ccalc: /packages/7x/anaconda3/5.3.0/lib/libuuid.so.1: no version information available (required by /lib64/libSM.so.6)\n",
      "ccalc: /packages/7x/anaconda3/5.3.0/lib/libuuid.so.1: no version information available (required by /lib64/libSM.so.6)\n",
      "ccalc: /packages/7x/anaconda3/5.3.0/lib/libuuid.so.1: no version information available (required by /lib64/libSM.so.6)\n",
      "ccalc: /packages/7x/anaconda3/5.3.0/lib/libuuid.so.1: no version information available (required by /lib64/libSM.so.6)\n",
      "ccalc: /packages/7x/anaconda3/5.3.0/lib/libuuid.so.1: no version information available (required by /lib64/libSM.so.6)\n",
      "ccalc: /packages/7x/anaconda3/5.3.0/lib/libuuid.so.1: no version information available (required by /lib64/libSM.so.6)\n",
      "ccalc: /packages/7x/anaconda3/5.3.0/lib/libuuid.so.1: no version information available (required by /lib64/libSM.so.6)\n",
      "ccalc: /packages/7x/anaconda3/5.3.0/lib/libuuid.so.1: no version information available (required by /lib64/libSM.so.6)\n",
      "ccalc: /packages/7x/anaconda3/5.3.0/lib/libuuid.so.1: no version information available (required by /lib64/libSM.so.6)\n",
      "ccalc: /packages/7x/anaconda3/5.3.0/lib/libuuid.so.1: no version information available (required by /lib64/libSM.so.6)\n",
      "ccalc: /packages/7x/anaconda3/5.3.0/lib/libuuid.so.1: no version information available (required by /lib64/libSM.so.6)\n",
      "ccalc: /packages/7x/anaconda3/5.3.0/lib/libuuid.so.1: no version information available (required by /lib64/libSM.so.6)\n",
      "ccalc: /packages/7x/anaconda3/5.3.0/lib/libuuid.so.1: no version information available (required by /lib64/libSM.so.6)\n",
      "ccalc: /packages/7x/anaconda3/5.3.0/lib/libuuid.so.1: no version information available (required by /lib64/libSM.so.6)\n",
      "3dcopy: /packages/7x/anaconda3/5.3.0/lib/libuuid.so.1: no version information available (required by /lib64/libSM.so.6)\n",
      "++ 3dcopy: AFNI version=AFNI_20.1.11 (May 28 2020) [64-bit]\n",
      "3drefit: /packages/7x/anaconda3/5.3.0/lib/libuuid.so.1: no version information available (required by /lib64/libSM.so.6)\n",
      "++ 3drefit: AFNI version=AFNI_20.1.11 (May 28 2020) [64-bit]\n",
      "++ Authored by: RW Cox\n",
      "++ Processing AFNI dataset ./anat.un_XYZ_OYmeqfZ3JqF7n9LNC7gDAA_shft+orig\n",
      " + deoblique\n",
      "++ 3drefit processed 1 datasets\n",
      "ccalc: /packages/7x/anaconda3/5.3.0/lib/libuuid.so.1: no version information available (required by /lib64/libSM.so.6)\n",
      "ccalc: /packages/7x/anaconda3/5.3.0/lib/libuuid.so.1: no version information available (required by /lib64/libSM.so.6)\n",
      "ccalc: /packages/7x/anaconda3/5.3.0/lib/libuuid.so.1: no version information available (required by /lib64/libSM.so.6)\n",
      "ParseName: /packages/7x/anaconda3/5.3.0/lib/libuuid.so.1: no version information available (required by /lib64/libSM.so.6)\n",
      "ParseName: /packages/7x/anaconda3/5.3.0/lib/libuuid.so.1: no version information available (required by /lib64/libSM.so.6)\n",
      "1dmatcalc: /packages/7x/anaconda3/5.3.0/lib/libuuid.so.1: no version information available (required by /lib64/libSM.so.6)\n",
      "3drename: /packages/7x/anaconda3/5.3.0/lib/libuuid.so.1: no version information available (required by /lib64/libSM.so.6)\n",
      "++ 3drename: AFNI version=AFNI_20.1.11 (May 28 2020) [64-bit]\n",
      "++ THD_rename_dataset_files: rename anat.un_XYZ_OYmeqfZ3JqF7n9LNC7gDAA_shft+orig.HEAD -> __ats_tmp__anat.un_XYZ_OYmeqfZ3JqF7n9LNC7gDAA_shft+orig.HEAD\n",
      "++ THD_rename_dataset_files: rename anat.un_XYZ_OYmeqfZ3JqF7n9LNC7gDAA_shft+orig.BRIK -> __ats_tmp__anat.un_XYZ_OYmeqfZ3JqF7n9LNC7gDAA_shft+orig.BRIK\n",
      "** THD_rename_dataset_files: old header anat.un_XYZ_OYmeqfZ3JqF7n9LNC7gDAA_shft+acpc.HEAD doesn't exist!\n",
      "** THD_rename_dataset_files: old header anat.un_XYZ_OYmeqfZ3JqF7n9LNC7gDAA_shft+tlrc.HEAD doesn't exist!\n",
      "3dWarp: /packages/7x/anaconda3/5.3.0/lib/libuuid.so.1: no version information available (required by /lib64/libSM.so.6)\n",
      "++ 3dWarp: AFNI version=AFNI_20.1.11 (May 28 2020) [64-bit]\n",
      "++ Authored by: RW Cox\n",
      "3dinfo: /packages/7x/anaconda3/5.3.0/lib/libuuid.so.1: no version information available (required by /lib64/libSM.so.6)\n",
      "3dinfo: /packages/7x/anaconda3/5.3.0/lib/libuuid.so.1: no version information available (required by /lib64/libSM.so.6)\n",
      "3dinfo: /packages/7x/anaconda3/5.3.0/lib/libuuid.so.1: no version information available (required by /lib64/libSM.so.6)\n",
      "3dAttribute: /packages/7x/anaconda3/5.3.0/lib/libuuid.so.1: no version information available (required by /lib64/libSM.so.6)\n",
      "3dAttribute: /packages/7x/anaconda3/5.3.0/lib/libuuid.so.1: no version information available (required by /lib64/libSM.so.6)\n",
      "ccalc: /packages/7x/anaconda3/5.3.0/lib/libuuid.so.1: no version information available (required by /lib64/libSM.so.6)\n",
      "ccalc: /packages/7x/anaconda3/5.3.0/lib/libuuid.so.1: no version information available (required by /lib64/libSM.so.6)\n",
      "ccalc: /packages/7x/anaconda3/5.3.0/lib/libuuid.so.1: no version information available (required by /lib64/libSM.so.6)\n",
      "3dAttribute: /packages/7x/anaconda3/5.3.0/lib/libuuid.so.1: no version information available (required by /lib64/libSM.so.6)\n",
      "ccalc: /packages/7x/anaconda3/5.3.0/lib/libuuid.so.1: no version information available (required by /lib64/libSM.so.6)\n",
      "ccalc: /packages/7x/anaconda3/5.3.0/lib/libuuid.so.1: no version information available (required by /lib64/libSM.so.6)\n",
      "ccalc: /packages/7x/anaconda3/5.3.0/lib/libuuid.so.1: no version information available (required by /lib64/libSM.so.6)\n",
      "ccalc: /packages/7x/anaconda3/5.3.0/lib/libuuid.so.1: no version information available (required by /lib64/libSM.so.6)\n",
      "ccalc: /packages/7x/anaconda3/5.3.0/lib/libuuid.so.1: no version information available (required by /lib64/libSM.so.6)\n",
      "3dZeropad: /packages/7x/anaconda3/5.3.0/lib/libuuid.so.1: no version information available (required by /lib64/libSM.so.6)\n",
      "++ 3dZeropad: AFNI version=AFNI_20.1.11 (May 28 2020) [64-bit]\n",
      "++ output dataset: ./__ats_tmp__ref_base.nii_15pad+orig.BRIK\n",
      "3dresample: /packages/7x/anaconda3/5.3.0/lib/libuuid.so.1: no version information available (required by /lib64/libSM.so.6)\n",
      "3dcalc: /packages/7x/anaconda3/5.3.0/lib/libuuid.so.1: no version information available (required by /lib64/libSM.so.6)\n",
      "++ 3dcalc: AFNI version=AFNI_20.1.11 (May 28 2020) [64-bit]\n",
      "++ Authored by: A cast of thousands\n",
      "++ Output dataset ././__ats_tmp__resamp_step+orig.BRIK\n",
      "3dresample: /packages/7x/anaconda3/5.3.0/lib/libuuid.so.1: no version information available (required by /lib64/libSM.so.6)\n",
      "3dcalc: /packages/7x/anaconda3/5.3.0/lib/libuuid.so.1: no version information available (required by /lib64/libSM.so.6)\n",
      "++ 3dcalc: AFNI version=AFNI_20.1.11 (May 28 2020) [64-bit]\n",
      "++ Authored by: A cast of thousands\n",
      "++ Output dataset ././__ats_tmp__resamp+orig.BRIK\n",
      "3dBrickStat: /packages/7x/anaconda3/5.3.0/lib/libuuid.so.1: no version information available (required by /lib64/libSM.so.6)\n",
      "ccalc: /packages/7x/anaconda3/5.3.0/lib/libuuid.so.1: no version information available (required by /lib64/libSM.so.6)\n",
      "ccalc: /packages/7x/anaconda3/5.3.0/lib/libuuid.so.1: no version information available (required by /lib64/libSM.so.6)\n",
      "3dcalc: /packages/7x/anaconda3/5.3.0/lib/libuuid.so.1: no version information available (required by /lib64/libSM.so.6)\n",
      "++ 3dcalc: AFNI version=AFNI_20.1.11 (May 28 2020) [64-bit]\n",
      "++ Authored by: A cast of thousands\n",
      "++ Output dataset ./__ats_tmp___rs_pre.anat.un_XYZ_OYmeqfZ3JqF7n9LNC7gDAA+orig.BRIK\n",
      "3drefit: /packages/7x/anaconda3/5.3.0/lib/libuuid.so.1: no version information available (required by /lib64/libSM.so.6)\n",
      "++ 3drefit: AFNI version=AFNI_20.1.11 (May 28 2020) [64-bit]\n",
      "++ Authored by: RW Cox\n",
      "++ Processing AFNI dataset __ats_tmp___rs_pre.anat.un_XYZ_OYmeqfZ3JqF7n9LNC7gDAA+orig.HEAD\n",
      " + Didn't make any changes for dataset __ats_tmp___rs_pre.anat.un_XYZ_OYmeqfZ3JqF7n9LNC7gDAA+orig.HEAD !\n",
      "++ 3drefit processed 1 datasets\n",
      "3drefit: /packages/7x/anaconda3/5.3.0/lib/libuuid.so.1: no version information available (required by /lib64/libSM.so.6)\n",
      "++ 3drefit: AFNI version=AFNI_20.1.11 (May 28 2020) [64-bit]\n",
      "++ Authored by: RW Cox\n",
      "++ Processing AFNI dataset __ats_tmp__resamp_NN+orig.HEAD\n",
      " + Didn't make any changes for dataset __ats_tmp__resamp_NN+orig.HEAD !\n",
      "++ 3drefit processed 1 datasets\n",
      "3drefit: /packages/7x/anaconda3/5.3.0/lib/libuuid.so.1: no version information available (required by /lib64/libSM.so.6)\n",
      "++ 3drefit: AFNI version=AFNI_20.1.11 (May 28 2020) [64-bit]\n",
      "++ Authored by: RW Cox\n",
      "++ Processing AFNI dataset __ats_tmp__resamp_edge_art+orig.HEAD\n",
      " + Didn't make any changes for dataset __ats_tmp__resamp_edge_art+orig.HEAD !\n",
      "++ 3drefit processed 1 datasets\n",
      "3dWarpDrive: /packages/7x/anaconda3/5.3.0/lib/libuuid.so.1: no version information available (required by /lib64/libSM.so.6)\n",
      "++ 3dWarpDrive: AFNI version=AFNI_20.1.11 (May 28 2020) [64-bit]\n",
      "++ Authored by: RW Cox\n",
      "ccalc: /packages/7x/anaconda3/5.3.0/lib/libuuid.so.1: no version information available (required by /lib64/libSM.so.6)\n",
      "ccalc: /packages/7x/anaconda3/5.3.0/lib/libuuid.so.1: no version information available (required by /lib64/libSM.so.6)\n",
      "cat_matvec: /packages/7x/anaconda3/5.3.0/lib/libuuid.so.1: no version information available (required by /lib64/libSM.so.6)\n",
      "cat_matvec: /packages/7x/anaconda3/5.3.0/lib/libuuid.so.1: no version information available (required by /lib64/libSM.so.6)\n",
      "cat_matvec: /packages/7x/anaconda3/5.3.0/lib/libuuid.so.1: no version information available (required by /lib64/libSM.so.6)\n",
      "3dcopy: /packages/7x/anaconda3/5.3.0/lib/libuuid.so.1: no version information available (required by /lib64/libSM.so.6)\n",
      "++ 3dcopy: AFNI version=AFNI_20.1.11 (May 28 2020) [64-bit]\n",
      "3dWarp: /packages/7x/anaconda3/5.3.0/lib/libuuid.so.1: no version information available (required by /lib64/libSM.so.6)\n",
      "++ 3dWarp: AFNI version=AFNI_20.1.11 (May 28 2020) [64-bit]\n",
      "++ Authored by: RW Cox\n",
      "3dcalc: /packages/7x/anaconda3/5.3.0/lib/libuuid.so.1: no version information available (required by /lib64/libSM.so.6)\n",
      "++ 3dcalc: AFNI version=AFNI_20.1.11 (May 28 2020) [64-bit]\n",
      "++ Authored by: A cast of thousands\n",
      "++ Output dataset ././__ats_tmp__reg_braintlrcstep+orig.BRIK\n",
      "3dWarp: /packages/7x/anaconda3/5.3.0/lib/libuuid.so.1: no version information available (required by /lib64/libSM.so.6)\n",
      "++ 3dWarp: AFNI version=AFNI_20.1.11 (May 28 2020) [64-bit]\n",
      "++ Authored by: RW Cox\n",
      "3drename: /packages/7x/anaconda3/5.3.0/lib/libuuid.so.1: no version information available (required by /lib64/libSM.so.6)\n",
      "++ 3drename: AFNI version=AFNI_20.1.11 (May 28 2020) [64-bit]\n",
      "++ THD_rename_dataset_files: rename __ats_tmp___pad15_pre.anat.un_XYZ_OYmeqfZ3JqF7n9LNC7gDAA.aff+orig.HEAD -> __ats_tmp___pad15_pre.anat.un_XYZ_OYmeqfZ3JqF7n9LNC7gDAA.aff.skl+orig.HEAD\n",
      "++ THD_rename_dataset_files: rename __ats_tmp___pad15_pre.anat.un_XYZ_OYmeqfZ3JqF7n9LNC7gDAA.aff+orig.BRIK -> __ats_tmp___pad15_pre.anat.un_XYZ_OYmeqfZ3JqF7n9LNC7gDAA.aff.skl+orig.BRIK\n",
      "3dcalc: /packages/7x/anaconda3/5.3.0/lib/libuuid.so.1: no version information available (required by /lib64/libSM.so.6)\n",
      "++ 3dcalc: AFNI version=AFNI_20.1.11 (May 28 2020) [64-bit]\n",
      "++ Authored by: A cast of thousands\n",
      "++ Output dataset ././__ats_tmp___pad15_pre.anat.un_XYZ_OYmeqfZ3JqF7n9LNC7gDAA.aff+orig.BRIK\n",
      "3dZeropad: /packages/7x/anaconda3/5.3.0/lib/libuuid.so.1: no version information available (required by /lib64/libSM.so.6)\n",
      "++ 3dZeropad: AFNI version=AFNI_20.1.11 (May 28 2020) [64-bit]\n",
      "++ output dataset: ./__ats_tmp___upad15_pre.anat.un_XYZ_OYmeqfZ3JqF7n9LNC7gDAA.aff+orig.BRIK\n",
      "3drefit: /packages/7x/anaconda3/5.3.0/lib/libuuid.so.1: no version information available (required by /lib64/libSM.so.6)\n",
      "++ 3drefit: AFNI version=AFNI_20.1.11 (May 28 2020) [64-bit]\n",
      "++ Authored by: RW Cox\n",
      "++ Processing AFNI dataset __ats_tmp___upad15_pre.anat.un_XYZ_OYmeqfZ3JqF7n9LNC7gDAA.aff+orig\n",
      "++ 3drefit processed 1 datasets\n",
      "3dNotes: /packages/7x/anaconda3/5.3.0/lib/libuuid.so.1: no version information available (required by /lib64/libSM.so.6)\n",
      "3drefit: /packages/7x/anaconda3/5.3.0/lib/libuuid.so.1: no version information available (required by /lib64/libSM.so.6)\n",
      "++ 3drefit: AFNI version=AFNI_20.1.11 (May 28 2020) [64-bit]\n",
      "++ Authored by: RW Cox\n",
      "++ Processing AFNI dataset __ats_tmp___upad15_pre.anat.un_XYZ_OYmeqfZ3JqF7n9LNC7gDAA.aff+orig.HEAD\n",
      " + Didn't make any changes for dataset __ats_tmp___upad15_pre.anat.un_XYZ_OYmeqfZ3JqF7n9LNC7gDAA.aff+orig.HEAD !\n",
      "++ 3drefit processed 1 datasets\n",
      "3dAFNItoNIFTI: /packages/7x/anaconda3/5.3.0/lib/libuuid.so.1: no version information available (required by /lib64/libSM.so.6)\n",
      "++ 3dAFNItoNIFTI: AFNI version=AFNI_20.1.11 (May 28 2020) [64-bit]\n",
      "3dQwarp: /packages/7x/anaconda3/5.3.0/lib/libuuid.so.1: no version information available (required by /lib64/libSM.so.6)\n",
      "++ OpenMP thread count = 1\n",
      "++ 3dQwarp: AFNI version=AFNI_20.1.11 (May 28 2020) [64-bit]\n",
      "++ Authored by: Zhark the (Hermite) Cubically Warped\n",
      "++ Dataset zero-pad: xbot=10 xtop=10  ybot=20 ytop=19  zbot=6 ztop=10 voxels\n",
      "++ Weightizing the base image: FWHM = 4.5 (vox)\n",
      "++ +++++++++++ Begin warp optimization:  base=/home/mabbasi6/morphometry/Allen/MKO_template/awpy/base.nii  source=/home/mabbasi6/morphometry/Allen/MKO_template/awpy/anat.un.aff.nii\n",
      "++ AFNI warpomatic: 172 x 215 x 123 volume ; autobbox = 11..159 13..196 7..115 [clock= 9s 597ms]\n",
      "lev=0 0..171 0..214 0..122: [first cost=-0.34496] .... done [cost:-0.34496==>-0.48807]\n",
      "lev=1 patch=129x161x93 [clock= 3m 9s 708ms]........:[cost=-0.52138]:........ done [cost:-0.48807==>-0.54408 ; 16 patches optimized, 0 skipped]\n",
      "lev=2 patch=97x121x69 [clock= 5m 38s 41ms]........................... done [cost:-0.54408==>-0.61593 ; 27 patches optimized, 0 skipped]\n",
      "lev=3 patch=73x91x51 [clock= 7m 38s 812ms].................. done [cost:-0.61593==>-0.10949 ; 48 patches optimized, 16 skipped]\n",
      "lev=4 patch=55x69x39 [clock= 11m 14s 733ms]............. done [cost:-0.10949==>-0.23766 ; 91 patches optimized, 34 skipped]\n",
      "lev=5 patch=41x51x29 [clock= 14m 33s 122ms]................ done [cost:-0.23766==>-0.49142 ; 254 patches optimized, 138 skipped]\n",
      "lev=6 patch=31x39x25 [clock= 18m 13s 82ms]........................ done [cost:-0.49142==>-0.57261 ; 538 patches optimized, 362 skipped]\n",
      "lev=7 patch=25x25x25 [clock= 21m 43s 881ms]............................. done [cost:-0.57261==>-0.66266 ; 990 patches optimized, 630 skipped]\n",
      "++ ====== total number of parameters 'optimized' = 23715\n",
      " +      initial unpenalized cost = -0.344959\n",
      " +        final unpenalized cost = -0.721502\n",
      " +        final penalized   cost = -0.662661\n",
      "++ Output dataset ./anat.un.aff.qw.nii\n",
      "++ Output dataset ./anat.un.aff.qw_WARP.nii\n",
      "++ ===== clock time = 25m 11s 256ms\n",
      "3dNwarpApply: /packages/7x/anaconda3/5.3.0/lib/libuuid.so.1: no version information available (required by /lib64/libSM.so.6)\n",
      "++ 3dNwarpApply: AFNI version=AFNI_20.1.11 (May 28 2020) [64-bit]\n",
      "++ Authored by: Zhark the Warped\n",
      "++ -master dataset is './base.nii'\n",
      "++ opened source dataset '/home/mabbasi6/morphometry/Allen/MKO_template/MKO_aff+orig'\n",
      "++ Processing -nwarp "
     ]
    }
   ],
   "source": [
    "%%bash\n",
    "module load afni/20.1.11\n",
    "cd /home/mabbasi6/morphometry/Allen/MKO_template/\n",
    "auto_warp.py -base allen_75+orig -input MKO_aff+orig -suffix MKO_warp"
   ]
  },
  {
   "cell_type": "code",
   "execution_count": null,
   "metadata": {},
   "outputs": [],
   "source": []
  }
 ],
 "metadata": {
  "kernelspec": {
   "display_name": "Py3-basic",
   "language": "python",
   "name": "python3"
  },
  "language_info": {
   "codemirror_mode": {
    "name": "ipython",
    "version": 3
   },
   "file_extension": ".py",
   "mimetype": "text/x-python",
   "name": "python",
   "nbconvert_exporter": "python",
   "pygments_lexer": "ipython3",
   "version": "3.7.2"
  }
 },
 "nbformat": 4,
 "nbformat_minor": 2
}
