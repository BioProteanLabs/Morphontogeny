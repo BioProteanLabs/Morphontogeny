{
 "cells": [
  {
   "cell_type": "code",
   "execution_count": null,
   "metadata": {},
   "outputs": [],
   "source": [
    "import pandas as pd\n",
    "import numpy as np\n",
    "import nibabel as nib\n",
    "import os\n",
    "from sklearn.cluster import KMeans"
   ]
  },
  {
   "cell_type": "code",
   "execution_count": null,
   "metadata": {},
   "outputs": [],
   "source": [
    "internal_cap = pd.read_csv('/data/bioprotean/Naren/6_internalcapsule.csv')"
   ]
  },
  {
   "cell_type": "code",
   "execution_count": null,
   "metadata": {},
   "outputs": [],
   "source": [
    "internal_cap"
   ]
  },
  {
   "cell_type": "code",
   "execution_count": null,
   "metadata": {},
   "outputs": [],
   "source": [
    "data = internal_cap['1'].to_numpy()\n",
    "data_rs = data.reshape(67,58,41)"
   ]
  },
  {
   "cell_type": "code",
   "execution_count": null,
   "metadata": {},
   "outputs": [],
   "source": [
    "img = nib.Nifti1Image(data_rs, np.eye(4)) # Save axis for data (just identity)\n",
    "img.header.get_xyzt_units()\n",
    "img.to_filename(os.path.join('build','/data/bioprotean/Naren/internalcapsule_1.nii')) # Save as NiBabel file"
   ]
  },
  {
   "cell_type": "code",
   "execution_count": null,
   "metadata": {},
   "outputs": [],
   "source": [
    "%%bash\n",
    "module load afni/20.1.11\n",
    "input=/data/bioprotean/Naren/internalcapsule_1.nii\n",
    "3dinfo -orient -ad3 -o3 -space $input"
   ]
  },
  {
   "cell_type": "code",
   "execution_count": null,
   "metadata": {},
   "outputs": [],
   "source": [
    "%%bash\n",
    "module load afni/20.1.11\n",
    "input=/data/bioprotean/Naren/internalcapsule_1.nii\n",
    "3drefit -xorigin 0 -yorigin 0 -zorigin 0 $input\n",
    "3drefit -orient ARS $input\n",
    "3drefit -space ORIG $input\n",
    "3drefit -view orig $input"
   ]
  },
  {
   "cell_type": "code",
   "execution_count": null,
   "metadata": {},
   "outputs": [],
   "source": [
    "%%bash\n",
    "module load afni/20.1.11\n",
    "input=/data/bioprotean/Naren/internalcapsule_1.nii\n",
    "3drefit -xyzscale 0.2 $input"
   ]
  },
  {
   "cell_type": "code",
   "execution_count": null,
   "metadata": {},
   "outputs": [],
   "source": [
    "X = np.memmap('/data/bioprotean/SVD/vg/rc.mymemmap', dtype='float32', mode='r', shape=(159326,271))"
   ]
  },
  {
   "cell_type": "code",
   "execution_count": null,
   "metadata": {},
   "outputs": [],
   "source": [
    "kmeans = KMeans(init='k-means++', n_clusters=3, n_init=50)\n",
    "kmeans.fit_predict(X)\n",
    "data2 = kmeans.labels_.reshape(67,58,41)\n",
    "img2 = nib.Nifti1Image(data2, np.eye(4)) # Save axis for data (just identity)\n",
    "img2.header.get_xyzt_units()\n",
    "img2.to_filename(os.path.join('build','/data/bioprotean/Naren/test_clusters_header.nii')) # Save as NiBabel file"
   ]
  },
  {
   "cell_type": "code",
   "execution_count": null,
   "metadata": {},
   "outputs": [],
   "source": [
    "%%bash\n",
    "module load afni/20.1.11\n",
    "input=/data/bioprotean/Naren/test_clusters_header.nii\n",
    "3drefit -xorigin 0 -yorigin 0 -zorigin 0 $input\n",
    "3drefit -orient ARS $input\n",
    "3drefit -space ORIG $input\n",
    "3drefit -view orig $input"
   ]
  },
  {
   "cell_type": "code",
   "execution_count": null,
   "metadata": {},
   "outputs": [],
   "source": [
    "%%bash\n",
    "module load afni/20.1.11\n",
    "input=/data/bioprotean/Naren/test_clusters_header.nii\n",
    "3drefit -xyzscale 0.2 $input"
   ]
  },
  {
   "cell_type": "code",
   "execution_count": null,
   "metadata": {},
   "outputs": [],
   "source": [
    "img3 = nib.load('/data/bioprotean/Naren/nclusters_3.nii')\n",
    "load = np.array(img3.dataobj)"
   ]
  },
  {
   "cell_type": "code",
   "execution_count": null,
   "metadata": {},
   "outputs": [],
   "source": [
    "load.shape"
   ]
  },
  {
   "cell_type": "code",
   "execution_count": null,
   "metadata": {},
   "outputs": [],
   "source": [
    "# Loading a sample gene file to get the dimensions\n",
    "gene = np.genfromtxt('/data/bioprotean/ABA/ish/70927828.csv', delimiter=',', skip_header=1, usecols=range(1,2379))"
   ]
  },
  {
   "cell_type": "code",
   "execution_count": null,
   "metadata": {},
   "outputs": [],
   "source": [
    "gene.shape"
   ]
  },
  {
   "cell_type": "code",
   "execution_count": null,
   "metadata": {},
   "outputs": [],
   "source": [
    "gene_rs1 = gene.reshape(67,58,41)"
   ]
  },
  {
   "cell_type": "code",
   "execution_count": null,
   "metadata": {},
   "outputs": [],
   "source": [
    "gene_rs2 = gene.reshape(67,41,58)"
   ]
  },
  {
   "cell_type": "code",
   "execution_count": null,
   "metadata": {},
   "outputs": [],
   "source": [
    "data_2 = internal_cap['1'].to_numpy()\n",
    "data_rs2 = data_2.reshape(67,41,58)"
   ]
  },
  {
   "cell_type": "code",
   "execution_count": null,
   "metadata": {},
   "outputs": [],
   "source": [
    "img5 = nib.Nifti1Image(data_rs2, np.eye(4)) # Save axis for data (just identity)\n",
    "img5.header.get_xyzt_units()\n",
    "img5.to_filename(os.path.join('build','/data/bioprotean/Naren/internalcapsule_1_neworient.nii')) # Save as NiBabel file"
   ]
  },
  {
   "cell_type": "code",
   "execution_count": null,
   "metadata": {},
   "outputs": [],
   "source": [
    "%%bash\n",
    "module load afni/20.1.11\n",
    "input=/data/bioprotean/Naren/internalcapsule_1_neworient.nii\n",
    "3drefit -xorigin 0 -yorigin 0 -zorigin 0 $input\n",
    "3drefit -orient ASR $input\n",
    "3drefit -space ORIG $input\n",
    "3drefit -view orig $input"
   ]
  },
  {
   "cell_type": "code",
   "execution_count": null,
   "metadata": {},
   "outputs": [],
   "source": [
    "%%bash\n",
    "module load afni/20.1.11\n",
    "input=/data/bioprotean/Naren/internalcapsule_1_neworient.nii\n",
    "3drefit -xyzscale 0.2 $input"
   ]
  },
  {
   "cell_type": "code",
   "execution_count": null,
   "metadata": {},
   "outputs": [],
   "source": [
    "%%bash\n",
    "module load afni/20.1.11\n",
    "cd /data/bioprotean/Naren/\n",
    "@Align_Centers -base allen_50.nii -dset internalcapsule_1_neworient.nii -prefix ic_1_ac.nii"
   ]
  },
  {
   "cell_type": "code",
   "execution_count": null,
   "metadata": {},
   "outputs": [],
   "source": []
  }
 ],
 "metadata": {
  "kernelspec": {
   "display_name": "Py3-basic",
   "language": "python",
   "name": "python3"
  },
  "language_info": {
   "codemirror_mode": {
    "name": "ipython",
    "version": 3
   },
   "file_extension": ".py",
   "mimetype": "text/x-python",
   "name": "python",
   "nbconvert_exporter": "python",
   "pygments_lexer": "ipython3",
   "version": "3.7.2"
  }
 },
 "nbformat": 4,
 "nbformat_minor": 2
}
