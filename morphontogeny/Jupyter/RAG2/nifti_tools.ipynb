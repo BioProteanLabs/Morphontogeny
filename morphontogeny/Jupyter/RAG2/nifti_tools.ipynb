{
 "cells": [
  {
   "cell_type": "code",
   "execution_count": null,
   "metadata": {},
   "outputs": [],
   "source": [
    "import numpy as np\n",
    "import nibabel as nib\n",
    "from scipy.spatial.distance import directed_hausdorff\n",
    "import os"
   ]
  },
  {
   "cell_type": "code",
   "execution_count": null,
   "metadata": {},
   "outputs": [],
   "source": [
    "def copy_nifti_header(base, input, outfile):\n",
    "    \"\"\"\n",
    "    Takes the NIFTI header from base file and overwrites it for the input\n",
    "    (Nibabel library needed)\n",
    "    \n",
    "    Parameters:\n",
    "    base (str): base file address, its header gets copied to input's\n",
    "    input (str): input file address, its header gets replaced with base's\n",
    "    outfile (str): output file address\n",
    "    \n",
    "    Returns:\n",
    "    None\n",
    "    \"\"\"\n",
    "    \n",
    "    base_img = nib.load(base)\n",
    "    \n",
    "    input_img = nib.load(input)\n",
    "    input_matrix = np.array(input_img.dataobj).astype('float32')\n",
    "    \n",
    "    copy_img = nib.Nifti1Image(input_matrix, header=base_img.header, affine=base_img.affine)\n",
    "    nib.save(copy_img, outfile)"
   ]
  },
  {
   "cell_type": "code",
   "execution_count": null,
   "metadata": {},
   "outputs": [],
   "source": [
    "def array_to_nifti(arr,output_file):\n",
    "    \"\"\"\n",
    "    Takes an array and saves it as NIFTI file in the given output address\n",
    "    \n",
    "    Parameters:\n",
    "    arr (array): matrix of image voxels\n",
    "    output_file (string): output file path\n",
    "    \n",
    "    Returns:\n",
    "    None\n",
    "    \"\"\"\n",
    "    \n",
    "    save = nib.Nifti1Image(arr, np.eye(4))\n",
    "    save.header.get_xyzt_units()\n",
    "    save.to_filename(os.path.join('build',output_file))"
   ]
  },
  {
   "cell_type": "code",
   "execution_count": null,
   "metadata": {},
   "outputs": [],
   "source": [
    "def nifti_to_array(nii_file):\n",
    "    '''\n",
    "    Takes an input file path (str) to the NIFTI file and returns the 3D array.\n",
    "    \n",
    "    Parameters:\n",
    "    nii_file (str): The address to nii file\n",
    "    \n",
    "    Returns:\n",
    "    vector (np.array): The flattened 1D array\n",
    "    shape (list): Shape of the original matrix\n",
    "    '''\n",
    "    img = nib.load(nii_file)\n",
    "    array = np.array(img.dataobj)\n",
    "    return array"
   ]
  },
  {
   "cell_type": "code",
   "execution_count": null,
   "metadata": {},
   "outputs": [],
   "source": [
    "def nifti_to_vector(nii_file):\n",
    "    '''\n",
    "    Takes an input file address (str) to the NIFTI file and returns\n",
    "    the flattened vector of the input array.\n",
    "    \n",
    "    Parameters:\n",
    "    nii_file (str): The address to nii file\n",
    "    \n",
    "    Returns:\n",
    "    vector (np.array): The flattened 1D array\n",
    "    shape (list): Shape of the original matrix\n",
    "    '''\n",
    "    img = nib.load(nii_file)\n",
    "    array = np.array(img.dataobj)\n",
    "    vector = array.flatten()\n",
    "    return vector"
   ]
  },
  {
   "cell_type": "code",
   "execution_count": null,
   "metadata": {},
   "outputs": [],
   "source": [
    "def stack_nii(path_prefix, n):\n",
    "    '''\n",
    "    Takes the path to NIFTI files and stacks them in rows.\n",
    "    \n",
    "    Parameters:\n",
    "    path_prefix (str): Prefix of the path to the NIFTI file until the number,\n",
    "        example: '/data/img' if the complete location is: '/data/img1.nii'\n",
    "    \n",
    "    n (int): Number of NIFTI files to input\n",
    "    \n",
    "    Returns:\n",
    "    stack (array): Numpy array with n rows\n",
    "    '''\n",
    "    input_list = [path_prefix+str(i)+'.nii' for i in range(1,n+1)]\n",
    "    stack = np.vstack([nifti_to_vector(input)[0]] for input in input_list)\n",
    "    return stack"
   ]
  },
  {
   "cell_type": "code",
   "execution_count": null,
   "metadata": {},
   "outputs": [],
   "source": [
    "from numpy import std, mean, sqrt\n",
    "def cohend_func(x,y):\n",
    "    nx = len(x)\n",
    "    ny = len(y)\n",
    "    dof = nx + ny - 2\n",
    "    return (mean(x) - mean(y)) / sqrt(((nx-1)*std(x, ddof=1) ** 2 + (ny-1)*std(y, ddof=1) ** 2) / dof)"
   ]
  },
  {
   "cell_type": "code",
   "execution_count": null,
   "metadata": {},
   "outputs": [],
   "source": [
    "def cohen_d(stack1, stack2):\n",
    "    '''\n",
    "    Takes 2 arrays and computes then Cohen's d using the cohend_func function\n",
    "    \n",
    "    Parameters:\n",
    "    stack1, stack2 (array): Arrays with subjects as rows and voxels as columns\n",
    "    \n",
    "    Returns:\n",
    "    d (vector): Vector with size of stack1/stack2 columns\n",
    "    '''\n",
    "    d = np.zeros(stack1.shape[1])\n",
    "    for i in range (stack1.shape[1]):\n",
    "        d[i] = cohend_func(stack1[:,i], stack2[:,i])\n",
    "    return d"
   ]
  },
  {
   "cell_type": "code",
   "execution_count": null,
   "metadata": {},
   "outputs": [],
   "source": [
    "def std_vector(vector):\n",
    "    '''\n",
    "    Standardizes the given vector.\n",
    "    \n",
    "    Arguments:\n",
    "        vector(vec): Input vector\n",
    "    \n",
    "    Returns:\n",
    "        std_vector (vec): The standardized vector\n",
    "    '''\n",
    "    \n",
    "    # The maximum value in the vector\n",
    "    max_vector = np.amax(vector)\n",
    "    \n",
    "    # Dividing by the maximum value to standardize the vector\n",
    "    std_vector = vector/max_vector\n",
    "    \n",
    "    return std_vector"
   ]
  },
  {
   "cell_type": "code",
   "execution_count": null,
   "metadata": {},
   "outputs": [],
   "source": [
    "def nifti_to_npy(nifti_file, output_file):\n",
    "    '''\n",
    "    Takes the array of an NII file and saves as NPY file.\n",
    "    \n",
    "    Arguments:\n",
    "        nifti_file(str): The input NII path.\n",
    "        output_file(str): The output NPY file.\n",
    "    Returns:\n",
    "        None.\n",
    "    '''\n",
    "    arr = nifti_to_array(nifti_file)\n",
    "    np.save(output_file, arr)"
   ]
  }
 ],
 "metadata": {
  "kernelspec": {
   "display_name": "Py3-basic",
   "language": "python",
   "name": "python3"
  },
  "language_info": {
   "codemirror_mode": {
    "name": "ipython",
    "version": 3
   },
   "file_extension": ".py",
   "mimetype": "text/x-python",
   "name": "python",
   "nbconvert_exporter": "python",
   "pygments_lexer": "ipython3",
   "version": "3.7.2"
  }
 },
 "nbformat": 4,
 "nbformat_minor": 2
}
