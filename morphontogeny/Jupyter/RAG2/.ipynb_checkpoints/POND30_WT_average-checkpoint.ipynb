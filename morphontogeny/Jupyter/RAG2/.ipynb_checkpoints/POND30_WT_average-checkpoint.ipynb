{
 "cells": [
  {
   "cell_type": "markdown",
   "metadata": {},
   "source": [
    "# Making brain average of POND30 dataset"
   ]
  },
  {
   "cell_type": "markdown",
   "metadata": {},
   "source": [
    "* Dataset downloaded from braincode.ca\n",
    "* Study: POND30, Age: P30, Background: C57BL/6J\n",
    "* Genetic: WT, Number: 8\n",
    "* Main directory: /data/bioprotean/RAG2/POND30/"
   ]
  },
  {
   "cell_type": "markdown",
   "metadata": {},
   "source": [
    "**Converting MINC to NIFTI**\n",
    "<br>Done using 3D Slicer software on Mac"
   ]
  },
  {
   "cell_type": "markdown",
   "metadata": {},
   "source": [
    "**Getting image header**"
   ]
  },
  {
   "cell_type": "code",
   "execution_count": null,
   "metadata": {},
   "outputs": [],
   "source": [
    "%%bash\n",
    "module load afni/20.1.11\n",
    "cd /data/bioprotean/RAG2/POND30/\n",
    "3dinfo -orient -ad3 -o3 -space 11_75.nii\n",
    "3dinfo -orient -ad3 -o3 -space 13.nii\n",
    "3dinfo -orient -ad3 -o3 -space 14.nii\n",
    "3dinfo -orient -ad3 -o3 -space 15.nii\n",
    "3dinfo -orient -ad3 -o3 -space 16.nii\n",
    "3dinfo -orient -ad3 -o3 -space 3.nii\n",
    "3dinfo -orient -ad3 -o3 -space 6b.nii\n",
    "3dinfo -orient -ad3 -o3 -space 7b.nii"
   ]
  },
  {
   "cell_type": "markdown",
   "metadata": {},
   "source": [
    "**Orientations and voxel sizes are correct, center should be moved to 0**"
   ]
  },
  {
   "cell_type": "code",
   "execution_count": null,
   "metadata": {},
   "outputs": [],
   "source": [
    "%%bash\n",
    "module load afni/20.1.11\n",
    "cd /data/bioprotean/RAG2/POND30/rs_75um/\n",
    "3drefit -xorigin 0 -yorigin 0 -zorigin 0 11_75.nii\n",
    "3drefit -xorigin 0 -yorigin 0 -zorigin 0 13_75.nii\n",
    "3drefit -xorigin 0 -yorigin 0 -zorigin 0 14_75.nii\n",
    "3drefit -xorigin 0 -yorigin 0 -zorigin 0 15_75.nii\n",
    "3drefit -xorigin 0 -yorigin 0 -zorigin 0 16_75.nii\n",
    "3drefit -xorigin 0 -yorigin 0 -zorigin 0 3_75.nii\n",
    "3drefit -xorigin 0 -yorigin 0 -zorigin 0 6b_75.nii\n",
    "3drefit -xorigin 0 -yorigin 0 -zorigin 0 7b_75.nii"
   ]
  },
  {
   "cell_type": "markdown",
   "metadata": {},
   "source": [
    "**Images resampled to 75 um and centers moved to 0 and moved to subfolder ./rs_75um/**"
   ]
  },
  {
   "cell_type": "code",
   "execution_count": null,
   "metadata": {},
   "outputs": [],
   "source": [
    "%%bash\n",
    "module load afni/20.1.11\n",
    "cd /data/bioprotean/RAG2/POND30/\n",
    "3dresample -dxyz 0.075 0.075 0.075 -input 13.nii -prefix 13_75.nii\n",
    "3dresample -dxyz 0.075 0.075 0.075 -input 14.nii -prefix 14_75.nii\n",
    "3dresample -dxyz 0.075 0.075 0.075 -input 15.nii -prefix 15_75.nii\n",
    "3dresample -dxyz 0.075 0.075 0.075 -input 16.nii -prefix 16_75.nii\n",
    "3dresample -dxyz 0.075 0.075 0.075 -input 3.nii -prefix 3_75.nii\n",
    "3dresample -dxyz 0.075 0.075 0.075 -input 6b.nii -prefix 6b_75.nii\n",
    "3dresample -dxyz 0.075 0.075 0.075 -input 7b.nii -prefix 7b_75.nii"
   ]
  },
  {
   "cell_type": "markdown",
   "metadata": {},
   "source": [
    "# Making the average brain"
   ]
  },
  {
   "cell_type": "code",
   "execution_count": null,
   "metadata": {},
   "outputs": [],
   "source": [
    "%%bash\n",
    "module load afni/20.1.11\n",
    "cd /data/bioprotean/RAG2/POND30/average/11_13/\n",
    "input1=11_75.nii\n",
    "input2=13_75.nii\n",
    "3dcopy $input1 A\n",
    "3dcopy $input2 B\n",
    "@Align_Centers -base A+orig -dset B+orig -prefix B_ac\n",
    "3dresample -master A+orig -input B_ac+orig -prefix B_acres\n",
    "3dAllineate -base A+orig -source B_acres+orig -cmass -prefix B_aff\n",
    "3dQwarp -base A+orig -source B_aff+orig -plusminus -pmNAMES Top Bottom -prefix avgAB\n",
    "3dcalc -a avgAB_Top+orig -b avgAB_Bottom+orig -expr '(a+b)/2' -prefix avgAB_qwpm"
   ]
  },
  {
   "cell_type": "code",
   "execution_count": null,
   "metadata": {},
   "outputs": [],
   "source": [
    "%%bash\n",
    "module load afni/20.1.11\n",
    "cd /data/bioprotean/RAG2/POND30/average/14_15/\n",
    "input1=14_75.nii\n",
    "input2=15_75.nii\n",
    "3dcopy $input1 A\n",
    "3dcopy $input2 B\n",
    "@Align_Centers -base A+orig -dset B+orig -prefix B_ac\n",
    "3dresample -master A+orig -input B_ac+orig -prefix B_acres\n",
    "3dAllineate -base A+orig -source B_acres+orig -cmass -prefix B_aff\n",
    "3dQwarp -base A+orig -source B_aff+orig -plusminus -pmNAMES Top Bottom -prefix avgAB\n",
    "3dcalc -a avgAB_Top+orig -b avgAB_Bottom+orig -expr '(a+b)/2' -prefix avgAB_qwpm"
   ]
  },
  {
   "cell_type": "code",
   "execution_count": null,
   "metadata": {},
   "outputs": [],
   "source": [
    "%%bash\n",
    "module load afni/20.1.11\n",
    "cd /data/bioprotean/RAG2/POND30/average/16_3/\n",
    "input1=16_75.nii\n",
    "input2=3_75.nii\n",
    "3dcopy $input1 A\n",
    "3dcopy $input2 B\n",
    "@Align_Centers -base A+orig -dset B+orig -prefix B_ac\n",
    "3dresample -master A+orig -input B_ac+orig -prefix B_acres\n",
    "3dAllineate -base A+orig -source B_acres+orig -cmass -prefix B_aff\n",
    "3dQwarp -base A+orig -source B_aff+orig -plusminus -pmNAMES Top Bottom -prefix avgAB\n",
    "3dcalc -a avgAB_Top+orig -b avgAB_Bottom+orig -expr '(a+b)/2' -prefix avgAB_qwpm"
   ]
  },
  {
   "cell_type": "code",
   "execution_count": null,
   "metadata": {},
   "outputs": [],
   "source": [
    "%%bash\n",
    "module load afni/20.1.11\n",
    "cd /data/bioprotean/RAG2/POND30/average/6b_7b/\n",
    "input1=6b_75.nii\n",
    "input2=6b_75.nii\n",
    "3dcopy $input1 A\n",
    "3dcopy $input2 B\n",
    "@Align_Centers -base A+orig -dset B+orig -prefix B_ac\n",
    "3dresample -master A+orig -input B_ac+orig -prefix B_acres\n",
    "3dAllineate -base A+orig -source B_acres+orig -cmass -prefix B_aff\n",
    "3dQwarp -base A+orig -source B_aff+orig -plusminus -pmNAMES Top Bottom -prefix avgAB\n",
    "3dcalc -a avgAB_Top+orig -b avgAB_Bottom+orig -expr '(a+b)/2' -prefix avgAB_qwpm"
   ]
  },
  {
   "cell_type": "code",
   "execution_count": null,
   "metadata": {},
   "outputs": [],
   "source": [
    "%%bash\n",
    "module load afni/20.1.11\n",
    "cd /data/bioprotean/RAG2/POND30/average/11_13_14_15/\n",
    "input1=11_13+orig\n",
    "input2=14_15+orig\n",
    "3dcopy $input1 A\n",
    "3dcopy $input2 B\n",
    "@Align_Centers -base A+orig -dset B+orig -prefix B_ac\n",
    "3dresample -master A+orig -input B_ac+orig -prefix B_acres\n",
    "3dAllineate -base A+orig -source B_acres+orig -cmass -prefix B_aff\n",
    "3dQwarp -base A+orig -source B_aff+orig -plusminus -pmNAMES Top Bottom -prefix avgAB\n",
    "3dcalc -a avgAB_Top+orig -b avgAB_Bottom+orig -expr '(a+b)/2' -prefix avgAB_qwpm"
   ]
  },
  {
   "cell_type": "code",
   "execution_count": null,
   "metadata": {},
   "outputs": [],
   "source": [
    "%%bash\n",
    "module load afni/20.1.11\n",
    "cd /data/bioprotean/RAG2/POND30/average/16_3/\n",
    "3dQwarp -base A+orig -source B_aff+orig -plusminus -pmNAMES Top Bottom -prefix avgAB\n",
    "3dcalc -a avgAB_Top+orig -b avgAB_Bottom+orig -expr '(a+b)/2' -prefix avgAB_qwpm"
   ]
  },
  {
   "cell_type": "code",
   "execution_count": null,
   "metadata": {},
   "outputs": [],
   "source": [
    "%%bash\n",
    "module load afni/20.1.11\n",
    "cd /data/bioprotean/RAG2/POND30/average/11_13_14_15_6b_7b/\n",
    "input1=11_13_14_15+orig\n",
    "input2=6b_7b+orig\n",
    "3dcopy $input1 A\n",
    "3dcopy $input2 B\n",
    "@Align_Centers -base A+orig -dset B+orig -prefix B_ac\n",
    "3dresample -master A+orig -input B_ac+orig -prefix B_acres\n",
    "3dAllineate -base A+orig -source B_acres+orig -cmass -prefix B_aff\n",
    "3dQwarp -base A+orig -source B_aff+orig -plusminus -pmNAMES Top Bottom -prefix avgAB\n",
    "3dcalc -a avgAB_Top+orig -b avgAB_Bottom+orig -expr '(a+b)/2' -prefix avgAB_qwpm"
   ]
  },
  {
   "cell_type": "code",
   "execution_count": null,
   "metadata": {},
   "outputs": [],
   "source": [
    "%%bash\n",
    "module load afni/20.1.11\n",
    "cd /data/bioprotean/RAG2/POND30/average/final/\n",
    "input1=16_3+orig\n",
    "input2=rest+orig\n",
    "3dcopy $input1 A\n",
    "3dcopy $input2 B\n",
    "@Align_Centers -base A+orig -dset B+orig -prefix B_ac\n",
    "3dresample -master A+orig -input B_ac+orig -prefix B_acres\n",
    "3dAllineate -base A+orig -source B_acres+orig -cmass -prefix B_aff\n",
    "3dQwarp -base A+orig -source B_aff+orig -plusminus -pmNAMES Top Bottom -prefix avgAB\n",
    "3dcalc -a avgAB_Top+orig -b avgAB_Bottom+orig -expr '(a+b)/2' -prefix avgAB_qwpm"
   ]
  },
  {
   "cell_type": "code",
   "execution_count": null,
   "metadata": {},
   "outputs": [],
   "source": [
    "%%bash\n",
    "module load afni/20.1.11\n",
    "cd /data/bioprotean/RAG2/POND30/average/final/\n",
    "3dcopy avgAB_qwpm+orig POND30_avg75.nii"
   ]
  },
  {
   "cell_type": "markdown",
   "metadata": {},
   "source": [
    "**Segmented the brain using FIJI and stored in ./skull_strip/fiji/\n",
    "<br>Fixing the header to see the image right**"
   ]
  },
  {
   "cell_type": "code",
   "execution_count": null,
   "metadata": {},
   "outputs": [],
   "source": [
    "%%bash\n",
    "module load afni/20.1.11\n",
    "cd /data/bioprotean/RAG2/POND30/skull_strip/fiji\n",
    "3dinfo -orient -ad3 -o3 -space SS_POND30_avg75.nii\n",
    "3dinfo -orient -ad3 -o3 -space 11_75.nii"
   ]
  },
  {
   "cell_type": "code",
   "execution_count": null,
   "metadata": {},
   "outputs": [],
   "source": [
    "%%bash\n",
    "module load afni/20.1.11\n",
    "cd /data/bioprotean/RAG2/POND30/skull_strip/fiji\n",
    "3drefit -orient RAI SS_POND30_avg75.nii"
   ]
  },
  {
   "cell_type": "markdown",
   "metadata": {},
   "source": [
    "**Averaging with RAG2 WT brain template**"
   ]
  },
  {
   "cell_type": "code",
   "execution_count": null,
   "metadata": {},
   "outputs": [],
   "source": [
    "%%bash\n",
    "module load afni/20.1.11\n",
    "cd /data/bioprotean/RAG2/collective_avg/\n",
    "input1=RAG2_avg75.nii\n",
    "input2=SS_POND30_avg75.nii\n",
    "3dcopy $input1 A\n",
    "3dcopy $input2 B\n",
    "@Align_Centers -base A+orig -dset B+orig -prefix B_ac\n",
    "3dresample -master A+orig -input B_ac+orig -prefix B_acres\n",
    "3dAllineate -base A+orig -source B_acres+orig -cmass -prefix B_aff\n",
    "3dQwarp -base A+orig -source B_aff+orig -plusminus -pmNAMES Top Bottom -prefix avgAB\n",
    "3dcalc -a avgAB_Top+orig -b avgAB_Bottom+orig -expr '(a+b)/2' -prefix avgAB_qwpm"
   ]
  },
  {
   "cell_type": "code",
   "execution_count": null,
   "metadata": {},
   "outputs": [],
   "source": [
    "%%bash\n",
    "module load afni/20.1.11\n",
    "cd /data/bioprotean/RAG2/collective_avg/\n",
    "3dcopy avgAB_qwpm+orig C57B_avg75.nii"
   ]
  },
  {
   "cell_type": "code",
   "execution_count": null,
   "metadata": {},
   "outputs": [],
   "source": []
  }
 ],
 "metadata": {
  "kernelspec": {
   "display_name": "Py3-basic",
   "language": "python",
   "name": "python3"
  },
  "language_info": {
   "codemirror_mode": {
    "name": "ipython",
    "version": 3
   },
   "file_extension": ".py",
   "mimetype": "text/x-python",
   "name": "python",
   "nbconvert_exporter": "python",
   "pygments_lexer": "ipython3",
   "version": "3.7.2"
  }
 },
 "nbformat": 4,
 "nbformat_minor": 2
}
