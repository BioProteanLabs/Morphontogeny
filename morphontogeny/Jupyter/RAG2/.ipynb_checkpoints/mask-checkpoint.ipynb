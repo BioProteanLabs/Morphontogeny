{
 "cells": [
  {
   "cell_type": "raw",
   "metadata": {},
   "source": [
    "This is to mask the data with a label/other dataset.\n",
    "1. Datasets must resemble -> 3dresample.\n",
    "2. Boolean function applied.\n",
    "Or\n",
    "To make a mask from a dataset:\n",
    "3. Use 3dAutomask!"
   ]
  },
  {
   "cell_type": "code",
   "execution_count": 8,
   "metadata": {},
   "outputs": [
    {
     "name": "stderr",
     "output_type": "stream",
     "text": [
      "3dresample: /packages/7x/anaconda3/5.3.0/lib/libuuid.so.1: no version information available (required by /lib64/libSM.so.6)\n"
     ]
    }
   ],
   "source": [
    "%%bash\n",
    "module load afni/20.1.11\n",
    "cd /home/mabbasi6/morphometry/Henk_Morphometry/\n",
    "3dresample -master MWT_template.nii -input Dorr_2008_labels.nii -prefix RsDorrLabels.nii"
   ]
  },
  {
   "cell_type": "code",
   "execution_count": 7,
   "metadata": {},
   "outputs": [
    {
     "name": "stderr",
     "output_type": "stream",
     "text": [
      "3dcalc: /packages/7x/anaconda3/5.3.0/lib/libuuid.so.1: no version information available (required by /lib64/libSM.so.6)\n",
      "++ 3dcalc: AFNI version=AFNI_20.1.11 (May 28 2020) [64-bit]\n",
      "++ Authored by: A cast of thousands\n",
      "++ Output dataset ./MKO_1set_msk+orig.BRIK\n"
     ]
    }
   ],
   "source": [
    "%%bash\n",
    "module load afni/20.1.11\n",
    "cd /home/mabbasi6/morphometry/MKO_Morphometry/\n",
    "3dcalc -a MWT_template_res.nii -b MKO_ttest_oneset+orig -expr 'bool(a)*b' -prefix MKO_1set_msk"
   ]
  },
  {
   "cell_type": "code",
   "execution_count": 1,
   "metadata": {},
   "outputs": [
    {
     "name": "stderr",
     "output_type": "stream",
     "text": [
      "3dAutomask: /packages/7x/anaconda3/5.3.0/lib/libuuid.so.1: no version information available (required by /lib64/libSM.so.6)\n",
      "++ 3dAutomask: AFNI version=AFNI_20.1.11 (May 28 2020) [64-bit]\n",
      "++ Authored by: Emperor Zhark\n",
      "++ Loading dataset MWT_template.nii\n",
      "++ Forming automask\n",
      " + Fixed clip level = 3992.843994\n",
      " + Used gradual clip level = 3875.854492 .. 4066.966797\n",
      " + Number voxels above clip level = 1037864\n",
      " + Clustering voxels ...\n",
      " + Largest cluster has 1037693 voxels\n",
      " + Clustering voxels ...\n",
      " + Largest cluster has 1034585 voxels\n",
      " + Filled  2357 voxels in small holes; now have 1036942 voxels\n",
      " + Filled 10417 voxels in large holes; now have 1047359 voxels\n",
      " + Clustering voxels ...\n",
      " + Largest cluster has 1047354 voxels\n",
      " + Clustering non-brain voxels ...\n",
      " + Clustering voxels ...\n",
      " + Largest cluster has 4360006 voxels\n",
      " + Mask now has 1047354 voxels\n",
      "++ 1047354 voxels in the mask [out of 5407360: 19.37%]\n",
      "++ first  19 x-planes are zero [from L]\n",
      "++ last   11 x-planes are zero [from R]\n",
      "++ first  10 y-planes are zero [from P]\n",
      "++ last   13 y-planes are zero [from A]\n",
      "++ first   3 z-planes are zero [from I]\n",
      "++ last   44 z-planes are zero [from S]\n",
      "++ Output dataset ./MWT_template_mask.nii\n",
      "++ CPU time = 0.000000 sec\n"
     ]
    }
   ],
   "source": [
    "%%bash\n",
    "module load afni/20.1.11\n",
    "cd /home/mabbasi6/morphometry/MKO_Morphometry/\n",
    "3dAutomask -prefix MWT_template_mask.nii MWT_template.nii"
   ]
  }
 ],
 "metadata": {
  "kernelspec": {
   "display_name": "Py3-basic",
   "language": "python",
   "name": "python3"
  },
  "language_info": {
   "codemirror_mode": {
    "name": "ipython",
    "version": 3
   },
   "file_extension": ".py",
   "mimetype": "text/x-python",
   "name": "python",
   "nbconvert_exporter": "python",
   "pygments_lexer": "ipython3",
   "version": "3.7.2"
  }
 },
 "nbformat": 4,
 "nbformat_minor": 2
}
