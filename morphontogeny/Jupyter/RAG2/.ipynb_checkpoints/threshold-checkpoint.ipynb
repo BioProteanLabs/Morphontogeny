{
 "cells": [
  {
   "cell_type": "raw",
   "metadata": {},
   "source": [
    "For masking a dataset (like Jacobians) by its p-value (p=0.05 for example), a specific threshold can be obtained for Tstat sub-brick.\n",
    "That value should be used as minimum of the mask created on that sub-brick.\n",
    "In other terms, a mask of p-value (t-stat) should be applied to that sub-brick."
   ]
  },
  {
   "cell_type": "code",
   "execution_count": 1,
   "metadata": {},
   "outputs": [
    {
     "name": "stderr",
     "output_type": "stream",
     "text": [
      "3dcalc: /packages/7x/anaconda3/5.3.0/lib/libuuid.so.1: no version information available (required by /lib64/libSM.so.6)\n",
      "++ 3dcalc: AFNI version=AFNI_20.1.11 (May 28 2020) [64-bit]\n",
      "++ Authored by: A cast of thousands\n",
      "++ Output dataset ./jac_tmsk_100.nii\n"
     ]
    }
   ],
   "source": [
    "%%bash\n",
    "module load afni/20.1.11\n",
    "cd /home/mabbasi6/morphometry/correlation/jac/\n",
    "a='jac_ttest_100.nii[1]'\n",
    "3dcalc -a $a -expr 'astep(a,2.7764)' -prefix jac_tmsk_100.nii"
   ]
  },
  {
   "cell_type": "code",
   "execution_count": 2,
   "metadata": {},
   "outputs": [
    {
     "name": "stderr",
     "output_type": "stream",
     "text": [
      "3dcalc: /packages/7x/anaconda3/5.3.0/lib/libuuid.so.1: no version information available (required by /lib64/libSM.so.6)\n",
      "++ 3dcalc: AFNI version=AFNI_20.1.11 (May 28 2020) [64-bit]\n",
      "++ Authored by: A cast of thousands\n",
      "++ Output dataset ./jac_tmasked_100.nii\n"
     ]
    }
   ],
   "source": [
    "%%bash\n",
    "module load afni/20.1.11\n",
    "cd /home/mabbasi6/morphometry/correlation/jac/\n",
    "a='jac_ttest_100.nii'\n",
    "b='jac_tmsk_100.nii'\n",
    "3dcalc -a $a -b $b -expr 'a*bool(b)' -prefix jac_tmasked_100.nii"
   ]
  }
 ],
 "metadata": {
  "kernelspec": {
   "display_name": "Py3-basic",
   "language": "python",
   "name": "python3"
  },
  "language_info": {
   "codemirror_mode": {
    "name": "ipython",
    "version": 3
   },
   "file_extension": ".py",
   "mimetype": "text/x-python",
   "name": "python",
   "nbconvert_exporter": "python",
   "pygments_lexer": "ipython3",
   "version": "3.7.2"
  }
 },
 "nbformat": 4,
 "nbformat_minor": 2
}
