{
 "cells": [
  {
   "cell_type": "markdown",
   "metadata": {},
   "source": [
    "This is to calculate determinant of the Jacobian matrix."
   ]
  },
  {
   "cell_type": "code",
   "execution_count": 2,
   "metadata": {},
   "outputs": [
    {
     "name": "stderr",
     "output_type": "stream",
     "text": [
      "3dNwarpFuncs: /packages/7x/anaconda3/5.3.0/lib/libuuid.so.1: no version information available (required by /lib64/libSM.so.6)\n",
      "++ 3dNwarpFuncs: AFNI version=AFNI_20.1.11 (May 28 2020) [64-bit]\n",
      "++ Authored by: Zhark the Warped\n",
      "++ Output dataset ./MKO_jacobian+orig.BRIK\n"
     ]
    }
   ],
   "source": [
    "%%bash\n",
    "module load afni/20.1.11\n",
    "cd /home/mabbasi6/morphometry/Allen/MKO_template/awpy/\n",
    "3dNwarpFuncs -nwarp anat.un.aff.qw_WARP.nii -prefix MKO_jacobian -bulk"
   ]
  },
  {
   "cell_type": "markdown",
   "metadata": {},
   "source": [
    "This is to calculate the average of determinants of the Jacobian matrices."
   ]
  },
  {
   "cell_type": "code",
   "execution_count": 27,
   "metadata": {},
   "outputs": [
    {
     "name": "stderr",
     "output_type": "stream",
     "text": [
      "3dMean: /packages/7x/anaconda3/5.3.0/lib/libuuid.so.1: no version information available (required by /lib64/libSM.so.6)\n",
      "++ 3dMean: AFNI version=AFNI_20.1.11 (May 28 2020) [64-bit]\n"
     ]
    }
   ],
   "source": [
    "%%bash\n",
    "module load afni/20.1.11\n",
    "cd /home/mabbasi6/morphometry/Henkelman/Jacobian/\n",
    "input1='/home/mabbasi6/morphometry/Henkelman/FKO/1/awpy/clc+orig'\n",
    "input2='/home/mabbasi6/morphometry/Henkelman/FKO/2/awpy/clc+orig'\n",
    "input3='/home/mabbasi6/morphometry/Henkelman/FKO/3/awpy/clc+orig'\n",
    "input4='/home/mabbasi6/morphometry/Henkelman/MWT/4/awpy/clc+orig'\n",
    "3dMean -prefix avgJF $input1 $input2 $input3"
   ]
  },
  {
   "cell_type": "markdown",
   "metadata": {},
   "source": [
    "This is to convert AFNI to NIFTI"
   ]
  },
  {
   "cell_type": "code",
   "execution_count": 4,
   "metadata": {},
   "outputs": [
    {
     "name": "stderr",
     "output_type": "stream",
     "text": [
      "3dcopy: /packages/7x/anaconda3/5.3.0/lib/libuuid.so.1: no version information available (required by /lib64/libSM.so.6)\n",
      "++ 3dcopy: AFNI version=AFNI_20.1.11 (May 28 2020) [64-bit]\n",
      "\n",
      "*** DATASET error:   have no warp but have no data on disk as well\n",
      "PURGING dataset ./clc+orig+orig.HEAD from memory\n",
      "** failed to open input 'clc+orig+FKO1' on non-AFNI write\n",
      "Try including the view of the input dataset clc+orig+FKO1\n",
      "or use its fullname. That might take care of the error.\n"
     ]
    }
   ],
   "source": [
    "%%bash\n",
    "module load afni/20.1.11\n",
    "cd /home/mabbasi6/morphometry/Henkelman/FKO/1/awpy\n",
    "3dcopy clc+orig+FKO1 jac+FKO1.nii"
   ]
  },
  {
   "cell_type": "markdown",
   "metadata": {},
   "source": [
    "This is to subtract WT Jacobian matrix from the KO."
   ]
  },
  {
   "cell_type": "code",
   "execution_count": 6,
   "metadata": {},
   "outputs": [
    {
     "name": "stderr",
     "output_type": "stream",
     "text": [
      "bash: line 3: a: command not found\n",
      "bash: line 4: b: command not found\n",
      "3dcalc: /packages/7x/anaconda3/5.3.0/lib/libuuid.so.1: no version information available (required by /lib64/libSM.so.6)\n",
      "++ 3dcalc: AFNI version=AFNI_20.1.11 (May 28 2020) [64-bit]\n",
      "++ Authored by: A cast of thousands\n",
      "++ Output dataset ./sub+male+orig.BRIK\n"
     ]
    }
   ],
   "source": [
    "%%bash\n",
    "module load afni/20.1.11\n",
    "cd /home/mabbasi6/morphometry/Henkelman/Avg/\n",
    "a = 'avg+clc+MKO.nii'\n",
    "b = 'avg+clc+MWT.nii'\n",
    "3dcalc -a avg+clc+FKO.nii -b avg+clc+FWT.nii -expr a-b -prefix sub+male"
   ]
  },
  {
   "cell_type": "markdown",
   "metadata": {},
   "source": [
    "This is to do a t test on Jacobian matrices"
   ]
  },
  {
   "cell_type": "code",
   "execution_count": 21,
   "metadata": {},
   "outputs": [
    {
     "name": "stderr",
     "output_type": "stream",
     "text": [
      "3dttest++: /packages/7x/anaconda3/5.3.0/lib/libuuid.so.1: no version information available (required by /lib64/libSM.so.6)\n",
      "++ 3dttest++: AFNI version=AFNI_20.1.11 (May 28 2020) [64-bit]\n",
      "++ Authored by: Zhark++\n",
      "++ option -setA :: processing as SHORT form (all values are datasets)\n",
      "++ have 4 volumes corresponding to option '-setA'\n",
      "++ option -setB :: processing as SHORT form (all values are datasets)\n",
      "++ have 4 volumes corresponding to option '-setB'\n",
      "++ no mask ==> processing all 8939616 voxels\n",
      "++ 2-sample test: '-AminusB' option is assumed\n",
      "++ 2-sample test: results will be SetA - SetB\n",
      "++ loading -setA datasets\n",
      "\u001b[7m*+ WARNING:\u001b[0m 3dttest++ -setA :: 2741115 vectors are constant\n",
      "++ loading -setB datasets\n",
      "\u001b[7m*+ WARNING:\u001b[0m 3dttest++ -setB :: 2741115 vectors are constant\n",
      "++ Memory usage now = 608,370,048 (608 million)\n",
      "++ t-testing:0123456789.0123456789.0123456789.0123456789.0123456789.!\n",
      " + skipped 2741595 voxels completely for having constant data\n",
      "++ ---------- End of analyses -- freeing workspaces ----------\n",
      "++ Memory usage now = 215,005,280 (215 million)\n",
      "++ Creating FDR curves in output dataset\n",
      "\u001b[7m*+ WARNING:\u001b[0m Smallest FDR q [1 SetA-SetB_Tstat] = 0.999897 ==> few true single voxel detections\n",
      "++ Smallest FDR q [3 SetA_Tstat] = 0.00481431\n",
      "++ Smallest FDR q [5 SetB_Tstat] = 0.0074944\n",
      " + Added 3 FDR curves to dataset\n",
      "++ Output dataset ./ttestJM+orig.BRIK\n",
      " + 2-sample test: results are SetA - SetB\n",
      "++ ----- 3dttest++ says so long, farewell, and happy trails to you :) -----\n"
     ]
    }
   ],
   "source": [
    "%%bash\n",
    "module load afni/20.1.11\n",
    "cd /home/mabbasi6/morphometry/Henkelman/ttest/\n",
    "input1='/home/mabbasi6/morphometry/Henkelman/MKO/1/awpy/clc+orig'\n",
    "input2='/home/mabbasi6/morphometry/Henkelman/MKO/2/awpy/clc+orig'\n",
    "input3='/home/mabbasi6/morphometry/Henkelman/MKO/3/awpy/clc+orig'\n",
    "input4='/home/mabbasi6/morphometry/Henkelman/MKO/4/awpy/clc+orig'\n",
    "input5='/home/mabbasi6/morphometry/Henkelman/MWT/1/awpy/clc+orig'\n",
    "input6='/home/mabbasi6/morphometry/Henkelman/MWT/2/awpy/clc+orig'\n",
    "input7='/home/mabbasi6/morphometry/Henkelman/MWT/3/awpy/clc+orig'\n",
    "input8='/home/mabbasi6/morphometry/Henkelman/MWT/4/awpy/clc+orig'\n",
    "3dttest++ -prefix ttestJM -setA $input1 $input2 $input3 $input4 -setB $input5 $input6 $input7 $input8"
   ]
  },
  {
   "cell_type": "code",
   "execution_count": null,
   "metadata": {},
   "outputs": [],
   "source": []
  }
 ],
 "metadata": {
  "kernelspec": {
   "display_name": "Py3-basic",
   "language": "python",
   "name": "python3"
  },
  "language_info": {
   "codemirror_mode": {
    "name": "ipython",
    "version": 3
   },
   "file_extension": ".py",
   "mimetype": "text/x-python",
   "name": "python",
   "nbconvert_exporter": "python",
   "pygments_lexer": "ipython3",
   "version": "3.7.2"
  }
 },
 "nbformat": 4,
 "nbformat_minor": 2
}
