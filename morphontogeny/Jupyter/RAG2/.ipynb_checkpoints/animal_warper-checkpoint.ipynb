{
 "cells": [
  {
   "cell_type": "markdown",
   "metadata": {},
   "source": [
    "Testing the @animal_warper function for aligning the MKO template and Henkelman to Allen mouse brain template.\n",
    "Well, it works great!"
   ]
  },
  {
   "cell_type": "code",
   "execution_count": 2,
   "metadata": {},
   "outputs": [
    {
     "name": "stdout",
     "output_type": "stream",
     "text": [
      "Process is interrupted.\n"
     ]
    }
   ],
   "source": [
    "%%bash\n",
    "module load afni/20.1.11\n",
    "cd /home/mabbasi6/morphometry/MWT_Morphometry/\n",
    "@animal_warper -base MWT_template.nii -input MWT_template2.nii -ok_to_exist -outdir MWT_MWT"
   ]
  },
  {
   "cell_type": "markdown",
   "metadata": {},
   "source": [
    "Next step is to apply the warps derived by the @animal_warper to the ttest results.\n",
    "Multiple warps can be catenated after the -nwarp."
   ]
  },
  {
   "cell_type": "code",
   "execution_count": 4,
   "metadata": {},
   "outputs": [
    {
     "name": "stderr",
     "output_type": "stream",
     "text": [
      "3dAllineate: /packages/7x/anaconda3/5.3.0/lib/libuuid.so.1: no version information available (required by /lib64/libSM.so.6)\n",
      "++ 3dAllineate: AFNI version=AFNI_20.1.11 (May 28 2020) [64-bit]\n",
      "++ Authored by: Zhark the Registrator\n",
      "++ Source dataset: ./ttestF+orig.HEAD\n",
      "++ Base dataset:   (not given)\n",
      "++ You might want to use '-master' when using '-1D*_apply'\n",
      "++ Loading datasets into memory\n",
      "\u001b[7m*+ WARNING:\u001b[0m -1D*_apply 'RsMDorr_shft.1D': 1 isn't enough rows for source dataset -- last row will repeat\n",
      " +        -cmass x y z shifts =   -0.064    0.006    0.195\n",
      " +  shift search range is +/- =    3.972    5.369    5.080\n",
      "++ master dataset for output = source\n",
      "++ OpenMP thread count = 1\n",
      "++ ========== Applying transformation to 6 sub-bricks ==========\n",
      "volume 0..1\u001b[7m*+ WARNING:\u001b[0m Re-using final row of -1D*_apply 'RsMDorr_shft.1D' for sub-brick #1\n",
      "..2\u001b[7m*+ WARNING:\u001b[0m Re-using final row of -1D*_apply 'RsMDorr_shft.1D' for sub-brick #2\n",
      "..3\u001b[7m*+ WARNING:\u001b[0m Re-using final row of -1D*_apply 'RsMDorr_shft.1D' for sub-brick #3\n",
      "..4\u001b[7m*+ WARNING:\u001b[0m Re-using final row of -1D*_apply 'RsMDorr_shft.1D' for sub-brick #4\n",
      "..5\n",
      "\u001b[7m*+ WARNING:\u001b[0m Re-using final row of -1D*_apply 'RsMDorr_shft.1D' for sub-brick #5\n",
      "++ Output dataset ./ttestF_shft+orig.BRIK\n",
      "++ 3dAllineate: total CPU time = 0.0 sec  Elapsed = 14.7\n",
      "++ ###########################################################\n"
     ]
    }
   ],
   "source": [
    "%%bash\n",
    "module load afni/20.1.11\n",
    "cd /home/mabbasi6/morphometry/Allen/animal_warper/Henkelman/\n",
    "3dAllineate -source ttestF+orig -1Dparam_apply RsMDorr_shft.1D -prefix ttestF_shft"
   ]
  },
  {
   "cell_type": "code",
   "execution_count": 5,
   "metadata": {},
   "outputs": [
    {
     "name": "stderr",
     "output_type": "stream",
     "text": [
      "3dcopy: /packages/7x/anaconda3/5.3.0/lib/libuuid.so.1: no version information available (required by /lib64/libSM.so.6)\n",
      "++ 3dcopy: AFNI version=AFNI_20.1.11 (May 28 2020) [64-bit]\n"
     ]
    }
   ],
   "source": [
    "%%bash\n",
    "module load afni/20.1.11\n",
    "cd /home/mabbasi6/morphometry/MWT_Morphometry/12345/\n",
    "3dcopy avgAB_qwpm+orig MWT_template.nii"
   ]
  },
  {
   "cell_type": "code",
   "execution_count": 9,
   "metadata": {},
   "outputs": [
    {
     "name": "stderr",
     "output_type": "stream",
     "text": [
      "3dNwarpApply: /packages/7x/anaconda3/5.3.0/lib/libuuid.so.1: no version information available (required by /lib64/libSM.so.6)\n",
      "++ 3dNwarpApply: AFNI version=AFNI_20.1.11 (May 28 2020) [64-bit]\n",
      "++ Authored by: Zhark the Warped\n",
      "++ opened source dataset 'ttestF.nii'\n",
      "++ Processing -nwarp \n",
      "++ Warping:.[R].....Z\n",
      "++ Output dataset ./ttestF_shft_WARPnii+orig.BRIK\n",
      "++ total Elapsed time = 48.3 sec\n"
     ]
    }
   ],
   "source": [
    "%%bash\n",
    "module load afni/20.1.11\n",
    "cd /home/mabbasi6/morphometry/Henk_Morphometry/\n",
    "3dNwarpApply -source ttestF.nii -nwarp RsMDorr_shft_WARP.nii.gz -prefix ttestF_shft_WARPnii"
   ]
  },
  {
   "cell_type": "code",
   "execution_count": null,
   "metadata": {},
   "outputs": [],
   "source": []
  }
 ],
 "metadata": {
  "kernelspec": {
   "display_name": "Py3-basic",
   "language": "python",
   "name": "python3"
  },
  "language_info": {
   "codemirror_mode": {
    "name": "ipython",
    "version": 3
   },
   "file_extension": ".py",
   "mimetype": "text/x-python",
   "name": "python",
   "nbconvert_exporter": "python",
   "pygments_lexer": "ipython3",
   "version": "3.7.2"
  }
 },
 "nbformat": 4,
 "nbformat_minor": 2
}
