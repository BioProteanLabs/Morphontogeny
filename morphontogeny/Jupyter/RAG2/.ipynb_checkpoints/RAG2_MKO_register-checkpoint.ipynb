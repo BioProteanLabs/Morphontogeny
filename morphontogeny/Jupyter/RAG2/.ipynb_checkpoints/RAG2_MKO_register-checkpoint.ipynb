{
 "cells": [
  {
   "cell_type": "markdown",
   "metadata": {},
   "source": [
    "# Registering RAG2 MKO brains to the RAG2 average brain"
   ]
  },
  {
   "cell_type": "markdown",
   "metadata": {},
   "source": [
    "**Main path: /data/bioprotean/RAG2/AVG/MKO/**\n",
    "<br>Registering brains using auto_warp.py function\n",
    "<br>Linear registration is embedded in this process"
   ]
  },
  {
   "cell_type": "code",
   "execution_count": null,
   "metadata": {},
   "outputs": [],
   "source": [
    "%%bash\n",
    "module load afni/20.1.11\n",
    "cd /data/bioprotean/RAG2/AVG/MKO/\n",
    "for i in {1..5}\n",
    "do\n",
    "    input=$i.nii\n",
    "    base='RAG2_avg75.nii'\n",
    "    auto_warp.py \\\n",
    "        -base $base \\\n",
    "        -input $input \\\n",
    "        -qworkhard 0 2 \\\n",
    "        -qw_opts -maxlev 09 -iwarp \\\n",
    "        -output_dir MKO_awp$i\n",
    "done"
   ]
  },
  {
   "cell_type": "code",
   "execution_count": null,
   "metadata": {},
   "outputs": [],
   "source": []
  }
 ],
 "metadata": {
  "kernelspec": {
   "display_name": "Py3-basic",
   "language": "python",
   "name": "python3"
  },
  "language_info": {
   "codemirror_mode": {
    "name": "ipython",
    "version": 3
   },
   "file_extension": ".py",
   "mimetype": "text/x-python",
   "name": "python",
   "nbconvert_exporter": "python",
   "pygments_lexer": "ipython3",
   "version": "3.7.2"
  }
 },
 "nbformat": 4,
 "nbformat_minor": 2
}
