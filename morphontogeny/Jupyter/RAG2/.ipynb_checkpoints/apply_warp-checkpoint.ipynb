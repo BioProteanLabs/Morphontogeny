{
 "cells": [
  {
   "cell_type": "raw",
   "metadata": {},
   "source": [
    "The pipeline for calculating and applying the affine and non-linear warps to datasets.\n",
    "3dNwarpCalc can calculate the inverse of affine and nlinear warps."
   ]
  },
  {
   "cell_type": "code",
   "execution_count": 8,
   "metadata": {},
   "outputs": [
    {
     "name": "stderr",
     "output_type": "stream",
     "text": [
      "3drefit: /packages/7x/anaconda3/5.3.0/lib/libuuid.so.1: no version information available (required by /lib64/libSM.so.6)\n",
      "++ 3drefit: AFNI version=AFNI_20.1.11 (May 28 2020) [64-bit]\n",
      "++ Authored by: RW Cox\n",
      "++ Processing AFNI dataset annot_ranked.nii\n",
      " + deoblique\n",
      " + loading and re-writing dataset annot_ranked.nii (/home/mabbasi6/morphometry/MKO_Morphometry/Allen/origspace/annot_ranked.nii in NIFTI storage)\n",
      "++ 3drefit processed 1 datasets\n"
     ]
    }
   ],
   "source": [
    "%%bash\n",
    "module load afni/20.1.11\n",
    "cd /home/mabbasi6/morphometry/MKO_Morphometry/Allen/origspace/\n",
    "input='annot_ranked.nii'\n",
    "3drefit -xorigin 0 -yorigin 0 -zorigin 0 $input"
   ]
  },
  {
   "cell_type": "code",
   "execution_count": 10,
   "metadata": {},
   "outputs": [
    {
     "name": "stdout",
     "output_type": "stream",
     "text": [
      "264\t160\t228\n",
      "168\t272\t158\n",
      "-0.000000\t-0.000000\t-0.000000\n",
      "-0.075000\t1.350000\t-1.125000\n",
      "0.050000\t0.050000\t0.050000\n",
      "-0.075000\t-0.075000\t0.075000\n"
     ]
    },
    {
     "name": "stderr",
     "output_type": "stream",
     "text": [
      "3dinfo: /packages/7x/anaconda3/5.3.0/lib/libuuid.so.1: no version information available (required by /lib64/libSM.so.6)\n",
      "3dinfo: /packages/7x/anaconda3/5.3.0/lib/libuuid.so.1: no version information available (required by /lib64/libSM.so.6)\n",
      "3dinfo: /packages/7x/anaconda3/5.3.0/lib/libuuid.so.1: no version information available (required by /lib64/libSM.so.6)\n",
      "3dinfo: /packages/7x/anaconda3/5.3.0/lib/libuuid.so.1: no version information available (required by /lib64/libSM.so.6)\n",
      "3dinfo: /packages/7x/anaconda3/5.3.0/lib/libuuid.so.1: no version information available (required by /lib64/libSM.so.6)\n",
      "3dinfo: /packages/7x/anaconda3/5.3.0/lib/libuuid.so.1: no version information available (required by /lib64/libSM.so.6)\n"
     ]
    }
   ],
   "source": [
    "%%bash\n",
    "module load afni/20.1.11\n",
    "cd /home/mabbasi6/morphometry/MKO_Morphometry/Allen/origspace/\n",
    "base='average_template_50.nii'\n",
    "input='MWT_template_res.nii'\n",
    "3dinfo -ni -nj -nk $base\n",
    "3dinfo -ni -nj -nk $input\n",
    "3dinfo -o3 $base\n",
    "3dinfo -o3 $input\n",
    "3dinfo -d3 $base\n",
    "3dinfo -d3 $input"
   ]
  },
  {
   "cell_type": "code",
   "execution_count": 8,
   "metadata": {},
   "outputs": [
    {
     "name": "stdout",
     "output_type": "stream",
     "text": [
      "1 0 0 -6.430000 0 1 0 -10.055000 0 0 1 7.705000\n"
     ]
    }
   ],
   "source": [
    "%%bash\n",
    "module load afni/20.1.11\n",
    "cd /home/mabbasi6/morphometry/MKO_Morphometry/Allen/approach/orig/\n",
    "cat input_ac.1D"
   ]
  },
  {
   "cell_type": "code",
   "execution_count": 7,
   "metadata": {},
   "outputs": [
    {
     "name": "stderr",
     "output_type": "stream",
     "text": [
      "3dNwarpCalc: /packages/7x/anaconda3/5.3.0/lib/libuuid.so.1: no version information available (required by /lib64/libSM.so.6)\n",
      "++ 3dNwarpCalc: AFNI version=AFNI_20.1.11 (May 28 2020) [64-bit]\n",
      "++ Authored by: Bob the Warped\n",
      "\u001b[7m** ERROR:\u001b[0m NwarpCalcRPN('&read4x4(affine_matrix) &invert &write(inverse_affine)')\n",
      "           at '&read4x4(affine_matrix)': nothing on stack -- needed for template\n",
      "++ total CPU time = 0.0 sec  Elapsed = 0.0\n"
     ]
    }
   ],
   "source": [
    "%%bash\n",
    "module load afni/20.1.11\n",
    "cd /home/mabbasi6/morphometry/MKO_Morphometry/Allen/approach/orig/\n",
    "input='affine_matrix.aff12.1D'\n",
    "output='inverse_affine'\n",
    "3dNwarpCalc '&read4x4(affine_matrix.aff12.1D) &invert &write(inverse_affine)'"
   ]
  },
  {
   "cell_type": "code",
   "execution_count": 10,
   "metadata": {},
   "outputs": [
    {
     "name": "stderr",
     "output_type": "stream",
     "text": [
      "3dresample: /packages/7x/anaconda3/5.3.0/lib/libuuid.so.1: no version information available (required by /lib64/libSM.so.6)\n"
     ]
    }
   ],
   "source": [
    "%%bash\n",
    "module load afni/20.1.11\n",
    "cd /home/mabbasi6/morphometry/MKO_Morphometry/Allen/approach/orig/rs/\n",
    "3dresample -dxyz 0.075 0.075 0.075 -input average_template_50+orig -prefix Allen_rs.nii"
   ]
  },
  {
   "cell_type": "code",
   "execution_count": 3,
   "metadata": {},
   "outputs": [
    {
     "name": "stderr",
     "output_type": "stream",
     "text": [
      "ParseName: /packages/7x/anaconda3/5.3.0/lib/libuuid.so.1: no version information available (required by /lib64/libSM.so.6)\n",
      "ParseName: /packages/7x/anaconda3/5.3.0/lib/libuuid.so.1: no version information available (required by /lib64/libSM.so.6)\n",
      "afni: /packages/7x/anaconda3/5.3.0/lib/libuuid.so.1: no version information available (required by /lib64/libSM.so.6)\n",
      "afni: /packages/7x/anaconda3/5.3.0/lib/libuuid.so.1: no version information available (required by /lib64/libSM.so.6)\n",
      "afni: /packages/7x/anaconda3/5.3.0/lib/libuuid.so.1: no version information available (required by /lib64/libSM.so.6)\n",
      "afni: /packages/7x/anaconda3/5.3.0/lib/libuuid.so.1: no version information available (required by /lib64/libSM.so.6)\n",
      "ParseName: /packages/7x/anaconda3/5.3.0/lib/libuuid.so.1: no version information available (required by /lib64/libSM.so.6)\n",
      "3dAttribute: /packages/7x/anaconda3/5.3.0/lib/libuuid.so.1: no version information available (required by /lib64/libSM.so.6)\n",
      "ccalc: /packages/7x/anaconda3/5.3.0/lib/libuuid.so.1: no version information available (required by /lib64/libSM.so.6)\n",
      "ccalc: /packages/7x/anaconda3/5.3.0/lib/libuuid.so.1: no version information available (required by /lib64/libSM.so.6)\n",
      "ccalc: /packages/7x/anaconda3/5.3.0/lib/libuuid.so.1: no version information available (required by /lib64/libSM.so.6)\n",
      "ccalc: /packages/7x/anaconda3/5.3.0/lib/libuuid.so.1: no version information available (required by /lib64/libSM.so.6)\n",
      "ccalc: /packages/7x/anaconda3/5.3.0/lib/libuuid.so.1: no version information available (required by /lib64/libSM.so.6)\n",
      "3dAttribute: /packages/7x/anaconda3/5.3.0/lib/libuuid.so.1: no version information available (required by /lib64/libSM.so.6)\n",
      "ccalc: /packages/7x/anaconda3/5.3.0/lib/libuuid.so.1: no version information available (required by /lib64/libSM.so.6)\n",
      "ccalc: /packages/7x/anaconda3/5.3.0/lib/libuuid.so.1: no version information available (required by /lib64/libSM.so.6)\n",
      "ccalc: /packages/7x/anaconda3/5.3.0/lib/libuuid.so.1: no version information available (required by /lib64/libSM.so.6)\n",
      "ccalc: /packages/7x/anaconda3/5.3.0/lib/libuuid.so.1: no version information available (required by /lib64/libSM.so.6)\n",
      "ccalc: /packages/7x/anaconda3/5.3.0/lib/libuuid.so.1: no version information available (required by /lib64/libSM.so.6)\n",
      "ccalc: /packages/7x/anaconda3/5.3.0/lib/libuuid.so.1: no version information available (required by /lib64/libSM.so.6)\n",
      "ccalc: /packages/7x/anaconda3/5.3.0/lib/libuuid.so.1: no version information available (required by /lib64/libSM.so.6)\n",
      "ccalc: /packages/7x/anaconda3/5.3.0/lib/libuuid.so.1: no version information available (required by /lib64/libSM.so.6)\n",
      "ccalc: /packages/7x/anaconda3/5.3.0/lib/libuuid.so.1: no version information available (required by /lib64/libSM.so.6)\n",
      "ccalc: /packages/7x/anaconda3/5.3.0/lib/libuuid.so.1: no version information available (required by /lib64/libSM.so.6)\n",
      "ccalc: /packages/7x/anaconda3/5.3.0/lib/libuuid.so.1: no version information available (required by /lib64/libSM.so.6)\n",
      "ccalc: /packages/7x/anaconda3/5.3.0/lib/libuuid.so.1: no version information available (required by /lib64/libSM.so.6)\n",
      "ccalc: /packages/7x/anaconda3/5.3.0/lib/libuuid.so.1: no version information available (required by /lib64/libSM.so.6)\n",
      "ccalc: /packages/7x/anaconda3/5.3.0/lib/libuuid.so.1: no version information available (required by /lib64/libSM.so.6)\n",
      "ccalc: /packages/7x/anaconda3/5.3.0/lib/libuuid.so.1: no version information available (required by /lib64/libSM.so.6)\n",
      "ccalc: /packages/7x/anaconda3/5.3.0/lib/libuuid.so.1: no version information available (required by /lib64/libSM.so.6)\n",
      "3dcopy: /packages/7x/anaconda3/5.3.0/lib/libuuid.so.1: no version information available (required by /lib64/libSM.so.6)\n",
      "++ 3dcopy: AFNI version=AFNI_20.1.11 (May 28 2020) [64-bit]\n",
      "3drefit: /packages/7x/anaconda3/5.3.0/lib/libuuid.so.1: no version information available (required by /lib64/libSM.so.6)\n",
      "++ 3drefit: AFNI version=AFNI_20.1.11 (May 28 2020) [64-bit]\n",
      "++ Authored by: RW Cox\n",
      "++ Processing AFNI dataset ./ttest_1set_ac.nii\n",
      " + deoblique\n",
      " + loading and re-writing dataset ./ttest_1set_ac.nii (/home/mabbasi6/morphometry/MKO_Morphometry/Allen/approach/orig/ttest_1set_ac.nii in NIFTI storage)\n",
      "++ 3drefit processed 1 datasets\n",
      "ccalc: /packages/7x/anaconda3/5.3.0/lib/libuuid.so.1: no version information available (required by /lib64/libSM.so.6)\n",
      "ccalc: /packages/7x/anaconda3/5.3.0/lib/libuuid.so.1: no version information available (required by /lib64/libSM.so.6)\n",
      "ccalc: /packages/7x/anaconda3/5.3.0/lib/libuuid.so.1: no version information available (required by /lib64/libSM.so.6)\n",
      "ParseName: /packages/7x/anaconda3/5.3.0/lib/libuuid.so.1: no version information available (required by /lib64/libSM.so.6)\n",
      "ParseName: /packages/7x/anaconda3/5.3.0/lib/libuuid.so.1: no version information available (required by /lib64/libSM.so.6)\n"
     ]
    }
   ],
   "source": [
    "%%bash\n",
    "module load afni/20.1.11\n",
    "cd /home/mabbasi6/morphometry/MKO_Morphometry/Allen/approach/orig/\n",
    "@Align_Centers \\\n",
    "    -base MWT_template_res.nii \\\n",
    "    -dset MKO_ttest_1set_mask.nii \\\n",
    "    -prefix ttest_1set_ac.nii"
   ]
  },
  {
   "cell_type": "code",
   "execution_count": 18,
   "metadata": {},
   "outputs": [
    {
     "name": "stderr",
     "output_type": "stream",
     "text": [
      "3dAllineate: /packages/7x/anaconda3/5.3.0/lib/libuuid.so.1: no version information available (required by /lib64/libSM.so.6)\n",
      "++ 3dAllineate: AFNI version=AFNI_20.1.11 (May 28 2020) [64-bit]\n",
      "++ Authored by: Zhark the Registrator\n",
      "++ Source dataset: /home/mabbasi6/morphometry/MKO_Morphometry/Allen/approach/orig/rs/ttest_1set_rs.nii\n",
      "++ Base dataset:   (not given)\n",
      "++ You might want to use '-master' when using '-1D*_apply'\n",
      "++ Loading datasets into memory\n",
      "\u001b[7m*+ WARNING:\u001b[0m -1D*_apply 'input_ac.1D': 1 isn't enough rows for source dataset -- last row will repeat\n",
      " +        -cmass x y z shifts =   -0.017    0.058    0.020\n",
      " +  shift search range is +/- =    4.021    6.524    3.780\n",
      "++ master dataset for output = source\n",
      "++ OpenMP thread count = 1\n",
      "++ ========== Applying transformation to 2 sub-bricks ==========\n",
      "volume 0..1\n",
      "\u001b[7m*+ WARNING:\u001b[0m Re-using final row of -1D*_apply 'input_ac.1D' for sub-brick #1\n",
      "++ Output dataset ./ttest_1set_ac.nii\n",
      "++ 3dAllineate: total CPU time = 0.0 sec  Elapsed = 2.3\n",
      "++ ###########################################################\n"
     ]
    }
   ],
   "source": [
    "%%bash\n",
    "module load afni/20.1.11\n",
    "cd /home/mabbasi6/morphometry/MKO_Morphometry/Allen/approach/orig/rs/\n",
    "ac='input_ac.1D'\n",
    "input='ttest_1set_rs.nii'\n",
    "3dAllineate -1Dmatrix_apply $ac -input $input -prefix ttest_1set_ac.nii"
   ]
  },
  {
   "cell_type": "code",
   "execution_count": 19,
   "metadata": {},
   "outputs": [
    {
     "name": "stderr",
     "output_type": "stream",
     "text": [
      "3dAllineate: /packages/7x/anaconda3/5.3.0/lib/libuuid.so.1: no version information available (required by /lib64/libSM.so.6)\n",
      "++ 3dAllineate: AFNI version=AFNI_20.1.11 (May 28 2020) [64-bit]\n",
      "++ Authored by: Zhark the Registrator\n",
      "++ Source dataset: /home/mabbasi6/morphometry/MKO_Morphometry/Allen/approach/orig/rs/ttest_1set_ac.nii\n",
      "++ Base dataset:   (not given)\n",
      "++ You might want to use '-master' when using '-1D*_apply'\n",
      "++ Loading datasets into memory\n",
      "\u001b[7m*+ WARNING:\u001b[0m -1D*_apply 'affine_matrix.aff12.1D': 1 isn't enough rows for source dataset -- last row will repeat\n",
      " +        -cmass x y z shifts =    0.025   -0.001    0.004\n",
      " +  shift search range is +/- =    4.021    6.524    3.780\n",
      "++ master dataset for output = source\n",
      "++ OpenMP thread count = 1\n",
      "++ ========== Applying transformation to 2 sub-bricks ==========\n",
      "volume 0..1\n",
      "\u001b[7m*+ WARNING:\u001b[0m Re-using final row of -1D*_apply 'affine_matrix.aff12.1D' for sub-brick #1\n",
      "++ Output dataset ./ttest_1set_aff.nii\n",
      "++ 3dAllineate: total CPU time = 0.0 sec  Elapsed = 2.4\n",
      "++ ###########################################################\n"
     ]
    }
   ],
   "source": [
    "%%bash\n",
    "module load afni/20.1.11\n",
    "cd /home/mabbasi6/morphometry/MKO_Morphometry/Allen/approach/orig/rs/\n",
    "aff='affine_matrix.aff12.1D'\n",
    "input='ttest_1set_ac.nii'\n",
    "3dAllineate -1Dmatrix_apply $aff -input $input -prefix ttest_1set_aff.nii"
   ]
  },
  {
   "cell_type": "code",
   "execution_count": 21,
   "metadata": {},
   "outputs": [
    {
     "name": "stderr",
     "output_type": "stream",
     "text": [
      "3dNwarpApply: /packages/7x/anaconda3/5.3.0/lib/libuuid.so.1: no version information available (required by /lib64/libSM.so.6)\n",
      "++ 3dNwarpApply: AFNI version=AFNI_20.1.11 (May 28 2020) [64-bit]\n",
      "++ Authored by: Zhark the Warped\n",
      "++ opened source dataset 'ttest_1set_aff.nii'\n",
      "++ -master dataset is 'MWT_template_res.nii'\n",
      "++ Processing -nwarp \n",
      "++ Warping:.[R].Z\n",
      "++ Output dataset ./ttest_1set_wp.nii\n",
      "++ total Elapsed time = 17.2 sec\n"
     ]
    }
   ],
   "source": [
    "%%bash\n",
    "module load afni/20.1.11\n",
    "cd /home/mabbasi6/morphometry/MKO_Morphometry/Allen/approach/orig/rs/\n",
    "warp='anat.un.qw_WARP.nii'\n",
    "input='ttest_1set_aff.nii'\n",
    "master='MWT_template_res.nii'\n",
    "3dNwarpApply -source $input -nwarp $warp -master $master -prefix ttest_1set_wp.nii"
   ]
  },
  {
   "cell_type": "code",
   "execution_count": null,
   "metadata": {},
   "outputs": [],
   "source": []
  }
 ],
 "metadata": {
  "kernelspec": {
   "display_name": "Py3-basic",
   "language": "python",
   "name": "python3"
  },
  "language_info": {
   "codemirror_mode": {
    "name": "ipython",
    "version": 3
   },
   "file_extension": ".py",
   "mimetype": "text/x-python",
   "name": "python",
   "nbconvert_exporter": "python",
   "pygments_lexer": "ipython3",
   "version": "3.7.2"
  }
 },
 "nbformat": 4,
 "nbformat_minor": 2
}
