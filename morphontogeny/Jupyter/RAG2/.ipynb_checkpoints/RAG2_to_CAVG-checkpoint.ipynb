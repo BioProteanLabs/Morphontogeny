{
 "cells": [
  {
   "cell_type": "markdown",
   "metadata": {},
   "source": [
    "# Warping RAG2 mice to C57B brain template"
   ]
  },
  {
   "cell_type": "markdown",
   "metadata": {},
   "source": [
    "POND30 avg brain has been averaged with the RAG2 brain template and saved as C57B_avg75.nii\n",
    "<br>Warping RAG2 MKO brains to this collective average."
   ]
  },
  {
   "cell_type": "code",
   "execution_count": null,
   "metadata": {},
   "outputs": [],
   "source": [
    "%%bash\n",
    "module load afni/20.1.11\n",
    "cd /data/bioprotean/RAG2/AVG/C57B/\n",
    "for i in {1..5}\n",
    "do\n",
    "    input=$i.nii\n",
    "    base=C57B_avg75.nii\n",
    "    auto_warp.py \\\n",
    "        -base $base \\\n",
    "        -input $input \\\n",
    "        -qworkhard 0 2 \\\n",
    "        -qw_opts -maxlev 09 -iwarp \\\n",
    "        -output_dir MKO_awp$i\n",
    "done"
   ]
  },
  {
   "cell_type": "markdown",
   "metadata": {},
   "source": [
    "Using the inverse warps to compute jacobians"
   ]
  },
  {
   "cell_type": "code",
   "execution_count": null,
   "metadata": {},
   "outputs": [],
   "source": [
    "%%bash\n",
    "module load afni/20.1.11\n",
    "for i in {1..5}\n",
    "do\n",
    "    input=/data/bioprotean/RAG2/AVG/C57B/Jacobian/MKO_awp$i/anat.un.aff.qw_WARPINV.nii\n",
    "    output=/data/bioprotean/RAG2/AVG/C57B/Jacobian/JCB/MKO_invjcb$i.nii\n",
    "    3dNwarpFuncs -nwarp $input -bulk -prefix $output\n",
    "done"
   ]
  },
  {
   "cell_type": "markdown",
   "metadata": {},
   "source": [
    "Computing the average inverse jacobian"
   ]
  },
  {
   "cell_type": "code",
   "execution_count": null,
   "metadata": {},
   "outputs": [],
   "source": [
    "%%bash\n",
    "module load afni/20.1.11\n",
    "input1=/data/bioprotean/RAG2/AVG/C57B/Jacobian/JCB/MKO_invjcb1.nii\n",
    "input2=/data/bioprotean/RAG2/AVG/C57B/Jacobian/JCB/MKO_invjcb2.nii\n",
    "input3=/data/bioprotean/RAG2/AVG/C57B/Jacobian/JCB/MKO_invjcb3.nii\n",
    "input4=/data/bioprotean/RAG2/AVG/C57B/Jacobian/JCB/MKO_invjcb4.nii\n",
    "input5=/data/bioprotean/RAG2/AVG/C57B/Jacobian/JCB/MKO_invjcb5.nii\n",
    "output=/data/bioprotean/RAG2/AVG/C57B/Jacobian/JCB/RAG2_invjcb_avg.nii\n",
    "3dMean -prefix $output $input1 $input2 $input3 $input4 $input5"
   ]
  },
  {
   "cell_type": "markdown",
   "metadata": {},
   "source": [
    "Doing t-test only on MKOs."
   ]
  },
  {
   "cell_type": "code",
   "execution_count": null,
   "metadata": {},
   "outputs": [],
   "source": [
    "%%bash\n",
    "module load afni/20.1.11\n",
    "input1=/data/bioprotean/RAG2/AVG/C57B/Jacobian/JCB/MKO_invjcb1.nii\n",
    "input2=/data/bioprotean/RAG2/AVG/C57B/Jacobian/JCB/MKO_invjcb2.nii\n",
    "input3=/data/bioprotean/RAG2/AVG/C57B/Jacobian/JCB/MKO_invjcb3.nii\n",
    "input4=/data/bioprotean/RAG2/AVG/C57B/Jacobian/JCB/MKO_invjcb4.nii\n",
    "input5=/data/bioprotean/RAG2/AVG/C57B/Jacobian/JCB/MKO_invjcb5.nii\n",
    "output=/data/bioprotean/RAG2/AVG/C57B/Jacobian/JCB/RAG2_1set_ttest.nii\n",
    "3dttest++ -prefix $output -setA $input1 $input2 $input3 $input4 $input5"
   ]
  },
  {
   "cell_type": "markdown",
   "metadata": {},
   "source": [
    "Warping Knockout brains to collective average."
   ]
  },
  {
   "cell_type": "code",
   "execution_count": null,
   "metadata": {},
   "outputs": [],
   "source": [
    "%%bash\n",
    "module load afni/20.1.11\n",
    "cd /data/bioprotean/RAG2/AVG/C57B/Jacobian/MWT/\n",
    "for i in {1..5}\n",
    "do\n",
    "    input=$i.nii\n",
    "    base=C57B_avg75.nii\n",
    "    auto_warp.py \\\n",
    "        -base $base \\\n",
    "        -input $input \\\n",
    "        -qworkhard 0 2 \\\n",
    "        -qw_opts -maxlev 09 -iwarp \\\n",
    "        -output_dir MKO_awp$i\n",
    "done"
   ]
  },
  {
   "cell_type": "markdown",
   "metadata": {},
   "source": [
    "Using the inverse warps to compute Jacobians."
   ]
  },
  {
   "cell_type": "code",
   "execution_count": null,
   "metadata": {},
   "outputs": [],
   "source": [
    "%%bash\n",
    "module load afni/20.1.11\n",
    "for i in {1..5}\n",
    "do\n",
    "    input=/data/bioprotean/RAG2/AVG/C57B/Jacobian/MWT/MKO_awp$i/anat.un.aff.qw_WARPINV.nii\n",
    "    output=/data/bioprotean/RAG2/AVG/C57B/Jacobian/JCB/MWT_invjcb$i.nii\n",
    "    3dNwarpFuncs -nwarp $input -bulk -prefix $output\n",
    "done"
   ]
  },
  {
   "cell_type": "markdown",
   "metadata": {},
   "source": [
    "Computing the average inverse Jacobian."
   ]
  },
  {
   "cell_type": "code",
   "execution_count": null,
   "metadata": {},
   "outputs": [],
   "source": [
    "%%bash\n",
    "module load afni/20.1.11\n",
    "input1=/data/bioprotean/RAG2/AVG/C57B/Jacobian/JCB/MWT_invjcb1.nii\n",
    "input2=/data/bioprotean/RAG2/AVG/C57B/Jacobian/JCB/MWT_invjcb2.nii\n",
    "input3=/data/bioprotean/RAG2/AVG/C57B/Jacobian/JCB/MWT_invjcb3.nii\n",
    "input4=/data/bioprotean/RAG2/AVG/C57B/Jacobian/JCB/MWT_invjcb4.nii\n",
    "input5=/data/bioprotean/RAG2/AVG/C57B/Jacobian/JCB/MWT_invjcb5.nii\n",
    "output=/data/bioprotean/RAG2/AVG/C57B/Jacobian/JCB/MWT_invjcb_avg.nii\n",
    "3dMean -prefix $output $input1 $input2 $input3 $input4 $input5"
   ]
  },
  {
   "cell_type": "markdown",
   "metadata": {},
   "source": [
    "Cohen's d effect size measure computed in a separate notebook\n",
    "<br>Running t-test here"
   ]
  },
  {
   "cell_type": "code",
   "execution_count": null,
   "metadata": {},
   "outputs": [],
   "source": [
    "%%bash\n",
    "module load afni/20.1.11\n",
    "cd /data/bioprotean/RAG2/AVG/CAVG/JCB/\n",
    "\n",
    "input1=MKO_invjcb1.nii\n",
    "input2=MKO_invjcb2.nii\n",
    "input3=MKO_invjcb3.nii\n",
    "input4=MKO_invjcb4.nii\n",
    "input5=MKO_invjcb5.nii\n",
    "\n",
    "input6=MWT_invjcb1.nii\n",
    "input7=MWT_invjcb2.nii\n",
    "input8=MWT_invjcb3.nii\n",
    "input9=MWT_invjcb4.nii\n",
    "input10=MWT_invjcb5.nii\n",
    "\n",
    "3dttest++ \\\n",
    "    -prefix RAG2_CAVG_2set_ttest.nii \\\n",
    "    -setA $input1 $input2 $input3 $input4 $input5 \\\n",
    "    -setB $input6 $input7 $input8 $input9 $input10"
   ]
  },
  {
   "cell_type": "markdown",
   "metadata": {},
   "source": [
    "Masking Cohen's d, and t-tests."
   ]
  },
  {
   "cell_type": "code",
   "execution_count": null,
   "metadata": {},
   "outputs": [],
   "source": [
    "%%bash\n",
    "module load afni/20.1.11\n",
    "cd /data/bioprotean/RAG2/AVG/CAVG/JCB/\n",
    "3dcalc \\\n",
    "    -a RAG2_CAVG_2set_ttest.nii \\\n",
    "    -b C57B_avg75.nii \\\n",
    "    -expr 'a*bool(b)' \\\n",
    "    -prefix RAG2_CAVG_2set_ttest_masked.nii \\\n",
    "    -datum float"
   ]
  },
  {
   "cell_type": "markdown",
   "metadata": {},
   "source": [
    "Resampling ttests to CAVG75.nii"
   ]
  },
  {
   "cell_type": "code",
   "execution_count": null,
   "metadata": {},
   "outputs": [],
   "source": [
    "%%bash\n",
    "module load afni/20.1.11\n",
    "cd /data/bioprotean/RAG2/AVG/CAVG/JCB/\n",
    "3dresample \\\n",
    "    -master CAVG75.nii \\\n",
    "    -input RAG2_CAVG_2set_ttest.nii \\\n",
    "    -prefix RAG2_CAVG_2set_ttest_rsm.nii"
   ]
  },
  {
   "cell_type": "code",
   "execution_count": null,
   "metadata": {},
   "outputs": [],
   "source": [
    "%%bash\n",
    "module load afni/20.1.11\n",
    "cd /data/bioprotean/RAG2/AVG/CAVG/JCB/\n",
    "3dresample \\\n",
    "    -master CAVG75.nii \\\n",
    "    -input RAG2_CAVG_1set_ttest.nii \\\n",
    "    -prefix RAG2_CAVG_1set_ttest_rsm.nii"
   ]
  },
  {
   "cell_type": "code",
   "execution_count": null,
   "metadata": {},
   "outputs": [],
   "source": [
    "%%bash\n",
    "module load afni/20.1.11\n",
    "cd /data/bioprotean/RAG2/AVG/CAVG/JCB/\n",
    "3dresample \\\n",
    "    -master CAVG75.nii \\\n",
    "    -input RAG2_CAVG_cohensd.nii \\\n",
    "    -prefix RAG2_CAVG_cohensd_rsm.nii"
   ]
  },
  {
   "cell_type": "markdown",
   "metadata": {},
   "source": [
    "Warping CAVG75 to Allen Brain template"
   ]
  },
  {
   "cell_type": "code",
   "execution_count": null,
   "metadata": {},
   "outputs": [],
   "source": [
    "%%bash\n",
    "module load afni/20.1.11\n",
    "cd /data/bioprotean/RAG2/AVG/CAVG/to_allen/\n",
    "3dinfo -orient -ad3 -o3 -space allen_annot75.nii"
   ]
  },
  {
   "cell_type": "code",
   "execution_count": null,
   "metadata": {},
   "outputs": [],
   "source": [
    "%%bash\n",
    "module load afni/20.1.11\n",
    "cd /data/bioprotean/RAG2/AVG/CAVG/to_allen/\n",
    "3dAllineate \\\n",
    "    -base allen_brain75.nii \\\n",
    "    -source CAVG75.nii \\\n",
    "    -1Dmatrix_save 1DM \\\n",
    "    -cmass -cost lpa -mi -twopass \\\n",
    "    -automask -num_rtb 2000 -warp affine_general \\\n",
    "    -prefix CAVG75_aff.nii"
   ]
  },
  {
   "cell_type": "code",
   "execution_count": null,
   "metadata": {},
   "outputs": [],
   "source": [
    "%%bash\n",
    "module load afni/20.1.11\n",
    "cd /data/bioprotean/RAG2/AVG/CAVG/to_allen/\n",
    "auto_warp.py \\\n",
    "    -base allen_brain75.nii \\\n",
    "    -input CAVG75_aff.nii \\\n",
    "    -skip_affine yes \\\n",
    "    -qworkhard 0 2 \\\n",
    "    -qw_opts -maxlev 09 -iwarp \\\n",
    "    -output_dir warp"
   ]
  },
  {
   "cell_type": "markdown",
   "metadata": {},
   "source": [
    "Applying warps to the Jacobian, Cohen's d and t-tests."
   ]
  },
  {
   "cell_type": "code",
   "execution_count": null,
   "metadata": {},
   "outputs": [],
   "source": [
    "%%bash\n",
    "module load afni/20.1.11\n",
    "cd /data/bioprotean/RAG2/AVG/CAVG/to_allen/apply/\n",
    "3dAllineate \\\n",
    "    -master allen_brain75.nii \\\n",
    "    -source RAG2_CAVG_1set_ttest_rsm.nii \\\n",
    "    -1Dmatrix_apply 1DM.aff12.1D \\\n",
    "    -cmass \\\n",
    "    -prefix RAG2_CAVG_1set_ttest_aff.nii"
   ]
  },
  {
   "cell_type": "code",
   "execution_count": null,
   "metadata": {},
   "outputs": [],
   "source": [
    "%%bash\n",
    "module load afni/20.1.11\n",
    "cd /data/bioprotean/RAG2/AVG/CAVG/to_allen/apply/\n",
    "3dNwarpApply \\\n",
    "    -source RAG2_CAVG_1set_ttest_aff.nii \\\n",
    "    -nwarp anat.un.qw_WARP.nii \\\n",
    "    -master allen_brain75.nii \\\n",
    "    -prefix RAG2_CAVG_1set_ttest_qw.nii"
   ]
  },
  {
   "cell_type": "code",
   "execution_count": null,
   "metadata": {},
   "outputs": [],
   "source": [
    "%%bash\n",
    "module load afni/20.1.11\n",
    "cd /data/bioprotean/RAG2/AVG/CAVG/to_allen/apply/\n",
    "3dAllineate \\\n",
    "    -master allen_brain75.nii \\\n",
    "    -source MKO_CAVG_invjcb_avg.nii \\\n",
    "    -1Dmatrix_apply 1DM.aff12.1D \\\n",
    "    -cmass \\\n",
    "    -prefix MKO_CAVG_invjcb_avg_aff.nii"
   ]
  },
  {
   "cell_type": "code",
   "execution_count": null,
   "metadata": {},
   "outputs": [],
   "source": [
    "%%bash\n",
    "module load afni/20.1.11\n",
    "cd /data/bioprotean/RAG2/AVG/CAVG/to_allen/apply/\n",
    "3dNwarpApply \\\n",
    "    -source MKO_CAVG_invjcb_avg_aff.nii \\\n",
    "    -nwarp anat.un.qw_WARP.nii \\\n",
    "    -master allen_brain75.nii \\\n",
    "    -prefix MKO_CAVG_invjcb_avg_qw.nii"
   ]
  },
  {
   "cell_type": "code",
   "execution_count": null,
   "metadata": {},
   "outputs": [],
   "source": [
    "%%bash\n",
    "module load afni/20.1.11\n",
    "cd /data/bioprotean/RAG2/AVG/CAVG/to_allen/apply/\n",
    "3dAllineate \\\n",
    "    -master allen_brain75.nii \\\n",
    "    -source RAG2_CAVG_2set_ttest_rsm.nii \\\n",
    "    -1Dmatrix_apply 1DM.aff12.1D \\\n",
    "    -cmass \\\n",
    "    -prefix RAG2_CAVG_2set_ttest_aff.nii"
   ]
  },
  {
   "cell_type": "code",
   "execution_count": null,
   "metadata": {},
   "outputs": [],
   "source": [
    "%%bash\n",
    "module load afni/20.1.11\n",
    "cd /data/bioprotean/RAG2/AVG/CAVG/to_allen/apply/\n",
    "3dNwarpApply \\\n",
    "    -source RAG2_CAVG_2set_ttest_aff.nii \\\n",
    "    -nwarp anat.un.qw_WARP.nii \\\n",
    "    -master allen_brain75.nii \\\n",
    "    -prefix RAG2_CAVG_2set_ttest_qw.nii"
   ]
  },
  {
   "cell_type": "code",
   "execution_count": null,
   "metadata": {},
   "outputs": [],
   "source": [
    "%%bash\n",
    "module load afni/20.1.11\n",
    "cd /data/bioprotean/RAG2/AVG/CAVG/to_allen/apply/\n",
    "3dAllineate \\\n",
    "    -master allen_brain75.nii \\\n",
    "    -source RAG2_CAVG_cohensd_rsm.nii \\\n",
    "    -1Dmatrix_apply 1DM.aff12.1D \\\n",
    "    -cmass \\\n",
    "    -prefix RAG2_CAVG_cohensd_aff.nii"
   ]
  },
  {
   "cell_type": "code",
   "execution_count": null,
   "metadata": {},
   "outputs": [],
   "source": [
    "%%bash\n",
    "module load afni/20.1.11\n",
    "cd /data/bioprotean/RAG2/AVG/CAVG/to_allen/apply/\n",
    "3dNwarpApply \\\n",
    "    -source RAG2_CAVG_cohensd_aff.nii \\\n",
    "    -nwarp anat.un.qw_WARP.nii \\\n",
    "    -master allen_brain75.nii \\\n",
    "    -prefix RAG2_CAVG_cohensd_qw.nii"
   ]
  },
  {
   "cell_type": "markdown",
   "metadata": {},
   "source": [
    "Masking the warped Jacobian, Cohen's d and t-tests."
   ]
  },
  {
   "cell_type": "code",
   "execution_count": null,
   "metadata": {},
   "outputs": [],
   "source": [
    "%%bash\n",
    "module load afni/20.1.11\n",
    "cd /data/bioprotean/RAG2/AVG/CAVG/to_allen/mask/\n",
    "3dcalc \\\n",
    "    -a MKO_CAVG_invjcb_avg_qw.nii \\\n",
    "    -b allen_annot75.nii \\\n",
    "    -expr 'a*bool(b)' \\\n",
    "    -datum float \\\n",
    "    -prefix MKO_CAVG_invjcb_avg_masked.nii"
   ]
  },
  {
   "cell_type": "code",
   "execution_count": null,
   "metadata": {},
   "outputs": [],
   "source": [
    "%%bash\n",
    "module load afni/20.1.11\n",
    "cd /data/bioprotean/RAG2/AVG/CAVG/to_allen/mask/\n",
    "3dcalc \\\n",
    "    -a RAG2_CAVG_cohensd_qw.nii \\\n",
    "    -b allen_annot75.nii \\\n",
    "    -expr 'a*bool(b)' \\\n",
    "    -datum float \\\n",
    "    -prefix RAG2_CAVG_cohensd_masked.nii"
   ]
  },
  {
   "cell_type": "code",
   "execution_count": null,
   "metadata": {},
   "outputs": [],
   "source": [
    "%%bash\n",
    "module load afni/20.1.11\n",
    "cd /data/bioprotean/RAG2/AVG/CAVG/to_allen/mask/\n",
    "3dcalc \\\n",
    "    -a RAG2_CAVG_2set_ttest_qw.nii \\\n",
    "    -b allen_annot75.nii \\\n",
    "    -expr 'a*bool(b)' \\\n",
    "    -datum float \\\n",
    "    -prefix RAG2_CAVG_2set_ttest_masked.nii"
   ]
  },
  {
   "cell_type": "code",
   "execution_count": null,
   "metadata": {},
   "outputs": [],
   "source": [
    "%%bash\n",
    "module load afni/20.1.11\n",
    "cd /data/bioprotean/RAG2/AVG/CAVG/to_allen/mask/\n",
    "3dcalc \\\n",
    "    -a RAG2_CAVG_1set_ttest_qw.nii \\\n",
    "    -b allen_annot75.nii \\\n",
    "    -expr 'a*bool(b)' \\\n",
    "    -datum float \\\n",
    "    -prefix RAG2_CAVG_1set_ttest_masked.nii"
   ]
  },
  {
   "cell_type": "markdown",
   "metadata": {},
   "source": [
    "# Thresholding the average Jacobian by t-test\n",
    "To threshold the average Jacobian by the t-test giving p-value of 0.05:\n",
    "<br>Brick number 1 is setA-setB_Tstat (Bricks start from 0)\n",
    "<br>Seen in AFNI that a p-value of 0.05 corresponds to a t-stat (for 2set) of 2.3060\n",
    "<br>Seen in AFNI that a p-value of 0.05 corresponds to a t-stat (for 1set) of 2.7764"
   ]
  },
  {
   "cell_type": "code",
   "execution_count": null,
   "metadata": {},
   "outputs": [],
   "source": [
    "%%bash\n",
    "module load afni/20.1.11\n",
    "cd /data/bioprotean/RAG2/AVG/CAVG/to_allen/threshold/\n",
    "3dcalc \\\n",
    "    -a MKO_CAVG_invjcb_avg_masked.nii \\\n",
    "    -b RAG2_CAVG_2set_ttest_masked.nii[1] \\\n",
    "    -expr 'a*astep(b,2.3060)' \\\n",
    "    -datum float \\\n",
    "    -prefix MKO_CAVG_invjcb_avg_thrsh_2set.nii"
   ]
  },
  {
   "cell_type": "code",
   "execution_count": null,
   "metadata": {},
   "outputs": [],
   "source": [
    "%%bash\n",
    "module load afni/20.1.11\n",
    "cd /data/bioprotean/RAG2/AVG/CAVG/to_allen/threshold/\n",
    "3dcalc \\\n",
    "    -a MKO_CAVG_invjcb_avg_masked.nii \\\n",
    "    -b RAG2_CAVG_2set_ttest_masked.nii[1] \\\n",
    "    -expr 'a*astep(b,2.7764)' \\\n",
    "    -datum float \\\n",
    "    -prefix MKO_CAVG_invjcb_avg_thrsh_1set.nii"
   ]
  },
  {
   "cell_type": "markdown",
   "metadata": {},
   "source": [
    "Selecting only the positive regions (enlarged)"
   ]
  },
  {
   "cell_type": "code",
   "execution_count": null,
   "metadata": {},
   "outputs": [],
   "source": [
    "%%bash\n",
    "module load afni/20.1.11\n",
    "cd /data/bioprotean/RAG2/AVG/CAVG/to_allen/positive/\n",
    "3dcalc \\\n",
    "    -a MKO_CAVG_invjcb_avg_thrsh_2set.nii \\\n",
    "    -expr 'posval(a)' \\\n",
    "    -datum float \\\n",
    "    -prefix MKO_CAVG_invjcb_avg_thrsh_2set_pos.nii"
   ]
  },
  {
   "cell_type": "code",
   "execution_count": null,
   "metadata": {},
   "outputs": [],
   "source": [
    "%%bash\n",
    "module load afni/20.1.11\n",
    "cd /data/bioprotean/RAG2/AVG/CAVG/to_allen/positive/\n",
    "3dcalc \\\n",
    "    -a MKO_CAVG_invjcb_avg_thrsh_1set.nii \\\n",
    "    -expr 'posval(a)' \\\n",
    "    -datum float \\\n",
    "    -prefix MKO_CAVG_invjcb_avg_thrsh_1set_pos.nii"
   ]
  },
  {
   "cell_type": "markdown",
   "metadata": {},
   "source": [
    "Making binary masks of positive regions"
   ]
  },
  {
   "cell_type": "code",
   "execution_count": null,
   "metadata": {},
   "outputs": [],
   "source": [
    "%%bash\n",
    "module load afni/20.1.11\n",
    "cd /data/bioprotean/RAG2/AVG/CAVG/to_allen/positive/\n",
    "3dcalc \\\n",
    "    -a MKO_CAVG_invjcb_avg_thrsh_2set_pos.nii \\\n",
    "    -expr 'step(a)' \\\n",
    "    -datum float \\\n",
    "    -prefix MKO_CAVG_invjcb_avg_thrsh_2set_pos_binary.nii"
   ]
  },
  {
   "cell_type": "code",
   "execution_count": null,
   "metadata": {},
   "outputs": [],
   "source": [
    "%%bash\n",
    "module load afni/20.1.11\n",
    "cd /data/bioprotean/RAG2/AVG/CAVG/to_allen/positive/\n",
    "3dcalc \\\n",
    "    -a MKO_CAVG_invjcb_avg_thrsh_1set_pos.nii \\\n",
    "    -expr 'step(a)' \\\n",
    "    -datum float \\\n",
    "    -prefix MKO_CAVG_invjcb_avg_thrsh_1set_pos_binary.nii"
   ]
  },
  {
   "cell_type": "markdown",
   "metadata": {},
   "source": [
    "Using AFNI clusterize function to remove voxels of noise"
   ]
  },
  {
   "cell_type": "code",
   "execution_count": null,
   "metadata": {},
   "outputs": [],
   "source": [
    "%%bash\n",
    "module load afni/20.1.11\n",
    "cd /data/bioprotean/RAG2/AVG/CAVG/to_allen/clusterize/\n",
    "3dclust \\\n",
    "    -NN2 100 \\\n",
    "    -prefix MKO_CAVG_invjcb_avg_thrsh_2set_pos_clust100.nii \\\n",
    "    MKO_CAVG_invjcb_avg_thrsh_2set_pos.nii \\"
   ]
  },
  {
   "cell_type": "code",
   "execution_count": null,
   "metadata": {},
   "outputs": [],
   "source": [
    "%%bash\n",
    "module load afni/20.1.11\n",
    "cd /data/bioprotean/RAG2/AVG/CAVG/to_allen/clusterize/\n",
    "3dclust \\\n",
    "    -NN2 100 \\\n",
    "    -prefix MKO_CAVG_invjcb_avg_thrsh_1set_pos_clust100.nii \\\n",
    "    MKO_CAVG_invjcb_avg_thrsh_1set_pos.nii \\"
   ]
  },
  {
   "cell_type": "markdown",
   "metadata": {},
   "source": [
    "Selecting only the negative regions (shrinkage)"
   ]
  },
  {
   "cell_type": "code",
   "execution_count": null,
   "metadata": {},
   "outputs": [],
   "source": [
    "%%bash\n",
    "module load afni/20.1.11\n",
    "cd /data/bioprotean/RAG2/AVG/CAVG/to_allen/negative/\n",
    "3dcalc \\\n",
    "    -a MKO_CAVG_invjcb_avg_thrsh_2set.nii \\\n",
    "    -expr '-posval(-a)' \\\n",
    "    -datum float \\\n",
    "    -prefix MKO_CAVG_invjcb_avg_thrsh_2set_neg.nii"
   ]
  },
  {
   "cell_type": "code",
   "execution_count": null,
   "metadata": {},
   "outputs": [],
   "source": [
    "%%bash\n",
    "module load afni/20.1.11\n",
    "cd /data/bioprotean/RAG2/AVG/CAVG/to_allen/negative/\n",
    "3dcalc \\\n",
    "    -a MKO_CAVG_invjcb_avg_thrsh_1set.nii \\\n",
    "    -expr '-posval(-a)' \\\n",
    "    -datum float \\\n",
    "    -prefix MKO_CAVG_invjcb_avg_thrsh_1set_neg.nii"
   ]
  },
  {
   "cell_type": "markdown",
   "metadata": {},
   "source": [
    "Making binary masks of negative regions"
   ]
  },
  {
   "cell_type": "code",
   "execution_count": null,
   "metadata": {},
   "outputs": [],
   "source": [
    "%%bash\n",
    "module load afni/20.1.11\n",
    "cd /data/bioprotean/RAG2/AVG/CAVG/to_allen/negative/\n",
    "3dcalc \\\n",
    "    -a MKO_CAVG_invjcb_avg_thrsh_2set_neg.nii \\\n",
    "    -expr 'step(-a)' \\\n",
    "    -datum float \\\n",
    "    -prefix MKO_CAVG_invjcb_avg_thrsh_2set_neg_binary.nii"
   ]
  },
  {
   "cell_type": "code",
   "execution_count": null,
   "metadata": {},
   "outputs": [],
   "source": [
    "%%bash\n",
    "module load afni/20.1.11\n",
    "cd /data/bioprotean/RAG2/AVG/CAVG/to_allen/negative/\n",
    "3dcalc \\\n",
    "    -a MKO_CAVG_invjcb_avg_thrsh_1set_neg.nii \\\n",
    "    -expr 'step(-a)' \\\n",
    "    -datum float \\\n",
    "    -prefix MKO_CAVG_invjcb_avg_thrsh_1set_neg_binary.nii"
   ]
  },
  {
   "cell_type": "markdown",
   "metadata": {},
   "source": [
    "Using AFNI clusterize function to reomve voxels of noise"
   ]
  },
  {
   "cell_type": "code",
   "execution_count": null,
   "metadata": {},
   "outputs": [],
   "source": [
    "%%bash\n",
    "module load afni/20.1.11\n",
    "cd /data/bioprotean/RAG2/AVG/CAVG/to_allen/clusterize/\n",
    "3dclust \\\n",
    "    -NN2 100 \\\n",
    "    -prefix MKO_CAVG_invjcb_avg_thrsh_2set_neg_clust.nii \\\n",
    "    MKO_CAVG_invjcb_avg_thrsh_2set_neg.nii \\"
   ]
  },
  {
   "cell_type": "code",
   "execution_count": null,
   "metadata": {},
   "outputs": [],
   "source": [
    "%%bash\n",
    "module load afni/20.1.11\n",
    "cd /data/bioprotean/RAG2/AVG/CAVG/to_allen/clusterize/\n",
    "3dclust \\\n",
    "    -NN2 100 \\\n",
    "    -prefix MKO_CAVG_invjcb_avg_thrsh_1set_neg_clust.nii \\\n",
    "    MKO_CAVG_invjcb_avg_thrsh_1set_neg.nii \\"
   ]
  },
  {
   "cell_type": "code",
   "execution_count": null,
   "metadata": {},
   "outputs": [],
   "source": []
  }
 ],
 "metadata": {
  "kernelspec": {
   "display_name": "Py3-basic",
   "language": "python",
   "name": "python3"
  },
  "language_info": {
   "codemirror_mode": {
    "name": "ipython",
    "version": 3
   },
   "file_extension": ".py",
   "mimetype": "text/x-python",
   "name": "python",
   "nbconvert_exporter": "python",
   "pygments_lexer": "ipython3",
   "version": "3.7.2"
  }
 },
 "nbformat": 4,
 "nbformat_minor": 2
}
