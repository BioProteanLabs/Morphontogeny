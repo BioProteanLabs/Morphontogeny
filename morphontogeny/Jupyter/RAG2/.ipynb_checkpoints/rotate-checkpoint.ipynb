{
 "cells": [
  {
   "cell_type": "raw",
   "metadata": {},
   "source": [
    "It is always good to get information of the orientation and dimensions of the file (3dinfo).\n",
    "If the views (like Sagittal) are not correct, probably the orientation is not set correctly.\n",
    "Generally, this code is to rotate our datasets."
   ]
  },
  {
   "cell_type": "raw",
   "metadata": {},
   "source": [
    "180 rotation around Inferior-Superir axis works for dataset 1!\n",
    "These rotations are based on the views, so the views should be set correctly."
   ]
  },
  {
   "cell_type": "code",
   "execution_count": 7,
   "metadata": {},
   "outputs": [
    {
     "name": "stdout",
     "output_type": "stream",
     "text": [
      "\n",
      "Dataset File:    /home/mabbasi6/morphometry/correlation/rotation/brain_flip.nii\n",
      "Identifier Code: XYZ_ES_02G2G6y9PFwHDT-fCZA  Creation Date: Wed Oct  7 12:00:24 2020\n",
      "Template Space:  ORIG\n",
      "Dataset Type:    Anat Bucket (-abuc)\n",
      "Byte Order:      LSB_FIRST {assumed} [this CPU native = LSB_FIRST]\n",
      "Storage Mode:    NIFTI\n",
      "Storage Space:   11,449,856 (11 million) bytes\n",
      "Geometry String: \"MATRIX(0,0,0.075,-0.0125,0.075,0,0,-0.0125,0,-0.075,0,3.725287e-10):176,107,152\"\n",
      "Data Axes Tilt:  Plumb\n",
      "Data Axes Orientation:\n",
      "  first  (x) = Anterior-to-Posterior\n",
      "  second (y) = Superior-to-Inferior\n",
      "  third  (z) = Right-to-Left   [-orient ASR]\n",
      "R-to-L extent:    -0.013 [R] -to-    11.312 [L] -step-     0.075 mm [152 voxels]\n",
      "A-to-P extent:    -0.012 [A] -to-    13.113 [P] -step-     0.075 mm [176 voxels]\n",
      "I-to-S extent:    -7.950 [I] -to-     0.000 [S] -step-     0.075 mm [107 voxels]\n",
      "Number of values stored at each pixel = 1\n",
      "  -- At sub-brick #0 '#0' datum type is float:     -471.157 to         14432\n",
      "\n",
      "----- HISTORY -----\n",
      "[mabbasi6@cg17-3.agave.rc.asu.edu: Thu Sep 17 15:18:17 2020] ===================================\n",
      "[mabbasi6@cg17-3.agave.rc.asu.edu: Thu Sep 17 15:18:17 2020] === History of inputs to 3dcalc ===\n",
      "[mabbasi6@cg17-3.agave.rc.asu.edu: Thu Sep 17 15:18:17 2020] === Input a:\n",
      "[mabbasi6@cg17-3.agave.rc.asu.edu: Thu Sep 17 15:18:17 2020] [mabbasi6@cg17-3.agave.rc.asu.edu: Thu Sep 17 14:47:12 2020] {AFNI_20.1.11:linux_centos_7_64} 3dcopy 5.nii 5\n",
      "[mabbasi6@cg17-3.agave.rc.asu.edu: Thu Sep 17 15:18:13 2020] {AFNI_20.1.11:linux_centos_7_64} 3dQwarp -base 5+orig -source B_aff+orig -plusminus -pmNAMES Top Bottom -prefix avgAB\n",
      "[mabbasi6@cg17-3.agave.rc.asu.edu: Thu Sep 17 15:18:17 2020] === Input b:\n",
      "[mabbasi6@cg17-3.agave.rc.asu.edu: Thu Sep 17 15:18:17 2020] [mabbasi6@cg17-3.agave.rc.asu.edu: Thu Sep 17 14:47:12 2020] {AFNI_20.1.11:linux_centos_7_64} 3dcopy 5.nii 5\n",
      "[mabbasi6@cg17-3.agave.rc.asu.edu: Thu Sep 17 15:18:15 2020] {AFNI_20.1.11:linux_centos_7_64} 3dQwarp -base 5+orig -source B_aff+orig -plusminus -pmNAMES Top Bottom -prefix avgAB\n",
      "[mabbasi6@cg17-3.agave.rc.asu.edu: Thu Sep 17 15:18:17 2020] ===================================\n",
      "[mabbasi6@cg17-3.agave.rc.asu.edu: Thu Sep 17 15:18:17 2020] {AFNI_20.1.11:linux_centos_7_64} 3dcalc -a avgAB_Top+orig -b avgAB_Bottom+orig -expr '(a+b)/2' -prefix avgAB_qwpm\n",
      "[mabbasi6@cg17-3.agave.rc.asu.edu: Thu Sep 17 16:50:37 2020] {AFNI_20.1.11:linux_centos_7_64} 3dcopy avgAB_qwpm+orig MWT_template.nii\n",
      "[mabbasi6@cg17-8.agave.rc.asu.edu: Tue Oct  6 14:52:56 2020] {AFNI_20.1.11:linux_centos_7_64} 3drefit -xorigin 0 -yorigin 0 -zorigin 0 MWT_template.nii\n",
      "[mabbasi6@cg17-8.agave.rc.asu.edu: Tue Oct  6 14:57:03 2020] {AFNI_20.1.11:linux_centos_7_64} 3drefit -xyzscale 1000 MWT_template.nii\n",
      "[mabbasi6@cg17-8.agave.rc.asu.edu: Tue Oct  6 14:57:20 2020] {AFNI_20.1.11:linux_centos_7_64} 3drefit -xyzscale 0.001 MWT_template.nii\n",
      "[mabbasi6@cg17-8.agave.rc.asu.edu: Wed Oct  7 11:10:14 2020] {AFNI_20.1.11:linux_centos_7_64} 3dcopy ./MWT_template.nii ./MWT_ac.nii\n",
      "[mabbasi6@cg17-8.agave.rc.asu.edu: Wed Oct  7 11:10:14 2020] {AFNI_20.1.11:linux_centos_7_64} 3drefit -dxorigin 0.287499 -dyorigin 15.462501 -dzorigin -9.262500 ./MWT_ac.nii\n",
      "[mabbasi6@cg17-8.agave.rc.asu.edu: Wed Oct  7 11:12:02 2020] {AFNI_20.1.11:linux_centos_7_64} 3dAllineate -base allen_75.nii -source MWT_ac.nii -1Dmatrix_save affine_matrix -cmass -cost lpa -mi -twopass -automask -num_rtb 2000 -warp affine_general -prefix MWT_aff.nii\n",
      "[mabbasi6@cg17-8.agave.rc.asu.edu: Wed Oct  7 12:00:33 2020] {AFNI_20.1.11:linux_centos_7_64} 3dNwarpApply -nwarp ./anat.un.qw_WARP.nii -master ./base.nii -source /home/mabbasi6/morphometry/MWT_Morphometry/allen/rotate/MWT_aff.nii -prefix ./MWT_aff.aw.nii\n",
      "[mabbasi6@cg17-8.agave.rc.asu.edu: Wed Oct  7 12:00:33 2020] auto_warp.py -base allen_75.nii -input MWT_aff.nii -qworkhard 0 2  -skip_affine yes -qw_opts -maxlev 09 -iwarp -output_dir awp_ac\n",
      "[mabbasi6@cg17-11.agave.rc.asu.edu: Mon Oct 26 17:46:24 2020] {AFNI_20.1.11:linux_centos_7_64} 3drefit -orient ASR brain_flip.nii\n",
      "\n"
     ]
    },
    {
     "name": "stderr",
     "output_type": "stream",
     "text": [
      "3dinfo: /packages/7x/anaconda3/5.3.0/lib/libuuid.so.1: no version information available (required by /lib64/libSM.so.6)\n",
      "++ 3dinfo: AFNI version=AFNI_20.1.11 (May 28 2020) [64-bit]\n",
      "\u001b[7m** FATAL ERROR:\u001b[0m Can't open dataset -dxyz\n",
      "** Program compile date = May 28 2020\n"
     ]
    }
   ],
   "source": [
    "%%bash\n",
    "module load afni/20.1.11\n",
    "cd /home/mabbasi6/morphometry/correlation/rotation/\n",
    "3dinfo brain_flip.nii -dxyz"
   ]
  },
  {
   "cell_type": "code",
   "execution_count": 2,
   "metadata": {},
   "outputs": [
    {
     "name": "stderr",
     "output_type": "stream",
     "text": [
      "3drotate: /packages/7x/anaconda3/5.3.0/lib/libuuid.so.1: no version information available (required by /lib64/libSM.so.6)\n",
      "++ 3drotate: AFNI version=AFNI_20.1.11 (May 28 2020) [64-bit]\n",
      "++ Authored by: RW Cox\n"
     ]
    }
   ],
   "source": [
    "%%bash\n",
    "module load afni/20.1.11\n",
    "cd /home/mabbasi6/morphometry/correlation/rotation/\n",
    "3drotate -prefix brain_rev.nii -rotate 180I 0 0 brain.nii"
   ]
  },
  {
   "cell_type": "markdown",
   "metadata": {},
   "source": [
    "Dataset 2: 180 rotation around Posterior-Anterior"
   ]
  },
  {
   "cell_type": "code",
   "execution_count": 8,
   "metadata": {},
   "outputs": [
    {
     "name": "stderr",
     "output_type": "stream",
     "text": [
      "3drotate: /packages/7x/anaconda3/5.3.0/lib/libuuid.so.1: no version information available (required by /lib64/libSM.so.6)\n",
      "++ 3drotate: AFNI version=AFNI_20.1.11 (May 28 2020) [64-bit]\n",
      "++ Authored by: RW Cox\n"
     ]
    }
   ],
   "source": [
    "%%bash\n",
    "module load afni/20.1.11\n",
    "cd /home/mabbasi6/morphometry/MWT_Morphometry/rotate/2/\n",
    "3drotate -prefix 2b -rotate 180P 0 0 2a.nii"
   ]
  },
  {
   "cell_type": "raw",
   "metadata": {},
   "source": [
    "The Allen dataset is set to PIR view, showing values A-P from - to +.\n",
    "This is different from AFNI where letters for - values are set (default is RAI).\n",
    "Therefore, orientation of the Allen has to be set manually to ASL (reverse of PIR because of how AFNI is defined)."
   ]
  },
  {
   "cell_type": "code",
   "execution_count": 6,
   "metadata": {},
   "outputs": [
    {
     "name": "stderr",
     "output_type": "stream",
     "text": [
      "3drefit: /packages/7x/anaconda3/5.3.0/lib/libuuid.so.1: no version information available (required by /lib64/libSM.so.6)\n",
      "++ 3drefit: AFNI version=AFNI_20.1.11 (May 28 2020) [64-bit]\n",
      "++ Authored by: RW Cox\n",
      "++ Processing AFNI dataset brain_flip.nii\n",
      " + changing orientation codes\n",
      " + loading and re-writing dataset brain_flip.nii (/home/mabbasi6/morphometry/correlation/rotation/brain_flip.nii in NIFTI storage)\n",
      "++ 3drefit processed 1 datasets\n"
     ]
    }
   ],
   "source": [
    "%%bash\n",
    "module load afni/20.1.11\n",
    "cd /home/mabbasi6/morphometry/correlation/rotation/\n",
    "3drefit -orient ASR brain_flip.nii"
   ]
  },
  {
   "cell_type": "code",
   "execution_count": null,
   "metadata": {},
   "outputs": [],
   "source": []
  }
 ],
 "metadata": {
  "kernelspec": {
   "display_name": "Py3-basic",
   "language": "python",
   "name": "python3"
  },
  "language_info": {
   "codemirror_mode": {
    "name": "ipython",
    "version": 3
   },
   "file_extension": ".py",
   "mimetype": "text/x-python",
   "name": "python",
   "nbconvert_exporter": "python",
   "pygments_lexer": "ipython3",
   "version": "3.7.2"
  }
 },
 "nbformat": 4,
 "nbformat_minor": 2
}
