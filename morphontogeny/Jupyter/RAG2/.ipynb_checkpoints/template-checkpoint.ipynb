{
 "cells": [
  {
   "cell_type": "markdown",
   "metadata": {},
   "source": [
    "(5) This is to non-linearly register datasets with PLUSMINUS"
   ]
  },
  {
   "cell_type": "code",
   "execution_count": 9,
   "metadata": {},
   "outputs": [
    {
     "name": "stderr",
     "output_type": "stream",
     "text": [
      "3dQwarp: /packages/7x/anaconda3/5.3.0/lib/libuuid.so.1: no version information available (required by /lib64/libSM.so.6)\n",
      "++ OpenMP thread count = 1\n",
      "++ 3dQwarp: AFNI version=AFNI_20.1.11 (May 28 2020) [64-bit]\n",
      "++ Authored by: Zhark the (Hermite) Cubically Warped\n",
      "++ negative values in base ==> using strict Pearson correlation\n",
      "++ Dataset zero-pad: xbot=8 xtop=10  ybot=21 ytop=18  zbot=12 ztop=5 voxels\n",
      "++ Weightizing the base image: FWHM = 4.5 (vox)\n",
      "++ +++++++++++ Begin warp optimization:  base=./1+orig.HEAD  source=./aff2+orig.HEAD\n",
      "++ AFNI warpomatic start: 165 x 234 x 127 volume ; autobbox = 12..152 17..212 7..120\n",
      "lev=0 0..164 0..233 0..126: [first cost=-0.88056] ...... done [cost=-1.18317]\n",
      "lev=1 patch=123x175x95: ........ done [cost:-1.24647 ; 8 patches optimized, 0 skipped]\n",
      "lev=2 patch=93x131x71: ...................... done [cost:-1.38875 ; 22 patches optimized, 5 skipped]\n",
      "lev=3 patch=69x99x53: ........... done [cost:-1.41510 ; 35 patches optimized, 29 skipped]\n",
      "lev=4 patch=53x75x41: ...... done [cost:-1.58976 ; 67 patches optimized, 58 skipped]\n",
      "lev=5 patch=39x55x31: .............. done [cost:-1.77187 ; 169 patches optimized, 174 skipped]\n",
      "lev=6 patch=29x41x25: .................. done [cost:-1.94541 ; 411 patches optimized, 489 skipped]\n",
      "lev=7 patch=25x25x25: ................... done [cost:-2.05744 ; 732 patches optimized, 996 skipped]\n",
      "++ ====== total number of parameters 'optimized' = 17517\n",
      " +      initial unpenalized cost = -0.880561\n",
      " +        final unpenalized cost = -2.07168\n",
      " +        final penalized   cost = -2.05744\n",
      "++ Output dataset ./12_Right+orig.BRIK\n",
      "++ Output dataset ./12_Left+orig.BRIK\n",
      "++ Output dataset ./12_Right_WARP+orig.BRIK\n",
      "++ Output dataset ./12_Left_WARP+orig.BRIK\n",
      "++ ===== clock time = 33m 42s 919ms\n"
     ]
    }
   ],
   "source": [
    "%%bash\n",
    "module load afni/20.1.11\n",
    "cd /home/mabbasi6/morphometry/Henkelman/template/MKO/\n",
    "3dQwarp -base 1+orig -source aff2+orig -plusminus -pmNAMES Right Left -prefix 12"
   ]
  },
  {
   "cell_type": "markdown",
   "metadata": {},
   "source": [
    "(1) This is to copy and convert dataset from NII to BRIK"
   ]
  },
  {
   "cell_type": "code",
   "execution_count": 4,
   "metadata": {},
   "outputs": [
    {
     "name": "stderr",
     "output_type": "stream",
     "text": [
      "3dcopy: /packages/7x/anaconda3/5.3.0/lib/libuuid.so.1: no version information available (required by /lib64/libSM.so.6)\n",
      "++ 3dcopy: AFNI version=AFNI_20.1.11 (May 28 2020) [64-bit]\n"
     ]
    }
   ],
   "source": [
    "%%bash\n",
    "module load afni/20.1.11\n",
    "cd /home/mabbasi6/morphometry/Henkelman/template/MKO/\n",
    "3dcopy warpedannot+orig warpedannot.nii"
   ]
  },
  {
   "cell_type": "markdown",
   "metadata": {},
   "source": [
    "This is to resample datasets"
   ]
  },
  {
   "cell_type": "code",
   "execution_count": 5,
   "metadata": {},
   "outputs": [
    {
     "name": "stderr",
     "output_type": "stream",
     "text": [
      "3dresample: /packages/7x/anaconda3/5.3.0/lib/libuuid.so.1: no version information available (required by /lib64/libSM.so.6)\n"
     ]
    }
   ],
   "source": [
    "%%bash\n",
    "module load afni/20.1.11\n",
    "cd /home/mabbasi6/morphometry/Henkelman/template/MKO/\n",
    "3dresample -master MKO+orig -input alannot+orig -prefix alresannot"
   ]
  },
  {
   "cell_type": "markdown",
   "metadata": {},
   "source": [
    "(2) This is to align centers of our datasets (Note: works only with BRIK format)"
   ]
  },
  {
   "cell_type": "code",
   "execution_count": 3,
   "metadata": {},
   "outputs": [
    {
     "name": "stderr",
     "output_type": "stream",
     "text": [
      "ParseName: /packages/7x/anaconda3/5.3.0/lib/libuuid.so.1: no version information available (required by /lib64/libSM.so.6)\n",
      "ParseName: /packages/7x/anaconda3/5.3.0/lib/libuuid.so.1: no version information available (required by /lib64/libSM.so.6)\n",
      "afni: /packages/7x/anaconda3/5.3.0/lib/libuuid.so.1: no version information available (required by /lib64/libSM.so.6)\n",
      "afni: /packages/7x/anaconda3/5.3.0/lib/libuuid.so.1: no version information available (required by /lib64/libSM.so.6)\n",
      "afni: /packages/7x/anaconda3/5.3.0/lib/libuuid.so.1: no version information available (required by /lib64/libSM.so.6)\n",
      "afni: /packages/7x/anaconda3/5.3.0/lib/libuuid.so.1: no version information available (required by /lib64/libSM.so.6)\n",
      "ParseName: /packages/7x/anaconda3/5.3.0/lib/libuuid.so.1: no version information available (required by /lib64/libSM.so.6)\n",
      "3dAttribute: /packages/7x/anaconda3/5.3.0/lib/libuuid.so.1: no version information available (required by /lib64/libSM.so.6)\n",
      "ccalc: /packages/7x/anaconda3/5.3.0/lib/libuuid.so.1: no version information available (required by /lib64/libSM.so.6)\n",
      "ccalc: /packages/7x/anaconda3/5.3.0/lib/libuuid.so.1: no version information available (required by /lib64/libSM.so.6)\n",
      "ccalc: /packages/7x/anaconda3/5.3.0/lib/libuuid.so.1: no version information available (required by /lib64/libSM.so.6)\n",
      "ccalc: /packages/7x/anaconda3/5.3.0/lib/libuuid.so.1: no version information available (required by /lib64/libSM.so.6)\n",
      "ccalc: /packages/7x/anaconda3/5.3.0/lib/libuuid.so.1: no version information available (required by /lib64/libSM.so.6)\n",
      "3dAttribute: /packages/7x/anaconda3/5.3.0/lib/libuuid.so.1: no version information available (required by /lib64/libSM.so.6)\n",
      "ccalc: /packages/7x/anaconda3/5.3.0/lib/libuuid.so.1: no version information available (required by /lib64/libSM.so.6)\n",
      "ccalc: /packages/7x/anaconda3/5.3.0/lib/libuuid.so.1: no version information available (required by /lib64/libSM.so.6)\n",
      "ccalc: /packages/7x/anaconda3/5.3.0/lib/libuuid.so.1: no version information available (required by /lib64/libSM.so.6)\n",
      "ccalc: /packages/7x/anaconda3/5.3.0/lib/libuuid.so.1: no version information available (required by /lib64/libSM.so.6)\n",
      "ccalc: /packages/7x/anaconda3/5.3.0/lib/libuuid.so.1: no version information available (required by /lib64/libSM.so.6)\n",
      "ccalc: /packages/7x/anaconda3/5.3.0/lib/libuuid.so.1: no version information available (required by /lib64/libSM.so.6)\n",
      "ccalc: /packages/7x/anaconda3/5.3.0/lib/libuuid.so.1: no version information available (required by /lib64/libSM.so.6)\n",
      "ccalc: /packages/7x/anaconda3/5.3.0/lib/libuuid.so.1: no version information available (required by /lib64/libSM.so.6)\n",
      "ccalc: /packages/7x/anaconda3/5.3.0/lib/libuuid.so.1: no version information available (required by /lib64/libSM.so.6)\n",
      "ccalc: /packages/7x/anaconda3/5.3.0/lib/libuuid.so.1: no version information available (required by /lib64/libSM.so.6)\n",
      "ccalc: /packages/7x/anaconda3/5.3.0/lib/libuuid.so.1: no version information available (required by /lib64/libSM.so.6)\n",
      "ccalc: /packages/7x/anaconda3/5.3.0/lib/libuuid.so.1: no version information available (required by /lib64/libSM.so.6)\n",
      "ccalc: /packages/7x/anaconda3/5.3.0/lib/libuuid.so.1: no version information available (required by /lib64/libSM.so.6)\n",
      "ccalc: /packages/7x/anaconda3/5.3.0/lib/libuuid.so.1: no version information available (required by /lib64/libSM.so.6)\n",
      "ccalc: /packages/7x/anaconda3/5.3.0/lib/libuuid.so.1: no version information available (required by /lib64/libSM.so.6)\n",
      "ccalc: /packages/7x/anaconda3/5.3.0/lib/libuuid.so.1: no version information available (required by /lib64/libSM.so.6)\n",
      "3dcopy: /packages/7x/anaconda3/5.3.0/lib/libuuid.so.1: no version information available (required by /lib64/libSM.so.6)\n",
      "++ 3dcopy: AFNI version=AFNI_20.1.11 (May 28 2020) [64-bit]\n",
      "3drefit: /packages/7x/anaconda3/5.3.0/lib/libuuid.so.1: no version information available (required by /lib64/libSM.so.6)\n",
      "++ 3drefit: AFNI version=AFNI_20.1.11 (May 28 2020) [64-bit]\n",
      "++ Authored by: RW Cox\n",
      "++ Processing AFNI dataset ./alannot+orig\n",
      " + deoblique\n",
      "++ 3drefit processed 1 datasets\n",
      "ccalc: /packages/7x/anaconda3/5.3.0/lib/libuuid.so.1: no version information available (required by /lib64/libSM.so.6)\n",
      "ccalc: /packages/7x/anaconda3/5.3.0/lib/libuuid.so.1: no version information available (required by /lib64/libSM.so.6)\n",
      "ccalc: /packages/7x/anaconda3/5.3.0/lib/libuuid.so.1: no version information available (required by /lib64/libSM.so.6)\n",
      "ParseName: /packages/7x/anaconda3/5.3.0/lib/libuuid.so.1: no version information available (required by /lib64/libSM.so.6)\n",
      "ParseName: /packages/7x/anaconda3/5.3.0/lib/libuuid.so.1: no version information available (required by /lib64/libSM.so.6)\n"
     ]
    }
   ],
   "source": [
    "%%bash\n",
    "module load afni/20.1.11\n",
    "cd /home/mabbasi6/morphometry/Henkelman/template/MKO/\n",
    "@Align_Centers -base MKO+orig -dset annotations+orig -prefix alannot"
   ]
  },
  {
   "cell_type": "markdown",
   "metadata": {},
   "source": [
    "(6) This is to average plusminus images"
   ]
  },
  {
   "cell_type": "code",
   "execution_count": 8,
   "metadata": {},
   "outputs": [
    {
     "name": "stderr",
     "output_type": "stream",
     "text": [
      "3dcalc: /packages/7x/anaconda3/5.3.0/lib/libuuid.so.1: no version information available (required by /lib64/libSM.so.6)\n",
      "++ 3dcalc: AFNI version=AFNI_20.1.11 (May 28 2020) [64-bit]\n",
      "++ Authored by: A cast of thousands\n",
      "++ Output dataset ./avg34+orig.BRIK\n"
     ]
    }
   ],
   "source": [
    "%%bash\n",
    "module load afni/20.1.11\n",
    "cd /home/mabbasi6/morphometry/Henkelman/template/New/\n",
    "3dcalc -a 3+orig -b 34+orig -expr '(a+b)/2' -prefix avg34"
   ]
  },
  {
   "cell_type": "markdown",
   "metadata": {},
   "source": [
    "(3) This is to resample UD to LR"
   ]
  },
  {
   "cell_type": "code",
   "execution_count": 10,
   "metadata": {},
   "outputs": [
    {
     "name": "stderr",
     "output_type": "stream",
     "text": [
      "3dresample: /packages/7x/anaconda3/5.3.0/lib/libuuid.so.1: no version information available (required by /lib64/libSM.so.6)\n"
     ]
    }
   ],
   "source": [
    "%%bash\n",
    "module load afni/20.1.11\n",
    "cd /home/mabbasi6/morphometry/Henkelman/template/New/\n",
    "3dresample -master avg12+orig -input alavg34+orig -prefix alresavg34"
   ]
  },
  {
   "cell_type": "markdown",
   "metadata": {},
   "source": [
    "This is to align resUD to LR"
   ]
  },
  {
   "cell_type": "code",
   "execution_count": 12,
   "metadata": {},
   "outputs": [
    {
     "name": "stderr",
     "output_type": "stream",
     "text": [
      "3dQwarp: /packages/7x/anaconda3/5.3.0/lib/libuuid.so.1: no version information available (required by /lib64/libSM.so.6)\n",
      "++ OpenMP thread count = 1\n",
      "++ 3dQwarp: AFNI version=AFNI_20.1.11 (May 28 2020) [64-bit]\n",
      "++ Authored by: Zhark the (Hermite) Cubically Warped\n",
      "++ Dataset zero-pad: xbot=11 xtop=13  ybot=1 ytop=10  zbot=0 ztop=7 voxels\n",
      "++ Weightizing the base image: FWHM = 4.5 (vox)\n",
      "++ +++++++++++ Begin warp optimization:  base=./avg12+orig.HEAD  source=./affavg34+orig.HEAD\n",
      "++ AFNI warpomatic: 169 x 275 x 127 volume ; autobbox = 11..157 27..247 13..118 [clock= 3s 196ms]\n",
      "lev=0 0..168 0..274 0..126: [first cost=-0.50763] .... done [cost:-0.50763==>-0.82801]\n",
      "lev=1 patch=127x207x95 [clock= 4m 26s 704ms]........ done [cost:-0.82801==>-0.91330 ; 8 patches optimized, 0 skipped]\n",
      "lev=2 patch=95x155x71 [clock= 6m 16s 128ms]....................... done [cost:-0.91330==>-1.07138 ; 23 patches optimized, 4 skipped]\n",
      "lev=3 patch=71x117x53 [clock= 8m 33s 711ms]............ done [cost:-1.07138==>-0.77776 ; 39 patches optimized, 25 skipped]\n",
      "lev=4 patch=53x87x41 [clock= 13m 7s 879ms]............. done [cost:-0.77776==>-0.86093 ; 74 patches optimized, 51 skipped]\n",
      "lev=5 patch=41x65x31 [clock= 17m 10s 108ms].................. done [cost:-0.86093==>-1.00768 ; 176 patches optimized, 167 skipped]\n",
      "lev=6 patch=31x49x25 [clock= 21m 2s 520ms]................. done [cost:-1.00768==>-1.13634 ; 401 patches optimized, 409 skipped]\n",
      "lev=7 patch=25x37x25 [clock= 24m 59s 735ms]............ done [cost:-1.13634==>-1.26914 ; 657 patches optimized, 639 skipped]\n",
      "lev=8 patch=25x25x25 [clock= 28m 57s 471ms]................. done [cost:-1.26914==>-1.32076 ; 970 patches optimized, 974 skipped]\n",
      "++ ====== total number of parameters 'optimized' = 28323\n",
      " +      initial unpenalized cost = -0.507633\n",
      " +        final unpenalized cost = -1.46989\n",
      " +        final penalized   cost = -1.32076\n",
      "++ Output dataset ./qwarp34+orig.BRIK\n",
      "++ Output dataset ./qwarp34_WARP+orig.BRIK\n",
      "++ ===== clock time = 33m 5s 546ms\n"
     ]
    }
   ],
   "source": [
    "%%bash\n",
    "module load afni/20.1.11\n",
    "cd /home/mabbasi6/morphometry/Henkelman/template/New/\n",
    "3dQwarp -base avg12+orig -source affavg34+orig -prefix qwarp34"
   ]
  },
  {
   "cell_type": "markdown",
   "metadata": {},
   "source": [
    "This is to average FR and FL"
   ]
  },
  {
   "cell_type": "code",
   "execution_count": 13,
   "metadata": {},
   "outputs": [
    {
     "name": "stderr",
     "output_type": "stream",
     "text": [
      "3dcalc: /packages/7x/anaconda3/5.3.0/lib/libuuid.so.1: no version information available (required by /lib64/libSM.so.6)\n",
      "++ 3dcalc: AFNI version=AFNI_20.1.11 (May 28 2020) [64-bit]\n",
      "++ Authored by: A cast of thousands\n",
      "++ Output dataset ./New+orig.BRIK\n"
     ]
    }
   ],
   "source": [
    "%%bash\n",
    "module load afni/20.1.11\n",
    "cd /home/mabbasi6/morphometry/Henkelman/template/New/\n",
    "3dcalc -a avg12+orig -b qwarp34+orig -expr '(a+b)/2' -prefix New"
   ]
  },
  {
   "cell_type": "markdown",
   "metadata": {},
   "source": [
    "This is to align center of Henkelman atlas to our atlas"
   ]
  },
  {
   "cell_type": "code",
   "execution_count": 9,
   "metadata": {},
   "outputs": [
    {
     "name": "stderr",
     "output_type": "stream",
     "text": [
      "ParseName: /packages/7x/anaconda3/5.3.0/lib/libuuid.so.1: no version information available (required by /lib64/libSM.so.6)\n",
      "ParseName: /packages/7x/anaconda3/5.3.0/lib/libuuid.so.1: no version information available (required by /lib64/libSM.so.6)\n",
      "afni: /packages/7x/anaconda3/5.3.0/lib/libuuid.so.1: no version information available (required by /lib64/libSM.so.6)\n",
      "afni: /packages/7x/anaconda3/5.3.0/lib/libuuid.so.1: no version information available (required by /lib64/libSM.so.6)\n",
      "afni: /packages/7x/anaconda3/5.3.0/lib/libuuid.so.1: no version information available (required by /lib64/libSM.so.6)\n",
      "afni: /packages/7x/anaconda3/5.3.0/lib/libuuid.so.1: no version information available (required by /lib64/libSM.so.6)\n",
      "ParseName: /packages/7x/anaconda3/5.3.0/lib/libuuid.so.1: no version information available (required by /lib64/libSM.so.6)\n",
      "3dAttribute: /packages/7x/anaconda3/5.3.0/lib/libuuid.so.1: no version information available (required by /lib64/libSM.so.6)\n",
      "ccalc: /packages/7x/anaconda3/5.3.0/lib/libuuid.so.1: no version information available (required by /lib64/libSM.so.6)\n",
      "ccalc: /packages/7x/anaconda3/5.3.0/lib/libuuid.so.1: no version information available (required by /lib64/libSM.so.6)\n",
      "ccalc: /packages/7x/anaconda3/5.3.0/lib/libuuid.so.1: no version information available (required by /lib64/libSM.so.6)\n",
      "ccalc: /packages/7x/anaconda3/5.3.0/lib/libuuid.so.1: no version information available (required by /lib64/libSM.so.6)\n",
      "ccalc: /packages/7x/anaconda3/5.3.0/lib/libuuid.so.1: no version information available (required by /lib64/libSM.so.6)\n",
      "3dAttribute: /packages/7x/anaconda3/5.3.0/lib/libuuid.so.1: no version information available (required by /lib64/libSM.so.6)\n",
      "ccalc: /packages/7x/anaconda3/5.3.0/lib/libuuid.so.1: no version information available (required by /lib64/libSM.so.6)\n",
      "ccalc: /packages/7x/anaconda3/5.3.0/lib/libuuid.so.1: no version information available (required by /lib64/libSM.so.6)\n",
      "ccalc: /packages/7x/anaconda3/5.3.0/lib/libuuid.so.1: no version information available (required by /lib64/libSM.so.6)\n",
      "ccalc: /packages/7x/anaconda3/5.3.0/lib/libuuid.so.1: no version information available (required by /lib64/libSM.so.6)\n",
      "ccalc: /packages/7x/anaconda3/5.3.0/lib/libuuid.so.1: no version information available (required by /lib64/libSM.so.6)\n",
      "ccalc: /packages/7x/anaconda3/5.3.0/lib/libuuid.so.1: no version information available (required by /lib64/libSM.so.6)\n",
      "ccalc: /packages/7x/anaconda3/5.3.0/lib/libuuid.so.1: no version information available (required by /lib64/libSM.so.6)\n",
      "ccalc: /packages/7x/anaconda3/5.3.0/lib/libuuid.so.1: no version information available (required by /lib64/libSM.so.6)\n",
      "ccalc: /packages/7x/anaconda3/5.3.0/lib/libuuid.so.1: no version information available (required by /lib64/libSM.so.6)\n",
      "ccalc: /packages/7x/anaconda3/5.3.0/lib/libuuid.so.1: no version information available (required by /lib64/libSM.so.6)\n",
      "ccalc: /packages/7x/anaconda3/5.3.0/lib/libuuid.so.1: no version information available (required by /lib64/libSM.so.6)\n",
      "ccalc: /packages/7x/anaconda3/5.3.0/lib/libuuid.so.1: no version information available (required by /lib64/libSM.so.6)\n",
      "ccalc: /packages/7x/anaconda3/5.3.0/lib/libuuid.so.1: no version information available (required by /lib64/libSM.so.6)\n",
      "ccalc: /packages/7x/anaconda3/5.3.0/lib/libuuid.so.1: no version information available (required by /lib64/libSM.so.6)\n",
      "ccalc: /packages/7x/anaconda3/5.3.0/lib/libuuid.so.1: no version information available (required by /lib64/libSM.so.6)\n",
      "ccalc: /packages/7x/anaconda3/5.3.0/lib/libuuid.so.1: no version information available (required by /lib64/libSM.so.6)\n",
      "3dcopy: /packages/7x/anaconda3/5.3.0/lib/libuuid.so.1: no version information available (required by /lib64/libSM.so.6)\n",
      "++ 3dcopy: AFNI version=AFNI_20.1.11 (May 28 2020) [64-bit]\n",
      "3drefit: /packages/7x/anaconda3/5.3.0/lib/libuuid.so.1: no version information available (required by /lib64/libSM.so.6)\n",
      "++ 3drefit: AFNI version=AFNI_20.1.11 (May 28 2020) [64-bit]\n",
      "++ Authored by: RW Cox\n",
      "++ Processing AFNI dataset ./alavg34+orig\n",
      " + deoblique\n",
      "++ 3drefit processed 1 datasets\n",
      "ccalc: /packages/7x/anaconda3/5.3.0/lib/libuuid.so.1: no version information available (required by /lib64/libSM.so.6)\n",
      "ccalc: /packages/7x/anaconda3/5.3.0/lib/libuuid.so.1: no version information available (required by /lib64/libSM.so.6)\n",
      "ccalc: /packages/7x/anaconda3/5.3.0/lib/libuuid.so.1: no version information available (required by /lib64/libSM.so.6)\n",
      "ParseName: /packages/7x/anaconda3/5.3.0/lib/libuuid.so.1: no version information available (required by /lib64/libSM.so.6)\n",
      "ParseName: /packages/7x/anaconda3/5.3.0/lib/libuuid.so.1: no version information available (required by /lib64/libSM.so.6)\n"
     ]
    }
   ],
   "source": [
    "%%bash\n",
    "module load afni/20.1.11\n",
    "cd /home/mabbasi6/morphometry/Henkelman/template/New/\n",
    "@Align_Centers -base avg12+orig -dset avg34+orig -prefix alavg34"
   ]
  },
  {
   "cell_type": "markdown",
   "metadata": {},
   "source": [
    "This is to align henkelman to our atlas"
   ]
  },
  {
   "cell_type": "code",
   "execution_count": 7,
   "metadata": {},
   "outputs": [
    {
     "name": "stdout",
     "output_type": "stream",
     "text": [
      "#++ auto_warp.py version: 0.04\n",
      "# Output directory /home/mabbasi6/morphometry/Henkelman/template/MKO/annot/\n",
      "#Script is running:\n",
      "  mkdir /home/mabbasi6/morphometry/Henkelman/template/MKO/annot/\n",
      "cd /home/mabbasi6/morphometry/Henkelman/template/MKO/annot/\n",
      "#Script is running (command trimmed):\n",
      "  3dcopy /home/mabbasi6/morphometry/Henkelman/template/MKO/affannot+orig ./anat.nii\n",
      "#Script is running (command trimmed):\n",
      "  3dUnifize -GM -input ./anat.nii -prefix ./anat.un.nii\n",
      "#Script is running (command trimmed):\n",
      "  3dcopy /home/mabbasi6/morphometry/Henkelman/template/MKO/MKO+orig ./base.nii\n",
      "#Script is running (command trimmed):\n",
      "  3dAttribute DELTA ./anat.un.nii\n",
      "#Script is running (command trimmed):\n",
      "  3dAttribute DELTA ./base.nii\n",
      "0.075000 0.075000\n",
      "#Script is running (command trimmed):\n",
      "  3dinfo -same_grid ./anat.un.nii ./base.nii\n",
      "#++ Aligning /home/mabbasi6/morphometry/Henkelman/template/MKO/annot/base.nii data to /home/mabbasi6/morphometry/Henkelman/template/MKO/annot/anat.un.nii data\n",
      "#Script is running (command trimmed):\n",
      "  3dQwarp -prefix ./anat.un.qw.nii -blur -3 -3 -workhard:0:1 -base ./base.nii -source ./anat.un.nii \n",
      "#++ Applying warps to /home/mabbasi6/morphometry/Henkelman/template/MKO/affannot+orig\n",
      "#Script is running (command trimmed):\n",
      "  3dNwarpApply -nwarp ./anat.un.qw_WARP.nii -master ./base.nii -source /home/mabbasi6/morphometry/Henkelman/template/MKO/affannot+orig -prefix ./affannot.aw.nii \n",
      "#++ Saving history\n",
      "#Script is running (command trimmed):\n",
      "  3dNotes -h \"auto_warp.py -base MKO+orig -input affannot+orig -skip_affine yes \\\n",
      " -suffix aw -output_dir annot\" \\\n",
      " ./affannot.aw.nii\n",
      "\n",
      "\n"
     ]
    },
    {
     "name": "stderr",
     "output_type": "stream",
     "text": [
      "3dcopy: /packages/7x/anaconda3/5.3.0/lib/libuuid.so.1: no version information available (required by /lib64/libSM.so.6)\n",
      "++ 3dcopy: AFNI version=AFNI_20.1.11 (May 28 2020) [64-bit]\n",
      "3dUnifize: /packages/7x/anaconda3/5.3.0/lib/libuuid.so.1: no version information available (required by /lib64/libSM.so.6)\n",
      "++ 3dUnifize: AFNI version=AFNI_20.1.11 (May 28 2020) [64-bit]\n",
      " + Pre-processing: ADV....UW[s4477]Gm\n",
      "++ Output dataset ./anat.un.nii\n",
      "++ ===== Elapsed = 21.8 sec\n",
      "3dcopy: /packages/7x/anaconda3/5.3.0/lib/libuuid.so.1: no version information available (required by /lib64/libSM.so.6)\n",
      "++ 3dcopy: AFNI version=AFNI_20.1.11 (May 28 2020) [64-bit]\n",
      "3dQwarp: /packages/7x/anaconda3/5.3.0/lib/libuuid.so.1: no version information available (required by /lib64/libSM.so.6)\n",
      "++ OpenMP thread count = 1\n",
      "++ 3dQwarp: AFNI version=AFNI_20.1.11 (May 28 2020) [64-bit]\n",
      "++ Authored by: Zhark the (Hermite) Cubically Warped\n",
      "++ negative values in base ==> using strict Pearson correlation\n",
      "++ Dataset zero-pad: xbot=9 xtop=12  ybot=22 ytop=21  zbot=12 ztop=7 voxels\n",
      "++ Weightizing the base image: FWHM = 4.5 (vox)\n",
      "++ +++++++++++ Begin warp optimization:  base=/home/mabbasi6/morphometry/Henkelman/template/MKO/annot/base.nii  source=/home/mabbasi6/morphometry/Henkelman/template/MKO/annot/anat.un.nii\n",
      "++ AFNI warpomatic: 168 x 238 x 129 volume ; autobbox = 13..154 21..217 12..121 [clock= 12s 519ms]\n",
      "lev=0 0..167 0..237 0..128: [first cost=-0.19939] .... done [cost:-0.19939==>-0.37208]\n",
      "lev=1 patch=125x179x97 [clock= 5m 16s 581ms]........:[cost=-0.43765]:........ done [cost:-0.37208==>-0.48350 ; 16 patches optimized, 0 skipped]\n",
      "lev=2 patch=95x133x73 [clock= 8m 38s 268ms]...................... done [cost:-0.48350==>-0.57954 ; 22 patches optimized, 5 skipped]\n",
      "lev=3 patch=71x101x55 [clock= 10m 41s 368ms]............ done [cost:-0.57954==>7.09374 ; 39 patches optimized, 25 skipped]\n",
      "lev=4 patch=53x75x41 [clock= 14m 15s 912ms]............... done [cost:7.09374==>14.24542 ; 70 patches optimized, 55 skipped]\n",
      "lev=5 patch=39x57x31 [clock= 17m 15s 105ms]................ done [cost:14.24542==>12.23007 ; 183 patches optimized, 160 skipped]\n",
      "lev=6 patch=29x43x25 [clock= 20m 26s 320ms]................... done [cost:12.23007==>8.19578 ; 417 patches optimized, 393 skipped]\n",
      "lev=7 patch=25x25x25 [clock= 23m 40s 384ms]........................ done [cost:8.19578==>3.76155 ; 852 patches optimized, 876 skipped]\n",
      "++ ====== total number of parameters 'optimized' = 19335\n",
      " +      initial unpenalized cost = -0.199394\n",
      " +        final unpenalized cost = -0.606795\n",
      " +        final penalized   cost = 3.76155\n",
      "++ Output dataset ./anat.un.qw.nii\n",
      "++ Output dataset ./anat.un.qw_WARP.nii\n",
      "++ ===== clock time = 27m 33s 597ms\n",
      "3dNwarpApply: /packages/7x/anaconda3/5.3.0/lib/libuuid.so.1: no version information available (required by /lib64/libSM.so.6)\n",
      "++ 3dNwarpApply: AFNI version=AFNI_20.1.11 (May 28 2020) [64-bit]\n",
      "++ Authored by: Zhark the Warped\n",
      "++ -master dataset is './base.nii'\n",
      "++ opened source dataset '/home/mabbasi6/morphometry/Henkelman/template/MKO/affannot+orig'\n",
      "++ Processing -nwarp \n",
      "++ Warping:.Z\n",
      "++ Output dataset ./affannot.aw.nii\n",
      "++ total Elapsed time = 7.1 sec\n",
      "3dNotes: /packages/7x/anaconda3/5.3.0/lib/libuuid.so.1: no version information available (required by /lib64/libSM.so.6)\n"
     ]
    }
   ],
   "source": [
    "%%bash\n",
    "module load afni/20.1.11\n",
    "cd /home/mabbasi6/morphometry/Henkelman/template/MKO/\n",
    "auto_warp.py -base MKO+orig -input affhenkelman2+orig -skip_affine yes -suffix aw -output_dir annot"
   ]
  },
  {
   "cell_type": "markdown",
   "metadata": {},
   "source": [
    "(4) This is to linearly register datasets"
   ]
  },
  {
   "cell_type": "code",
   "execution_count": 3,
   "metadata": {},
   "outputs": [
    {
     "name": "stderr",
     "output_type": "stream",
     "text": [
      "3dAllineate: /packages/7x/anaconda3/5.3.0/lib/libuuid.so.1: no version information available (required by /lib64/libSM.so.6)\n",
      "++ 3dAllineate: AFNI version=AFNI_20.1.11 (May 28 2020) [64-bit]\n",
      "++ Authored by: Zhark the Registrator\n",
      "++ Source dataset: ./alresannot+orig.HEAD\n",
      "++ Base dataset:   ./MKO+orig.HEAD\n",
      "++ You might want to use '-master' when using '-1D*_apply'\n",
      "++ Loading datasets into memory\n",
      "++ master dataset for output = base\n",
      "++ OpenMP thread count = 1\n",
      "++ ========== Applying transformation to 1 sub-bricks ==========\n",
      "++ Output dataset ./affannot2+orig.BRIK\n",
      "++ 3dAllineate: total CPU time = 0.0 sec  Elapsed = 1.2\n",
      "++ ###########################################################\n"
     ]
    }
   ],
   "source": [
    "%%bash\n",
    "module load afni/20.1.11\n",
    "cd /home/mabbasi6/morphometry/Henkelman/template/MKO/\n",
    "3dAllineate -base MKO+orig -source alresannot+orig -cmass -prefix affannot2 -1Dparam_apply affhenkelman2.param.1D"
   ]
  },
  {
   "cell_type": "markdown",
   "metadata": {},
   "source": [
    "General steps:\n",
    "1. Convert images to BRIK format\n",
    "2. Consider 1 as base and align center of 2 to that\n",
    "3. Resample 2 to 1 (as master)\n",
    "4. Linearly register 2 to 1\n",
    "5. Non-linearly register 2 to 1 with PLUSMINUS as Avg12\n",
    "6. Average results of PLUSMINUS\n",
    "7. Repeat previous steps for 3 and 4 as Avg12\n",
    "8. Repeat previous steps for Avg12 and Avg34"
   ]
  },
  {
   "cell_type": "code",
   "execution_count": null,
   "metadata": {},
   "outputs": [],
   "source": []
  }
 ],
 "metadata": {
  "kernelspec": {
   "display_name": "Py3-basic",
   "language": "python",
   "name": "python3"
  },
  "language_info": {
   "codemirror_mode": {
    "name": "ipython",
    "version": 3
   },
   "file_extension": ".py",
   "mimetype": "text/x-python",
   "name": "python",
   "nbconvert_exporter": "python",
   "pygments_lexer": "ipython3",
   "version": "3.7.2"
  }
 },
 "nbformat": 4,
 "nbformat_minor": 2
}
