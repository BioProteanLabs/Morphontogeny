{
 "cells": [
  {
   "cell_type": "raw",
   "metadata": {},
   "source": [
    "This is to get info on the origins (axes) of the datasets and to change them to our heart's delight."
   ]
  },
  {
   "cell_type": "code",
   "execution_count": 7,
   "metadata": {},
   "outputs": [
    {
     "name": "stdout",
     "output_type": "stream",
     "text": [
      "168\t272\t158\n",
      "NO-DSET\tNO-DSET\tNO-DSET\n",
      "0.000000\t0.000000\t-0.000000\n",
      "NO-DSET\tNO-DSET\tNO-DSET\n",
      "-0.075000\t-0.075000\t0.075000\n",
      "NO-DSET\tNO-DSET\tNO-DSET\n"
     ]
    },
    {
     "name": "stderr",
     "output_type": "stream",
     "text": [
      "3dinfo: /packages/7x/anaconda3/5.3.0/lib/libuuid.so.1: no version information available (required by /lib64/libSM.so.6)\n",
      "3dinfo: /packages/7x/anaconda3/5.3.0/lib/libuuid.so.1: no version information available (required by /lib64/libSM.so.6)\n",
      "3dinfo: /packages/7x/anaconda3/5.3.0/lib/libuuid.so.1: no version information available (required by /lib64/libSM.so.6)\n",
      "3dinfo: /packages/7x/anaconda3/5.3.0/lib/libuuid.so.1: no version information available (required by /lib64/libSM.so.6)\n",
      "3dinfo: /packages/7x/anaconda3/5.3.0/lib/libuuid.so.1: no version information available (required by /lib64/libSM.so.6)\n",
      "3dinfo: /packages/7x/anaconda3/5.3.0/lib/libuuid.so.1: no version information available (required by /lib64/libSM.so.6)\n",
      "3dTcorrelate: /packages/7x/anaconda3/5.3.0/lib/libuuid.so.1: no version information available (required by /lib64/libSM.so.6)\n",
      "++ 3dTcorrelate: AFNI version=AFNI_20.1.11 (May 28 2020) [64-bit]\n",
      "\u001b[7m** FATAL ERROR:\u001b[0m Can't open input dataset allen_75.nii\n",
      "** Program compile date = May 28 2020\n"
     ]
    }
   ],
   "source": [
    "%%bash\n",
    "module load afni/20.1.11\n",
    "cd /home/mabbasi6/morphometry/correlation/jacobians/\n",
    "base='1_jcb_mko.nii'\n",
    "input='allen_75.nii'\n",
    "# number of voxels in x y z directions\n",
    "3dinfo -ni -nj -nk $base\n",
    "3dinfo -ni -nj -nk $input\n",
    "# location of axes origin\n",
    "3dinfo -o3 $base\n",
    "3dinfo -o3 $input\n",
    "# voxel dimension\n",
    "3dinfo -d3 $base\n",
    "3dinfo -d3 $input\n",
    "3dTcorrelate $input $base"
   ]
  },
  {
   "cell_type": "code",
   "execution_count": 6,
   "metadata": {},
   "outputs": [
    {
     "name": "stderr",
     "output_type": "stream",
     "text": [
      "3drefit: /packages/7x/anaconda3/5.3.0/lib/libuuid.so.1: no version information available (required by /lib64/libSM.so.6)\n",
      "++ 3drefit: AFNI version=AFNI_20.1.11 (May 28 2020) [64-bit]\n",
      "++ Authored by: RW Cox\n",
      "++ Processing AFNI dataset 5_jcb_mko.nii\n",
      " + deoblique\n",
      " + loading and re-writing dataset 5_jcb_mko.nii (/home/mabbasi6/morphometry/correlation/jacobians/5_jcb_mko.nii in NIFTI storage)\n",
      "++ 3drefit processed 1 datasets\n"
     ]
    }
   ],
   "source": [
    "%%bash\n",
    "module load afni/20.1.11\n",
    "cd /home/mabbasi6/morphometry/correlation/jacobians/\n",
    "input='5_jcb_mko.nii'\n",
    "3drefit -xorigin 0 -yorigin 0 -zorigin 0 $input"
   ]
  },
  {
   "cell_type": "code",
   "execution_count": null,
   "metadata": {},
   "outputs": [],
   "source": [
    "%%bash\n",
    "module load afni/20.1.11\n",
    "cd /home/mabbasi6/morphometry/MWT_Morphometry/allen/rotate/\n",
    "input='MWT_acmass.nii'\n",
    "base='MKO_ttest_rsac.nii'\n",
    "@Center_Distance -dset $input $base"
   ]
  },
  {
   "cell_type": "code",
   "execution_count": null,
   "metadata": {},
   "outputs": [],
   "source": []
  }
 ],
 "metadata": {
  "kernelspec": {
   "display_name": "Py3-basic",
   "language": "python",
   "name": "python3"
  },
  "language_info": {
   "codemirror_mode": {
    "name": "ipython",
    "version": 3
   },
   "file_extension": ".py",
   "mimetype": "text/x-python",
   "name": "python",
   "nbconvert_exporter": "python",
   "pygments_lexer": "ipython3",
   "version": "3.7.2"
  }
 },
 "nbformat": 4,
 "nbformat_minor": 2
}
