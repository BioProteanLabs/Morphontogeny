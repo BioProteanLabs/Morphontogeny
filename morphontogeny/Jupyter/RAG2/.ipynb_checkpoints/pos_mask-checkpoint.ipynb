{
 "cells": [
  {
   "cell_type": "markdown",
   "metadata": {},
   "source": [
    "This is to make a mask of positive values of a dataset."
   ]
  },
  {
   "cell_type": "code",
   "execution_count": 3,
   "metadata": {},
   "outputs": [
    {
     "name": "stderr",
     "output_type": "stream",
     "text": [
      "3dcalc: /packages/7x/anaconda3/5.3.0/lib/libuuid.so.1: no version information available (required by /lib64/libSM.so.6)\n",
      "++ 3dcalc: AFNI version=AFNI_20.1.11 (May 28 2020) [64-bit]\n",
      "++ Authored by: A cast of thousands\n",
      "++ Output dataset ./2ttest_wpbin.nii\n"
     ]
    }
   ],
   "source": [
    "%%bash\n",
    "module load afni/20.1.11\n",
    "cd /home/mabbasi6/morphometry/MWT_Morphometry/allen/rotate/awp_ac/\n",
    "a='MKO_2ttest_wp.nii'\n",
    "3dcalc -a $a -expr 'ispositive(a)' -prefix 2ttest_wpbin.nii"
   ]
  },
  {
   "cell_type": "code",
   "execution_count": 3,
   "metadata": {},
   "outputs": [
    {
     "name": "stderr",
     "output_type": "stream",
     "text": [
      "3dcalc: /packages/7x/anaconda3/5.3.0/lib/libuuid.so.1: no version information available (required by /lib64/libSM.so.6)\n",
      "++ 3dcalc: AFNI version=AFNI_20.1.11 (May 28 2020) [64-bit]\n",
      "++ Authored by: A cast of thousands\n",
      "++ Output dataset ./1ttest_filter.nii\n"
     ]
    }
   ],
   "source": [
    "%%bash\n",
    "module load afni/20.1.11\n",
    "cd /home/mabbasi6/morphometry/MWT_Morphometry/allen/rotate/awp_ac/\n",
    "a='ttest_1set_wp.nii'\n",
    "b='1ttest_wpmask.nii'\n",
    "3dcalc -a $a -b $b -expr 'a*bool(b)' -prefix 1ttest_filter.nii"
   ]
  },
  {
   "cell_type": "code",
   "execution_count": 10,
   "metadata": {},
   "outputs": [
    {
     "name": "stdout",
     "output_type": "stream",
     "text": [
      "Reading input dataset: MKO_2ttest_wp.nii \n",
      "ibrick =   1   statcode =  fitt \n",
      "Processing sub-brick #1 \n",
      "ibrick =   3   statcode =  fitt \n",
      "Processing sub-brick #3 \n",
      "ibrick =   5   statcode =  fitt \n",
      "Processing sub-brick #5 \n"
     ]
    },
    {
     "name": "stderr",
     "output_type": "stream",
     "text": [
      "3dFDR: /packages/7x/anaconda3/5.3.0/lib/libuuid.so.1: no version information available (required by /lib64/libSM.so.6)\n",
      "++ 3dFDR: AFNI version=AFNI_20.1.11 (May 28 2020) [64-bit]\n",
      "++ Authored by: B. Douglas Ward\n",
      "\n",
      "++ The 'new' method of FDR calculation is on by default; in particular:\n",
      " + * Voxel p-values of exactly 1 (e.g., from t=0 or F=0 or correlation=0)\n",
      " +   are ignored by default; in the old mode of operation, they were\n",
      " +   included in the count which goes into the FDR algorithm.  The old\n",
      " +   process tends to increase the q-values and so decrease the z-scores.\n",
      " + * If you wish to do the FDR conversion using the old mode, use '-old'\n",
      " +   on the command line.  For more information, use '3dFDR -help'.\n",
      " + * If you don't want to see this message again, use the '-new' option.\n",
      "++ RWCox - 18 Jan 2008\n",
      "\n",
      "Computing sub-brick statistics\n",
      "Wrote output to ./2ttest_fdr2.nii\n"
     ]
    }
   ],
   "source": [
    "%%bash\n",
    "module load afni/20.1.11\n",
    "cd /home/mabbasi6/morphometry/MWT_Morphometry/allen/rotate/awp_ac/\n",
    "a='MKO_2ttest_wp.nii'\n",
    "3dFDR -input $a -prefix 2ttest_fdr2.nii"
   ]
  },
  {
   "cell_type": "code",
   "execution_count": null,
   "metadata": {},
   "outputs": [],
   "source": []
  }
 ],
 "metadata": {
  "kernelspec": {
   "display_name": "Py3-basic",
   "language": "python",
   "name": "python3"
  },
  "language_info": {
   "codemirror_mode": {
    "name": "ipython",
    "version": 3
   },
   "file_extension": ".py",
   "mimetype": "text/x-python",
   "name": "python",
   "nbconvert_exporter": "python",
   "pygments_lexer": "ipython3",
   "version": "3.7.2"
  }
 },
 "nbformat": 4,
 "nbformat_minor": 2
}
