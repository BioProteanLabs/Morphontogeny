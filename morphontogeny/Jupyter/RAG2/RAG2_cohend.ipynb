{
 "cells": [
  {
   "cell_type": "markdown",
   "metadata": {},
   "source": [
    "# Computing the Cohen's d measure for Jacobians"
   ]
  },
  {
   "cell_type": "code",
   "execution_count": 70,
   "metadata": {},
   "outputs": [],
   "source": [
    "#!pip install pingouin==0.3.10 --user\n",
    "import numpy as np\n",
    "import pandas as pd\n",
    "import pingouin as pg\n",
    "import nibabel as nib\n",
    "import os"
   ]
  },
  {
   "cell_type": "markdown",
   "metadata": {},
   "source": [
    "PG Cohen's d function takes 2 arrays and computes the effect size"
   ]
  },
  {
   "cell_type": "code",
   "execution_count": null,
   "metadata": {},
   "outputs": [],
   "source": [
    "x = [1, 2, 3, 4, 5]\n",
    "y = [3, 4, 5, 6, 7]\n",
    "pg.compute_effsize(x, y, eftype='cohen')"
   ]
  },
  {
   "cell_type": "code",
   "execution_count": 57,
   "metadata": {},
   "outputs": [],
   "source": [
    "def nifti_to_vector(nii_file):\n",
    "    '''\n",
    "    Takes an input file address (str) to the NIFTI file and returns the flattened 1D array.\n",
    "    '''\n",
    "    img = nib.load(nii_file)\n",
    "    array = np.array(img.dataobj)\n",
    "    vector = array.flatten()\n",
    "    return vector"
   ]
  },
  {
   "cell_type": "code",
   "execution_count": 56,
   "metadata": {},
   "outputs": [],
   "source": [
    "def stack_nii(path_prefix, n):\n",
    "    '''\n",
    "    Takes the path to NIFTI files and stacks them in rows.\n",
    "    \n",
    "    Parameters:\n",
    "    path_prefix (str): Prefix of the path to the NIFTI file until the number,\n",
    "        example: '/data/img' if the complete location is: '/data/img1.nii'\n",
    "    \n",
    "    n (int): Number of NIFTI files to input\n",
    "    \n",
    "    Returns:\n",
    "    stack (array): Numpy array with n rows\n",
    "    '''\n",
    "    input_list = [path_prefix+str(i)+'.nii' for i in range(1,n+1)]\n",
    "    stack = np.vstack([nifti_to_vector(input)] for input in input_list)\n",
    "    return stack"
   ]
  },
  {
   "cell_type": "code",
   "execution_count": 51,
   "metadata": {},
   "outputs": [
    {
     "name": "stderr",
     "output_type": "stream",
     "text": [
      "/packages/7x/anaconda3/5.3.0/lib/python3.7/site-packages/ipykernel_launcher.py:4: FutureWarning: arrays to stack must be passed as a \"sequence\" type such as list or tuple. Support for non-sequence iterables such as generators is deprecated as of NumPy 1.16 and will raise an error in the future.\n",
      "  after removing the cwd from sys.path.\n"
     ]
    }
   ],
   "source": [
    "MKO_stack = stack_nii('/data/bioprotean/RAG2/AVG/JCB/MKO_invjcb',5)"
   ]
  },
  {
   "cell_type": "code",
   "execution_count": 52,
   "metadata": {},
   "outputs": [
    {
     "name": "stderr",
     "output_type": "stream",
     "text": [
      "/packages/7x/anaconda3/5.3.0/lib/python3.7/site-packages/ipykernel_launcher.py:4: FutureWarning: arrays to stack must be passed as a \"sequence\" type such as list or tuple. Support for non-sequence iterables such as generators is deprecated as of NumPy 1.16 and will raise an error in the future.\n",
      "  after removing the cwd from sys.path.\n"
     ]
    }
   ],
   "source": [
    "MWT_stack = stack_nii('/data/bioprotean/RAG2/AVG/JCB/MWT_invjcb',5)"
   ]
  },
  {
   "cell_type": "markdown",
   "metadata": {},
   "source": [
    "**Computing the Cohen's d effect size measure for Jacobians on Inversed warp.\n",
    "<br>Jacobians are in 75 um voxel size and in the collective RAG2 average brain space.\n",
    "<br>Jacobians image size is: (168, 252, 157).\n",
    "<br>Calculations better be done before transforming to CCF to prevent distortions in intensities.**"
   ]
  },
  {
   "cell_type": "code",
   "execution_count": 59,
   "metadata": {},
   "outputs": [],
   "source": [
    "def cohen_d(stack1, stack2):\n",
    "    '''\n",
    "    Takes 2 arrays and computes then Cohen's d using the pingouin library\n",
    "    (!pip install pingouin might be required)\n",
    "    \n",
    "    Parameters:\n",
    "    stack1, stack2 (array): Arrays with subjects as rows and voxels as columns\n",
    "    \n",
    "    Returns:\n",
    "    d (vector): Vector with size of stack1/stack2 columns\n",
    "    '''\n",
    "    d = np.zeros(stack1.shape[1])\n",
    "    for i in range (stack1.shape[1]):\n",
    "        d[i] = pg.compute_effsize(stack1[:,i], stack2[:,i], eftype='cohen')\n",
    "    return d"
   ]
  },
  {
   "cell_type": "code",
   "execution_count": 54,
   "metadata": {},
   "outputs": [
    {
     "name": "stderr",
     "output_type": "stream",
     "text": [
      "/home/mabbasi6/.local/lib/python3.7/site-packages/pingouin/effsize.py:698: RuntimeWarning: invalid value encountered in true_divide\n",
      "  d = (x.mean() - y.mean()) / poolsd\n"
     ]
    }
   ],
   "source": [
    "cohen = cohen_d(MKO_stack, MWT_stack)"
   ]
  },
  {
   "cell_type": "markdown",
   "metadata": {},
   "source": [
    "**Saving Cohen's d as a NIFTI file to visualize**"
   ]
  },
  {
   "cell_type": "code",
   "execution_count": 63,
   "metadata": {},
   "outputs": [],
   "source": [
    "cohen_array = cohen.reshape((168,252,157))"
   ]
  },
  {
   "cell_type": "code",
   "execution_count": 77,
   "metadata": {},
   "outputs": [],
   "source": [
    "save = nib.Nifti1Image(cohen_array, np.eye(4)) # Save axis for data (just identity)\n",
    "save.header.get_xyzt_units()\n",
    "save.to_filename(os.path.join('build','/data/bioprotean/RAG2/AVG/JCB/RAG2_cohensd.nii')) # Save as NiBabel file"
   ]
  },
  {
   "cell_type": "markdown",
   "metadata": {},
   "source": [
    "**Fixing Cohen's d NIFTI header**"
   ]
  },
  {
   "cell_type": "code",
   "execution_count": 94,
   "metadata": {},
   "outputs": [
    {
     "name": "stdout",
     "output_type": "stream",
     "text": [
      "LPI\t0.075000\t0.075000\t0.075000\tORIG\n",
      "LPI\t0.075000\t0.075000\t0.075000\tORIG\n"
     ]
    },
    {
     "name": "stderr",
     "output_type": "stream",
     "text": [
      "3dinfo: /packages/7x/anaconda3/5.3.0/lib/libuuid.so.1: no version information available (required by /lib64/libSM.so.6)\n",
      "3dinfo: /packages/7x/anaconda3/5.3.0/lib/libuuid.so.1: no version information available (required by /lib64/libSM.so.6)\n"
     ]
    }
   ],
   "source": [
    "%%bash\n",
    "module load afni/20.1.11\n",
    "cd /data/bioprotean/RAG2/AVG/JCB/\n",
    "3dinfo -orient -ad3 -space RAG2_avg75.nii\n",
    "3dinfo -orient -ad3 -space RAG2_cohensd.nii"
   ]
  },
  {
   "cell_type": "markdown",
   "metadata": {},
   "source": [
    "**Probably, it should have the same header as the RAG2_avg75.nii\n",
    "<br>Changing space to ORIG\n",
    "<br>Changing voxel size to: 0.075\n",
    "<br>Aligning the centers.**"
   ]
  },
  {
   "cell_type": "code",
   "execution_count": 82,
   "metadata": {},
   "outputs": [
    {
     "name": "stderr",
     "output_type": "stream",
     "text": [
      "3drefit: /packages/7x/anaconda3/5.3.0/lib/libuuid.so.1: no version information available (required by /lib64/libSM.so.6)\n",
      "++ 3drefit: AFNI version=AFNI_20.1.11 (May 28 2020) [64-bit]\n",
      "++ Authored by: RW Cox\n",
      "++ Processing AFNI dataset RAG2_cohensd.nii\n",
      " + applying -xyzscale\n",
      " + deoblique\n",
      " + loading and re-writing dataset RAG2_cohensd.nii (/data/bioprotean/RAG2/AVG/JCB/RAG2_cohensd.nii in NIFTI storage)\n",
      "++ 3drefit processed 1 datasets\n"
     ]
    }
   ],
   "source": [
    "%%bash\n",
    "module load afni/20.1.11\n",
    "cd /data/bioprotean/RAG2/AVG/JCB/\n",
    "3drefit -xyzscale 0.075 RAG2_cohensd.nii"
   ]
  },
  {
   "cell_type": "code",
   "execution_count": 96,
   "metadata": {},
   "outputs": [
    {
     "name": "stderr",
     "output_type": "stream",
     "text": [
      "3drefit: /packages/7x/anaconda3/5.3.0/lib/libuuid.so.1: no version information available (required by /lib64/libSM.so.6)\n",
      "++ 3drefit: AFNI version=AFNI_20.1.11 (May 28 2020) [64-bit]\n",
      "++ Authored by: RW Cox\n",
      "++ Processing AFNI dataset RAG2_cohensd.nii\n",
      " + loading and re-writing dataset RAG2_cohensd.nii (/data/bioprotean/RAG2/AVG/JCB/RAG2_cohensd.nii in NIFTI storage)\n",
      "++ 3drefit processed 1 datasets\n",
      "3drefit: /packages/7x/anaconda3/5.3.0/lib/libuuid.so.1: no version information available (required by /lib64/libSM.so.6)\n",
      "++ 3drefit: AFNI version=AFNI_20.1.11 (May 28 2020) [64-bit]\n",
      "++ Authored by: RW Cox\n",
      "++ Processing AFNI dataset RAG2_cohensd.nii\n",
      " + Didn't make any changes for dataset RAG2_cohensd.nii !\n",
      "++ 3drefit processed 1 datasets\n"
     ]
    }
   ],
   "source": [
    "%%bash\n",
    "module load afni/20.1.11\n",
    "cd /data/bioprotean/RAG2/AVG/JCB/\n",
    "3drefit -space ORIG RAG2_cohensd.nii\n",
    "3drefit -view orig RAG2_cohensd.nii"
   ]
  },
  {
   "cell_type": "code",
   "execution_count": 99,
   "metadata": {},
   "outputs": [
    {
     "name": "stdout",
     "output_type": "stream",
     "text": [
      "base: -6.37225 -8.50547 4.14027\n",
      "dset: -83.8002 -124.476 77.3469\n",
      "delta: 77.427950 115.970530 -73.206630\n"
     ]
    },
    {
     "name": "stderr",
     "output_type": "stream",
     "text": [
      "ParseName: /packages/7x/anaconda3/5.3.0/lib/libuuid.so.1: no version information available (required by /lib64/libSM.so.6)\n",
      "ParseName: /packages/7x/anaconda3/5.3.0/lib/libuuid.so.1: no version information available (required by /lib64/libSM.so.6)\n",
      "afni: /packages/7x/anaconda3/5.3.0/lib/libuuid.so.1: no version information available (required by /lib64/libSM.so.6)\n",
      "afni: /packages/7x/anaconda3/5.3.0/lib/libuuid.so.1: no version information available (required by /lib64/libSM.so.6)\n",
      "afni: /packages/7x/anaconda3/5.3.0/lib/libuuid.so.1: no version information available (required by /lib64/libSM.so.6)\n",
      "afni: /packages/7x/anaconda3/5.3.0/lib/libuuid.so.1: no version information available (required by /lib64/libSM.so.6)\n",
      "ParseName: /packages/7x/anaconda3/5.3.0/lib/libuuid.so.1: no version information available (required by /lib64/libSM.so.6)\n",
      "3dCM: /packages/7x/anaconda3/5.3.0/lib/libuuid.so.1: no version information available (required by /lib64/libSM.so.6)\n",
      "3dcopy: /packages/7x/anaconda3/5.3.0/lib/libuuid.so.1: no version information available (required by /lib64/libSM.so.6)\n",
      "++ 3dcopy: AFNI version=AFNI_20.1.11 (May 28 2020) [64-bit]\n",
      "3dCM: /packages/7x/anaconda3/5.3.0/lib/libuuid.so.1: no version information available (required by /lib64/libSM.so.6)\n",
      "\u001b[7m*+ WARNING:\u001b[0m Over-writing dataset /data/bioprotean/RAG2/AVG/JCB/RAG2_cohensd_shft.nii\n",
      "++ Wrote new dataset: /data/bioprotean/RAG2/AVG/JCB/RAG2_cohensd_shft.nii\n",
      "ccalc: /packages/7x/anaconda3/5.3.0/lib/libuuid.so.1: no version information available (required by /lib64/libSM.so.6)\n",
      "ccalc: /packages/7x/anaconda3/5.3.0/lib/libuuid.so.1: no version information available (required by /lib64/libSM.so.6)\n",
      "ccalc: /packages/7x/anaconda3/5.3.0/lib/libuuid.so.1: no version information available (required by /lib64/libSM.so.6)\n",
      "ccalc: /packages/7x/anaconda3/5.3.0/lib/libuuid.so.1: no version information available (required by /lib64/libSM.so.6)\n",
      "ccalc: /packages/7x/anaconda3/5.3.0/lib/libuuid.so.1: no version information available (required by /lib64/libSM.so.6)\n",
      "ccalc: /packages/7x/anaconda3/5.3.0/lib/libuuid.so.1: no version information available (required by /lib64/libSM.so.6)\n",
      "ParseName: /packages/7x/anaconda3/5.3.0/lib/libuuid.so.1: no version information available (required by /lib64/libSM.so.6)\n",
      "ParseName: /packages/7x/anaconda3/5.3.0/lib/libuuid.so.1: no version information available (required by /lib64/libSM.so.6)\n"
     ]
    }
   ],
   "source": [
    "%%bash\n",
    "module load afni/20.1.11\n",
    "cd /data/bioprotean/RAG2/AVG/JCB/\n",
    "@Align_Centers -cm -base RAG2_avg75.nii -dset RAG2_cohensd.nii"
   ]
  },
  {
   "cell_type": "markdown",
   "metadata": {},
   "source": [
    "**Done!**"
   ]
  },
  {
   "cell_type": "code",
   "execution_count": null,
   "metadata": {},
   "outputs": [],
   "source": []
  }
 ],
 "metadata": {
  "kernelspec": {
   "display_name": "Py3-basic",
   "language": "python",
   "name": "python3"
  },
  "language_info": {
   "codemirror_mode": {
    "name": "ipython",
    "version": 3
   },
   "file_extension": ".py",
   "mimetype": "text/x-python",
   "name": "python",
   "nbconvert_exporter": "python",
   "pygments_lexer": "ipython3",
   "version": "3.7.2"
  }
 },
 "nbformat": 4,
 "nbformat_minor": 2
}
