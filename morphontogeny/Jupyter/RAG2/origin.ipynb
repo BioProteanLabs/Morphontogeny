{
 "cells": [
  {
   "cell_type": "raw",
   "metadata": {},
   "source": [
    "This is to get info on the origins (axes) of the datasets and to change them to our heart's delight."
   ]
  },
  {
   "cell_type": "code",
   "execution_count": 2,
   "metadata": {},
   "outputs": [
    {
     "name": "stdout",
     "output_type": "stream",
     "text": [
      "67\t41\t58\n",
      "63\t102\t59\n",
      "0.000000\t0.000000\t-0.000000\n",
      "-0.137500\t1.287499\t-1.037500\n",
      "0.200000\t-0.200000\t-0.200000\n",
      "-0.200000\t-0.200000\t0.200000\n"
     ]
    },
    {
     "name": "stderr",
     "output_type": "stream",
     "text": [
      "3dinfo: /packages/7x/anaconda3/5.3.0/lib/libuuid.so.1: no version information available (required by /lib64/libSM.so.6)\n",
      "3dinfo: /packages/7x/anaconda3/5.3.0/lib/libuuid.so.1: no version information available (required by /lib64/libSM.so.6)\n",
      "3dinfo: /packages/7x/anaconda3/5.3.0/lib/libuuid.so.1: no version information available (required by /lib64/libSM.so.6)\n",
      "3dinfo: /packages/7x/anaconda3/5.3.0/lib/libuuid.so.1: no version information available (required by /lib64/libSM.so.6)\n",
      "3dinfo: /packages/7x/anaconda3/5.3.0/lib/libuuid.so.1: no version information available (required by /lib64/libSM.so.6)\n",
      "3dinfo: /packages/7x/anaconda3/5.3.0/lib/libuuid.so.1: no version information available (required by /lib64/libSM.so.6)\n"
     ]
    }
   ],
   "source": [
    "%%bash\n",
    "module load afni/20.1.11\n",
    "cd /data/bioprotean/SVD/jacobian/\n",
    "base='allen_200rs.nii'\n",
    "input='MKO_jcb1rs.nii'\n",
    "# number of voxels in x y z directions\n",
    "3dinfo -ni -nj -nk $base\n",
    "3dinfo -ni -nj -nk $input\n",
    "# location of axes origin\n",
    "3dinfo -o3 $base\n",
    "3dinfo -o3 $input\n",
    "# voxel dimension\n",
    "3dinfo -d3 $base\n",
    "3dinfo -d3 $input\n",
    "#3dTcorrelate $input $base"
   ]
  },
  {
   "cell_type": "code",
   "execution_count": 6,
   "metadata": {},
   "outputs": [
    {
     "name": "stderr",
     "output_type": "stream",
     "text": [
      "3drefit: /packages/7x/anaconda3/5.3.0/lib/libuuid.so.1: no version information available (required by /lib64/libSM.so.6)\n",
      "++ 3drefit: AFNI version=AFNI_20.1.11 (May 28 2020) [64-bit]\n",
      "++ Authored by: RW Cox\n",
      "++ Processing AFNI dataset 5_jcb_mko.nii\n",
      " + deoblique\n",
      " + loading and re-writing dataset 5_jcb_mko.nii (/home/mabbasi6/morphometry/correlation/jacobians/5_jcb_mko.nii in NIFTI storage)\n",
      "++ 3drefit processed 1 datasets\n"
     ]
    }
   ],
   "source": [
    "%%bash\n",
    "module load afni/20.1.11\n",
    "cd /home/mabbasi6/morphometry/correlation/jacobians/\n",
    "input='5_jcb_mko.nii'\n",
    "3drefit -xorigin 0 -yorigin 0 -zorigin 0 $input"
   ]
  },
  {
   "cell_type": "code",
   "execution_count": null,
   "metadata": {},
   "outputs": [],
   "source": [
    "%%bash\n",
    "module load afni/20.1.11\n",
    "cd /home/mabbasi6/morphometry/MWT_Morphometry/allen/rotate/\n",
    "input='MWT_acmass.nii'\n",
    "base='MKO_ttest_rsac.nii'\n",
    "@Center_Distance -dset $input $base"
   ]
  },
  {
   "cell_type": "code",
   "execution_count": null,
   "metadata": {},
   "outputs": [],
   "source": []
  }
 ],
 "metadata": {
  "kernelspec": {
   "display_name": "Py3-basic",
   "language": "python",
   "name": "python3"
  },
  "language_info": {
   "codemirror_mode": {
    "name": "ipython",
    "version": 3
   },
   "file_extension": ".py",
   "mimetype": "text/x-python",
   "name": "python",
   "nbconvert_exporter": "python",
   "pygments_lexer": "ipython3",
   "version": "3.7.2"
  }
 },
 "nbformat": 4,
 "nbformat_minor": 2
}
