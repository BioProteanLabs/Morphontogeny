{
 "cells": [
  {
   "cell_type": "markdown",
   "metadata": {},
   "source": [
    "# AFNI 3dResample\n",
    "Either by -master option or manually defined.\n",
    "<br>Make sure to check the output if the -master option is used."
   ]
  },
  {
   "cell_type": "code",
   "execution_count": 1,
   "metadata": {},
   "outputs": [
    {
     "name": "stdout",
     "output_type": "stream",
     "text": [
      "67\t41\t58\n",
      "176\t107\t152\n",
      "0.000000\t0.000000\t-0.000000\n",
      "-0.000000\t0.000000\t0.000000\n",
      "0.200000\t-0.200000\t-0.200000\n",
      "0.075000\t-0.075000\t-0.075000\n"
     ]
    },
    {
     "name": "stderr",
     "output_type": "stream",
     "text": [
      "3dinfo: /packages/7x/anaconda3/5.3.0/lib/libuuid.so.1: no version information available (required by /lib64/libSM.so.6)\n",
      "3dinfo: /packages/7x/anaconda3/5.3.0/lib/libuuid.so.1: no version information available (required by /lib64/libSM.so.6)\n",
      "3dinfo: /packages/7x/anaconda3/5.3.0/lib/libuuid.so.1: no version information available (required by /lib64/libSM.so.6)\n",
      "3dinfo: /packages/7x/anaconda3/5.3.0/lib/libuuid.so.1: no version information available (required by /lib64/libSM.so.6)\n",
      "3dinfo: /packages/7x/anaconda3/5.3.0/lib/libuuid.so.1: no version information available (required by /lib64/libSM.so.6)\n",
      "3dinfo: /packages/7x/anaconda3/5.3.0/lib/libuuid.so.1: no version information available (required by /lib64/libSM.so.6)\n"
     ]
    }
   ],
   "source": [
    "%%bash\n",
    "module load afni/20.1.11\n",
    "cd /data/bioprotean/RAG2/allen/rotate/\n",
    "base='allen_200rs.nii'\n",
    "input='annotation_75.nii'\n",
    "# number of voxels in x y z directions\n",
    "3dinfo -ni -nj -nk $base\n",
    "3dinfo -ni -nj -nk $input\n",
    "# location of axes origin\n",
    "3dinfo -o3 $base\n",
    "3dinfo -o3 $input\n",
    "# voxel dimension\n",
    "3dinfo -d3 $base\n",
    "3dinfo -d3 $input"
   ]
  },
  {
   "cell_type": "code",
   "execution_count": null,
   "metadata": {},
   "outputs": [],
   "source": [
    "%%bash\n",
    "module load afni/20.1.11\n",
    "cd /home/mabbasi6/morphometry/MWT_Morphometry/allen/rotate/\n",
    "input='allen_75.nii'\n",
    "3dresample -dxyz 0.200 0.200 0.200 -input $input -prefix allen_200by75.nii"
   ]
  },
  {
   "cell_type": "code",
   "execution_count": 3,
   "metadata": {},
   "outputs": [
    {
     "name": "stderr",
     "output_type": "stream",
     "text": [
      "3dresample: /packages/7x/anaconda3/5.3.0/lib/libuuid.so.1: no version information available (required by /lib64/libSM.so.6)\n"
     ]
    }
   ],
   "source": [
    "%%bash\n",
    "module load afni/20.1.11\n",
    "cd /data/bioprotean/RAG2/AVG/MWT_avg/to_allen/resample/\n",
    "input='MKO_MWTavg_invjcb_avg_qw_masked.nii'\n",
    "master='nclusters_fixed10.nii'\n",
    "3dresample -master $master -input $input -prefix MKO_MWTavg_invjcb_avg_qw_masked_200.nii"
   ]
  },
  {
   "cell_type": "code",
   "execution_count": null,
   "metadata": {},
   "outputs": [],
   "source": []
  }
 ],
 "metadata": {
  "kernelspec": {
   "display_name": "Py3-basic",
   "language": "python",
   "name": "python3"
  },
  "language_info": {
   "codemirror_mode": {
    "name": "ipython",
    "version": 3
   },
   "file_extension": ".py",
   "mimetype": "text/x-python",
   "name": "python",
   "nbconvert_exporter": "python",
   "pygments_lexer": "ipython3",
   "version": "3.7.2"
  }
 },
 "nbformat": 4,
 "nbformat_minor": 2
}
