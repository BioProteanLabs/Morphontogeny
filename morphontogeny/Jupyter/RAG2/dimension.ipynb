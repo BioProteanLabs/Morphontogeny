{
 "cells": [
  {
   "cell_type": "markdown",
   "metadata": {},
   "source": [
    "This is to change the dimension of datasets.\n",
    "First, the info is derived for dataset using 3dinfo and then desired dimension applied (header will be updated)."
   ]
  },
  {
   "cell_type": "code",
   "execution_count": 6,
   "metadata": {},
   "outputs": [
    {
     "name": "stdout",
     "output_type": "stream",
     "text": [
      "\n",
      "Dataset File:    /home/mabbasi6/morphometry/correlation/template/annotation_100.nii\n",
      "Identifier Code: NII_YAGG-FIE2rJoJGW6juv4ZA  Creation Date: Fri Nov 13 17:53:43 2020\n",
      "Template Space:  ORIG\n",
      "Dataset Type:    Anat Bucket (-abuc)\n",
      "Byte Order:      LSB_FIRST {assumed} [this CPU native = LSB_FIRST]\n",
      "Storage Mode:    NIFTI\n",
      "Storage Space:   4,815,360 (4.8 million) bytes\n",
      "Geometry String: \"MATRIX(0,0,-0.1,0,0.1,0,0,0,0,-0.1,0,0):132,80,114\"\n",
      "Data Axes Tilt:  Plumb\n",
      "Data Axes Orientation:\n",
      "  first  (x) = Anterior-to-Posterior\n",
      "  second (y) = Superior-to-Inferior\n",
      "  third  (z) = Left-to-Right   [-orient ASL]\n",
      "R-to-L extent:   -11.300 [R] -to-     0.000     -step-     0.100 mm [114 voxels]\n",
      "A-to-P extent:    -0.000     -to-    13.100 [P] -step-     0.100 mm [132 voxels]\n",
      "I-to-S extent:    -7.900 [I] -to-     0.000     -step-     0.100 mm [ 80 voxels]\n",
      "Number of values stored at each pixel = 1\n",
      "  -- At sub-brick #0 '?' datum type is float:            0 to   6.14454e+08\n",
      "\n",
      "----- HISTORY -----\n",
      "[mabbasi6@cg17-8.agave.rc.asu.edu: Fri Nov 13 17:53:43 2020] {AFNI_20.1.11:linux_centos_7_64} 3drefit -xyzscale 0.001 annotation_100.nii\n",
      "[mabbasi6@cg17-8.agave.rc.asu.edu: Fri Nov 13 17:54:53 2020] {AFNI_20.1.11:linux_centos_7_64} 3drefit -xorigin 0 -yorigin 0 -zorigin 0 annotation_100.nii\n",
      "[mabbasi6@cg17-8.agave.rc.asu.edu: Fri Nov 13 17:56:16 2020] {AFNI_20.1.11:linux_centos_7_64} 3drefit -orient ASL annotation_100.nii\n",
      "\n"
     ]
    },
    {
     "name": "stderr",
     "output_type": "stream",
     "text": [
      "3dinfo: /packages/7x/anaconda3/5.3.0/lib/libuuid.so.1: no version information available (required by /lib64/libSM.so.6)\n",
      "++ 3dinfo: AFNI version=AFNI_20.1.11 (May 28 2020) [64-bit]\n",
      "\u001b[7m** FATAL ERROR:\u001b[0m Can't open dataset -dxyz\n",
      "** Program compile date = May 28 2020\n"
     ]
    }
   ],
   "source": [
    "%%bash\n",
    "module load afni/20.1.11\n",
    "cd /home/mabbasi6/morphometry/correlation/template/\n",
    "3dinfo annotation_100.nii -dxyz"
   ]
  },
  {
   "cell_type": "code",
   "execution_count": 3,
   "metadata": {},
   "outputs": [
    {
     "name": "stderr",
     "output_type": "stream",
     "text": [
      "3drefit: /packages/7x/anaconda3/5.3.0/lib/libuuid.so.1: no version information available (required by /lib64/libSM.so.6)\n",
      "++ 3drefit: AFNI version=AFNI_20.1.11 (May 28 2020) [64-bit]\n",
      "++ Authored by: RW Cox\n",
      "** AFNI converts NIFTI_datatype=768 (UINT32) in file /home/mabbasi6/morphometry/correlation/template/annotation_100.nii to FLOAT32\n",
      "     Warnings of this type will be muted for this session.\n",
      "     Set AFNI_NIFTI_TYPE_WARN to YES to see them all, NO to see none.\n",
      "++ Processing AFNI dataset annotation_100.nii\n",
      " + applying -xyzscale\n",
      " + deoblique\n",
      " + loading and re-writing dataset annotation_100.nii (/home/mabbasi6/morphometry/correlation/template/annotation_100.nii in NIFTI storage)\n",
      "++ 3drefit processed 1 datasets\n"
     ]
    }
   ],
   "source": [
    "%%bash\n",
    "module load afni/20.1.11\n",
    "cd /home/mabbasi6/morphometry/correlation/template/\n",
    "3drefit -xyzscale 0.001 annotation_100.nii"
   ]
  },
  {
   "cell_type": "code",
   "execution_count": null,
   "metadata": {},
   "outputs": [],
   "source": []
  }
 ],
 "metadata": {
  "kernelspec": {
   "display_name": "Py3-basic",
   "language": "python",
   "name": "python3"
  },
  "language_info": {
   "codemirror_mode": {
    "name": "ipython",
    "version": 3
   },
   "file_extension": ".py",
   "mimetype": "text/x-python",
   "name": "python",
   "nbconvert_exporter": "python",
   "pygments_lexer": "ipython3",
   "version": "3.7.2"
  }
 },
 "nbformat": 4,
 "nbformat_minor": 2
}
