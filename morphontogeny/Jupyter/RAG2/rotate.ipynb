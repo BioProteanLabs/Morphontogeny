{
 "cells": [
  {
   "cell_type": "raw",
   "metadata": {},
   "source": [
    "It is always good to get information of the orientation and dimensions of the file (3dinfo).\n",
    "If the views (like Sagittal) are not correct, probably the orientation is not set correctly.\n",
    "Generally, this code is to rotate our datasets."
   ]
  },
  {
   "cell_type": "raw",
   "metadata": {},
   "source": [
    "180 rotation around Inferior-Superir axis works for dataset 1!\n",
    "These rotations are based on the views, so the views should be set correctly."
   ]
  },
  {
   "cell_type": "code",
   "execution_count": 2,
   "metadata": {},
   "outputs": [
    {
     "name": "stdout",
     "output_type": "stream",
     "text": [
      "\n",
      "Dataset File:    /home/mabbasi6/morphometry/correlation/visual/jac_tm_100pos_RAI.nii\n",
      "Identifier Code: XYZ_m8nhwUqg0tx_Ny9kYTybRQ  Creation Date: Wed Nov 18 10:35:37 2020\n",
      "Template Space:  ORIG\n",
      "Dataset Type:    Anat Bucket (-abuc)\n",
      "Byte Order:      LSB_FIRST {assumed} [this CPU native = LSB_FIRST]\n",
      "Storage Mode:    NIFTI\n",
      "Storage Space:   4,815,360 (4.8 million) bytes\n",
      "Geometry String: \"MATRIX(0,0,-0.1,-2.01166e-07,0.1,0,0,-1.93715e-07,0,-0.1,0,5.960464e-08):132,80,114\"\n",
      "Data Axes Tilt:  Plumb\n",
      "Data Axes Orientation:\n",
      "  first  (x) = Anterior-to-Posterior\n",
      "  second (y) = Superior-to-Inferior\n",
      "  third  (z) = Left-to-Right   [-orient ASL]\n",
      "R-to-L extent:   -11.300 [R] -to-    -0.000 [R] -step-     0.100 mm [114 voxels]\n",
      "A-to-P extent:    -0.000 [A] -to-    13.100 [P] -step-     0.100 mm [132 voxels]\n",
      "I-to-S extent:    -7.900 [I] -to-     0.000 [S] -step-     0.100 mm [ 80 voxels]\n",
      "Number of values stored at each pixel = 1\n",
      "  -- At sub-brick #0 'SetA_mean' datum type is float:            0 to       1.39508\n",
      "\n",
      "----- HISTORY -----\n",
      "[mabbasi6@cg17-3.agave.rc.asu.edu: Tue Nov 17 17:36:34 2020] ===================================\n",
      "[mabbasi6@cg17-3.agave.rc.asu.edu: Tue Nov 17 17:36:34 2020] === History of inputs to 3dcalc ===\n",
      "[mabbasi6@cg17-3.agave.rc.asu.edu: Tue Nov 17 17:36:34 2020] === Input a:\n",
      "[mabbasi6@cg17-3.agave.rc.asu.edu: Tue Nov 17 17:36:34 2020] [mabbasi6@cg17-5.agave.rc.asu.edu: Tue Oct 27 19:06:34 2020] ===================================\n",
      "[mabbasi6@cg17-5.agave.rc.asu.edu: Tue Oct 27 19:06:34 2020] === History of inputs to 3dcalc ===\n",
      "[mabbasi6@cg17-5.agave.rc.asu.edu: Tue Oct 27 19:06:34 2020] === Input a:\n",
      "[mabbasi6@cg17-5.agave.rc.asu.edu: Tue Oct 27 19:06:34 2020] [mabbasi6@cg17-10.agave.rc.asu.edu: Tue Sep 22 13:31:25 2020] ===================================\n",
      "[mabbasi6@cg17-10.agave.rc.asu.edu: Tue Sep 22 13:31:25 2020] === History of inputs to 3dcalc ===\n",
      "[mabbasi6@cg17-10.agave.rc.asu.edu: Tue Sep 22 13:31:25 2020] === Input a:\n",
      "[mabbasi6@cg17-10.agave.rc.asu.edu: Tue Sep 22 13:31:25 2020] [mabbasi6@cg17-3.agave.rc.asu.edu: Thu Sep 17 15:18:17 2020] ===================================\n",
      "[mabbasi6@cg17-3.agave.rc.asu.edu: Thu Sep 17 15:18:17 2020] === History of inputs to 3dcalc ===\n",
      "[mabbasi6@cg17-3.agave.rc.asu.edu: Thu Sep 17 15:18:17 2020] === Input a:\n",
      "[mabbasi6@cg17-3.agave.rc.asu.edu: Thu Sep 17 15:18:17 2020] [mabbasi6@cg17-3.agave.rc.asu.edu: Thu Sep 17 14:47:12 2020] {AFNI_20.1.11:linux_centos_7_64} 3dcopy 5.nii 5\n",
      "[mabbasi6@cg17-3.agave.rc.asu.edu: Thu Sep 17 15:18:13 2020] {AFNI_20.1.11:linux_centos_7_64} 3dQwarp -base 5+orig -source B_aff+orig -plusminus -pmNAMES Top Bottom -prefix avgAB\n",
      "[mabbasi6@cg17-3.agave.rc.asu.edu: Thu Sep 17 15:18:17 2020] === Input b:\n",
      "[mabbasi6@cg17-3.agave.rc.asu.edu: Thu Sep 17 15:18:17 2020] [mabbasi6@cg17-3.agave.rc.asu.edu: Thu Sep 17 14:47:12 2020] {AFNI_20.1.11:linux_centos_7_64} 3dcopy 5.nii 5\n",
      "[mabbasi6@cg17-3.agave.rc.asu.edu: Thu Sep 17 15:18:15 2020] {AFNI_20.1.11:linux_centos_7_64} 3dQwarp -base 5+orig -source B_aff+orig -plusminus -pmNAMES Top Bottom -prefix avgAB\n",
      "[mabbasi6@cg17-3.agave.rc.asu.edu: Thu Sep 17 15:18:17 2020] ===================================\n",
      "[mabbasi6@cg17-3.agave.rc.asu.edu: Thu Sep 17 15:18:17 2020] {AFNI_20.1.11:linux_centos_7_64} 3dcalc -a avgAB_Top+orig -b avgAB_Bottom+orig -expr '(a+b)/2' -prefix avgAB_qwpm\n",
      "[mabbasi6@cg17-3.agave.rc.asu.edu: Thu Sep 17 16:50:37 2020] {AFNI_20.1.11:linux_centos_7_64} 3dcopy avgAB_qwpm+orig MWT_template.nii\n",
      "[mabbasi6@cg17-1.agave.rc.asu.edu: Mon Sep 21 15:54:16 2020] {AFNI_20.1.11:linux_centos_7_64} 3dresample -master MKO_ttest_oneset+orig -prefix MWT_template_res.nii -input MWT_template.nii\n",
      "[mabbasi6@cg17-3.agave.rc.asu.edu: Mon Sep 21 19:48:21 2020] {AFNI_20.1.11:linux_centos_7_64} 3dAutomask -prefix MWT_template_mask.nii MWT_template_res.nii\n",
      "[mabbasi6@cg17-10.agave.rc.asu.edu: Tue Sep 22 13:31:25 2020] === Input b:\n",
      "[mabbasi6@cg17-10.agave.rc.asu.edu: Tue Sep 22 13:31:25 2020] [mabbasi6@cg17-1.agave.rc.asu.edu: Mon Sep 21 12:32:09 2020] {AFNI_20.1.11:linux_centos_7_64} 3dttest++ -prefix MKO_ttest_oneset -setA /home/mabbasi6/morphometry/MKO_Morphometry/1_anmwp/1_jcb+orig /home/mabbasi6/morphometry/MKO_Morphometry/2_anmwp/2_jcb+orig /home/mabbasi6/morphometry/MKO_Morphometry/3_anmwp/3_jcb+orig /home/mabbasi6/morphometry/MKO_Morphometry/4_anmwp/4_jcb+orig /home/mabbasi6/morphometry/MKO_Morphometry/5_anmwp/5_jcb+orig\n",
      "[mabbasi6@cg17-10.agave.rc.asu.edu: Tue Sep 22 13:28:11 2020] {AFNI_20.1.11:linux_centos_7_64} 3dcopy MKO_ttest_oneset+orig MKO_ttest_1set.nii\n",
      "[mabbasi6@cg17-10.agave.rc.asu.edu: Tue Sep 22 13:31:25 2020] ===================================\n",
      "[mabbasi6@cg17-10.agave.rc.asu.edu: Tue Sep 22 13:31:25 2020] {AFNI_20.1.11:linux_centos_7_64} 3dcalc -a MWT_template_mask.nii -b MKO_ttest_1set.nii -expr 'a*b' -prefix MKO_ttest_1set_mask.nii -datum float\n",
      "[mabbasi6@cg17-8.agave.rc.asu.edu: Wed Oct  7 10:54:48 2020] {AFNI_20.1.11:linux_centos_7_64} 3dresample -master MWT_template.nii -input MKO_ttest_1set_mask.nii -prefix MKO_1ttest_rs.nii\n",
      "[mabbasi6@cg17-8.agave.rc.asu.edu: Wed Oct  7 11:08:46 2020] {AFNI_20.1.11:linux_centos_7_64} 3dcopy ./MKO_1ttest_rs.nii ./ttest_1set_rsacbyac.nii\n",
      "[mabbasi6@cg17-8.agave.rc.asu.edu: Wed Oct  7 11:08:47 2020] {AFNI_20.1.11:linux_centos_7_64} 3drefit -dxorigin 0.287499 -dyorigin 15.462501 -dzorigin -9.262500 ./ttest_1set_rsacbyac.nii\n",
      "[mabbasi6@cg17-8.agave.rc.asu.edu: Wed Oct  7 12:06:44 2020] {AFNI_20.1.11:linux_centos_7_64} 3dAllineate -1Dmatrix_apply affine_matrix.aff12.1D -input ttest_1set_rsacbyac.nii -prefix ttest_1set_aff.nii\n",
      "[mabbasi6@cg17-8.agave.rc.asu.edu: Wed Oct  7 12:13:42 2020] {AFNI_20.1.11:linux_centos_7_64} 3dNwarpApply -source ttest_1set_aff.nii -nwarp anat.un.qw_WARP.nii -prefix ttest_1set_wp.nii\n",
      "[mabbasi6@cg17-5.agave.rc.asu.edu: Tue Oct 27 18:59:34 2020] {AFNI_20.1.11:linux_centos_7_64} 3dresample -master brain.nii -input 1ttest_75.nii -prefix 1ttest_rsb.nii\n",
      "[mabbasi6@cg17-5.agave.rc.asu.edu: Tue Oct 27 19:06:34 2020] === Input b:\n",
      "[mabbasi6@cg17-5.agave.rc.asu.edu: Tue Oct 27 19:06:34 2020] [mabbasi6@cg17-10.agave.rc.asu.edu: Tue Sep 22 13:31:25 2020] ===================================\n",
      "[mabbasi6@cg17-10.agave.rc.asu.edu: Tue Sep 22 13:31:25 2020] === History of inputs to 3dcalc ===\n",
      "[mabbasi6@cg17-10.agave.rc.asu.edu: Tue Sep 22 13:31:25 2020] === Input a:\n",
      "[mabbasi6@cg17-10.agave.rc.asu.edu: Tue Sep 22 13:31:25 2020] [mabbasi6@cg17-3.agave.rc.asu.edu: Thu Sep 17 15:18:17 2020] ===================================\n",
      "[mabbasi6@cg17-3.agave.rc.asu.edu: Thu Sep 17 15:18:17 2020] === History of inputs to 3dcalc ===\n",
      "[mabbasi6@cg17-3.agave.rc.asu.edu: Thu Sep 17 15:18:17 2020] === Input a:\n",
      "[mabbasi6@cg17-3.agave.rc.asu.edu: Thu Sep 17 15:18:17 2020] [mabbasi6@cg17-3.agave.rc.asu.edu: Thu Sep 17 14:47:12 2020] {AFNI_20.1.11:linux_centos_7_64} 3dcopy 5.nii 5\n",
      "[mabbasi6@cg17-3.agave.rc.asu.edu: Thu Sep 17 15:18:13 2020] {AFNI_20.1.11:linux_centos_7_64} 3dQwarp -base 5+orig -source B_aff+orig -plusminus -pmNAMES Top Bottom -prefix avgAB\n",
      "[mabbasi6@cg17-3.agave.rc.asu.edu: Thu Sep 17 15:18:17 2020] === Input b:\n",
      "[mabbasi6@cg17-3.agave.rc.asu.edu: Thu Sep 17 15:18:17 2020] [mabbasi6@cg17-3.agave.rc.asu.edu: Thu Sep 17 14:47:12 2020] {AFNI_20.1.11:linux_centos_7_64} 3dcopy 5.nii 5\n",
      "[mabbasi6@cg17-3.agave.rc.asu.edu: Thu Sep 17 15:18:15 2020] {AFNI_20.1.11:linux_centos_7_64} 3dQwarp -base 5+orig -source B_aff+orig -plusminus -pmNAMES Top Bottom -prefix avgAB\n",
      "[mabbasi6@cg17-3.agave.rc.asu.edu: Thu Sep 17 15:18:17 2020] ===================================\n",
      "[mabbasi6@cg17-3.agave.rc.asu.edu: Thu Sep 17 15:18:17 2020] {AFNI_20.1.11:linux_centos_7_64} 3dcalc -a avgAB_Top+orig -b avgAB_Bottom+orig -expr '(a+b)/2' -prefix avgAB_qwpm\n",
      "[mabbasi6@cg17-3.agave.rc.asu.edu: Thu Sep 17 16:50:37 2020] {AFNI_20.1.11:linux_centos_7_64} 3dcopy avgAB_qwpm+orig MWT_template.nii\n",
      "[mabbasi6@cg17-1.agave.rc.asu.edu: Mon Sep 21 15:54:16 2020] {AFNI_20.1.11:linux_centos_7_64} 3dresample -master MKO_ttest_oneset+orig -prefix MWT_template_res.nii -input MWT_template.nii\n",
      "[mabbasi6@cg17-3.agave.rc.asu.edu: Mon Sep 21 19:48:21 2020] {AFNI_20.1.11:linux_centos_7_64} 3dAutomask -prefix MWT_template_mask.nii MWT_template_res.nii\n",
      "[mabbasi6@cg17-10.agave.rc.asu.edu: Tue Sep 22 13:31:25 2020] === Input b:\n",
      "[mabbasi6@cg17-10.agave.rc.asu.edu: Tue Sep 22 13:31:25 2020] [mabbasi6@cg17-1.agave.rc.asu.edu: Mon Sep 21 12:32:09 2020] {AFNI_20.1.11:linux_centos_7_64} 3dttest++ -prefix MKO_ttest_oneset -setA /home/mabbasi6/morphometry/MKO_Morphometry/1_anmwp/1_jcb+orig /home/mabbasi6/morphometry/MKO_Morphometry/2_anmwp/2_jcb+orig /home/mabbasi6/morphometry/MKO_Morphometry/3_anmwp/3_jcb+orig /home/mabbasi6/morphometry/MKO_Morphometry/4_anmwp/4_jcb+orig /home/mabbasi6/morphometry/MKO_Morphometry/5_anmwp/5_jcb+orig\n",
      "[mabbasi6@cg17-10.agave.rc.asu.edu: Tue Sep 22 13:28:11 2020] {AFNI_20.1.11:linux_centos_7_64} 3dcopy MKO_ttest_oneset+orig MKO_ttest_1set.nii\n",
      "[mabbasi6@cg17-10.agave.rc.asu.edu: Tue Sep 22 13:31:25 2020] ===================================\n",
      "[mabbasi6@cg17-10.agave.rc.asu.edu: Tue Sep 22 13:31:25 2020] {AFNI_20.1.11:linux_centos_7_64} 3dcalc -a MWT_template_mask.nii -b MKO_ttest_1set.nii -expr 'a*b' -prefix MKO_ttest_1set_mask.nii -datum float\n",
      "[mabbasi6@cg17-8.agave.rc.asu.edu: Wed Oct  7 10:54:48 2020] {AFNI_20.1.11:linux_centos_7_64} 3dresample -master MWT_template.nii -input MKO_ttest_1set_mask.nii -prefix MKO_1ttest_rs.nii\n",
      "[mabbasi6@cg17-8.agave.rc.asu.edu: Wed Oct  7 11:08:46 2020] {AFNI_20.1.11:linux_centos_7_64} 3dcopy ./MKO_1ttest_rs.nii ./ttest_1set_rsacbyac.nii\n",
      "[mabbasi6@cg17-8.agave.rc.asu.edu: Wed Oct  7 11:08:47 2020] {AFNI_20.1.11:linux_centos_7_64} 3drefit -dxorigin 0.287499 -dyorigin 15.462501 -dzorigin -9.262500 ./ttest_1set_rsacbyac.nii\n",
      "[mabbasi6@cg17-8.agave.rc.asu.edu: Wed Oct  7 12:06:44 2020] {AFNI_20.1.11:linux_centos_7_64} 3dAllineate -1Dmatrix_apply affine_matrix.aff12.1D -input ttest_1set_rsacbyac.nii -prefix ttest_1set_aff.nii\n",
      "[mabbasi6@cg17-8.agave.rc.asu.edu: Wed Oct  7 12:13:42 2020] {AFNI_20.1.11:linux_centos_7_64} 3dNwarpApply -source ttest_1set_aff.nii -nwarp anat.un.qw_WARP.nii -prefix ttest_1set_wp.nii\n",
      "[mabbasi6@cg17-5.agave.rc.asu.edu: Tue Oct 27 18:59:34 2020] {AFNI_20.1.11:linux_centos_7_64} 3dresample -master brain.nii -input 1ttest_75.nii -prefix 1ttest_rsb.nii\n",
      "[mabbasi6@cg17-5.agave.rc.asu.edu: Tue Oct 27 19:02:17 2020] {AFNI_20.1.11:linux_centos_7_64} 3dcopy ./1ttest_rsbflip.nii ./1ttest_rsbflipac.nii\n",
      "[mabbasi6@cg17-5.agave.rc.asu.edu: Tue Oct 27 19:02:17 2020] {AFNI_20.1.11:linux_centos_7_64} 3drefit -dxorigin 0.000000 -dyorigin 0.000000 -dzorigin 0.000000 ./1ttest_rsbflipac.nii\n",
      "[mabbasi6@cg17-5.agave.rc.asu.edu: Tue Oct 27 19:03:34 2020] {AFNI_20.1.11:linux_centos_7_64} 3dNwarpApply -source 1ttest_rsbflipac.nii -nwarp anat.rwb.qw_WARP.nii -prefix 1ttest_rsbflipac_wp.nii\n",
      "[mabbasi6@cg17-5.agave.rc.asu.edu: Tue Oct 27 19:06:34 2020] ===================================\n",
      "[mabbasi6@cg17-5.agave.rc.asu.edu: Tue Oct 27 19:06:34 2020] {AFNI_20.1.11:linux_centos_7_64} 3dcalc -a 1ttest_rsb.nii -b 1ttest_rsbflipac_wp.nii -expr '(a+b)/2' -prefix 1ttest_avg.nii\n",
      "[mabbasi6@cg17-3.agave.rc.asu.edu: Tue Nov 17 17:31:14 2020] {AFNI_20.1.11:linux_centos_7_64} 3dresample -master average_template_100.nii -input jac_ttest_75.nii -prefix jac_ttest_100.nii\n",
      "[mabbasi6@cg17-3.agave.rc.asu.edu: Tue Nov 17 17:36:34 2020] === Input b:\n",
      "[mabbasi6@cg17-3.agave.rc.asu.edu: Tue Nov 17 17:36:34 2020] [mabbasi6@cg17-5.agave.rc.asu.edu: Tue Oct 27 19:06:34 2020] ===================================\n",
      "[mabbasi6@cg17-5.agave.rc.asu.edu: Tue Oct 27 19:06:34 2020] === History of inputs to 3dcalc ===\n",
      "[mabbasi6@cg17-5.agave.rc.asu.edu: Tue Oct 27 19:06:34 2020] === Input a:\n",
      "[mabbasi6@cg17-5.agave.rc.asu.edu: Tue Oct 27 19:06:34 2020] [mabbasi6@cg17-10.agave.rc.asu.edu: Tue Sep 22 13:31:25 2020] ===================================\n",
      "[mabbasi6@cg17-10.agave.rc.asu.edu: Tue Sep 22 13:31:25 2020] === History of inputs to 3dcalc ===\n",
      "[mabbasi6@cg17-10.agave.rc.asu.edu: Tue Sep 22 13:31:25 2020] === Input a:\n",
      "[mabbasi6@cg17-10.agave.rc.asu.edu: Tue Sep 22 13:31:25 2020] [mabbasi6@cg17-3.agave.rc.asu.edu: Thu Sep 17 15:18:17 2020] ===================================\n",
      "[mabbasi6@cg17-3.agave.rc.asu.edu: Thu Sep 17 15:18:17 2020] === History of inputs to 3dcalc ===\n",
      "[mabbasi6@cg17-3.agave.rc.asu.edu: Thu Sep 17 15:18:17 2020] === Input a:\n",
      "[mabbasi6@cg17-3.agave.rc.asu.edu: Thu Sep 17 15:18:17 2020] [mabbasi6@cg17-3.agave.rc.asu.edu: Thu Sep 17 14:47:12 2020] {AFNI_20.1.11:linux_centos_7_64} 3dcopy 5.nii 5\n",
      "[mabbasi6@cg17-3.agave.rc.asu.edu: Thu Sep 17 15:18:13 2020] {AFNI_20.1.11:linux_centos_7_64} 3dQwarp -base 5+orig -source B_aff+orig -plusminus -pmNAMES Top Bottom -prefix avgAB\n",
      "[mabbasi6@cg17-3.agave.rc.asu.edu: Thu Sep 17 15:18:17 2020] === Input b:\n",
      "[mabbasi6@cg17-3.agave.rc.asu.edu: Thu Sep 17 15:18:17 2020] [mabbasi6@cg17-3.agave.rc.asu.edu: Thu Sep 17 14:47:12 2020] {AFNI_20.1.11:linux_centos_7_64} 3dcopy 5.nii 5\n",
      "[mabbasi6@cg17-3.agave.rc.asu.edu: Thu Sep 17 15:18:15 2020] {AFNI_20.1.11:linux_centos_7_64} 3dQwarp -base 5+orig -source B_aff+orig -plusminus -pmNAMES Top Bottom -prefix avgAB\n",
      "[mabbasi6@cg17-3.agave.rc.asu.edu: Thu Sep 17 15:18:17 2020] ===================================\n",
      "[mabbasi6@cg17-3.agave.rc.asu.edu: Thu Sep 17 15:18:17 2020] {AFNI_20.1.11:linux_centos_7_64} 3dcalc -a avgAB_Top+orig -b avgAB_Bottom+orig -expr '(a+b)/2' -prefix avgAB_qwpm\n",
      "[mabbasi6@cg17-3.agave.rc.asu.edu: Thu Sep 17 16:50:37 2020] {AFNI_20.1.11:linux_centos_7_64} 3dcopy avgAB_qwpm+orig MWT_template.nii\n",
      "[mabbasi6@cg17-1.agave.rc.asu.edu: Mon Sep 21 15:54:16 2020] {AFNI_20.1.11:linux_centos_7_64} 3dresample -master MKO_ttest_oneset+orig -prefix MWT_template_res.nii -input MWT_template.nii\n",
      "[mabbasi6@cg17-3.agave.rc.asu.edu: Mon Sep 21 19:48:21 2020] {AFNI_20.1.11:linux_centos_7_64} 3dAutomask -prefix MWT_template_mask.nii MWT_template_res.nii\n",
      "[mabbasi6@cg17-10.agave.rc.asu.edu: Tue Sep 22 13:31:25 2020] === Input b:\n",
      "[mabbasi6@cg17-10.agave.rc.asu.edu: Tue Sep 22 13:31:25 2020] [mabbasi6@cg17-1.agave.rc.asu.edu: Mon Sep 21 12:32:09 2020] {AFNI_20.1.11:linux_centos_7_64} 3dttest++ -prefix MKO_ttest_oneset -setA /home/mabbasi6/morphometry/MKO_Morphometry/1_anmwp/1_jcb+orig /home/mabbasi6/morphometry/MKO_Morphometry/2_anmwp/2_jcb+orig /home/mabbasi6/morphometry/MKO_Morphometry/3_anmwp/3_jcb+orig /home/mabbasi6/morphometry/MKO_Morphometry/4_anmwp/4_jcb+orig /home/mabbasi6/morphometry/MKO_Morphometry/5_anmwp/5_jcb+orig\n",
      "[mabbasi6@cg17-10.agave.rc.asu.edu: Tue Sep 22 13:28:11 2020] {AFNI_20.1.11:linux_centos_7_64} 3dcopy MKO_ttest_oneset+orig MKO_ttest_1set.nii\n",
      "[mabbasi6@cg17-10.agave.rc.asu.edu: Tue Sep 22 13:31:25 2020] ===================================\n",
      "[mabbasi6@cg17-10.agave.rc.asu.edu: Tue Sep 22 13:31:25 2020] {AFNI_20.1.11:linux_centos_7_64} 3dcalc -a MWT_template_mask.nii -b MKO_ttest_1set.nii -expr 'a*b' -prefix MKO_ttest_1set_mask.nii -datum float\n",
      "[mabbasi6@cg17-8.agave.rc.asu.edu: Wed Oct  7 10:54:48 2020] {AFNI_20.1.11:linux_centos_7_64} 3dresample -master MWT_template.nii -input MKO_ttest_1set_mask.nii -prefix MKO_1ttest_rs.nii\n",
      "[mabbasi6@cg17-8.agave.rc.asu.edu: Wed Oct  7 11:08:46 2020] {AFNI_20.1.11:linux_centos_7_64} 3dcopy ./MKO_1ttest_rs.nii ./ttest_1set_rsacbyac.nii\n",
      "[mabbasi6@cg17-8.agave.rc.asu.edu: Wed Oct  7 11:08:47 2020] {AFNI_20.1.11:linux_centos_7_64} 3drefit -dxorigin 0.287499 -dyorigin 15.462501 -dzorigin -9.262500 ./ttest_1set_rsacbyac.nii\n",
      "[mabbasi6@cg17-8.agave.rc.asu.edu: Wed Oct  7 12:06:44 2020] {AFNI_20.1.11:linux_centos_7_64} 3dAllineate -1Dmatrix_apply affine_matrix.aff12.1D -input ttest_1set_rsacbyac.nii -prefix ttest_1set_aff.nii\n",
      "[mabbasi6@cg17-8.agave.rc.asu.edu: Wed Oct  7 12:13:42 2020] {AFNI_20.1.11:linux_centos_7_64} 3dNwarpApply -source ttest_1set_aff.nii -nwarp anat.un.qw_WARP.nii -prefix ttest_1set_wp.nii\n",
      "[mabbasi6@cg17-5.agave.rc.asu.edu: Tue Oct 27 18:59:34 2020] {AFNI_20.1.11:linux_centos_7_64} 3dresample -master brain.nii -input 1ttest_75.nii -prefix 1ttest_rsb.nii\n",
      "[mabbasi6@cg17-5.agave.rc.asu.edu: Tue Oct 27 19:06:34 2020] === Input b:\n",
      "[mabbasi6@cg17-5.agave.rc.asu.edu: Tue Oct 27 19:06:34 2020] [mabbasi6@cg17-10.agave.rc.asu.edu: Tue Sep 22 13:31:25 2020] ===================================\n",
      "[mabbasi6@cg17-10.agave.rc.asu.edu: Tue Sep 22 13:31:25 2020] === History of inputs to 3dcalc ===\n",
      "[mabbasi6@cg17-10.agave.rc.asu.edu: Tue Sep 22 13:31:25 2020] === Input a:\n",
      "[mabbasi6@cg17-10.agave.rc.asu.edu: Tue Sep 22 13:31:25 2020] [mabbasi6@cg17-3.agave.rc.asu.edu: Thu Sep 17 15:18:17 2020] ===================================\n",
      "[mabbasi6@cg17-3.agave.rc.asu.edu: Thu Sep 17 15:18:17 2020] === History of inputs to 3dcalc ===\n",
      "[mabbasi6@cg17-3.agave.rc.asu.edu: Thu Sep 17 15:18:17 2020] === Input a:\n",
      "[mabbasi6@cg17-3.agave.rc.asu.edu: Thu Sep 17 15:18:17 2020] [mabbasi6@cg17-3.agave.rc.asu.edu: Thu Sep 17 14:47:12 2020] {AFNI_20.1.11:linux_centos_7_64} 3dcopy 5.nii 5\n",
      "[mabbasi6@cg17-3.agave.rc.asu.edu: Thu Sep 17 15:18:13 2020] {AFNI_20.1.11:linux_centos_7_64} 3dQwarp -base 5+orig -source B_aff+orig -plusminus -pmNAMES Top Bottom -prefix avgAB\n",
      "[mabbasi6@cg17-3.agave.rc.asu.edu: Thu Sep 17 15:18:17 2020] === Input b:\n",
      "[mabbasi6@cg17-3.agave.rc.asu.edu: Thu Sep 17 15:18:17 2020] [mabbasi6@cg17-3.agave.rc.asu.edu: Thu Sep 17 14:47:12 2020] {AFNI_20.1.11:linux_centos_7_64} 3dcopy 5.nii 5\n",
      "[mabbasi6@cg17-3.agave.rc.asu.edu: Thu Sep 17 15:18:15 2020] {AFNI_20.1.11:linux_centos_7_64} 3dQwarp -base 5+orig -source B_aff+orig -plusminus -pmNAMES Top Bottom -prefix avgAB\n",
      "[mabbasi6@cg17-3.agave.rc.asu.edu: Thu Sep 17 15:18:17 2020] ===================================\n",
      "[mabbasi6@cg17-3.agave.rc.asu.edu: Thu Sep 17 15:18:17 2020] {AFNI_20.1.11:linux_centos_7_64} 3dcalc -a avgAB_Top+orig -b avgAB_Bottom+orig -expr '(a+b)/2' -prefix avgAB_qwpm\n",
      "[mabbasi6@cg17-3.agave.rc.asu.edu: Thu Sep 17 16:50:37 2020] {AFNI_20.1.11:linux_centos_7_64} 3dcopy avgAB_qwpm+orig MWT_template.nii\n",
      "[mabbasi6@cg17-1.agave.rc.asu.edu: Mon Sep 21 15:54:16 2020] {AFNI_20.1.11:linux_centos_7_64} 3dresample -master MKO_ttest_oneset+orig -prefix MWT_template_res.nii -input MWT_template.nii\n",
      "[mabbasi6@cg17-3.agave.rc.asu.edu: Mon Sep 21 19:48:21 2020] {AFNI_20.1.11:linux_centos_7_64} 3dAutomask -prefix MWT_template_mask.nii MWT_template_res.nii\n",
      "[mabbasi6@cg17-10.agave.rc.asu.edu: Tue Sep 22 13:31:25 2020] === Input b:\n",
      "[mabbasi6@cg17-10.agave.rc.asu.edu: Tue Sep 22 13:31:25 2020] [mabbasi6@cg17-1.agave.rc.asu.edu: Mon Sep 21 12:32:09 2020] {AFNI_20.1.11:linux_centos_7_64} 3dttest++ -prefix MKO_ttest_oneset -setA /home/mabbasi6/morphometry/MKO_Morphometry/1_anmwp/1_jcb+orig /home/mabbasi6/morphometry/MKO_Morphometry/2_anmwp/2_jcb+orig /home/mabbasi6/morphometry/MKO_Morphometry/3_anmwp/3_jcb+orig /home/mabbasi6/morphometry/MKO_Morphometry/4_anmwp/4_jcb+orig /home/mabbasi6/morphometry/MKO_Morphometry/5_anmwp/5_jcb+orig\n",
      "[mabbasi6@cg17-10.agave.rc.asu.edu: Tue Sep 22 13:28:11 2020] {AFNI_20.1.11:linux_centos_7_64} 3dcopy MKO_ttest_oneset+orig MKO_ttest_1set.nii\n",
      "[mabbasi6@cg17-10.agave.rc.asu.edu: Tue Sep 22 13:31:25 2020] ===================================\n",
      "[mabbasi6@cg17-10.agave.rc.asu.edu: Tue Sep 22 13:31:25 2020] {AFNI_20.1.11:linux_centos_7_64} 3dcalc -a MWT_template_mask.nii -b MKO_ttest_1set.nii -expr 'a*b' -prefix MKO_ttest_1set_mask.nii -datum float\n",
      "[mabbasi6@cg17-8.agave.rc.asu.edu: Wed Oct  7 10:54:48 2020] {AFNI_20.1.11:linux_centos_7_64} 3dresample -master MWT_template.nii -input MKO_ttest_1set_mask.nii -prefix MKO_1ttest_rs.nii\n",
      "[mabbasi6@cg17-8.agave.rc.asu.edu: Wed Oct  7 11:08:46 2020] {AFNI_20.1.11:linux_centos_7_64} 3dcopy ./MKO_1ttest_rs.nii ./ttest_1set_rsacbyac.nii\n",
      "[mabbasi6@cg17-8.agave.rc.asu.edu: Wed Oct  7 11:08:47 2020] {AFNI_20.1.11:linux_centos_7_64} 3drefit -dxorigin 0.287499 -dyorigin 15.462501 -dzorigin -9.262500 ./ttest_1set_rsacbyac.nii\n",
      "[mabbasi6@cg17-8.agave.rc.asu.edu: Wed Oct  7 12:06:44 2020] {AFNI_20.1.11:linux_centos_7_64} 3dAllineate -1Dmatrix_apply affine_matrix.aff12.1D -input ttest_1set_rsacbyac.nii -prefix ttest_1set_aff.nii\n",
      "[mabbasi6@cg17-8.agave.rc.asu.edu: Wed Oct  7 12:13:42 2020] {AFNI_20.1.11:linux_centos_7_64} 3dNwarpApply -source ttest_1set_aff.nii -nwarp anat.un.qw_WARP.nii -prefix ttest_1set_wp.nii\n",
      "[mabbasi6@cg17-5.agave.rc.asu.edu: Tue Oct 27 18:59:34 2020] {AFNI_20.1.11:linux_centos_7_64} 3dresample -master brain.nii -input 1ttest_75.nii -prefix 1ttest_rsb.nii\n",
      "[mabbasi6@cg17-5.agave.rc.asu.edu: Tue Oct 27 19:02:17 2020] {AFNI_20.1.11:linux_centos_7_64} 3dcopy ./1ttest_rsbflip.nii ./1ttest_rsbflipac.nii\n",
      "[mabbasi6@cg17-5.agave.rc.asu.edu: Tue Oct 27 19:02:17 2020] {AFNI_20.1.11:linux_centos_7_64} 3drefit -dxorigin 0.000000 -dyorigin 0.000000 -dzorigin 0.000000 ./1ttest_rsbflipac.nii\n",
      "[mabbasi6@cg17-5.agave.rc.asu.edu: Tue Oct 27 19:03:34 2020] {AFNI_20.1.11:linux_centos_7_64} 3dNwarpApply -source 1ttest_rsbflipac.nii -nwarp anat.rwb.qw_WARP.nii -prefix 1ttest_rsbflipac_wp.nii\n",
      "[mabbasi6@cg17-5.agave.rc.asu.edu: Tue Oct 27 19:06:34 2020] ===================================\n",
      "[mabbasi6@cg17-5.agave.rc.asu.edu: Tue Oct 27 19:06:34 2020] {AFNI_20.1.11:linux_centos_7_64} 3dcalc -a 1ttest_rsb.nii -b 1ttest_rsbflipac_wp.nii -expr '(a+b)/2' -prefix 1ttest_avg.nii\n",
      "[mabbasi6@cg17-3.agave.rc.asu.edu: Tue Nov 17 17:31:14 2020] {AFNI_20.1.11:linux_centos_7_64} 3dresample -master average_template_100.nii -input jac_ttest_75.nii -prefix jac_ttest_100.nii\n",
      "[mabbasi6@cg17-3.agave.rc.asu.edu: Tue Nov 17 17:33:31 2020] {AFNI_20.1.11:linux_centos_7_64} 3dcalc -a 'jac_ttest_100.nii[1]' -expr 'astep(a,2.7764)' -prefix jac_tmsk_100.nii\n",
      "[mabbasi6@cg17-3.agave.rc.asu.edu: Tue Nov 17 17:36:34 2020] ===================================\n",
      "[mabbasi6@cg17-3.agave.rc.asu.edu: Tue Nov 17 17:36:34 2020] {AFNI_20.1.11:linux_centos_7_64} 3dcalc -a jac_ttest_100.nii -b jac_tmsk_100.nii -expr 'a*bool(b)' -prefix jac_tmasked_100.nii\n",
      "[mabbasi6@cg17-3.agave.rc.asu.edu: Tue Nov 17 17:38:40 2020] {AFNI_20.1.11:linux_centos_7_64} 3dcalc -a 'jac_tmasked_100.nii[0]' -expr a -prefix jac_tmasked_100_final.nii\n",
      "[mabbasi6@cg17-5.agave.rc.asu.edu: Wed Nov 18 10:35:37 2020] {AFNI_20.1.11:linux_centos_7_64} 3dcalc -a jac_tmasked_100_final.nii -expr 'posval(a)' -prefix jac_tm_100pos.nii\n",
      "\n"
     ]
    },
    {
     "name": "stderr",
     "output_type": "stream",
     "text": [
      "3dinfo: /packages/7x/anaconda3/5.3.0/lib/libuuid.so.1: no version information available (required by /lib64/libSM.so.6)\n",
      "++ 3dinfo: AFNI version=AFNI_20.1.11 (May 28 2020) [64-bit]\n",
      "\u001b[7m** FATAL ERROR:\u001b[0m Can't open dataset -dxyz\n",
      "** Program compile date = May 28 2020\n"
     ]
    }
   ],
   "source": [
    "%%bash\n",
    "module load afni/20.1.11\n",
    "cd /home/mabbasi6/morphometry/correlation/visual/\n",
    "3dinfo jac_tm_100pos_RAI.nii -dxyz"
   ]
  },
  {
   "cell_type": "code",
   "execution_count": 2,
   "metadata": {},
   "outputs": [
    {
     "name": "stderr",
     "output_type": "stream",
     "text": [
      "3drotate: /packages/7x/anaconda3/5.3.0/lib/libuuid.so.1: no version information available (required by /lib64/libSM.so.6)\n",
      "++ 3drotate: AFNI version=AFNI_20.1.11 (May 28 2020) [64-bit]\n",
      "++ Authored by: RW Cox\n"
     ]
    }
   ],
   "source": [
    "%%bash\n",
    "module load afni/20.1.11\n",
    "cd /home/mabbasi6/morphometry/correlation/rotation/\n",
    "3drotate -prefix brain_rev.nii -rotate 180I 0 0 brain.nii"
   ]
  },
  {
   "cell_type": "markdown",
   "metadata": {},
   "source": [
    "Dataset 2: 180 rotation around Posterior-Anterior"
   ]
  },
  {
   "cell_type": "code",
   "execution_count": 8,
   "metadata": {},
   "outputs": [
    {
     "name": "stderr",
     "output_type": "stream",
     "text": [
      "3drotate: /packages/7x/anaconda3/5.3.0/lib/libuuid.so.1: no version information available (required by /lib64/libSM.so.6)\n",
      "++ 3drotate: AFNI version=AFNI_20.1.11 (May 28 2020) [64-bit]\n",
      "++ Authored by: RW Cox\n"
     ]
    }
   ],
   "source": [
    "%%bash\n",
    "module load afni/20.1.11\n",
    "cd /home/mabbasi6/morphometry/MWT_Morphometry/rotate/2/\n",
    "3drotate -prefix 2b -rotate 180P 0 0 2a.nii"
   ]
  },
  {
   "cell_type": "raw",
   "metadata": {},
   "source": [
    "The Allen dataset is set to PIR view, showing values A-P from - to +.\n",
    "This is different from AFNI where letters for - values are set (default is RAI).\n",
    "Therefore, orientation of the Allen has to be set manually to ASL (reverse of PIR because of how AFNI is defined)."
   ]
  },
  {
   "cell_type": "code",
   "execution_count": 2,
   "metadata": {},
   "outputs": [
    {
     "name": "stderr",
     "output_type": "stream",
     "text": [
      "3drefit: /packages/7x/anaconda3/5.3.0/lib/libuuid.so.1: no version information available (required by /lib64/libSM.so.6)\n",
      "++ 3drefit: AFNI version=AFNI_20.1.11 (May 28 2020) [64-bit]\n",
      "++ Authored by: RW Cox\n",
      "++ Processing AFNI dataset annotation_100.nii\n",
      " + changing orientation codes\n",
      " + loading and re-writing dataset annotation_100.nii (/home/mabbasi6/morphometry/correlation/template/annotation_100.nii in NIFTI storage)\n",
      "++ 3drefit processed 1 datasets\n"
     ]
    }
   ],
   "source": [
    "%%bash\n",
    "module load afni/20.1.11\n",
    "cd /home/mabbasi6/morphometry/correlation/template/\n",
    "3drefit -orient ASL annotation_100.nii"
   ]
  },
  {
   "cell_type": "code",
   "execution_count": 3,
   "metadata": {},
   "outputs": [
    {
     "name": "stderr",
     "output_type": "stream",
     "text": [
      "3drefit: /packages/7x/anaconda3/5.3.0/lib/libuuid.so.1: no version information available (required by /lib64/libSM.so.6)\n",
      "++ 3drefit: AFNI version=AFNI_20.1.11 (May 28 2020) [64-bit]\n",
      "++ Authored by: RW Cox\n",
      "++ Processing AFNI dataset jac_tm_100pos_RAI.nii\n",
      " + changing orientation codes\n",
      " + loading and re-writing dataset jac_tm_100pos_RAI.nii (/home/mabbasi6/morphometry/correlation/visual/jac_tm_100pos_RAI.nii in NIFTI storage)\n",
      "++ 3drefit processed 1 datasets\n"
     ]
    }
   ],
   "source": [
    "%%bash\n",
    "module load afni/20.1.11\n",
    "cd /home/mabbasi6/morphometry/correlation/visual/\n",
    "3drefit -orient RAI jac_tm_100pos_RAI.nii"
   ]
  },
  {
   "cell_type": "code",
   "execution_count": null,
   "metadata": {},
   "outputs": [],
   "source": []
  }
 ],
 "metadata": {
  "kernelspec": {
   "display_name": "Py3-basic",
   "language": "python",
   "name": "python3"
  },
  "language_info": {
   "codemirror_mode": {
    "name": "ipython",
    "version": 3
   },
   "file_extension": ".py",
   "mimetype": "text/x-python",
   "name": "python",
   "nbconvert_exporter": "python",
   "pygments_lexer": "ipython3",
   "version": "3.7.2"
  }
 },
 "nbformat": 4,
 "nbformat_minor": 2
}
