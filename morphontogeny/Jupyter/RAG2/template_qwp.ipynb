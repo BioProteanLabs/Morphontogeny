{
 "cells": [
  {
   "cell_type": "markdown",
   "metadata": {},
   "source": [
    "This is to first convert datasets from nii to BRIK, since @Align_Centers works only with BRIK."
   ]
  },
  {
   "cell_type": "code",
   "execution_count": 16,
   "metadata": {},
   "outputs": [
    {
     "name": "stderr",
     "output_type": "stream",
     "text": [
      "3dcopy: /packages/7x/anaconda3/5.3.0/lib/libuuid.so.1: no version information available (required by /lib64/libSM.so.6)\n",
      "++ 3dcopy: AFNI version=AFNI_20.1.11 (May 28 2020) [64-bit]\n"
     ]
    }
   ],
   "source": [
    "%%bash\n",
    "module load afni/20.1.11\n",
    "cd /home/mabbasi6/morphometry/MWT_Morphometry/12345/\n",
    "3dcopy 5.nii 5"
   ]
  },
  {
   "cell_type": "markdown",
   "metadata": {},
   "source": [
    "This is to align centers of 1+orig & 2+orig"
   ]
  },
  {
   "cell_type": "code",
   "execution_count": 9,
   "metadata": {},
   "outputs": [
    {
     "name": "stderr",
     "output_type": "stream",
     "text": [
      "ParseName: /packages/7x/anaconda3/5.3.0/lib/libuuid.so.1: no version information available (required by /lib64/libSM.so.6)\n",
      "ParseName: /packages/7x/anaconda3/5.3.0/lib/libuuid.so.1: no version information available (required by /lib64/libSM.so.6)\n",
      "afni: /packages/7x/anaconda3/5.3.0/lib/libuuid.so.1: no version information available (required by /lib64/libSM.so.6)\n",
      "afni: /packages/7x/anaconda3/5.3.0/lib/libuuid.so.1: no version information available (required by /lib64/libSM.so.6)\n",
      "afni: /packages/7x/anaconda3/5.3.0/lib/libuuid.so.1: no version information available (required by /lib64/libSM.so.6)\n",
      "afni: /packages/7x/anaconda3/5.3.0/lib/libuuid.so.1: no version information available (required by /lib64/libSM.so.6)\n",
      "ParseName: /packages/7x/anaconda3/5.3.0/lib/libuuid.so.1: no version information available (required by /lib64/libSM.so.6)\n",
      "3dAttribute: /packages/7x/anaconda3/5.3.0/lib/libuuid.so.1: no version information available (required by /lib64/libSM.so.6)\n",
      "ccalc: /packages/7x/anaconda3/5.3.0/lib/libuuid.so.1: no version information available (required by /lib64/libSM.so.6)\n",
      "ccalc: /packages/7x/anaconda3/5.3.0/lib/libuuid.so.1: no version information available (required by /lib64/libSM.so.6)\n",
      "ccalc: /packages/7x/anaconda3/5.3.0/lib/libuuid.so.1: no version information available (required by /lib64/libSM.so.6)\n",
      "ccalc: /packages/7x/anaconda3/5.3.0/lib/libuuid.so.1: no version information available (required by /lib64/libSM.so.6)\n",
      "ccalc: /packages/7x/anaconda3/5.3.0/lib/libuuid.so.1: no version information available (required by /lib64/libSM.so.6)\n",
      "3dAttribute: /packages/7x/anaconda3/5.3.0/lib/libuuid.so.1: no version information available (required by /lib64/libSM.so.6)\n",
      "ccalc: /packages/7x/anaconda3/5.3.0/lib/libuuid.so.1: no version information available (required by /lib64/libSM.so.6)\n",
      "ccalc: /packages/7x/anaconda3/5.3.0/lib/libuuid.so.1: no version information available (required by /lib64/libSM.so.6)\n",
      "ccalc: /packages/7x/anaconda3/5.3.0/lib/libuuid.so.1: no version information available (required by /lib64/libSM.so.6)\n",
      "ccalc: /packages/7x/anaconda3/5.3.0/lib/libuuid.so.1: no version information available (required by /lib64/libSM.so.6)\n",
      "ccalc: /packages/7x/anaconda3/5.3.0/lib/libuuid.so.1: no version information available (required by /lib64/libSM.so.6)\n",
      "ccalc: /packages/7x/anaconda3/5.3.0/lib/libuuid.so.1: no version information available (required by /lib64/libSM.so.6)\n",
      "ccalc: /packages/7x/anaconda3/5.3.0/lib/libuuid.so.1: no version information available (required by /lib64/libSM.so.6)\n",
      "ccalc: /packages/7x/anaconda3/5.3.0/lib/libuuid.so.1: no version information available (required by /lib64/libSM.so.6)\n",
      "ccalc: /packages/7x/anaconda3/5.3.0/lib/libuuid.so.1: no version information available (required by /lib64/libSM.so.6)\n",
      "ccalc: /packages/7x/anaconda3/5.3.0/lib/libuuid.so.1: no version information available (required by /lib64/libSM.so.6)\n",
      "ccalc: /packages/7x/anaconda3/5.3.0/lib/libuuid.so.1: no version information available (required by /lib64/libSM.so.6)\n",
      "ccalc: /packages/7x/anaconda3/5.3.0/lib/libuuid.so.1: no version information available (required by /lib64/libSM.so.6)\n",
      "ccalc: /packages/7x/anaconda3/5.3.0/lib/libuuid.so.1: no version information available (required by /lib64/libSM.so.6)\n",
      "ccalc: /packages/7x/anaconda3/5.3.0/lib/libuuid.so.1: no version information available (required by /lib64/libSM.so.6)\n",
      "ccalc: /packages/7x/anaconda3/5.3.0/lib/libuuid.so.1: no version information available (required by /lib64/libSM.so.6)\n",
      "ccalc: /packages/7x/anaconda3/5.3.0/lib/libuuid.so.1: no version information available (required by /lib64/libSM.so.6)\n",
      "3dcopy: /packages/7x/anaconda3/5.3.0/lib/libuuid.so.1: no version information available (required by /lib64/libSM.so.6)\n",
      "++ 3dcopy: AFNI version=AFNI_20.1.11 (May 28 2020) [64-bit]\n",
      "3drefit: /packages/7x/anaconda3/5.3.0/lib/libuuid.so.1: no version information available (required by /lib64/libSM.so.6)\n",
      "++ 3drefit: AFNI version=AFNI_20.1.11 (May 28 2020) [64-bit]\n",
      "++ Authored by: RW Cox\n",
      "++ Processing AFNI dataset ./avg34_ac+orig\n",
      " + deoblique\n",
      "++ 3drefit processed 1 datasets\n",
      "ccalc: /packages/7x/anaconda3/5.3.0/lib/libuuid.so.1: no version information available (required by /lib64/libSM.so.6)\n",
      "ccalc: /packages/7x/anaconda3/5.3.0/lib/libuuid.so.1: no version information available (required by /lib64/libSM.so.6)\n",
      "ccalc: /packages/7x/anaconda3/5.3.0/lib/libuuid.so.1: no version information available (required by /lib64/libSM.so.6)\n",
      "ParseName: /packages/7x/anaconda3/5.3.0/lib/libuuid.so.1: no version information available (required by /lib64/libSM.so.6)\n",
      "ParseName: /packages/7x/anaconda3/5.3.0/lib/libuuid.so.1: no version information available (required by /lib64/libSM.so.6)\n"
     ]
    }
   ],
   "source": [
    "%%bash\n",
    "module load afni/20.1.11\n",
    "cd /home/mabbasi6/morphometry/MWT_Morphometry/12-34/\n",
    "@Align_Centers -base avg12_qw+orig -dset avg34_qw+orig -prefix avg34_ac"
   ]
  },
  {
   "cell_type": "code",
   "execution_count": 12,
   "metadata": {},
   "outputs": [
    {
     "name": "stderr",
     "output_type": "stream",
     "text": [
      "3dresample: /packages/7x/anaconda3/5.3.0/lib/libuuid.so.1: no version information available (required by /lib64/libSM.so.6)\n"
     ]
    }
   ],
   "source": [
    "%%bash\n",
    "module load afni/20.1.11\n",
    "cd /home/mabbasi6/morphometry/MWT_Morphometry/12-34/\n",
    "3dresample -master avg12_qw+orig -input avg34_ac+orig -prefix avg34_acres"
   ]
  },
  {
   "cell_type": "markdown",
   "metadata": {},
   "source": [
    "This is to do linear registration"
   ]
  },
  {
   "cell_type": "code",
   "execution_count": 13,
   "metadata": {},
   "outputs": [
    {
     "name": "stderr",
     "output_type": "stream",
     "text": [
      "3dAllineate: /packages/7x/anaconda3/5.3.0/lib/libuuid.so.1: no version information available (required by /lib64/libSM.so.6)\n",
      "++ 3dAllineate: AFNI version=AFNI_20.1.11 (May 28 2020) [64-bit]\n",
      "++ Authored by: Zhark the Registrator\n",
      "++ Source dataset: ./avg34_acres+orig.HEAD\n",
      "++ Base dataset:   ./avg12_qw+orig.HEAD\n",
      "++ Loading datasets into memory\n",
      "++ master dataset for output = base\n",
      "++ OpenMP thread count = 6\n",
      "++ ======= Allineation of 1 sub-bricks using Hellinger metric =======\n",
      "++ *** Coarse pass begins ***\n",
      "++ *** Fine pass begins ***\n",
      " + Final fine fit Parameters:\n",
      "       x-shift=  0.0686   y-shift=  0.6894   z-shift=  0.5525  ...  enorm=  0.8861 mm\n",
      "       z-angle= -0.0388   x-angle=  0.0271   y-angle=  0.0266  ...  total=  0.0560 deg\n",
      "       x-scale=  1.0001   y-scale=  1.0000   z-scale=  1.0000  ...  vol3D=  1.0001 = base smaller than source\n",
      "     y/x-shear=  0.0003 z/x-shear= -0.0002 z/y-shear= -0.0004\n",
      "++ Output dataset ./avg34_aff+orig.BRIK\n",
      "++ 3dAllineate: total CPU time = 0.0 sec  Elapsed = 77.5\n",
      "++ ###########################################################\n",
      "++ #   Please check results visually for alignment quality   #\n",
      "++ ###########################################################\n"
     ]
    }
   ],
   "source": [
    "%%bash\n",
    "module load afni/20.1.11\n",
    "cd /home/mabbasi6/morphometry/MWT_Morphometry/12-34/\n",
    "3dAllineate -base avg12_qw+orig -source avg34_acres+orig -cmass -prefix avg34_aff"
   ]
  },
  {
   "cell_type": "markdown",
   "metadata": {},
   "source": [
    "This is to warp alres2+orig to 1+orig using PlusMinus"
   ]
  },
  {
   "cell_type": "code",
   "execution_count": 14,
   "metadata": {},
   "outputs": [
    {
     "name": "stderr",
     "output_type": "stream",
     "text": [
      "3dQwarp: /packages/7x/anaconda3/5.3.0/lib/libuuid.so.1: no version information available (required by /lib64/libSM.so.6)\n",
      "++ OpenMP thread count = 6\n",
      "++ 3dQwarp: AFNI version=AFNI_20.1.11 (May 28 2020) [64-bit]\n",
      "++ Authored by: Zhark the (Hermite) Cubically Warped\n",
      "++ negative values in base ==> using strict Pearson correlation\n",
      "++ Dataset zero-pad: xbot=10 xtop=12  ybot=18 ytop=23  zbot=0 ztop=8 voxels\n",
      "++ Weightizing the base image: FWHM = 4.5 (vox)\n",
      "++ +++++++++++ Begin warp optimization:  base=./avg12_qw+orig.HEAD  source=./avg34_aff+orig.HEAD\n",
      "++ AFNI warpomatic start: 173 x 275 x 123 volume ; autobbox = 14..158 24..249 10..114\n",
      "lev=0 0..172 0..274 0..122: [first cost=-0.71406] ...... done [cost=-1.28829]\n",
      "lev=1 patch=129x207x93: ........ done [cost:-1.42760 ; 8 patches optimized, 0 skipped]\n",
      "lev=2 patch=97x155x69: ....................... done [cost:-1.66528 ; 23 patches optimized, 4 skipped]\n",
      "lev=3 patch=73x117x51: .............. done [cost:-1.81510 ; 36 patches optimized, 28 skipped]\n",
      "lev=4 patch=55x87x39: ......... done [cost:-1.94788 ; 73 patches optimized, 52 skipped]\n",
      "lev=5 patch=41x65x29: ......................... done [cost:-2.07920 ; 195 patches optimized, 197 skipped]\n",
      "lev=6 patch=31x49x25: ............... done [cost:-2.19050 ; 384 patches optimized, 426 skipped]\n",
      "lev=7 patch=25x37x25: ................... done [cost:-2.30392 ; 629 patches optimized, 775 skipped]\n",
      "lev=8 patch=25x25x25: ......................... done [cost:-2.35575 ; 909 patches optimized, 1143 skipped]\n",
      "++ ====== total number of parameters 'optimized' = 27273\n",
      " +      initial unpenalized cost = -0.714055\n",
      " +        final unpenalized cost = -2.39193\n",
      " +        final penalized   cost = -2.35575\n",
      "++ Output dataset ./avg1234_Top+orig.BRIK\n",
      "++ Output dataset ./avg1234_Bottom+orig.BRIK\n",
      "++ Output dataset ./avg1234_Top_WARP+orig.BRIK\n",
      "++ Output dataset ./avg1234_Bottom_WARP+orig.BRIK\n",
      "++ ===== clock time = 11m 46s 163ms\n"
     ]
    }
   ],
   "source": [
    "%%bash\n",
    "module load afni/20.1.11\n",
    "cd /home/mabbasi6/morphometry/MWT_Morphometry/12-34/\n",
    "3dQwarp -base avg12_qw+orig -source avg34_aff+orig -plusminus -pmNAMES Top Bottom -prefix avg1234"
   ]
  },
  {
   "cell_type": "markdown",
   "metadata": {},
   "source": [
    "This is to average Left and Right"
   ]
  },
  {
   "cell_type": "code",
   "execution_count": 15,
   "metadata": {},
   "outputs": [
    {
     "name": "stderr",
     "output_type": "stream",
     "text": [
      "3dcalc: /packages/7x/anaconda3/5.3.0/lib/libuuid.so.1: no version information available (required by /lib64/libSM.so.6)\n",
      "++ 3dcalc: AFNI version=AFNI_20.1.11 (May 28 2020) [64-bit]\n",
      "++ Authored by: A cast of thousands\n",
      "++ Output dataset ./avg1234_qw+orig.BRIK\n"
     ]
    }
   ],
   "source": [
    "%%bash\n",
    "module load afni/20.1.11\n",
    "cd /home/mabbasi6/morphometry/MWT_Morphometry/12-34/\n",
    "3dcalc -a avg1234_Top+orig -b avg1234_Bottom+orig -expr '(a+b)/2' -prefix avg1234_qw"
   ]
  },
  {
   "cell_type": "markdown",
   "metadata": {},
   "source": [
    "This is to do linear registration"
   ]
  },
  {
   "cell_type": "code",
   "execution_count": 11,
   "metadata": {},
   "outputs": [
    {
     "name": "stderr",
     "output_type": "stream",
     "text": [
      "3dAllineate: /packages/7x/anaconda3/5.3.0/lib/libuuid.so.1: no version information available (required by /lib64/libSM.so.6)\n",
      "++ 3dAllineate: AFNI version=AFNI_20.1.11 (May 28 2020) [64-bit]\n",
      "++ Authored by: Zhark the Registrator\n",
      "++ Source dataset: ./alresavg34+orig.HEAD\n",
      "++ Base dataset:   ./avg12+orig.HEAD\n",
      "++ Loading datasets into memory\n",
      "++ master dataset for output = base\n",
      "++ OpenMP thread count = 1\n",
      "++ ======= Allineation of 1 sub-bricks using Hellinger metric =======\n",
      "++ *** Coarse pass begins ***\n",
      "++ *** Fine pass begins ***\n",
      " + Final fine fit Parameters:\n",
      "       x-shift=  0.0488   y-shift= -0.2296   z-shift=  0.0824  ...  enorm=  0.2488 mm\n",
      "       z-angle=  0.0001   x-angle= -0.0615   y-angle= -0.0107  ...  total=  0.0626 deg\n",
      "       x-scale=  1.0003   y-scale=  1.0000   z-scale=  1.0012  ...  vol3D=  1.0016 = base smaller than source\n",
      "     y/x-shear= -0.0004 z/x-shear=  0.0003 z/y-shear= -0.0007\n",
      "++ Output dataset ./aff34+orig.BRIK\n",
      "++ 3dAllineate: total CPU time = 0.0 sec  Elapsed = 98.7\n",
      "++ ###########################################################\n",
      "++ #   Please check results visually for alignment quality   #\n",
      "++ ###########################################################\n"
     ]
    }
   ],
   "source": [
    "%%bash\n",
    "module load afni/20.1.11\n",
    "cd /home/mabbasi6/morphometry/Henkelman/template/MKO/\n",
    "3dAllineate -base avg12+orig -source alresavg34+orig -cmass -prefix aff34"
   ]
  },
  {
   "cell_type": "markdown",
   "metadata": {},
   "source": [
    "This is to resample al3+orig to avgLR+orig"
   ]
  },
  {
   "cell_type": "code",
   "execution_count": 3,
   "metadata": {},
   "outputs": [
    {
     "name": "stderr",
     "output_type": "stream",
     "text": [
      "3dresample: /packages/7x/anaconda3/5.3.0/lib/libuuid.so.1: no version information available (required by /lib64/libSM.so.6)\n"
     ]
    }
   ],
   "source": [
    "%%bash\n",
    "module load afni/20.1.11\n",
    "cd /home/mabbasi6/morphometry/Henkelman/template/female\n",
    "3dresample -master avgLR+orig -input al3+orig -prefix alres3"
   ]
  },
  {
   "cell_type": "markdown",
   "metadata": {},
   "source": [
    "This is to warp alres3 to avgLR+orig"
   ]
  },
  {
   "cell_type": "code",
   "execution_count": 4,
   "metadata": {},
   "outputs": [
    {
     "name": "stderr",
     "output_type": "stream",
     "text": [
      "3dQwarp: /packages/7x/anaconda3/5.3.0/lib/libuuid.so.1: no version information available (required by /lib64/libSM.so.6)\n",
      "++ OpenMP thread count = 1\n",
      "++ 3dQwarp: AFNI version=AFNI_20.1.11 (May 28 2020) [64-bit]\n",
      "++ Authored by: Zhark the (Hermite) Cubically Warped\n",
      "++ negative values in base and source ==> using strict Pearson correlation\n",
      "++ Dataset zero-pad: xbot=4 xtop=3  ybot=7 ytop=14  zbot=3 ztop=2 voxels\n",
      "++ Weightizing the base image: FWHM = 4.5 (vox)\n",
      "++ +++++++++++ Begin warp optimization:  base=./avgLR+orig.HEAD  source=./alres3+orig.HEAD\n",
      "++ AFNI warpomatic start: 170 x 249 x 135 volume ; autobbox = 14..156 26..225 12..125\n",
      "lev=0 0..169 2..248 0..134: [first cost=-0.14980] ...... done [cost=-0.99638]\n",
      "lev=1 patch=127x185x101: ........ done [cost:-1.28057 ; 8 patches optimized, 0 skipped]\n",
      "lev=2 patch=95x139x75: ..................... done [cost:-1.58901 ; 21 patches optimized, 6 skipped]\n",
      "lev=3 patch=71x105x57: ............. done [cost:-0.93393 ; 36 patches optimized, 28 skipped]\n",
      "lev=4 patch=53x79x43: ............. done [cost:-1.08800 ; 65 patches optimized, 60 skipped]\n",
      "lev=5 patch=41x59x33: .............. done [cost:-1.57635 ; 171 patches optimized, 172 skipped]\n",
      "lev=6 patch=31x43x25: ....................... done [cost:-1.85602 ; 435 patches optimized, 565 skipped]\n",
      "lev=7 patch=25x25x25: ............................... done [cost:-2.00685 ; 872 patches optimized, 1168 skipped]\n",
      "++ ====== total number of parameters 'optimized' = 19485\n",
      " +      initial unpenalized cost = -0.149804\n",
      " +        final unpenalized cost = -2.28459\n",
      " +        final penalized   cost = -2.00685\n",
      "++ Output dataset ./Qwarp_FL+orig.BRIK\n",
      "++ Output dataset ./Qwarp_FR+orig.BRIK\n",
      "++ Output dataset ./Qwarp_FL_WARP+orig.BRIK\n",
      "++ Output dataset ./Qwarp_FR_WARP+orig.BRIK\n",
      "++ ===== clock time = 42m 43s 711ms\n"
     ]
    }
   ],
   "source": [
    "%%bash\n",
    "module load afni/20.1.11\n",
    "cd /home/mabbasi6/morphometry/Henkelman/template/female\n",
    "3dQwarp -base avgLR+orig -source alres3+orig -plusminus -pmNAMES FL FR"
   ]
  },
  {
   "cell_type": "markdown",
   "metadata": {},
   "source": [
    "This is to average FR and FL"
   ]
  },
  {
   "cell_type": "code",
   "execution_count": 5,
   "metadata": {},
   "outputs": [
    {
     "name": "stderr",
     "output_type": "stream",
     "text": [
      "3dcalc: /packages/7x/anaconda3/5.3.0/lib/libuuid.so.1: no version information available (required by /lib64/libSM.so.6)\n",
      "++ 3dcalc: AFNI version=AFNI_20.1.11 (May 28 2020) [64-bit]\n",
      "++ Authored by: A cast of thousands\n",
      "++ Output dataset ./female+orig.BRIK\n"
     ]
    }
   ],
   "source": [
    "%%bash\n",
    "module load afni/20.1.11\n",
    "cd /home/mabbasi6/morphometry/MWT_Morphometry/12/\n",
    "3dcalc -a 12_Top+orig -b Qwarp_FR+orig -expr '(a+b)/2' -prefix female"
   ]
  },
  {
   "cell_type": "markdown",
   "metadata": {},
   "source": [
    "This is to align Henkelman to our atlas"
   ]
  },
  {
   "cell_type": "code",
   "execution_count": 6,
   "metadata": {},
   "outputs": [
    {
     "name": "stderr",
     "output_type": "stream",
     "text": [
      "ParseName: /packages/7x/anaconda3/5.3.0/lib/libuuid.so.1: no version information available (required by /lib64/libSM.so.6)\n",
      "ParseName: /packages/7x/anaconda3/5.3.0/lib/libuuid.so.1: no version information available (required by /lib64/libSM.so.6)\n",
      "afni: /packages/7x/anaconda3/5.3.0/lib/libuuid.so.1: no version information available (required by /lib64/libSM.so.6)\n",
      "afni: /packages/7x/anaconda3/5.3.0/lib/libuuid.so.1: no version information available (required by /lib64/libSM.so.6)\n",
      "afni: /packages/7x/anaconda3/5.3.0/lib/libuuid.so.1: no version information available (required by /lib64/libSM.so.6)\n",
      "afni: /packages/7x/anaconda3/5.3.0/lib/libuuid.so.1: no version information available (required by /lib64/libSM.so.6)\n",
      "ParseName: /packages/7x/anaconda3/5.3.0/lib/libuuid.so.1: no version information available (required by /lib64/libSM.so.6)\n",
      "3dAttribute: /packages/7x/anaconda3/5.3.0/lib/libuuid.so.1: no version information available (required by /lib64/libSM.so.6)\n",
      "ccalc: /packages/7x/anaconda3/5.3.0/lib/libuuid.so.1: no version information available (required by /lib64/libSM.so.6)\n",
      "ccalc: /packages/7x/anaconda3/5.3.0/lib/libuuid.so.1: no version information available (required by /lib64/libSM.so.6)\n",
      "ccalc: /packages/7x/anaconda3/5.3.0/lib/libuuid.so.1: no version information available (required by /lib64/libSM.so.6)\n",
      "ccalc: /packages/7x/anaconda3/5.3.0/lib/libuuid.so.1: no version information available (required by /lib64/libSM.so.6)\n",
      "ccalc: /packages/7x/anaconda3/5.3.0/lib/libuuid.so.1: no version information available (required by /lib64/libSM.so.6)\n",
      "3dAttribute: /packages/7x/anaconda3/5.3.0/lib/libuuid.so.1: no version information available (required by /lib64/libSM.so.6)\n",
      "ccalc: /packages/7x/anaconda3/5.3.0/lib/libuuid.so.1: no version information available (required by /lib64/libSM.so.6)\n",
      "ccalc: /packages/7x/anaconda3/5.3.0/lib/libuuid.so.1: no version information available (required by /lib64/libSM.so.6)\n",
      "ccalc: /packages/7x/anaconda3/5.3.0/lib/libuuid.so.1: no version information available (required by /lib64/libSM.so.6)\n",
      "ccalc: /packages/7x/anaconda3/5.3.0/lib/libuuid.so.1: no version information available (required by /lib64/libSM.so.6)\n",
      "ccalc: /packages/7x/anaconda3/5.3.0/lib/libuuid.so.1: no version information available (required by /lib64/libSM.so.6)\n",
      "ccalc: /packages/7x/anaconda3/5.3.0/lib/libuuid.so.1: no version information available (required by /lib64/libSM.so.6)\n",
      "ccalc: /packages/7x/anaconda3/5.3.0/lib/libuuid.so.1: no version information available (required by /lib64/libSM.so.6)\n",
      "ccalc: /packages/7x/anaconda3/5.3.0/lib/libuuid.so.1: no version information available (required by /lib64/libSM.so.6)\n",
      "ccalc: /packages/7x/anaconda3/5.3.0/lib/libuuid.so.1: no version information available (required by /lib64/libSM.so.6)\n",
      "ccalc: /packages/7x/anaconda3/5.3.0/lib/libuuid.so.1: no version information available (required by /lib64/libSM.so.6)\n",
      "ccalc: /packages/7x/anaconda3/5.3.0/lib/libuuid.so.1: no version information available (required by /lib64/libSM.so.6)\n",
      "ccalc: /packages/7x/anaconda3/5.3.0/lib/libuuid.so.1: no version information available (required by /lib64/libSM.so.6)\n",
      "ccalc: /packages/7x/anaconda3/5.3.0/lib/libuuid.so.1: no version information available (required by /lib64/libSM.so.6)\n",
      "ccalc: /packages/7x/anaconda3/5.3.0/lib/libuuid.so.1: no version information available (required by /lib64/libSM.so.6)\n",
      "ccalc: /packages/7x/anaconda3/5.3.0/lib/libuuid.so.1: no version information available (required by /lib64/libSM.so.6)\n",
      "ccalc: /packages/7x/anaconda3/5.3.0/lib/libuuid.so.1: no version information available (required by /lib64/libSM.so.6)\n",
      "3dcopy: /packages/7x/anaconda3/5.3.0/lib/libuuid.so.1: no version information available (required by /lib64/libSM.so.6)\n",
      "++ 3dcopy: AFNI version=AFNI_20.1.11 (May 28 2020) [64-bit]\n",
      "3drefit: /packages/7x/anaconda3/5.3.0/lib/libuuid.so.1: no version information available (required by /lib64/libSM.so.6)\n",
      "++ 3drefit: AFNI version=AFNI_20.1.11 (May 28 2020) [64-bit]\n",
      "++ Authored by: RW Cox\n",
      "++ Processing AFNI dataset ./alhenkelman+orig\n",
      " + deoblique\n",
      "++ 3drefit processed 1 datasets\n",
      "ccalc: /packages/7x/anaconda3/5.3.0/lib/libuuid.so.1: no version information available (required by /lib64/libSM.so.6)\n",
      "ccalc: /packages/7x/anaconda3/5.3.0/lib/libuuid.so.1: no version information available (required by /lib64/libSM.so.6)\n",
      "ccalc: /packages/7x/anaconda3/5.3.0/lib/libuuid.so.1: no version information available (required by /lib64/libSM.so.6)\n",
      "ParseName: /packages/7x/anaconda3/5.3.0/lib/libuuid.so.1: no version information available (required by /lib64/libSM.so.6)\n",
      "ParseName: /packages/7x/anaconda3/5.3.0/lib/libuuid.so.1: no version information available (required by /lib64/libSM.so.6)\n"
     ]
    }
   ],
   "source": [
    "%%bash\n",
    "module load afni/20.1.11\n",
    "cd /home/mabbasi6/morphometry/Henkelman/template/female/\n",
    "@Align_Centers -base female+orig -dset henkelman+orig -prefix alhenkelman"
   ]
  },
  {
   "cell_type": "markdown",
   "metadata": {},
   "source": [
    "This is to warp aligned henkelman to our atlas"
   ]
  },
  {
   "cell_type": "code",
   "execution_count": 7,
   "metadata": {},
   "outputs": [
    {
     "name": "stdout",
     "output_type": "stream",
     "text": [
      "#++ auto_warp.py version: 0.04\n",
      "# Output directory /home/mabbasi6/morphometry/Henkelman/template/female/awpy/\n",
      "#Script is running:\n",
      "  mkdir /home/mabbasi6/morphometry/Henkelman/template/female/awpy/\n",
      "cd /home/mabbasi6/morphometry/Henkelman/template/female/awpy/\n",
      "#Script is running (command trimmed):\n",
      "  3dcopy /home/mabbasi6/morphometry/Henkelman/template/female/alhenkelman+orig ./anat.nii\n",
      "#Script is running (command trimmed):\n",
      "  3dUnifize -GM -input ./anat.nii -prefix ./anat.un.nii\n",
      "#Script is running (command trimmed):\n",
      "  3dcopy /home/mabbasi6/morphometry/Henkelman/template/female/female+orig ./base.nii\n",
      "#Script is running (command trimmed):\n",
      "  3dAttribute DELTA ./anat.un.nii\n",
      "#Script is running (command trimmed):\n",
      "  3dAttribute DELTA ./base.nii\n",
      "0.075000 0.075000\n",
      "#Script is running (command trimmed):\n",
      "  3dinfo -same_grid ./anat.un.nii ./base.nii\n",
      "#Script is running (command trimmed):\n",
      "  3dresample -inset ./anat.un.nii -prefix ./anat.rwb.nii -rmode Li -master ./base.nii\n",
      "#++ Aligning /home/mabbasi6/morphometry/Henkelman/template/female/awpy/base.nii data to /home/mabbasi6/morphometry/Henkelman/template/female/awpy/anat.rwb.nii data\n",
      "#Script is running (command trimmed):\n",
      "  3dQwarp -prefix ./anat.rwb.qw.nii -blur -3 -3 -workhard:0:1 -base ./base.nii -source ./anat.rwb.nii \n",
      "#++ Applying warps to /home/mabbasi6/morphometry/Henkelman/template/female/alhenkelman+orig\n",
      "#Script is running (command trimmed):\n",
      "  3dNwarpApply -nwarp ./anat.rwb.qw_WARP.nii -master ./base.nii -source /home/mabbasi6/morphometry/Henkelman/template/female/alhenkelman+orig -prefix ./alhenkelman.aw.nii \n",
      "#++ Saving history\n",
      "#Script is running (command trimmed):\n",
      "  3dNotes -h \"auto_warp.py -base female+orig -input alhenkelman+orig \\\n",
      " -skip_affine yes -suffix aw\" \\\n",
      " ./alhenkelman.aw.nii\n",
      "\n",
      "\n"
     ]
    },
    {
     "name": "stderr",
     "output_type": "stream",
     "text": [
      "3dcopy: /packages/7x/anaconda3/5.3.0/lib/libuuid.so.1: no version information available (required by /lib64/libSM.so.6)\n",
      "++ 3dcopy: AFNI version=AFNI_20.1.11 (May 28 2020) [64-bit]\n",
      "3dUnifize: /packages/7x/anaconda3/5.3.0/lib/libuuid.so.1: no version information available (required by /lib64/libSM.so.6)\n",
      "++ 3dUnifize: AFNI version=AFNI_20.1.11 (May 28 2020) [64-bit]\n",
      " + Pre-processing: ADV...UW[s1116]Gm\n",
      "++ Output dataset ./anat.un.nii\n",
      "++ ===== Elapsed = 39.0 sec\n",
      "3dcopy: /packages/7x/anaconda3/5.3.0/lib/libuuid.so.1: no version information available (required by /lib64/libSM.so.6)\n",
      "++ 3dcopy: AFNI version=AFNI_20.1.11 (May 28 2020) [64-bit]\n",
      "3dresample: /packages/7x/anaconda3/5.3.0/lib/libuuid.so.1: no version information available (required by /lib64/libSM.so.6)\n",
      "3dQwarp: /packages/7x/anaconda3/5.3.0/lib/libuuid.so.1: no version information available (required by /lib64/libSM.so.6)\n",
      "++ OpenMP thread count = 1\n",
      "++ 3dQwarp: AFNI version=AFNI_20.1.11 (May 28 2020) [64-bit]\n",
      "++ Authored by: Zhark the (Hermite) Cubically Warped\n",
      "++ negative values in base ==> using strict Pearson correlation\n",
      "++ Dataset zero-pad: xbot=4 xtop=2  ybot=7 ytop=17  zbot=4 ztop=0 voxels\n",
      "++ Weightizing the base image: FWHM = 4.5 (vox)\n",
      "++ +++++++++++ Begin warp optimization:  base=/home/mabbasi6/morphometry/Henkelman/template/female/awpy/base.nii  source=/home/mabbasi6/morphometry/Henkelman/template/female/awpy/anat.rwb.nii\n",
      "++ AFNI warpomatic: 169 x 252 x 134 volume ; autobbox = 14..155 24..226 13..118 [clock= 13s 609ms]\n",
      "lev=0 0..168 0..251 0..131: [first cost=-0.45094] .... done [cost:-0.45094==>-0.73243]\n",
      "lev=1 patch=127x189x99 [clock= 6m 4s 677ms]........:[cost=-0.86256]:........ done [cost:-0.73243==>-0.90429 ; 16 patches optimized, 0 skipped]\n",
      "lev=2 patch=95x141x75 [clock= 10m 21s 664ms]....................... done [cost:-0.90429==>-1.05986 ; 23 patches optimized, 4 skipped]\n",
      "lev=3 patch=71x107x55 [clock= 13m 16s 452ms]............... done [cost:-1.05986==>2.10378 ; 39 patches optimized, 25 skipped]\n",
      "lev=4 patch=53x79x41 [clock= 17m 56s 642ms]........ done [cost:2.10378==>2.26374 ; 76 patches optimized, 49 skipped]\n",
      "lev=5 patch=41x59x31 [clock= 22m 13s 978ms].......... done [cost:2.26374==>1.09398 ; 195 patches optimized, 148 skipped]\n",
      "lev=6 patch=31x45x25 [clock= 27m 9s 946ms]..................... done [cost:1.09398==>0.44675 ; 414 patches optimized, 315 skipped]\n",
      "lev=7 patch=25x25x25 [clock= 32m 17s 528ms]................... done [cost:0.44675==>0.13164 ; 952 patches optimized, 884 skipped]\n",
      "++ ====== total number of parameters 'optimized' = 20727\n",
      " +      initial unpenalized cost = -0.45094\n",
      " +        final unpenalized cost = -1.08407\n",
      " +        final penalized   cost = 0.131645\n",
      "++ Output dataset ./anat.rwb.qw.nii\n",
      "++ Output dataset ./anat.rwb.qw_WARP.nii\n",
      "++ ===== clock time = 37m 36s 995ms\n",
      "3dNwarpApply: /packages/7x/anaconda3/5.3.0/lib/libuuid.so.1: no version information available (required by /lib64/libSM.so.6)\n",
      "++ 3dNwarpApply: AFNI version=AFNI_20.1.11 (May 28 2020) [64-bit]\n",
      "++ Authored by: Zhark the Warped\n",
      "++ -master dataset is './base.nii'\n",
      "++ opened source dataset '/home/mabbasi6/morphometry/Henkelman/template/female/alhenkelman+orig'\n",
      "++ Processing -nwarp \n",
      "++ Warping:.Z\n",
      "++ Output dataset ./alhenkelman.aw.nii\n",
      "++ total Elapsed time = 38.8 sec\n",
      "3dNotes: /packages/7x/anaconda3/5.3.0/lib/libuuid.so.1: no version information available (required by /lib64/libSM.so.6)\n"
     ]
    }
   ],
   "source": [
    "%%bash\n",
    "module load afni/20.1.11\n",
    "cd /home/mabbasi6/morphometry/Henkelman/template/female/\n",
    "auto_warp.py -base female+orig -input alhenkelman+orig -skip_affine yes -suffix aw"
   ]
  },
  {
   "cell_type": "markdown",
   "metadata": {},
   "source": [
    "This is to calculate the determinant of the warp matrix"
   ]
  },
  {
   "cell_type": "code",
   "execution_count": 2,
   "metadata": {},
   "outputs": [
    {
     "name": "stderr",
     "output_type": "stream",
     "text": [
      "3dNwarpFuncs: /packages/7x/anaconda3/5.3.0/lib/libuuid.so.1: no version information available (required by /lib64/libSM.so.6)\n",
      "++ 3dNwarpFuncs: AFNI version=AFNI_20.1.11 (May 28 2020) [64-bit]\n",
      "++ Authored by: Zhark the Warped\n",
      "++ Output dataset ./det+orig.BRIK\n"
     ]
    }
   ],
   "source": [
    "%%bash\n",
    "module load afni/20.1.11\n",
    "cd /home/mabbasi6/morphometry/Henkelman/template/female/awpy\n",
    "3dNwarpFuncs -nwarp anat.rwb.qw_WARP.nii -prefix det -bulk"
   ]
  },
  {
   "cell_type": "markdown",
   "metadata": {},
   "source": [
    "This is to apply Henkelman warp to Henkelman annotations"
   ]
  },
  {
   "cell_type": "code",
   "execution_count": 1,
   "metadata": {},
   "outputs": [
    {
     "name": "stderr",
     "output_type": "stream",
     "text": [
      "3dNwarpApply: /packages/7x/anaconda3/5.3.0/lib/libuuid.so.1: no version information available (required by /lib64/libSM.so.6)\n",
      "++ 3dNwarpApply: AFNI version=AFNI_20.1.11 (May 28 2020) [64-bit]\n",
      "++ Authored by: Zhark the Warped\n",
      "++ opened source dataset 'affannot2+orig'\n",
      "++ Processing -nwarp \n",
      "++ Warping:.Z\n",
      "++ Output dataset ./warpedannot+orig.BRIK\n",
      "++ total Elapsed time = 7.7 sec\n"
     ]
    }
   ],
   "source": [
    "%%bash\n",
    "module load afni/20.1.11\n",
    "cd /home/mabbasi6/morphometry/Henkelman/template/MKO\n",
    "3dNwarpApply -source affannot2+orig -nwarp anat.un.qw_WARP.nii -prefix warpedannot"
   ]
  },
  {
   "cell_type": "code",
   "execution_count": null,
   "metadata": {},
   "outputs": [],
   "source": []
  }
 ],
 "metadata": {
  "kernelspec": {
   "display_name": "Py3-basic",
   "language": "python",
   "name": "python3"
  },
  "language_info": {
   "codemirror_mode": {
    "name": "ipython",
    "version": 3
   },
   "file_extension": ".py",
   "mimetype": "text/x-python",
   "name": "python",
   "nbconvert_exporter": "python",
   "pygments_lexer": "ipython3",
   "version": "3.7.2"
  }
 },
 "nbformat": 4,
 "nbformat_minor": 2
}
