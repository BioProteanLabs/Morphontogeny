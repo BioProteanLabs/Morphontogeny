{
 "cells": [
  {
   "cell_type": "markdown",
   "metadata": {},
   "source": [
    "This is to calculate determinant of the Jacobian matrix."
   ]
  },
  {
   "cell_type": "code",
   "execution_count": 10,
   "metadata": {},
   "outputs": [
    {
     "name": "stderr",
     "output_type": "stream",
     "text": [
      "3dNwarpFuncs: /packages/7x/anaconda3/5.3.0/lib/libuuid.so.1: no version information available (required by /lib64/libSM.so.6)\n",
      "++ 3dNwarpFuncs: AFNI version=AFNI_20.1.11 (May 28 2020) [64-bit]\n",
      "++ Authored by: Zhark the Warped\n",
      "++ Output dataset ./5_jcb+orig.BRIK\n"
     ]
    }
   ],
   "source": [
    "%%bash\n",
    "module load afni/20.1.11\n",
    "cd /home/mabbasi6/morphometry/MWT_Morphometry/5_anmwp/\n",
    "3dNwarpFuncs -nwarp 5_shft_osh2base_WARP.nii.gz -prefix 5_jcb -bulk"
   ]
  },
  {
   "cell_type": "markdown",
   "metadata": {},
   "source": [
    "This is to calculate the average of determinants of the Jacobian matrices."
   ]
  },
  {
   "cell_type": "code",
   "execution_count": 12,
   "metadata": {},
   "outputs": [
    {
     "name": "stderr",
     "output_type": "stream",
     "text": [
      "3dMean: /packages/7x/anaconda3/5.3.0/lib/libuuid.so.1: no version information available (required by /lib64/libSM.so.6)\n",
      "++ 3dMean: AFNI version=AFNI_20.1.11 (May 28 2020) [64-bit]\n"
     ]
    }
   ],
   "source": [
    "%%bash\n",
    "module load afni/20.1.11\n",
    "cd /home/mabbasi6/morphometry/MWT_Morphometry/\n",
    "input1='/home/mabbasi6/morphometry/MWT_Morphometry/1_anmwp/1_jcb+orig'\n",
    "input2='/home/mabbasi6/morphometry/MWT_Morphometry/2_anmwp/2_jcb+orig'\n",
    "input3='/home/mabbasi6/morphometry/MWT_Morphometry/3_anmwp/3_jcb+orig'\n",
    "input4='/home/mabbasi6/morphometry/MWT_Morphometry/4_anmwp/4_jcb+orig'\n",
    "input5='/home/mabbasi6/morphometry/MWT_Morphometry/5_anmwp/5_jcb+orig'\n",
    "3dMean -prefix avg_jcb_MWT $input1 $input2 $input3 $input4 $input5"
   ]
  },
  {
   "cell_type": "raw",
   "metadata": {},
   "source": [
    "This is to run a ttest on MKOs against the MKO average."
   ]
  },
  {
   "cell_type": "code",
   "execution_count": 16,
   "metadata": {},
   "outputs": [
    {
     "name": "stderr",
     "output_type": "stream",
     "text": [
      "3dttest++: /packages/7x/anaconda3/5.3.0/lib/libuuid.so.1: no version information available (required by /lib64/libSM.so.6)\n",
      "++ 3dttest++: AFNI version=AFNI_20.1.11 (May 28 2020) [64-bit]\n",
      "++ Authored by: Zhark++\n",
      "++ option -setA :: processing as SHORT form (all values are datasets)\n",
      "++ have 5 volumes corresponding to option '-setA'\n",
      "++ no mask ==> processing all 7219968 voxels\n",
      "++ loading -setA datasets\n",
      "\u001b[7m*+ WARNING:\u001b[0m 3dttest++ -setA :: 1 vector is constant\n",
      "++ Memory usage now = 260,236,527 (260 million)\n",
      "++ t-testing:0123456789.0123456789.0123456789.0123456789.0123456789.!\n",
      " + skipped 1 voxel completely for having constant data\n",
      "++ ---------- End of analyses -- freeing workspaces ----------\n",
      "++ Memory usage now = 58,056,575 (58 million)\n",
      "++ Creating FDR curves in output dataset\n",
      "++ Smallest FDR q [1 SetA_Tstat] = 0.00188261\n",
      " + Added 1 FDR curve to dataset\n",
      "++ Output dataset ./MKO_ttest_oneset+orig.BRIK\n",
      "++ ----- 3dttest++ says so long, farewell, and happy trails to you :) -----\n"
     ]
    }
   ],
   "source": [
    "%%bash\n",
    "module load afni/20.1.11\n",
    "cd /home/mabbasi6/morphometry/MKO_Morphometry/\n",
    "input1='/home/mabbasi6/morphometry/MKO_Morphometry/1_anmwp/1_jcb+orig'\n",
    "input2='/home/mabbasi6/morphometry/MKO_Morphometry/2_anmwp/2_jcb+orig'\n",
    "input3='/home/mabbasi6/morphometry/MKO_Morphometry/3_anmwp/3_jcb+orig'\n",
    "input4='/home/mabbasi6/morphometry/MKO_Morphometry/4_anmwp/4_jcb+orig'\n",
    "input5='/home/mabbasi6/morphometry/MKO_Morphometry/5_anmwp/5_jcb+orig'\n",
    "mask='/home/mabbasi6/morphometry/MKO_Morphometry/1_anmwp/1_warp2std_ns.nii.gz'\n",
    "3dttest++ -prefix MKO_ttest_oneset -setA $input1 $input2 $input3 $input4 $input5"
   ]
  },
  {
   "cell_type": "code",
   "execution_count": 18,
   "metadata": {},
   "outputs": [
    {
     "name": "stderr",
     "output_type": "stream",
     "text": [
      "3dttest++: /packages/7x/anaconda3/5.3.0/lib/libuuid.so.1: no version information available (required by /lib64/libSM.so.6)\n",
      "++ 3dttest++: AFNI version=AFNI_20.1.11 (May 28 2020) [64-bit]\n",
      "++ Authored by: Zhark++\n",
      "++ option -setA :: processing as SHORT form (all values are datasets)\n",
      "++ have 5 volumes corresponding to option '-setA'\n",
      "++ option -setB :: processing as SHORT form (all values are datasets)\n",
      "++ have 5 volumes corresponding to option '-setB'\n",
      "++ no mask ==> processing all 7219968 voxels\n",
      "++ 2-sample test: '-AminusB' option is assumed\n",
      "++ 2-sample test: results will be SetA - SetB\n",
      "++ loading -setA datasets\n",
      "\u001b[7m*+ WARNING:\u001b[0m 3dttest++ -setA :: 1 vector is constant\n",
      "++ loading -setB datasets\n",
      "\u001b[7m*+ WARNING:\u001b[0m 3dttest++ -setB :: 1 vector is constant\n",
      "++ Memory usage now = 549,269,737 (549 million)\n",
      "++ t-testing:0123456789.0123456789.0123456789.0123456789.0123456789.!\n",
      " + skipped 1 voxel completely for having constant data\n",
      "++ ---------- End of analyses -- freeing workspaces ----------\n",
      "++ Memory usage now = 173,809,737 (174 million)\n",
      "++ Creating FDR curves in output dataset\n",
      "++ Smallest FDR q [1 SetA-SetB_Tstat] = 0.0278749\n",
      "++ Smallest FDR q [3 SetA_Tstat] = 0.00188261\n",
      "++ Smallest FDR q [5 SetB_Tstat] = 0.00392983\n",
      " + Added 3 FDR curves to dataset\n",
      "++ Output dataset ./MKO_ttest_2set+orig.BRIK\n",
      " + 2-sample test: results are SetA - SetB\n",
      "++ ----- 3dttest++ says so long, farewell, and happy trails to you :) -----\n"
     ]
    }
   ],
   "source": [
    "%%bash\n",
    "module load afni/20.1.11\n",
    "cd /home/mabbasi6/morphometry/MKO_Morphometry/\n",
    "input1='/home/mabbasi6/morphometry/MKO_Morphometry/1_anmwp/1_jcb+orig'\n",
    "input2='/home/mabbasi6/morphometry/MKO_Morphometry/2_anmwp/2_jcb+orig'\n",
    "input3='/home/mabbasi6/morphometry/MKO_Morphometry/3_anmwp/3_jcb+orig'\n",
    "input4='/home/mabbasi6/morphometry/MKO_Morphometry/4_anmwp/4_jcb+orig'\n",
    "input5='/home/mabbasi6/morphometry/MKO_Morphometry/5_anmwp/5_jcb+orig'\n",
    "input6='/home/mabbasi6/morphometry/MWT_Morphometry/1_anmwp/1_jcb+orig'\n",
    "input7='/home/mabbasi6/morphometry/MWT_Morphometry/2_anmwp/2_jcb+orig'\n",
    "input8='/home/mabbasi6/morphometry/MWT_Morphometry/3_anmwp/3_jcb+orig'\n",
    "input9='/home/mabbasi6/morphometry/MWT_Morphometry/4_anmwp/4_jcb+orig'\n",
    "input10='/home/mabbasi6/morphometry/MWT_Morphometry/5_anmwp/5_jcb+orig'\n",
    "3dttest++ -prefix MKO_ttest_2set -setA $input1 $input2 $input3 $input4 $input5 -setB $input6 $input7 $input8 $input9 $input10"
   ]
  },
  {
   "cell_type": "markdown",
   "metadata": {},
   "source": [
    "This is to convert AFNI to NIFTI"
   ]
  },
  {
   "cell_type": "code",
   "execution_count": 4,
   "metadata": {},
   "outputs": [
    {
     "name": "stderr",
     "output_type": "stream",
     "text": [
      "3dcopy: /packages/7x/anaconda3/5.3.0/lib/libuuid.so.1: no version information available (required by /lib64/libSM.so.6)\n",
      "++ 3dcopy: AFNI version=AFNI_20.1.11 (May 28 2020) [64-bit]\n",
      "\n",
      "*** DATASET error:   have no warp but have no data on disk as well\n",
      "PURGING dataset ./clc+orig+orig.HEAD from memory\n",
      "** failed to open input 'clc+orig+FKO1' on non-AFNI write\n",
      "Try including the view of the input dataset clc+orig+FKO1\n",
      "or use its fullname. That might take care of the error.\n"
     ]
    }
   ],
   "source": [
    "%%bash\n",
    "module load afni/20.1.11\n",
    "cd /home/mabbasi6/morphometry/Henkelman/FKO/1/awpy\n",
    "3dcopy clc+orig+FKO1 jac+FKO1.nii"
   ]
  },
  {
   "cell_type": "markdown",
   "metadata": {},
   "source": [
    "This is to subtract WT Jacobian matrix from the KO."
   ]
  },
  {
   "cell_type": "code",
   "execution_count": 6,
   "metadata": {},
   "outputs": [
    {
     "name": "stderr",
     "output_type": "stream",
     "text": [
      "bash: line 3: a: command not found\n",
      "bash: line 4: b: command not found\n",
      "3dcalc: /packages/7x/anaconda3/5.3.0/lib/libuuid.so.1: no version information available (required by /lib64/libSM.so.6)\n",
      "++ 3dcalc: AFNI version=AFNI_20.1.11 (May 28 2020) [64-bit]\n",
      "++ Authored by: A cast of thousands\n",
      "++ Output dataset ./sub+male+orig.BRIK\n"
     ]
    }
   ],
   "source": [
    "%%bash\n",
    "module load afni/20.1.11\n",
    "cd /home/mabbasi6/morphometry/Henkelman/Avg/\n",
    "a = 'avg+clc+MKO.nii'\n",
    "b = 'avg+clc+MWT.nii'\n",
    "3dcalc -a avg+clc+FKO.nii -b avg+clc+FWT.nii -expr a-b -prefix sub+male"
   ]
  },
  {
   "cell_type": "markdown",
   "metadata": {},
   "source": [
    "This is to do a t test on Jacobian matrices"
   ]
  },
  {
   "cell_type": "code",
   "execution_count": 3,
   "metadata": {},
   "outputs": [
    {
     "name": "stderr",
     "output_type": "stream",
     "text": [
      "3dttest++: /packages/7x/anaconda3/5.3.0/lib/libuuid.so.1: no version information available (required by /lib64/libSM.so.6)\n",
      "++ 3dttest++: AFNI version=AFNI_20.1.11 (May 28 2020) [64-bit]\n",
      "++ Authored by: Zhark++\n",
      "++ option -setA :: processing as SHORT form (all values are datasets)\n",
      "++ have 4 volumes corresponding to option '-setA'\n",
      "++ option -setB :: processing as SHORT form (all values are datasets)\n",
      "++ have 4 volumes corresponding to option '-setB'\n",
      "++ no mask ==> processing all 8939616 voxels\n",
      "++ 2-sample test: '-AminusB' option is assumed\n",
      "++ paired test: results will be SetA - SetB\n",
      "++ loading -setA datasets\n",
      "\u001b[7m*+ WARNING:\u001b[0m 3dttest++ -setA :: 2741115 vectors are constant\n",
      "++ loading -setB datasets\n",
      "\u001b[7m*+ WARNING:\u001b[0m 3dttest++ -setB :: 2741115 vectors are constant\n",
      "++ Memory usage now = 608,370,077 (608 million)\n",
      "++ t-testing:0123456789.0123456789.0123456789.0123456789.0123456789.!\n",
      " + skipped 2741595 voxels completely for having constant data\n",
      "++ ---------- End of analyses -- freeing workspaces ----------\n",
      "++ Memory usage now = 215,005,309 (215 million)\n",
      "++ Creating FDR curves in output dataset\n",
      "\u001b[7m*+ WARNING:\u001b[0m Smallest FDR q [1 SetA-SetB_Tstat] = 0.541412 ==> few true single voxel detections\n",
      "++ Smallest FDR q [3 SetA_Tstat] = 0.00481431\n",
      "++ Smallest FDR q [5 SetB_Tstat] = 0.0074944\n",
      " + Added 3 FDR curves to dataset\n",
      "++ Output dataset ./ttestJM_paired+orig.BRIK\n",
      " + paired test: results are SetA - SetB\n",
      "++ ----- 3dttest++ says so long, farewell, and happy trails to you :) -----\n"
     ]
    }
   ],
   "source": [
    "%%bash\n",
    "module load afni/20.1.11\n",
    "cd /home/mabbasi6/morphometry/Henkelman/ttest/\n",
    "input1='/home/mabbasi6/morphometry/Henkelman/MKO/1/awpy/clc+orig'\n",
    "input2='/home/mabbasi6/morphometry/Henkelman/MKO/2/awpy/clc+orig'\n",
    "input3='/home/mabbasi6/morphometry/Henkelman/MKO/3/awpy/clc+orig'\n",
    "input4='/home/mabbasi6/morphometry/Henkelman/MKO/4/awpy/clc+orig'\n",
    "input5='/home/mabbasi6/morphometry/Henkelman/MWT/1/awpy/clc+orig'\n",
    "input6='/home/mabbasi6/morphometry/Henkelman/MWT/2/awpy/clc+orig'\n",
    "input7='/home/mabbasi6/morphometry/Henkelman/MWT/3/awpy/clc+orig'\n",
    "input8='/home/mabbasi6/morphometry/Henkelman/MWT/4/awpy/clc+orig'\n",
    "3dttest++ -prefix ttestJM_paired -setA $input1 $input2 $input3 $input4 -setB $input5 $input6 $input7 $input8 -paired"
   ]
  },
  {
   "cell_type": "code",
   "execution_count": 1,
   "metadata": {},
   "outputs": [
    {
     "name": "stdout",
     "output_type": "stream",
     "text": [
      "3dttest: t-tests of 3D datasets, by RW Cox\n",
      "--- allocated 289 Megabytes memory for internal use (7 volumes)\n",
      "--- starting piece 1/1 (8939616 voxels) ........+\n",
      "--- Number of degrees of freedom = 6 (2-sample test)\n",
      "--- Number of t-tests performed  = 6198851 out of 8939616 voxels\n",
      "--- Largest |t| value found      = 21.8267\n",
      "--- Double sided tail p = 0.500000 at t = 0.717558\n",
      "--- Double sided tail p = 0.200000 at t = 1.439756\n",
      "--- Double sided tail p = 0.100000 at t = 1.943180\n",
      "--- Double sided tail p = 0.050000 at t = 2.446912\n",
      "--- Double sided tail p = 0.010000 at t = 3.707428\n",
      "--- Double sided tail p = 0.001000 at t = 5.958816\n",
      "--- Double sided tail p = 0.000100 at t = 9.082346\n",
      "--- Double sided tail p = 0.000010 at t = 13.555317\n"
     ]
    },
    {
     "name": "stderr",
     "output_type": "stream",
     "text": [
      "3dttest: /packages/7x/anaconda3/5.3.0/lib/libuuid.so.1: no version information available (required by /lib64/libSM.so.6)\n",
      "++ 3dttest: AFNI version=AFNI_20.1.11 (May 28 2020) [64-bit]\n",
      "\u001b[7m*+ WARNING:\u001b[0m ----------------------------------------------------------\n",
      "\u001b[7m*+ WARNING:\u001b[0m Are VERY you sure you want to use this program?\n",
      "\u001b[7m*+ WARNING:\u001b[0m Newer program 3dttest++ should be used instead of 3dttest!\n",
      "\u001b[7m*+ WARNING:\u001b[0m ----------------------------------------------------------\n",
      "++ Writing combined dataset into ./newttestM+orig.BRIK\n",
      "\u001b[7m*+ WARNING:\u001b[0m Smallest FDR q [1 ?] = 0.999897 ==> few true single voxel detections\n",
      " + created 1 FDR curves in header\n"
     ]
    }
   ],
   "source": [
    "%%bash\n",
    "module load afni/20.1.11\n",
    "cd /home/mabbasi6/morphometry/Henkelman/ttest/\n",
    "input1='/home/mabbasi6/morphometry/Henkelman/MKO/1/awpy/clc+orig'\n",
    "input2='/home/mabbasi6/morphometry/Henkelman/MKO/2/awpy/clc+orig'\n",
    "input3='/home/mabbasi6/morphometry/Henkelman/MKO/3/awpy/clc+orig'\n",
    "input4='/home/mabbasi6/morphometry/Henkelman/MKO/4/awpy/clc+orig'\n",
    "input5='/home/mabbasi6/morphometry/Henkelman/MWT/1/awpy/clc+orig'\n",
    "input6='/home/mabbasi6/morphometry/Henkelman/MWT/2/awpy/clc+orig'\n",
    "input7='/home/mabbasi6/morphometry/Henkelman/MWT/3/awpy/clc+orig'\n",
    "input8='/home/mabbasi6/morphometry/Henkelman/MWT/4/awpy/clc+orig'\n",
    "3dttest -prefix newttestM -set1 $input1 $input2 $input3 $input4 -set2 $input5 $input6 $input7 $input8"
   ]
  },
  {
   "cell_type": "code",
   "execution_count": null,
   "metadata": {},
   "outputs": [],
   "source": []
  }
 ],
 "metadata": {
  "kernelspec": {
   "display_name": "Py3-basic",
   "language": "python",
   "name": "python3"
  },
  "language_info": {
   "codemirror_mode": {
    "name": "ipython",
    "version": 3
   },
   "file_extension": ".py",
   "mimetype": "text/x-python",
   "name": "python",
   "nbconvert_exporter": "python",
   "pygments_lexer": "ipython3",
   "version": "3.7.2"
  }
 },
 "nbformat": 4,
 "nbformat_minor": 2
}
