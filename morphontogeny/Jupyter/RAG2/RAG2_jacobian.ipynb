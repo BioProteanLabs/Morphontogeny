{
 "cells": [
  {
   "cell_type": "markdown",
   "metadata": {},
   "source": [
    "# Computing RAG2 Jacobians"
   ]
  },
  {
   "cell_type": "markdown",
   "metadata": {},
   "source": [
    "MWT and MKO brains have been registered to the collective brain average.\n",
    "<br>**Using the INVERSE WARPS to compute the Jacobians by looping through the folders.**"
   ]
  },
  {
   "cell_type": "code",
   "execution_count": null,
   "metadata": {},
   "outputs": [],
   "source": [
    "%%bash\n",
    "module load afni/20.1.11\n",
    "for i in {1..5}\n",
    "do\n",
    "    input=/data/bioprotean/RAG2/AVG/MKO/MKO_awp$i/anat.un.aff.qw_WARPINV.nii\n",
    "    output=/data/bioprotean/RAG2/AVG/JCB/MKO_invjcb$i.nii\n",
    "    3dNwarpFuncs -nwarp $input -bulk -prefix $output\n",
    "done"
   ]
  },
  {
   "cell_type": "code",
   "execution_count": null,
   "metadata": {},
   "outputs": [],
   "source": [
    "%%bash\n",
    "module load afni/20.1.11\n",
    "for i in {1..5}\n",
    "do\n",
    "    input=/data/bioprotean/RAG2/AVG/MWT/MWT_awp$i/anat.un.aff.qw_WARPINV.nii\n",
    "    output=/data/bioprotean/RAG2/AVG/JCB/MWT_invjcb$i.nii\n",
    "    3dNwarpFuncs -nwarp $input -bulk -prefix $output\n",
    "done"
   ]
  },
  {
   "cell_type": "markdown",
   "metadata": {},
   "source": [
    "**Computing the average MKO Jacobian for INVERSE warps**"
   ]
  },
  {
   "cell_type": "code",
   "execution_count": null,
   "metadata": {},
   "outputs": [],
   "source": [
    "%%bash\n",
    "module load afni/20.1.11\n",
    "input1=/data/bioprotean/RAG2/AVG/JCB/MKO_invjcb1.nii\n",
    "input2=/data/bioprotean/RAG2/AVG/JCB/MKO_invjcb2.nii\n",
    "input3=/data/bioprotean/RAG2/AVG/JCB/MKO_invjcb3.nii\n",
    "input4=/data/bioprotean/RAG2/AVG/JCB/MKO_invjcb4.nii\n",
    "input5=/data/bioprotean/RAG2/AVG/JCB/MKO_invjcb5.nii\n",
    "output=/data/bioprotean/RAG2/AVG/JCB/MKO_invjcb_avg.nii\n",
    "3dMean -prefix $output $input1 $input2 $input3 $input4 $input5"
   ]
  },
  {
   "cell_type": "markdown",
   "metadata": {},
   "source": [
    "**For comparison, now computing the Jacobians of FORWARD WARPS.**"
   ]
  },
  {
   "cell_type": "code",
   "execution_count": null,
   "metadata": {},
   "outputs": [],
   "source": [
    "%%bash\n",
    "module load afni/20.1.11\n",
    "for i in {1..5}\n",
    "do\n",
    "    input=/data/bioprotean/RAG2/AVG/MKO/MKO_awp$i/anat.un.aff.qw_WARP.nii\n",
    "    output=/data/bioprotean/RAG2/AVG/JCB/forward/MKO_frwjcb$i.nii\n",
    "    3dNwarpFuncs -nwarp $input -bulk -prefix $output\n",
    "done"
   ]
  },
  {
   "cell_type": "code",
   "execution_count": null,
   "metadata": {},
   "outputs": [],
   "source": [
    "%%bash\n",
    "module load afni/20.1.11\n",
    "for i in {1..5}\n",
    "do\n",
    "    input=/data/bioprotean/RAG2/AVG/MWT/MWT_awp$i/anat.un.aff.qw_WARP.nii\n",
    "    output=/data/bioprotean/RAG2/AVG/JCB/forward/MWT_frwjcb$i.nii\n",
    "    3dNwarpFuncs -nwarp $input -bulk -prefix $output\n",
    "done"
   ]
  },
  {
   "cell_type": "markdown",
   "metadata": {},
   "source": [
    "**Computing the average MKO Jacobian for FORWARD warps**"
   ]
  },
  {
   "cell_type": "code",
   "execution_count": null,
   "metadata": {},
   "outputs": [],
   "source": [
    "%%bash\n",
    "module load afni/20.1.11\n",
    "input1=/data/bioprotean/RAG2/AVG/JCB/forward/MKO_frwjcb1.nii\n",
    "input2=/data/bioprotean/RAG2/AVG/JCB/forward/MKO_frwjcb2.nii\n",
    "input3=/data/bioprotean/RAG2/AVG/JCB/forward/MKO_frwjcb3.nii\n",
    "input4=/data/bioprotean/RAG2/AVG/JCB/forward/MKO_frwjcb4.nii\n",
    "input5=/data/bioprotean/RAG2/AVG/JCB/forward/MKO_frwjcb5.nii\n",
    "output=/data/bioprotean/RAG2/AVG/JCB/forward/MKO_frwjcb_avg.nii\n",
    "3dMean -prefix $output $input1 $input2 $input3 $input4 $input5"
   ]
  },
  {
   "cell_type": "code",
   "execution_count": null,
   "metadata": {},
   "outputs": [],
   "source": []
  }
 ],
 "metadata": {
  "kernelspec": {
   "display_name": "Py3-basic",
   "language": "python",
   "name": "python3"
  },
  "language_info": {
   "codemirror_mode": {
    "name": "ipython",
    "version": 3
   },
   "file_extension": ".py",
   "mimetype": "text/x-python",
   "name": "python",
   "nbconvert_exporter": "python",
   "pygments_lexer": "ipython3",
   "version": "3.7.2"
  }
 },
 "nbformat": 4,
 "nbformat_minor": 2
}
