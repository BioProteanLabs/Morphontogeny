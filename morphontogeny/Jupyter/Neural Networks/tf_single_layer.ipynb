{
 "cells": [
  {
   "cell_type": "markdown",
   "metadata": {},
   "source": [
    "# NN for recognizing clothing type\n",
    "Tutorial from: https://towardsdatascience.com/building-your-first-neural-network-in-tensorflow-2-tensorflow-for-hackers-part-i-e1e2f1dfe7a0"
   ]
  },
  {
   "cell_type": "code",
   "execution_count": null,
   "metadata": {},
   "outputs": [],
   "source": [
    "# importing TensorFlow\n",
    "import tensorflow as tf"
   ]
  },
  {
   "cell_type": "code",
   "execution_count": null,
   "metadata": {},
   "outputs": [],
   "source": [
    "# importing the fashion dataset we want to work on\n",
    "from tensorflow import keras\n",
    "\n",
    "(x_train, y_train), (x_val, y_val) = keras.datasets.fashion_mnist.load_data()"
   ]
  },
  {
   "cell_type": "markdown",
   "metadata": {},
   "source": [
    "Here are all different types of clothing:\n",
    "<br>| Label | Description |\n",
    "<br>|-------|-------------|\n",
    "<br>| 0     | T-shirt/top |\n",
    "| 1     | Trouser     |\n",
    "| 2     | Pullover    |\n",
    "| 3     | Dress       |\n",
    "| 4     | Coat        |\n",
    "<br>| 5     | Sandal      |\n",
    "| 6     | Shirt       |\n",
    "| 7     | Sneaker     |\n",
    "| 8     | Bag         |\n",
    "| 9     | Ankle boot  |"
   ]
  },
  {
   "cell_type": "code",
   "execution_count": 6,
   "metadata": {},
   "outputs": [],
   "source": [
    "def preprocess(x, y):\n",
    "    # Casting the tensor to a new type\n",
    "    # Standardizing the inputs\n",
    "    x = tf.cast(x, tf.float32) / 255.0\n",
    "    y = tf.cast(y, tf.int64)\n",
    "    \n",
    "    return x, y"
   ]
  },
  {
   "cell_type": "code",
   "execution_count": 10,
   "metadata": {},
   "outputs": [],
   "source": [
    "def create_dataset(xs, ys, n_classes=10):\n",
    "    # making a one-hot tensor\n",
    "    ys = tf.one_hot(ys, depth=n_classes)\n",
    "    \n",
    "    return tf.data.Dataset.from_tensor_slices((xs, ys))\\\n",
    ".map(preprocess)\\\n",
    ".shuffle(len(ys))\\\n",
    ".batch(128)"
   ]
  },
  {
   "cell_type": "code",
   "execution_count": 11,
   "metadata": {},
   "outputs": [],
   "source": [
    "# Now, making the neural network\n",
    "train_dataset = create_dataset(x_train, y_train)\n",
    "val_dataset = create_dataset(x_val, y_val)"
   ]
  },
  {
   "cell_type": "code",
   "execution_count": 12,
   "metadata": {},
   "outputs": [],
   "source": [
    "model = keras.Sequential([\n",
    "    keras.layers.Reshape(target_shape=(28 * 28,), input_shape=(28, 28)),\n",
    "    keras.layers.Dense(units=256, activation='relu'),\n",
    "    keras.layers.Dense(units=192, activation='relu'),\n",
    "    keras.layers.Dense(units=128, activation='relu'),\n",
    "    keras.layers.Dense(units=10, activation='softmax')\n",
    "])"
   ]
  },
  {
   "cell_type": "code",
   "execution_count": 13,
   "metadata": {},
   "outputs": [
    {
     "name": "stdout",
     "output_type": "stream",
     "text": [
      "Epoch 1/10\n",
      "500/500 [==============================] - 10s 17ms/step - loss: 0.6779 - accuracy: 0.7617 - val_loss: 0.3564 - val_accuracy: 0.8711\n",
      "Epoch 2/10\n",
      "500/500 [==============================] - 4s 8ms/step - loss: 0.3763 - accuracy: 0.8621 - val_loss: 0.4835 - val_accuracy: 0.8359\n",
      "Epoch 3/10\n",
      "500/500 [==============================] - 4s 7ms/step - loss: 0.3238 - accuracy: 0.8819 - val_loss: 0.3298 - val_accuracy: 0.8945\n",
      "Epoch 4/10\n",
      "500/500 [==============================] - 4s 7ms/step - loss: 0.3029 - accuracy: 0.8876 - val_loss: 0.3689 - val_accuracy: 0.8711\n",
      "Epoch 5/10\n",
      "500/500 [==============================] - 4s 7ms/step - loss: 0.2895 - accuracy: 0.8913 - val_loss: 0.4304 - val_accuracy: 0.8594\n",
      "Epoch 6/10\n",
      "500/500 [==============================] - 4s 7ms/step - loss: 0.2684 - accuracy: 0.9004 - val_loss: 0.3106 - val_accuracy: 0.8906\n",
      "Epoch 7/10\n",
      "500/500 [==============================] - 4s 7ms/step - loss: 0.2565 - accuracy: 0.9041 - val_loss: 0.3262 - val_accuracy: 0.9062\n",
      "Epoch 8/10\n",
      "500/500 [==============================] - 4s 7ms/step - loss: 0.2406 - accuracy: 0.9081 - val_loss: 0.4174 - val_accuracy: 0.8945\n",
      "Epoch 9/10\n",
      "500/500 [==============================] - 4s 7ms/step - loss: 0.2358 - accuracy: 0.9111 - val_loss: 0.3249 - val_accuracy: 0.8672\n",
      "Epoch 10/10\n",
      "500/500 [==============================] - 4s 7ms/step - loss: 0.2272 - accuracy: 0.9148 - val_loss: 0.3481 - val_accuracy: 0.8711\n"
     ]
    }
   ],
   "source": [
    "model.compile(optimizer='adam', \n",
    "              loss=tf.losses.CategoricalCrossentropy(from_logits=True),\n",
    "              metrics=['accuracy'])\n",
    "\n",
    "history = model.fit(\n",
    "    train_dataset.repeat(), \n",
    "    epochs=10, \n",
    "    steps_per_epoch=500,\n",
    "    validation_data=val_dataset.repeat(), \n",
    "    validation_steps=2\n",
    ")"
   ]
  },
  {
   "cell_type": "code",
   "execution_count": 14,
   "metadata": {},
   "outputs": [],
   "source": [
    "predictions = model.predict(val_dataset)"
   ]
  },
  {
   "cell_type": "code",
   "execution_count": 16,
   "metadata": {},
   "outputs": [
    {
     "data": {
      "text/plain": [
       "array([2.51727111e-12, 9.63537670e-16, 1.38049430e-14, 2.27135675e-15,\n",
       "       9.90214380e-15, 1.68312514e-16, 9.77634315e-13, 1.19297675e-17,\n",
       "       1.00000000e+00, 1.61612379e-14], dtype=float32)"
      ]
     },
     "execution_count": 16,
     "metadata": {},
     "output_type": "execute_result"
    }
   ],
   "source": [
    "predictions[0]"
   ]
  },
  {
   "cell_type": "code",
   "execution_count": null,
   "metadata": {},
   "outputs": [],
   "source": []
  }
 ],
 "metadata": {
  "kernelspec": {
   "display_name": "Py3-basic",
   "language": "python",
   "name": "python3"
  },
  "language_info": {
   "codemirror_mode": {
    "name": "ipython",
    "version": 3
   },
   "file_extension": ".py",
   "mimetype": "text/x-python",
   "name": "python",
   "nbconvert_exporter": "python",
   "pygments_lexer": "ipython3",
   "version": "3.7.2"
  }
 },
 "nbformat": 4,
 "nbformat_minor": 2
}
