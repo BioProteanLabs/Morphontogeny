{
 "cells": [
  {
   "cell_type": "code",
   "execution_count": 9,
   "metadata": {},
   "outputs": [],
   "source": [
    "import time\n",
    "import numpy as np\n",
    "import pandas as pd\n",
    "from sklearn.cluster import KMeans\n",
    "from libnmf.gnmf import GNMF\n",
    "import matplotlib.pyplot as plt\n",
    "%matplotlib inline\n",
    "%run nifti_tools.ipynb\n",
    "%run overlap_functions.ipynb"
   ]
  },
  {
   "cell_type": "code",
   "execution_count": 5,
   "metadata": {},
   "outputs": [],
   "source": [
    "# Loading the positive data\n",
    "X = np.load('/data/bioprotean/ABA/MEMMAP/genes_list/ABA_mask_pos_L2.npy')"
   ]
  },
  {
   "cell_type": "code",
   "execution_count": 8,
   "metadata": {},
   "outputs": [],
   "source": [
    "# Running Graph-Regularized Non-Negative Matrix Factorization\n",
    "gnmf = GNMF(X, rank = 100)\n",
    "gnmf.compute_factors(max_iter = 20, lmd = 0.3, weight_type = 'heat-kernel', param = 0.4)"
   ]
  },
  {
   "cell_type": "code",
   "execution_count": 10,
   "metadata": {},
   "outputs": [
    {
     "name": "stdout",
     "output_type": "stream",
     "text": [
      "(63113, 100) (100, 2941)\n"
     ]
    }
   ],
   "source": [
    "print (gnmf.W.shape, gnmf.H.shape)"
   ]
  },
  {
   "cell_type": "code",
   "execution_count": 11,
   "metadata": {},
   "outputs": [
    {
     "name": "stdout",
     "output_type": "stream",
     "text": [
      "Running time is  131.15151405334473\n"
     ]
    }
   ],
   "source": [
    "# With variance of 80% and 10 clusters\n",
    "Z = gnmf.W\n",
    "\n",
    "start_time = time.time()\n",
    "\n",
    "n_clusters = 10\n",
    "kmeans = KMeans(n_clusters=n_clusters, n_init=50, random_state=0)\n",
    "kmeans.fit_predict(Z)\n",
    "labels = kmeans.labels_\n",
    "\n",
    "print('Running time is ', (time.time() - start_time))"
   ]
  },
  {
   "cell_type": "code",
   "execution_count": 13,
   "metadata": {},
   "outputs": [],
   "source": [
    "# Reconstructing the clusters\n",
    "indices_path = '/data/bioprotean/ABA/MEMMAP/genes_list/mask_indices.npy'\n",
    "labels_rc = reconstruct_ABA(labels, indices_path)"
   ]
  },
  {
   "cell_type": "code",
   "execution_count": 14,
   "metadata": {},
   "outputs": [
    {
     "data": {
      "text/plain": [
       "<matplotlib.image.AxesImage at 0x2b79f001df98>"
      ]
     },
     "execution_count": 14,
     "metadata": {},
     "output_type": "execute_result"
    },
    {
     "data": {
      "image/png": "[encoded data removed]",
      "text/plain": [
       "<Figure size 432x288 with 1 Axes>"
      ]
     },
     "metadata": {
      "needs_background": "light"
     },
     "output_type": "display_data"
    }
   ],
   "source": [
    "#Visualizing one slice\n",
    "vol = labels_rc.reshape(67,58,41)\n",
    "s = vol[20,:,:]\n",
    "plt.imshow(s)"
   ]
  },
  {
   "cell_type": "code",
   "execution_count": null,
   "metadata": {},
   "outputs": [],
   "source": []
  }
 ],
 "metadata": {
  "kernelspec": {
   "display_name": "Py3-basic",
   "language": "python",
   "name": "python3"
  },
  "language_info": {
   "codemirror_mode": {
    "name": "ipython",
    "version": 3
   },
   "file_extension": ".py",
   "mimetype": "text/x-python",
   "name": "python",
   "nbconvert_exporter": "python",
   "pygments_lexer": "ipython3",
   "version": "3.7.2"
  }
 },
 "nbformat": 4,
 "nbformat_minor": 2
}
