{
 "cells": [
  {
   "cell_type": "code",
   "execution_count": 1,
   "metadata": {},
   "outputs": [],
   "source": [
    "%run nifti_tools.ipynb"
   ]
  },
  {
   "cell_type": "markdown",
   "metadata": {},
   "source": [
    "File nclusters_11 hast a correct Header file for AFNI.\n",
    "<br>It will be used for all other files."
   ]
  },
  {
   "cell_type": "code",
   "execution_count": 4,
   "metadata": {},
   "outputs": [],
   "source": [
    "base = '/data/bioprotean/SVD/clusters/complete/nclusters_11.nii'\n",
    "for i in range(1,51):\n",
    "    input = '/data/bioprotean/SVD/clusters/complete/nclusters_'+str(i)+'.nii'\n",
    "    outfile = '/data/bioprotean/SVD/clusters/complete/fixed_header/nclusters_fixed'+str(i)+'.nii'\n",
    "    copy_nifti_header(base, input, outfile)"
   ]
  },
  {
   "cell_type": "code",
   "execution_count": null,
   "metadata": {},
   "outputs": [],
   "source": []
  }
 ],
 "metadata": {
  "kernelspec": {
   "display_name": "Py3-basic",
   "language": "python",
   "name": "python3"
  },
  "language_info": {
   "codemirror_mode": {
    "name": "ipython",
    "version": 3
   },
   "file_extension": ".py",
   "mimetype": "text/x-python",
   "name": "python",
   "nbconvert_exporter": "python",
   "pygments_lexer": "ipython3",
   "version": "3.7.2"
  }
 },
 "nbformat": 4,
 "nbformat_minor": 2
}
