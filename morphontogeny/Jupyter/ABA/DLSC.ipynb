{
 "cells": [
  {
   "cell_type": "code",
   "execution_count": null,
   "metadata": {},
   "outputs": [],
   "source": [
    "import numpy as np\n",
    "import concurrent.futures as cf\n",
    "import matplotlib.pyplot as plt\n",
    "from sklearn.decomposition import dict_learning_online\n",
    "%matplotlib inline\n",
    "import nibabel as nib\n",
    "%run nifti_tools.ipynb"
   ]
  },
  {
   "cell_type": "code",
   "execution_count": null,
   "metadata": {},
   "outputs": [],
   "source": [
    "# Loading the standardized matrix\n",
    "X_std = np.memmap('/data/bioprotean/SVD/vg/matx_vg_scaled.mymemmap', dtype='float32', \\\n",
    "mode='r', shape=(159326,2941))\n",
    "\n",
    "# Defining the number of components to do DLSC\n",
    "# range(start, stop, step)\n",
    "n = list(range(650, 1001, 50))\n",
    "\n",
    "for i in n:\n",
    "    # Creating a DLSC instance and computing it\n",
    "    dict_learner = dict_learning_online(X_std, n_components=i, return_code=True, n_jobs=-1, \\\n",
    "random_state=42)\n",
    "    \n",
    "    # Saving to file\n",
    "    np.save('/data/bioprotean/ABA/DLSC/code/code_'+str(i)+'.npy', dict_learner[0])\n",
    "    np.save('/data/bioprotean/ABA/DLSC/dictionary/dictionary_'+str(i)+'.npy', dict_learner[1])"
   ]
  },
  {
   "cell_type": "code",
   "execution_count": 16,
   "metadata": {},
   "outputs": [],
   "source": [
    "# Loading the components file\n",
    "code = np.load('/data/bioprotean/ABA/DLSC/dict_learning_online/code_200.npy')"
   ]
  },
  {
   "cell_type": "code",
   "execution_count": 31,
   "metadata": {},
   "outputs": [
    {
     "data": {
      "text/plain": [
       "<matplotlib.image.AxesImage at 0x2aee52a56eb8>"
      ]
     },
     "execution_count": 31,
     "metadata": {},
     "output_type": "execute_result"
    },
    {
     "data": {
      "image/png": "[encoded data removed]",
      "text/plain": [
       "<Figure size 432x288 with 1 Axes>"
      ]
     },
     "metadata": {
      "needs_background": "light"
     },
     "output_type": "display_data"
    }
   ],
   "source": [
    "# Visualizing slices of the DLSC\n",
    "\n",
    "# Choosing the component number and slice number to see\n",
    "component_n = 20\n",
    "slice_n = 20\n",
    "volume = code[:, component_n].reshape(67,58,41)\n",
    "slice = volume[slice_n,:,:]\n",
    "plt.imshow(slice)"
   ]
  },
  {
   "cell_type": "code",
   "execution_count": null,
   "metadata": {},
   "outputs": [],
   "source": []
  }
 ],
 "metadata": {
  "kernelspec": {
   "display_name": "Py3-basic",
   "language": "python",
   "name": "python3"
  },
  "language_info": {
   "codemirror_mode": {
    "name": "ipython",
    "version": 3
   },
   "file_extension": ".py",
   "mimetype": "text/x-python",
   "name": "python",
   "nbconvert_exporter": "python",
   "pygments_lexer": "ipython3",
   "version": "3.7.2"
  }
 },
 "nbformat": 4,
 "nbformat_minor": 2
}
