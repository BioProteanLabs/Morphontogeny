{
 "cells": [
  {
   "cell_type": "markdown",
   "metadata": {},
   "source": [
    "# Mutual Information score"
   ]
  },
  {
   "cell_type": "code",
   "execution_count": 1,
   "metadata": {},
   "outputs": [],
   "source": [
    "import time\n",
    "import numpy as np\n",
    "import pandas as pd\n",
    "import matplotlib.pyplot as plt\n",
    "from sklearn.metrics import adjusted_mutual_info_score as AMI\n",
    "from sklearn.metrics import normalized_mutual_info_score as NMI\n",
    "%matplotlib inline\n",
    "%run nifti_tools.ipynb"
   ]
  },
  {
   "cell_type": "code",
   "execution_count": 26,
   "metadata": {},
   "outputs": [
    {
     "name": "stdout",
     "output_type": "stream",
     "text": [
      "0.581191676493668\n",
      "0.6209993297758435\n"
     ]
    }
   ],
   "source": [
    "# Sample NMI and AMI score\n",
    "\n",
    "# Loading the Allen Reference Atlas\n",
    "allen_path = '/data/bioprotean/ABA/PCA/80_variance/allen_annot200.nii'\n",
    "reference = nifti_to_vector(allen_path)\n",
    "\n",
    "# Loading a sample K-means cluster\n",
    "cluster_path = '/data/bioprotean/ABA/PCA/80_variance/Kmeans_labels/594_clusters.npy'\n",
    "cluster = np.load(cluster_path).flatten()\n",
    "\n",
    "print(AMI(cluster, reference))\n",
    "print(NMI(cluster, reference))"
   ]
  },
  {
   "cell_type": "code",
   "execution_count": 2,
   "metadata": {},
   "outputs": [],
   "source": [
    "# AMI score for PCA + K-means clusters\n",
    "\n",
    "# Making a dataframe of AMI score for PCA clusters\n",
    "score_df = pd.DataFrame(columns=['K','AMI','Silhouette'])\n",
    "\n",
    "# Loading the Allen Reference Atlas\n",
    "allen_path = '/data/bioprotean/ABA/PCA/80_variance/allen_annot200.nii'\n",
    "reference = nifti_to_vector(allen_path)\n",
    "\n",
    "# List of K values\n",
    "numbers_list = list(range(1,50))\n",
    "extra_list = list(range(50,551,50))\n",
    "add_number = 594\n",
    "numbers_list.extend(extra_list)\n",
    "numbers_list.append(add_number)\n",
    "\n",
    "# The list of scores\n",
    "AMI_list = []\n",
    "\n",
    "for i in numbers_list:\n",
    "    # Loading the labels\n",
    "    cluster_path = '/data/bioprotean/ABA/PCA/80_variance/Kmeans_labels/'+str(i)+'_clusters.npy'\n",
    "    cluster = np.load(cluster_path).flatten()\n",
    "    \n",
    "    AMI_list.append(AMI(reference, cluster))\n",
    "    \n",
    "# Adding values to DataFrame\n",
    "score_df['K'] = numbers_list\n",
    "score_df['AMI'] = AMI_list\n",
    "\n",
    "# Saving to CSV\n",
    "score_df.to_csv('/data/bioprotean/ABA/PCA/80_variance/PC_80v_score.csv')"
   ]
  },
  {
   "cell_type": "code",
   "execution_count": 3,
   "metadata": {},
   "outputs": [],
   "source": [
    "# AMI score for DLSC + K-means clusters\n",
    "\n",
    "# Making a dataframe of AMI score for PCA clusters\n",
    "score_df = pd.DataFrame(columns=['K','AMI','Silhouette'])\n",
    "\n",
    "# Loading the Allen Reference Atlas\n",
    "allen_path = '/data/bioprotean/ABA/PCA/80_variance/allen_annot200.nii'\n",
    "reference = nifti_to_vector(allen_path)\n",
    "\n",
    "# List of K values\n",
    "numbers_list = list(range(1,50))\n",
    "extra_list = list(range(50,551,50))\n",
    "add_number = 594\n",
    "numbers_list.extend(extra_list)\n",
    "numbers_list.append(add_number)\n",
    "\n",
    "# The list of scores\n",
    "AMI_list = []\n",
    "\n",
    "for i in numbers_list:\n",
    "    # Loading the labels\n",
    "    cluster_path = '/data/bioprotean/ABA/DLSC/pos_std/Kmeans_labels/'+str(i)+'_clusters.npy'\n",
    "    cluster = np.load(cluster_path).flatten()\n",
    "    \n",
    "    AMI_list.append(AMI(reference, cluster))\n",
    "    \n",
    "# Adding values to DataFrame\n",
    "score_df['K'] = numbers_list\n",
    "score_df['AMI'] = AMI_list\n",
    "\n",
    "# Saving to CSV\n",
    "score_df.to_csv('/data/bioprotean/ABA/DLSC/pos_std/DLSC_100_score.csv')"
   ]
  },
  {
   "cell_type": "code",
   "execution_count": null,
   "metadata": {},
   "outputs": [],
   "source": []
  }
 ],
 "metadata": {
  "kernelspec": {
   "display_name": "Py3-basic",
   "language": "python",
   "name": "python3"
  },
  "language_info": {
   "codemirror_mode": {
    "name": "ipython",
    "version": 3
   },
   "file_extension": ".py",
   "mimetype": "text/x-python",
   "name": "python",
   "nbconvert_exporter": "python",
   "pygments_lexer": "ipython3",
   "version": "3.7.2"
  }
 },
 "nbformat": 4,
 "nbformat_minor": 2
}
