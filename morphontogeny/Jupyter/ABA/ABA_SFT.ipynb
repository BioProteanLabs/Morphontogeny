{
 "cells": [
  {
   "cell_type": "code",
   "execution_count": 1,
   "metadata": {},
   "outputs": [],
   "source": [
    "import time\n",
    "import numpy as np\n",
    "import pandas as pd\n",
    "from sklearn.cluster import KMeans\n",
    "from sparse_filtering import SparseFiltering\n",
    "from libnmf.gnmf import GNMF\n",
    "import matplotlib.pyplot as plt\n",
    "%matplotlib inline\n",
    "%run nifti_tools.ipynb\n",
    "%run overlap_functions.ipynb"
   ]
  },
  {
   "cell_type": "code",
   "execution_count": null,
   "metadata": {},
   "outputs": [],
   "source": [
    "!pip install sparse_filtering"
   ]
  },
  {
   "cell_type": "code",
   "execution_count": 2,
   "metadata": {},
   "outputs": [],
   "source": [
    "# Loading the voxel * gene matrix\n",
    "X = np.load('/data/bioprotean/ABA/MEMMAP/genes_list/genes_half_mask_pos_std.npy')"
   ]
  },
  {
   "cell_type": "code",
   "execution_count": 42,
   "metadata": {},
   "outputs": [],
   "source": [
    "n_features = 300\n",
    "# How many features are learned\n",
    "\n",
    "estimator = SparseFiltering(n_features = n_features, maxfun = 200, iprint = 10)\n",
    "# The maximal number of evaluations of the objective function\n",
    "# after how many function evaluations is information printed\n",
    "# by L-BFGS. -1 for no information\n",
    "features = estimator.fit_transform(X)\n",
    "\n",
    "# Saving features\n",
    "np.save('/data/bioprotean/ABA/SFT/half_mask_'+str(n_features)+'.npy', features)"
   ]
  },
  {
   "cell_type": "code",
   "execution_count": null,
   "metadata": {},
   "outputs": [],
   "source": [
    "# Running the SFT for different number of features\n",
    "\n",
    "# List of numbers\n",
    "numbers_list = range(50,601,50)\n",
    "\n",
    "for n in numbers_list:\n",
    "    estimator = SparseFiltering(n_features = n, maxfun = 200, iprint = 10)\n",
    "    features = estimator.fit_transform(X)\n",
    "    weights = estimator.w_\n",
    "    \n",
    "    # Saving features and weights\n",
    "    np.save('/data/bioprotean/ABA/SFT/'+str(n)+'_features.npy', features)\n",
    "    np.save('/data/bioprotean/ABA/SFT/'+str(n)+'_weights.npy', weights)"
   ]
  },
  {
   "cell_type": "code",
   "execution_count": null,
   "metadata": {},
   "outputs": [],
   "source": [
    "# Running the SFT for different number of features\n",
    "\n",
    "# List of feature numbers\n",
    "features_list = range(50,601,50)\n",
    "\n",
    "# List of cluster numbers\n",
    "numbers_list = list(range(1,50))\n",
    "extra_list = list(range(50,551,50))\n",
    "add_number = 594\n",
    "numbers_list.extend(extra_list)\n",
    "numbers_list.append(add_number)\n",
    "\n",
    "for n_features in features_list:\n",
    "    # Loading features\n",
    "    features = np.load('/data/bioprotean/ABA/SFT/'+str(n_features)+'_features.npy')\n",
    "    \n",
    "    # Running K-means\n",
    "    for n_clusters in numbers_list:\n",
    "        kmeans = KMeans(n_clusters = n_clusters, n_init = 50, random_state = 0)\n",
    "        kmeans.fit_predict(X)\n",
    "        labels = kmeans.labels_\n",
    "        \n",
    "        # Saving the labels\n",
    "        np.save('/data/bioprotean/ABA/SFT/'+str(n_features)+'features_'+str(n_clusters)+'_clusters.npy', labels)"
   ]
  },
  {
   "cell_type": "code",
   "execution_count": 71,
   "metadata": {},
   "outputs": [
    {
     "data": {
      "text/plain": [
       "118472.68866407534"
      ]
     },
     "execution_count": 71,
     "metadata": {},
     "output_type": "execute_result"
    }
   ],
   "source": [
    "estimator.w_[0][4]"
   ]
  },
  {
   "cell_type": "code",
   "execution_count": 56,
   "metadata": {},
   "outputs": [],
   "source": [
    "# Running K-means on features\n",
    "n_clusters = 200\n",
    "kmeans = KMeans(n_clusters=n_clusters, n_init=50, random_state=0)\n",
    "kmeans.fit_predict(features)\n",
    "labels = kmeans.labels_"
   ]
  },
  {
   "cell_type": "code",
   "execution_count": 54,
   "metadata": {},
   "outputs": [],
   "source": [
    "# Reconstructing the labels\n",
    "indices_path = '/data/bioprotean/ABA/MEMMAP/genes_list/half_indices.npy'\n",
    "labels_rc = reconstruct_ABA(labels, indices_path)"
   ]
  },
  {
   "cell_type": "code",
   "execution_count": 58,
   "metadata": {},
   "outputs": [
    {
     "data": {
      "text/plain": [
       "<matplotlib.image.AxesImage at 0x2ab2f42801d0>"
      ]
     },
     "execution_count": 58,
     "metadata": {},
     "output_type": "execute_result"
    },
    {
     "data": {
      "image/png": "[encoded data removed]",
      "text/plain": [
       "<Figure size 432x288 with 1 Axes>"
      ]
     },
     "metadata": {
      "needs_background": "light"
     },
     "output_type": "display_data"
    }
   ],
   "source": [
    "#Visualizing one slice\n",
    "vol = labels_rc.reshape(67,58,41)\n",
    "s = vol[30,:,:]\n",
    "plt.imshow(s)"
   ]
  },
  {
   "cell_type": "code",
   "execution_count": null,
   "metadata": {},
   "outputs": [],
   "source": [
    "# Running for list of numbers\n",
    "\n",
    "numbers_list = list(range(1,50))\n",
    "extra_list = list(range(50,551,50))\n",
    "add_number = 594\n",
    "numbers_list.extend(extra_list)\n",
    "numbers_list.append(add_number)\n",
    "\n",
    "# Running K-means on features\n",
    "for n in numbers_list:\n",
    "    kmeans = KMeans(n_clusters = n, n_init = 50, random_state = 0)\n",
    "    kmeans.fit_predict(features)\n",
    "    \n",
    "    # Saving the labels\n",
    "    labels = kmeans.labels_\n",
    "    labels_path = '/data/bioprotean/ABA/SFT/Kmeans/'+str(n)+'_clusters.npy'\n",
    "    np.save(labels_path, labels)"
   ]
  },
  {
   "cell_type": "code",
   "execution_count": 51,
   "metadata": {},
   "outputs": [],
   "source": [
    "# Reconstructing all clusters\n",
    "\n",
    "# List of numbers\n",
    "numbers_list = list(range(1,50))\n",
    "extra_list = list(range(50,551,50))\n",
    "add_number = 594\n",
    "numbers_list.extend(extra_list)\n",
    "numbers_list.append(add_number)\n",
    "\n",
    "# Loading K-means clusters\n",
    "for i in numbers_list:\n",
    "    # Loading the labels\n",
    "    labels_path = '/data/bioprotean/ABA/SFT/Kmeans/'+str(i)+'_clusters.npy'\n",
    "    labels = np.load(labels_path)\n",
    "    \n",
    "    # Reconstructing the clusters\n",
    "    indices_path = '/data/bioprotean/ABA/MEMMAP/genes_list/half_indices.npy'\n",
    "    labels_rc = reconstruct_ABA(labels, indices_path)\n",
    "    \n",
    "    # Saving to file\n",
    "    save_path = '/data/bioprotean/ABA/SFT/Kmeans_rc/'+str(i)+'_clusters.npy'\n",
    "    np.save(save_path, labels_rc)"
   ]
  },
  {
   "cell_type": "code",
   "execution_count": null,
   "metadata": {},
   "outputs": [],
   "source": [
    "# Finding best number of features\n"
   ]
  }
 ],
 "metadata": {
  "kernelspec": {
   "display_name": "Py3-basic",
   "language": "python",
   "name": "python3"
  },
  "language_info": {
   "codemirror_mode": {
    "name": "ipython",
    "version": 3
   },
   "file_extension": ".py",
   "mimetype": "text/x-python",
   "name": "python",
   "nbconvert_exporter": "python",
   "pygments_lexer": "ipython3",
   "version": "3.7.2"
  }
 },
 "nbformat": 4,
 "nbformat_minor": 2
}
