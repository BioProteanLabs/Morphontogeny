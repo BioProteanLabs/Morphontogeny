{
 "cells": [
  {
   "cell_type": "code",
   "execution_count": 1,
   "metadata": {},
   "outputs": [],
   "source": [
    "import time\n",
    "import numpy as np\n",
    "import pandas as pd\n",
    "from sklearn.cluster import KMeans\n",
    "from sparse_filtering import SparseFiltering\n",
    "from libnmf.gnmf import GNMF\n",
    "import matplotlib.pyplot as plt\n",
    "%matplotlib inline\n",
    "%run nifti_tools.ipynb\n",
    "%run overlap_functions.ipynb"
   ]
  },
  {
   "cell_type": "code",
   "execution_count": null,
   "metadata": {},
   "outputs": [],
   "source": [
    "!pip install sparse_filtering"
   ]
  },
  {
   "cell_type": "code",
   "execution_count": 2,
   "metadata": {},
   "outputs": [],
   "source": [
    "# Loading the voxel * gene matrix\n",
    "X = np.load('/data/bioprotean/ABA/MEMMAP/genes_list/genes_half_mask_pos_std.npy')"
   ]
  },
  {
   "cell_type": "code",
   "execution_count": 42,
   "metadata": {},
   "outputs": [],
   "source": [
    "n_features = 300\n",
    "# How many features are learned\n",
    "\n",
    "estimator = SparseFiltering(n_features = n_features, maxfun = 200, iprint = 10)\n",
    "# The maximal number of evaluations of the objective function\n",
    "# after how many function evaluations is information printed\n",
    "# by L-BFGS. -1 for no information\n",
    "features = estimator.fit_transform(X)\n",
    "\n",
    "# Saving features\n",
    "np.save('/data/bioprotean/ABA/SFT/half_mask_'+str(n_features)+'.npy', features)"
   ]
  },
  {
   "cell_type": "code",
   "execution_count": null,
   "metadata": {},
   "outputs": [],
   "source": [
    "# Running the SFT for different number of features\n",
    "\n",
    "# List of numbers\n",
    "numbers_list = range(50,601,50)\n",
    "\n",
    "for n in numbers_list:\n",
    "    estimator = SparseFiltering(n_features = n, maxfun = 200, iprint = 10)\n",
    "    features = estimator.fit_transform(X)\n",
    "    weights = estimator.w_\n",
    "    \n",
    "    # Saving features and weights\n",
    "    np.save('/data/bioprotean/ABA/SFT/'+str(n)+'_features.npy', features)\n",
    "    np.save('/data/bioprotean/ABA/SFT/'+str(n)+'_weights.npy', weights)"
   ]
  },
  {
   "cell_type": "code",
   "execution_count": null,
   "metadata": {},
   "outputs": [],
   "source": [
    "# Running the SFT for different number of features\n",
    "\n",
    "# List of feature numbers\n",
    "features_list = range(50,601,50)\n",
    "\n",
    "# List of cluster numbers\n",
    "numbers_list = list(range(1,50))\n",
    "extra_list = list(range(50,551,50))\n",
    "add_number = 594\n",
    "numbers_list.extend(extra_list)\n",
    "numbers_list.append(add_number)\n",
    "\n",
    "for n_features in features_list:\n",
    "    # Loading features\n",
    "    features = np.load('/data/bioprotean/ABA/SFT/'+str(n_features)+'_features.npy')\n",
    "    \n",
    "    # Running K-means\n",
    "    for n_clusters in numbers_list:\n",
    "        kmeans = KMeans(n_clusters = n_clusters, n_init = 50, random_state = 0)\n",
    "        kmeans.fit_predict(X)\n",
    "        labels = kmeans.labels_\n",
    "        \n",
    "        # Saving the labels\n",
    "        np.save('/data/bioprotean/ABA/SFT/'+str(n_features)+'features_'+str(n_clusters)+'_clusters.npy', labels)"
   ]
  },
  {
   "cell_type": "code",
   "execution_count": 71,
   "metadata": {},
   "outputs": [
    {
     "data": {
      "text/plain": [
       "118472.68866407534"
      ]
     },
     "execution_count": 71,
     "metadata": {},
     "output_type": "execute_result"
    }
   ],
   "source": [
    "estimator.w_[0][4]"
   ]
  },
  {
   "cell_type": "code",
   "execution_count": 56,
   "metadata": {},
   "outputs": [],
   "source": [
    "# Running K-means on features\n",
    "n_clusters = 200\n",
    "kmeans = KMeans(n_clusters=n_clusters, n_init=50, random_state=0)\n",
    "kmeans.fit_predict(features)\n",
    "labels = kmeans.labels_"
   ]
  },
  {
   "cell_type": "code",
   "execution_count": 54,
   "metadata": {},
   "outputs": [],
   "source": [
    "# Reconstructing the labels\n",
    "indices_path = '/data/bioprotean/ABA/MEMMAP/genes_list/half_indices.npy'\n",
    "labels_rc = reconstruct_ABA(labels, indices_path)"
   ]
  },
  {
   "cell_type": "code",
   "execution_count": 58,
   "metadata": {},
   "outputs": [
    {
     "data": {
      "text/plain": [
       "<matplotlib.image.AxesImage at 0x2ab2f42801d0>"
      ]
     },
     "execution_count": 58,
     "metadata": {},
     "output_type": "execute_result"
    },
    {
     "data": {
      "image/png": "[encoded data removed]",
      "text/plain": [
       "<Figure size 432x288 with 1 Axes>"
      ]
     },
     "metadata": {
      "needs_background": "light"
     },
     "output_type": "display_data"
    }
   ],
   "source": [
    "#Visualizing one slice\n",
    "vol = labels_rc.reshape(67,58,41)\n",
    "s = vol[30,:,:]\n",
    "plt.imshow(s)"
   ]
  },
  {
   "cell_type": "code",
   "execution_count": null,
   "metadata": {},
   "outputs": [],
   "source": [
    "# Running for list of numbers\n",
    "\n",
    "numbers_list = list(range(1,50))\n",
    "extra_list = list(range(50,551,50))\n",
    "add_number = 594\n",
    "numbers_list.extend(extra_list)\n",
    "numbers_list.append(add_number)\n",
    "\n",
    "# Running K-means on features\n",
    "for n in numbers_list:\n",
    "    kmeans = KMeans(n_clusters = n, n_init = 50, random_state = 0)\n",
    "    kmeans.fit_predict(features)\n",
    "    \n",
    "    # Saving the labels\n",
    "    labels = kmeans.labels_\n",
    "    labels_path = '/data/bioprotean/ABA/SFT/Kmeans/'+str(n)+'_clusters.npy'\n",
    "    np.save(labels_path, labels)"
   ]
  },
  {
   "cell_type": "code",
   "execution_count": 51,
   "metadata": {},
   "outputs": [],
   "source": [
    "# Reconstructing all clusters\n",
    "\n",
    "# List of numbers\n",
    "numbers_list = list(range(1,50))\n",
    "extra_list = list(range(50,551,50))\n",
    "add_number = 594\n",
    "numbers_list.extend(extra_list)\n",
    "numbers_list.append(add_number)\n",
    "\n",
    "# Loading K-means clusters\n",
    "for i in numbers_list:\n",
    "    # Loading the labels\n",
    "    labels_path = '/data/bioprotean/ABA/SFT/Kmeans/'+str(i)+'_clusters.npy'\n",
    "    labels = np.load(labels_path)\n",
    "    \n",
    "    # Reconstructing the clusters\n",
    "    indices_path = '/data/bioprotean/ABA/MEMMAP/genes_list/half_indices.npy'\n",
    "    labels_rc = reconstruct_ABA(labels, indices_path)\n",
    "    \n",
    "    # Saving to file\n",
    "    save_path = '/data/bioprotean/ABA/SFT/Kmeans_rc/'+str(i)+'_clusters.npy'\n",
    "    np.save(save_path, labels_rc)"
   ]
  },
  {
   "cell_type": "code",
   "execution_count": 10,
   "metadata": {},
   "outputs": [],
   "source": [
    "def plot_feature_slice(features_arr, feature_n, slice_n):\n",
    "    '''\n",
    "    Plotting a feature in the selected slice.\n",
    "    \n",
    "    Args:\n",
    "        features_arr: array\n",
    "            The features array.\n",
    "        \n",
    "        feature_n: int\n",
    "            The number of the feature.\n",
    "        \n",
    "        slice_n: int\n",
    "            The number of the slice to show.\n",
    "    \n",
    "    Returns:\n",
    "        plot\n",
    "    '''\n",
    "    # Selecting the feature from the main features array\n",
    "    feature = features_arr[:, feature_n]\n",
    "    \n",
    "    # Reconstructing the features\n",
    "    indices_path = '/data/bioprotean/ABA/MEMMAP/genes_list/half_indices.npy'\n",
    "    feature_rc = reconstruct_ABA(feature, indices_path)\n",
    "    \n",
    "    # Reshaping the feature vector and selecting the slice\n",
    "    feature_3D = feature_rc.reshape(67,58,41)\n",
    "    slice = feature_3D[slice_n,:,:]\n",
    "    plt.imshow(slice)"
   ]
  },
  {
   "cell_type": "code",
   "execution_count": 18,
   "metadata": {},
   "outputs": [
    {
     "data": {
      "image/png": "[encoded data removed]",
      "text/plain": [
       "<Figure size 432x288 with 1 Axes>"
      ]
     },
     "metadata": {
      "needs_background": "light"
     },
     "output_type": "display_data"
    }
   ],
   "source": [
    "# Loading the featues array\n",
    "features_path = '/data/bioprotean/ABA/SFT/100_features.npy'\n",
    "features = np.load(features_path)\n",
    "\n",
    "feature_n = 4\n",
    "slice_n = 10\n",
    "plot_feature_slice(features, feature_n, slice_n)"
   ]
  },
  {
   "cell_type": "code",
   "execution_count": 24,
   "metadata": {},
   "outputs": [
    {
     "data": {
      "text/plain": [
       "<matplotlib.image.AxesImage at 0x2b5b5bf21908>"
      ]
     },
     "execution_count": 24,
     "metadata": {},
     "output_type": "execute_result"
    },
    {
     "data": {
      "image/png": "[encoded data removed]",
      "text/plain": [
       "<Figure size 432x288 with 1 Axes>"
      ]
     },
     "metadata": {
      "needs_background": "light"
     },
     "output_type": "display_data"
    }
   ],
   "source": [
    "# Loading the featues array\n",
    "features_path = '/data/bioprotean/ABA/SFT/100_features.npy'\n",
    "features = np.load(features_path)\n",
    "\n",
    "feature_n = 5\n",
    "slice_n = 10\n",
    "\n",
    "# Selecting the feature from the main features array\n",
    "feature = features[:, feature_n]\n",
    "\n",
    "# Reconstructing the features\n",
    "indices_path = '/data/bioprotean/ABA/MEMMAP/genes_list/half_indices.npy'\n",
    "feature_rc = reconstruct_ABA(feature, indices_path)\n",
    "\n",
    "# Reshaping the feature vector and selecting the slice\n",
    "feature_3D = feature_rc.reshape(67,58,41)\n",
    "slice = feature_3D[slice_n,:,:]\n",
    "plt.imshow(slice)"
   ]
  },
  {
   "cell_type": "code",
   "execution_count": 2,
   "metadata": {},
   "outputs": [],
   "source": [
    "# Reconstructing the labels\n",
    "labels_path = '/data/bioprotean/ABA/SFT/clusters/100features_594_clusters.npy'\n",
    "labels = np.load(labels_path)\n",
    "\n",
    "# Reconstructing the clusters\n",
    "indices_path = '/data/bioprotean/ABA/MEMMAP/genes_list/half_indices.npy'\n",
    "labels_rc = reconstruct_ABA(labels, indices_path)\n",
    "\n",
    "np.save('/data/bioprotean/ABA/SFT/100f_594c_rc.npy', labels_rc)"
   ]
  },
  {
   "cell_type": "code",
   "execution_count": 4,
   "metadata": {},
   "outputs": [],
   "source": [
    "# Loading the features\n",
    "features_path = '/data/bioprotean/ABA/SFT/100_features.npy'\n",
    "features = np.load(features_path)"
   ]
  },
  {
   "cell_type": "code",
   "execution_count": 15,
   "metadata": {},
   "outputs": [
    {
     "data": {
      "text/plain": [
       "array([False, False, False, ..., False, False, False])"
      ]
     },
     "execution_count": 15,
     "metadata": {},
     "output_type": "execute_result"
    }
   ],
   "source": [
    "np.equal(features[:,10],features[:,11])"
   ]
  },
  {
   "cell_type": "code",
   "execution_count": 24,
   "metadata": {},
   "outputs": [
    {
     "data": {
      "text/plain": [
       "<matplotlib.image.AxesImage at 0x2b02b8486cf8>"
      ]
     },
     "execution_count": 24,
     "metadata": {},
     "output_type": "execute_result"
    },
    {
     "data": {
      "image/png": "[encoded data removed]",
      "text/plain": [
       "<Figure size 432x288 with 1 Axes>"
      ]
     },
     "metadata": {
      "needs_background": "light"
     },
     "output_type": "display_data"
    }
   ],
   "source": [
    "# Reconstructing the selected feature\n",
    "indices_path = '/data/bioprotean/ABA/MEMMAP/genes_list/half_indices.npy'\n",
    "feature_n = 7\n",
    "feature1 = features[:, feature_n]\n",
    "feature_rc1 = reconstruct_ABA(feature1, indices_path)\n",
    "\n",
    "# Visualizing the feature\n",
    "slice = features_rc1[:,10,:]\n",
    "plt.imshow(slice)"
   ]
  },
  {
   "cell_type": "code",
   "execution_count": 25,
   "metadata": {},
   "outputs": [],
   "source": [
    "indices_path = '/data/bioprotean/ABA/MEMMAP/genes_list/half_indices.npy'\n",
    "feature_n = 0\n",
    "feature2 = features[:, feature_n]\n",
    "feature_rc2 = reconstruct_ABA(feature2, indices_path)"
   ]
  },
  {
   "cell_type": "code",
   "execution_count": 29,
   "metadata": {},
   "outputs": [
    {
     "data": {
      "text/plain": [
       "159326"
      ]
     },
     "execution_count": 29,
     "metadata": {},
     "output_type": "execute_result"
    }
   ],
   "source": [
    "np.equal(feature_rc2, feature_rc1).sum()"
   ]
  },
  {
   "cell_type": "code",
   "execution_count": 44,
   "metadata": {},
   "outputs": [
    {
     "data": {
      "text/plain": [
       "(31512,)"
      ]
     },
     "execution_count": 44,
     "metadata": {},
     "output_type": "execute_result"
    }
   ],
   "source": [
    "np.unique(feature2).shape"
   ]
  },
  {
   "cell_type": "code",
   "execution_count": 45,
   "metadata": {},
   "outputs": [
    {
     "data": {
      "text/plain": [
       "(1, 31512)"
      ]
     },
     "execution_count": 45,
     "metadata": {},
     "output_type": "execute_result"
    }
   ],
   "source": [
    "np.load(indices_path).shape"
   ]
  },
  {
   "cell_type": "code",
   "execution_count": 47,
   "metadata": {},
   "outputs": [
    {
     "data": {
      "text/plain": [
       "(31512,)"
      ]
     },
     "execution_count": 47,
     "metadata": {},
     "output_type": "execute_result"
    }
   ],
   "source": [
    "labels_path = '/data/bioprotean/ABA/SFT/clusters/100features_100_clusters.npy'\n",
    "np.load(labels_path)"
   ]
  },
  {
   "cell_type": "code",
   "execution_count": null,
   "metadata": {},
   "outputs": [],
   "source": []
  }
 ],
 "metadata": {
  "kernelspec": {
   "display_name": "Py3-basic",
   "language": "python",
   "name": "python3"
  },
  "language_info": {
   "codemirror_mode": {
    "name": "ipython",
    "version": 3
   },
   "file_extension": ".py",
   "mimetype": "text/x-python",
   "name": "python",
   "nbconvert_exporter": "python",
   "pygments_lexer": "ipython3",
   "version": "3.7.2"
  }
 },
 "nbformat": 4,
 "nbformat_minor": 2
}
