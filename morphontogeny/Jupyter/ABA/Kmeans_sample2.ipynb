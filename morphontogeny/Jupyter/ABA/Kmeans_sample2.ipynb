{
 "cells": [
  {
   "cell_type": "markdown",
   "metadata": {},
   "source": [
    "# PCA and K-means Clustering\n",
    "<br> Tutorial from: https://towardsdatascience.com/k-means-and-pca-for-image-clustering-a-visual-analysis-8e10d4abba40\n",
    "<br>So the plan is to perform k-means on the data-set but only after applying PCA on it.\n",
    "\n",
    "* Load the data-set from keras\n",
    "* Pre-process the data, flatten the data (from 60000 x 28 x 28 array to 60000 x 784 array)\n",
    "* Apply PCA on it to reduce the dimensions (784 to 420 using 0.98 variance)\n",
    "* Apply K-means clustering on the PC data-set (10 clusters)\n",
    "* Observe and Analyze the results using matplotlib and plotly\n",
    "\n",
    "**Same steps, but on our dataset!**"
   ]
  },
  {
   "cell_type": "code",
   "execution_count": null,
   "metadata": {},
   "outputs": [],
   "source": [
    "#Loading required libraries\n",
    "import numpy as np\n",
    "import matplotlib.pyplot as plt\n",
    "from sklearn.preprocessing import StandardScaler\n",
    "from sklearn.cluster import KMeans\n",
    "from sklearn.decomposition import PCA"
   ]
  },
  {
   "cell_type": "code",
   "execution_count": null,
   "metadata": {},
   "outputs": [],
   "source": [
    "# Loading the matrix\n",
    "X = np.memmap('/data/bioprotean/SVD/vg/matx_vg_scaled.mymemmap', dtype='float32', mode='r', shape=(159326,2941))\n",
    "\n",
    "# Make an instance of the Model\n",
    "variance = 0.90 #The higher the explained variance the more accurate the model will remain, but more dimensions will be present\n",
    "pca = PCA(variance)"
   ]
  },
  {
   "cell_type": "code",
   "execution_count": null,
   "metadata": {},
   "outputs": [],
   "source": [
    "#fit the data according to our PCA instance\n",
    "pca.fit(X)\n",
    "print(\"Number of components before PCA  = \" + str(X.shape[1]))\n",
    "print(\"Number of components after PCA 0.90 = \" + str(pca.n_components_)) "
   ]
  },
  {
   "cell_type": "code",
   "execution_count": null,
   "metadata": {},
   "outputs": [],
   "source": [
    "Clus_dataSet = pca.transform(X)\n",
    "print('Dimension of our data after PCA = '+ str(Clus_dataSet.shape))"
   ]
  },
  {
   "cell_type": "markdown",
   "metadata": {},
   "source": [
    "**K-means Clustering**\n",
    "\n",
    "* init : Initialization method of the centroids. Value will be: “k-means++”. k-means++: Selects initial cluster centers for k-mean clustering in a smart way to speed up convergence.\n",
    "\n",
    "* n_clusters : The number of clusters to form as well as the number of centroids to generate. Value will be: 10 ( we have 10 classes according to INDEX, might not be best but good enough for our context)\n",
    "\n",
    "* n_init : Number of time the k-means algorithm will be run with different centroid seeds. The final results will be the best output of n_init consecutive runs in terms of inertia. Value will be: 35 based on our inertia results (might not be the best but good enough for our context)"
   ]
  },
  {
   "cell_type": "code",
   "execution_count": null,
   "metadata": {},
   "outputs": [],
   "source": [
    "k_means = KMeans(init = 'k-means++', n_clusters = 8, n_init = 50)\n",
    "k_means.fit(Clus_dataSet)"
   ]
  },
  {
   "cell_type": "code",
   "execution_count": null,
   "metadata": {},
   "outputs": [],
   "source": [
    "# 3D visualization of clusters\n",
    "# install these if you haven’t\n",
    "!source activate base\n",
    "!pip install chart_studio --user\n",
    "!pip install plotly --user\n",
    "\n",
    "import plotly as py\n",
    "import plotly.graph_objs as go\n",
    "import plotly.express as px"
   ]
  },
  {
   "cell_type": "code",
   "execution_count": null,
   "metadata": {},
   "outputs": [],
   "source": [
    "!jupyter labextension list"
   ]
  },
  {
   "cell_type": "code",
   "execution_count": null,
   "metadata": {},
   "outputs": [],
   "source": [
    "!conda install -c conda-forge nodejs"
   ]
  },
  {
   "cell_type": "code",
   "execution_count": null,
   "metadata": {},
   "outputs": [],
   "source": [
    "!jupyter labextension install jupyterlab-plotly --debug"
   ]
  },
  {
   "cell_type": "code",
   "execution_count": null,
   "metadata": {},
   "outputs": [],
   "source": [
    "#3D Plotly Visualization of Clusters using go\n",
    "# Set notebook mode to work in offline\n",
    "py.offline.init_notebook_mode()\n",
    "layout = go.Layout(\n",
    "    title='<b>Cluster Visualisation</b>',\n",
    "    yaxis=dict(\n",
    "        title='<i>Y</i>'\n",
    "    ),\n",
    "    xaxis=dict(\n",
    "        title='<i>X</i>'\n",
    "    )\n",
    ")\n",
    "colors = ['red','green' ,'blue','purple','magenta','yellow','cyan','maroon','teal','black']\n",
    "trace = [ go.Scatter3d() for _ in range(11)]\n",
    "for i in range(0,10):\n",
    "    my_members = (k_means.labels_ == i)\n",
    "    index = [h for h, g in enumerate(my_members) if g]\n",
    "    trace[i] = go.Scatter3d(\n",
    "            x=Clus_dataSet[my_members, 0],# 0 is a component among the 420 components. Feel free to change it\n",
    "            y=Clus_dataSet[my_members, 1],# 1 is a component among the 420 components. Feel free to change it\n",
    "            z=Clus_dataSet[my_members, 2],# 2 is a component among the 420 components. Feel free to change it\n",
    "            mode='markers',\n",
    "            marker = dict(size = 2,color = colors[i]),\n",
    "            hovertext=index,\n",
    "            name='Cluster'+str(i),\n",
    "   \n",
    "            )\n",
    "fig = go.Figure(data=[trace[0],trace[1],trace[2],trace[3],trace[4],trace[5],trace[6],trace[7],trace[8],trace[9]], layout=layout)\n",
    "    \n",
    "py.offline.iplot(fig)"
   ]
  },
  {
   "cell_type": "code",
   "execution_count": null,
   "metadata": {},
   "outputs": [],
   "source": []
  }
 ],
 "metadata": {
  "kernelspec": {
   "display_name": "Py3-basic",
   "language": "python",
   "name": "python3"
  },
  "language_info": {
   "codemirror_mode": {
    "name": "ipython",
    "version": 3
   },
   "file_extension": ".py",
   "mimetype": "text/x-python",
   "name": "python",
   "nbconvert_exporter": "python",
   "pygments_lexer": "ipython3",
   "version": "3.7.2"
  }
 },
 "nbformat": 4,
 "nbformat_minor": 2
}
