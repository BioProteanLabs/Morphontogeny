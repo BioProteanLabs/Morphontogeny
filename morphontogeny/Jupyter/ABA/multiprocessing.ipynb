{
 "cells": [
  {
   "cell_type": "markdown",
   "metadata": {},
   "source": [
    "Tutorial from: https://www.youtube.com/watch?v=fKl2JW_qrso"
   ]
  },
  {
   "cell_type": "code",
   "execution_count": 8,
   "metadata": {},
   "outputs": [],
   "source": [
    "import multiprocessing as mp\n",
    "import concurrent.futures as cf\n",
    "import time"
   ]
  },
  {
   "cell_type": "code",
   "execution_count": 2,
   "metadata": {},
   "outputs": [
    {
     "name": "stdout",
     "output_type": "stream",
     "text": [
      "Sleeping 1 second ...\n",
      "Done sleeping...\n",
      "finished in 1.0 second(s).\n"
     ]
    }
   ],
   "source": [
    "start = time.perf_counter()\n",
    "\n",
    "def do_something():\n",
    "    print('Sleeping 1 second ...')\n",
    "    time.sleep(1)\n",
    "    print('Done sleeping...')\n",
    "    \n",
    "do_something()\n",
    "\n",
    "finish = time.perf_counter()\n",
    "\n",
    "print('finished in {} second(s).'.format(round(finish-start, 2)))"
   ]
  },
  {
   "cell_type": "code",
   "execution_count": 5,
   "metadata": {},
   "outputs": [
    {
     "name": "stdout",
     "output_type": "stream",
     "text": [
      "Sleeping 1 second ...\n",
      "Sleeping 1 second ...\n",
      "Done sleeping...\n",
      "Done sleeping...\n",
      "finished in 1.04 second(s).\n"
     ]
    }
   ],
   "source": [
    "start = time.perf_counter()\n",
    "\n",
    "def do_something():\n",
    "    print('Sleeping 1 second ...')\n",
    "    time.sleep(1)\n",
    "    print('Done sleeping...')\n",
    "    \n",
    "p1 = mp.Process(target=do_something)\n",
    "p2 = mp.Process(target=do_something)\n",
    "\n",
    "p1.start()\n",
    "p2.start()\n",
    "\n",
    "p1.join()\n",
    "p2.join()\n",
    "\n",
    "finish = time.perf_counter()\n",
    "\n",
    "print('finished in {} second(s).'.format(round(finish-start, 2)))"
   ]
  },
  {
   "cell_type": "code",
   "execution_count": 6,
   "metadata": {},
   "outputs": [
    {
     "name": "stdout",
     "output_type": "stream",
     "text": [
      "Sleeping 1 second ...\n",
      "Sleeping 1 second ...\n",
      "Sleeping 1 second ...\n",
      "Sleeping 1 second ...\n",
      "Sleeping 1 second ...\n",
      "Sleeping 1 second ...\n",
      "Sleeping 1 second ...\n",
      "Sleeping 1 second ...\n",
      "Sleeping 1 second ...\n",
      "Sleeping 1 second ...\n",
      "Done sleeping...\n",
      "Done sleeping...\n",
      "Done sleeping...\n",
      "Done sleeping...\n",
      "Done sleeping...\n",
      "Done sleeping...\n",
      "Done sleeping...\n",
      "Done sleeping...\n",
      "Done sleeping...\n",
      "Done sleeping...\n",
      "finished in 1.12 second(s).\n"
     ]
    }
   ],
   "source": [
    "start = time.perf_counter()\n",
    "\n",
    "def do_something():\n",
    "    print('Sleeping 1 second ...')\n",
    "    time.sleep(1)\n",
    "    print('Done sleeping...')\n",
    "\n",
    "processes = []\n",
    "\n",
    "for _ in range(10):\n",
    "    p = mp.Process(target=do_something)\n",
    "    p.start()\n",
    "    processes.append(p)\n",
    "\n",
    "for process in processes:\n",
    "    process.join()\n",
    "\n",
    "finish = time.perf_counter()\n",
    "\n",
    "print('finished in {} second(s).'.format(round(finish-start, 2)))"
   ]
  },
  {
   "cell_type": "code",
   "execution_count": 7,
   "metadata": {},
   "outputs": [
    {
     "name": "stdout",
     "output_type": "stream",
     "text": [
      "Sleeping 1.5 second(s) ...\n",
      "Sleeping 1.5 second(s) ...\n",
      "Sleeping 1.5 second(s) ...\n",
      "Sleeping 1.5 second(s) ...\n",
      "Sleeping 1.5 second(s) ...\n",
      "Sleeping 1.5 second(s) ...\n",
      "Sleeping 1.5 second(s) ...\n",
      "Sleeping 1.5 second(s) ...\n",
      "Sleeping 1.5 second(s) ...\n",
      "Sleeping 1.5 second(s) ...\n",
      "Done sleeping...\n",
      "Done sleeping...\n",
      "Done sleeping...\n",
      "Done sleeping...\n",
      "Done sleeping...\n",
      "Done sleeping...\n",
      "Done sleeping...\n",
      "Done sleeping...\n",
      "Done sleeping...\n",
      "Done sleeping...\n",
      "finished in 1.61 second(s).\n"
     ]
    }
   ],
   "source": [
    "start = time.perf_counter()\n",
    "\n",
    "def do_something(seconds):\n",
    "    print(f'Sleeping {seconds} second(s) ...')\n",
    "    time.sleep(seconds)\n",
    "    print('Done sleeping...')\n",
    "\n",
    "processes = []\n",
    "\n",
    "for _ in range(10):\n",
    "    p = mp.Process(target=do_something, args=[1.5])\n",
    "    p.start()\n",
    "    processes.append(p)\n",
    "\n",
    "for process in processes:\n",
    "    process.join()\n",
    "\n",
    "finish = time.perf_counter()\n",
    "\n",
    "print('finished in {} second(s).'.format(round(finish-start, 2)))"
   ]
  },
  {
   "cell_type": "code",
   "execution_count": 10,
   "metadata": {},
   "outputs": [
    {
     "name": "stdout",
     "output_type": "stream",
     "text": [
      "Sleeping 1 second(s) ...\n",
      "Sleeping 1 second(s) ...\n",
      "Done sleeping...\n",
      "Done sleeping...\n",
      "finished in 1.2 second(s).\n"
     ]
    }
   ],
   "source": [
    "start = time.perf_counter()\n",
    "\n",
    "def do_something(seconds):\n",
    "    print(f'Sleeping {seconds} second(s) ...')\n",
    "    time.sleep(seconds)\n",
    "    return 'Done sleeping...'\n",
    "    \n",
    "with cf.ProcessPoolExecutor() as executor:\n",
    "    f1 = executor.submit(do_something, 1)\n",
    "    f2 = executor.submit(do_something, 1)\n",
    "    print(f1.result())\n",
    "    print(f2.result())\n",
    "    \n",
    "finish = time.perf_counter()\n",
    "\n",
    "print('finished in {} second(s).'.format(round(finish-start, 2)))"
   ]
  },
  {
   "cell_type": "code",
   "execution_count": 16,
   "metadata": {},
   "outputs": [
    {
     "name": "stdout",
     "output_type": "stream",
     "text": [
      "Sleeping 1 second(s) ...\n",
      "Sleeping 1 second(s) ...\n",
      "Sleeping 1 second(s) ...\n",
      "Sleeping 1 second(s) ...\n",
      "Sleeping 1 second(s) ...\n",
      "Sleeping 1 second(s) ...\n",
      "Sleeping 1 second(s) ...\n",
      "Sleeping 1 second(s) ...\n",
      "Sleeping 1 second(s) ...\n",
      "Sleeping 1 second(s) ...\n",
      "Done sleeping...\n",
      "Done sleeping...\n",
      "Done sleeping...\n",
      "Done sleeping...\n",
      "Done sleeping...\n",
      "Done sleeping...\n",
      "Done sleeping...\n",
      "Done sleeping...\n",
      "Done sleeping...\n",
      "Done sleeping...\n",
      "finished in 1.23 second(s).\n"
     ]
    }
   ],
   "source": [
    "start = time.perf_counter()\n",
    "\n",
    "def do_something(seconds):\n",
    "    print(f'Sleeping {seconds} second(s) ...')\n",
    "    time.sleep(seconds)\n",
    "    return 'Done sleeping...'\n",
    "    \n",
    "with cf.ProcessPoolExecutor() as executor:\n",
    "    results = [executor.submit(do_something, 1) for _ in range(10)]\n",
    "    \n",
    "    for f in cf.as_completed(results):\n",
    "        print(f.result())\n",
    "    \n",
    "finish = time.perf_counter()\n",
    "\n",
    "print('finished in {} second(s).'.format(round(finish-start, 2)))"
   ]
  },
  {
   "cell_type": "code",
   "execution_count": 17,
   "metadata": {},
   "outputs": [
    {
     "name": "stdout",
     "output_type": "stream",
     "text": [
      "Sleeping 3 second(s) ...\n",
      "Sleeping 2 second(s) ...\n",
      "Sleeping 1 second(s) ...\n",
      "Sleeping 4 second(s) ...\n",
      "Sleeping 5 second(s) ...\n",
      "Done sleeping...1\n",
      "Done sleeping...2\n",
      "Done sleeping...3\n",
      "Done sleeping...4\n",
      "Done sleeping...5\n",
      "finished in 5.19 second(s).\n"
     ]
    }
   ],
   "source": [
    "start = time.perf_counter()\n",
    "\n",
    "def do_something(seconds):\n",
    "    print(f'Sleeping {seconds} second(s) ...')\n",
    "    time.sleep(seconds)\n",
    "    return f'Done sleeping...{seconds}'\n",
    "    \n",
    "with cf.ProcessPoolExecutor() as executor:\n",
    "    secs = [5,4,3,2,1]\n",
    "    results = [executor.submit(do_something, second) for second in secs]\n",
    "    \n",
    "    for f in cf.as_completed(results):\n",
    "        print(f.result())\n",
    "    \n",
    "finish = time.perf_counter()\n",
    "\n",
    "print('finished in {} second(s).'.format(round(finish-start, 2)))\n",
    "\n",
    "# Prints out in the order that were finished (Done sleeping)"
   ]
  },
  {
   "cell_type": "code",
   "execution_count": 18,
   "metadata": {},
   "outputs": [
    {
     "name": "stdout",
     "output_type": "stream",
     "text": [
      "Sleeping 3 second(s) ...\n",
      "Sleeping 2 second(s) ...\n",
      "Sleeping 1 second(s) ...\n",
      "Sleeping 4 second(s) ...\n",
      "Sleeping 5 second(s) ...\n",
      "Done sleeping...5\n",
      "Done sleeping...4\n",
      "Done sleeping...3\n",
      "Done sleeping...2\n",
      "Done sleeping...1\n",
      "finished in 5.22 second(s).\n"
     ]
    }
   ],
   "source": [
    "start = time.perf_counter()\n",
    "\n",
    "def do_something(seconds):\n",
    "    print(f'Sleeping {seconds} second(s) ...')\n",
    "    time.sleep(seconds)\n",
    "    return f'Done sleeping...{seconds}'\n",
    "    \n",
    "with cf.ProcessPoolExecutor() as executor:\n",
    "    secs = [5,4,3,2,1]\n",
    "    results = executor.map(do_something, secs)\n",
    "    \n",
    "    for result in results:\n",
    "        print(result)\n",
    "    \n",
    "finish = time.perf_counter()\n",
    "\n",
    "print('finished in {} second(s).'.format(round(finish-start, 2)))\n",
    "\n",
    "# Prints out in the order that they were started, not in the order that were finished"
   ]
  },
  {
   "cell_type": "markdown",
   "metadata": {},
   "source": [
    "# Threading\n",
    "Seeing benefits when Tasks are i/o bound."
   ]
  },
  {
   "cell_type": "code",
   "execution_count": null,
   "metadata": {},
   "outputs": [],
   "source": [
    "start = time.perf_counter()\n",
    "\n",
    "def do_something(seconds):\n",
    "    print(f'Sleeping {seconds} second(s) ...')\n",
    "    time.sleep(seconds)\n",
    "    return f'Done sleeping...{seconds}'\n",
    "    \n",
    "with cf.ThreadPoolExecutor() as executor:\n",
    "    secs = [5,4,3,2,1]\n",
    "    results = executor.map(do_something, secs)\n",
    "    \n",
    "    for result in results:\n",
    "        print(result)\n",
    "    \n",
    "finish = time.perf_counter()\n",
    "\n",
    "print('finished in {} second(s).'.format(round(finish-start, 2)))\n",
    "\n",
    "# Prints out in the order that they were started, not in the order that were finished"
   ]
  }
 ],
 "metadata": {
  "kernelspec": {
   "display_name": "Py3-basic",
   "language": "python",
   "name": "python3"
  },
  "language_info": {
   "codemirror_mode": {
    "name": "ipython",
    "version": 3
   },
   "file_extension": ".py",
   "mimetype": "text/x-python",
   "name": "python",
   "nbconvert_exporter": "python",
   "pygments_lexer": "ipython3",
   "version": "3.7.2"
  }
 },
 "nbformat": 4,
 "nbformat_minor": 2
}
