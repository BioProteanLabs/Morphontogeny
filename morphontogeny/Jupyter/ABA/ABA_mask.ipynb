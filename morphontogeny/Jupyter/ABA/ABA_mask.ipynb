{
 "cells": [
  {
   "cell_type": "markdown",
   "metadata": {},
   "source": [
    "# Masking ABA data using anatomy"
   ]
  },
  {
   "cell_type": "code",
   "execution_count": 29,
   "metadata": {},
   "outputs": [],
   "source": [
    "import numpy as np\n",
    "import matplotlib.pyplot as plt\n",
    "from sklearn.preprocessing import normalize\n",
    "from sklearn.preprocessing import StandardScaler\n",
    "%matplotlib inline\n",
    "%run nifti_tools.ipynb"
   ]
  },
  {
   "cell_type": "code",
   "execution_count": 57,
   "metadata": {},
   "outputs": [],
   "source": [
    "# Loading the neuroanatomy\n",
    "anat_path = '/data/bioprotean/ABA/PCA/80_variance/allen_annot200.nii'\n",
    "anat_vec = nifti_to_vector(anat_path)"
   ]
  },
  {
   "cell_type": "code",
   "execution_count": 58,
   "metadata": {},
   "outputs": [],
   "source": [
    "# Getting indices of non-zero values\n",
    "indices = np.nonzero(anat_vec)"
   ]
  },
  {
   "cell_type": "code",
   "execution_count": 65,
   "metadata": {},
   "outputs": [
    {
     "data": {
      "text/plain": [
       "(63113,)"
      ]
     },
     "execution_count": 65,
     "metadata": {},
     "output_type": "execute_result"
    }
   ],
   "source": [
    "# Masking the anatomy\n",
    "anat_masked = anat_vec[indices]\n",
    "anat_masked.shape"
   ]
  },
  {
   "cell_type": "code",
   "execution_count": 69,
   "metadata": {},
   "outputs": [
    {
     "data": {
      "text/plain": [
       "True"
      ]
     },
     "execution_count": 69,
     "metadata": {},
     "output_type": "execute_result"
    }
   ],
   "source": [
    "# Reconstructing the anatomy\n",
    "rc = np.zeros(159326,)\n",
    "rc[indices] = anat_masked\n",
    "\n",
    "# Checking the reconstruction\n",
    "np.array_equal(rc, anat_vec)"
   ]
  },
  {
   "cell_type": "code",
   "execution_count": 26,
   "metadata": {},
   "outputs": [],
   "source": [
    "# Saving indices to file\n",
    "np.save('/data/bioprotean/ABA/MEMMAP/genes_list/mask_indices.npy', indices)"
   ]
  },
  {
   "cell_type": "code",
   "execution_count": 23,
   "metadata": {},
   "outputs": [],
   "source": [
    "# Loading the main voxel * gene matrix\n",
    "X = np.memmap('/data/bioprotean/ABA/MEMMAP/genes_list/finalgenes_T.mymemmap',\\\n",
    "dtype='float32', mode='r', shape=(159326,2941))"
   ]
  },
  {
   "cell_type": "code",
   "execution_count": 24,
   "metadata": {},
   "outputs": [
    {
     "data": {
      "text/plain": [
       "(63113, 2941)"
      ]
     },
     "execution_count": 24,
     "metadata": {},
     "output_type": "execute_result"
    }
   ],
   "source": [
    "# Masking by the indices\n",
    "X_mask = X[indices]\n",
    "X_mask.shape"
   ]
  },
  {
   "cell_type": "code",
   "execution_count": 25,
   "metadata": {},
   "outputs": [],
   "source": [
    "# Saving the masked gene\n",
    "X_save = np.memmap('/data/bioprotean/ABA/MEMMAP/genes_list/finalgenes_mask.mymemmap',\\\n",
    "dtype='float32', mode='w+', shape=(63113,2941))\n",
    "\n",
    "X_save[:] = X_mask[:]"
   ]
  },
  {
   "cell_type": "code",
   "execution_count": 27,
   "metadata": {},
   "outputs": [],
   "source": [
    "# Removing other -1 values\n",
    "X_mask_pos = np.where(X_mask < 0, 0, X_mask)"
   ]
  },
  {
   "cell_type": "code",
   "execution_count": 28,
   "metadata": {},
   "outputs": [],
   "source": [
    "# Saving the masked gene\n",
    "X_save = np.memmap('/data/bioprotean/ABA/MEMMAP/genes_list/finalgenes_mask_pos.mymemmap',\\\n",
    "dtype='float32', mode='w+', shape=(63113,2941))\n",
    "\n",
    "X_save[:] = X_mask_pos[:]"
   ]
  },
  {
   "cell_type": "code",
   "execution_count": 30,
   "metadata": {},
   "outputs": [],
   "source": [
    "# Standardizing the matrix\n",
    "X_std = StandardScaler().fit_transform(X_mask_pos)\n",
    "\n",
    "X_save = np.memmap('/data/bioprotean/ABA/MEMMAP/genes_list/finalgenes_mask_pos_std.mymemmap',\\\n",
    "dtype='float32', mode='w+', shape=(63113,2941))\n",
    "\n",
    "X_save[:] = X_std[:]"
   ]
  },
  {
   "cell_type": "code",
   "execution_count": 31,
   "metadata": {},
   "outputs": [],
   "source": [
    "# Saving as NPY file\n",
    "np.save('/data/bioprotean/ABA/MEMMAP/genes_list/ABA_mask_pos_std.npy', X_std)"
   ]
  },
  {
   "cell_type": "code",
   "execution_count": 34,
   "metadata": {},
   "outputs": [],
   "source": [
    "# L2 normalizing the matrix\n",
    "X_norm = normalize(X_mask_pos, norm='l2', axis=1, copy=True)\n",
    "\n",
    "X_save = np.memmap('/data/bioprotean/ABA/MEMMAP/genes_list/finalgenes_mask_pos_L2.mymemmap',\\\n",
    "dtype='float32', mode='w+', shape=(63113,2941))\n",
    "\n",
    "X_save[:] = X_norm[:]"
   ]
  },
  {
   "cell_type": "code",
   "execution_count": 35,
   "metadata": {},
   "outputs": [],
   "source": [
    "# Saving as NPY file\n",
    "np.save('/data/bioprotean/ABA/MEMMAP/genes_list/ABA_mask_pos_L2.npy', X_norm)"
   ]
  },
  {
   "cell_type": "code",
   "execution_count": 78,
   "metadata": {},
   "outputs": [],
   "source": [
    "def reconstruct_ABA (vector, array_3D = False):\n",
    "    '''\n",
    "    This function reconstructs the masked vector to the original shape (159326,).\n",
    "    \n",
    "    Args:\n",
    "        vector: vec\n",
    "            The masked vector\n",
    "        array: bool, default = False\n",
    "            if True, an array of size (67,58,41) is returned.\n",
    "    \n",
    "    Returns:\n",
    "        output: array\n",
    "            output vector/array\n",
    "    '''\n",
    "    \n",
    "    # Loading the indices from file\n",
    "    indices = np.load('/data/bioprotean/ABA/MEMMAP/genes_list/mask_indices.npy')\n",
    "    \n",
    "    # Reconstructing the array\n",
    "    output = np.zeros(159326,)\n",
    "    output[indices] = vector\n",
    "    \n",
    "    # If 3D array is favored\n",
    "    if array_3D == True:\n",
    "        output = output.reshape(67,58,41)\n",
    "    \n",
    "    return output"
   ]
  },
  {
   "cell_type": "code",
   "execution_count": null,
   "metadata": {},
   "outputs": [],
   "source": []
  }
 ],
 "metadata": {
  "kernelspec": {
   "display_name": "Py3-basic",
   "language": "python",
   "name": "python3"
  },
  "language_info": {
   "codemirror_mode": {
    "name": "ipython",
    "version": 3
   },
   "file_extension": ".py",
   "mimetype": "text/x-python",
   "name": "python",
   "nbconvert_exporter": "python",
   "pygments_lexer": "ipython3",
   "version": "3.7.2"
  }
 },
 "nbformat": 4,
 "nbformat_minor": 2
}
