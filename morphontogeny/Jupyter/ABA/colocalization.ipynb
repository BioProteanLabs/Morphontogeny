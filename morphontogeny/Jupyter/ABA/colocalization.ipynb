{
 "cells": [
  {
   "cell_type": "markdown",
   "metadata": {},
   "source": [
    "# Co-localization check of clusters and Jacobian"
   ]
  },
  {
   "cell_type": "code",
   "execution_count": 15,
   "metadata": {},
   "outputs": [],
   "source": [
    "import pandas as pd\n",
    "import numpy as np\n",
    "import nibabel as nib\n",
    "from sklearn.cluster import KMeans\n",
    "import matplotlib.pyplot as plt"
   ]
  },
  {
   "cell_type": "code",
   "execution_count": 16,
   "metadata": {},
   "outputs": [],
   "source": [
    "# Loading the Jacobian\n",
    "img = nib.load('/data/bioprotean/SVD/colocalization/jac_tm_200pos_mask.nii')\n",
    "jac = np.array(img.dataobj).flatten()\n",
    "#jac = np.genfromtxt('/home/mabbasi6/morphometry/correlation/jac/csv/jac_masked.csv', delimiter=',').flatten()"
   ]
  },
  {
   "cell_type": "code",
   "execution_count": 23,
   "metadata": {},
   "outputs": [],
   "source": [
    "X = np.memmap('/data/bioprotean/SVD/vg/rc.mymemmap', dtype='float32', mode='r', shape=(159326,271))"
   ]
  },
  {
   "cell_type": "code",
   "execution_count": 19,
   "metadata": {},
   "outputs": [],
   "source": [
    "def kmeans_func(matrix, n_clusters):\n",
    "    kmeans = KMeans(init='k-means++', n_clusters=n_clusters, n_init=50)\n",
    "    kmeans.fit_predict(matrix)\n",
    "    return kmeans.labels_"
   ]
  },
  {
   "cell_type": "code",
   "execution_count": 26,
   "metadata": {},
   "outputs": [],
   "source": [
    "def count_func(labels, jacobian, n_clusters):\n",
    "    # Defining the array that holds the ratios for each cluster\n",
    "    count_arr = np.zeros(50)\n",
    "    count_arr[:] = np.nan\n",
    "    \n",
    "    # Going through a loop for counting the ratio\n",
    "    for k in range (n_clusters):\n",
    "        labels_k = np.where(labels!=k, 0, 1)\n",
    "        count_arr[k] = np.sum(labels_k * jacobian)/np.sum(labels_k)\n",
    "    \n",
    "    return count_arr"
   ]
  },
  {
   "cell_type": "code",
   "execution_count": null,
   "metadata": {},
   "outputs": [
    {
     "name": "stdout",
     "output_type": "stream",
     "text": [
      "1\n",
      "2\n",
      "3\n",
      "4\n",
      "5\n",
      "6\n",
      "7\n",
      "8\n",
      "9\n",
      "10\n"
     ]
    }
   ],
   "source": [
    "df = pd.DataFrame(data=np.zeros((50,50)), index=[i for i in range(1,51)], columns=['cluster'+str(i) for i in range(1,51)])\n",
    "df[:] = np.nan\n",
    "\n",
    "for i in range (1,51):\n",
    "    labels = kmeans_func(X, i)\n",
    "    count_arr = count_func(labels, jac, i)\n",
    "    df.iloc[i-1] = count_arr[:]\n",
    "    print(i)\n",
    "df.to_csv('/data/bioprotean/SVD/colocalization/results.csv')"
   ]
  },
  {
   "cell_type": "code",
   "execution_count": null,
   "metadata": {},
   "outputs": [],
   "source": []
  }
 ],
 "metadata": {
  "kernelspec": {
   "display_name": "Py3-basic",
   "language": "python",
   "name": "python3"
  },
  "language_info": {
   "codemirror_mode": {
    "name": "ipython",
    "version": 3
   },
   "file_extension": ".py",
   "mimetype": "text/x-python",
   "name": "python",
   "nbconvert_exporter": "python",
   "pygments_lexer": "ipython3",
   "version": "3.7.2"
  }
 },
 "nbformat": 4,
 "nbformat_minor": 2
}
