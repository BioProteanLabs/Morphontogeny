{
 "cells": [
  {
   "cell_type": "code",
   "execution_count": 4,
   "metadata": {},
   "outputs": [],
   "source": [
    "import numpy as np\n",
    "import pingouin as pg\n",
    "import nibabel as nib"
   ]
  },
  {
   "cell_type": "code",
   "execution_count": null,
   "metadata": {},
   "outputs": [],
   "source": [
    "!pip install pingouin==0.3.10 --user"
   ]
  },
  {
   "cell_type": "code",
   "execution_count": null,
   "metadata": {},
   "outputs": [],
   "source": [
    "x = [1, 2, 3, 4]\n",
    "y = [3, 4, 5, 6, 7]"
   ]
  },
  {
   "cell_type": "code",
   "execution_count": null,
   "metadata": {},
   "outputs": [],
   "source": [
    "pg.compute_effsize(x, y, eftype='cohen')"
   ]
  },
  {
   "cell_type": "markdown",
   "metadata": {},
   "source": [
    "# Making the matrix now"
   ]
  },
  {
   "cell_type": "markdown",
   "metadata": {},
   "source": [
    "First, converting the Jacobians from BRIK to NII format."
   ]
  },
  {
   "cell_type": "code",
   "execution_count": null,
   "metadata": {},
   "outputs": [],
   "source": [
    "%%bash\n",
    "module load afni/20.1.11\n",
    "cd /home/mabbasi6/morphometry/MWT_Morphometry/template/5_anmwp/\n",
    "output='/data/bioprotean/SVD/jacobian/MWT_jcb5.nii'\n",
    "3dcopy 5_jcb+orig $output"
   ]
  },
  {
   "cell_type": "markdown",
   "metadata": {},
   "source": [
    "# Resampling the jacobians"
   ]
  },
  {
   "cell_type": "code",
   "execution_count": null,
   "metadata": {},
   "outputs": [],
   "source": [
    "%%bash\n",
    "module load afni/20.1.11\n",
    "cd /data/bioprotean/SVD/jacobian/\n",
    "input='MKO_jcb1.nii'\n",
    "3dresample -dxyz 0.200 0.200 0.200 -input $input -prefix MKO_jcb1rs.nii"
   ]
  },
  {
   "cell_type": "markdown",
   "metadata": {},
   "source": [
    "# Aligning the Jacobians centers to Allen Brain Template"
   ]
  },
  {
   "cell_type": "code",
   "execution_count": null,
   "metadata": {},
   "outputs": [],
   "source": [
    "%%bash\n",
    "module load afni/20.1.11\n",
    "cd /data/bioprotean/SVD/jacobian/\n",
    "@Align_Centers -base allen_200rs.nii -dset MKO_jcb1rs.nii -prefix MKO_jcb1rsac.nii"
   ]
  },
  {
   "cell_type": "markdown",
   "metadata": {},
   "source": [
    "# Masking the Jacobians to keep regions in brain only"
   ]
  },
  {
   "cell_type": "code",
   "execution_count": null,
   "metadata": {},
   "outputs": [],
   "source": [
    "%%bash\n",
    "module load afni/20.1.11\n",
    "cd /data/bioprotean/SVD/jacobian/\n",
    "input='MKO_jcb1rsac.nii'\n",
    "output='MKO_jcb1rsac_masked.nii'\n",
    "3dcalc -a allen_200rs.nii -b $input -expr 'bool(a)*b' -prefix $output -datum float"
   ]
  },
  {
   "cell_type": "code",
   "execution_count": null,
   "metadata": {},
   "outputs": [],
   "source": [
    "img = nib.load('/data/bioprotean/SVD/jacobian/MKO_jcb1.nii')\n",
    "nii_vec = np.array(img.dataobj)"
   ]
  },
  {
   "cell_type": "code",
   "execution_count": null,
   "metadata": {},
   "outputs": [],
   "source": [
    "nii_vec.shape"
   ]
  },
  {
   "cell_type": "code",
   "execution_count": null,
   "metadata": {},
   "outputs": [],
   "source": []
  }
 ],
 "metadata": {
  "kernelspec": {
   "display_name": "Py3-basic",
   "language": "python",
   "name": "python3"
  },
  "language_info": {
   "codemirror_mode": {
    "name": "ipython",
    "version": 3
   },
   "file_extension": ".py",
   "mimetype": "text/x-python",
   "name": "python",
   "nbconvert_exporter": "python",
   "pygments_lexer": "ipython3",
   "version": "3.7.2"
  }
 },
 "nbformat": 4,
 "nbformat_minor": 2
}
