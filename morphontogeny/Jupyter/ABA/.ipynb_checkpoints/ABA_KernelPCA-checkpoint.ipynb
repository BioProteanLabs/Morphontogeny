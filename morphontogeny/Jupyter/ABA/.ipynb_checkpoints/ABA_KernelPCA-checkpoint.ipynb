{
 "cells": [
  {
   "cell_type": "markdown",
   "metadata": {},
   "source": [
    "# Kernel PCA on ABA\n",
    "Takes data to a higher dimensional space where linear relationships are sufficient.\n",
    "<br>Mapping these linear decision to the lower dimensional space you'd get a nonlinear decision boundary.\n",
    "<br>We can use the linear tools in the higher dimensional space and get non-linear results in the original space."
   ]
  },
  {
   "cell_type": "code",
   "execution_count": 4,
   "metadata": {},
   "outputs": [],
   "source": [
    "import time\n",
    "import numpy as np\n",
    "import matplotlib.pyplot as plt\n",
    "from sklearn.cluster import KMeans\n",
    "from sklearn.decomposition import PCA\n",
    "from sklearn.decomposition import KernelPCA\n",
    "from sklearn.preprocessing import StandardScaler\n",
    "%matplotlib inline"
   ]
  },
  {
   "cell_type": "code",
   "execution_count": 2,
   "metadata": {},
   "outputs": [],
   "source": [
    "# Loading the components\n",
    "X = np.load('/data/bioprotean/ABA/KernelPCA/poly2/31512_components.npy')"
   ]
  },
  {
   "cell_type": "markdown",
   "metadata": {},
   "source": [
    "**Data has to be centered in higher dimensional space**"
   ]
  },
  {
   "cell_type": "code",
   "execution_count": 5,
   "metadata": {},
   "outputs": [],
   "source": [
    "# Standadizing the components\n",
    "X_std = StandardScaler().fit_transform(X)"
   ]
  },
  {
   "cell_type": "code",
   "execution_count": null,
   "metadata": {},
   "outputs": [],
   "source": [
    "# Applying PCA\n",
    "variance = 0.8\n",
    "pca = PCA(variance)\n",
    "components = pca.fit_transform(X_std)"
   ]
  },
  {
   "cell_type": "code",
   "execution_count": null,
   "metadata": {},
   "outputs": [],
   "source": [
    "# Clustering the PCA components\n",
    "n_clusters = 50\n",
    "kmeans = KMeans(init='k-means++', n_clusters=n_clusters, n_init=50, random_state=0)\n",
    "kmeans.fit_predict(X)\n",
    "labels = kmeans.labels_"
   ]
  },
  {
   "cell_type": "code",
   "execution_count": null,
   "metadata": {},
   "outputs": [],
   "source": [
    "def reconstruct_half_ABA (vector, array_3D = False):\n",
    "    '''\n",
    "    This function reconstructs the masked and halved\n",
    "    vector to the original shape (159326,).\n",
    "    \n",
    "    Args:\n",
    "        vector: vec\n",
    "            The masked vector\n",
    "        array: bool, default = False\n",
    "            if True, an array of size (67,58,41) is returned.\n",
    "    \n",
    "    Returns:\n",
    "        output: array\n",
    "            output vector/array\n",
    "    '''\n",
    "    \n",
    "    # Loading the indices from file\n",
    "    indices = np.load('/data/bioprotean/ABA/MEMMAP/genes_list/half_indices.npy')\n",
    "    \n",
    "    # Reconstructing the array\n",
    "    output = np.zeros(159326,)\n",
    "    output[indices] = vector\n",
    "    \n",
    "    # If 3D array is favored\n",
    "    if array_3D == True:\n",
    "        output = output.reshape(67,58,41)\n",
    "    \n",
    "    return output"
   ]
  },
  {
   "cell_type": "code",
   "execution_count": 6,
   "metadata": {},
   "outputs": [],
   "source": [
    "# reconstructing the brain\n",
    "reconstruct_3D = reconstruct_half_ABA(labels, array_3D=True)"
   ]
  },
  {
   "cell_type": "code",
   "execution_count": 9,
   "metadata": {},
   "outputs": [
    {
     "data": {
      "text/plain": [
       "<matplotlib.image.AxesImage at 0x2b4a19bf19e8>"
      ]
     },
     "execution_count": 9,
     "metadata": {},
     "output_type": "execute_result"
    },
    {
     "data": {
      "image/png": "[encoded data removed]",
      "text/plain": [
       "<Figure size 432x288 with 1 Axes>"
      ]
     },
     "metadata": {
      "needs_background": "light"
     },
     "output_type": "display_data"
    }
   ],
   "source": [
    "# Visualizing slices\n",
    "slice = reconstruct_3D[:,20,:]\n",
    "plt.imshow(slice)"
   ]
  },
  {
   "cell_type": "code",
   "execution_count": null,
   "metadata": {},
   "outputs": [],
   "source": []
  }
 ],
 "metadata": {
  "kernelspec": {
   "display_name": "Py3-basic",
   "language": "python",
   "name": "python3"
  },
  "language_info": {
   "codemirror_mode": {
    "name": "ipython",
    "version": 3
   },
   "file_extension": ".py",
   "mimetype": "text/x-python",
   "name": "python",
   "nbconvert_exporter": "python",
   "pygments_lexer": "ipython3",
   "version": "3.7.2"
  }
 },
 "nbformat": 4,
 "nbformat_minor": 2
}
