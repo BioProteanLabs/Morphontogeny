{
 "cells": [
  {
   "cell_type": "code",
   "execution_count": 27,
   "metadata": {},
   "outputs": [],
   "source": [
    "import time\n",
    "import numpy as np\n",
    "import pandas as pd\n",
    "from sklearn.cluster import KMeans\n",
    "from sklearn.preprocessing import normalize\n",
    "from sparse_filtering import SparseFiltering\n",
    "from sklearn.preprocessing import StandardScaler\n",
    "import matplotlib.pyplot as plt\n",
    "%matplotlib inline\n",
    "%run nifti_tools.ipynb\n",
    "# !pip install sparse_filtering"
   ]
  },
  {
   "cell_type": "code",
   "execution_count": 58,
   "metadata": {},
   "outputs": [],
   "source": [
    "# Running the SFT for different number of features\n",
    "\n",
    "# Loading the voxel * gene matrix\n",
    "X = np.load('/data/bioprotean/ABA/MEMMAP/genes_list/genes_half_mask_pos_std.npy')\n",
    "\n",
    "# List of numbers\n",
    "# numbers_list = range(50,601,50)\n",
    "numbers_list = [594]\n",
    "\n",
    "for n in numbers_list:\n",
    "    estimator = SparseFiltering(n_features = n, maxfun = 200, iprint = 10)\n",
    "    features = estimator.fit_transform(X)\n",
    "    weights = estimator.w_\n",
    "    \n",
    "    # Saving features and weights\n",
    "    np.save('/data/bioprotean/ABA/SFT/'+str(n)+'_features.npy', features)\n",
    "    np.save('/data/bioprotean/ABA/SFT/'+str(n)+'_weights.npy', weights)"
   ]
  },
  {
   "cell_type": "code",
   "execution_count": null,
   "metadata": {},
   "outputs": [],
   "source": [
    "# Running the SFT for different number of features\n",
    "\n",
    "# List of feature numbers\n",
    "features_list = range(50,601,50)\n",
    "\n",
    "# List of cluster numbers\n",
    "numbers_list = list(range(1,50))\n",
    "extra_list = list(range(50,551,50))\n",
    "add_number = 594\n",
    "numbers_list.extend(extra_list)\n",
    "numbers_list.append(add_number)\n",
    "\n",
    "for n_features in features_list:\n",
    "    # Loading features\n",
    "    features = np.load('/data/bioprotean/ABA/SFT/'+str(n_features)+'_features.npy')\n",
    "    \n",
    "    # Running K-means\n",
    "    for n_clusters in numbers_list:\n",
    "        kmeans = KMeans(n_clusters = n_clusters, n_init = 50, random_state = 0)\n",
    "        kmeans.fit_predict(X)\n",
    "        labels = kmeans.labels_\n",
    "        \n",
    "        # Saving the labels\n",
    "        np.save('/data/bioprotean/ABA/SFT/'+str(n_features)+'features_'+str(n_clusters)+'_clusters.npy', labels)"
   ]
  },
  {
   "cell_type": "code",
   "execution_count": 71,
   "metadata": {},
   "outputs": [
    {
     "data": {
      "text/plain": [
       "118472.68866407534"
      ]
     },
     "execution_count": 71,
     "metadata": {},
     "output_type": "execute_result"
    }
   ],
   "source": [
    "estimator.w_[0][4]"
   ]
  },
  {
   "cell_type": "markdown",
   "metadata": {},
   "source": [
    "# Clustering the features"
   ]
  },
  {
   "cell_type": "code",
   "execution_count": 56,
   "metadata": {},
   "outputs": [],
   "source": [
    "# Running K-means on features\n",
    "n_clusters = 200\n",
    "kmeans = KMeans(n_clusters=n_clusters, n_init=50, random_state=0)\n",
    "kmeans.fit_predict(features)\n",
    "labels = kmeans.labels_\n",
    "\n",
    "# Reconstructing the labels\n",
    "indices_path = '/data/bioprotean/ABA/MEMMAP/genes_list/half_indices.npy'\n",
    "labels_rc = reconstruct_ABA(labels, indices_path)\n",
    "\n",
    "#Visualizing one slice\n",
    "vol = labels_rc.reshape(67,58,41)\n",
    "s = vol[30,:,:]\n",
    "plt.imshow(s)"
   ]
  },
  {
   "cell_type": "code",
   "execution_count": null,
   "metadata": {},
   "outputs": [],
   "source": [
    "# Running for list of numbers\n",
    "\n",
    "numbers_list = list(range(1,50))\n",
    "extra_list = list(range(50,551,50))\n",
    "add_number = 594\n",
    "numbers_list.extend(extra_list)\n",
    "numbers_list.append(add_number)\n",
    "\n",
    "# Running K-means on features\n",
    "for n in numbers_list:\n",
    "    kmeans = KMeans(n_clusters = n, n_init = 50, random_state = 0)\n",
    "    kmeans.fit_predict(features)\n",
    "    \n",
    "    # Saving the labels\n",
    "    labels = kmeans.labels_\n",
    "    labels_path = '/data/bioprotean/ABA/SFT/Kmeans/'+str(n)+'_clusters.npy'\n",
    "    np.save(labels_path, labels)"
   ]
  },
  {
   "cell_type": "code",
   "execution_count": 51,
   "metadata": {},
   "outputs": [],
   "source": [
    "# Reconstructing all clusters\n",
    "\n",
    "# List of numbers\n",
    "numbers_list = list(range(1,50))\n",
    "extra_list = list(range(50,551,50))\n",
    "add_number = 594\n",
    "numbers_list.extend(extra_list)\n",
    "numbers_list.append(add_number)\n",
    "\n",
    "# Loading K-means clusters\n",
    "for i in numbers_list:\n",
    "    # Loading the labels\n",
    "    labels_path = '/data/bioprotean/ABA/SFT/Kmeans/'+str(i)+'_clusters.npy'\n",
    "    labels = np.load(labels_path)\n",
    "    \n",
    "    # Reconstructing the clusters\n",
    "    indices_path = '/data/bioprotean/ABA/MEMMAP/genes_list/half_indices.npy'\n",
    "    labels_rc = reconstruct_ABA(labels, indices_path)\n",
    "    \n",
    "    # Saving to file\n",
    "    save_path = '/data/bioprotean/ABA/SFT/Kmeans_rc/'+str(i)+'_clusters.npy'\n",
    "    np.save(save_path, labels_rc)"
   ]
  },
  {
   "cell_type": "markdown",
   "metadata": {},
   "source": [
    "# Visualizing slices"
   ]
  },
  {
   "cell_type": "code",
   "execution_count": 5,
   "metadata": {},
   "outputs": [],
   "source": [
    "def plot_SFT_feature_slice(features_arr, feature_n, slice_n, view = 'Sagittal'):\n",
    "    '''\n",
    "    Plotting a feature in the selected slice.\n",
    "    \n",
    "    Args:\n",
    "        features_arr: array\n",
    "            The features array.\n",
    "        \n",
    "        feature_n: int\n",
    "            The number of the feature.\n",
    "        \n",
    "        slice_n: int\n",
    "            The number of the slice to show.\n",
    "    \n",
    "    Returns:\n",
    "        plot\n",
    "    '''\n",
    "    # Selecting the feature from the main features array\n",
    "    feature = features_arr[:, feature_n]\n",
    "    \n",
    "    # Reconstructing the features\n",
    "    indices_path = '/data/bioprotean/ABA/MEMMAP/genes_list/half_indices.npy'\n",
    "    feature_rc = reconstruct_ABA(feature, indices_path, scale = True)\n",
    "    \n",
    "    # Reshaping the feature vector and selecting the slice\n",
    "    feature_3D = feature_rc.reshape(67,58,41)\n",
    "    \n",
    "    if view == 'Axial':\n",
    "        slice = feature_3D[slice_n,:,:]\n",
    "    elif view == 'Sagittal':\n",
    "        slice = feature_3D[:,slice_n,:]\n",
    "    plt.imshow(slice)"
   ]
  },
  {
   "cell_type": "code",
   "execution_count": 6,
   "metadata": {},
   "outputs": [
    {
     "data": {
      "image/png": "[encoded data removed]",
      "text/plain": [
       "<Figure size 432x288 with 1 Axes>"
      ]
     },
     "metadata": {
      "needs_background": "light"
     },
     "output_type": "display_data"
    }
   ],
   "source": [
    "# Loading the featues array\n",
    "features_path = '/data/bioprotean/ABA/SFT/100_features.npy'\n",
    "features = np.load(features_path)\n",
    "\n",
    "feature_n = 4\n",
    "slice_n = 10\n",
    "plot_SFT_feature_slice(features, feature_n, slice_n)"
   ]
  },
  {
   "cell_type": "markdown",
   "metadata": {},
   "source": [
    "# Clustering features separately"
   ]
  },
  {
   "cell_type": "code",
   "execution_count": 59,
   "metadata": {},
   "outputs": [
    {
     "data": {
      "text/plain": [
       "<matplotlib.image.AxesImage at 0x2abaf7e05198>"
      ]
     },
     "execution_count": 59,
     "metadata": {},
     "output_type": "execute_result"
    },
    {
     "data": {
      "image/png": "[encoded data removed]",
      "text/plain": [
       "<Figure size 432x288 with 1 Axes>"
      ]
     },
     "metadata": {
      "needs_background": "light"
     },
     "output_type": "display_data"
    }
   ],
   "source": [
    "# Loading the features\n",
    "features_path = '/data/bioprotean/ABA/SFT/600_features.npy'\n",
    "features = np.load(features_path)\n",
    "\n",
    "# Selecting the feature\n",
    "feature_n = 19\n",
    "feature = features[:, feature_n].reshape(-1,1)\n",
    "\n",
    "# Running clustering\n",
    "n_clusters = 2\n",
    "kmeans = KMeans(n_clusters = n_clusters, random_state = 0)\n",
    "kmeans.fit_predict(feature)\n",
    "labels = kmeans.labels_\n",
    "\n",
    "# Reconstructing the labels\n",
    "indices_path = '/data/bioprotean/ABA/MEMMAP/genes_list/half_indices.npy'\n",
    "labels_rc = reconstruct_ABA(labels, indices_path)\n",
    "\n",
    "# Visualizing the slice\n",
    "slice_n = 20\n",
    "slice = labels_rc[:,slice_n,:]\n",
    "plt.imshow(slice)"
   ]
  },
  {
   "cell_type": "code",
   "execution_count": 67,
   "metadata": {},
   "outputs": [],
   "source": [
    "# Saving separate clusters to a single array\n",
    "\n",
    "# Loading the features\n",
    "total_features = 594\n",
    "features_path = '/data/bioprotean/ABA/SFT/'+str(total_features)+'_features.npy'\n",
    "features = np.load(features_path)\n",
    "\n",
    "# Making an array to store all labels\n",
    "labels_arr = np.zeros((features.shape[0], total_features))\n",
    "\n",
    "for feature_n in range(total_features):\n",
    "    # Selecting the feature\n",
    "    feature = features[:, feature_n].reshape(-1,1)\n",
    "    \n",
    "    # Running clustering\n",
    "    n_clusters = 2\n",
    "    kmeans = KMeans(n_clusters = n_clusters, random_state = 0)\n",
    "    kmeans.fit_predict(feature)\n",
    "    labels = kmeans.labels_\n",
    "    labels_arr[:, feature_n] = labels\n",
    "\n",
    "np.save('/data/bioprotean/ABA/SFT/594features_total_labels.npy', labels_arr)"
   ]
  },
  {
   "cell_type": "code",
   "execution_count": null,
   "metadata": {},
   "outputs": [
    {
     "name": "stderr",
     "output_type": "stream",
     "text": [
      "/home/mabbasi6/.local/lib/python3.7/site-packages/pandas/core/indexing.py:1637: SettingWithCopyWarning: \n",
      "A value is trying to be set on a copy of a slice from a DataFrame\n",
      "\n",
      "See the caveats in the documentation: https://pandas.pydata.org/pandas-docs/stable/user_guide/indexing.html#returning-a-view-versus-a-copy\n",
      "  self._setitem_single_block(indexer, value, name)\n"
     ]
    }
   ],
   "source": [
    "# Loading all the labels\n",
    "labels_arr = np.load('/data/bioprotean/ABA/SFT/594features_total_labels.npy')\n",
    "\n",
    "# Making a desired dataframe\n",
    "df_path = '/data/bioprotean/RAG2/AVG/MWT_avg/to_allen/overlap/200um/RAG2_neg_comp_overlap_anat.csv'\n",
    "overlap_df = pd.read_csv(df_path, index_col = 'Unnamed: 0')\n",
    "# overlap_df.drop(columns = 'region_overlap_ration', 'jac_overlap_ratio', 'DICE_neg_jcb_anat')\n",
    "for i in range(594):\n",
    "    overlap_df['MICE_feature_'+str(i)] = np.nan\n",
    "\n",
    "# Inputting the indices path\n",
    "indices_path = '/data/bioprotean/ABA/MEMMAP/genes_list/half_indices.npy'\n",
    "\n",
    "# Loading all the labels\n",
    "labels_arr = np.load('/data/bioprotean/ABA/SFT/594features_total_labels.npy')\n",
    "\n",
    "# Loading the anatomy file\n",
    "ant_file = '/data/bioprotean/RAG2/AVG/MWT_avg/to_allen/overlap/200um/allen_annot200.nii'\n",
    "ant_vec = nifti_to_array(ant_file)\n",
    "\n",
    "# Loading the region IDs list\n",
    "region_ids_list = overlap_df['ant_id']\n",
    "\n",
    "for row, ID in enumerate(region_ids_list):\n",
    "    \n",
    "    # Selecting a brain region\n",
    "    region_ID = [ID]\n",
    "    \n",
    "    # Looping over clusters\n",
    "    for i in range(594):\n",
    "        \n",
    "        # Selecting the label\n",
    "        labels = labels_arr[:, i]\n",
    "        \n",
    "        # Reconstructing the labels\n",
    "        labels_rc = reconstruct_ABA(labels, indices_path)\n",
    "        \n",
    "        # Selecting the smaller cluster between two\n",
    "        counts = np.unique(labels_rc, return_counts = True)[1]\n",
    "        cluster_ID = np.argmin(counts)\n",
    "        cluster_ids = [cluster_ID]\n",
    "        \n",
    "        # Masking for the cluster ID\n",
    "        cluster_vec = np.where(labels_rc == cluster_ID, cluster_ID, -1)\n",
    "        \n",
    "        # Computing the overlap for the cluster\n",
    "        overlap_list = overlap_function(base_arr = ant_vec, input_arr = cluster_vec,\\\n",
    "        base_ids_list = region_ID, input_ids_list = cluster_ids)\n",
    "        \n",
    "        overlap_df['MICE_feature_'+str(i)].loc[row] = overlap_list[0]\n",
    "\n",
    "# Saving to file\n",
    "overlap_df.to_csv('/data/bioprotean/ABA/SFT/MICE_region_separate_clusters.csv')"
   ]
  },
  {
   "cell_type": "markdown",
   "metadata": {},
   "source": [
    "# Finding gene weights for each feature"
   ]
  },
  {
   "cell_type": "code",
   "execution_count": 12,
   "metadata": {},
   "outputs": [],
   "source": [
    "# Making a DataFrame of gene weights and genes information\n",
    "\n",
    "# Selecting the number of features\n",
    "n_features = 594\n",
    "\n",
    "# Loading the weights array\n",
    "weights = np.load('/data/bioprotean/ABA/SFT/features/'+str(n_features)+'_weights.npy')\n",
    "\n",
    "# Loading the genes dataframe\n",
    "genes_df = pd.read_csv('/data/bioprotean/ABA/MEMMAP/genes_list/final_list.csv')\n",
    "\n",
    "# Adding new columns to the dataframe\n",
    "for i in range(n_features):\n",
    "    genes_df['feature_' + str(i)] = np.nan\n",
    "\n",
    "# Inputting the weights to this dataframe:\n",
    "for i in range(n_features):\n",
    "    genes_df['feature_' + str(i)] = weights[i, :]\n",
    "\n",
    "# Saving the dataframe to file\n",
    "genes_df.to_csv('/data/bioprotean/ABA/SFT/'+str(n_features)+'_weights_df.csv')"
   ]
  },
  {
   "cell_type": "code",
   "execution_count": 54,
   "metadata": {},
   "outputs": [],
   "source": [
    "def impacting_gene_finder(genes_df, feature_name = 'feature_0', n_top_genes = 5, output_name = 'Gene',\\\n",
    "    ascending = False):\n",
    "    '''\n",
    "    Takes the feature number and outputs the top desired gene names/Entrez IDs.\n",
    "    Could go either in ascending/descending mode.\n",
    "    \n",
    "    Arguments:\n",
    "        genes_df: DataFrame\n",
    "            DataFrame of gene names and gene weights.\n",
    "        \n",
    "        feature_name: str, default = 'feature_0'\n",
    "            The feature column name looking to extract weights for.\n",
    "        \n",
    "        n_top_genes: int, default = 5\n",
    "            Number of top genes looking to extract.\n",
    "        \n",
    "        output_name: {'Gene', 'Entrez ID'}, default = 'Gene'\n",
    "            The type of output looking to retrieve.\n",
    "        \n",
    "        ascending: bool, default = False\n",
    "            Sorting genes in descending/ascending mode.\n",
    "    \n",
    "    Parameters:\n",
    "        output_list: list\n",
    "            List of desired output genes.\n",
    "    '''\n",
    "    \n",
    "    # Sorting the daraframe by the desired feature number\n",
    "    sorted_df = genes_df.sort_values(by=[feature_name], ascending=ascending, na_position='last')\n",
    "    sorted_df.reset_index(drop=True, inplace=True)\n",
    "    \n",
    "    # Selecting the output\n",
    "    output_list = sorted_df[output_name].loc[:n_top_genes].tolist()\n",
    "    \n",
    "    return output_list"
   ]
  },
  {
   "cell_type": "code",
   "execution_count": 57,
   "metadata": {},
   "outputs": [
    {
     "data": {
      "text/html": [
       "<div>\n",
       "<style scoped>\n",
       "    .dataframe tbody tr th:only-of-type {\n",
       "        vertical-align: middle;\n",
       "    }\n",
       "\n",
       "    .dataframe tbody tr th {\n",
       "        vertical-align: top;\n",
       "    }\n",
       "\n",
       "    .dataframe thead th {\n",
       "        text-align: right;\n",
       "    }\n",
       "</style>\n",
       "<table border=\"1\" class=\"dataframe\">\n",
       "  <thead>\n",
       "    <tr style=\"text-align: right;\">\n",
       "      <th></th>\n",
       "      <th>full_ant_index</th>\n",
       "      <th>structure</th>\n",
       "      <th>acronym</th>\n",
       "      <th>ish_id</th>\n",
       "      <th>ant_id</th>\n",
       "      <th>in_200_atlas</th>\n",
       "      <th>region_overlap_ratio</th>\n",
       "      <th>jac_overlap_ratio</th>\n",
       "      <th>DICE_neg_jcb_anat</th>\n",
       "      <th>MICE_feature_0</th>\n",
       "      <th>...</th>\n",
       "      <th>MICE_feature_584</th>\n",
       "      <th>MICE_feature_585</th>\n",
       "      <th>MICE_feature_586</th>\n",
       "      <th>MICE_feature_587</th>\n",
       "      <th>MICE_feature_588</th>\n",
       "      <th>MICE_feature_589</th>\n",
       "      <th>MICE_feature_590</th>\n",
       "      <th>MICE_feature_591</th>\n",
       "      <th>MICE_feature_592</th>\n",
       "      <th>MICE_feature_593</th>\n",
       "    </tr>\n",
       "  </thead>\n",
       "  <tbody>\n",
       "    <tr>\n",
       "      <th>0</th>\n",
       "      <td>0</td>\n",
       "      <td>\"root\"</td>\n",
       "      <td>\"root\"</td>\n",
       "      <td>-1.0</td>\n",
       "      <td>997</td>\n",
       "      <td>True</td>\n",
       "      <td>0.069196</td>\n",
       "      <td>0.010389</td>\n",
       "      <td>0.018065</td>\n",
       "      <td>0.0</td>\n",
       "      <td>...</td>\n",
       "      <td>0.0</td>\n",
       "      <td>0.0</td>\n",
       "      <td>0.0</td>\n",
       "      <td>0.014465</td>\n",
       "      <td>0.0</td>\n",
       "      <td>0.0</td>\n",
       "      <td>0.0</td>\n",
       "      <td>0.0</td>\n",
       "      <td>0.0</td>\n",
       "      <td>0.0</td>\n",
       "    </tr>\n",
       "    <tr>\n",
       "      <th>1</th>\n",
       "      <td>7</td>\n",
       "      <td>\"Frontal pole, layer 1\"</td>\n",
       "      <td>\"FRP1\"</td>\n",
       "      <td>998.0</td>\n",
       "      <td>68</td>\n",
       "      <td>True</td>\n",
       "      <td>0.300000</td>\n",
       "      <td>0.002011</td>\n",
       "      <td>0.003995</td>\n",
       "      <td>0.0</td>\n",
       "      <td>...</td>\n",
       "      <td>0.0</td>\n",
       "      <td>0.0</td>\n",
       "      <td>0.0</td>\n",
       "      <td>0.000662</td>\n",
       "      <td>0.0</td>\n",
       "      <td>0.0</td>\n",
       "      <td>0.0</td>\n",
       "      <td>0.0</td>\n",
       "      <td>0.0</td>\n",
       "      <td>0.0</td>\n",
       "    </tr>\n",
       "    <tr>\n",
       "      <th>2</th>\n",
       "      <td>8</td>\n",
       "      <td>\"Frontal pole, layer 2/3\"</td>\n",
       "      <td>\"FRP2/3\"</td>\n",
       "      <td>1073.0</td>\n",
       "      <td>667</td>\n",
       "      <td>True</td>\n",
       "      <td>0.250000</td>\n",
       "      <td>0.002346</td>\n",
       "      <td>0.004648</td>\n",
       "      <td>0.0</td>\n",
       "      <td>...</td>\n",
       "      <td>0.0</td>\n",
       "      <td>0.0</td>\n",
       "      <td>0.0</td>\n",
       "      <td>0.000927</td>\n",
       "      <td>0.0</td>\n",
       "      <td>0.0</td>\n",
       "      <td>0.0</td>\n",
       "      <td>0.0</td>\n",
       "      <td>0.0</td>\n",
       "      <td>0.0</td>\n",
       "    </tr>\n",
       "    <tr>\n",
       "      <th>3</th>\n",
       "      <td>19</td>\n",
       "      <td>\"Primary motor area, Layer 1\"</td>\n",
       "      <td>\"MOp1\"</td>\n",
       "      <td>888.0</td>\n",
       "      <td>320</td>\n",
       "      <td>True</td>\n",
       "      <td>0.000000</td>\n",
       "      <td>0.000000</td>\n",
       "      <td>0.000000</td>\n",
       "      <td>0.0</td>\n",
       "      <td>...</td>\n",
       "      <td>0.0</td>\n",
       "      <td>0.0</td>\n",
       "      <td>0.0</td>\n",
       "      <td>0.005086</td>\n",
       "      <td>0.0</td>\n",
       "      <td>0.0</td>\n",
       "      <td>0.0</td>\n",
       "      <td>0.0</td>\n",
       "      <td>0.0</td>\n",
       "      <td>0.0</td>\n",
       "    </tr>\n",
       "    <tr>\n",
       "      <th>4</th>\n",
       "      <td>20</td>\n",
       "      <td>\"Primary motor area, Layer 2/3\"</td>\n",
       "      <td>\"MOp2/3\"</td>\n",
       "      <td>966.0</td>\n",
       "      <td>943</td>\n",
       "      <td>True</td>\n",
       "      <td>0.000000</td>\n",
       "      <td>0.000000</td>\n",
       "      <td>0.000000</td>\n",
       "      <td>0.0</td>\n",
       "      <td>...</td>\n",
       "      <td>0.0</td>\n",
       "      <td>0.0</td>\n",
       "      <td>0.0</td>\n",
       "      <td>0.015707</td>\n",
       "      <td>0.0</td>\n",
       "      <td>0.0</td>\n",
       "      <td>0.0</td>\n",
       "      <td>0.0</td>\n",
       "      <td>0.0</td>\n",
       "      <td>0.0</td>\n",
       "    </tr>\n",
       "  </tbody>\n",
       "</table>\n",
       "<p>5 rows × 603 columns</p>\n",
       "</div>"
      ],
      "text/plain": [
       "   full_ant_index                        structure   acronym  ish_id  ant_id  \\\n",
       "0               0                           \"root\"    \"root\"    -1.0     997   \n",
       "1               7          \"Frontal pole, layer 1\"    \"FRP1\"   998.0      68   \n",
       "2               8        \"Frontal pole, layer 2/3\"  \"FRP2/3\"  1073.0     667   \n",
       "3              19    \"Primary motor area, Layer 1\"    \"MOp1\"   888.0     320   \n",
       "4              20  \"Primary motor area, Layer 2/3\"  \"MOp2/3\"   966.0     943   \n",
       "\n",
       "   in_200_atlas  region_overlap_ratio  jac_overlap_ratio  DICE_neg_jcb_anat  \\\n",
       "0          True              0.069196           0.010389           0.018065   \n",
       "1          True              0.300000           0.002011           0.003995   \n",
       "2          True              0.250000           0.002346           0.004648   \n",
       "3          True              0.000000           0.000000           0.000000   \n",
       "4          True              0.000000           0.000000           0.000000   \n",
       "\n",
       "   MICE_feature_0  ...  MICE_feature_584  MICE_feature_585  MICE_feature_586  \\\n",
       "0             0.0  ...               0.0               0.0               0.0   \n",
       "1             0.0  ...               0.0               0.0               0.0   \n",
       "2             0.0  ...               0.0               0.0               0.0   \n",
       "3             0.0  ...               0.0               0.0               0.0   \n",
       "4             0.0  ...               0.0               0.0               0.0   \n",
       "\n",
       "   MICE_feature_587  MICE_feature_588  MICE_feature_589  MICE_feature_590  \\\n",
       "0          0.014465               0.0               0.0               0.0   \n",
       "1          0.000662               0.0               0.0               0.0   \n",
       "2          0.000927               0.0               0.0               0.0   \n",
       "3          0.005086               0.0               0.0               0.0   \n",
       "4          0.015707               0.0               0.0               0.0   \n",
       "\n",
       "   MICE_feature_591  MICE_feature_592  MICE_feature_593  \n",
       "0               0.0               0.0               0.0  \n",
       "1               0.0               0.0               0.0  \n",
       "2               0.0               0.0               0.0  \n",
       "3               0.0               0.0               0.0  \n",
       "4               0.0               0.0               0.0  \n",
       "\n",
       "[5 rows x 603 columns]"
      ]
     },
     "execution_count": 57,
     "metadata": {},
     "output_type": "execute_result"
    }
   ],
   "source": [
    "overlap_df.head()"
   ]
  },
  {
   "cell_type": "code",
   "execution_count": 71,
   "metadata": {},
   "outputs": [],
   "source": [
    "# Loading annotations dataframe\n",
    "ant_df_path = '/data/bioprotean/ABA/Template/structures.csv'\n",
    "ant_df = pd.read_csv(ant_df_path, index_col = 'Unnamed: 0')\n",
    "ant_df['in_200_ant'] = False"
   ]
  },
  {
   "cell_type": "code",
   "execution_count": 72,
   "metadata": {},
   "outputs": [
    {
     "data": {
      "text/html": [
       "<div>\n",
       "<style scoped>\n",
       "    .dataframe tbody tr th:only-of-type {\n",
       "        vertical-align: middle;\n",
       "    }\n",
       "\n",
       "    .dataframe tbody tr th {\n",
       "        vertical-align: top;\n",
       "    }\n",
       "\n",
       "    .dataframe thead th {\n",
       "        text-align: right;\n",
       "    }\n",
       "</style>\n",
       "<table border=\"1\" class=\"dataframe\">\n",
       "  <thead>\n",
       "    <tr style=\"text-align: right;\">\n",
       "      <th></th>\n",
       "      <th>structure</th>\n",
       "      <th>acronym</th>\n",
       "      <th>ish_id</th>\n",
       "      <th>ant_id</th>\n",
       "      <th>in_200_ant</th>\n",
       "    </tr>\n",
       "  </thead>\n",
       "  <tbody>\n",
       "    <tr>\n",
       "      <th>0</th>\n",
       "      <td>\"root\"</td>\n",
       "      <td>\"root\"</td>\n",
       "      <td>-1.0</td>\n",
       "      <td>997</td>\n",
       "      <td>False</td>\n",
       "    </tr>\n",
       "    <tr>\n",
       "      <th>1</th>\n",
       "      <td>\"Basic cell groups and regions\"</td>\n",
       "      <td>\"grey\"</td>\n",
       "      <td>0.0</td>\n",
       "      <td>8</td>\n",
       "      <td>False</td>\n",
       "    </tr>\n",
       "    <tr>\n",
       "      <th>2</th>\n",
       "      <td>\"Cerebrum\"</td>\n",
       "      <td>\"CH\"</td>\n",
       "      <td>70.0</td>\n",
       "      <td>567</td>\n",
       "      <td>False</td>\n",
       "    </tr>\n",
       "    <tr>\n",
       "      <th>3</th>\n",
       "      <td>\"Cerebral cortex\"</td>\n",
       "      <td>\"CTX\"</td>\n",
       "      <td>85.0</td>\n",
       "      <td>688</td>\n",
       "      <td>False</td>\n",
       "    </tr>\n",
       "    <tr>\n",
       "      <th>4</th>\n",
       "      <td>\"Cortical plate\"</td>\n",
       "      <td>\"CTXpl\"</td>\n",
       "      <td>86.0</td>\n",
       "      <td>695</td>\n",
       "      <td>False</td>\n",
       "    </tr>\n",
       "  </tbody>\n",
       "</table>\n",
       "</div>"
      ],
      "text/plain": [
       "                         structure  acronym  ish_id  ant_id  in_200_ant\n",
       "0                           \"root\"   \"root\"    -1.0     997       False\n",
       "1  \"Basic cell groups and regions\"   \"grey\"     0.0       8       False\n",
       "2                       \"Cerebrum\"     \"CH\"    70.0     567       False\n",
       "3                \"Cerebral cortex\"    \"CTX\"    85.0     688       False\n",
       "4                 \"Cortical plate\"  \"CTXpl\"    86.0     695       False"
      ]
     },
     "execution_count": 72,
     "metadata": {},
     "output_type": "execute_result"
    }
   ],
   "source": [
    "ant_df.head()"
   ]
  },
  {
   "cell_type": "code",
   "execution_count": 66,
   "metadata": {},
   "outputs": [],
   "source": [
    "# Loading the anatomy file\n",
    "ant_file = '/data/bioprotean/RAG2/AVG/MWT_avg/to_allen/overlap/200um/allen_annot200.nii'\n",
    "ant_vec = nifti_to_array(ant_file)\n",
    "\n",
    "# List of regions\n",
    "regions_list = np.unique(ant_vec)"
   ]
  },
  {
   "cell_type": "code",
   "execution_count": 74,
   "metadata": {},
   "outputs": [
    {
     "name": "stderr",
     "output_type": "stream",
     "text": [
      "/home/mabbasi6/.local/lib/python3.7/site-packages/pandas/core/indexing.py:1637: SettingWithCopyWarning: \n",
      "A value is trying to be set on a copy of a slice from a DataFrame\n",
      "\n",
      "See the caveats in the documentation: https://pandas.pydata.org/pandas-docs/stable/user_guide/indexing.html#returning-a-view-versus-a-copy\n",
      "  self._setitem_single_block(indexer, value, name)\n"
     ]
    }
   ],
   "source": [
    "# Checking if the region ID exists in the annotations file\n",
    "for count, ant_id in enumerate(ant_df['ant_id']):\n",
    "    if ant_id in regions_list:\n",
    "        ant_df['in_200_ant'].loc[count] = True"
   ]
  },
  {
   "cell_type": "code",
   "execution_count": 76,
   "metadata": {},
   "outputs": [
    {
     "data": {
      "text/plain": [
       "574"
      ]
     },
     "execution_count": 76,
     "metadata": {},
     "output_type": "execute_result"
    }
   ],
   "source": [
    "np.sum(ant_df['in_200_ant'])"
   ]
  },
  {
   "cell_type": "code",
   "execution_count": 77,
   "metadata": {},
   "outputs": [
    {
     "name": "stdout",
     "output_type": "stream",
     "text": [
      "10671.0\n",
      "10703.0\n",
      "10704.0\n",
      "182305700.0\n",
      "182305710.0\n",
      "312782560.0\n",
      "312782600.0\n",
      "312782620.0\n",
      "312782660.0\n",
      "484682460.0\n",
      "484682500.0\n",
      "484682530.0\n",
      "496345660.0\n",
      "526157200.0\n",
      "527697000.0\n",
      "549009200.0\n",
      "560581570.0\n",
      "563807400.0\n",
      "576073700.0\n",
      "589508400.0\n",
      "589508500.0\n",
      "599626940.0\n",
      "606826600.0\n",
      "606826700.0\n",
      "607344830.0\n",
      "614454300.0\n"
     ]
    }
   ],
   "source": [
    "# Checking if the region ID exists in the annotations file\n",
    "for ant_id in regions_list:\n",
    "    if ant_id not in ant_df['ant_id']:\n",
    "        print(ant_id)"
   ]
  },
  {
   "cell_type": "code",
   "execution_count": null,
   "metadata": {},
   "outputs": [],
   "source": []
  }
 ],
 "metadata": {
  "kernelspec": {
   "display_name": "Py3-basic",
   "language": "python",
   "name": "python3"
  },
  "language_info": {
   "codemirror_mode": {
    "name": "ipython",
    "version": 3
   },
   "file_extension": ".py",
   "mimetype": "text/x-python",
   "name": "python",
   "nbconvert_exporter": "python",
   "pygments_lexer": "ipython3",
   "version": "3.7.2"
  }
 },
 "nbformat": 4,
 "nbformat_minor": 2
}
