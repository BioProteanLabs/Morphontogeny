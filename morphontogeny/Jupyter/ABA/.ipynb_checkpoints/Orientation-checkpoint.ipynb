{
 "cells": [
  {
   "cell_type": "markdown",
   "metadata": {},
   "source": [
    "# Orientation of brain regions"
   ]
  },
  {
   "cell_type": "code",
   "execution_count": 54,
   "metadata": {},
   "outputs": [],
   "source": [
    "import numpy as np\n",
    "import matplotlib.pyplot as plt\n",
    "%matplotlib inline\n",
    "%run nifti_tools.ipynb"
   ]
  },
  {
   "cell_type": "code",
   "execution_count": 2,
   "metadata": {},
   "outputs": [],
   "source": [
    "# Loading the Allen Reference Atlas\n",
    "allen_path = '/data/bioprotean/ABA/PCA/80_variance/allen_annot200.nii'\n",
    "reference = nifti_to_array(allen_path)"
   ]
  },
  {
   "cell_type": "code",
   "execution_count": 55,
   "metadata": {},
   "outputs": [],
   "source": [
    "def find_orientation(region_id):\n",
    "    '''\n",
    "    Showing the main orientation of the region.\n",
    "    \n",
    "    Args:\n",
    "        region_id: int\n",
    "            ID of the brain region.\n",
    "    \n",
    "    Returns:\n",
    "        ratio: float\n",
    "            Ratio of Sagittal/Axial length.\n",
    "    '''\n",
    "    \n",
    "    # Loading the Allen Reference Atlas\n",
    "    allen_path = '/data/bioprotean/ABA/PCA/80_variance/allen_annot200.nii'\n",
    "    reference = nifti_to_array(allen_path)\n",
    "    \n",
    "    # Masking the ARA for the brain region\n",
    "    mask_region = np.where(reference == region_id)\n",
    "    \n",
    "    # Lengths in different locations\n",
    "    length_0 = mask_region[0][-1] - mask_region[0][0]\n",
    "    length_1 = mask_region[1][-1] - mask_region[1][0]\n",
    "    length_2 = mask_region[2][-1] - mask_region[2][0]\n",
    "    \n",
    "#     # Choosing the orientation\n",
    "#     length_list = [length_0, length_1, length_2]\n",
    "#     max_value = max(length_list)\n",
    "#     orientation = length_list.index(max_value)\n",
    "\n",
    "    # Computing the ratio\n",
    "    ratio = length_0 / length_1\n",
    "    \n",
    "    return ratio"
   ]
  },
  {
   "cell_type": "code",
   "execution_count": 60,
   "metadata": {},
   "outputs": [
    {
     "data": {
      "text/plain": [
       "0.7368421052631579"
      ]
     },
     "execution_count": 60,
     "metadata": {},
     "output_type": "execute_result"
    }
   ],
   "source": [
    "find_orientation(728)"
   ]
  },
  {
   "cell_type": "code",
   "execution_count": null,
   "metadata": {},
   "outputs": [],
   "source": []
  }
 ],
 "metadata": {
  "kernelspec": {
   "display_name": "Py3-basic",
   "language": "python",
   "name": "python3"
  },
  "language_info": {
   "codemirror_mode": {
    "name": "ipython",
    "version": 3
   },
   "file_extension": ".py",
   "mimetype": "text/x-python",
   "name": "python",
   "nbconvert_exporter": "python",
   "pygments_lexer": "ipython3",
   "version": "3.7.2"
  }
 },
 "nbformat": 4,
 "nbformat_minor": 2
}
