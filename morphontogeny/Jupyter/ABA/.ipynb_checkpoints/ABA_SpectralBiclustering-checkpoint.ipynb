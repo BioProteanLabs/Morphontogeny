{
 "cells": [
  {
   "cell_type": "markdown",
   "metadata": {},
   "source": [
    "# Spectral (Bi/Co)Clustering on ABA"
   ]
  },
  {
   "cell_type": "code",
   "execution_count": 1,
   "metadata": {},
   "outputs": [],
   "source": [
    "import time\n",
    "import numpy as np\n",
    "import matplotlib.pyplot as plt\n",
    "from sklearn.cluster import SpectralBiclustering\n",
    "from sklearn.cluster import SpectralCoclustering\n",
    "%matplotlib inline\n",
    "%run nifti_tools.ipynb"
   ]
  },
  {
   "cell_type": "code",
   "execution_count": 2,
   "metadata": {},
   "outputs": [
    {
     "name": "stdout",
     "output_type": "stream",
     "text": [
      "Running time is  56.56173372268677\n"
     ]
    }
   ],
   "source": [
    "# With variance of 80%\n",
    "X = np.load('/data/bioprotean/ABA/KernelPCA/poly2/31512_80v_components.npy')\n",
    "\n",
    "start_time = time.time()\n",
    "\n",
    "n_clusters = 200\n",
    "SB = SpectralCoclustering(n_clusters=n_clusters).fit(X)\n",
    "\n",
    "print('Running time is ', (time.time() - start_time))"
   ]
  },
  {
   "cell_type": "code",
   "execution_count": 3,
   "metadata": {},
   "outputs": [],
   "source": [
    "labels = SB.row_labels_"
   ]
  },
  {
   "cell_type": "code",
   "execution_count": 4,
   "metadata": {},
   "outputs": [],
   "source": [
    "# Reconstructing the clusters\n",
    "indices_path = '/data/bioprotean/ABA/MEMMAP/genes_list/half_indices.npy'\n",
    "labels_rc = reconstruct_ABA(labels, indices_path)"
   ]
  },
  {
   "cell_type": "code",
   "execution_count": 6,
   "metadata": {},
   "outputs": [
    {
     "data": {
      "text/plain": [
       "<matplotlib.image.AxesImage at 0x2ab054a4c240>"
      ]
     },
     "execution_count": 6,
     "metadata": {},
     "output_type": "execute_result"
    },
    {
     "data": {
      "image/png": "[encoded data removed]",
      "text/plain": [
       "<Figure size 432x288 with 1 Axes>"
      ]
     },
     "metadata": {
      "needs_background": "light"
     },
     "output_type": "display_data"
    }
   ],
   "source": [
    "# Visualizing slices\n",
    "slice = labels_rc[20,:,:]\n",
    "plt.imshow(slice)"
   ]
  },
  {
   "cell_type": "code",
   "execution_count": 7,
   "metadata": {},
   "outputs": [
    {
     "data": {
      "text/plain": [
       "<matplotlib.image.AxesImage at 0x2ab056ae6630>"
      ]
     },
     "execution_count": 7,
     "metadata": {},
     "output_type": "execute_result"
    },
    {
     "data": {
      "image/png": "[encoded data removed]",
      "text/plain": [
       "<Figure size 432x288 with 1 Axes>"
      ]
     },
     "metadata": {
      "needs_background": "light"
     },
     "output_type": "display_data"
    }
   ],
   "source": [
    "# Loading annotations\n",
    "annot_path = '/data/bioprotean/ABA/PCA/80_variance/allen_annot200.nii'\n",
    "annot_arr = nifti_to_array(annot_path)\n",
    "\n",
    "# Visualizing slices\n",
    "slice = annot_arr[20,:,:]\n",
    "threshold = (slice<10000) * slice\n",
    "plt.imshow(threshold)"
   ]
  },
  {
   "cell_type": "code",
   "execution_count": null,
   "metadata": {},
   "outputs": [],
   "source": []
  }
 ],
 "metadata": {
  "kernelspec": {
   "display_name": "Py3-basic",
   "language": "python",
   "name": "python3"
  },
  "language_info": {
   "codemirror_mode": {
    "name": "ipython",
    "version": 3
   },
   "file_extension": ".py",
   "mimetype": "text/x-python",
   "name": "python",
   "nbconvert_exporter": "python",
   "pygments_lexer": "ipython3",
   "version": "3.7.2"
  }
 },
 "nbformat": 4,
 "nbformat_minor": 2
}
