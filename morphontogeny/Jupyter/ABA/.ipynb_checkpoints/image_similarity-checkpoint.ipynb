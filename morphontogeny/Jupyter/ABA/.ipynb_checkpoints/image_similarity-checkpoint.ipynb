{
 "cells": [
  {
   "cell_type": "markdown",
   "metadata": {},
   "source": [
    "# Checking similarity of neuroanatomy and clusters\n",
    "Using: https://pypi.org/project/image-similarity-measures/\n",
    "<br>This helped: https://github.com/up42/image-similarity-measures/issues/25\n",
    "* Root mean square error (RMSE),\n",
    "* Peak signal-to-noise ratio (PSNR),\n",
    "* Structural Similarity Index (SSIM),\n",
    "* Feature-based similarity index (FSIM),\n",
    "* Information theoretic-based Statistic Similarity Measure (ISSM),\n",
    "* Signal to reconstruction error ratio (SRE),\n",
    "* Spectral angle mapper (SAM), and\n",
    "* Universal image quality index (UIQ)"
   ]
  },
  {
   "cell_type": "code",
   "execution_count": 2,
   "metadata": {},
   "outputs": [],
   "source": [
    "import numpy as np\n",
    "import nibabel as nib\n",
    "from sklearn.metrics import mean_squared_error\n",
    "import image_similarity_measures.quality_metrics as qm\n",
    "from scipy.spatial.distance import directed_hausdorff\n",
    "from sklearn import preprocessing\n",
    "%run nifti_tools.ipynb\n",
    "%matplotlib inline"
   ]
  },
  {
   "cell_type": "code",
   "execution_count": 3,
   "metadata": {},
   "outputs": [],
   "source": [
    "# Inputting annotations and clusters\n",
    "annot_path = '/data/bioprotean/ABA/PCA/clusters/allen_annot200.nii'\n",
    "annot_array = nifti_to_array(annot_path)\n",
    "\n",
    "cluster_path = '/data/bioprotean/ABA/PCA/clusters/nclusters_fixed30.nii'\n",
    "cluster_array = nifti_to_array(cluster_path)"
   ]
  },
  {
   "cell_type": "code",
   "execution_count": 27,
   "metadata": {},
   "outputs": [],
   "source": [
    "# Normalizing arrays\n",
    "# This function takes 2D arrays\n",
    "nrm_annot_2D = preprocessing.normalize(annot_array.reshape(67,-1))\n",
    "nrm_cluster_2D = preprocessing.normalize(cluster_array.reshape(67,-1))"
   ]
  },
  {
   "cell_type": "code",
   "execution_count": 29,
   "metadata": {},
   "outputs": [],
   "source": [
    "# Taking arrays back to 3D for image-similarity-measure functions\n",
    "nrm_annot_array = nrm_annot_2D.reshape((67,58,41))\n",
    "nrm_cluster_array = nrm_cluster_2D.reshape((67,58,41))"
   ]
  },
  {
   "cell_type": "code",
   "execution_count": 32,
   "metadata": {},
   "outputs": [
    {
     "name": "stdout",
     "output_type": "stream",
     "text": [
      "6.371361e-06\n"
     ]
    }
   ],
   "source": [
    "# Computing the similarity measure\n",
    "measure = qm.rmse(nrm_annot_array, nrm_cluster_array)\n",
    "print(measure)"
   ]
  },
  {
   "cell_type": "code",
   "execution_count": 22,
   "metadata": {},
   "outputs": [],
   "source": [
    "# I guess RMSE wouldn't work, why?\n",
    "# Labels have random numbers in different clusters!\n",
    "\n",
    "# Checking RMSE for different clusters\n",
    "rmse_list = []\n",
    "for i in range(1,51):\n",
    "    # Loading clusters\n",
    "    cluster_path = '/data/bioprotean/ABA/PCA/clusters/nclusters_fixed'+str(i)+'.nii'\n",
    "    cluster_vec = nifti_to_vector(cluster_path)\n",
    "    \n",
    "    # Normalizing the annotations and clusters\n",
    "    norm = MinMaxScaler().fit(X_train)\n",
    "    \n",
    "    \n",
    "    # Getting RMSE\n",
    "    rmse = math.sqrt(mean_squared_error(annot_vec, cluster_vec))\n",
    "    \n",
    "    # Adding to the list\n",
    "    rmse_list.append(rmse)"
   ]
  },
  {
   "cell_type": "code",
   "execution_count": 10,
   "metadata": {},
   "outputs": [
    {
     "name": "stderr",
     "output_type": "stream",
     "text": [
      "/home/mabbasi6/.local/lib/python3.7/site-packages/phasepack/phasecong.py:397: RuntimeWarning: invalid value encountered in true_divide\n",
      "  thisPC = weight * Energy / sumAn_ThisOrient\n"
     ]
    },
    {
     "name": "stdout",
     "output_type": "stream",
     "text": [
      "nan\n"
     ]
    }
   ],
   "source": [
    "import cv2\n",
    "import image_similarity_measures.quality_metrics as qm\n",
    "\n",
    "# i1 = cv2.imread('/data/bioprotean/ABA/PCA/optimum_K/elbow_figure.png')\n",
    "# i2 = cv2.imread(\"images/tmp2.png\")\n",
    "print(qm.fsim(annot_array, cluster_array))"
   ]
  },
  {
   "cell_type": "code",
   "execution_count": 6,
   "metadata": {},
   "outputs": [
    {
     "name": "stderr",
     "output_type": "stream",
     "text": [
      "/packages/7x/anaconda3/5.3.0/lib/python3.7/site-packages/ipykernel_launcher.py:9: UserWarning: `x` isn't a recognized object; `shuffle` is not guaranteed to behave correctly. E.g., non-numpy array/tensor objects with view semantics may contain duplicates after shuffling.\n",
      "  if __name__ == '__main__':\n"
     ]
    },
    {
     "data": {
      "text/plain": [
       "5574264711.0900955"
      ]
     },
     "execution_count": 6,
     "metadata": {},
     "output_type": "execute_result"
    }
   ],
   "source": [
    "# Trying the Hausdorff distance\n",
    "# Inputting annotations and clusters\n",
    "annot_path = '/data/bioprotean/ABA/PCA/clusters/allen_annot200.nii'\n",
    "annot_array = nifti_to_vector(annot_path).reshape(67,-1)\n",
    "\n",
    "cluster_path = '/data/bioprotean/ABA/PCA/clusters/nclusters_fixed2.nii'\n",
    "cluster_array = nifti_to_vector(cluster_path).reshape(67,-1)\n",
    "\n",
    "directed_hausdorff(annot_array,cluster_array)[0]"
   ]
  },
  {
   "cell_type": "code",
   "execution_count": 14,
   "metadata": {},
   "outputs": [
    {
     "name": "stderr",
     "output_type": "stream",
     "text": [
      "/packages/7x/anaconda3/5.3.0/lib/python3.7/site-packages/ipykernel_launcher.py:7: UserWarning: `x` isn't a recognized object; `shuffle` is not guaranteed to behave correctly. E.g., non-numpy array/tensor objects with view semantics may contain duplicates after shuffling.\n",
      "  import sys\n"
     ]
    },
    {
     "data": {
      "text/plain": [
       "5574264357.510037"
      ]
     },
     "execution_count": 14,
     "metadata": {},
     "output_type": "execute_result"
    }
   ],
   "source": [
    "annot_path = '/data/bioprotean/ABA/PCA/clusters/allen_annot200.nii'\n",
    "annot_array = nifti_to_vector(annot_path).reshape(67,-1)\n",
    "\n",
    "cluster_path = '/data/bioprotean/ABA/PCA/clusters/nclusters_fixed50.nii'\n",
    "cluster_array = nifti_to_vector(cluster_path).reshape(67,-1)\n",
    "\n",
    "directed_hausdorff(annot_array,cluster_array)[0]"
   ]
  },
  {
   "cell_type": "code",
   "execution_count": null,
   "metadata": {},
   "outputs": [],
   "source": [
    "# The hausdorff distance is decreasing from cluster 1 to 50.\n",
    "# Need to further extend the clusterings"
   ]
  },
  {
   "cell_type": "code",
   "execution_count": null,
   "metadata": {},
   "outputs": [],
   "source": []
  }
 ],
 "metadata": {
  "kernelspec": {
   "display_name": "Py3-basic",
   "language": "python",
   "name": "python3"
  },
  "language_info": {
   "codemirror_mode": {
    "name": "ipython",
    "version": 3
   },
   "file_extension": ".py",
   "mimetype": "text/x-python",
   "name": "python",
   "nbconvert_exporter": "python",
   "pygments_lexer": "ipython3",
   "version": "3.7.2"
  }
 },
 "nbformat": 4,
 "nbformat_minor": 2
}
