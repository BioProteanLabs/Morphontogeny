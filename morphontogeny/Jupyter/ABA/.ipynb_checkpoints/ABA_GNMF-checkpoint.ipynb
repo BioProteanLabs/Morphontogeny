{
 "cells": [
  {
   "cell_type": "code",
   "execution_count": 4,
   "metadata": {},
   "outputs": [],
   "source": [
    "import time\n",
    "import numpy as np\n",
    "import pandas as pd\n",
    "from libnmf.gnmf import GNMF\n",
    "import matplotlib.pyplot as plt\n",
    "%matplotlib inline\n",
    "%run nifti_tools.ipynb\n",
    "%run overlap_functions.ipynb"
   ]
  },
  {
   "cell_type": "code",
   "execution_count": 5,
   "metadata": {},
   "outputs": [],
   "source": [
    "# Loading the positive data\n",
    "X = np.load('/data/bioprotean/ABA/MEMMAP/genes_list/ABA_mask_pos_L2.npy')"
   ]
  },
  {
   "cell_type": "code",
   "execution_count": null,
   "metadata": {},
   "outputs": [],
   "source": [
    "# Running Graph-Regularized Non-Negative Matrix Factorization\n",
    "gnmf = GNMF(X, rank = 200)\n",
    "gnmf.compute_factors(max_iter = 20, lmd = 0.3, weight_type = 'heat-kernel', param = 0.4)"
   ]
  },
  {
   "cell_type": "code",
   "execution_count": null,
   "metadata": {},
   "outputs": [],
   "source": []
  }
 ],
 "metadata": {
  "kernelspec": {
   "display_name": "Py3-basic",
   "language": "python",
   "name": "python3"
  },
  "language_info": {
   "codemirror_mode": {
    "name": "ipython",
    "version": 3
   },
   "file_extension": ".py",
   "mimetype": "text/x-python",
   "name": "python",
   "nbconvert_exporter": "python",
   "pygments_lexer": "ipython3",
   "version": "3.7.2"
  }
 },
 "nbformat": 4,
 "nbformat_minor": 2
}
