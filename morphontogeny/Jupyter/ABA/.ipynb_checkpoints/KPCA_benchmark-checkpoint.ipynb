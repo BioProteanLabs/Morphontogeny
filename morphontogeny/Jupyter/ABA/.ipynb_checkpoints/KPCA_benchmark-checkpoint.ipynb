{
 "cells": [
  {
   "cell_type": "code",
   "execution_count": 4,
   "metadata": {},
   "outputs": [],
   "source": [
    "import time\n",
    "import scipy\n",
    "import numpy as np\n",
    "import matplotlib.pyplot as plt\n",
    "from sklearn.decomposition import KernelPCA\n",
    "%matplotlib inline"
   ]
  },
  {
   "cell_type": "code",
   "execution_count": 2,
   "metadata": {},
   "outputs": [],
   "source": [
    "# Benchmarking\n",
    "samples_list = [100,200,400,600,800,1000,1500,2000,3000,4000,5000,6000,7000]\n",
    "time_list = []\n",
    "\n",
    "for n_samples in samples_list:\n",
    "    # Generating random X\n",
    "    X = np.random.randn(n_samples,3000)\n",
    "    \n",
    "    # Starting the counter\n",
    "    start_time = time.time()\n",
    "    \n",
    "    # Running KPCA\n",
    "    kpca = KernelPCA(n_components=X.shape[0], kernel='poly', degree=2, \\\n",
    "    fit_inverse_transform=True, random_state=0, n_jobs=-1)\n",
    "    components = kpca.fit_transform(X)\n",
    "    lambdas = kpca.lambdas_\n",
    "    alphas = kpca.alphas_\n",
    "    dual_coef = kpca.dual_coef_\n",
    "    transformed_fit = kpca.X_transformed_fit_\n",
    "    \n",
    "    # Adding time to the list\n",
    "    finish_time = time.time()\n",
    "    time_list.append(finish_time - start_time)"
   ]
  },
  {
   "cell_type": "code",
   "execution_count": 3,
   "metadata": {},
   "outputs": [
    {
     "data": {
      "text/plain": [
       "[<matplotlib.lines.Line2D at 0x2b97c6cd39b0>]"
      ]
     },
     "execution_count": 3,
     "metadata": {},
     "output_type": "execute_result"
    },
    {
     "data": {
      "image/png": "[encoded data removed]",
      "text/plain": [
       "<Figure size 432x288 with 1 Axes>"
      ]
     },
     "metadata": {
      "needs_background": "light"
     },
     "output_type": "display_data"
    }
   ],
   "source": [
    "# Initiating the plot\n",
    "fig, ax = plt.subplots()\n",
    "\n",
    "# Plotting the ratios\n",
    "ax.plot(samples_list, time_list)"
   ]
  },
  {
   "cell_type": "code",
   "execution_count": 11,
   "metadata": {},
   "outputs": [],
   "source": [
    "x = samples_list\n",
    "y = time_list\n",
    "\n",
    "fit = scipy.optimize.curve_fit(lambda t,a,b: a*np.exp(b*t),x,y,p0=(0, 0))"
   ]
  },
  {
   "cell_type": "code",
   "execution_count": 16,
   "metadata": {},
   "outputs": [
    {
     "data": {
      "text/plain": [
       "[<matplotlib.lines.Line2D at 0x2b97c6f9a898>]"
      ]
     },
     "execution_count": 16,
     "metadata": {},
     "output_type": "execute_result"
    },
    {
     "data": {
      "image/png": "[encoded data removed]",
      "text/plain": [
       "<Figure size 432x288 with 1 Axes>"
      ]
     },
     "metadata": {
      "needs_background": "light"
     },
     "output_type": "display_data"
    }
   ],
   "source": [
    "x_arr = np.array(x)\n",
    "z = fit[0][0] * np.exp(fit[0][1] * x_arr)\n",
    "# Initiating the plot\n",
    "fig, ax = plt.subplots()\n",
    "\n",
    "# Plotting the ratios\n",
    "ax.plot(samples_list, time_list)\n",
    "ax.plot(x_arr, z)"
   ]
  },
  {
   "cell_type": "code",
   "execution_count": 22,
   "metadata": {},
   "outputs": [
    {
     "data": {
      "text/plain": [
       "46.788645831070646"
      ]
     },
     "execution_count": 22,
     "metadata": {},
     "output_type": "execute_result"
    }
   ],
   "source": [
    "fit[0][0] * np.exp(fit[0][1] * 30000) / (24*3600)"
   ]
  },
  {
   "cell_type": "code",
   "execution_count": null,
   "metadata": {},
   "outputs": [],
   "source": [
    "# Reshaping and saving the array\n",
    "np.save('/data/bioprotean/ABA/KernelPCA/poly2/test_components.npy', components)\n",
    "np.save('/data/bioprotean/ABA/KernelPCA/poly2/test_lambdas.npy', lambdas)\n",
    "np.save('/data/bioprotean/ABA/KernelPCA/poly2/test_alphas.npy', alphas)\n",
    "np.save('/data/bioprotean/ABA/KernelPCA/poly2/test_dual_coef.npy', dual_coef)\n",
    "np.save('/data/bioprotean/ABA/KernelPCA/poly2/test_transformed_fit.npy', transformed_fit)"
   ]
  },
  {
   "cell_type": "code",
   "execution_count": null,
   "metadata": {},
   "outputs": [],
   "source": [
    "# Generating random X\n",
    "X = np.random.randn(60000,10)\n",
    "\n",
    "# Starting the counter\n",
    "start_time = time.time()\n",
    "\n",
    "# Running KPCA\n",
    "kpca = KernelPCA(n_components=X.shape[0], kernel='poly', degree=2, \\\n",
    "fit_inverse_transform=True, random_state=0, n_jobs=-1)\n",
    "components = kpca.fit_transform(X)\n",
    "lambdas = kpca.lambdas_\n",
    "alphas = kpca.alphas_\n",
    "dual_coef = kpca.dual_coef_\n",
    "transformed_fit = kpca.X_transformed_fit_\n",
    "\n",
    "# Adding time to the list\n",
    "finish_time = time.time()\n",
    "print(finish_time - start_time)"
   ]
  },
  {
   "cell_type": "code",
   "execution_count": null,
   "metadata": {},
   "outputs": [],
   "source": []
  }
 ],
 "metadata": {
  "kernelspec": {
   "display_name": "Py3-basic",
   "language": "python",
   "name": "python3"
  },
  "language_info": {
   "codemirror_mode": {
    "name": "ipython",
    "version": 3
   },
   "file_extension": ".py",
   "mimetype": "text/x-python",
   "name": "python",
   "nbconvert_exporter": "python",
   "pygments_lexer": "ipython3",
   "version": "3.7.2"
  }
 },
 "nbformat": 4,
 "nbformat_minor": 2
}
