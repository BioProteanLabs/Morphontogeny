{
 "cells": [
  {
   "cell_type": "code",
   "execution_count": 1,
   "metadata": {},
   "outputs": [],
   "source": [
    "%run overlap_functions.ipynb\n",
    "import seaborn as sns\n",
    "import matplotlib.pyplot as plt\n",
    "%matplotlib inline\n",
    "from sklearn.metrics import silhouette_score"
   ]
  },
  {
   "cell_type": "markdown",
   "metadata": {},
   "source": [
    "# For PCA + K-means clusters"
   ]
  },
  {
   "cell_type": "code",
   "execution_count": 3,
   "metadata": {},
   "outputs": [
    {
     "data": {
      "text/html": [
       "<div>\n",
       "<style scoped>\n",
       "    .dataframe tbody tr th:only-of-type {\n",
       "        vertical-align: middle;\n",
       "    }\n",
       "\n",
       "    .dataframe tbody tr th {\n",
       "        vertical-align: top;\n",
       "    }\n",
       "\n",
       "    .dataframe thead th {\n",
       "        text-align: right;\n",
       "    }\n",
       "</style>\n",
       "<table border=\"1\" class=\"dataframe\">\n",
       "  <thead>\n",
       "    <tr style=\"text-align: right;\">\n",
       "      <th></th>\n",
       "      <th>K</th>\n",
       "      <th>AMI</th>\n",
       "      <th>Silhouette</th>\n",
       "    </tr>\n",
       "  </thead>\n",
       "  <tbody>\n",
       "    <tr>\n",
       "      <th>0</th>\n",
       "      <td>1</td>\n",
       "      <td>-8.950789e-17</td>\n",
       "      <td>NaN</td>\n",
       "    </tr>\n",
       "    <tr>\n",
       "      <th>1</th>\n",
       "      <td>2</td>\n",
       "      <td>3.029351e-01</td>\n",
       "      <td>NaN</td>\n",
       "    </tr>\n",
       "    <tr>\n",
       "      <th>2</th>\n",
       "      <td>3</td>\n",
       "      <td>3.818624e-01</td>\n",
       "      <td>NaN</td>\n",
       "    </tr>\n",
       "    <tr>\n",
       "      <th>3</th>\n",
       "      <td>4</td>\n",
       "      <td>4.206111e-01</td>\n",
       "      <td>NaN</td>\n",
       "    </tr>\n",
       "    <tr>\n",
       "      <th>4</th>\n",
       "      <td>5</td>\n",
       "      <td>4.619584e-01</td>\n",
       "      <td>NaN</td>\n",
       "    </tr>\n",
       "  </tbody>\n",
       "</table>\n",
       "</div>"
      ],
      "text/plain": [
       "   K           AMI  Silhouette\n",
       "0  1 -8.950789e-17         NaN\n",
       "1  2  3.029351e-01         NaN\n",
       "2  3  3.818624e-01         NaN\n",
       "3  4  4.206111e-01         NaN\n",
       "4  5  4.619584e-01         NaN"
      ]
     },
     "execution_count": 3,
     "metadata": {},
     "output_type": "execute_result"
    }
   ],
   "source": [
    "# Loading the Adjusted Mutual Information score\n",
    "score_path = '/data/bioprotean/ABA/PCA/80_variance/PC_80v_score.csv'\n",
    "score_df = pd.read_csv(score_path, index_col = 'Unnamed: 0')\n",
    "score_df.head()"
   ]
  },
  {
   "cell_type": "code",
   "execution_count": null,
   "metadata": {},
   "outputs": [],
   "source": [
    "# Sample Silhouette score\n",
    "\n",
    "# Loading the PC array as X\n",
    "X = np.load('/data/bioprotean/ABA/PCA/PC_80v.npy')\n",
    "\n",
    "# Loading labels\n",
    "labels = np.load('/data/bioprotean/ABA/PCA/80_variance/Kmeans_labels/1_clusters.npy').flatten()\n",
    "\n",
    "score = silhouette_score(X, labels)"
   ]
  },
  {
   "cell_type": "code",
   "execution_count": null,
   "metadata": {},
   "outputs": [],
   "source": [
    "# Calculating Silhouette score with for loop\n",
    "\n",
    "# List of K values\n",
    "numbers_list = list(range(50,551,50))\n",
    "add = 594\n",
    "numbers_list.append(add)\n",
    "\n",
    "Sil_list = []\n",
    "\n",
    "for value in numbers_list:    \n",
    "    # Loading the labels\n",
    "    cluster_path = '/data/bioprotean/ABA/PCA/80_variance/Kmeans_labels/'+str(value)+'_clusters.npy'\n",
    "    cluster = np.load(cluster_path).flatten()\n",
    "    \n",
    "    Sil_list.append(silhouette_score(X, cluster))"
   ]
  },
  {
   "cell_type": "code",
   "execution_count": 16,
   "metadata": {},
   "outputs": [],
   "source": [
    "# Loading the calculated scores\n",
    "\n",
    "# List of K values\n",
    "numbers_list = list(range(2,50))\n",
    "extra_list = list(range(50,551,50))\n",
    "add_number = 594\n",
    "numbers_list.extend(extra_list)\n",
    "numbers_list.append(add_number)\n",
    "\n",
    "# The list of scores\n",
    "score_list = []\n",
    "\n",
    "# Silhouette score starts with 2 clusters, manually defining 1 as 0\n",
    "score_list.append(0)\n",
    "\n",
    "# Loading the already calculated scores\n",
    "for i in numbers_list:\n",
    "    # Loading the score from NPY\n",
    "    SS_path = '/data/bioprotean/ABA/PCA/80_variance/Silhouette/SS_'+str(i)+'.npy'\n",
    "    SS = float(np.load(SS_path))\n",
    "    \n",
    "    score_list.append(SS)"
   ]
  },
  {
   "cell_type": "code",
   "execution_count": 19,
   "metadata": {},
   "outputs": [],
   "source": [
    "# Adding values to DataFrame\n",
    "score_df['Silhouette'] = score_list\n",
    "\n",
    "# Saving to CSV\n",
    "score_df.to_csv('/data/bioprotean/ABA/PCA/80_variance/PC_80v_score.csv')"
   ]
  },
  {
   "cell_type": "markdown",
   "metadata": {},
   "source": [
    "# For DLSC + K-means clusters"
   ]
  },
  {
   "cell_type": "code",
   "execution_count": 20,
   "metadata": {},
   "outputs": [
    {
     "data": {
      "text/html": [
       "<div>\n",
       "<style scoped>\n",
       "    .dataframe tbody tr th:only-of-type {\n",
       "        vertical-align: middle;\n",
       "    }\n",
       "\n",
       "    .dataframe tbody tr th {\n",
       "        vertical-align: top;\n",
       "    }\n",
       "\n",
       "    .dataframe thead th {\n",
       "        text-align: right;\n",
       "    }\n",
       "</style>\n",
       "<table border=\"1\" class=\"dataframe\">\n",
       "  <thead>\n",
       "    <tr style=\"text-align: right;\">\n",
       "      <th></th>\n",
       "      <th>K</th>\n",
       "      <th>AMI</th>\n",
       "      <th>Silhouette</th>\n",
       "    </tr>\n",
       "  </thead>\n",
       "  <tbody>\n",
       "    <tr>\n",
       "      <th>0</th>\n",
       "      <td>1</td>\n",
       "      <td>-8.950789e-17</td>\n",
       "      <td>NaN</td>\n",
       "    </tr>\n",
       "    <tr>\n",
       "      <th>1</th>\n",
       "      <td>2</td>\n",
       "      <td>2.075557e-02</td>\n",
       "      <td>NaN</td>\n",
       "    </tr>\n",
       "    <tr>\n",
       "      <th>2</th>\n",
       "      <td>3</td>\n",
       "      <td>1.560250e-01</td>\n",
       "      <td>NaN</td>\n",
       "    </tr>\n",
       "    <tr>\n",
       "      <th>3</th>\n",
       "      <td>4</td>\n",
       "      <td>1.950712e-01</td>\n",
       "      <td>NaN</td>\n",
       "    </tr>\n",
       "    <tr>\n",
       "      <th>4</th>\n",
       "      <td>5</td>\n",
       "      <td>2.748161e-01</td>\n",
       "      <td>NaN</td>\n",
       "    </tr>\n",
       "  </tbody>\n",
       "</table>\n",
       "</div>"
      ],
      "text/plain": [
       "   K           AMI  Silhouette\n",
       "0  1 -8.950789e-17         NaN\n",
       "1  2  2.075557e-02         NaN\n",
       "2  3  1.560250e-01         NaN\n",
       "3  4  1.950712e-01         NaN\n",
       "4  5  2.748161e-01         NaN"
      ]
     },
     "execution_count": 20,
     "metadata": {},
     "output_type": "execute_result"
    }
   ],
   "source": [
    "# Loading the Adjusted Mutual Information score\n",
    "score_path = '/data/bioprotean/ABA/DLSC/pos_std/DLSC_100_score.csv'\n",
    "score_df = pd.read_csv(score_path, index_col = 'Unnamed: 0')\n",
    "score_df.head()"
   ]
  },
  {
   "cell_type": "code",
   "execution_count": 21,
   "metadata": {},
   "outputs": [],
   "source": [
    "# Loading the calculated scores\n",
    "\n",
    "# List of K values\n",
    "numbers_list = list(range(2,50))\n",
    "extra_list = list(range(50,551,50))\n",
    "add_number = 594\n",
    "numbers_list.extend(extra_list)\n",
    "numbers_list.append(add_number)\n",
    "\n",
    "# The list of scores\n",
    "score_list = []\n",
    "\n",
    "# Silhouette score starts with 2 clusters, manually defining 1 as 0\n",
    "score_list.append(0)\n",
    "\n",
    "# Loading the already calculated scores\n",
    "for i in numbers_list:\n",
    "    # Loading the score from NPY\n",
    "    SS_path = '/data/bioprotean/ABA/DLSC/pos_std/Silhouette/SS_'+str(i)+'.npy'\n",
    "    SS = float(np.load(SS_path))\n",
    "    \n",
    "    score_list.append(SS)"
   ]
  },
  {
   "cell_type": "code",
   "execution_count": 22,
   "metadata": {},
   "outputs": [],
   "source": [
    "# Adding values to DataFrame\n",
    "score_df['Silhouette'] = score_list\n",
    "\n",
    "# Saving to CSV\n",
    "score_df.to_csv('/data/bioprotean/ABA/DLSC/pos_std/DLSC_100_score.csv')"
   ]
  },
  {
   "cell_type": "code",
   "execution_count": null,
   "metadata": {},
   "outputs": [],
   "source": []
  }
 ],
 "metadata": {
  "kernelspec": {
   "display_name": "Py3-basic",
   "language": "python",
   "name": "python3"
  },
  "language_info": {
   "codemirror_mode": {
    "name": "ipython",
    "version": 3
   },
   "file_extension": ".py",
   "mimetype": "text/x-python",
   "name": "python",
   "nbconvert_exporter": "python",
   "pygments_lexer": "ipython3",
   "version": "3.7.2"
  }
 },
 "nbformat": 4,
 "nbformat_minor": 2
}
