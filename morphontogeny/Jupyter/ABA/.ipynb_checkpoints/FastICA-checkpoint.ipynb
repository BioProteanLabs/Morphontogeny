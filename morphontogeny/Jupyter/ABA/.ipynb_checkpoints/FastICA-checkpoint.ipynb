{
 "cells": [
  {
   "cell_type": "markdown",
   "metadata": {},
   "source": [
    "# FastICA with Scikit-Learn\n",
    "Tutorial from: https://scikit-learn.org/stable/auto_examples/decomposition/plot_ica_blind_source_separation.html"
   ]
  },
  {
   "cell_type": "code",
   "execution_count": 1,
   "metadata": {},
   "outputs": [],
   "source": [
    "import numpy as np\n",
    "from sklearn.decomposition import FastICA\n",
    "import concurrent.futures as cf\n",
    "import matplotlib.pyplot as plt\n",
    "%matplotlib inline\n",
    "import nibabel as nib\n",
    "# Loading NIFTI codes\n",
    "%run nifti_tools.ipynb\n",
    "import os"
   ]
  },
  {
   "cell_type": "code",
   "execution_count": 2,
   "metadata": {},
   "outputs": [],
   "source": [
    "# Loading the standardized matrix\n",
    "X_std = np.memmap('/data/bioprotean/SVD/vg/matx_vg_scaled.mymemmap', dtype='float32', \\\n",
    "mode='r', shape=(159326,2941))"
   ]
  },
  {
   "cell_type": "code",
   "execution_count": null,
   "metadata": {},
   "outputs": [],
   "source": [
    "# Creating an ICA instance and computing it\n",
    "ica = FastICA(n_components=10)\n",
    "S_ = ica.fit_transform(X_std)\n",
    "A_ = ica.mixing_"
   ]
  },
  {
   "cell_type": "code",
   "execution_count": 12,
   "metadata": {},
   "outputs": [],
   "source": [
    "# Parallel function to do ICA on data\n",
    "\n",
    "def ICA_parallel(n):\n",
    "    # Creating an ICA instance\n",
    "    ica = FastICA(n_components = n)\n",
    "    \n",
    "    # Applying to the data\n",
    "    S_ = ica.fit_transform(X_std)\n",
    "    A_ = ica.mixing_\n",
    "    \n",
    "    # Saving Independent Components and mixing matrices to NPY file\n",
    "    np.save('/data/bioprotean/ABA/ICA/components/S/S_'+str(n)+'.npy', S_)\n",
    "    np.save('/data/bioprotean/ABA/ICA/components/A/S_'+str(n)+'.npy', A_)\n",
    "    \n",
    "#     # Saving each component of the experiment in different file\n",
    "#     # Making a subdirectory to store components\n",
    "#     path_S = '/data/bioprotean/ABA/ICA/components/separate_S/'+str(n)+'_ICs'\n",
    "#     path_A = '/data/bioprotean/ABA/ICA/components/separate_A/'+str(n)+'_ICs'\n",
    "#     mode = 0o666\n",
    "#     os.mkdir(path_S, mode)\n",
    "#     os.mkdir(path_A, mode)\n",
    "    \n",
    "with cf.ProcessPoolExecutor() as executor:\n",
    "    numbers = range(1,200)\n",
    "    results = executor.map(ICA_parallel, numbers)"
   ]
  },
  {
   "cell_type": "code",
   "execution_count": 3,
   "metadata": {},
   "outputs": [],
   "source": [
    "# Creating an ICA instance and computing it\n",
    "ica = FastICA(n_components=30)\n",
    "S_ = ica.fit_transform(X_std)\n",
    "A_ = ica.mixing_"
   ]
  },
  {
   "cell_type": "code",
   "execution_count": 4,
   "metadata": {},
   "outputs": [],
   "source": [
    "# Saving ICs and mixing matrix to files\n",
    "np.save('/data/bioprotean/SVD/ICA/matrix/IC_S_30.npy', S_)\n",
    "np.save('/data/bioprotean/SVD/ICA/matrix/IC_A_30.npy', A_)"
   ]
  },
  {
   "cell_type": "code",
   "execution_count": 26,
   "metadata": {},
   "outputs": [],
   "source": [
    "# Saving columns as NIFTI files\n",
    "for i in range(30):\n",
    "    column_array = S_[:,i].reshape(67,58,41)\n",
    "    outfile = '/data/bioprotean/SVD/ICA/IC_30/IC_'+str(i+1)+'.nii'\n",
    "    array_to_nifti(column_array, outfile)"
   ]
  },
  {
   "cell_type": "code",
   "execution_count": 27,
   "metadata": {},
   "outputs": [],
   "source": [
    "# Correcting the headers using another already correct header\n",
    "base = '/data/bioprotean/SVD/ICA/IC_30/nclusters_fixed11.nii'\n",
    "for i in range(30):\n",
    "    input = '/data/bioprotean/SVD/ICA/IC_30/IC_'+str(i+1)+'.nii'\n",
    "    outfile = '/data/bioprotean/SVD/ICA/IC_30/IC_'+str(i+1)+'.nii'\n",
    "    copy_nifti_header(base, input, outfile)"
   ]
  },
  {
   "cell_type": "code",
   "execution_count": 65,
   "metadata": {},
   "outputs": [
    {
     "data": {
      "image/png": "[encoded data removed]",
      "text/plain": [
       "<Figure size 432x288 with 1 Axes>"
      ]
     },
     "metadata": {
      "needs_background": "light"
     },
     "output_type": "display_data"
    }
   ],
   "source": [
    "# Plotting histogram of components\n",
    "n, bins, patches = plt.hist(S_[:,18], 50, facecolor='blue', alpha=0.5)\n",
    "plt.show()"
   ]
  },
  {
   "cell_type": "code",
   "execution_count": 60,
   "metadata": {},
   "outputs": [
    {
     "data": {
      "text/plain": [
       "<matplotlib.image.AxesImage at 0x2b8ffbbe0550>"
      ]
     },
     "execution_count": 60,
     "metadata": {},
     "output_type": "execute_result"
    },
    {
     "data": {
      "image/png": "[encoded data removed]",
      "text/plain": [
       "<Figure size 432x288 with 1 Axes>"
      ]
     },
     "metadata": {
      "needs_background": "light"
     },
     "output_type": "display_data"
    }
   ],
   "source": [
    "# Visualizing the independent components\n",
    "component_slice = S_[:,18].reshape(67,58,41)\n",
    "plt.imshow(component_slice[10,:,:])"
   ]
  },
  {
   "cell_type": "code",
   "execution_count": null,
   "metadata": {},
   "outputs": [],
   "source": [
    "# Getting a sample 4D Nifti file\n",
    "infile = '/data/bioprotean/RAG2/AVG/MWT_avg/Jacobian/JCB/MKO_MWTavg_2set_ttest.nii'\n",
    "img_try = nib.load(infile)\n",
    "print(img_try.dataobj.shape)"
   ]
  }
 ],
 "metadata": {
  "kernelspec": {
   "display_name": "Py3-basic",
   "language": "python",
   "name": "python3"
  },
  "language_info": {
   "codemirror_mode": {
    "name": "ipython",
    "version": 3
   },
   "file_extension": ".py",
   "mimetype": "text/x-python",
   "name": "python",
   "nbconvert_exporter": "python",
   "pygments_lexer": "ipython3",
   "version": "3.7.2"
  }
 },
 "nbformat": 4,
 "nbformat_minor": 2
}
