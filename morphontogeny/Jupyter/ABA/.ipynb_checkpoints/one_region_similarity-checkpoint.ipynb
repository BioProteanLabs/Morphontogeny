{
 "cells": [
  {
   "cell_type": "code",
   "execution_count": null,
   "metadata": {},
   "outputs": [],
   "source": [
    "import sys\n",
    "import numpy as np\n",
    "import pandas as pd\n",
    "import nibabel as nib\n",
    "import matplotlib.pyplot as plt\n",
    "%run nifti_tools.ipynb\n",
    "%matplotlib inline"
   ]
  },
  {
   "cell_type": "markdown",
   "metadata": {},
   "source": [
    "**Modifying the annotations list**"
   ]
  },
  {
   "cell_type": "code",
   "execution_count": null,
   "metadata": {},
   "outputs": [],
   "source": [
    "# Loading the list of annotations structures and acronyms\n",
    "annotations_df = pd.read_csv('/data/bioprotean/ABA/PCA/similarity/neuroantomy/annotations_list.csv')\n",
    "annotations_df"
   ]
  },
  {
   "cell_type": "markdown",
   "metadata": {},
   "source": [
    "**Adding a new column of True or False if used in 200 um annotations file**"
   ]
  },
  {
   "cell_type": "code",
   "execution_count": null,
   "metadata": {},
   "outputs": [],
   "source": [
    "# Loading the annotations NIFTI file and saving as a vector\n",
    "annotations_file = '/data/bioprotean/ABA/PCA/similarity/neuroantomy/allen_annot200.nii'\n",
    "annotations_vector = nifti_to_vector(annotations_file)"
   ]
  },
  {
   "cell_type": "code",
   "execution_count": null,
   "metadata": {},
   "outputs": [],
   "source": [
    "# Adding the new column to save the results\n",
    "annotations_df['in_200_atlas'] = False\n",
    "annotations_df"
   ]
  },
  {
   "cell_type": "code",
   "execution_count": null,
   "metadata": {},
   "outputs": [],
   "source": [
    "# Looping over different regions in the dataframe\n",
    "for i in range(annotations_df.shape[0]):\n",
    "    # The region ID\n",
    "    region_id = annotations_df.ant_id[i]\n",
    "    \n",
    "    # Masked array where 1 replaces the values of that region id\n",
    "    masked_array = np.where(annotations_vector != region_id, 0, 1)\n",
    "    \n",
    "    if np.sum(masked_array != 0):\n",
    "        annotations_df.in_200_atlas[i] = True"
   ]
  },
  {
   "cell_type": "code",
   "execution_count": null,
   "metadata": {},
   "outputs": [],
   "source": [
    "copy_df"
   ]
  },
  {
   "cell_type": "code",
   "execution_count": null,
   "metadata": {},
   "outputs": [],
   "source": [
    "annotations_df"
   ]
  },
  {
   "cell_type": "code",
   "execution_count": null,
   "metadata": {},
   "outputs": [],
   "source": [
    "annotations_df.in_200_atlas.value_counts()"
   ]
  },
  {
   "cell_type": "code",
   "execution_count": 22,
   "metadata": {},
   "outputs": [],
   "source": [
    "annotations_df.to_csv('/data/bioprotean/ABA/PCA/similarity/neuroantomy/new_list.csv')"
   ]
  },
  {
   "cell_type": "markdown",
   "metadata": {},
   "source": [
    "# Overlap with one brain region: \"IC\""
   ]
  },
  {
   "cell_type": "code",
   "execution_count": null,
   "metadata": {},
   "outputs": [],
   "source": [
    "# What cluster has the highest overlap with this region?\n",
    "def max_overlap_cluster_region(ant_path, cluster_path, ant_id):\n",
    "    \"\"\"\n",
    "    This function finds the cluster that has the highest overlap with the given brain region.\n",
    "    \n",
    "    Arguments:\n",
    "        ant_path (str): Path to the NIFTI annotations file\n",
    "        cluster_path (str): Path to the NIFTI clustered file\n",
    "        ant_id (int): ID of the region to measure overlap with\n",
    "    \n",
    "    Returns:\n",
    "        max_cluster_id (int): ID of the cluster with the maximum overlap with the region\n",
    "    \"\"\"\n",
    "    \n",
    "    # Loading the annotations and cluster file\n",
    "    ant_vec = nifti_to_vector(ant_path)\n",
    "    cluster_vec = nifti_to_vector(cluster_path)\n",
    "    \n",
    "    # Number of clusters in the cluster file\n",
    "    n_clusters = np.unique(cluster_vec).shape[0]\n",
    "    \n",
    "    for i in range(n_clusters):\n",
    "        "
   ]
  }
 ],
 "metadata": {
  "kernelspec": {
   "display_name": "Py3-basic",
   "language": "python",
   "name": "python3"
  },
  "language_info": {
   "codemirror_mode": {
    "name": "ipython",
    "version": 3
   },
   "file_extension": ".py",
   "mimetype": "text/x-python",
   "name": "python",
   "nbconvert_exporter": "python",
   "pygments_lexer": "ipython3",
   "version": "3.7.2"
  }
 },
 "nbformat": 4,
 "nbformat_minor": 2
}
