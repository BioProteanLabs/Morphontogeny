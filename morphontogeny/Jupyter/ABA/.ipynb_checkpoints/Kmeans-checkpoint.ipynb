{
 "cells": [
  {
   "cell_type": "markdown",
   "metadata": {},
   "source": [
    "# K-means Clustering and visualization\n",
    "Tutorial from: http://www.cs.uoi.gr/~tsap/teaching/2016-cse012/slides/Intro-to-Clustering.html"
   ]
  },
  {
   "cell_type": "code",
   "execution_count": 1,
   "metadata": {},
   "outputs": [],
   "source": [
    "import numpy as np\n",
    "import pandas as pd\n",
    "import matplotlib.pyplot as plt\n",
    "import concurrent.futures as cf\n",
    "from sklearn.cluster import KMeans\n",
    "from scipy.spatial.distance import cdist\n",
    "import nibabel as nib\n",
    "import os\n",
    "%matplotlib inline\n",
    "%run nifti_tools.ipynb"
   ]
  },
  {
   "cell_type": "code",
   "execution_count": 2,
   "metadata": {},
   "outputs": [],
   "source": [
    "# Loading the Principal Components of ABA\n",
    "X = np.memmap('/data/bioprotean/SVD/vg/rc.mymemmap', dtype='float32', mode='r', shape=(159326,271))"
   ]
  },
  {
   "cell_type": "code",
   "execution_count": null,
   "metadata": {},
   "outputs": [],
   "source": [
    "# Running K-means clustering with n clusters\n",
    "n_clusters = 8\n",
    "kmeans = KMeans(init='k-means++', n_clusters=n_clusters, n_init=50, random_state=0)\n",
    "kmeans.fit_predict(X)\n",
    "centroids = kmeans.cluster_centers_\n",
    "kmeans_labels = kmeans.labels_\n",
    "error = kmeans.inertia_"
   ]
  },
  {
   "cell_type": "markdown",
   "metadata": {},
   "source": [
    "# Finding optimum value for K\n",
    "Tutorial from https://www.geeksforgeeks.org/elbow-method-for-optimal-value-of-k-in-kmeans/"
   ]
  },
  {
   "cell_type": "code",
   "execution_count": null,
   "metadata": {},
   "outputs": [],
   "source": [
    "distortions = []\n",
    "inertias = []\n",
    "mapping1 = {}\n",
    "mapping2 = {}\n",
    "K = range(1, 30)\n",
    "\n",
    "for k in K:\n",
    "    # Building and fitting the model\n",
    "    kmeanModel = KMeans(n_clusters=k).fit(X)\n",
    "    kmeanModel.fit(X)\n",
    " \n",
    "    distortions.append(sum(np.min(cdist(X, kmeanModel.cluster_centers_,\n",
    "                                        'euclidean'), axis=1)) / X.shape[0])\n",
    "    inertias.append(kmeanModel.inertia_)\n",
    " \n",
    "    mapping1[k] = sum(np.min(cdist(X, kmeanModel.cluster_centers_,\n",
    "                                   'euclidean'), axis=1)) / X.shape[0]\n",
    "    mapping2[k] = kmeanModel.inertia_\n",
    "\n",
    "plt.plot(K, distortions, 'bx-')\n",
    "plt.xlabel('Values of K')\n",
    "plt.ylabel('Distortion')\n",
    "plt.title('The Elbow Method using Distortion')\n",
    "plt.show()"
   ]
  },
  {
   "cell_type": "markdown",
   "metadata": {},
   "source": [
    "# Multiprocessing for finding optimum value for K"
   ]
  },
  {
   "cell_type": "code",
   "execution_count": null,
   "metadata": {},
   "outputs": [],
   "source": [
    "# Loading the principal components array\n",
    "pc_n271_array = np.load('/data/bioprotean/ABA/PCA/PC_n271.npy')\n",
    "\n",
    "# Defining min, max and step values\n",
    "min = 10\n",
    "max = 301\n",
    "step = 10\n",
    "number_Ks = int(((max-min)/step)+1)\n",
    "\n",
    "# Creating an array to store inertias\n",
    "inertias_arr = np.zeros((2,number_Ks))\n",
    "inertias_arr[0,:] = np.array(range(min,max,step))\n",
    "\n",
    "def OptimumK_parallel(n):\n",
    "    # Running K-means clustering\n",
    "    kmeans = KMeans(init='k-means++', n_clusters=n, n_init=50, random_state=0).fit(pc_n271_array)\n",
    "    kmeans.fit(pc_n271_array)\n",
    "    \n",
    "    # Adding the inertia to the results array\n",
    "    inertias_arr[1,n] = kmeans.inertia_\n",
    "    \n",
    "with cf.ProcessPoolExecutor() as executor:\n",
    "    numbers = range(min,max,step)\n",
    "    results = executor.map(OptimumK_parallel, numbers)\n",
    "\n",
    "np.save('/data/bioprotean/ABA/PCA/optimum_K/inertias_arr.npy', inertias_arr)"
   ]
  },
  {
   "cell_type": "code",
   "execution_count": 9,
   "metadata": {},
   "outputs": [],
   "source": [
    "# Loading the array\n",
    "inertias_arr = np.load('/data/bioprotean/ABA/PCA/optimum_K/inertias_arr.npy')"
   ]
  },
  {
   "cell_type": "markdown",
   "metadata": {},
   "source": [
    "# Running K-means in for loop"
   ]
  },
  {
   "cell_type": "code",
   "execution_count": 4,
   "metadata": {},
   "outputs": [],
   "source": [
    "# Loading the principal components array\n",
    "pc_n271_array = np.load('/data/bioprotean/ABA/PCA/PC_n271.npy')\n",
    "\n",
    "# Base image to copy header from\n",
    "base = '/data/bioprotean/ABA/PCA/clusters/nclusters_fixed10.nii'\n",
    "\n",
    "for i in range (51,53):\n",
    "    # Running K-means clustering\n",
    "    kmeans = KMeans(init='k-means++', n_clusters=i, n_init=50, random_state=0)\n",
    "    kmeans.fit_predict(pc_n271_array)\n",
    "    labels_array = kmeans.labels_.reshape(67,58,41)\n",
    "    \n",
    "    # Saving as nii file\n",
    "    output_file = '/data/bioprotean/ABA/PCA/clusters/nclusters_'+str(i)+'.nii'\n",
    "    array_to_nifti(labels_array, output_file)"
   ]
  },
  {
   "cell_type": "markdown",
   "metadata": {},
   "source": [
    "# Multiprocessing"
   ]
  },
  {
   "cell_type": "code",
   "execution_count": null,
   "metadata": {},
   "outputs": [],
   "source": [
    "# Loading the principal components array\n",
    "pc_n271_array = np.load('/data/bioprotean/ABA/PCA/PC_n271.npy')\n",
    "\n",
    "# Base image to copy header from\n",
    "base = '/data/bioprotean/ABA/PCA/clusters/nclusters_fixed10.nii'\n",
    "\n",
    "def Kmeans_parallel(n):\n",
    "    # Running K-means clustering\n",
    "    kmeans = KMeans(init='k-means++', n_clusters=n, n_init=50, random_state=0)\n",
    "    kmeans.fit_predict(pc_n271_array)\n",
    "    labels_array = kmeans.labels_.reshape(67,58,41)\n",
    "    \n",
    "    # Saving as nii file\n",
    "    output_file = '/data/bioprotean/ABA/PCA/clusters/nclusters_'+str(n)+'.nii'\n",
    "    array_to_nifti(labels_array, output_file)\n",
    "    \n",
    "    # Modifying the NIFTI header\n",
    "    outfile = '/data/bioprotean/ABA/PCA/clusters/nclusters_fixed'+str(n)+'.nii'\n",
    "    copy_nifti_header(base, output_file, outfile)\n",
    "    \n",
    "with cf.ProcessPoolExecutor() as executor:\n",
    "    numbers = range(300,601,25)\n",
    "    results = executor.map(Kmeans_parallel, numbers)"
   ]
  },
  {
   "cell_type": "code",
   "execution_count": 2,
   "metadata": {},
   "outputs": [],
   "source": [
    "# Saving the NII files as NPY\n",
    "for i in range(1, 285):\n",
    "    input = '/data/bioprotean/ABA/PCA/Kmeans_labels/NII/nclusters_fixed'+str(i)+'.nii'\n",
    "    output = '/data/bioprotean/ABA/PCA/Kmeans_labels/NPY/nclusters_'+str(i)+'.npy'\n",
    "    nifti_to_npy(input, output)"
   ]
  }
 ],
 "metadata": {
  "kernelspec": {
   "display_name": "Py3-basic",
   "language": "python",
   "name": "python3"
  },
  "language_info": {
   "codemirror_mode": {
    "name": "ipython",
    "version": 3
   },
   "file_extension": ".py",
   "mimetype": "text/x-python",
   "name": "python",
   "nbconvert_exporter": "python",
   "pygments_lexer": "ipython3",
   "version": "3.7.2"
  }
 },
 "nbformat": 4,
 "nbformat_minor": 2
}
