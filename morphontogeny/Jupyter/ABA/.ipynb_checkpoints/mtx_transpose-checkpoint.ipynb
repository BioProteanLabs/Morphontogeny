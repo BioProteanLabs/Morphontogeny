{
 "cells": [
  {
   "cell_type": "markdown",
   "metadata": {},
   "source": [
    "# E(v,g) : voxel * gene"
   ]
  },
  {
   "cell_type": "code",
   "execution_count": 1,
   "metadata": {},
   "outputs": [],
   "source": [
    "# Loading libraries\n",
    "import numpy as np\n",
    "from numpy import array\n",
    "from numpy import diag\n",
    "from numpy import dot\n",
    "from numpy import zeros\n",
    "from scipy.linalg import svd"
   ]
  },
  {
   "cell_type": "code",
   "execution_count": 2,
   "metadata": {},
   "outputs": [],
   "source": [
    "# Loading the gene * voxel matrix\n",
    "genes_mmp = np.memmap('/home/mabbasi6/morphometry/correlation/SVD/genes_scaled.mymemmap', dtype='float32', mode='r', \\\n",
    "                      shape=(2941,159326))"
   ]
  },
  {
   "cell_type": "code",
   "execution_count": 3,
   "metadata": {},
   "outputs": [],
   "source": [
    "# Creating the transpose matrix as np memmap\n",
    "trans_mmp = np.memmap('/data/bioprotean/SVD/matx_vg_scaled.mymemmap', dtype='float32', mode='r', \\\n",
    "                      shape=(159326,2941))"
   ]
  },
  {
   "cell_type": "code",
   "execution_count": null,
   "metadata": {},
   "outputs": [],
   "source": [
    "for i in range (genes_mmp.shape[0]):\n",
    "    for j in range (genes_mmp.shape[1]):\n",
    "        trans_mmp[j,i] = genes_mmp[i,j]"
   ]
  },
  {
   "cell_type": "code",
   "execution_count": 8,
   "metadata": {},
   "outputs": [
    {
     "name": "stdout",
     "output_type": "stream",
     "text": [
      "-38298.277\n",
      "-38298.277\n"
     ]
    }
   ],
   "source": [
    "print(np.sum(genes_mmp[2940,:]))\n",
    "print(np.sum(trans_mmp[:,2940]))"
   ]
  }
 ],
 "metadata": {
  "kernelspec": {
   "display_name": "Py3-basic",
   "language": "python",
   "name": "python3"
  },
  "language_info": {
   "codemirror_mode": {
    "name": "ipython",
    "version": 3
   },
   "file_extension": ".py",
   "mimetype": "text/x-python",
   "name": "python",
   "nbconvert_exporter": "python",
   "pygments_lexer": "ipython3",
   "version": "3.7.2"
  }
 },
 "nbformat": 4,
 "nbformat_minor": 2
}
