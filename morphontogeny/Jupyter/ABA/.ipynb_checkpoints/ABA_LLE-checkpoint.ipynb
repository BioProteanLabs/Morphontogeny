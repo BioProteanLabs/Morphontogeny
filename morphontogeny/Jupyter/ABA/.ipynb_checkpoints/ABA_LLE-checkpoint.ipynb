{
 "cells": [
  {
   "cell_type": "code",
   "execution_count": 1,
   "metadata": {},
   "outputs": [],
   "source": [
    "import time\n",
    "import numpy as np\n",
    "import pandas as pd\n",
    "import matplotlib.pyplot as plt\n",
    "from sklearn.manifold import LocallyLinearEmbedding as LLE\n",
    "%matplotlib inline\n",
    "%run nifti_tools.ipynb\n",
    "%run overlap_functions.ipynb"
   ]
  },
  {
   "cell_type": "code",
   "execution_count": 2,
   "metadata": {},
   "outputs": [],
   "source": [
    "# Loading the voxel * gene matrix\n",
    "X = np.load('/data/bioprotean/ABA/MEMMAP/genes_list/genes_half_mask_pos_std.npy')"
   ]
  },
  {
   "cell_type": "code",
   "execution_count": null,
   "metadata": {},
   "outputs": [],
   "source": [
    "# Running Locally Linear Embedding\n",
    "n = 200\n",
    "embedding = LocallyLinearEmbedding(n_components = n)\n",
    "X_t = embedding.fit_transform(X)\n",
    "\n",
    "# Saving features\n",
    "np.save('/data/bioprotean/ABA/LLE/'+str(n)+'_components.npy', X_t)"
   ]
  },
  {
   "cell_type": "code",
   "execution_count": 3,
   "metadata": {},
   "outputs": [],
   "source": [
    "# Loading features\n",
    "components = np.load('/data/bioprotean/ABA/LLE/200_components.npy')"
   ]
  },
  {
   "cell_type": "code",
   "execution_count": null,
   "metadata": {},
   "outputs": [],
   "source": []
  }
 ],
 "metadata": {
  "kernelspec": {
   "display_name": "Py3-basic",
   "language": "python",
   "name": "python3"
  },
  "language_info": {
   "codemirror_mode": {
    "name": "ipython",
    "version": 3
   },
   "file_extension": ".py",
   "mimetype": "text/x-python",
   "name": "python",
   "nbconvert_exporter": "python",
   "pygments_lexer": "ipython3",
   "version": "3.7.2"
  }
 },
 "nbformat": 4,
 "nbformat_minor": 2
}
