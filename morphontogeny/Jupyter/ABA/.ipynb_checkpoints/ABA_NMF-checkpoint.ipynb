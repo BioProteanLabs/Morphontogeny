{
 "cells": [
  {
   "cell_type": "markdown",
   "metadata": {},
   "source": [
    "# NMF on ABA\n",
    "With -1s to 0s, and L2 normalized"
   ]
  },
  {
   "cell_type": "code",
   "execution_count": 3,
   "metadata": {},
   "outputs": [],
   "source": [
    "import time\n",
    "import numpy as np\n",
    "import matplotlib.pyplot as plt\n",
    "from sklearn.cluster import KMeans\n",
    "from sklearn.decomposition import non_negative_factorization as NMF\n",
    "%matplotlib inline"
   ]
  },
  {
   "cell_type": "code",
   "execution_count": 2,
   "metadata": {},
   "outputs": [
    {
     "name": "stderr",
     "output_type": "stream",
     "text": [
      "/home/mabbasi6/.local/lib/python3.7/site-packages/sklearn/decomposition/_nmf.py:315: FutureWarning: The 'init' value, when 'init=None' and n_components is less than n_samples and n_features, will be changed from 'nndsvd' to 'nndsvda' in 1.1 (renaming of 0.26).\n",
      "  \"'nndsvda' in 1.1 (renaming of 0.26).\"), FutureWarning)\n"
     ]
    },
    {
     "data": {
      "text/plain": [
       "<matplotlib.image.AxesImage at 0x2b534a415cf8>"
      ]
     },
     "execution_count": 2,
     "metadata": {},
     "output_type": "execute_result"
    },
    {
     "data": {
      "image/png": "[encoded data removed]",
      "text/plain": [
       "<Figure size 432x288 with 1 Axes>"
      ]
     },
     "metadata": {
      "needs_background": "light"
     },
     "output_type": "display_data"
    }
   ],
   "source": [
    "# -1s to 0s, and L2 normalized\n",
    "X = np.memmap('/data/bioprotean/ABA/MEMMAP/genes_list/finalgenes_pos_L2.mymemmap',\\\n",
    "dtype='float32', mode='r', shape=(159326,2941))\n",
    "\n",
    "components, H, n_iter = NMF(X, n_components=5, random_state=0)\n",
    "\n",
    "#Visualizing one slice\n",
    "c = components[:,0]\n",
    "vol = c.reshape(67,58,41)\n",
    "s = vol[20,:,:]\n",
    "plt.imshow(s)"
   ]
  },
  {
   "cell_type": "code",
   "execution_count": null,
   "metadata": {},
   "outputs": [
    {
     "name": "stderr",
     "output_type": "stream",
     "text": [
      "/home/mabbasi6/.local/lib/python3.7/site-packages/sklearn/decomposition/_nmf.py:315: FutureWarning: The 'init' value, when 'init=None' and n_components is less than n_samples and n_features, will be changed from 'nndsvd' to 'nndsvda' in 1.1 (renaming of 0.26).\n",
      "  \"'nndsvda' in 1.1 (renaming of 0.26).\"), FutureWarning)\n"
     ]
    }
   ],
   "source": [
    "# For 218 components, same as PCA (with 80% variance)\n",
    "X = np.memmap('/data/bioprotean/ABA/MEMMAP/genes_list/finalgenes_pos_L2.mymemmap',\\\n",
    "dtype='float32', mode='r', shape=(159326,2941))\n",
    "\n",
    "n_components = 218\n",
    "components, H, n_iter = NMF(X, n_components = n_components, random_state=0)\n",
    "\n",
    "np.save('/data/bioprotean/ABA/NMF/W/W_218.npy', components)\n",
    "np.save('/data/bioprotean/ABA/NMF/H/H_218.npy', H)"
   ]
  },
  {
   "cell_type": "code",
   "execution_count": 6,
   "metadata": {},
   "outputs": [
    {
     "data": {
      "text/plain": [
       "<matplotlib.image.AxesImage at 0x2ba5db8ad780>"
      ]
     },
     "execution_count": 6,
     "metadata": {},
     "output_type": "execute_result"
    },
    {
     "data": {
      "image/png": "[encoded data removed]",
      "text/plain": [
       "<Figure size 432x288 with 1 Axes>"
      ]
     },
     "metadata": {
      "needs_background": "light"
     },
     "output_type": "display_data"
    }
   ],
   "source": [
    "# For 218 components\n",
    "components = np.load('/data/bioprotean/ABA/NMF/W/W_218.npy')\n",
    "\n",
    "#Visualizing one slice\n",
    "c = components[:,4]\n",
    "vol = c.reshape(67,58,41)\n",
    "s = vol[20,:,:]\n",
    "plt.imshow(s)"
   ]
  },
  {
   "cell_type": "markdown",
   "metadata": {},
   "source": [
    "# K-means on NMF features"
   ]
  },
  {
   "cell_type": "code",
   "execution_count": 4,
   "metadata": {},
   "outputs": [
    {
     "name": "stdout",
     "output_type": "stream",
     "text": [
      "Running time is  86.71516728401184\n"
     ]
    }
   ],
   "source": [
    "# For 218 components\n",
    "X = np.load('/data/bioprotean/ABA/NMF/W/W_218.npy')\n",
    "\n",
    "start_time = time.time()\n",
    "\n",
    "n_clusters = 10\n",
    "kmeans = KMeans(init='k-means++', n_clusters=n_clusters, n_init=50, random_state=0)\n",
    "kmeans.fit_predict(X)\n",
    "labels = kmeans.labels_\n",
    "\n",
    "print('Running time is ', (time.time() - start_time))"
   ]
  },
  {
   "cell_type": "code",
   "execution_count": 6,
   "metadata": {},
   "outputs": [
    {
     "data": {
      "text/plain": [
       "<matplotlib.image.AxesImage at 0x2ab7f7266748>"
      ]
     },
     "execution_count": 6,
     "metadata": {},
     "output_type": "execute_result"
    },
    {
     "data": {
      "image/png": "[encoded data removed]",
      "text/plain": [
       "<Figure size 432x288 with 1 Axes>"
      ]
     },
     "metadata": {
      "needs_background": "light"
     },
     "output_type": "display_data"
    }
   ],
   "source": [
    "#Visualizing one slice\n",
    "vol = labels.reshape(67,58,41)\n",
    "s = vol[30,:,:]\n",
    "plt.imshow(s)"
   ]
  },
  {
   "cell_type": "code",
   "execution_count": null,
   "metadata": {},
   "outputs": [],
   "source": []
  }
 ],
 "metadata": {
  "kernelspec": {
   "display_name": "Py3-basic",
   "language": "python",
   "name": "python3"
  },
  "language_info": {
   "codemirror_mode": {
    "name": "ipython",
    "version": 3
   },
   "file_extension": ".py",
   "mimetype": "text/x-python",
   "name": "python",
   "nbconvert_exporter": "python",
   "pygments_lexer": "ipython3",
   "version": "3.7.2"
  }
 },
 "nbformat": 4,
 "nbformat_minor": 2
}
