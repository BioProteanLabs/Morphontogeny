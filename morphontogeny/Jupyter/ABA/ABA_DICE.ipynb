{
 "cells": [
  {
   "cell_type": "markdown",
   "metadata": {},
   "source": [
    "# DICE on ABA"
   ]
  },
  {
   "cell_type": "code",
   "execution_count": 3,
   "metadata": {},
   "outputs": [],
   "source": [
    "import time\n",
    "import numpy as np\n",
    "import pandas as pd\n",
    "import matplotlib.pyplot as plt\n",
    "%matplotlib inline\n",
    "%run nifti_tools.ipynb"
   ]
  },
  {
   "cell_type": "code",
   "execution_count": 4,
   "metadata": {},
   "outputs": [
    {
     "name": "stdout",
     "output_type": "stream",
     "text": [
      "Last index included to reach an overlap of 0.51 with Jacobian is 15.\n"
     ]
    },
    {
     "data": {
      "text/html": [
       "<div>\n",
       "<style scoped>\n",
       "    .dataframe tbody tr th:only-of-type {\n",
       "        vertical-align: middle;\n",
       "    }\n",
       "\n",
       "    .dataframe tbody tr th {\n",
       "        vertical-align: top;\n",
       "    }\n",
       "\n",
       "    .dataframe thead th {\n",
       "        text-align: right;\n",
       "    }\n",
       "</style>\n",
       "<table border=\"1\" class=\"dataframe\">\n",
       "  <thead>\n",
       "    <tr style=\"text-align: right;\">\n",
       "      <th></th>\n",
       "      <th>full_ant_index</th>\n",
       "      <th>structure</th>\n",
       "      <th>acronym</th>\n",
       "      <th>ish_id</th>\n",
       "      <th>ant_id</th>\n",
       "      <th>in_200_atlas</th>\n",
       "      <th>region_overlap_ratio</th>\n",
       "      <th>jac_overlap_ratio</th>\n",
       "      <th>DICE_neg_jcb_anat</th>\n",
       "    </tr>\n",
       "  </thead>\n",
       "  <tbody>\n",
       "    <tr>\n",
       "      <th>0</th>\n",
       "      <td>1201</td>\n",
       "      <td>\"internal capsule\"</td>\n",
       "      <td>\"int\"</td>\n",
       "      <td>566.0</td>\n",
       "      <td>6</td>\n",
       "      <td>True</td>\n",
       "      <td>0.810606</td>\n",
       "      <td>0.071716</td>\n",
       "      <td>0.131773</td>\n",
       "    </tr>\n",
       "    <tr>\n",
       "      <th>1</th>\n",
       "      <td>573</td>\n",
       "      <td>\"Caudoputamen\"</td>\n",
       "      <td>\"CP\"</td>\n",
       "      <td>83.0</td>\n",
       "      <td>672</td>\n",
       "      <td>True</td>\n",
       "      <td>0.088754</td>\n",
       "      <td>0.097855</td>\n",
       "      <td>0.093083</td>\n",
       "    </tr>\n",
       "    <tr>\n",
       "      <th>2</th>\n",
       "      <td>610</td>\n",
       "      <td>\"Globus pallidus, external segment\"</td>\n",
       "      <td>\"GPe\"</td>\n",
       "      <td>127.0</td>\n",
       "      <td>1022</td>\n",
       "      <td>True</td>\n",
       "      <td>0.643617</td>\n",
       "      <td>0.040550</td>\n",
       "      <td>0.076293</td>\n",
       "    </tr>\n",
       "    <tr>\n",
       "      <th>3</th>\n",
       "      <td>703</td>\n",
       "      <td>\"Reticular nucleus of the thalamus\"</td>\n",
       "      <td>\"RT\"</td>\n",
       "      <td>315.0</td>\n",
       "      <td>262</td>\n",
       "      <td>True</td>\n",
       "      <td>0.586592</td>\n",
       "      <td>0.035188</td>\n",
       "      <td>0.066393</td>\n",
       "    </tr>\n",
       "    <tr>\n",
       "      <th>4</th>\n",
       "      <td>1188</td>\n",
       "      <td>\"arbor vitae\"</td>\n",
       "      <td>\"arb\"</td>\n",
       "      <td>656.0</td>\n",
       "      <td>728</td>\n",
       "      <td>True</td>\n",
       "      <td>0.117841</td>\n",
       "      <td>0.035858</td>\n",
       "      <td>0.054985</td>\n",
       "    </tr>\n",
       "  </tbody>\n",
       "</table>\n",
       "</div>"
      ],
      "text/plain": [
       "   full_ant_index                            structure acronym  ish_id  \\\n",
       "0            1201                   \"internal capsule\"   \"int\"   566.0   \n",
       "1             573                       \"Caudoputamen\"    \"CP\"    83.0   \n",
       "2             610  \"Globus pallidus, external segment\"   \"GPe\"   127.0   \n",
       "3             703  \"Reticular nucleus of the thalamus\"    \"RT\"   315.0   \n",
       "4            1188                        \"arbor vitae\"   \"arb\"   656.0   \n",
       "\n",
       "   ant_id  in_200_atlas  region_overlap_ratio  jac_overlap_ratio  \\\n",
       "0       6          True              0.810606           0.071716   \n",
       "1     672          True              0.088754           0.097855   \n",
       "2    1022          True              0.643617           0.040550   \n",
       "3     262          True              0.586592           0.035188   \n",
       "4     728          True              0.117841           0.035858   \n",
       "\n",
       "   DICE_neg_jcb_anat  \n",
       "0           0.131773  \n",
       "1           0.093083  \n",
       "2           0.076293  \n",
       "3           0.066393  \n",
       "4           0.054985  "
      ]
     },
     "execution_count": 4,
     "metadata": {},
     "output_type": "execute_result"
    }
   ],
   "source": [
    "# Loading the comprehensive overlap dataframe of brain regions and Jacobian\n",
    "df_path = '/data/bioprotean/RAG2/AVG/MWT_avg/to_allen/overlap/200um/RAG2_neg_comp_overlap_anat.csv'\n",
    "overlap_df = pd.read_csv(df_path, index_col = 'Unnamed: 0')\n",
    "\n",
    "# Sorting the dataframe by DICE coeff and resetting the index\n",
    "sorted_df = overlap_df.sort_values(by=['DICE_neg_jcb_anat'], ascending=False, na_position='last')\n",
    "sorted_df.reset_index(drop=True, inplace=True)\n",
    "\n",
    "# Choosing top hits until the overlap with jacobian reaches a threshold\n",
    "threshold = 0.51\n",
    "thresh_df = sorted_df[sorted_df['jac_overlap_ratio'].cumsum() < threshold]\n",
    "\n",
    "print('Last index included to reach an overlap of {} with Jacobian is {}.'\\\n",
    ".format(threshold, thresh_df.shape[0]))\n",
    "\n",
    "thresh_df.head()"
   ]
  },
  {
   "cell_type": "code",
   "execution_count": 5,
   "metadata": {},
   "outputs": [],
   "source": [
    "'''\n",
    "Brain regions to add:\n",
    "1. \"Primary visual area, layer 5\", \"VISp5\" : 778\n",
    "2. \"Anterior cingulate area, dorsal part, layer 5\", \"ACAd5\" : 1015\n",
    "3. \"Dentate gyrus, granule cell layer\", \"DG-sg\" : 632\n",
    "4. \"Locus ceruleus\", \"LC\" : 147\n",
    "5. \"Substantia nigra, compact part\", \"SNc\" : 374\n",
    "'''\n",
    "extra_acronyms_list = [\"VISp5\", \"ACAd5\", \"DG-sg\", \"LC\", \"SNc\"]\n",
    "extra_antid_list = [778, 1015, 632, 147, 374]"
   ]
  },
  {
   "cell_type": "code",
   "execution_count": 6,
   "metadata": {},
   "outputs": [],
   "source": [
    "# Sortment of Brain regions into groups\n",
    "worse_ids_list = [672, 463, 507]\n",
    "converge_ids_list = [6, 1022, 1009, 867, 976, 1031, 147, 374, 778, 632]\n",
    "plateau_ids_list = [262, 728, 484682528, 718, 81, 1091, 1015]"
   ]
  },
  {
   "cell_type": "code",
   "execution_count": null,
   "metadata": {},
   "outputs": [],
   "source": [
    "cluster_path = '/data/bioprotean/ABA/KernelPCA/rbf/labels_rc/'\n",
    "plot_regions_DICE(worse_ids_list, cluster_path)"
   ]
  }
 ],
 "metadata": {
  "kernelspec": {
   "display_name": "Py3-basic",
   "language": "python",
   "name": "python3"
  },
  "language_info": {
   "codemirror_mode": {
    "name": "ipython",
    "version": 3
   },
   "file_extension": ".py",
   "mimetype": "text/x-python",
   "name": "python",
   "nbconvert_exporter": "python",
   "pygments_lexer": "ipython3",
   "version": "3.7.2"
  }
 },
 "nbformat": 4,
 "nbformat_minor": 2
}
