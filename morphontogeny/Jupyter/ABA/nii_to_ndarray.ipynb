{
 "cells": [
  {
   "cell_type": "code",
   "execution_count": 2,
   "metadata": {},
   "outputs": [],
   "source": [
    "import numpy as np\n",
    "import nibabel as nib"
   ]
  },
  {
   "cell_type": "code",
   "execution_count": 29,
   "metadata": {},
   "outputs": [],
   "source": [
    "img = nib.load('/home/mabbasi6/morphometry/correlation/jacobians/5_jcb_mko.nii')\n",
    "load5 = np.array(img.dataobj)\n",
    "b5 = load5.flatten()"
   ]
  },
  {
   "cell_type": "code",
   "execution_count": 38,
   "metadata": {},
   "outputs": [],
   "source": [
    "merge = np.vstack([b1,b2,b3,b4,b5])"
   ]
  },
  {
   "cell_type": "code",
   "execution_count": 39,
   "metadata": {},
   "outputs": [
    {
     "data": {
      "text/plain": [
       "(5, 7219968)"
      ]
     },
     "execution_count": 39,
     "metadata": {},
     "output_type": "execute_result"
    }
   ],
   "source": [
    "merge.shape"
   ]
  },
  {
   "cell_type": "code",
   "execution_count": 40,
   "metadata": {},
   "outputs": [],
   "source": [
    "np.savetxt(\"/home/mabbasi6/morphometry/correlation/jacobians/mko_merged.csv\", merge, delimiter=\",\")"
   ]
  },
  {
   "cell_type": "code",
   "execution_count": 42,
   "metadata": {},
   "outputs": [],
   "source": [
    "import pandas as pd\n",
    "\n",
    "jcb_df = pd.DataFrame(data=merge)"
   ]
  },
  {
   "cell_type": "code",
   "execution_count": 43,
   "metadata": {},
   "outputs": [
    {
     "data": {
      "text/html": [
       "<div>\n",
       "<style scoped>\n",
       "    .dataframe tbody tr th:only-of-type {\n",
       "        vertical-align: middle;\n",
       "    }\n",
       "\n",
       "    .dataframe tbody tr th {\n",
       "        vertical-align: top;\n",
       "    }\n",
       "\n",
       "    .dataframe thead th {\n",
       "        text-align: right;\n",
       "    }\n",
       "</style>\n",
       "<table border=\"1\" class=\"dataframe\">\n",
       "  <thead>\n",
       "    <tr style=\"text-align: right;\">\n",
       "      <th></th>\n",
       "      <th>0</th>\n",
       "      <th>1</th>\n",
       "      <th>2</th>\n",
       "      <th>3</th>\n",
       "      <th>4</th>\n",
       "      <th>5</th>\n",
       "      <th>6</th>\n",
       "      <th>7</th>\n",
       "      <th>8</th>\n",
       "      <th>9</th>\n",
       "      <th>...</th>\n",
       "      <th>7219958</th>\n",
       "      <th>7219959</th>\n",
       "      <th>7219960</th>\n",
       "      <th>7219961</th>\n",
       "      <th>7219962</th>\n",
       "      <th>7219963</th>\n",
       "      <th>7219964</th>\n",
       "      <th>7219965</th>\n",
       "      <th>7219966</th>\n",
       "      <th>7219967</th>\n",
       "    </tr>\n",
       "  </thead>\n",
       "  <tbody>\n",
       "    <tr>\n",
       "      <th>0</th>\n",
       "      <td>-0.060810</td>\n",
       "      <td>-0.060808</td>\n",
       "      <td>-0.060808</td>\n",
       "      <td>-0.060810</td>\n",
       "      <td>-0.060806</td>\n",
       "      <td>-0.060810</td>\n",
       "      <td>-0.060806</td>\n",
       "      <td>-0.060810</td>\n",
       "      <td>-0.060808</td>\n",
       "      <td>-0.060806</td>\n",
       "      <td>...</td>\n",
       "      <td>-0.021126</td>\n",
       "      <td>-0.021126</td>\n",
       "      <td>-0.021126</td>\n",
       "      <td>-0.021126</td>\n",
       "      <td>-0.021126</td>\n",
       "      <td>-0.021126</td>\n",
       "      <td>-0.021126</td>\n",
       "      <td>-0.021126</td>\n",
       "      <td>-0.021126</td>\n",
       "      <td>0.0</td>\n",
       "    </tr>\n",
       "    <tr>\n",
       "      <th>1</th>\n",
       "      <td>0.009384</td>\n",
       "      <td>0.009383</td>\n",
       "      <td>0.009382</td>\n",
       "      <td>0.009382</td>\n",
       "      <td>0.009383</td>\n",
       "      <td>0.009385</td>\n",
       "      <td>0.009381</td>\n",
       "      <td>0.009385</td>\n",
       "      <td>0.009382</td>\n",
       "      <td>0.009384</td>\n",
       "      <td>...</td>\n",
       "      <td>0.014248</td>\n",
       "      <td>0.014252</td>\n",
       "      <td>0.014250</td>\n",
       "      <td>0.014250</td>\n",
       "      <td>0.014250</td>\n",
       "      <td>0.014250</td>\n",
       "      <td>0.014252</td>\n",
       "      <td>0.014248</td>\n",
       "      <td>0.014252</td>\n",
       "      <td>0.0</td>\n",
       "    </tr>\n",
       "    <tr>\n",
       "      <th>2</th>\n",
       "      <td>-0.052713</td>\n",
       "      <td>-0.052713</td>\n",
       "      <td>-0.052713</td>\n",
       "      <td>-0.052713</td>\n",
       "      <td>-0.052712</td>\n",
       "      <td>-0.052714</td>\n",
       "      <td>-0.052713</td>\n",
       "      <td>-0.052712</td>\n",
       "      <td>-0.052713</td>\n",
       "      <td>-0.052712</td>\n",
       "      <td>...</td>\n",
       "      <td>-0.008116</td>\n",
       "      <td>-0.008116</td>\n",
       "      <td>-0.008116</td>\n",
       "      <td>-0.008116</td>\n",
       "      <td>-0.008118</td>\n",
       "      <td>-0.008114</td>\n",
       "      <td>-0.008118</td>\n",
       "      <td>-0.008114</td>\n",
       "      <td>-0.008118</td>\n",
       "      <td>0.0</td>\n",
       "    </tr>\n",
       "    <tr>\n",
       "      <th>3</th>\n",
       "      <td>-0.064877</td>\n",
       "      <td>-0.064877</td>\n",
       "      <td>-0.064874</td>\n",
       "      <td>-0.064877</td>\n",
       "      <td>-0.064876</td>\n",
       "      <td>-0.064876</td>\n",
       "      <td>-0.064874</td>\n",
       "      <td>-0.064876</td>\n",
       "      <td>-0.064875</td>\n",
       "      <td>-0.064875</td>\n",
       "      <td>...</td>\n",
       "      <td>-0.020798</td>\n",
       "      <td>-0.020794</td>\n",
       "      <td>-0.020790</td>\n",
       "      <td>-0.020794</td>\n",
       "      <td>-0.020794</td>\n",
       "      <td>-0.020790</td>\n",
       "      <td>-0.020790</td>\n",
       "      <td>-0.020798</td>\n",
       "      <td>-0.020794</td>\n",
       "      <td>0.0</td>\n",
       "    </tr>\n",
       "    <tr>\n",
       "      <th>4</th>\n",
       "      <td>0.077373</td>\n",
       "      <td>0.077374</td>\n",
       "      <td>0.077374</td>\n",
       "      <td>0.077374</td>\n",
       "      <td>0.077376</td>\n",
       "      <td>0.077372</td>\n",
       "      <td>0.077375</td>\n",
       "      <td>0.077375</td>\n",
       "      <td>0.077373</td>\n",
       "      <td>0.077375</td>\n",
       "      <td>...</td>\n",
       "      <td>0.035030</td>\n",
       "      <td>0.035030</td>\n",
       "      <td>0.035028</td>\n",
       "      <td>0.035030</td>\n",
       "      <td>0.035030</td>\n",
       "      <td>0.035028</td>\n",
       "      <td>0.035030</td>\n",
       "      <td>0.035030</td>\n",
       "      <td>0.035030</td>\n",
       "      <td>0.0</td>\n",
       "    </tr>\n",
       "  </tbody>\n",
       "</table>\n",
       "<p>5 rows × 7219968 columns</p>\n",
       "</div>"
      ],
      "text/plain": [
       "    0         1         2         3         4         5         6        \\\n",
       "0 -0.060810 -0.060808 -0.060808 -0.060810 -0.060806 -0.060810 -0.060806   \n",
       "1  0.009384  0.009383  0.009382  0.009382  0.009383  0.009385  0.009381   \n",
       "2 -0.052713 -0.052713 -0.052713 -0.052713 -0.052712 -0.052714 -0.052713   \n",
       "3 -0.064877 -0.064877 -0.064874 -0.064877 -0.064876 -0.064876 -0.064874   \n",
       "4  0.077373  0.077374  0.077374  0.077374  0.077376  0.077372  0.077375   \n",
       "\n",
       "    7         8         9        ...   7219958   7219959   7219960   7219961  \\\n",
       "0 -0.060810 -0.060808 -0.060806  ... -0.021126 -0.021126 -0.021126 -0.021126   \n",
       "1  0.009385  0.009382  0.009384  ...  0.014248  0.014252  0.014250  0.014250   \n",
       "2 -0.052712 -0.052713 -0.052712  ... -0.008116 -0.008116 -0.008116 -0.008116   \n",
       "3 -0.064876 -0.064875 -0.064875  ... -0.020798 -0.020794 -0.020790 -0.020794   \n",
       "4  0.077375  0.077373  0.077375  ...  0.035030  0.035030  0.035028  0.035030   \n",
       "\n",
       "    7219962   7219963   7219964   7219965   7219966  7219967  \n",
       "0 -0.021126 -0.021126 -0.021126 -0.021126 -0.021126      0.0  \n",
       "1  0.014250  0.014250  0.014252  0.014248  0.014252      0.0  \n",
       "2 -0.008118 -0.008114 -0.008118 -0.008114 -0.008118      0.0  \n",
       "3 -0.020794 -0.020790 -0.020790 -0.020798 -0.020794      0.0  \n",
       "4  0.035030  0.035028  0.035030  0.035030  0.035030      0.0  \n",
       "\n",
       "[5 rows x 7219968 columns]"
      ]
     },
     "execution_count": 43,
     "metadata": {},
     "output_type": "execute_result"
    }
   ],
   "source": [
    "jcb_df"
   ]
  },
  {
   "cell_type": "code",
   "execution_count": 56,
   "metadata": {},
   "outputs": [
    {
     "name": "stderr",
     "output_type": "stream",
     "text": [
      "/packages/7x/anaconda3/5.3.0/lib/python3.7/site-packages/sklearn/preprocessing/data.py:645: DataConversionWarning: Data with input dtype float32 were all converted to float64 by StandardScaler.\n",
      "  return self.partial_fit(X, y)\n",
      "/packages/7x/anaconda3/5.3.0/lib/python3.7/site-packages/sklearn/base.py:464: DataConversionWarning: Data with input dtype float32 were all converted to float64 by StandardScaler.\n",
      "  return self.fit(X, **fit_params).transform(X)\n"
     ]
    }
   ],
   "source": [
    "from sklearn.preprocessing import StandardScaler\n",
    "\n",
    "std = StandardScaler()\n",
    "transformed = StandardScaler().fit_transform(jcb_df)"
   ]
  },
  {
   "cell_type": "code",
   "execution_count": 70,
   "metadata": {},
   "outputs": [
    {
     "data": {
      "text/plain": [
       "PCA(copy=True, iterated_power='auto', n_components=0.8, random_state=None,\n",
       "  svd_solver='auto', tol=0.0, whiten=False)"
      ]
     },
     "execution_count": 70,
     "metadata": {},
     "output_type": "execute_result"
    }
   ],
   "source": [
    "from sklearn.decomposition import PCA\n",
    "\n",
    "#n_components=0.80 means it will return the Eigenvectors that have the 80% of the variation in the dataset\n",
    "pca = PCA(n_components=0.8)\n",
    "pca.fit(transformed)"
   ]
  },
  {
   "cell_type": "code",
   "execution_count": 71,
   "metadata": {},
   "outputs": [
    {
     "name": "stdout",
     "output_type": "stream",
     "text": [
      "[[ 4.42470357e-04  4.42469931e-04  4.42470239e-04 ...  4.39807852e-04\n",
      "   4.39810910e-04  0.00000000e+00]\n",
      " [ 6.86569513e-05  6.86722354e-05  6.86686328e-05 ... -5.38342645e-05\n",
      "  -5.38858260e-05  0.00000000e+00]]\n"
     ]
    }
   ],
   "source": [
    "print(pca.components_)"
   ]
  },
  {
   "cell_type": "code",
   "execution_count": 72,
   "metadata": {},
   "outputs": [
    {
     "name": "stdout",
     "output_type": "stream",
     "text": [
      "[6340897.15590859 1221957.19670419]\n"
     ]
    }
   ],
   "source": [
    "print(pca.explained_variance_)"
   ]
  },
  {
   "cell_type": "code",
   "execution_count": 46,
   "metadata": {},
   "outputs": [],
   "source": [
    "components = jcb_pca.transform(jcb_df)\n",
    "projected = jcb_pca.inverse_transform(components)"
   ]
  },
  {
   "cell_type": "code",
   "execution_count": 47,
   "metadata": {},
   "outputs": [
    {
     "data": {
      "text/plain": [
       "array([[-335.25838391,  380.48205382,  -33.87526139],\n",
       "       [  90.01109347, -233.42089352, -150.20869814],\n",
       "       [-131.07986421, -182.63095317,  326.68593123],\n",
       "       [-137.11560864, -163.50258431, -181.69527407],\n",
       "       [ 513.44276328,  199.07237718,   39.09330237]])"
      ]
     },
     "execution_count": 47,
     "metadata": {},
     "output_type": "execute_result"
    }
   ],
   "source": [
    "components"
   ]
  },
  {
   "cell_type": "code",
   "execution_count": 48,
   "metadata": {},
   "outputs": [
    {
     "data": {
      "text/plain": [
       "array([[-0.06610652, -0.06610459, -0.06610407, ..., -0.0238994 ,\n",
       "        -0.02389942,  0.        ],\n",
       "       [-0.0083308 , -0.00833142, -0.00833047, ...,  0.00497169,\n",
       "         0.00497544,  0.        ],\n",
       "       [-0.05205879, -0.05205881, -0.05205845, ..., -0.00777111,\n",
       "        -0.00777492,  0.        ],\n",
       "       [-0.04708578, -0.04708588, -0.04708475, ..., -0.01148129,\n",
       "        -0.01147742,  0.        ],\n",
       "       [ 0.08193855,  0.08193879,  0.08193863, ...,  0.03742098,\n",
       "         0.037421  ,  0.        ]])"
      ]
     },
     "execution_count": 48,
     "metadata": {},
     "output_type": "execute_result"
    }
   ],
   "source": [
    "projected"
   ]
  },
  {
   "cell_type": "code",
   "execution_count": 50,
   "metadata": {},
   "outputs": [],
   "source": [
    "np.savetxt(\"/home/mabbasi6/morphometry/correlation/jacobians/projected_mko.csv\", projected, delimiter=\",\")"
   ]
  },
  {
   "cell_type": "code",
   "execution_count": 51,
   "metadata": {},
   "outputs": [],
   "source": [
    "np.savetxt(\"/home/mabbasi6/morphometry/correlation/jacobians/components_mko.csv\", components, delimiter=\",\")"
   ]
  },
  {
   "cell_type": "code",
   "execution_count": null,
   "metadata": {},
   "outputs": [],
   "source": []
  }
 ],
 "metadata": {
  "kernelspec": {
   "display_name": "Py3-basic",
   "language": "python",
   "name": "python3"
  },
  "language_info": {
   "codemirror_mode": {
    "name": "ipython",
    "version": 3
   },
   "file_extension": ".py",
   "mimetype": "text/x-python",
   "name": "python",
   "nbconvert_exporter": "python",
   "pygments_lexer": "ipython3",
   "version": "3.7.2"
  }
 },
 "nbformat": 4,
 "nbformat_minor": 2
}
