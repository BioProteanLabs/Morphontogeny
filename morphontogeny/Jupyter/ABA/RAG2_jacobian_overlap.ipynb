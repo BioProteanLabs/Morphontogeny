{
 "cells": [
  {
   "cell_type": "markdown",
   "metadata": {},
   "source": [
    "# Computing the overlap of Jacobian and brain regions\n",
    "Running on RAG2 Jacobian average and Allen Brain Annotations atlas."
   ]
  },
  {
   "cell_type": "code",
   "execution_count": null,
   "metadata": {},
   "outputs": [],
   "source": [
    "# Importing libraries\n",
    "import numpy as np\n",
    "import nibabel as nib\n",
    "import os\n",
    "import pandas as pd"
   ]
  },
  {
   "cell_type": "code",
   "execution_count": null,
   "metadata": {},
   "outputs": [],
   "source": [
    "# Taking input locations\n",
    "jac_file = '/data/bioprotean/RAG2/AVG/MWT_avg/to_allen/overlap/\\\n",
    "MKO_MWTavg_invjcb_avg_thrsh_1set_qw_masked_neg_ctrst_clust_binary.nii'\n",
    "\n",
    "ant_file = '/data/bioprotean/RAG2/AVG/MWT_avg/to_allen/overlap/allen_annot75.nii'\n",
    "\n",
    "regions_file = '/data/bioprotean/RAG2/AVG/MWT_avg/to_allen/overlap/annotation_list.csv'"
   ]
  },
  {
   "cell_type": "code",
   "execution_count": null,
   "metadata": {},
   "outputs": [],
   "source": [
    "# Loading inputs\n",
    "regions_df = pd.read_csv(regions_file)\n",
    "jac_vec = nii_to_vector(jac_file)\n",
    "ant_vec = nii_to_vector(ant_file)"
   ]
  },
  {
   "cell_type": "code",
   "execution_count": null,
   "metadata": {},
   "outputs": [],
   "source": [
    "def check_2nii_sizes(infile1,infile2):\n",
    "    \"\"\"\n",
    "    This function checks if 2 nii files have the same matrix size\n",
    "    \n",
    "    Parameters:\n",
    "    infile1 (str): The address to nii file #1\n",
    "    infile2 (str): The address to nii file #2\n",
    "    \n",
    "    Returns:\n",
    "    Prints an argument\n",
    "    \"\"\"\n",
    "    \n",
    "    if nii_shape(infile1) == nii_shape(infile2):\n",
    "        print('Matrices match ;)')\n",
    "    \n",
    "    else:\n",
    "        print('Image matrix MISMATCH!')"
   ]
  },
  {
   "cell_type": "code",
   "execution_count": null,
   "metadata": {},
   "outputs": [],
   "source": [
    "def nii_shape(infile):\n",
    "    \"\"\"\n",
    "    This function returns the matrix shape of the given nii file\n",
    "    \n",
    "    Parameters:\n",
    "    infile (str): The address to nii file\n",
    "    \n",
    "    Returns:\n",
    "    shape (tuple): Shape of the nii matrix\n",
    "    \"\"\"\n",
    "    img = nib.load(infile)\n",
    "    array = np.array(img.dataobj)\n",
    "    \n",
    "    return array.shape"
   ]
  },
  {
   "cell_type": "code",
   "execution_count": null,
   "metadata": {},
   "outputs": [],
   "source": [
    "def nii_to_vector(nii_file):\n",
    "    '''\n",
    "    Takes an input file address (str) to the NIFTI file and returns\n",
    "    the flattened 1D array of the input matrix.\n",
    "    \n",
    "    Parameters:\n",
    "    nii_file (str): The address to nii file\n",
    "    \n",
    "    Returns:\n",
    "    vector (np.array): The flattened 1D array\n",
    "    '''\n",
    "    img = nib.load(nii_file)\n",
    "    array = np.array(img.dataobj)\n",
    "    vector = array.flatten()\n",
    "    \n",
    "    return vector"
   ]
  },
  {
   "cell_type": "code",
   "execution_count": null,
   "metadata": {},
   "outputs": [],
   "source": [
    "def jac_regions_overlap(jac_vec, ant_vec, regions_df):\n",
    "    \"\"\"\n",
    "    Counts the ratio of overlapping brain regions and Jacobians/Jacobian voxels\n",
    "    \n",
    "    Parameters:\n",
    "    jac_vec (vector): The Jacobian as an 1D array\n",
    "    ant_vec (vector): The annotations as an 1D array\n",
    "    regions_df (DataFrame): Pandas dataframe including names of brain regions and\n",
    "        correspoing values\n",
    "    \n",
    "    Returns:\n",
    "    output_df = new Pandas dataframe with a column for the ratios\n",
    "    \"\"\"\n",
    "    \n",
    "    # Making the ouput dataframe by copying the input list of regions\n",
    "    output_df = regions_df.copy()\n",
    "    output_df['jac_overlap_ratio'] = np.nan\n",
    "    \n",
    "    # Converting Jacobian vector to a binary vector in case it is not\n",
    "    jac_binary = np.where(jac_vec!=0, 1, 0)\n",
    "    jac_binary_count = np.sum(jac_binary)\n",
    "    \n",
    "    # Looping over rows of regions dataframe to count the ratio of overlap\n",
    "    for count, ant_id in enumerate(output_df['ant_id']):\n",
    "        \n",
    "        # Masking the ant_vec for the selected region only\n",
    "        single_region_vec = np.where(ant_vec == ant_id, 1, 0)\n",
    "        \n",
    "        # Masking the selected region for the overlapping voxels with Jacobian\n",
    "        region_overlap_vec = np.where((single_region_vec != 0) & (jac_binary != 0), 1, 0)\n",
    "        \n",
    "        # Counting the ratio over total Jacobian voxels\n",
    "        ratio = np.sum(region_overlap_vec) / jac_binary_count\n",
    "        output_df.jac_overlap_ratio[count] = ratio\n",
    "    \n",
    "    return output_df"
   ]
  },
  {
   "cell_type": "code",
   "execution_count": null,
   "metadata": {},
   "outputs": [],
   "source": [
    "# Running the functions and saving the results\n",
    "results_df = jac_regions_overlap(jac_vec, ant_vec, regions_df)\n",
    "sorted_df = results_df.sort_values(['jac_overlap_ratio'], ascending=False)\n",
    "sorted_df.to_csv('/data/bioprotean/RAG2/AVG/MWT_avg/to_allen/overlap/jac_overlap.csv')"
   ]
  },
  {
   "cell_type": "code",
   "execution_count": null,
   "metadata": {},
   "outputs": [],
   "source": []
  }
 ],
 "metadata": {
  "kernelspec": {
   "display_name": "Py3-basic",
   "language": "python",
   "name": "python3"
  },
  "language_info": {
   "codemirror_mode": {
    "name": "ipython",
    "version": 3
   },
   "file_extension": ".py",
   "mimetype": "text/x-python",
   "name": "python",
   "nbconvert_exporter": "python",
   "pygments_lexer": "ipython3",
   "version": "3.7.2"
  }
 },
 "nbformat": 4,
 "nbformat_minor": 2
}
