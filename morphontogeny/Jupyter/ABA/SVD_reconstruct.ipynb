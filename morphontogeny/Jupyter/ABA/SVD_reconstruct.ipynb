{
 "cells": [
  {
   "cell_type": "markdown",
   "metadata": {},
   "source": [
    "# SVD Reconstruction\n",
    "M = U * s * VT\n",
    "To reconstruct the M:\n",
    "* M = U * s * VT using the first d singular values gives a matrix of same size, but with lower rank\n",
    "* Columns of MV = U * s are the principal components "
   ]
  },
  {
   "cell_type": "code",
   "execution_count": 1,
   "metadata": {},
   "outputs": [],
   "source": [
    "# Loading libraries\n",
    "import numpy as np\n",
    "from numpy import array\n",
    "from numpy import diag\n",
    "from numpy import dot\n",
    "from numpy import zeros\n",
    "from scipy.linalg import svd"
   ]
  },
  {
   "cell_type": "code",
   "execution_count": 2,
   "metadata": {},
   "outputs": [],
   "source": [
    "# Loading the saved matrices\n",
    "U_mmp = np.memmap('/data/bioprotean/SVD/vg/U_mmp.mymemmap', dtype='float32', mode='r', shape=(159326,159326))\n",
    "s_mmp = np.memmap('/data/bioprotean/SVD/vg/s_mmp.mymemmap', dtype='float32', mode='r', shape=(2941,))\n",
    "V_mmp = np.memmap('/data/bioprotean/SVD/vg/V_mmp.mymemmap', dtype='float32', mode='r', shape=(2941,2941))"
   ]
  },
  {
   "cell_type": "code",
   "execution_count": 5,
   "metadata": {},
   "outputs": [],
   "source": [
    "# Reconstructing the matrix using the Singular Values\n",
    "num = 271\n",
    "reconst = np.matrix(U_mmp[:, :num]) * np.diag(s_mmp[:num])"
   ]
  },
  {
   "cell_type": "code",
   "execution_count": 6,
   "metadata": {},
   "outputs": [
    {
     "data": {
      "text/plain": [
       "(159326, 271)"
      ]
     },
     "execution_count": 6,
     "metadata": {},
     "output_type": "execute_result"
    }
   ],
   "source": [
    "reconst.shape"
   ]
  },
  {
   "cell_type": "code",
   "execution_count": 7,
   "metadata": {},
   "outputs": [],
   "source": [
    "rc = np.memmap('/data/bioprotean/SVD/vg/rc.mymemmap', dtype='float32', mode='w+', shape=(159326,num))"
   ]
  },
  {
   "cell_type": "code",
   "execution_count": 8,
   "metadata": {},
   "outputs": [],
   "source": [
    "rc[:] = reconst[:]"
   ]
  },
  {
   "cell_type": "code",
   "execution_count": 9,
   "metadata": {},
   "outputs": [],
   "source": [
    "# Compute Variance explained by each singular vector\n",
    "var_explained = np.round(s_mmp**2/np.sum(s_mmp**2), decimals=3)\n",
    "\n",
    "# Variance explained top Singular vectors\n",
    "print(np.sum(var_explained[0:271]))"
   ]
  }
 ],
 "metadata": {
  "kernelspec": {
   "display_name": "Py3-basic",
   "language": "python",
   "name": "python3"
  },
  "language_info": {
   "codemirror_mode": {
    "name": "ipython",
    "version": 3
   },
   "file_extension": ".py",
   "mimetype": "text/x-python",
   "name": "python",
   "nbconvert_exporter": "python",
   "pygments_lexer": "ipython3",
   "version": "3.7.2"
  }
 },
 "nbformat": 4,
 "nbformat_minor": 2
}
