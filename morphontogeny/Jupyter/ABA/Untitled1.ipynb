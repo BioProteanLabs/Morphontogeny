{
 "cells": [
  {
   "cell_type": "code",
   "execution_count": 12,
   "metadata": {},
   "outputs": [],
   "source": [
    "import pandas as pd\n",
    "import numpy as np\n",
    "import nibabel as nib\n",
    "import os"
   ]
  },
  {
   "cell_type": "code",
   "execution_count": 3,
   "metadata": {},
   "outputs": [],
   "source": [
    "WS = pd.read_excel('/data/bioprotean/SVD/naren/n50/clusters_50.xlsx')"
   ]
  },
  {
   "cell_type": "code",
   "execution_count": 6,
   "metadata": {},
   "outputs": [],
   "source": [
    "data = np.array(WS['50'])"
   ]
  },
  {
   "cell_type": "code",
   "execution_count": 5,
   "metadata": {},
   "outputs": [
    {
     "data": {
      "text/html": [
       "<div>\n",
       "<style scoped>\n",
       "    .dataframe tbody tr th:only-of-type {\n",
       "        vertical-align: middle;\n",
       "    }\n",
       "\n",
       "    .dataframe tbody tr th {\n",
       "        vertical-align: top;\n",
       "    }\n",
       "\n",
       "    .dataframe thead th {\n",
       "        text-align: right;\n",
       "    }\n",
       "</style>\n",
       "<table border=\"1\" class=\"dataframe\">\n",
       "  <thead>\n",
       "    <tr style=\"text-align: right;\">\n",
       "      <th></th>\n",
       "      <th>Unnamed: 0</th>\n",
       "      <th>Cluster</th>\n",
       "      <th>Anatomy</th>\n",
       "      <th>1</th>\n",
       "      <th>2</th>\n",
       "      <th>3</th>\n",
       "      <th>4</th>\n",
       "      <th>5</th>\n",
       "      <th>6</th>\n",
       "      <th>7</th>\n",
       "      <th>...</th>\n",
       "      <th>41</th>\n",
       "      <th>42</th>\n",
       "      <th>43</th>\n",
       "      <th>44</th>\n",
       "      <th>45</th>\n",
       "      <th>46</th>\n",
       "      <th>47</th>\n",
       "      <th>48</th>\n",
       "      <th>49</th>\n",
       "      <th>50</th>\n",
       "    </tr>\n",
       "  </thead>\n",
       "  <tbody>\n",
       "    <tr>\n",
       "      <th>0</th>\n",
       "      <td>0</td>\n",
       "      <td>8</td>\n",
       "      <td>0</td>\n",
       "      <td>0</td>\n",
       "      <td>0</td>\n",
       "      <td>0</td>\n",
       "      <td>0</td>\n",
       "      <td>0</td>\n",
       "      <td>0</td>\n",
       "      <td>0</td>\n",
       "      <td>...</td>\n",
       "      <td>0</td>\n",
       "      <td>0</td>\n",
       "      <td>0</td>\n",
       "      <td>0</td>\n",
       "      <td>0</td>\n",
       "      <td>0</td>\n",
       "      <td>0</td>\n",
       "      <td>0</td>\n",
       "      <td>0</td>\n",
       "      <td>0</td>\n",
       "    </tr>\n",
       "    <tr>\n",
       "      <th>1</th>\n",
       "      <td>1</td>\n",
       "      <td>8</td>\n",
       "      <td>0</td>\n",
       "      <td>0</td>\n",
       "      <td>0</td>\n",
       "      <td>0</td>\n",
       "      <td>0</td>\n",
       "      <td>0</td>\n",
       "      <td>0</td>\n",
       "      <td>0</td>\n",
       "      <td>...</td>\n",
       "      <td>0</td>\n",
       "      <td>0</td>\n",
       "      <td>0</td>\n",
       "      <td>0</td>\n",
       "      <td>0</td>\n",
       "      <td>0</td>\n",
       "      <td>0</td>\n",
       "      <td>0</td>\n",
       "      <td>0</td>\n",
       "      <td>0</td>\n",
       "    </tr>\n",
       "    <tr>\n",
       "      <th>2</th>\n",
       "      <td>2</td>\n",
       "      <td>8</td>\n",
       "      <td>0</td>\n",
       "      <td>0</td>\n",
       "      <td>0</td>\n",
       "      <td>0</td>\n",
       "      <td>0</td>\n",
       "      <td>0</td>\n",
       "      <td>0</td>\n",
       "      <td>0</td>\n",
       "      <td>...</td>\n",
       "      <td>0</td>\n",
       "      <td>0</td>\n",
       "      <td>0</td>\n",
       "      <td>0</td>\n",
       "      <td>0</td>\n",
       "      <td>0</td>\n",
       "      <td>0</td>\n",
       "      <td>0</td>\n",
       "      <td>0</td>\n",
       "      <td>0</td>\n",
       "    </tr>\n",
       "    <tr>\n",
       "      <th>3</th>\n",
       "      <td>3</td>\n",
       "      <td>8</td>\n",
       "      <td>0</td>\n",
       "      <td>0</td>\n",
       "      <td>0</td>\n",
       "      <td>0</td>\n",
       "      <td>0</td>\n",
       "      <td>0</td>\n",
       "      <td>0</td>\n",
       "      <td>0</td>\n",
       "      <td>...</td>\n",
       "      <td>0</td>\n",
       "      <td>0</td>\n",
       "      <td>0</td>\n",
       "      <td>0</td>\n",
       "      <td>0</td>\n",
       "      <td>0</td>\n",
       "      <td>0</td>\n",
       "      <td>0</td>\n",
       "      <td>0</td>\n",
       "      <td>0</td>\n",
       "    </tr>\n",
       "    <tr>\n",
       "      <th>4</th>\n",
       "      <td>4</td>\n",
       "      <td>8</td>\n",
       "      <td>0</td>\n",
       "      <td>0</td>\n",
       "      <td>0</td>\n",
       "      <td>0</td>\n",
       "      <td>0</td>\n",
       "      <td>0</td>\n",
       "      <td>0</td>\n",
       "      <td>0</td>\n",
       "      <td>...</td>\n",
       "      <td>0</td>\n",
       "      <td>0</td>\n",
       "      <td>0</td>\n",
       "      <td>0</td>\n",
       "      <td>0</td>\n",
       "      <td>0</td>\n",
       "      <td>0</td>\n",
       "      <td>0</td>\n",
       "      <td>0</td>\n",
       "      <td>0</td>\n",
       "    </tr>\n",
       "  </tbody>\n",
       "</table>\n",
       "<p>5 rows × 53 columns</p>\n",
       "</div>"
      ],
      "text/plain": [
       "   Unnamed: 0  Cluster  Anatomy  1  2  3  4  5  6  7  ...  41  42  43  44  45  \\\n",
       "0           0        8        0  0  0  0  0  0  0  0  ...   0   0   0   0   0   \n",
       "1           1        8        0  0  0  0  0  0  0  0  ...   0   0   0   0   0   \n",
       "2           2        8        0  0  0  0  0  0  0  0  ...   0   0   0   0   0   \n",
       "3           3        8        0  0  0  0  0  0  0  0  ...   0   0   0   0   0   \n",
       "4           4        8        0  0  0  0  0  0  0  0  ...   0   0   0   0   0   \n",
       "\n",
       "   46  47  48  49  50  \n",
       "0   0   0   0   0   0  \n",
       "1   0   0   0   0   0  \n",
       "2   0   0   0   0   0  \n",
       "3   0   0   0   0   0  \n",
       "4   0   0   0   0   0  \n",
       "\n",
       "[5 rows x 53 columns]"
      ]
     },
     "execution_count": 5,
     "metadata": {},
     "output_type": "execute_result"
    }
   ],
   "source": [
    "WS.head()"
   ]
  },
  {
   "cell_type": "code",
   "execution_count": 7,
   "metadata": {},
   "outputs": [
    {
     "data": {
      "text/plain": [
       "(159326,)"
      ]
     },
     "execution_count": 7,
     "metadata": {},
     "output_type": "execute_result"
    }
   ],
   "source": [
    "data.shape"
   ]
  },
  {
   "cell_type": "code",
   "execution_count": 8,
   "metadata": {},
   "outputs": [],
   "source": [
    "data_rs = data.reshape(67,58,41)\n",
    "# Saving the labels as 3D NIFTI file"
   ]
  },
  {
   "cell_type": "code",
   "execution_count": 16,
   "metadata": {},
   "outputs": [],
   "source": [
    "img = nib.Nifti1Image(data_rs.astype(np.int32), np.eye(4)) # Save axis for data (just identity)\n",
    "img.header.get_xyzt_units()\n",
    "img.to_filename(os.path.join('build','/data/bioprotean/SVD/naren/n50/cluster50.nii')) # Save as NiBabel file"
   ]
  },
  {
   "cell_type": "code",
   "execution_count": 17,
   "metadata": {},
   "outputs": [
    {
     "name": "stdout",
     "output_type": "stream",
     "text": [
      "\n",
      "Dataset File:    /data/bioprotean/SVD/naren/n50/cluster50.nii\n",
      "Identifier Code: NII_lVnMVkxxnhQHis3962m1fw  Creation Date: Tue Mar  2 15:18:39 2021\n",
      "Template Space:  TLRC\n",
      "Dataset Type:    Anat Bucket (-abuc)\n",
      "Byte Order:      LSB_FIRST {assumed} [this CPU native = LSB_FIRST]\n",
      "Storage Mode:    NIFTI\n",
      "Storage Space:   637,304 (637 thousand) bytes\n",
      "Geometry String: \"MATRIX(-1,0,0,0,0,-1,0,0,0,0,1,0):67,58,41\"\n",
      "Data Axes Tilt:  Plumb\n",
      "Data Axes Orientation:\n",
      "  first  (x) = Left-to-Right\n",
      "  second (y) = Posterior-to-Anterior\n",
      "  third  (z) = Inferior-to-Superior   [-orient LPI]\n",
      "R-to-L extent:   -66.000 [R] -to-    -0.000     -step-     1.000 mm [ 67 voxels]\n",
      "A-to-P extent:   -57.000 [A] -to-    -0.000     -step-     1.000 mm [ 58 voxels]\n",
      "I-to-S extent:     0.000     -to-    40.000 [S] -step-     1.000 mm [ 41 voxels]\n",
      "Number of values stored at each pixel = 1\n",
      "  -- At sub-brick #0 '?' datum type is float\n",
      "\n"
     ]
    },
    {
     "name": "stderr",
     "output_type": "stream",
     "text": [
      "3dinfo: /packages/7x/anaconda3/5.3.0/lib/libuuid.so.1: no version information available (required by /lib64/libSM.so.6)\n",
      "++ 3dinfo: AFNI version=AFNI_20.1.11 (May 28 2020) [64-bit]\n",
      "** AFNI converts NIFTI_datatype=8 (INT32) in file /data/bioprotean/SVD/naren/n50/cluster50.nii to FLOAT32\n",
      "     Warnings of this type will be muted for this session.\n",
      "     Set AFNI_NIFTI_TYPE_WARN to YES to see them all, NO to see none.\n",
      "\u001b[7m** FATAL ERROR:\u001b[0m Can't open dataset -dxyz\n",
      "** Program compile date = May 28 2020\n",
      "3drefit: /packages/7x/anaconda3/5.3.0/lib/libuuid.so.1: no version information available (required by /lib64/libSM.so.6)\n",
      "++ 3drefit: AFNI version=AFNI_20.1.11 (May 28 2020) [64-bit]\n",
      "++ Authored by: RW Cox\n",
      "** AFNI converts NIFTI_datatype=8 (INT32) in file /data/bioprotean/SVD/naren/n50/cluster50.nii to FLOAT32\n",
      "     Warnings of this type will be muted for this session.\n",
      "     Set AFNI_NIFTI_TYPE_WARN to YES to see them all, NO to see none.\n",
      "++ Processing AFNI dataset cluster50.nii\n",
      " + applying -xyzscale\n",
      " + deoblique\n",
      " + loading and re-writing dataset cluster50.nii (/data/bioprotean/SVD/naren/n50/cluster50.nii in NIFTI storage)\n",
      "++ 3drefit processed 1 datasets\n",
      "3drefit: /packages/7x/anaconda3/5.3.0/lib/libuuid.so.1: no version information available (required by /lib64/libSM.so.6)\n",
      "++ 3drefit: AFNI version=AFNI_20.1.11 (May 28 2020) [64-bit]\n",
      "++ Authored by: RW Cox\n",
      "++ Processing AFNI dataset cluster50.nii\n",
      "\u001b[7m*+ WARNING:\u001b[0m Changing the space of a TLRC view dataset to an ORIG type may cause confusion!\n",
      "\u001b[7m*+ WARNING:\u001b[0m  NIFTI copies will be interpreted as ORIG view.\n",
      "\u001b[7m*+ WARNING:\u001b[0m  Consider changing the view of the dataset to ORIG view also\n",
      " + loading and re-writing dataset cluster50.nii (/data/bioprotean/SVD/naren/n50/cluster50.nii in NIFTI storage)\n",
      "++ 3drefit processed 1 datasets\n",
      "3drefit: /packages/7x/anaconda3/5.3.0/lib/libuuid.so.1: no version information available (required by /lib64/libSM.so.6)\n",
      "++ 3drefit: AFNI version=AFNI_20.1.11 (May 28 2020) [64-bit]\n",
      "++ Authored by: RW Cox\n",
      "++ Processing AFNI dataset cluster50.nii\n",
      " + changing orientation codes\n",
      " + loading and re-writing dataset cluster50.nii (/data/bioprotean/SVD/naren/n50/cluster50.nii in NIFTI storage)\n",
      "++ 3drefit processed 1 datasets\n"
     ]
    }
   ],
   "source": [
    "%%bash\n",
    "module load afni/20.1.11\n",
    "cd /data/bioprotean/SVD/naren/n50/\n",
    "input='cluster50.nii'\n",
    "3dinfo $input -dxyz\n",
    "3drefit -xyzscale 0.2 $input\n",
    "3drefit -space ORIG $input\n",
    "3drefit -orient ARS $input"
   ]
  },
  {
   "cell_type": "code",
   "execution_count": 21,
   "metadata": {},
   "outputs": [
    {
     "name": "stderr",
     "output_type": "stream",
     "text": [
      "3drefit: /packages/7x/anaconda3/5.3.0/lib/libuuid.so.1: no version information available (required by /lib64/libSM.so.6)\n",
      "++ 3drefit: AFNI version=AFNI_20.1.11 (May 28 2020) [64-bit]\n",
      "++ Authored by: RW Cox\n",
      "++ Processing AFNI dataset cluster50.nii\n",
      " + Didn't make any changes for dataset cluster50.nii !\n",
      "++ 3drefit processed 1 datasets\n"
     ]
    }
   ],
   "source": [
    "%%bash\n",
    "module load afni/20.1.11\n",
    "cd /data/bioprotean/SVD/naren/n50/\n",
    "input='cluster50.nii'\n",
    "3drefit -view orig $input"
   ]
  },
  {
   "cell_type": "code",
   "execution_count": 23,
   "metadata": {},
   "outputs": [
    {
     "data": {
      "text/plain": [
       "(array([     0,      1,      2, ..., 159323, 159324, 159325]),)"
      ]
     },
     "execution_count": 23,
     "metadata": {},
     "output_type": "execute_result"
    }
   ],
   "source": []
  },
  {
   "cell_type": "code",
   "execution_count": null,
   "metadata": {},
   "outputs": [],
   "source": []
  }
 ],
 "metadata": {
  "kernelspec": {
   "display_name": "Py3-basic",
   "language": "python",
   "name": "python3"
  },
  "language_info": {
   "codemirror_mode": {
    "name": "ipython",
    "version": 3
   },
   "file_extension": ".py",
   "mimetype": "text/x-python",
   "name": "python",
   "nbconvert_exporter": "python",
   "pygments_lexer": "ipython3",
   "version": "3.7.2"
  }
 },
 "nbformat": 4,
 "nbformat_minor": 2
}
