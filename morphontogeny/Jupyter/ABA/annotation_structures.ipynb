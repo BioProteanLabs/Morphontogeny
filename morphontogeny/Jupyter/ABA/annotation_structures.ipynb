{
 "cells": [
  {
   "cell_type": "code",
   "execution_count": null,
   "metadata": {},
   "outputs": [],
   "source": [
    "# Loading annotations dataframe\n",
    "ant_df_path = '/data/bioprotean/ABA/Template/structures.csv'\n",
    "ant_df = pd.read_csv(ant_df_path, index_col = 'Unnamed: 0')\n",
    "ant_df['in_200_ant'] = False\n",
    "ant_df['in_200_ant_new'] = False"
   ]
  },
  {
   "cell_type": "code",
   "execution_count": null,
   "metadata": {},
   "outputs": [],
   "source": [
    "# Loading the anatomy file\n",
    "ant_file = '/data/bioprotean/RAG2/AVG/MWT_avg/to_allen/overlap/200um/allen_annot200.nii'\n",
    "ant_vec = nifti_to_array(ant_file)\n",
    "\n",
    "# List of regions\n",
    "regions_list = np.unique(ant_vec)"
   ]
  },
  {
   "cell_type": "code",
   "execution_count": null,
   "metadata": {},
   "outputs": [],
   "source": [
    "# Checking if the region ID exists in the annotations file\n",
    "for count, ant_id in enumerate(ant_df['ant_id']):\n",
    "    if ant_id in regions_list:\n",
    "        ant_df['in_200_ant'].loc[count] = True"
   ]
  },
  {
   "cell_type": "code",
   "execution_count": null,
   "metadata": {},
   "outputs": [],
   "source": [
    "# Checking if the region ID exists in the annotations file\n",
    "missed_list = []\n",
    "for ant_id in regions_list:\n",
    "    if ant_id not in ant_df['ant_id']:\n",
    "        missed_list.append(ant_id)"
   ]
  },
  {
   "cell_type": "code",
   "execution_count": null,
   "metadata": {},
   "outputs": [],
   "source": [
    "# Checking if the region ID exists in the annotations file\n",
    "for count, ant_id in enumerate(ant_df['ant_id']):\n",
    "    for ID in regions_list:\n",
    "        if abs(ant_id - ID) < 0.1:\n",
    "            ant_df['in_200_ant_new'].loc[count] = True"
   ]
  }
 ],
 "metadata": {
  "kernelspec": {
   "display_name": "Py3-basic",
   "language": "python",
   "name": "python3"
  },
  "language_info": {
   "codemirror_mode": {
    "name": "ipython",
    "version": 3
   },
   "file_extension": ".py",
   "mimetype": "text/x-python",
   "name": "python",
   "nbconvert_exporter": "python",
   "pygments_lexer": "ipython3",
   "version": "3.7.2"
  }
 },
 "nbformat": 4,
 "nbformat_minor": 2
}
