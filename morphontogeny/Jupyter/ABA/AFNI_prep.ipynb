{
 "cells": [
  {
   "cell_type": "code",
   "execution_count": null,
   "metadata": {},
   "outputs": [],
   "source": [
    "import numpy as np\n",
    "import nibabel as nib\n",
    "import os"
   ]
  },
  {
   "cell_type": "code",
   "execution_count": 1,
   "metadata": {},
   "outputs": [
    {
     "name": "stdout",
     "output_type": "stream",
     "text": [
      "\n",
      "Dataset File:    /data/bioprotean/SVD/clusters/PCA_n11.nii\n",
      "Identifier Code: NII_5jiLUaGLIke3fVNyQlJX8g  Creation Date: Fri Jan 29 17:40:39 2021\n",
      "Template Space:  TLRC\n",
      "Dataset Type:    Anat Bucket (-abuc)\n",
      "Byte Order:      LSB_FIRST {assumed} [this CPU native = LSB_FIRST]\n",
      "Storage Mode:    NIFTI\n",
      "Storage Space:   637,304 (637 thousand) bytes\n",
      "Geometry String: \"MATRIX(-1,0,0,0,0,-1,0,0,0,0,1,0):67,58,41\"\n",
      "Data Axes Tilt:  Plumb\n",
      "Data Axes Orientation:\n",
      "  first  (x) = Left-to-Right\n",
      "  second (y) = Posterior-to-Anterior\n",
      "  third  (z) = Inferior-to-Superior   [-orient LPI]\n",
      "R-to-L extent:   -66.000 [R] -to-    -0.000     -step-     1.000 mm [ 67 voxels]\n",
      "A-to-P extent:   -57.000 [A] -to-    -0.000     -step-     1.000 mm [ 58 voxels]\n",
      "I-to-S extent:     0.000     -to-    40.000 [S] -step-     1.000 mm [ 41 voxels]\n",
      "Number of values stored at each pixel = 1\n",
      "  -- At sub-brick #0 '?' datum type is float\n",
      "\n"
     ]
    },
    {
     "name": "stderr",
     "output_type": "stream",
     "text": [
      "3dinfo: /packages/7x/anaconda3/5.3.0/lib/libuuid.so.1: no version information available (required by /lib64/libSM.so.6)\n",
      "++ 3dinfo: AFNI version=AFNI_20.1.11 (May 28 2020) [64-bit]\n",
      "** AFNI converts NIFTI_datatype=8 (INT32) in file /data/bioprotean/SVD/clusters/PCA_n11.nii to FLOAT32\n",
      "     Warnings of this type will be muted for this session.\n",
      "     Set AFNI_NIFTI_TYPE_WARN to YES to see them all, NO to see none.\n",
      "\u001b[7m** FATAL ERROR:\u001b[0m Can't open dataset -dxyz\n",
      "** Program compile date = May 28 2020\n",
      "3drefit: /packages/7x/anaconda3/5.3.0/lib/libuuid.so.1: no version information available (required by /lib64/libSM.so.6)\n",
      "++ 3drefit: AFNI version=AFNI_20.1.11 (May 28 2020) [64-bit]\n",
      "++ Authored by: RW Cox\n",
      "** AFNI converts NIFTI_datatype=8 (INT32) in file /data/bioprotean/SVD/clusters/PCA_n11.nii to FLOAT32\n",
      "     Warnings of this type will be muted for this session.\n",
      "     Set AFNI_NIFTI_TYPE_WARN to YES to see them all, NO to see none.\n",
      "++ Processing AFNI dataset PCA_n11.nii\n",
      " + applying -xyzscale\n",
      " + deoblique\n",
      " + loading and re-writing dataset PCA_n11.nii (/data/bioprotean/SVD/clusters/PCA_n11.nii in NIFTI storage)\n",
      "++ 3drefit processed 1 datasets\n",
      "3drefit: /packages/7x/anaconda3/5.3.0/lib/libuuid.so.1: no version information available (required by /lib64/libSM.so.6)\n",
      "++ 3drefit: AFNI version=AFNI_20.1.11 (May 28 2020) [64-bit]\n",
      "++ Authored by: RW Cox\n",
      "++ Processing AFNI dataset PCA_n11.nii\n",
      "\u001b[7m*+ WARNING:\u001b[0m Changing the space of a TLRC view dataset to an ORIG type may cause confusion!\n",
      "\u001b[7m*+ WARNING:\u001b[0m  NIFTI copies will be interpreted as ORIG view.\n",
      "\u001b[7m*+ WARNING:\u001b[0m  Consider changing the view of the dataset to ORIG view also\n",
      " + loading and re-writing dataset PCA_n11.nii (/data/bioprotean/SVD/clusters/PCA_n11.nii in NIFTI storage)\n",
      "++ 3drefit processed 1 datasets\n",
      "3drefit: /packages/7x/anaconda3/5.3.0/lib/libuuid.so.1: no version information available (required by /lib64/libSM.so.6)\n",
      "++ 3drefit: AFNI version=AFNI_20.1.11 (May 28 2020) [64-bit]\n",
      "++ Authored by: RW Cox\n",
      "++ Processing AFNI dataset PCA_n11.nii\n",
      " + changing orientation codes\n",
      " + loading and re-writing dataset PCA_n11.nii (/data/bioprotean/SVD/clusters/PCA_n11.nii in NIFTI storage)\n",
      "++ 3drefit processed 1 datasets\n",
      "ParseName: /packages/7x/anaconda3/5.3.0/lib/libuuid.so.1: no version information available (required by /lib64/libSM.so.6)\n",
      "ParseName: /packages/7x/anaconda3/5.3.0/lib/libuuid.so.1: no version information available (required by /lib64/libSM.so.6)\n",
      "afni: /packages/7x/anaconda3/5.3.0/lib/libuuid.so.1: no version information available (required by /lib64/libSM.so.6)\n",
      "afni: /packages/7x/anaconda3/5.3.0/lib/libuuid.so.1: no version information available (required by /lib64/libSM.so.6)\n",
      "afni: /packages/7x/anaconda3/5.3.0/lib/libuuid.so.1: no version information available (required by /lib64/libSM.so.6)\n",
      "afni: /packages/7x/anaconda3/5.3.0/lib/libuuid.so.1: no version information available (required by /lib64/libSM.so.6)\n",
      "ParseName: /packages/7x/anaconda3/5.3.0/lib/libuuid.so.1: no version information available (required by /lib64/libSM.so.6)\n",
      "3dAttribute: /packages/7x/anaconda3/5.3.0/lib/libuuid.so.1: no version information available (required by /lib64/libSM.so.6)\n",
      "ccalc: /packages/7x/anaconda3/5.3.0/lib/libuuid.so.1: no version information available (required by /lib64/libSM.so.6)\n",
      "ccalc: /packages/7x/anaconda3/5.3.0/lib/libuuid.so.1: no version information available (required by /lib64/libSM.so.6)\n",
      "ccalc: /packages/7x/anaconda3/5.3.0/lib/libuuid.so.1: no version information available (required by /lib64/libSM.so.6)\n",
      "ccalc: /packages/7x/anaconda3/5.3.0/lib/libuuid.so.1: no version information available (required by /lib64/libSM.so.6)\n",
      "3dAttribute: /packages/7x/anaconda3/5.3.0/lib/libuuid.so.1: no version information available (required by /lib64/libSM.so.6)\n",
      "ccalc: /packages/7x/anaconda3/5.3.0/lib/libuuid.so.1: no version information available (required by /lib64/libSM.so.6)\n",
      "ccalc: /packages/7x/anaconda3/5.3.0/lib/libuuid.so.1: no version information available (required by /lib64/libSM.so.6)\n",
      "ccalc: /packages/7x/anaconda3/5.3.0/lib/libuuid.so.1: no version information available (required by /lib64/libSM.so.6)\n",
      "ccalc: /packages/7x/anaconda3/5.3.0/lib/libuuid.so.1: no version information available (required by /lib64/libSM.so.6)\n",
      "ccalc: /packages/7x/anaconda3/5.3.0/lib/libuuid.so.1: no version information available (required by /lib64/libSM.so.6)\n",
      "ccalc: /packages/7x/anaconda3/5.3.0/lib/libuuid.so.1: no version information available (required by /lib64/libSM.so.6)\n",
      "ccalc: /packages/7x/anaconda3/5.3.0/lib/libuuid.so.1: no version information available (required by /lib64/libSM.so.6)\n",
      "ccalc: /packages/7x/anaconda3/5.3.0/lib/libuuid.so.1: no version information available (required by /lib64/libSM.so.6)\n",
      "ccalc: /packages/7x/anaconda3/5.3.0/lib/libuuid.so.1: no version information available (required by /lib64/libSM.so.6)\n",
      "ccalc: /packages/7x/anaconda3/5.3.0/lib/libuuid.so.1: no version information available (required by /lib64/libSM.so.6)\n",
      "ccalc: /packages/7x/anaconda3/5.3.0/lib/libuuid.so.1: no version information available (required by /lib64/libSM.so.6)\n",
      "ccalc: /packages/7x/anaconda3/5.3.0/lib/libuuid.so.1: no version information available (required by /lib64/libSM.so.6)\n",
      "ccalc: /packages/7x/anaconda3/5.3.0/lib/libuuid.so.1: no version information available (required by /lib64/libSM.so.6)\n",
      "ccalc: /packages/7x/anaconda3/5.3.0/lib/libuuid.so.1: no version information available (required by /lib64/libSM.so.6)\n",
      "3drefit: /packages/7x/anaconda3/5.3.0/lib/libuuid.so.1: no version information available (required by /lib64/libSM.so.6)\n",
      "++ 3drefit: AFNI version=AFNI_20.1.11 (May 28 2020) [64-bit]\n",
      "++ Authored by: RW Cox\n",
      "++ Processing AFNI dataset ./PCA_n11.nii\n",
      " + deoblique\n",
      " + loading and re-writing dataset ./PCA_n11.nii (/data/bioprotean/SVD/clusters/PCA_n11.nii in NIFTI storage)\n",
      "++ 3drefit processed 1 datasets\n",
      "ccalc: /packages/7x/anaconda3/5.3.0/lib/libuuid.so.1: no version information available (required by /lib64/libSM.so.6)\n",
      "ccalc: /packages/7x/anaconda3/5.3.0/lib/libuuid.so.1: no version information available (required by /lib64/libSM.so.6)\n",
      "ccalc: /packages/7x/anaconda3/5.3.0/lib/libuuid.so.1: no version information available (required by /lib64/libSM.so.6)\n",
      "ParseName: /packages/7x/anaconda3/5.3.0/lib/libuuid.so.1: no version information available (required by /lib64/libSM.so.6)\n",
      "ParseName: /packages/7x/anaconda3/5.3.0/lib/libuuid.so.1: no version information available (required by /lib64/libSM.so.6)\n"
     ]
    }
   ],
   "source": [
    "%%bash\n",
    "module load afni/20.1.11\n",
    "cd /data/bioprotean/SVD/clusters/\n",
    "input='PCA_n11.nii'\n",
    "3dinfo $input -dxyz\n",
    "3drefit -xyzscale 0.2 $input\n",
    "3drefit -space ORIG $input\n",
    "3drefit -orient ARS $input\n",
    "@Align_Centers -base allen_200rs.nii -dset $input -no_cp"
   ]
  },
  {
   "cell_type": "code",
   "execution_count": null,
   "metadata": {},
   "outputs": [],
   "source": [
    "# Modify NIFTI headers documentation: https://nipy.org/nibabel/nifti_images.html\n",
    "img = nib.load('example_filename')\n",
    "img.header['xyzt_units'] = 2 # 2 shows mm\n",
    "img.header['pixdim'] # this is the pixel dimension"
   ]
  },
  {
   "cell_type": "code",
   "execution_count": null,
   "metadata": {},
   "outputs": [],
   "source": [
    "%%bash\n",
    "module load afni/20.1.11\n",
    "cd /data/bioprotean/SVD/clusters/\n",
    "3dinfo nclusters_43.nii -dxyz"
   ]
  },
  {
   "cell_type": "code",
   "execution_count": null,
   "metadata": {},
   "outputs": [],
   "source": [
    "%%bash\n",
    "module load afni/20.1.11\n",
    "cd /data/bioprotean/SVD/clusters/\n",
    "for i in {43..50}\n",
    "do\n",
    "    3drefit -xyzscale 0.2 nclusters_$i.nii\n",
    "done"
   ]
  },
  {
   "cell_type": "code",
   "execution_count": null,
   "metadata": {},
   "outputs": [],
   "source": [
    "%%bash\n",
    "module load afni/20.1.11\n",
    "cd /data/bioprotean/SVD/clusters/\n",
    "for i in {1..50}\n",
    "do\n",
    "    3drefit -xorigin 0 -yorigin 0 -zorigin 0 clusters_$i.nii\n",
    "done"
   ]
  },
  {
   "cell_type": "code",
   "execution_count": null,
   "metadata": {},
   "outputs": [],
   "source": [
    "%%bash\n",
    "module load afni/20.1.11\n",
    "cd /data/bioprotean/SVD/clusters/\n",
    "base='clusters_10.nii'\n",
    "input='jac_tm_200pos_mask.nii'\n",
    "# number of voxels in x y z directions\n",
    "3dinfo -ni -nj -nk $base\n",
    "3dinfo -ni -nj -nk $input\n",
    "# location of axes origin\n",
    "3dinfo -o3 $base\n",
    "3dinfo -o3 $input\n",
    "# voxel dimension\n",
    "3dinfo -d3 $base\n",
    "3dinfo -d3 $input"
   ]
  },
  {
   "cell_type": "code",
   "execution_count": null,
   "metadata": {},
   "outputs": [],
   "source": [
    "%%bash\n",
    "module load afni/20.1.11\n",
    "cd /data/bioprotean/SVD/clusters/\n",
    "for i in {1..50}\n",
    "do\n",
    "    3drefit -space ORIG clusters_$i.nii\n",
    "done"
   ]
  },
  {
   "cell_type": "code",
   "execution_count": null,
   "metadata": {},
   "outputs": [],
   "source": [
    "%%bash\n",
    "module load afni/20.1.11\n",
    "cd /data/bioprotean/SVD/clusters/\n",
    "3dinfo clusters_10.nii -dxyz\n",
    "3dinfo jac_tm_200pos_mask.nii -dxyz\n",
    "#3drefit -orient RAI jac_tm_100pos_RAI.nii"
   ]
  },
  {
   "cell_type": "code",
   "execution_count": null,
   "metadata": {},
   "outputs": [],
   "source": [
    "%%bash\n",
    "module load afni/20.1.11\n",
    "cd /data/bioprotean/SVD/clusters/\n",
    "for i in {1..50}\n",
    "do\n",
    "    3drefit -orient ARS clusters_$i.nii\n",
    "done"
   ]
  },
  {
   "cell_type": "code",
   "execution_count": null,
   "metadata": {},
   "outputs": [],
   "source": [
    "%%bash\n",
    "module load afni/20.1.11\n",
    "cd /data/bioprotean/SVD/clusters/\n",
    "for i in {1..50}\n",
    "do\n",
    "    @Align_Centers -base jac_tm_200pos_mask.nii -dset clusters_$i.nii -no_cp\n",
    "done"
   ]
  }
 ],
 "metadata": {
  "kernelspec": {
   "display_name": "Py3-basic",
   "language": "python",
   "name": "python3"
  },
  "language_info": {
   "codemirror_mode": {
    "name": "ipython",
    "version": 3
   },
   "file_extension": ".py",
   "mimetype": "text/x-python",
   "name": "python",
   "nbconvert_exporter": "python",
   "pygments_lexer": "ipython3",
   "version": "3.7.2"
  }
 },
 "nbformat": 4,
 "nbformat_minor": 2
}
