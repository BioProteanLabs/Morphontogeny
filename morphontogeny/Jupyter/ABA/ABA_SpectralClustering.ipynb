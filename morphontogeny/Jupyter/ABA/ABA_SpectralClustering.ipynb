{
 "cells": [
  {
   "cell_type": "markdown",
   "metadata": {},
   "source": [
    "# Spectral Clustering on ABA"
   ]
  },
  {
   "cell_type": "code",
   "execution_count": 1,
   "metadata": {},
   "outputs": [],
   "source": [
    "import time\n",
    "import numpy as np\n",
    "import matplotlib.pyplot as plt\n",
    "from sklearn.cluster import SpectralClustering\n",
    "%matplotlib inline\n",
    "%run nifti_tools.ipynb"
   ]
  },
  {
   "cell_type": "code",
   "execution_count": 9,
   "metadata": {},
   "outputs": [
    {
     "name": "stdout",
     "output_type": "stream",
     "text": [
      "Computing label assignment using kmeans\n",
      "Initialization complete\n",
      "Iteration 0, inertia 94.95820852196447\n",
      "Iteration 1, inertia 78.79683933226993\n",
      "Iteration 2, inertia 78.22060686002668\n",
      "Converged at iteration 2: strict convergence.\n",
      "Initialization complete\n",
      "Iteration 0, inertia 95.7311615277778\n",
      "Iteration 1, inertia 78.67461642216966\n",
      "Iteration 2, inertia 77.47486999338086\n",
      "Converged at iteration 2: strict convergence.\n",
      "Initialization complete\n",
      "Iteration 0, inertia 95.37918237532259\n",
      "Iteration 1, inertia 79.42123156195552\n",
      "Iteration 2, inertia 78.04503569517722\n",
      "Converged at iteration 2: strict convergence.\n",
      "Initialization complete\n",
      "Iteration 0, inertia 96.31163676018217\n",
      "Iteration 1, inertia 78.81527258186829\n",
      "Iteration 2, inertia 78.08276850567\n",
      "Converged at iteration 2: strict convergence.\n",
      "Initialization complete\n",
      "Iteration 0, inertia 96.36249588804607\n",
      "Iteration 1, inertia 78.48407459730511\n",
      "Iteration 2, inertia 77.05455994137914\n",
      "Converged at iteration 2: strict convergence.\n",
      "Initialization complete\n",
      "Iteration 0, inertia 98.68503655485486\n",
      "Iteration 1, inertia 78.70866548675008\n",
      "Iteration 2, inertia 78.05231985872203\n",
      "Converged at iteration 2: strict convergence.\n",
      "Initialization complete\n",
      "Iteration 0, inertia 93.18934082226143\n",
      "Iteration 1, inertia 77.92979967185792\n",
      "Iteration 2, inertia 76.8898257768298\n",
      "Converged at iteration 2: strict convergence.\n",
      "Initialization complete\n",
      "Iteration 0, inertia 95.34463436800398\n",
      "Iteration 1, inertia 79.28760767067267\n",
      "Iteration 2, inertia 78.7717595043099\n",
      "Converged at iteration 2: strict convergence.\n",
      "Initialization complete\n",
      "Iteration 0, inertia 98.01037466437892\n",
      "Iteration 1, inertia 81.9000101737907\n",
      "Iteration 2, inertia 79.9508170592791\n",
      "Converged at iteration 2: strict convergence.\n",
      "Initialization complete\n",
      "Iteration 0, inertia 95.02350670059883\n",
      "Iteration 1, inertia 79.9748770882671\n",
      "Iteration 2, inertia 78.97830597142772\n",
      "Converged at iteration 2: strict convergence.\n",
      "Running time is  774.3960802555084\n"
     ]
    }
   ],
   "source": [
    "# With variance of 80%\n",
    "X = np.load('/data/bioprotean/ABA/KernelPCA/poly2/31512_80v_components.npy')\n",
    "\n",
    "start_time = time.time()\n",
    "\n",
    "n_clusters = 200\n",
    "SC = SpectralClustering(n_clusters = n_clusters, random_state = 0)\n",
    "SC.fit_predict(X)\n",
    "labels = SC.labels_\n",
    "\n",
    "print('Running time is ', (time.time() - start_time))"
   ]
  },
  {
   "cell_type": "code",
   "execution_count": 6,
   "metadata": {},
   "outputs": [],
   "source": [
    "# Reconstructing the clusters\n",
    "indices_path = '/data/bioprotean/ABA/MEMMAP/genes_list/half_indices.npy'\n",
    "labels_rc = reconstruct_ABA(labels, indices_path)"
   ]
  },
  {
   "cell_type": "code",
   "execution_count": 12,
   "metadata": {},
   "outputs": [
    {
     "data": {
      "text/plain": [
       "<matplotlib.image.AxesImage at 0x2ac35f5f9320>"
      ]
     },
     "execution_count": 12,
     "metadata": {},
     "output_type": "execute_result"
    },
    {
     "data": {
      "image/png": "[encoded data removed]",
      "text/plain": [
       "<Figure size 432x288 with 1 Axes>"
      ]
     },
     "metadata": {
      "needs_background": "light"
     },
     "output_type": "display_data"
    }
   ],
   "source": [
    "# Visualizing slices\n",
    "slice = labels_rc[:,35,:]\n",
    "plt.imshow(slice)"
   ]
  },
  {
   "cell_type": "code",
   "execution_count": null,
   "metadata": {},
   "outputs": [],
   "source": []
  }
 ],
 "metadata": {
  "kernelspec": {
   "display_name": "Py3-basic",
   "language": "python",
   "name": "python3"
  },
  "language_info": {
   "codemirror_mode": {
    "name": "ipython",
    "version": 3
   },
   "file_extension": ".py",
   "mimetype": "text/x-python",
   "name": "python",
   "nbconvert_exporter": "python",
   "pygments_lexer": "ipython3",
   "version": "3.7.2"
  }
 },
 "nbformat": 4,
 "nbformat_minor": 2
}
