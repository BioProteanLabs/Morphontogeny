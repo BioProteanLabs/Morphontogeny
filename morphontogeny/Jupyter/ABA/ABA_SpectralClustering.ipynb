{
 "cells": [
  {
   "cell_type": "code",
   "execution_count": 1,
   "metadata": {},
   "outputs": [],
   "source": [
    "import time\n",
    "import numpy as np\n",
    "import matplotlib.pyplot as plt\n",
    "from sklearn.cluster import SpectralClustering\n",
    "%matplotlib inline"
   ]
  },
  {
   "cell_type": "code",
   "execution_count": null,
   "metadata": {},
   "outputs": [],
   "source": [
    "# With variance of 80% and 10 clusters\n",
    "X = np.load('/data/bioprotean/ABA/PCA/PC_80v.npy')\n",
    "\n",
    "start_time = time.time()\n",
    "\n",
    "n_clusters = 10\n",
    "SC = SpectralClustering(n_clusters = n_clusters, random_state = 0, verbose = True)\n",
    "SC.fit_predict(X)\n",
    "labels = SC.labels_\n",
    "\n",
    "print('Running time is ', (time.time() - start_time))"
   ]
  },
  {
   "cell_type": "code",
   "execution_count": null,
   "metadata": {},
   "outputs": [],
   "source": []
  }
 ],
 "metadata": {
  "kernelspec": {
   "display_name": "Py3-basic",
   "language": "python",
   "name": "python3"
  },
  "language_info": {
   "codemirror_mode": {
    "name": "ipython",
    "version": 3
   },
   "file_extension": ".py",
   "mimetype": "text/x-python",
   "name": "python",
   "nbconvert_exporter": "python",
   "pygments_lexer": "ipython3",
   "version": "3.7.2"
  }
 },
 "nbformat": 4,
 "nbformat_minor": 2
}
