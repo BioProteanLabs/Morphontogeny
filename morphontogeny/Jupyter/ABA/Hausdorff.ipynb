{
 "cells": [
  {
   "cell_type": "markdown",
   "metadata": {},
   "source": [
    "# Hausdorff distance\n",
    "Computing hausdorff distance between clusters of ISH components and Neuroanatomy\n",
    "* Using skimage\n",
    "* Takes 2 ndarrays with Boolean values to show voxels in the region"
   ]
  },
  {
   "cell_type": "code",
   "execution_count": 22,
   "metadata": {},
   "outputs": [],
   "source": [
    "import numpy as np\n",
    "import nibabel as nib\n",
    "import matplotlib.pyplot as plt\n",
    "from skimage.metrics import hausdorff_distance\n",
    "from scipy.spatial.distance import directed_hausdorff\n",
    "%run nifti_tools.ipynb\n",
    "%matplotlib inline"
   ]
  },
  {
   "cell_type": "code",
   "execution_count": 23,
   "metadata": {},
   "outputs": [],
   "source": [
    "# Loading the annotations\n",
    "ant_path = '/data/bioprotean/ABA/PCA/clusters/allen_annot200.nii'\n",
    "ant_arr = nifti_to_array(ant_path)"
   ]
  },
  {
   "cell_type": "code",
   "execution_count": 24,
   "metadata": {},
   "outputs": [],
   "source": [
    "# Loading a sample cluster\n",
    "cluster_path = '/data/bioprotean/ABA/PCA/clusters/nclusters_fixed20.nii'\n",
    "cluster_arr = nifti_to_array(cluster_path)"
   ]
  },
  {
   "cell_type": "markdown",
   "metadata": {},
   "source": [
    "**Hausdorff distance between cluster i and anatomical region j**"
   ]
  },
  {
   "cell_type": "code",
   "execution_count": 30,
   "metadata": {},
   "outputs": [],
   "source": [
    "# Setting TRUE for all voxels in the brain region\n",
    "region_id = 816\n",
    "ant_region = np.where(ant_arr == region_id, True, False)"
   ]
  },
  {
   "cell_type": "code",
   "execution_count": 31,
   "metadata": {},
   "outputs": [],
   "source": [
    "# Setting TRUE for all voxels in the cluster\n",
    "cluster_id = 6\n",
    "cluster_section = np.where(cluster_arr == cluster_id, True, False)"
   ]
  },
  {
   "cell_type": "code",
   "execution_count": 32,
   "metadata": {},
   "outputs": [
    {
     "data": {
      "text/plain": [
       "33.18132004607411"
      ]
     },
     "execution_count": 32,
     "metadata": {},
     "output_type": "execute_result"
    }
   ],
   "source": [
    "# Computing the Hausdorff distance\n",
    "h = hausdorff_distance(ant_region, cluster_section)\n",
    "h"
   ]
  },
  {
   "cell_type": "code",
   "execution_count": 2,
   "metadata": {},
   "outputs": [],
   "source": [
    "# Annotations is fixed, inputting it one time\n",
    "ant_path = '/data/bioprotean/ABA/PCA/clusters/allen_annot200.nii'\n",
    "ant_vec = nifti_to_vector(ant_path)\n",
    "\n",
    "# Standardizing the vector using the function in nifti_tools.ipynb\n",
    "ant_std = std_vector(ant_vec)\n",
    "\n",
    "# Reshaping it to 2D\n",
    "ant_arr = ant_std.reshape(67,-1)"
   ]
  },
  {
   "cell_type": "code",
   "execution_count": 19,
   "metadata": {},
   "outputs": [
    {
     "name": "stdout",
     "output_type": "stream",
     "text": [
      "9.07189493243811\n",
      "0.0241\n"
     ]
    }
   ],
   "source": [
    "# Inputting the Clusters\n",
    "cluster_path = '/data/bioprotean/ABA/PCA/clusters/nclusters_fixed20.nii'\n",
    "cluster_vec = nifti_to_vector(cluster_path)\n",
    "\n",
    "# Standardizing the vector using the function in nifti_tools.ipynb\n",
    "cluster_std = std_vector(cluster_vec)\n",
    "\n",
    "# Reshaping it to 2D\n",
    "cluster_arr = cluster_std.reshape(67,-1)\n",
    "\n",
    "# Computing the Hausdorff distance\n",
    "print(directed_hausdorff(ant_arr, cluster_arr)[0])\n",
    "print(vectors_hausdorff(ant_vec, cluster_vec))"
   ]
  },
  {
   "cell_type": "code",
   "execution_count": null,
   "metadata": {},
   "outputs": [],
   "source": [
    "vec1 = nifti_to_vector(ant_path)\n",
    "vec2 = nifti_to_vector(cluster_path)\n",
    "\n",
    "arr1 = nifti_to_array(ant_path)\n",
    "arr2 = nifti_to_array(cluster_path)\n",
    "# Standardizing the vectors the function in nifti_tools.ipynb\n",
    "vec1_std = std_vector(vec1)\n",
    "vec2_std = std_vector(vec2)\n",
    "\n",
    "# Reshaping the vectors to 2D\n",
    "first_dim = vec1.shape[0]\n",
    "vec1_arr = vec1_std.reshape(first_dim,-1)\n",
    "vec2_arr = vec2_std.reshape(first_dim,-1)\n",
    "    \n",
    "# Computing the distance\n",
    "haus_d = directed_hausdorff(arr1, arr2)[0]\n",
    "print(haus_d)"
   ]
  },
  {
   "cell_type": "code",
   "execution_count": 14,
   "metadata": {},
   "outputs": [
    {
     "data": {
      "text/plain": [
       "(159326, 1)"
      ]
     },
     "execution_count": 14,
     "metadata": {},
     "output_type": "execute_result"
    }
   ],
   "source": [
    "vec1_arr.shape"
   ]
  },
  {
   "cell_type": "markdown",
   "metadata": {},
   "source": [
    "**Computing the Hasudorff clusters for clusters from 1 to 200**"
   ]
  },
  {
   "cell_type": "code",
   "execution_count": 20,
   "metadata": {},
   "outputs": [
    {
     "name": "stderr",
     "output_type": "stream",
     "text": [
      "/packages/7x/anaconda3/5.3.0/lib/python3.7/site-packages/ipykernel_launcher.py:16: RuntimeWarning: invalid value encountered in true_divide\n",
      "  app.launch_new_instance()\n"
     ]
    }
   ],
   "source": [
    "# List to save distances\n",
    "haus_list = []\n",
    "\n",
    "for i in range (1,201):\n",
    "    # Inputting the Clusters\n",
    "    cluster_path = '/data/bioprotean/ABA/PCA/clusters/nclusters_fixed'+str(i)+'.nii'\n",
    "    cluster_vec = nifti_to_vector(cluster_path)\n",
    "\n",
    "#     # Standardizing the vector using the function in nifti_tools.ipynb\n",
    "#     cluster_std = std_vector(cluster_vec)\n",
    "\n",
    "#     # Reshaping it to 2D\n",
    "#     cluster_arr = cluster_std.reshape(67,-1)\n",
    "    \n",
    "    # Computing the Hausdorff distance\n",
    "#     distance = directed_hausdorff(ant_arr, cluster_arr)[0]\n",
    "    distance = vectors_hausdorff(ant_vec, cluster_vec)\n",
    "    haus_list.append(distance)"
   ]
  },
  {
   "cell_type": "code",
   "execution_count": 21,
   "metadata": {},
   "outputs": [
    {
     "data": {
      "image/png": "[encoded data removed]",
      "text/plain": [
       "<Figure size 432x288 with 1 Axes>"
      ]
     },
     "metadata": {
      "needs_background": "light"
     },
     "output_type": "display_data"
    }
   ],
   "source": [
    "# Defining the list of Ks\n",
    "Ks = range(1,201)\n",
    "\n",
    "fig, ax = plt.subplots()\n",
    "ax.plot(Ks, haus_list)\n",
    "\n",
    "ax.set(xlabel='Number of clusters (K)', ylabel='Hausdorff distance',\n",
    "       title='Distance of Clusters and Neuroanatomy')\n",
    "ax.grid()\n",
    "\n",
    "# fig.savefig(\"test.png\")\n",
    "plt.show()"
   ]
  },
  {
   "cell_type": "markdown",
   "metadata": {},
   "source": [
    "**Plotting the distances for different Ks**"
   ]
  },
  {
   "cell_type": "code",
   "execution_count": 13,
   "metadata": {},
   "outputs": [
    {
     "data": {
      "image/png": "[encoded data removed]",
      "text/plain": [
       "<Figure size 432x288 with 1 Axes>"
      ]
     },
     "metadata": {
      "needs_background": "light"
     },
     "output_type": "display_data"
    }
   ],
   "source": [
    "# Defining the list of Ks\n",
    "Ks = range(1,201)\n",
    "\n",
    "fig, ax = plt.subplots()\n",
    "ax.plot(Ks, haus_list)\n",
    "\n",
    "ax.set(xlabel='Number of clusters (K)', ylabel='Hausdorff distance',\n",
    "       title='Distance of Clusters and Neuroanatomy')\n",
    "ax.grid()\n",
    "\n",
    "# fig.savefig(\"test.png\")\n",
    "plt.show()"
   ]
  },
  {
   "cell_type": "markdown",
   "metadata": {},
   "source": [
    "**Measuring Hausdorff distance with shuffled labels**"
   ]
  },
  {
   "cell_type": "code",
   "execution_count": 53,
   "metadata": {},
   "outputs": [
    {
     "name": "stdout",
     "output_type": "stream",
     "text": [
      "The new Hausdorff distance is 11.760161675243273, while it was 9.275640639905827 before shuffling the labels\n"
     ]
    }
   ],
   "source": [
    "# Inputting the Clusters\n",
    "cluster_path = '/data/bioprotean/ABA/PCA/clusters/nclusters_fixed100.nii'\n",
    "cluster_vec = nifti_to_vector(cluster_path)\n",
    "shuffled_vec = shuffle_vector(cluster_vec) # Shuffling the labels\n",
    "\n",
    "# Standardizing the vector using the function in nifti_tools.ipynb\n",
    "cluster_std = std_vector(cluster_vec)\n",
    "shuffled_std = std_vector(shuffled_vec)\n",
    "\n",
    "# Reshaping it to 2D\n",
    "cluster_arr = cluster_std.reshape(67,-1)\n",
    "shuffled_arr = shuffled_std.reshape(67,-1)\n",
    "\n",
    "# Computing the Hausdorff distance\n",
    "old_distance = directed_hausdorff(ant_arr, cluster_arr)[0]\n",
    "new_distance = directed_hausdorff(ant_arr, shuffled_arr)[0]\n",
    "\n",
    "print('The new Hausdorff distance is {}, while it was {} before shuffling the labels'\\\n",
    ".format(new_distance, old_distance))"
   ]
  },
  {
   "cell_type": "markdown",
   "metadata": {},
   "source": [
    "**Measuring Hausdorff d with cluster labels being n times shuffled**"
   ]
  },
  {
   "cell_type": "code",
   "execution_count": 5,
   "metadata": {},
   "outputs": [
    {
     "name": "stdout",
     "output_type": "stream",
     "text": [
      "Shuffled Haus d measure for 10 permutations is 0.048648304409451004, while it was computed 0.048648297786712646 with no shuffling\n"
     ]
    }
   ],
   "source": [
    "# Inputting the Clusters\n",
    "cluster_path = '/data/bioprotean/ABA/PCA/clusters/nclusters_fixed10.nii'\n",
    "cluster_vec = nifti_to_vector(cluster_path)\n",
    "\n",
    "n_shuffles = 10\n",
    "haus_d = vectors_hausdorff(ant_vec, cluster_vec)\n",
    "shuffled_haus = shuffled_hausdorff(fixed_vec=ant_vec, changing_vec=cluster_vec, n=n_shuffles)\n",
    "\n",
    "print('Shuffled Haus d measure for {} permutations is {}, while it was computed {} with no shuffling'\\\n",
    ".format(n_shuffles, shuffled_haus, haus_d))"
   ]
  },
  {
   "cell_type": "markdown",
   "metadata": {},
   "source": [
    "**Measuring Hausdorff distance with skimage library tool**"
   ]
  },
  {
   "cell_type": "code",
   "execution_count": null,
   "metadata": {},
   "outputs": [],
   "source": []
  }
 ],
 "metadata": {
  "kernelspec": {
   "display_name": "Py3-basic",
   "language": "python",
   "name": "python3"
  },
  "language_info": {
   "codemirror_mode": {
    "name": "ipython",
    "version": 3
   },
   "file_extension": ".py",
   "mimetype": "text/x-python",
   "name": "python",
   "nbconvert_exporter": "python",
   "pygments_lexer": "ipython3",
   "version": "3.7.2"
  }
 },
 "nbformat": 4,
 "nbformat_minor": 2
}
