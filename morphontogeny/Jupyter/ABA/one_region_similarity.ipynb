{
 "cells": [
  {
   "cell_type": "code",
   "execution_count": 2,
   "metadata": {},
   "outputs": [],
   "source": [
    "import sys\n",
    "import numpy as np\n",
    "import pandas as pd\n",
    "import nibabel as nib\n",
    "import matplotlib.pyplot as plt\n",
    "%run nifti_tools.ipynb\n",
    "%matplotlib inline"
   ]
  },
  {
   "cell_type": "markdown",
   "metadata": {},
   "source": [
    "**Modifying the annotations list**"
   ]
  },
  {
   "cell_type": "code",
   "execution_count": null,
   "metadata": {},
   "outputs": [],
   "source": [
    "# Loading the list of annotations structures and acronyms\n",
    "annotations_df = pd.read_csv('/data/bioprotean/ABA/PCA/similarity/neuroantomy/annotations_list.csv')\n",
    "annotations_df"
   ]
  },
  {
   "cell_type": "markdown",
   "metadata": {},
   "source": [
    "**Adding a new column of True or False if used in 200 um annotations file**"
   ]
  },
  {
   "cell_type": "code",
   "execution_count": null,
   "metadata": {},
   "outputs": [],
   "source": [
    "# Loading the annotations NIFTI file and saving as a vector\n",
    "annotations_file = '/data/bioprotean/ABA/PCA/similarity/neuroantomy/allen_annot200.nii'\n",
    "annotations_vector = nifti_to_vector(annotations_file)"
   ]
  },
  {
   "cell_type": "code",
   "execution_count": null,
   "metadata": {},
   "outputs": [],
   "source": [
    "# Adding the new column to save the results\n",
    "annotations_df['in_200_atlas'] = False\n",
    "annotations_df"
   ]
  },
  {
   "cell_type": "code",
   "execution_count": null,
   "metadata": {},
   "outputs": [],
   "source": [
    "# Looping over different regions in the dataframe\n",
    "for i in range(annotations_df.shape[0]):\n",
    "    # The region ID\n",
    "    region_id = annotations_df.ant_id[i]\n",
    "    \n",
    "    # Masked array where 1 replaces the values of that region id\n",
    "    masked_array = np.where(annotations_vector != region_id, 0, 1)\n",
    "    \n",
    "    if np.sum(masked_array != 0):\n",
    "        annotations_df.in_200_atlas[i] = True"
   ]
  },
  {
   "cell_type": "code",
   "execution_count": null,
   "metadata": {},
   "outputs": [],
   "source": [
    "copy_df"
   ]
  },
  {
   "cell_type": "code",
   "execution_count": null,
   "metadata": {},
   "outputs": [],
   "source": [
    "annotations_df"
   ]
  },
  {
   "cell_type": "code",
   "execution_count": null,
   "metadata": {},
   "outputs": [],
   "source": [
    "annotations_df.in_200_atlas.value_counts()"
   ]
  },
  {
   "cell_type": "code",
   "execution_count": 22,
   "metadata": {},
   "outputs": [],
   "source": [
    "annotations_df.to_csv('/data/bioprotean/ABA/PCA/similarity/neuroantomy/new_list.csv')"
   ]
  },
  {
   "cell_type": "markdown",
   "metadata": {},
   "source": [
    "# Overlap with one brain region: \"IC\""
   ]
  },
  {
   "cell_type": "code",
   "execution_count": 28,
   "metadata": {},
   "outputs": [],
   "source": [
    "# What cluster has the highest overlap with this region?\n",
    "def max_overlap_cluster_region(ant_path, cluster_path, ant_id):\n",
    "    \"\"\"\n",
    "    This function finds the cluster that has the highest overlap with the given brain region.\n",
    "    \n",
    "    Arguments:\n",
    "        ant_path (str): Path to the NIFTI annotations file\n",
    "        cluster_path (str): Path to the NIFTI clustered file\n",
    "        ant_id (int): ID of the region to measure overlap with\n",
    "    \n",
    "    Returns:\n",
    "        max_cluster_id (int): ID of the cluster with the maximum overlap with the region\n",
    "        max_overlap_ratio (float): Ratio of the maximum overlap\n",
    "    \"\"\"\n",
    "    \n",
    "    # Loading the annotations and cluster file\n",
    "    ant_vec = nifti_to_vector(ant_path)\n",
    "    cluster_vec = nifti_to_vector(cluster_path)\n",
    "    \n",
    "    # Number of clusters in the cluster file\n",
    "    n_clusters = np.unique(cluster_vec).shape[0]\n",
    "    \n",
    "    # Making a list of overlap ratio for each cluster\n",
    "    overlap_perc_list = []\n",
    "    \n",
    "    # Making a binary mask of annotations for the brain region\n",
    "    masked_ant = np.where(ant_vec == ant_id, 1, 0)\n",
    "    \n",
    "    # Computing the number of voxels within that region\n",
    "    count_region_voxels = np.sum(masked_ant)\n",
    "    \n",
    "    for i in range(n_clusters):\n",
    "        # Making a binary mask of cluster for each cluster number\n",
    "        masked_cluster = np.where(cluster_vec == i, 1, 0)\n",
    "        \n",
    "        # Counting the number of overlapping voxels of the region and masked cluster\n",
    "        count_overlap = np.dot(masked_cluster, masked_ant)\n",
    "        \n",
    "        # Computing the ratio of overlap over the number of voxels in the region\n",
    "        overlap_ratio = count_overlap/count_region_voxels\n",
    "        \n",
    "        # Adding the ratio to the results list\n",
    "        overlap_perc_list.append(overlap_ratio)\n",
    "    \n",
    "    # Getting the max overlap and its index from the list\n",
    "    max_cluster_id = overlap_perc_list.index(max(overlap_perc_list))\n",
    "    max_overlap_ratio = max(overlap_perc_list)\n",
    "    \n",
    "    return max_cluster_id, max_overlap_ratio"
   ]
  },
  {
   "cell_type": "code",
   "execution_count": 67,
   "metadata": {},
   "outputs": [
    {
     "data": {
      "text/plain": [
       "(80, 0.924812030075188)"
      ]
     },
     "execution_count": 67,
     "metadata": {},
     "output_type": "execute_result"
    }
   ],
   "source": [
    "cluster_path = '/data/bioprotean/ABA/PCA/clusters/nclusters_fixed160.nii'\n",
    "result = max_overlap_cluster_region(annotations_file, cluster_path, 811)\n",
    "result"
   ]
  },
  {
   "cell_type": "code",
   "execution_count": null,
   "metadata": {},
   "outputs": [],
   "source": [
    "'''\n",
    "4/9/2021\n",
    "Momo\n",
    "Inconsistency seen in the number of regions existing in the 200 um resolution atlas.\n",
    "Re-doing the check for all the values existing and saving to a new csv file.\n",
    "'''"
   ]
  },
  {
   "cell_type": "code",
   "execution_count": 4,
   "metadata": {},
   "outputs": [
    {
     "data": {
      "text/html": [
       "<div>\n",
       "<style scoped>\n",
       "    .dataframe tbody tr th:only-of-type {\n",
       "        vertical-align: middle;\n",
       "    }\n",
       "\n",
       "    .dataframe tbody tr th {\n",
       "        vertical-align: top;\n",
       "    }\n",
       "\n",
       "    .dataframe thead th {\n",
       "        text-align: right;\n",
       "    }\n",
       "</style>\n",
       "<table border=\"1\" class=\"dataframe\">\n",
       "  <thead>\n",
       "    <tr style=\"text-align: right;\">\n",
       "      <th></th>\n",
       "      <th>structure</th>\n",
       "      <th>acronym</th>\n",
       "      <th>ish_id</th>\n",
       "      <th>ant_id</th>\n",
       "    </tr>\n",
       "  </thead>\n",
       "  <tbody>\n",
       "    <tr>\n",
       "      <th>0</th>\n",
       "      <td>\"root\"</td>\n",
       "      <td>\"root\"</td>\n",
       "      <td>-1.0</td>\n",
       "      <td>997</td>\n",
       "    </tr>\n",
       "    <tr>\n",
       "      <th>1</th>\n",
       "      <td>\"Basic cell groups and regions\"</td>\n",
       "      <td>\"grey\"</td>\n",
       "      <td>0.0</td>\n",
       "      <td>8</td>\n",
       "    </tr>\n",
       "    <tr>\n",
       "      <th>2</th>\n",
       "      <td>\"Cerebrum\"</td>\n",
       "      <td>\"CH\"</td>\n",
       "      <td>70.0</td>\n",
       "      <td>567</td>\n",
       "    </tr>\n",
       "    <tr>\n",
       "      <th>3</th>\n",
       "      <td>\"Cerebral cortex\"</td>\n",
       "      <td>\"CTX\"</td>\n",
       "      <td>85.0</td>\n",
       "      <td>688</td>\n",
       "    </tr>\n",
       "    <tr>\n",
       "      <th>4</th>\n",
       "      <td>\"Cortical plate\"</td>\n",
       "      <td>\"CTXpl\"</td>\n",
       "      <td>86.0</td>\n",
       "      <td>695</td>\n",
       "    </tr>\n",
       "  </tbody>\n",
       "</table>\n",
       "</div>"
      ],
      "text/plain": [
       "                         structure  acronym  ish_id  ant_id\n",
       "0                           \"root\"   \"root\"    -1.0     997\n",
       "1  \"Basic cell groups and regions\"   \"grey\"     0.0       8\n",
       "2                       \"Cerebrum\"     \"CH\"    70.0     567\n",
       "3                \"Cerebral cortex\"    \"CTX\"    85.0     688\n",
       "4                 \"Cortical plate\"  \"CTXpl\"    86.0     695"
      ]
     },
     "execution_count": 4,
     "metadata": {},
     "output_type": "execute_result"
    }
   ],
   "source": [
    "# Loading the list of annotations structures and acronyms\n",
    "ant_df = pd.read_csv('/data/bioprotean/ABA/PCA/similarity/neuroantomy/allen_structures.csv')\n",
    "ant_df.head()"
   ]
  },
  {
   "cell_type": "code",
   "execution_count": 5,
   "metadata": {},
   "outputs": [],
   "source": [
    "# Loading the annotations NIFTI file and saving as a vector\n",
    "ant_path = '/data/bioprotean/ABA/PCA/similarity/neuroantomy/allen_annot200.nii'\n",
    "ant_vec = nifti_to_vector(ant_path)"
   ]
  },
  {
   "cell_type": "code",
   "execution_count": 7,
   "metadata": {},
   "outputs": [
    {
     "data": {
      "text/html": [
       "<div>\n",
       "<style scoped>\n",
       "    .dataframe tbody tr th:only-of-type {\n",
       "        vertical-align: middle;\n",
       "    }\n",
       "\n",
       "    .dataframe tbody tr th {\n",
       "        vertical-align: top;\n",
       "    }\n",
       "\n",
       "    .dataframe thead th {\n",
       "        text-align: right;\n",
       "    }\n",
       "</style>\n",
       "<table border=\"1\" class=\"dataframe\">\n",
       "  <thead>\n",
       "    <tr style=\"text-align: right;\">\n",
       "      <th></th>\n",
       "      <th>structure</th>\n",
       "      <th>acronym</th>\n",
       "      <th>ish_id</th>\n",
       "      <th>ant_id</th>\n",
       "      <th>in_200_atlas</th>\n",
       "    </tr>\n",
       "  </thead>\n",
       "  <tbody>\n",
       "    <tr>\n",
       "      <th>0</th>\n",
       "      <td>\"root\"</td>\n",
       "      <td>\"root\"</td>\n",
       "      <td>-1.0</td>\n",
       "      <td>997</td>\n",
       "      <td>False</td>\n",
       "    </tr>\n",
       "    <tr>\n",
       "      <th>1</th>\n",
       "      <td>\"Basic cell groups and regions\"</td>\n",
       "      <td>\"grey\"</td>\n",
       "      <td>0.0</td>\n",
       "      <td>8</td>\n",
       "      <td>False</td>\n",
       "    </tr>\n",
       "    <tr>\n",
       "      <th>2</th>\n",
       "      <td>\"Cerebrum\"</td>\n",
       "      <td>\"CH\"</td>\n",
       "      <td>70.0</td>\n",
       "      <td>567</td>\n",
       "      <td>False</td>\n",
       "    </tr>\n",
       "    <tr>\n",
       "      <th>3</th>\n",
       "      <td>\"Cerebral cortex\"</td>\n",
       "      <td>\"CTX\"</td>\n",
       "      <td>85.0</td>\n",
       "      <td>688</td>\n",
       "      <td>False</td>\n",
       "    </tr>\n",
       "    <tr>\n",
       "      <th>4</th>\n",
       "      <td>\"Cortical plate\"</td>\n",
       "      <td>\"CTXpl\"</td>\n",
       "      <td>86.0</td>\n",
       "      <td>695</td>\n",
       "      <td>False</td>\n",
       "    </tr>\n",
       "  </tbody>\n",
       "</table>\n",
       "</div>"
      ],
      "text/plain": [
       "                         structure  acronym  ish_id  ant_id  in_200_atlas\n",
       "0                           \"root\"   \"root\"    -1.0     997         False\n",
       "1  \"Basic cell groups and regions\"   \"grey\"     0.0       8         False\n",
       "2                       \"Cerebrum\"     \"CH\"    70.0     567         False\n",
       "3                \"Cerebral cortex\"    \"CTX\"    85.0     688         False\n",
       "4                 \"Cortical plate\"  \"CTXpl\"    86.0     695         False"
      ]
     },
     "execution_count": 7,
     "metadata": {},
     "output_type": "execute_result"
    }
   ],
   "source": [
    "# Adding a new column to save the results\n",
    "ant_df['in_200_atlas'] = False\n",
    "ant_df.head()"
   ]
  },
  {
   "cell_type": "code",
   "execution_count": 10,
   "metadata": {},
   "outputs": [
    {
     "data": {
      "text/plain": [
       "(594,)"
      ]
     },
     "execution_count": 10,
     "metadata": {},
     "output_type": "execute_result"
    }
   ],
   "source": [
    "# Checking different values in annotations atlas\n",
    "IDs_list = np.unique(ant_vec)\n",
    "IDs_list.shape"
   ]
  },
  {
   "cell_type": "code",
   "execution_count": 11,
   "metadata": {},
   "outputs": [
    {
     "name": "stderr",
     "output_type": "stream",
     "text": [
      "/packages/7x/anaconda3/5.3.0/lib/python3.7/site-packages/ipykernel_launcher.py:4: SettingWithCopyWarning: \n",
      "A value is trying to be set on a copy of a slice from a DataFrame\n",
      "\n",
      "See the caveats in the documentation: https://pandas.pydata.org/pandas-docs/stable/user_guide/indexing.html#returning-a-view-versus-a-copy\n",
      "  after removing the cwd from sys.path.\n"
     ]
    }
   ],
   "source": [
    "# Changing False to True if the value exists in the IDs_list\n",
    "for i, ant_id in enumerate(ant_df['ant_id']):\n",
    "    if ant_id in IDs_list:\n",
    "        ant_df['in_200_atlas'][i] = True"
   ]
  },
  {
   "cell_type": "code",
   "execution_count": 12,
   "metadata": {},
   "outputs": [
    {
     "data": {
      "text/html": [
       "<div>\n",
       "<style scoped>\n",
       "    .dataframe tbody tr th:only-of-type {\n",
       "        vertical-align: middle;\n",
       "    }\n",
       "\n",
       "    .dataframe tbody tr th {\n",
       "        vertical-align: top;\n",
       "    }\n",
       "\n",
       "    .dataframe thead th {\n",
       "        text-align: right;\n",
       "    }\n",
       "</style>\n",
       "<table border=\"1\" class=\"dataframe\">\n",
       "  <thead>\n",
       "    <tr style=\"text-align: right;\">\n",
       "      <th></th>\n",
       "      <th>structure</th>\n",
       "      <th>acronym</th>\n",
       "      <th>ish_id</th>\n",
       "      <th>ant_id</th>\n",
       "      <th>in_200_atlas</th>\n",
       "    </tr>\n",
       "  </thead>\n",
       "  <tbody>\n",
       "    <tr>\n",
       "      <th>0</th>\n",
       "      <td>\"root\"</td>\n",
       "      <td>\"root\"</td>\n",
       "      <td>-1.0</td>\n",
       "      <td>997</td>\n",
       "      <td>True</td>\n",
       "    </tr>\n",
       "    <tr>\n",
       "      <th>1</th>\n",
       "      <td>\"Basic cell groups and regions\"</td>\n",
       "      <td>\"grey\"</td>\n",
       "      <td>0.0</td>\n",
       "      <td>8</td>\n",
       "      <td>False</td>\n",
       "    </tr>\n",
       "    <tr>\n",
       "      <th>2</th>\n",
       "      <td>\"Cerebrum\"</td>\n",
       "      <td>\"CH\"</td>\n",
       "      <td>70.0</td>\n",
       "      <td>567</td>\n",
       "      <td>False</td>\n",
       "    </tr>\n",
       "    <tr>\n",
       "      <th>3</th>\n",
       "      <td>\"Cerebral cortex\"</td>\n",
       "      <td>\"CTX\"</td>\n",
       "      <td>85.0</td>\n",
       "      <td>688</td>\n",
       "      <td>False</td>\n",
       "    </tr>\n",
       "    <tr>\n",
       "      <th>4</th>\n",
       "      <td>\"Cortical plate\"</td>\n",
       "      <td>\"CTXpl\"</td>\n",
       "      <td>86.0</td>\n",
       "      <td>695</td>\n",
       "      <td>False</td>\n",
       "    </tr>\n",
       "  </tbody>\n",
       "</table>\n",
       "</div>"
      ],
      "text/plain": [
       "                         structure  acronym  ish_id  ant_id  in_200_atlas\n",
       "0                           \"root\"   \"root\"    -1.0     997          True\n",
       "1  \"Basic cell groups and regions\"   \"grey\"     0.0       8         False\n",
       "2                       \"Cerebrum\"     \"CH\"    70.0     567         False\n",
       "3                \"Cerebral cortex\"    \"CTX\"    85.0     688         False\n",
       "4                 \"Cortical plate\"  \"CTXpl\"    86.0     695         False"
      ]
     },
     "execution_count": 12,
     "metadata": {},
     "output_type": "execute_result"
    }
   ],
   "source": [
    "ant_df.head()"
   ]
  },
  {
   "cell_type": "code",
   "execution_count": null,
   "metadata": {},
   "outputs": [],
   "source": [
    "'''\n",
    "There are some values in the annotation.nii that does not exist in the list?\n",
    "'''"
   ]
  },
  {
   "cell_type": "code",
   "execution_count": 15,
   "metadata": {},
   "outputs": [],
   "source": [
    "# Making a new dataframe where only regions in 200 um exist\n",
    "ant200_df = ant_df[ant_df['in_200_atlas']==True]\n",
    "ant200_df.reset_index(drop=True, inplace=True)"
   ]
  },
  {
   "cell_type": "code",
   "execution_count": 16,
   "metadata": {},
   "outputs": [
    {
     "data": {
      "text/html": [
       "<div>\n",
       "<style scoped>\n",
       "    .dataframe tbody tr th:only-of-type {\n",
       "        vertical-align: middle;\n",
       "    }\n",
       "\n",
       "    .dataframe tbody tr th {\n",
       "        vertical-align: top;\n",
       "    }\n",
       "\n",
       "    .dataframe thead th {\n",
       "        text-align: right;\n",
       "    }\n",
       "</style>\n",
       "<table border=\"1\" class=\"dataframe\">\n",
       "  <thead>\n",
       "    <tr style=\"text-align: right;\">\n",
       "      <th></th>\n",
       "      <th>structure</th>\n",
       "      <th>acronym</th>\n",
       "      <th>ish_id</th>\n",
       "      <th>ant_id</th>\n",
       "      <th>in_200_atlas</th>\n",
       "    </tr>\n",
       "  </thead>\n",
       "  <tbody>\n",
       "    <tr>\n",
       "      <th>0</th>\n",
       "      <td>\"root\"</td>\n",
       "      <td>\"root\"</td>\n",
       "      <td>-1.0</td>\n",
       "      <td>997</td>\n",
       "      <td>True</td>\n",
       "    </tr>\n",
       "    <tr>\n",
       "      <th>1</th>\n",
       "      <td>\"Frontal pole, layer 1\"</td>\n",
       "      <td>\"FRP1\"</td>\n",
       "      <td>998.0</td>\n",
       "      <td>68</td>\n",
       "      <td>True</td>\n",
       "    </tr>\n",
       "    <tr>\n",
       "      <th>2</th>\n",
       "      <td>\"Frontal pole, layer 2/3\"</td>\n",
       "      <td>\"FRP2/3\"</td>\n",
       "      <td>1073.0</td>\n",
       "      <td>667</td>\n",
       "      <td>True</td>\n",
       "    </tr>\n",
       "    <tr>\n",
       "      <th>3</th>\n",
       "      <td>\"Primary motor area, Layer 1\"</td>\n",
       "      <td>\"MOp1\"</td>\n",
       "      <td>888.0</td>\n",
       "      <td>320</td>\n",
       "      <td>True</td>\n",
       "    </tr>\n",
       "    <tr>\n",
       "      <th>4</th>\n",
       "      <td>\"Primary motor area, Layer 2/3\"</td>\n",
       "      <td>\"MOp2/3\"</td>\n",
       "      <td>966.0</td>\n",
       "      <td>943</td>\n",
       "      <td>True</td>\n",
       "    </tr>\n",
       "  </tbody>\n",
       "</table>\n",
       "</div>"
      ],
      "text/plain": [
       "                         structure   acronym  ish_id  ant_id  in_200_atlas\n",
       "0                           \"root\"    \"root\"    -1.0     997          True\n",
       "1          \"Frontal pole, layer 1\"    \"FRP1\"   998.0      68          True\n",
       "2        \"Frontal pole, layer 2/3\"  \"FRP2/3\"  1073.0     667          True\n",
       "3    \"Primary motor area, Layer 1\"    \"MOp1\"   888.0     320          True\n",
       "4  \"Primary motor area, Layer 2/3\"  \"MOp2/3\"   966.0     943          True"
      ]
     },
     "execution_count": 16,
     "metadata": {},
     "output_type": "execute_result"
    }
   ],
   "source": [
    "ant200_df.head()"
   ]
  },
  {
   "cell_type": "code",
   "execution_count": 19,
   "metadata": {},
   "outputs": [],
   "source": [
    "regions_of_df = np.unique(ant200_df['ant_id'])"
   ]
  },
  {
   "cell_type": "code",
   "execution_count": 20,
   "metadata": {},
   "outputs": [
    {
     "name": "stdout",
     "output_type": "stream",
     "text": [
      "0.0\n",
      "182305700.0\n",
      "182305710.0\n",
      "312782560.0\n",
      "312782600.0\n",
      "312782660.0\n",
      "484682460.0\n",
      "526157200.0\n",
      "527697000.0\n",
      "549009200.0\n",
      "560581570.0\n",
      "563807400.0\n",
      "576073700.0\n",
      "589508400.0\n",
      "589508500.0\n",
      "599626940.0\n",
      "606826600.0\n",
      "606826700.0\n",
      "607344830.0\n",
      "614454300.0\n"
     ]
    }
   ],
   "source": [
    "for ID in IDs_list:\n",
    "    if ID not in regions_of_df:\n",
    "        print(ID)"
   ]
  },
  {
   "cell_type": "code",
   "execution_count": null,
   "metadata": {},
   "outputs": [],
   "source": []
  }
 ],
 "metadata": {
  "kernelspec": {
   "display_name": "Py3-basic",
   "language": "python",
   "name": "python3"
  },
  "language_info": {
   "codemirror_mode": {
    "name": "ipython",
    "version": 3
   },
   "file_extension": ".py",
   "mimetype": "text/x-python",
   "name": "python",
   "nbconvert_exporter": "python",
   "pygments_lexer": "ipython3",
   "version": "3.7.2"
  }
 },
 "nbformat": 4,
 "nbformat_minor": 2
}
