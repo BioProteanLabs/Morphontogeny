{
 "cells": [
  {
   "cell_type": "code",
   "execution_count": 1,
   "metadata": {},
   "outputs": [],
   "source": [
    "import numpy as np"
   ]
  },
  {
   "cell_type": "code",
   "execution_count": 42,
   "metadata": {},
   "outputs": [],
   "source": [
    "a = np.array([0,1,2,2,3,3,3])"
   ]
  },
  {
   "cell_type": "code",
   "execution_count": 24,
   "metadata": {},
   "outputs": [
    {
     "data": {
      "text/plain": [
       "array([0, 1, 2, 3])"
      ]
     },
     "execution_count": 24,
     "metadata": {},
     "output_type": "execute_result"
    }
   ],
   "source": [
    "values_vec = np.unique(a)\n",
    "values_vec"
   ]
  },
  {
   "cell_type": "code",
   "execution_count": 25,
   "metadata": {},
   "outputs": [
    {
     "name": "stdout",
     "output_type": "stream",
     "text": [
      "[2 1 0 3]\n"
     ]
    }
   ],
   "source": [
    "rng = np.random.default_rng()\n",
    "shuffled_values = rng.permutation(values_vec)\n",
    "print(shuffled_values)"
   ]
  },
  {
   "cell_type": "code",
   "execution_count": 52,
   "metadata": {},
   "outputs": [
    {
     "name": "stdout",
     "output_type": "stream",
     "text": [
      "3\n"
     ]
    }
   ],
   "source": [
    "new_value = shuffled_values[3]\n",
    "print(new_value)"
   ]
  },
  {
   "cell_type": "code",
   "execution_count": 53,
   "metadata": {},
   "outputs": [
    {
     "data": {
      "text/plain": [
       "3"
      ]
     },
     "execution_count": 53,
     "metadata": {},
     "output_type": "execute_result"
    }
   ],
   "source": [
    "old_value = values_vec[3]\n",
    "old_value"
   ]
  },
  {
   "cell_type": "code",
   "execution_count": 54,
   "metadata": {},
   "outputs": [
    {
     "data": {
      "text/plain": [
       "array([0, 0, 0, 0, 3, 3, 3])"
      ]
     },
     "execution_count": 54,
     "metadata": {},
     "output_type": "execute_result"
    }
   ],
   "source": [
    "change_vec = np.where(a==old_value, new_value, 0)\n",
    "change_vec"
   ]
  },
  {
   "cell_type": "code",
   "execution_count": 50,
   "metadata": {},
   "outputs": [
    {
     "data": {
      "text/plain": [
       "array([0, 1, 2, 2, 3, 3, 3])"
      ]
     },
     "execution_count": 50,
     "metadata": {},
     "output_type": "execute_result"
    }
   ],
   "source": [
    "a"
   ]
  },
  {
   "cell_type": "code",
   "execution_count": 20,
   "metadata": {},
   "outputs": [],
   "source": [
    "def shuffle_vector(vector):\n",
    "    '''\n",
    "    Takes a vector of labels and randomly shuffles its values by shuffling for each value.\n",
    "    For examples, all 0s are changed to 7. Not that every 0 gets a different value.\n",
    "    \n",
    "    Arguments:\n",
    "        vector (vec): Vector to be shuffled\n",
    "    \n",
    "    Returns:\n",
    "        shuffled_vec (vec): The shuffled vector\n",
    "    '''\n",
    "    \n",
    "    # Taking a vector of different values in the input vector\n",
    "    values_vec = np.unique(vector)\n",
    "    \n",
    "    # Creating a random Generator instance and shuffling the values\n",
    "    rng = np.random.default_rng()\n",
    "    shuffled_values = rng.permutation(values_vec)\n",
    "    \n",
    "    # Creating the vector to save the results\n",
    "    shuffled_vec = np.zeros(vector.shape[0])\n",
    "    \n",
    "    # Looping over the unique values of the vector\n",
    "    for count, old_value in enumerate(values_vec):\n",
    "        \n",
    "        # Creating a vector to change one value in all elements of the vector\n",
    "        new_value = shuffled_values[count]\n",
    "        change_vec = np.where(vector == old_value, new_value, 0)\n",
    "        \n",
    "        # Adding the changed vector to the storing vector\n",
    "        shuffled_vec += change_vec\n",
    "    \n",
    "    return shuffled_vec"
   ]
  },
  {
   "cell_type": "code",
   "execution_count": 57,
   "metadata": {},
   "outputs": [
    {
     "data": {
      "text/plain": [
       "array([2., 3., 0., 0., 1., 1., 1.])"
      ]
     },
     "execution_count": 57,
     "metadata": {},
     "output_type": "execute_result"
    }
   ],
   "source": [
    "shuffle_vector(a)"
   ]
  },
  {
   "cell_type": "code",
   "execution_count": null,
   "metadata": {},
   "outputs": [],
   "source": []
  },
  {
   "cell_type": "code",
   "execution_count": null,
   "metadata": {},
   "outputs": [],
   "source": []
  }
 ],
 "metadata": {
  "kernelspec": {
   "display_name": "Py3-basic",
   "language": "python",
   "name": "python3"
  },
  "language_info": {
   "codemirror_mode": {
    "name": "ipython",
    "version": 3
   },
   "file_extension": ".py",
   "mimetype": "text/x-python",
   "name": "python",
   "nbconvert_exporter": "python",
   "pygments_lexer": "ipython3",
   "version": "3.7.2"
  }
 },
 "nbformat": 4,
 "nbformat_minor": 2
}
