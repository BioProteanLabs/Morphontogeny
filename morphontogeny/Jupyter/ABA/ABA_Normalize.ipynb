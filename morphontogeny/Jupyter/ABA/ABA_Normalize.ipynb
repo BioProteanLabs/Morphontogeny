{
 "cells": [
  {
   "cell_type": "markdown",
   "metadata": {},
   "source": [
    "# ABA normalization"
   ]
  },
  {
   "cell_type": "markdown",
   "metadata": {},
   "source": [
    "In list_top_genes.csv around 4000 genes are mentioned.\n",
    "<br>Around 3000 of them are mentioned as used in analysis. (saved in genes_mmp)\n",
    "<br>2941 of those genes could be found on ABA atlas. (saved in finalgenes_mmp)\n",
    "<br>**Final genes need to get transposed. (saved in finalgenes_T)\n",
    "<br>Different normalizations**:\n",
    "* Including -1, scaled (std)\n",
    "* Including -1, L2 normalized\n",
    "* -1 to 0, scaled\n",
    "* -1 to 0, L2 normalized"
   ]
  },
  {
   "cell_type": "code",
   "execution_count": 2,
   "metadata": {},
   "outputs": [],
   "source": [
    "import numpy as np\n",
    "from sklearn.decomposition import PCA\n",
    "from sklearn.preprocessing import normalize\n",
    "from sklearn.preprocessing import StandardScaler"
   ]
  },
  {
   "cell_type": "code",
   "execution_count": 4,
   "metadata": {},
   "outputs": [],
   "source": [
    "# Loading the top 2941 genes\n",
    "X_gv = np.memmap('/data/bioprotean/ABA/MEMMAP/genes_list/finalgenes_mmp.mymemmap',\\\n",
    "dtype='float32', mode='r', shape=(2941,159326))"
   ]
  },
  {
   "cell_type": "code",
   "execution_count": 5,
   "metadata": {},
   "outputs": [],
   "source": [
    "# Transposing the matrix\n",
    "X = np.transpose(X_gv)\n",
    "\n",
    "X_save = np.memmap('/data/bioprotean/ABA/MEMMAP/genes_list/finalgenes_T.mymemmap',\\\n",
    "dtype='float32', mode='w+', shape=(159326,2941))\n",
    "\n",
    "X_save[:,:] = X[:,:]"
   ]
  },
  {
   "cell_type": "code",
   "execution_count": 6,
   "metadata": {},
   "outputs": [],
   "source": [
    "# Including -1s, and scaling the values\n",
    "X_std = StandardScaler().fit_transform(X)\n",
    "\n",
    "X_save = np.memmap('/data/bioprotean/ABA/MEMMAP/genes_list/finalgenes_std.mymemmap',\\\n",
    "dtype='float32', mode='w+', shape=(159326,2941))\n",
    "\n",
    "X_save[:,:] = X_std[:,:]"
   ]
  },
  {
   "cell_type": "code",
   "execution_count": 7,
   "metadata": {},
   "outputs": [],
   "source": [
    "# Including -1s, L2 normalizing\n",
    "X_norm = normalize(X, norm='l2', axis=1, copy=True)\n",
    "\n",
    "X_save = np.memmap('/data/bioprotean/ABA/MEMMAP/genes_list/finalgenes_L2.mymemmap',\\\n",
    "dtype='float32', mode='w+', shape=(159326,2941))\n",
    "\n",
    "X_save[:,:] = X_norm[:,:]"
   ]
  },
  {
   "cell_type": "code",
   "execution_count": 8,
   "metadata": {},
   "outputs": [],
   "source": [
    "# Chaning all negative values to 0\n",
    "X_pos = np.where(X < 0, 0, X)"
   ]
  },
  {
   "cell_type": "code",
   "execution_count": 9,
   "metadata": {},
   "outputs": [],
   "source": [
    "# No -1s, and scaling the values\n",
    "X_std = StandardScaler().fit_transform(X_pos)\n",
    "\n",
    "X_save = np.memmap('/data/bioprotean/ABA/MEMMAP/genes_list/finalgenes_pos_std.mymemmap',\\\n",
    "dtype='float32', mode='w+', shape=(159326,2941))\n",
    "\n",
    "X_save[:,:] = X_std[:,:]"
   ]
  },
  {
   "cell_type": "code",
   "execution_count": 10,
   "metadata": {},
   "outputs": [],
   "source": [
    "# No -1s, L2 normalizing\n",
    "X_norm = normalize(X_pos, norm='l2', axis=1, copy=True)\n",
    "\n",
    "X_save = np.memmap('/data/bioprotean/ABA/MEMMAP/genes_list/finalgenes_pos_L2.mymemmap',\\\n",
    "dtype='float32', mode='w+', shape=(159326,2941))\n",
    "\n",
    "X_save[:,:] = X_norm[:,:]"
   ]
  },
  {
   "cell_type": "code",
   "execution_count": null,
   "metadata": {},
   "outputs": [],
   "source": []
  }
 ],
 "metadata": {
  "kernelspec": {
   "display_name": "Py3-basic",
   "language": "python",
   "name": "python3"
  },
  "language_info": {
   "codemirror_mode": {
    "name": "ipython",
    "version": 3
   },
   "file_extension": ".py",
   "mimetype": "text/x-python",
   "name": "python",
   "nbconvert_exporter": "python",
   "pygments_lexer": "ipython3",
   "version": "3.7.2"
  }
 },
 "nbformat": 4,
 "nbformat_minor": 2
}
