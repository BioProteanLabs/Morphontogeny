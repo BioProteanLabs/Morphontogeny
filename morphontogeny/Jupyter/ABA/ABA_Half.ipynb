{
 "cells": [
  {
   "cell_type": "markdown",
   "metadata": {},
   "source": [
    "# Halving the ABA"
   ]
  },
  {
   "cell_type": "code",
   "execution_count": 39,
   "metadata": {},
   "outputs": [],
   "source": [
    "import numpy as np\n",
    "import matplotlib.pyplot as plt\n",
    "from sklearn.preprocessing import normalize\n",
    "from sklearn.preprocessing import StandardScaler\n",
    "%matplotlib inline\n",
    "%run nifti_tools.ipynb"
   ]
  },
  {
   "cell_type": "code",
   "execution_count": 3,
   "metadata": {},
   "outputs": [],
   "source": [
    "# Checking the dimensions in clusters\n",
    "clusters = np.load('/data/bioprotean/ABA/PCA/80_variance/Kmeans_labels/100_clusters.npy')"
   ]
  },
  {
   "cell_type": "code",
   "execution_count": 7,
   "metadata": {},
   "outputs": [
    {
     "data": {
      "text/plain": [
       "<matplotlib.image.AxesImage at 0x2ac69a52d400>"
      ]
     },
     "execution_count": 7,
     "metadata": {},
     "output_type": "execute_result"
    },
    {
     "data": {
      "image/png": "[encoded data removed]",
      "text/plain": [
       "<Figure size 432x288 with 1 Axes>"
      ]
     },
     "metadata": {
      "needs_background": "light"
     },
     "output_type": "display_data"
    }
   ],
   "source": [
    "component = clusters[:,15,:]\n",
    "plt.imshow(component)"
   ]
  },
  {
   "cell_type": "markdown",
   "metadata": {},
   "source": [
    "# 58 / 2 = 29 kept from second dimension!"
   ]
  },
  {
   "cell_type": "code",
   "execution_count": 9,
   "metadata": {},
   "outputs": [],
   "source": [
    "# Loading the full matrix\n",
    "full_genes = np.memmap('/data/bioprotean/ABA/MEMMAP/genes_list/finalgenes_T.mymemmap',\\\n",
    "dtype='float32', mode='r', shape=(159326,2941))"
   ]
  },
  {
   "cell_type": "code",
   "execution_count": 11,
   "metadata": {},
   "outputs": [],
   "source": [
    "# Loading the Neuroanatomy\n",
    "anat_path = '/data/bioprotean/ABA/PCA/80_variance/allen_annot200.nii'\n",
    "anat_vec = nifti_to_vector(anat_path)"
   ]
  },
  {
   "cell_type": "code",
   "execution_count": 13,
   "metadata": {},
   "outputs": [],
   "source": [
    "# 3Dizing the Neuroanatomy\n",
    "anat_3D = anat_vec.reshape(67,58,41)"
   ]
  },
  {
   "cell_type": "code",
   "execution_count": 17,
   "metadata": {},
   "outputs": [],
   "source": [
    "# Halving by Neuroanatomy\n",
    "anat_half = np.zeros_like(anat_3D)\n",
    "anat_half[:,:29,:] = anat_3D[:,:29,:]"
   ]
  },
  {
   "cell_type": "code",
   "execution_count": 29,
   "metadata": {},
   "outputs": [],
   "source": [
    "# Vectorized\n",
    "anat_half_vec = anat_half.flatten()"
   ]
  },
  {
   "cell_type": "code",
   "execution_count": 30,
   "metadata": {},
   "outputs": [],
   "source": [
    "# Getting indices of non-zero values\n",
    "half_indices = np.nonzero(anat_half_vec)\n",
    "anat_half_masked = anat_half_vec[half_indices]"
   ]
  },
  {
   "cell_type": "code",
   "execution_count": 31,
   "metadata": {},
   "outputs": [],
   "source": [
    "# Saving indices to file\n",
    "np.save('/data/bioprotean/ABA/MEMMAP/genes_list/half_indices.npy', half_indices)"
   ]
  },
  {
   "cell_type": "code",
   "execution_count": 34,
   "metadata": {},
   "outputs": [],
   "source": [
    "# Making a new array to save\n",
    "save_arr = np.zeros((31512,2941))"
   ]
  },
  {
   "cell_type": "code",
   "execution_count": 35,
   "metadata": {},
   "outputs": [],
   "source": [
    "for i in range(2941):\n",
    "    save_arr[:,i] = full_genes[half_indices,i]"
   ]
  },
  {
   "cell_type": "code",
   "execution_count": 37,
   "metadata": {},
   "outputs": [],
   "source": [
    "# Saving the half and masked genes to file\n",
    "np.save('/data/bioprotean/ABA/MEMMAP/genes_list/genes_half_masked.npy', save_arr)"
   ]
  },
  {
   "cell_type": "code",
   "execution_count": 38,
   "metadata": {},
   "outputs": [],
   "source": [
    "# Keeping positive values\n",
    "half_mask_pos = np.where(save_arr < 0, 0, save_arr)"
   ]
  },
  {
   "cell_type": "code",
   "execution_count": 40,
   "metadata": {},
   "outputs": [],
   "source": [
    "# Standardizing the matrix\n",
    "half_mask_pos_std = StandardScaler().fit_transform(half_mask_pos)\n",
    "\n",
    "np.save('/data/bioprotean/ABA/MEMMAP/genes_list/genes_half_mask_pos_std.npy',\\\n",
    "half_mask_pos_std)"
   ]
  },
  {
   "cell_type": "code",
   "execution_count": 41,
   "metadata": {},
   "outputs": [],
   "source": [
    "# L2 normalizing the matrix\n",
    "x_norm = normalize(half_mask_pos, norm='l2', axis=1, copy=True)\n",
    "\n",
    "np.save('/data/bioprotean/ABA/MEMMAP/genes_list/genes_half_mask_pos_L2.npy',\\\n",
    "x_norm)"
   ]
  },
  {
   "cell_type": "code",
   "execution_count": 42,
   "metadata": {},
   "outputs": [
    {
     "data": {
      "text/plain": [
       "(31512, 2941)"
      ]
     },
     "execution_count": 42,
     "metadata": {},
     "output_type": "execute_result"
    }
   ],
   "source": [
    "x_norm.shape"
   ]
  },
  {
   "cell_type": "code",
   "execution_count": null,
   "metadata": {},
   "outputs": [],
   "source": [
    "def reconstruct_half_ABA (vector, array_3D = False):\n",
    "    '''\n",
    "    This function reconstructs the masked and halved\n",
    "    vector to the original shape (159326,).\n",
    "    \n",
    "    Args:\n",
    "        vector: vec\n",
    "            The masked vector\n",
    "        array: bool, default = False\n",
    "            if True, an array of size (67,58,41) is returned.\n",
    "    \n",
    "    Returns:\n",
    "        output: array\n",
    "            output vector/array\n",
    "    '''\n",
    "    \n",
    "    # Loading the indices from file\n",
    "    indices = np.load('/data/bioprotean/ABA/MEMMAP/genes_list/half_indices.npy')\n",
    "    \n",
    "    # Reconstructing the array\n",
    "    output = np.zeros(159326,)\n",
    "    output[indices] = vector\n",
    "    \n",
    "    # If 3D array is favored\n",
    "    if array_3D == True:\n",
    "        output = output.reshape(67,58,41)\n",
    "    \n",
    "    return output"
   ]
  }
 ],
 "metadata": {
  "kernelspec": {
   "display_name": "Py3-basic",
   "language": "python",
   "name": "python3"
  },
  "language_info": {
   "codemirror_mode": {
    "name": "ipython",
    "version": 3
   },
   "file_extension": ".py",
   "mimetype": "text/x-python",
   "name": "python",
   "nbconvert_exporter": "python",
   "pygments_lexer": "ipython3",
   "version": "3.7.2"
  }
 },
 "nbformat": 4,
 "nbformat_minor": 2
}
