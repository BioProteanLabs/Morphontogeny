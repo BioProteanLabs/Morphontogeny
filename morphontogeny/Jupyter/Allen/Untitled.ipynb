{
 "cells": [
  {
   "cell_type": "markdown",
   "metadata": {},
   "source": [
    "This is to test regional correlations"
   ]
  },
  {
   "cell_type": "code",
   "execution_count": 1,
   "metadata": {},
   "outputs": [
    {
     "name": "stdout",
     "output_type": "stream",
     "text": [
      "0\n"
     ]
    },
    {
     "name": "stderr",
     "output_type": "stream",
     "text": [
      "/packages/7x/anaconda3/5.3.0/lib/python3.7/site-packages/scipy/stats/stats.py:3033: RuntimeWarning: Mean of empty slice.\n",
      "  mx = x.mean()\n",
      "/packages/7x/anaconda3/5.3.0/lib/python3.7/site-packages/numpy/core/_methods.py:85: RuntimeWarning: invalid value encountered in double_scalars\n",
      "  ret = ret.dtype.type(ret / rcount)\n",
      "/packages/7x/anaconda3/5.3.0/lib/python3.7/site-packages/scipy/stats/stats.py:3034: RuntimeWarning: Mean of empty slice.\n",
      "  my = y.mean()\n",
      "/packages/7x/anaconda3/5.3.0/lib/python3.7/site-packages/scipy/stats/stats.py:3038: RuntimeWarning: invalid value encountered in double_scalars\n",
      "  r = r_num / r_den\n"
     ]
    },
    {
     "name": "stdout",
     "output_type": "stream",
     "text": [
      "500\n",
      "1000\n",
      "1500\n",
      "2000\n",
      "2500\n",
      "3000\n",
      "3500\n",
      "4000\n",
      "4500\n",
      "5000\n",
      "5500\n",
      "6000\n",
      "6500\n",
      "7000\n",
      "7500\n",
      "8000\n",
      "8500\n",
      "9500\n",
      "10000\n",
      "10500\n",
      "11000\n",
      "11500\n",
      "12000\n",
      "12500\n",
      "13000\n",
      "13500\n",
      "14000\n",
      "14500\n",
      "15000\n",
      "15500\n",
      "16000\n",
      "16500\n",
      "17000\n",
      "17500\n",
      "18000\n",
      "18500\n",
      "19000\n",
      "19500\n",
      "20000\n",
      "20500\n",
      "21000\n",
      "21500\n",
      "22000\n",
      "22500\n",
      "23000\n",
      "23500\n",
      "24000\n",
      "24500\n",
      "25000\n",
      "25500\n"
     ]
    }
   ],
   "source": [
    "import numpy as np\n",
    "import pandas as pd\n",
    "from scipy import stats\n",
    "\n",
    "# Defining the function to mask the ISH or Jacobian by the region\n",
    "def mask_annotation (loader,j):\n",
    "    loader [loader!=j] = np.nan\n",
    "    loader [loader==j] = 1\n",
    "    return loader\n",
    "\n",
    "# Loading the table of gene ids, to use for opening the ISH files.\n",
    "load_list = pd.read_csv('/home/mabbasi6/morphometry/correlation/list_genes.csv')\n",
    "\n",
    "# Loading the flattened Jacobian\n",
    "load_jac = np.loadtxt('/home/mabbasi6/morphometry/correlation/flatten/ttest.csv', delimiter=',')\n",
    "\n",
    "# Loading the annotations\n",
    "load_ant = np.genfromtxt('/home/mabbasi6/morphometry/correlation/ant_200.csv', delimiter=',').flatten()\n",
    "\n",
    "# Saving the array of Pearson Correlation Coefficient and the P-value\n",
    "output = pd.DataFrame(columns=['pearson','pear_p'])\n",
    "\n",
    "# Looping the genes\n",
    "for i in range (len(load_list['data_set_id'])):\n",
    "    \n",
    "    if i%500==0:\n",
    "        print(i)\n",
    "    \n",
    "    # Loading the ISH file and flattening it (1D array)\n",
    "    load_ish = np.genfromtxt('/home/mabbasi6/morphometry/correlation/data/'+str(load_list['data_set_id'][i])+'.csv', \\\n",
    "                             delimiter=',', skip_header=1, usecols=range(1,2379)).flatten()\n",
    "        \n",
    "    # Masking a mask from annotation\n",
    "    masked_jac = np.multiply (mask_annotation (load_ant,334), load_jac)\n",
    "    masked_ish = np.multiply (mask_annotation (load_ant,334), load_ish)\n",
    "    \n",
    "    # Making pandas Dataframe to store masked jacobian and ISH\n",
    "    inp1 = pd.DataFrame(masked_ish, columns=['ISH'])\n",
    "    inp2 = pd.DataFrame(masked_jac, columns=['JAC'])\n",
    "    df = pd.concat ([inp1,inp2], axis=1).dropna()\n",
    "    \n",
    "    # Testing the correlation of ISH and JAC columns and adding to the output dataframe\n",
    "    output.loc[len(output)] = stats.pearsonr (df['ISH'],df['JAC'])\n",
    "    \n",
    "output.to_csv('/home/mabbasi6/morphometry/correlation/corr_334.csv')"
   ]
  },
  {
   "cell_type": "code",
   "execution_count": 16,
   "metadata": {},
   "outputs": [
    {
     "name": "stdout",
     "output_type": "stream",
     "text": [
      "(nan, nan)\n"
     ]
    },
    {
     "name": "stderr",
     "output_type": "stream",
     "text": [
      "/packages/7x/anaconda3/5.3.0/lib/python3.7/site-packages/scipy/stats/stats.py:3033: RuntimeWarning: Mean of empty slice.\n",
      "  mx = x.mean()\n",
      "/packages/7x/anaconda3/5.3.0/lib/python3.7/site-packages/numpy/core/_methods.py:85: RuntimeWarning: invalid value encountered in double_scalars\n",
      "  ret = ret.dtype.type(ret / rcount)\n",
      "/packages/7x/anaconda3/5.3.0/lib/python3.7/site-packages/scipy/stats/stats.py:3034: RuntimeWarning: Mean of empty slice.\n",
      "  my = y.mean()\n",
      "/packages/7x/anaconda3/5.3.0/lib/python3.7/site-packages/scipy/stats/stats.py:3038: RuntimeWarning: invalid value encountered in double_scalars\n",
      "  r = r_num / r_den\n"
     ]
    }
   ],
   "source": [
    "import numpy as np\n",
    "import pandas as pd\n",
    "from scipy import stats\n",
    "\n",
    "def mask_annotation (loader,j):\n",
    "    loader [loader!=j] = np.nan\n",
    "    loader [loader==j] = 1\n",
    "    return loader\n",
    "\n",
    "# Loading the table of gene ids, to use for opening the ISH files.\n",
    "load_list = pd.read_csv('/home/mabbasi6/morphometry/correlation/list_genes.csv')\n",
    "\n",
    "# Loading the flattened Jacobian\n",
    "load_jac = np.loadtxt('/home/mabbasi6/morphometry/correlation/flatten/ttest.csv', delimiter=',')\n",
    "\n",
    "# Loading the annotations\n",
    "load_ant = np.genfromtxt('/home/mabbasi6/morphometry/correlation/ant_200.csv', delimiter=',').flatten()\n",
    "\n",
    "# Loading the ISH file and flattening it (1D array)\n",
    "load_ish = np.genfromtxt('/home/mabbasi6/morphometry/correlation/data/182.csv', delimiter=',', skip_header=1, usecols=range(1,2379)).flatten()\n",
    "\n",
    "masked_jac = np.multiply (mask_annotation (load_ant,334), load_jac)\n",
    "masked_ish = np.multiply (mask_annotation (load_ant,334), load_ish)\n",
    "\n",
    "np.savetxt('/home/mabbasi6/morphometry/correlation/foo.csv',masked_jac)\n",
    "\n",
    "# Saving the array of Pearson Correlation Coefficient and the P-value\n",
    "output = pd.DataFrame(columns=['pearson','pear_p'])\n",
    "\n",
    "# for j in range (300):\n",
    "#     mask = mask_annotation (load_ant,j)\n",
    "    \n",
    "#     masked_jac = np.multiply (mask, load_jac)\n",
    "#     masked_ish = np.multiply (mask, load_ish)\n",
    "    \n",
    "inp1 = pd.DataFrame(masked_ish, columns=['ISH'])\n",
    "inp2 = pd.DataFrame(masked_jac, columns=['JAC'])\n",
    "df = pd.concat ([inp1,inp2], axis=1).dropna()\n",
    "\n",
    "#df.to_csv('/home/mabbasi6/morphometry/correlation/foo.csv')\n",
    "    \n",
    "print(stats.pearsonr (df['ISH'],df['JAC']))"
   ]
  },
  {
   "cell_type": "code",
   "execution_count": null,
   "metadata": {},
   "outputs": [],
   "source": []
  }
 ],
 "metadata": {
  "kernelspec": {
   "display_name": "Py3-basic",
   "language": "python",
   "name": "python3"
  },
  "language_info": {
   "codemirror_mode": {
    "name": "ipython",
    "version": 3
   },
   "file_extension": ".py",
   "mimetype": "text/x-python",
   "name": "python",
   "nbconvert_exporter": "python",
   "pygments_lexer": "ipython3",
   "version": "3.7.2"
  }
 },
 "nbformat": 4,
 "nbformat_minor": 2
}
