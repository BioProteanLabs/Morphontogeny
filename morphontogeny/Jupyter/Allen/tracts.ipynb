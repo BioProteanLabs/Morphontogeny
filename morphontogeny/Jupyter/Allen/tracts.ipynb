{
 "cells": [
  {
   "cell_type": "markdown",
   "metadata": {},
   "source": [
    "This is to mask the annotation by the regions of fiber tracts.\n",
    "All fiber tracts will have an id of 999999."
   ]
  },
  {
   "cell_type": "code",
   "execution_count": 1,
   "metadata": {},
   "outputs": [],
   "source": [
    "import numpy as np\n",
    "import pandas as pd\n",
    "from scipy import stats\n",
    "\n",
    "# Loading the annotation\n",
    "load_ant = np.genfromtxt('/home/mabbasi6/morphometry/correlation/jac/100_threshold/annotation_100.csv', delimiter=',').flatten()\n",
    "\n",
    "# Loading the tracts IDs\n",
    "load_id = pd.read_csv('/home/mabbasi6/morphometry/correlation/tracts/tracts.csv', delimiter=',')\n",
    "\n",
    "# Making an array of zeros\n",
    "ant_cp = np.zeros(len(load_ant))\n",
    "\n",
    "for i in range (len(load_ant)):\n",
    "    for j in range (len(load_id['ant_id'])):\n",
    "        if load_ant[i]==load_id['ant_id'][j]:\n",
    "            ant_cp[i]=999999\n",
    "\n",
    "np.savetxt('/home/mabbasi6/morphometry/correlation/tracts/annot_tracts.csv', ant_cp, delimiter=',')"
   ]
  },
  {
   "cell_type": "markdown",
   "metadata": {},
   "source": [
    "This is to test the ratio of voxels with the Jacobian."
   ]
  },
  {
   "cell_type": "code",
   "execution_count": 2,
   "metadata": {},
   "outputs": [
    {
     "name": "stdout",
     "output_type": "stream",
     "text": [
      "ratio of positive jacobian:  0.130981870793783\n",
      "ratio of negative jacobian:  0.22013722954161827\n"
     ]
    }
   ],
   "source": [
    "import numpy as np\n",
    "import pandas as pd\n",
    "from scipy import stats\n",
    "\n",
    "# Loading the Jacobian\n",
    "load_jac_pos = np.genfromtxt('/home/mabbasi6/morphometry/correlation/jac/100_threshold/jac_tm_100pos_mask.csv', delimiter=',').flatten()\n",
    "load_jac_neg = np.genfromtxt('/home/mabbasi6/morphometry/correlation/jac/100_threshold/jac_tm_100neg_mask.csv', delimiter=',').flatten()\n",
    "\n",
    "# Loading the annotations\n",
    "load_ant = np.genfromtxt('/home/mabbasi6/morphometry/correlation/tracts/annot_tracts.csv', delimiter=',')\n",
    "\n",
    "# Making an array of zeros\n",
    "ant_cp = np.zeros(len(load_ant))\n",
    "\n",
    "# Masking the annotation\n",
    "for j in range (len(load_ant)):\n",
    "    if load_ant[j]==999999:\n",
    "        ant_cp[j]=1.0\n",
    "\n",
    "# Defining the numerators of the ratios\n",
    "jac_pos_count = np.multiply(ant_cp,load_jac_pos)\n",
    "jac_neg_count = np.multiply(ant_cp,load_jac_neg)\n",
    "\n",
    "# Defining the ratio of voxels\n",
    "print('ratio of positive jacobian: ', np.sum(jac_pos_count)/np.sum(ant_cp))\n",
    "print('ratio of negative jacobian: ', np.sum(jac_neg_count)/np.sum(ant_cp))"
   ]
  },
  {
   "cell_type": "code",
   "execution_count": null,
   "metadata": {},
   "outputs": [],
   "source": []
  }
 ],
 "metadata": {
  "kernelspec": {
   "display_name": "Py3-basic",
   "language": "python",
   "name": "python3"
  },
  "language_info": {
   "codemirror_mode": {
    "name": "ipython",
    "version": 3
   },
   "file_extension": ".py",
   "mimetype": "text/x-python",
   "name": "python",
   "nbconvert_exporter": "python",
   "pygments_lexer": "ipython3",
   "version": "3.7.2"
  }
 },
 "nbformat": 4,
 "nbformat_minor": 2
}
