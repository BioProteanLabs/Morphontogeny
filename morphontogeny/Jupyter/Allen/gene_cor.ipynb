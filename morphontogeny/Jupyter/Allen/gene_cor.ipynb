{
 "cells": [
  {
   "cell_type": "markdown",
   "metadata": {},
   "source": [
    "This is to test correlation of 2 genes"
   ]
  },
  {
   "cell_type": "code",
   "execution_count": 21,
   "metadata": {},
   "outputs": [
    {
     "name": "stdout",
     "output_type": "stream",
     "text": [
      "(0.6513875951394675, 0.0)\n",
      "SpearmanrResult(correlation=0.6774713949037852, pvalue=0.0)\n",
      "KendalltauResult(correlation=0.505612531160053, pvalue=0.0)\n"
     ]
    }
   ],
   "source": [
    "import numpy as np\n",
    "import pandas as pd\n",
    "from scipy import stats\n",
    "\n",
    "# Loading both genes\n",
    "load_ish1 = np.genfromtxt('/home/mabbasi6/morphometry/correlation/data/3.csv', \\\n",
    "                             delimiter=',', skip_header=1, usecols=range(1,2379)).flatten()\n",
    "load_ish2 = np.genfromtxt('/home/mabbasi6/morphometry/correlation/data/182.csv', \\\n",
    "                             delimiter=',', skip_header=1, usecols=range(1,2379)).flatten()\n",
    "    \n",
    "# Replacing -1 values with NaN in order to avoid miscalculations in correlation analysis\n",
    "load_ish1 [load_ish1 < 0] = np.nan\n",
    "load_ish2 [load_ish2 < 0] = np.nan\n",
    "\n",
    "# Making pandas Dataframe\n",
    "inp1 = pd.DataFrame(load_ish1, columns=['ISH1'])\n",
    "inp2 = pd.DataFrame(load_ish2, columns=['ISH2'])\n",
    "df = pd.concat ([inp1,inp2], axis=1).dropna()\n",
    "    \n",
    "print(stats.pearsonr(df['ISH1'],df['ISH2']))\n",
    "print(stats.spearmanr(df['ISH1'],df['ISH2']))\n",
    "print(stats.kendalltau(df['ISH1'],df['ISH2']))"
   ]
  },
  {
   "cell_type": "code",
   "execution_count": null,
   "metadata": {},
   "outputs": [],
   "source": []
  }
 ],
 "metadata": {
  "kernelspec": {
   "display_name": "Py3-basic",
   "language": "python",
   "name": "python3"
  },
  "language_info": {
   "codemirror_mode": {
    "name": "ipython",
    "version": 3
   },
   "file_extension": ".py",
   "mimetype": "text/x-python",
   "name": "python",
   "nbconvert_exporter": "python",
   "pygments_lexer": "ipython3",
   "version": "3.7.2"
  }
 },
 "nbformat": 4,
 "nbformat_minor": 2
}
