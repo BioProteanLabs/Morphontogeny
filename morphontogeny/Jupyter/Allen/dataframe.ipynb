{
 "cells": [
  {
   "cell_type": "markdown",
   "metadata": {},
   "source": [
    "This is to make Pandas dataframes."
   ]
  },
  {
   "cell_type": "code",
   "execution_count": 59,
   "metadata": {},
   "outputs": [
    {
     "data": {
      "text/plain": [
       "(-0.12926310381029568, 9.4e-323)"
      ]
     },
     "execution_count": 59,
     "metadata": {},
     "output_type": "execute_result"
    }
   ],
   "source": [
    "import pandas as pd\n",
    "import numpy as np\n",
    "from scipy import stats\n",
    "\n",
    "d = pd.read_csv('/home/mabbasi6/morphometry/correlation/flatten/3.csv', names=['Gene'])\n",
    "e = pd.read_csv('/home/mabbasi6/morphometry/correlation/flatten/ttest_3.csv', names=['Warp'])\n",
    "c = pd.concat ([d,e], axis=1)\n",
    "#for i in range (len(d)):\n",
    "#    if d.iloc[i].isna() and e.iloc[i].isna():\n",
    "#        print ('YES')\n",
    "#print (c)\n",
    "#print (c.corr(method='pearson'))\n",
    "nona = c.dropna()\n",
    "#print (nona['Gene'])\n",
    "stats.pearsonr (nona['Gene'],nona['Warp'])"
   ]
  },
  {
   "cell_type": "code",
   "execution_count": 30,
   "metadata": {},
   "outputs": [
    {
     "name": "stdout",
     "output_type": "stream",
     "text": [
      "nan\n"
     ]
    }
   ],
   "source": [
    "import numpy\n",
    "\n",
    "d = numpy.nan\n",
    "print(d)"
   ]
  },
  {
   "cell_type": "code",
   "execution_count": null,
   "metadata": {},
   "outputs": [],
   "source": []
  }
 ],
 "metadata": {
  "kernelspec": {
   "display_name": "Py3-basic",
   "language": "python",
   "name": "python3"
  },
  "language_info": {
   "codemirror_mode": {
    "name": "ipython",
    "version": 3
   },
   "file_extension": ".py",
   "mimetype": "text/x-python",
   "name": "python",
   "nbconvert_exporter": "python",
   "pygments_lexer": "ipython3",
   "version": "3.7.2"
  }
 },
 "nbformat": 4,
 "nbformat_minor": 2
}
