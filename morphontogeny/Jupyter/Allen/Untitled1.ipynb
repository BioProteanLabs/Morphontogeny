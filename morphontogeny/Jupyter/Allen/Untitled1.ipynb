{
 "cells": [
  {
   "cell_type": "markdown",
   "metadata": {},
   "source": [
    "This is to calculate the Predictive Power Score (pps) as a non-linear correlation measure.\n",
    "The library is installed on momo conda environment."
   ]
  },
  {
   "cell_type": "code",
   "execution_count": 14,
   "metadata": {},
   "outputs": [],
   "source": [
    "!source activate momo"
   ]
  },
  {
   "cell_type": "code",
   "execution_count": 16,
   "metadata": {},
   "outputs": [
    {
     "ename": "ModuleNotFoundError",
     "evalue": "No module named 'ppscore'",
     "output_type": "error",
     "traceback": [
      "\u001b[0;31m---------------------------------------------------------------------------\u001b[0m",
      "\u001b[0;31mModuleNotFoundError\u001b[0m                       Traceback (most recent call last)",
      "\u001b[0;32m<ipython-input-16-c2631ca58090>\u001b[0m in \u001b[0;36m<module>\u001b[0;34m()\u001b[0m\n\u001b[0;32m----> 1\u001b[0;31m \u001b[0;32mimport\u001b[0m \u001b[0mppscore\u001b[0m\u001b[0;34m\u001b[0m\u001b[0;34m\u001b[0m\u001b[0m\n\u001b[0m",
      "\u001b[0;31mModuleNotFoundError\u001b[0m: No module named 'ppscore'"
     ]
    }
   ],
   "source": [
    "import ppscore"
   ]
  },
  {
   "cell_type": "code",
   "execution_count": 2,
   "metadata": {},
   "outputs": [
    {
     "data": {
      "text/plain": [
       "['',\n",
       " '/home/mabbasi6/Jupyter/Allen',\n",
       " '/packages/7x/anaconda3/5.3.0/lib/python37.zip',\n",
       " '/packages/7x/anaconda3/5.3.0/lib/python3.7',\n",
       " '/packages/7x/anaconda3/5.3.0/lib/python3.7/lib-dynload',\n",
       " '/home/mabbasi6/.local/lib/python3.7/site-packages',\n",
       " '/packages/7x/anaconda3/5.3.0/lib/python3.7/site-packages',\n",
       " '/packages/7x/anaconda3/5.3.0/lib/python3.7/site-packages/clusterutils-0.3.1-py3.7.egg',\n",
       " '/packages/7x/build/batchspawner/0.9.0dev0/batchspawner',\n",
       " '/packages/7x/anaconda3/5.3.0/lib/python3.7/site-packages/AeoLiS-1.1.5-py3.7.egg',\n",
       " '/packages/7x/anaconda3/5.3.0/lib/python3.7/site-packages/bmi_python-0.2.7-py3.7.egg',\n",
       " '/packages/7x/anaconda3/5.3.0/lib/python3.7/site-packages/docopt-0.6.1-py3.7.egg',\n",
       " '/packages/7x/anaconda3/5.3.0/lib/python3.7/site-packages/docopts-0.6.1-py3.7.egg',\n",
       " '/packages/7x/anaconda3/5.3.0/lib/python3.7/site-packages/cutadapt-2.3-py3.7-linux-x86_64.egg',\n",
       " '/packages/7x/anaconda3/5.3.0/lib/python3.7/site-packages/xopen-0.5.1-py3.7.egg',\n",
       " '/packages/7x/anaconda3/5.3.0/lib/python3.7/site-packages/dnaio-0.3-py3.7-linux-x86_64.egg',\n",
       " '/packages/7x/anaconda3/5.3.0/lib/python3.7/site-packages/h5py-2.9.0-py3.7-linux-x86_64.egg',\n",
       " '/packages/7x/anaconda3/5.3.0/lib/python3.7/site-packages/eggnogmapper-1.0-py3.7.egg',\n",
       " '/packages/7x/anaconda3/5.3.0/lib/python3.7/site-packages/Mesa-0.8.6-py3.7.egg',\n",
       " '/packages/7x/anaconda3/5.3.0/lib/python3.7/site-packages/pyradiosky-0.0-py3.7.egg',\n",
       " '/packages/7x/anaconda3/5.3.0/lib/python3.7/site-packages/astropy-4.0-py3.7-linux-x86_64.egg',\n",
       " '/packages/7x/anaconda3/5.3.0/lib/python3.7/site-packages/MAnorm2_utils-1.0.0-py3.7.egg',\n",
       " '/packages/7x/anaconda3/5.3.0/lib/python3.7/site-packages/websockify-0.9.0-py3.7.egg',\n",
       " '/packages/7x/anaconda3/5.3.0/lib/python3.7/site-packages/IPython/extensions',\n",
       " '/home/mabbasi6/.ipython']"
      ]
     },
     "execution_count": 2,
     "metadata": {},
     "output_type": "execute_result"
    }
   ],
   "source": [
    "import sys\n",
    "sys.path"
   ]
  },
  {
   "cell_type": "code",
   "execution_count": 3,
   "metadata": {},
   "outputs": [
    {
     "data": {
      "text/plain": [
       "'/packages/7x/anaconda3/5.3.0/bin/python'"
      ]
     },
     "execution_count": 3,
     "metadata": {},
     "output_type": "execute_result"
    }
   ],
   "source": [
    "sys.executable"
   ]
  },
  {
   "cell_type": "code",
   "execution_count": 4,
   "metadata": {},
   "outputs": [],
   "source": [
    "sys.path.append(\"/home/mabbasi6/.conda/envs/momo\")"
   ]
  },
  {
   "cell_type": "code",
   "execution_count": 13,
   "metadata": {},
   "outputs": [
    {
     "name": "stdout",
     "output_type": "stream",
     "text": [
      "Available kernels:\n",
      "  momo               /home/mabbasi6/.local/share/jupyter/kernels/momo\n",
      "  atomate            /packages/7x/anaconda3/5.3.0/share/jupyter/kernels/atomate\n",
      "  deepneuro          /packages/7x/anaconda3/5.3.0/share/jupyter/kernels/deepneuro\n",
      "  keras              /packages/7x/anaconda3/5.3.0/share/jupyter/kernels/keras\n",
      "  keras-gpu          /packages/7x/anaconda3/5.3.0/share/jupyter/kernels/keras-gpu\n",
      "  liligelab          /packages/7x/anaconda3/5.3.0/share/jupyter/kernels/liligelab\n",
      "  neuron-7.7.2       /packages/7x/anaconda3/5.3.0/share/jupyter/kernels/neuron-7.7.2\n",
      "  pycoqc-2.5.0.23    /packages/7x/anaconda3/5.3.0/share/jupyter/kernels/pycoqc-2.5.0.23\n",
      "  pyintel            /packages/7x/anaconda3/5.3.0/share/jupyter/kernels/pyintel\n",
      "  python3            /packages/7x/anaconda3/5.3.0/share/jupyter/kernels/python3\n",
      "  pytorch            /packages/7x/anaconda3/5.3.0/share/jupyter/kernels/pytorch\n",
      "  pytorch-gpu        /packages/7x/anaconda3/5.3.0/share/jupyter/kernels/pytorch-gpu\n",
      "  rapids             /packages/7x/anaconda3/5.3.0/share/jupyter/kernels/rapids\n",
      "  rapids-0.14.0      /packages/7x/anaconda3/5.3.0/share/jupyter/kernels/rapids-0.14.0\n",
      "  rapids-0.15.0      /packages/7x/anaconda3/5.3.0/share/jupyter/kernels/rapids-0.15.0\n",
      "  smcpp              /packages/7x/anaconda3/5.3.0/share/jupyter/kernels/smcpp\n",
      "  tf1.12             /packages/7x/anaconda3/5.3.0/share/jupyter/kernels/tf1.12\n",
      "  tf1.12-gpu         /packages/7x/anaconda3/5.3.0/share/jupyter/kernels/tf1.12-gpu\n",
      "  tf1.13             /packages/7x/anaconda3/5.3.0/share/jupyter/kernels/tf1.13\n",
      "  tf1.13-gpu         /packages/7x/anaconda3/5.3.0/share/jupyter/kernels/tf1.13-gpu\n",
      "  tf2.0-gpu          /packages/7x/anaconda3/5.3.0/share/jupyter/kernels/tf2.0-gpu\n"
     ]
    }
   ],
   "source": [
    "!jupyter kernelspec list"
   ]
  },
  {
   "cell_type": "code",
   "execution_count": null,
   "metadata": {},
   "outputs": [],
   "source": []
  }
 ],
 "metadata": {
  "kernelspec": {
   "display_name": "Py3-basic",
   "language": "python",
   "name": "python3"
  },
  "language_info": {
   "codemirror_mode": {
    "name": "ipython",
    "version": 3
   },
   "file_extension": ".py",
   "mimetype": "text/x-python",
   "name": "python",
   "nbconvert_exporter": "python",
   "pygments_lexer": "ipython3",
   "version": "3.7.2"
  }
 },
 "nbformat": 4,
 "nbformat_minor": 2
}
