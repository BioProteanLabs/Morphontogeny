{
 "cells": [
  {
   "cell_type": "markdown",
   "metadata": {},
   "source": [
    "This is to test correlation of different brain regions with positive and negative jacobian data (as masks)."
   ]
  },
  {
   "cell_type": "code",
   "execution_count": 14,
   "metadata": {},
   "outputs": [
    {
     "name": "stderr",
     "output_type": "stream",
     "text": [
      "/packages/7x/anaconda3/5.3.0/lib/python3.7/site-packages/scipy/stats/stats.py:3038: RuntimeWarning: invalid value encountered in double_scalars\n",
      "  r = r_num / r_den\n"
     ]
    }
   ],
   "source": [
    "import numpy as np\n",
    "import pandas as pd\n",
    "from scipy import stats\n",
    "\n",
    "# def mask (loader,j):\n",
    "#     loader [loader==j] = 1.0\n",
    "#     loader [loader!=j] = 0.0\n",
    "#     return loader\n",
    "\n",
    "def mask (input,j):\n",
    "    loader = input[:]\n",
    "    for i in range (len(loader)):\n",
    "        if loader[i]==j:\n",
    "            loader[i]=1.0\n",
    "        else:\n",
    "            loader[i]=0.0\n",
    "    return loader\n",
    "\n",
    "# Loading the Jacobian\n",
    "load_jac = np.genfromtxt('/home/mabbasi6/morphometry/correlation/jac/csv/jac_pos_mask.csv', delimiter=',').flatten()\n",
    "\n",
    "# Loading the structure IDs\n",
    "load_id = pd.read_csv('/home/mabbasi6/morphometry/correlation/strct_id.csv', delimiter=',')\n",
    "\n",
    "# Saving the array of Pearson Correlation Coefficient and the P-value\n",
    "pear_df = pd.DataFrame(columns=['pearson','pear_p'])\n",
    "\n",
    "for i in range (len(load_id['atlas_id'])):\n",
    "    load_ant = np.genfromtxt('/home/mabbasi6/morphometry/correlation/ant_200.csv', delimiter=',').flatten()\n",
    "    pear_df.loc[len(pear_df)] = stats.pearsonr(mask(load_ant,load_id['atlas_id'][i]),load_jac)\n",
    "\n",
    "output = pd.concat ([load_id['atlas_id'],pear_df], axis=1)\n",
    "output.to_csv('/home/mabbasi6/morphometry/correlation/jac_ant_final.csv')"
   ]
  },
  {
   "cell_type": "code",
   "execution_count": null,
   "metadata": {},
   "outputs": [],
   "source": []
  }
 ],
 "metadata": {
  "kernelspec": {
   "display_name": "Py3-basic",
   "language": "python",
   "name": "python3"
  },
  "language_info": {
   "codemirror_mode": {
    "name": "ipython",
    "version": 3
   },
   "file_extension": ".py",
   "mimetype": "text/x-python",
   "name": "python",
   "nbconvert_exporter": "python",
   "pygments_lexer": "ipython3",
   "version": "3.7.2"
  }
 },
 "nbformat": 4,
 "nbformat_minor": 2
}
