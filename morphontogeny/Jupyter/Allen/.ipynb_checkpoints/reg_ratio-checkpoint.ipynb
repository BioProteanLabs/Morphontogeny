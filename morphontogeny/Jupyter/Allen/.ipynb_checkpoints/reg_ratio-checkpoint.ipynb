{
 "cells": [
  {
   "cell_type": "code",
   "execution_count": 7,
   "metadata": {},
   "outputs": [
    {
     "name": "stdout",
     "output_type": "stream",
     "text": [
      "0\n",
      "50\n",
      "100\n",
      "150\n",
      "200\n",
      "250\n",
      "300\n",
      "350\n",
      "400\n",
      "450\n",
      "500\n",
      "550\n"
     ]
    }
   ],
   "source": [
    "import numpy as np\n",
    "import pandas as pd\n",
    "from scipy import stats\n",
    "\n",
    "# Loading the Jacobian\n",
    "load_jac_pos = np.genfromtxt('/home/mabbasi6/morphometry/correlation/jac/100_threshold/jac_tm_100pos_mask.csv', delimiter=',').flatten()\n",
    "load_jac_neg = np.genfromtxt('/home/mabbasi6/morphometry/correlation/jac/100_threshold/jac_tm_100neg_mask.csv', delimiter=',').flatten()\n",
    "\n",
    "# Loading the annotations\n",
    "load_ant = np.genfromtxt('/home/mabbasi6/morphometry/correlation/jac/100_threshold/annotation_100.csv', delimiter=',').flatten()\n",
    "\n",
    "# Loading the structure IDs\n",
    "load_id = pd.read_csv('/home/mabbasi6/morphometry/correlation/structure.csv', delimiter=',')\n",
    "\n",
    "# Saving the array of Pearson Correlation Coefficient and the P-value\n",
    "ratio_df_pos = pd.DataFrame(columns=['ratio_pos'])\n",
    "ratio_df_neg = pd.DataFrame(columns=['ratio_neg'])\n",
    "\n",
    "for i in range (len(load_id['ant_id'])):\n",
    "    # Testing if the code is running\n",
    "    if i%50==0:\n",
    "        print(i)\n",
    "    ant_ar = np.zeros(len(load_ant))\n",
    "    \n",
    "    # Masking the annotation\n",
    "    for j in range (len(load_ant)):\n",
    "        if load_ant[j]==load_id['ant_id'][i]:\n",
    "            ant_ar[j]=1.0\n",
    "    \n",
    "    # Defining the numerators of the ratios\n",
    "    jac_pos_count = np.multiply(ant_ar,load_jac_pos)\n",
    "    jac_neg_count = np.multiply(ant_ar,load_jac_neg)\n",
    "    \n",
    "    # Defining the ratio of voxels\n",
    "    ratio_df_pos.loc[len(ratio_df_pos)] = np.sum(jac_pos_count)/np.sum(ant_ar)\n",
    "    ratio_df_neg.loc[len(ratio_df_neg)] = np.sum(jac_neg_count)/np.sum(ant_ar)\n",
    "\n",
    "output = pd.concat ([load_id,ratio_df_pos,ratio_df_neg], axis=1)\n",
    "output.to_csv('/home/mabbasi6/morphometry/correlation/100/reg_ratio_100threshold.csv')"
   ]
  },
  {
   "cell_type": "code",
   "execution_count": 2,
   "metadata": {},
   "outputs": [
    {
     "name": "stdout",
     "output_type": "stream",
     "text": [
      "0\n"
     ]
    },
    {
     "name": "stderr",
     "output_type": "stream",
     "text": [
      "/packages/7x/anaconda3/5.3.0/lib/python3.7/site-packages/ipykernel_launcher.py:30: RuntimeWarning: invalid value encountered in double_scalars\n"
     ]
    },
    {
     "name": "stdout",
     "output_type": "stream",
     "text": [
      "50\n",
      "100\n",
      "150\n",
      "200\n",
      "250\n",
      "300\n",
      "350\n",
      "400\n",
      "450\n",
      "500\n",
      "550\n",
      "600\n",
      "650\n",
      "700\n",
      "750\n",
      "800\n",
      "850\n",
      "900\n",
      "950\n",
      "1000\n",
      "1050\n",
      "1100\n"
     ]
    }
   ],
   "source": [
    "import numpy as np\n",
    "import pandas as pd\n",
    "from scipy import stats\n",
    "\n",
    "def mask (loader,j):\n",
    "    copy = loader.copy()\n",
    "    copy [copy==j] = 1.0\n",
    "    copy [copy!=j] = 0.0\n",
    "    return copy\n",
    "\n",
    "# Loading the Jacobian\n",
    "load_jac = np.genfromtxt('/home/mabbasi6/morphometry/correlation/jac/100/jac_100pos_mask.csv', delimiter=',').flatten()\n",
    "\n",
    "# Loading the annotations\n",
    "load_ant = np.genfromtxt('/home/mabbasi6/morphometry/correlation/jac/100/annotation_100.csv', delimiter=',').flatten()\n",
    "\n",
    "# Loading the structure IDs\n",
    "load_id = pd.read_csv('/home/mabbasi6/morphometry/correlation/strct_list.csv', delimiter=',')\n",
    "\n",
    "# Saving the array of Pearson Correlation Coefficient and the P-value\n",
    "ratio_df = pd.DataFrame(columns=['ratio'])\n",
    "\n",
    "for i in range (len(load_id['atlas_id'])):\n",
    "    # To check if the code is running\n",
    "    if i%50==0:\n",
    "        print(i)\n",
    "    \n",
    "    reg = mask (load_ant,load_id['atlas_id'][i])\n",
    "    jac = np.multiply (mask (load_ant,load_id['atlas_id'][i]),load_jac)\n",
    "    ratio_df.loc[len(ratio_df)] = np.sum(jac)/np.sum(reg)\n",
    "\n",
    "output = pd.concat ([load_id['atlas_id'],load_id['strct_name'],ratio_df], axis=1)\n",
    "output.to_csv('/home/mabbasi6/morphometry/correlation/100/reg_100rat_function.csv')"
   ]
  },
  {
   "cell_type": "code",
   "execution_count": 2,
   "metadata": {},
   "outputs": [
    {
     "data": {
      "text/plain": [
       "112.0"
      ]
     },
     "execution_count": 2,
     "metadata": {},
     "output_type": "execute_result"
    }
   ],
   "source": [
    "import numpy as np\n",
    "import pandas as pd\n",
    "from scipy import stats\n",
    "\n",
    "# Loading the annotations\n",
    "load_ant = np.genfromtxt('/home/mabbasi6/morphometry/correlation/200/ant_200.csv', delimiter=',').flatten()\n",
    "\n",
    "copy_ant = load_ant[:]\n",
    "ant_ar = np.zeros(len(load_ant))\n",
    "\n",
    "for j in range (len(load_ant)):\n",
    "    if copy_ant[j]==570:\n",
    "        ant_ar[j]=1.0\n",
    "    \n",
    "np.sum(ant_ar)"
   ]
  },
  {
   "cell_type": "code",
   "execution_count": null,
   "metadata": {},
   "outputs": [],
   "source": [
    "import numpy as np\n",
    "import pandas as pd\n",
    "from scipy import stats\n",
    "\n",
    "# Loading the Jacobian\n",
    "load_jac = np.genfromtxt('/home/mabbasi6/morphometry/correlation/jac/csv/jac_pos_mask.csv', delimiter=',').flatten()\n",
    "\n",
    "# Loading the annotations\n",
    "load_ant = np.genfromtxt('/home/mabbasi6/morphometry/correlation/ant_200.csv', delimiter=',').flatten()\n",
    "\n",
    "# Loading the structure IDs\n",
    "load_id = pd.read_csv('/home/mabbasi6/morphometry/correlation/strct_list.csv', delimiter=',')\n",
    "\n",
    "# Saving the array of Pearson Correlation Coefficient and the P-value\n",
    "ratio_df = pd.DataFrame(columns=['ratio'])\n",
    "\n",
    "for i in range (len(load_id['atlas_id'])):\n",
    "    ant_cp = np.zeros(len(load_ant))\n",
    "    \n",
    "    for j in range (len(load_ant)):\n",
    "        if load_ant[j]==load_id['atlas_id'][i]:\n",
    "            ant_cp[j]=1.0\n",
    "    \n",
    "    jac_count = np.multiply(ant_ar,load_jac)\n",
    "    ratio_df.loc[len(ratio_df)] = np.sum(jac_count)/np.sum(ant_ar)\n",
    "\n",
    "output = pd.concat ([load_id,ratio_df], axis=1)\n",
    "output.to_csv('/home/mabbasi6/morphometry/correlation/ratio_reg_test.csv')"
   ]
  },
  {
   "cell_type": "code",
   "execution_count": null,
   "metadata": {},
   "outputs": [],
   "source": [
    "import numpy as np\n",
    "import pandas as pd\n",
    "from scipy import stats\n",
    "\n",
    "def mask (loader,j):\n",
    "    copy = loader.copy()\n",
    "    copy [copy==j] = 1.0\n",
    "    copy [copy!=j] = 0.0\n",
    "    return copy\n",
    "\n",
    "# Loading the Jacobian\n",
    "load_jac = np.genfromtxt('/home/mabbasi6/morphometry/correlation/jac/100/jac_100pos_mask.csv', delimiter=',').flatten()\n",
    "\n",
    "# Loading the annotations\n",
    "load_ant = np.genfromtxt('/home/mabbasi6/morphometry/correlation/jac/100/annotation_100.csv', delimiter=',').flatten()\n",
    "\n",
    "# Loading the structure IDs\n",
    "load_id = pd.read_csv('/home/mabbasi6/morphometry/correlation/strct_list.csv', delimiter=',')\n",
    "\n",
    "# Saving the array of Pearson Correlation Coefficient and the P-value\n",
    "ratio_df = pd.DataFrame(columns=['ratio'])\n",
    "\n",
    "for i in range (len(load_id['atlas_id'])):\n",
    "    load_ant = np.genfromtxt('/home/mabbasi6/morphometry/correlation/ant_200.csv', delimiter=',').flatten()\n",
    "    temp_ar = np.zeros(len(load_ant))\n",
    "    for j in range (len(load_ant)):\n",
    "        if load_ant[j]==load_id['atlas_id'][i]:\n",
    "            temp_ar[j]=1.0\n",
    "    \n",
    "    reg = mask(load_ant,load_id['atlas_id'][i])\n",
    "    jac = np.multiply(mask(load_ant,load_id['atlas_id'][i]),load_jac)\n",
    "    print (np.sum(jac))\n",
    "#     ratio_df.loc[len(ratio_df)] = np.sum(jac)/np.sum(reg)\n",
    "\n",
    "output = pd.concat ([load_id['atlas_id'],ratio_df], axis=1)\n",
    "output.to_csv('/home/mabbasi6/morphometry/correlation/ratio_reg.csv')"
   ]
  }
 ],
 "metadata": {
  "kernelspec": {
   "display_name": "Py3-basic",
   "language": "python",
   "name": "python3"
  },
  "language_info": {
   "codemirror_mode": {
    "name": "ipython",
    "version": 3
   },
   "file_extension": ".py",
   "mimetype": "text/x-python",
   "name": "python",
   "nbconvert_exporter": "python",
   "pygments_lexer": "ipython3",
   "version": "3.7.2"
  }
 },
 "nbformat": 4,
 "nbformat_minor": 2
}
