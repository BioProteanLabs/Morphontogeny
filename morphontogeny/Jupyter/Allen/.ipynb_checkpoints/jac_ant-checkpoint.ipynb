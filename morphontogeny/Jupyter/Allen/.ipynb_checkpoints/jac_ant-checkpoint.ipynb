{
 "cells": [
  {
   "cell_type": "markdown",
   "metadata": {},
   "source": [
    "This is to test correlation of different brain regions with positive and negative jacobian data (as masks)."
   ]
  },
  {
   "cell_type": "code",
   "execution_count": 58,
   "metadata": {},
   "outputs": [],
   "source": [
    "import numpy as np\n",
    "import pandas as pd\n",
    "from scipy import stats\n",
    "\n",
    "# Defining the function to mask the annotation by the region\n",
    "def mask (loader,j):\n",
    "    loader [loader!=j] = 0\n",
    "    loader [loader==j] = 1\n",
    "    return loader\n",
    "\n",
    "# Loading the Jacobian\n",
    "load_jac = np.genfromtxt('/home/mabbasi6/morphometry/correlation/jac/csv/jac_pos_mask.csv', delimiter=',').flatten()\n",
    "\n",
    "# Loading the annotations\n",
    "load_ant = np.genfromtxt('/home/mabbasi6/morphometry/correlation/ant_200.csv', delimiter=',').flatten()\n",
    "\n",
    "# Loading the structure IDs\n",
    "load_id = pd.read_csv('/home/mabbasi6/morphometry/correlation/strct_id.csv', delimiter=',')\n",
    "\n",
    "# Saving the array of Pearson Correlation Coefficient and the P-value\n",
    "pear_df = pd.DataFrame(columns=['pearson','pear_p'])"
   ]
  },
  {
   "cell_type": "code",
   "execution_count": 53,
   "metadata": {},
   "outputs": [
    {
     "ename": "SyntaxError",
     "evalue": "unexpected EOF while parsing (<ipython-input-53-e306b56a9e3b>, line 5)",
     "output_type": "error",
     "traceback": [
      "\u001b[0;36m  File \u001b[0;32m\"<ipython-input-53-e306b56a9e3b>\"\u001b[0;36m, line \u001b[0;32m5\u001b[0m\n\u001b[0;31m    #output.to_csv('/home/mabbasi6/morphometry/correlation/pos_reg.csv')\u001b[0m\n\u001b[0m                                                                        ^\u001b[0m\n\u001b[0;31mSyntaxError\u001b[0m\u001b[0;31m:\u001b[0m unexpected EOF while parsing\n"
     ]
    }
   ],
   "source": [
    "# Testing the correlation of columns and adding to the output dataframe\n",
    "pear_df.loc[len(pear_df)] = stats.pearsonr(mask(load_ant,151),load_jac)\n",
    "output = pd.concat ([load_id['atlas_id'],pear_df], axis=1)\n",
    "print(output\n",
    "#output.to_csv('/home/mabbasi6/morphometry/correlation/pos_reg.csv')"
   ]
  },
  {
   "cell_type": "code",
   "execution_count": 77,
   "metadata": {},
   "outputs": [
    {
     "data": {
      "text/plain": [
       "0.0"
      ]
     },
     "execution_count": 77,
     "metadata": {},
     "output_type": "execute_result"
    }
   ],
   "source": [
    "label = load_id['atlas_id'][40]\n",
    "np.sum(mask(load_ant,label))\n",
    "#pear_df.loc[len(pear_df)] = stats.pearsonr(mask(load_ant,label),load_jac)\n",
    "#np.savetxt('/home/mabbasi6/morphometry/correlation/test.csv',mask(load_ant,label))\n",
    "#print(stats.pearsonr(mask(load_ant,label),load_jac))\n",
    "# output = pd.concat ([load_id['atlas_id'],pear_df], axis=1)\n",
    "# output.to_csv('/home/mabbasi6/morphometry/correlation/jac_ant2.csv')"
   ]
  },
  {
   "cell_type": "code",
   "execution_count": 47,
   "metadata": {},
   "outputs": [
    {
     "name": "stdout",
     "output_type": "stream",
     "text": [
      "[-- -- 2 3 4 5]\n",
      "[-- -- 2 -- -- --]\n"
     ]
    }
   ],
   "source": [
    "import numpy as np\n",
    "import numpy.ma as ma\n",
    "\n",
    "A = [0,1,2,3,4,5]\n",
    "B = 2\n",
    "\n",
    "ma_arr = ma.masked_less(A,B)\n",
    "print(ma_arr)\n",
    "final = ma.masked_greater(ma_arr,B)\n",
    "print(final)"
   ]
  },
  {
   "cell_type": "code",
   "execution_count": 12,
   "metadata": {},
   "outputs": [
    {
     "data": {
      "text/plain": [
       "array([ 0,  3,  8, 15, 24, 35])"
      ]
     },
     "execution_count": 12,
     "metadata": {},
     "output_type": "execute_result"
    }
   ],
   "source": [
    "A = np.array([0,1,2,3,4,5])\n",
    "C = np.array([2,3,4,5,6,7])\n",
    "B = 2\n",
    "\n",
    "D = np.multiply (A,C)\n",
    "D"
   ]
  },
  {
   "cell_type": "code",
   "execution_count": 45,
   "metadata": {},
   "outputs": [
    {
     "name": "stderr",
     "output_type": "stream",
     "text": [
      "/packages/7x/anaconda3/5.3.0/lib/python3.7/site-packages/scipy/stats/stats.py:3038: RuntimeWarning: invalid value encountered in double_scalars\n",
      "  r = r_num / r_den\n"
     ]
    }
   ],
   "source": [
    "for i in range (len(load_id['atlas_id'])):\n",
    "    \n",
    "    # Masking the annotation by the region\n",
    "    strctid = load_id['atlas_id'][i]\n",
    "    masked_ant = np.multiply (mask_annotation (load_ant,strctid), load_ant)\n",
    "\n",
    "    # Making pandas Dataframe to store masked annotation and Jacobian\n",
    "    inp1 = pd.DataFrame(masked_ant, columns=['ANT'])\n",
    "    inp2 = pd.DataFrame(load_jac, columns=['JAC'])\n",
    "    df = pd.concat([inp1,inp2], axis=1)\n",
    "    \n",
    "    # Testing the correlation of columns and adding to the output dataframe\n",
    "    output.loc[0,i] = stats.pearsonr(df['ANT'],df['JAC'])[0]\n",
    "    \n",
    "# Saving the output file\n",
    "output.to_csv('/home/mabbasi6/morphometry/correlation/pos_reg.csv')"
   ]
  },
  {
   "cell_type": "code",
   "execution_count": null,
   "metadata": {},
   "outputs": [],
   "source": []
  }
 ],
 "metadata": {
  "kernelspec": {
   "display_name": "Py3-basic",
   "language": "python",
   "name": "python3"
  },
  "language_info": {
   "codemirror_mode": {
    "name": "ipython",
    "version": 3
   },
   "file_extension": ".py",
   "mimetype": "text/x-python",
   "name": "python",
   "nbconvert_exporter": "python",
   "pygments_lexer": "ipython3",
   "version": "3.7.2"
  }
 },
 "nbformat": 4,
 "nbformat_minor": 2
}
