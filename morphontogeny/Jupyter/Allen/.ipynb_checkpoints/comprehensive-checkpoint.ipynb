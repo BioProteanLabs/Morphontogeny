{
 "cells": [
  {
   "cell_type": "code",
   "execution_count": 2,
   "metadata": {},
   "outputs": [
    {
     "name": "stdout",
     "output_type": "stream",
     "text": [
      "0\n"
     ]
    },
    {
     "name": "stderr",
     "output_type": "stream",
     "text": [
      "/packages/7x/anaconda3/5.3.0/lib/python3.7/site-packages/scipy/stats/stats.py:3033: RuntimeWarning: Mean of empty slice.\n",
      "  mx = x.mean()\n",
      "/packages/7x/anaconda3/5.3.0/lib/python3.7/site-packages/numpy/core/_methods.py:85: RuntimeWarning: invalid value encountered in double_scalars\n",
      "  ret = ret.dtype.type(ret / rcount)\n",
      "/packages/7x/anaconda3/5.3.0/lib/python3.7/site-packages/scipy/stats/stats.py:3034: RuntimeWarning: Mean of empty slice.\n",
      "  my = y.mean()\n",
      "/packages/7x/anaconda3/5.3.0/lib/python3.7/site-packages/scipy/stats/stats.py:3038: RuntimeWarning: invalid value encountered in double_scalars\n",
      "  r = r_num / r_den\n"
     ]
    },
    {
     "name": "stdout",
     "output_type": "stream",
     "text": [
      "1000\n",
      "2000\n",
      "3000\n",
      "4000\n",
      "5000\n",
      "6000\n",
      "7000\n",
      "8000\n",
      "9000\n",
      "10000\n",
      "11000\n",
      "12000\n",
      "13000\n",
      "14000\n",
      "15000\n",
      "16000\n",
      "17000\n",
      "18000\n",
      "19000\n",
      "20000\n",
      "21000\n",
      "22000\n",
      "23000\n",
      "24000\n",
      "25000\n"
     ]
    }
   ],
   "source": [
    "import numpy as np\n",
    "import pandas as pd\n",
    "from scipy import stats\n",
    "\n",
    "# Loading the table of gene ids, to use for opening the ISH files.\n",
    "load_list = pd.read_csv('/home/mabbasi6/morphometry/correlation/list_genes.csv')\n",
    "\n",
    "# Loading the Jacobian\n",
    "load_jac = np.genfromtxt ('/home/mabbasi6/morphometry/correlation/jac/csv/jac_masked.csv', delimiter=',').flatten()\n",
    "\n",
    "# Saving the array of correlation coefficients and the P-value\n",
    "pearson = pd.DataFrame (columns=['pearson','pear_p'])\n",
    "spearman = pd.DataFrame (columns=['spearman','spear_p'])\n",
    "kendall = pd.DataFrame (columns=['kendall','kendall_p'])\n",
    "\n",
    "for i in range (len(load_list['data_set_id'])):\n",
    "    # To test if working\n",
    "    if i%500==0:\n",
    "        print (i)\n",
    "    \n",
    "    # Loading the ISH file and flattening it (1D array)\n",
    "    load_ish = np.genfromtxt('/home/mabbasi6/morphometry/correlation/data/'+str(load_list['data_set_id'][i])+'.csv', \\\n",
    "                             delimiter=',', skip_header=1, usecols=range(1,2379)).flatten()\n",
    "    \n",
    "    # Replacing -1 values with NaN in order to avoid miscalculations in correlation analysis\n",
    "    load_ish [load_ish < 0] = np.nan\n",
    "    \n",
    "    # Making a mask from the ISH data\n",
    "    mask = np.heaviside (load_ish, 1)\n",
    "    \n",
    "    # Masking the Jacobian by the ISH data\n",
    "    masked_jac = np.multiply (mask, load_jac)\n",
    "    \n",
    "    # Making pandas Dataframe to store masked jacobian and ISH\n",
    "    inp1 = pd.DataFrame(load_ish, columns=['ISH'])\n",
    "    inp2 = pd.DataFrame(masked_jac, columns=['JAC'])\n",
    "    df = pd.concat ([inp1,inp2], axis=1).dropna()\n",
    "    \n",
    "    # Testing the correlation of ISH and JAC columns and adding to the output dataframe\n",
    "    pearson.loc[len(pearson)] = stats.pearsonr (df['ISH'],df['JAC'])\n",
    "    spearman.loc[len(spearman)] = stats.spearmanr (df['ISH'],df['JAC'])\n",
    "    kendall.loc[len(kendall)] = stats.kendalltau (df['ISH'],df['JAC'])\n",
    "\n",
    "# Concatenating the dataframes and saving it\n",
    "comprehensive = pd.concat ([pearson,spearman,kendall], axis=1)\n",
    "comprehensive.to_csv('/home/mabbasi6/morphometry/correlation/comprehensive.csv')"
   ]
  },
  {
   "cell_type": "code",
   "execution_count": 4,
   "metadata": {},
   "outputs": [
    {
     "name": "stdout",
     "output_type": "stream",
     "text": [
      "159326\n"
     ]
    }
   ],
   "source": [
    "import numpy as np\n",
    "import pandas as pd\n",
    "from scipy import stats\n",
    "\n",
    "# Loading the table of gene ids, to use for opening the ISH files.\n",
    "load_list = pd.read_csv('/home/mabbasi6/morphometry/correlation/list_genes.csv')\n",
    "\n",
    "# Loading the flattened Jacobian\n",
    "load_jac = np.genfromtxt ('/home/mabbasi6/morphometry/correlation/jac/csv/jac_masked.csv', delimiter=',').flatten()\n",
    "\n",
    "# Saving the array of correlation coefficients and the P-value\n",
    "pearson = pd.DataFrame (columns=['pearson','pear_p'])\n",
    "spearman = pd.DataFrame (columns=['spearman','spear_p'])\n",
    "kendall = pd.DataFrame (columns=['kendall','kendall_p'])"
   ]
  },
  {
   "cell_type": "code",
   "execution_count": null,
   "metadata": {},
   "outputs": [],
   "source": []
  }
 ],
 "metadata": {
  "kernelspec": {
   "display_name": "Py3-basic",
   "language": "python",
   "name": "python3"
  },
  "language_info": {
   "codemirror_mode": {
    "name": "ipython",
    "version": 3
   },
   "file_extension": ".py",
   "mimetype": "text/x-python",
   "name": "python",
   "nbconvert_exporter": "python",
   "pygments_lexer": "ipython3",
   "version": "3.7.2"
  }
 },
 "nbformat": 4,
 "nbformat_minor": 2
}
