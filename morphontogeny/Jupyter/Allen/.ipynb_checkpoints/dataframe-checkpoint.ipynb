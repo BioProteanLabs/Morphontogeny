{
 "cells": [
  {
   "cell_type": "markdown",
   "metadata": {},
   "source": [
    "This is to make Pandas dataframes."
   ]
  },
  {
   "cell_type": "code",
   "execution_count": 22,
   "metadata": {},
   "outputs": [
    {
     "name": "stdout",
     "output_type": "stream",
     "text": [
      "        Gene  Warp\n",
      "0       -1.0   NaN\n",
      "1       -1.0   NaN\n",
      "2       -1.0   NaN\n",
      "3       -1.0   NaN\n",
      "4       -1.0   NaN\n",
      "5       -1.0   NaN\n",
      "6       -1.0   NaN\n",
      "7       -1.0   NaN\n",
      "8       -1.0   NaN\n",
      "9       -1.0   NaN\n",
      "10      -1.0   NaN\n",
      "11      -1.0   NaN\n",
      "12      -1.0   NaN\n",
      "13      -1.0   NaN\n",
      "14      -1.0   NaN\n",
      "15      -1.0   NaN\n",
      "16      -1.0   NaN\n",
      "17      -1.0   NaN\n",
      "18      -1.0   NaN\n",
      "19      -1.0   NaN\n",
      "20      -1.0   NaN\n",
      "21      -1.0   NaN\n",
      "22      -1.0   NaN\n",
      "23      -1.0   NaN\n",
      "24      -1.0   NaN\n",
      "25      -1.0   NaN\n",
      "26      -1.0   NaN\n",
      "27      -1.0   NaN\n",
      "28      -1.0   NaN\n",
      "29      -1.0   NaN\n",
      "...      ...   ...\n",
      "159296   NaN   NaN\n",
      "159297   NaN   NaN\n",
      "159298   NaN   NaN\n",
      "159299   NaN   NaN\n",
      "159300   NaN   NaN\n",
      "159301   NaN   NaN\n",
      "159302   NaN   NaN\n",
      "159303   NaN   NaN\n",
      "159304   NaN   NaN\n",
      "159305   NaN   NaN\n",
      "159306   NaN   NaN\n",
      "159307   NaN   NaN\n",
      "159308   NaN   NaN\n",
      "159309   NaN   NaN\n",
      "159310   NaN   NaN\n",
      "159311   NaN   NaN\n",
      "159312   NaN   NaN\n",
      "159313   NaN   NaN\n",
      "159314   NaN   NaN\n",
      "159315   NaN   NaN\n",
      "159316   NaN   NaN\n",
      "159317   NaN   NaN\n",
      "159318   NaN   NaN\n",
      "159319   NaN   NaN\n",
      "159320   NaN   NaN\n",
      "159321   NaN   NaN\n",
      "159322   NaN   NaN\n",
      "159323   NaN   NaN\n",
      "159324   NaN   NaN\n",
      "159325   NaN   NaN\n",
      "\n",
      "[318652 rows x 2 columns]\n",
      "      Gene  Warp\n",
      "Gene   1.0   NaN\n",
      "Warp   NaN   1.0\n"
     ]
    },
    {
     "name": "stderr",
     "output_type": "stream",
     "text": [
      "/packages/7x/anaconda3/5.3.0/lib/python3.7/site-packages/ipykernel_launcher.py:7: FutureWarning: Sorting because non-concatenation axis is not aligned. A future version\n",
      "of pandas will change to not sort by default.\n",
      "\n",
      "To accept the future behavior, pass 'sort=False'.\n",
      "\n",
      "To retain the current behavior and silence the warning, pass 'sort=True'.\n",
      "\n",
      "  import sys\n"
     ]
    }
   ],
   "source": [
    "import pandas as pd\n",
    "import numpy as np\n",
    "\n",
    "a = pd.read_csv('/home/mabbasi6/morphometry/correlation/flatten/3.csv', names=['Gene'])\n",
    "b = pd.read_csv('/home/mabbasi6/morphometry/correlation/flatten/ttest_3.csv', names=['Warp'])\n",
    "join = [a,b]\n",
    "c = pd.concat (join)\n",
    "print(c)\n",
    "print(c.corr(method='pearson'))"
   ]
  },
  {
   "cell_type": "code",
   "execution_count": 15,
   "metadata": {},
   "outputs": [
    {
     "name": "stdout",
     "output_type": "stream",
     "text": [
      "nan\n"
     ]
    }
   ],
   "source": [
    "import numpy\n",
    "\n",
    "d = numpy.nan\n",
    "print(d)"
   ]
  },
  {
   "cell_type": "code",
   "execution_count": null,
   "metadata": {},
   "outputs": [],
   "source": []
  }
 ],
 "metadata": {
  "kernelspec": {
   "display_name": "Py3-basic",
   "language": "python",
   "name": "python3"
  },
  "language_info": {
   "codemirror_mode": {
    "name": "ipython",
    "version": 3
   },
   "file_extension": ".py",
   "mimetype": "text/x-python",
   "name": "python",
   "nbconvert_exporter": "python",
   "pygments_lexer": "ipython3",
   "version": "3.7.2"
  }
 },
 "nbformat": 4,
 "nbformat_minor": 2
}
