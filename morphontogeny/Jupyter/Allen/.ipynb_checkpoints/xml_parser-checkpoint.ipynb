{
 "cells": [
  {
   "cell_type": "markdown",
   "metadata": {},
   "source": [
    "This is to extract information from the XML file."
   ]
  },
  {
   "cell_type": "code",
   "execution_count": 1,
   "metadata": {},
   "outputs": [],
   "source": [
    "# Reading xml file\n",
    "import xml.etree.ElementTree as ET\n",
    "tree = ET.parse('/home/mabbasi6/morphometry/correlation/structure.xml')\n",
    "root = tree.getroot()"
   ]
  },
  {
   "cell_type": "code",
   "execution_count": 2,
   "metadata": {},
   "outputs": [],
   "source": [
    "# Making pandas dataframes to store data\n",
    "import pandas as pd\n",
    "import numpy as np\n",
    "\n",
    "ish_id = pd.DataFrame (columns=['ish_id'])\n",
    "name = pd.DataFrame (columns=['structure'])\n",
    "ant_id = pd.DataFrame (columns=['ant_id'])\n",
    "acronym = pd.DataFrame (columns=['acronym'])"
   ]
  },
  {
   "cell_type": "code",
   "execution_count": 7,
   "metadata": {},
   "outputs": [],
   "source": [
    "# Going over data for integers:\n",
    "for xml_parser in root.iter('acronym'):\n",
    "    if xml_parser.text == None:\n",
    "        ant_id.loc[len(ant_id)] = np.nan\n",
    "    else:\n",
    "        ant_id.loc[len(ant_id)] = int(xml_parser.text)\n",
    "    acronym.loc[len(acronym)] = xml_parser.text"
   ]
  },
  {
   "cell_type": "code",
   "execution_count": null,
   "metadata": {},
   "outputs": [],
   "source": [
    "# Going over data for names\n",
    "for xml_parser in root.iter('acronym'):\n",
    "    acronym.loc[len(acronym)] = xml_parser.text"
   ]
  },
  {
   "cell_type": "code",
   "execution_count": 8,
   "metadata": {},
   "outputs": [],
   "source": [
    "# Concatenating the dataframes and saving the csv file\n",
    "df = pd.concat ([name,acronym,ish_id,ant_id], axis=1)\n",
    "df.to_csv('/home/mabbasi6/morphometry/correlation/structure.csv')"
   ]
  },
  {
   "cell_type": "code",
   "execution_count": 64,
   "metadata": {},
   "outputs": [],
   "source": [
    "id = id.dropna()\n",
    "id.to_csv('/home/mabbasi6/morphometry/correlation/strct_id.csv')"
   ]
  },
  {
   "cell_type": "code",
   "execution_count": 54,
   "metadata": {},
   "outputs": [],
   "source": [
    "for strct_name in root.iter('name'):\n",
    "    name.loc[len(name)] = strct_name.text"
   ]
  },
  {
   "cell_type": "code",
   "execution_count": 57,
   "metadata": {},
   "outputs": [],
   "source": [
    "df = pd.concat ([id,name], axis=1).dropna()"
   ]
  },
  {
   "cell_type": "code",
   "execution_count": 58,
   "metadata": {},
   "outputs": [],
   "source": [
    "df.to_csv('/home/mabbasi6/morphometry/correlation/strct_list.csv')"
   ]
  },
  {
   "cell_type": "markdown",
   "metadata": {},
   "source": [
    "Done!"
   ]
  },
  {
   "cell_type": "code",
   "execution_count": null,
   "metadata": {},
   "outputs": [],
   "source": []
  }
 ],
 "metadata": {
  "kernelspec": {
   "display_name": "Py3-basic",
   "language": "python",
   "name": "python3"
  },
  "language_info": {
   "codemirror_mode": {
    "name": "ipython",
    "version": 3
   },
   "file_extension": ".py",
   "mimetype": "text/x-python",
   "name": "python",
   "nbconvert_exporter": "python",
   "pygments_lexer": "ipython3",
   "version": "3.7.2"
  }
 },
 "nbformat": 4,
 "nbformat_minor": 2
}
