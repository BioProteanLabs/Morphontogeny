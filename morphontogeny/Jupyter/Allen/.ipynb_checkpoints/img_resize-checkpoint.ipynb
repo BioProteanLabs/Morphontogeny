{
 "cells": [
  {
   "cell_type": "code",
   "execution_count": null,
   "metadata": {},
   "outputs": [],
   "source": [
    "import numpy as np\n",
    "import scipy.ndimage\n",
    "\n",
    "x = np.arange(9).reshape(3,3)\n",
    "\n",
    "print 'Original array:'\n",
    "print x\n",
    "\n",
    "print 'Resampled by a factor of 2 with nearest interpolation:'\n",
    "print scipy.ndimage.zoom(x, 2, order=0)\n",
    "\n",
    "\n",
    "print 'Resampled by a factor of 2 with bilinear interpolation:'\n",
    "print scipy.ndimage.zoom(x, 2, order=1)\n",
    "\n",
    "\n",
    "print 'Resampled by a factor of 2 with cubic interpolation:'\n",
    "print scipy.ndimage.zoom(x, 2, order=3)"
   ]
  },
  {
   "cell_type": "code",
   "execution_count": null,
   "metadata": {},
   "outputs": [],
   "source": []
  }
 ],
 "metadata": {
  "kernelspec": {
   "display_name": "Py3-basic",
   "language": "python",
   "name": "python3"
  },
  "language_info": {
   "codemirror_mode": {
    "name": "ipython",
    "version": 3
   },
   "file_extension": ".py",
   "mimetype": "text/x-python",
   "name": "python",
   "nbconvert_exporter": "python",
   "pygments_lexer": "ipython3",
   "version": "3.7.2"
  }
 },
 "nbformat": 4,
 "nbformat_minor": 2
}
