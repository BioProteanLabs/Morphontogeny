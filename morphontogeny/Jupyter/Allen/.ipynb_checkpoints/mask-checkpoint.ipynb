{
 "cells": [
  {
   "cell_type": "code",
   "execution_count": null,
   "metadata": {},
   "outputs": [],
   "source": [
    "import numpy as np\n",
    "import pandas as pd\n",
    "from scipy import stats\n",
    "\n",
    "# Defining the function to mask the ISH or Jacobian by the region\n",
    "def mask_annotation (loader,j):\n",
    "    loader [loader!=j] = np.nan\n",
    "    loader [loader==j] = 1\n",
    "    return loader\n",
    "\n",
    "# Loading the table of gene ids, to use for opening the ISH files.\n",
    "load_list = pd.read_csv('/home/mabbasi6/morphometry/correlation/list_genes.csv')\n",
    "\n",
    "# Loading the flattened Jacobian\n",
    "load_jac = np.loadtxt('/home/mabbasi6/morphometry/correlation/flatten/ttest.csv', delimiter=',')\n",
    "\n",
    "# Loading the annotations\n",
    "load_ant = np.genfromtxt('/home/mabbasi6/morphometry/correlation/ant_200.csv', delimiter=',').flatten()\n",
    "\n",
    "# Loading the structure IDs\n",
    "load_id = np.loadtxt('/home/mabbasi6/morphometry/correlation/ids_test.csv', delimiter=',')\n",
    "\n",
    "# Saving the array of Pearson Correlation Coefficient and the P-value\n",
    "output = pd.DataFrame(columns=[str(load_id[k]) for k in range (len(load_id))])\n",
    "\n",
    "# Looping the genes\n",
    "for i in range (len(load_list['data_set_id'])):\n",
    "    \n",
    "    if i%200==0:\n",
    "        print(i)\n",
    "    \n",
    "    # Loading the ISH file and flattening it (1D array)\n",
    "    load_ish = np.genfromtxt('/home/mabbasi6/morphometry/correlation/data/'+str(load_list['data_set_id'][i])+'.csv', \\\n",
    "                             delimiter=',', skip_header=1, usecols=range(1,2379)).flatten()\n",
    "    \n",
    "    for j in range (len(load_id)):\n",
    "        \n",
    "        # Masking data by annotation\n",
    "        masked_ish = np.multiply(mask_annotation (load_ant,j), load_ish)\n",
    "        masked_jac = np.multiply(mask_annotation (load_ant,j), load_jac)\n",
    "    \n",
    "        # Making pandas Dataframe to store masked jacobian and ISH\n",
    "        inp1 = pd.DataFrame(masked_ish, columns=['ISH'])\n",
    "        inp2 = pd.DataFrame(masked_jac, columns=['JAC'])\n",
    "        df = pd.concat([inp1,inp2], axis=1).dropna()\n",
    "    \n",
    "        # Testing the correlation of ISH and JAC columns and adding to the output dataframe\n",
    "        output.loc[len(output)][str(j)] = stats.pearsonr(df['ISH'],df['JAC'])[0]\n",
    "        \n",
    "# Saving the output file\n",
    "output.to_csv('/home/mabbasi6/morphometry/correlation/corr_334.csv')"
   ]
  },
  {
   "cell_type": "code",
   "execution_count": null,
   "metadata": {},
   "outputs": [],
   "source": []
  }
 ],
 "metadata": {
  "kernelspec": {
   "display_name": "Py3-basic",
   "language": "python",
   "name": "python3"
  },
  "language_info": {
   "codemirror_mode": {
    "name": "ipython",
    "version": 3
   },
   "file_extension": ".py",
   "mimetype": "text/x-python",
   "name": "python",
   "nbconvert_exporter": "python",
   "pygments_lexer": "ipython3",
   "version": "3.7.2"
  }
 },
 "nbformat": 4,
 "nbformat_minor": 2
}
