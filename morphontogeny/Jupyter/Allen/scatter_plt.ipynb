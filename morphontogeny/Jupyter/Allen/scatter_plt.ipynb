{
 "cells": [
  {
   "cell_type": "markdown",
   "metadata": {},
   "source": [
    "# This is to scatter plot gene vs gene"
   ]
  },
  {
   "cell_type": "code",
   "execution_count": null,
   "metadata": {},
   "outputs": [],
   "source": [
    "import numpy as np\n",
    "import pandas as pd\n",
    "import matplotlib.pyplot as plt\n",
    "\n",
    "load_jac = np.loadtxt ('/home/mabbasi6/morphometry/correlation/flatten/ttest.csv', delimiter=',')\n",
    "load_ish = np.genfromtxt('/home/mabbasi6/morphometry/correlation/data/69816709.csv', \\\n",
    "                             delimiter=',', skip_header=1, usecols=range(1,2379)).flatten()\n",
    "\n",
    "load_ish [load_ish < 0] = np.nan\n",
    "mask = np.heaviside (load_ish, 1)\n",
    "masked_jac = np.multiply (mask, load_jac)\n",
    "\n",
    "inp1 = pd.DataFrame(load_ish, columns=['ISH'])\n",
    "inp2 = pd.DataFrame(masked_jac, columns=['JAC'])\n",
    "df = pd.concat ([inp1,inp2], axis=1).dropna()\n",
    "\n",
    "plt.scatter(df['ISH'], df['JAC'], marker='o')"
   ]
  },
  {
   "cell_type": "code",
   "execution_count": null,
   "metadata": {},
   "outputs": [],
   "source": []
  }
 ],
 "metadata": {
  "kernelspec": {
   "display_name": "Py3-basic",
   "language": "python",
   "name": "python3"
  },
  "language_info": {
   "codemirror_mode": {
    "name": "ipython",
    "version": 3
   },
   "file_extension": ".py",
   "mimetype": "text/x-python",
   "name": "python",
   "nbconvert_exporter": "python",
   "pygments_lexer": "ipython3",
   "version": "3.7.2"
  }
 },
 "nbformat": 4,
 "nbformat_minor": 2
}
