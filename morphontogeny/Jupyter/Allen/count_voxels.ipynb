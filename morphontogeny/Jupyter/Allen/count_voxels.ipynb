{
 "cells": [
  {
   "cell_type": "code",
   "execution_count": 3,
   "metadata": {},
   "outputs": [
    {
     "data": {
      "text/plain": [
       "93.0"
      ]
     },
     "execution_count": 3,
     "metadata": {},
     "output_type": "execute_result"
    }
   ],
   "source": [
    "import numpy as np\n",
    "import pandas as pd\n",
    "from scipy import stats\n",
    "\n",
    "# Loading the annotations\n",
    "load_ant = np.genfromtxt('/home/mabbasi6/morphometry/correlation/ant_200.csv', delimiter=',').flatten()\n",
    "\n",
    "# Loading the structure IDs\n",
    "load_id = pd.read_csv('/home/mabbasi6/morphometry/correlation/strct_list.csv', delimiter=',')\n",
    "    \n",
    "for j in range (len(load_ant)):\n",
    "    #if load_ant[j]==load_id['atlas_id'][i]:\n",
    "    if load_ant[j]==77:\n",
    "        ant_ar[j]=1.0\n",
    "\n",
    "np.sum(ant_ar)"
   ]
  },
  {
   "cell_type": "code",
   "execution_count": null,
   "metadata": {},
   "outputs": [],
   "source": []
  }
 ],
 "metadata": {
  "kernelspec": {
   "display_name": "Py3-basic",
   "language": "python",
   "name": "python3"
  },
  "language_info": {
   "codemirror_mode": {
    "name": "ipython",
    "version": 3
   },
   "file_extension": ".py",
   "mimetype": "text/x-python",
   "name": "python",
   "nbconvert_exporter": "python",
   "pygments_lexer": "ipython3",
   "version": "3.7.2"
  }
 },
 "nbformat": 4,
 "nbformat_minor": 2
}
